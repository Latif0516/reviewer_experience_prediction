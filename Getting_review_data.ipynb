{
 "cells": [
  {
   "cell_type": "markdown",
   "metadata": {},
   "source": [
    "#Using Trickery to Get Review Data from Steam"
   ]
  },
  {
   "cell_type": "code",
   "execution_count": 1,
   "metadata": {
    "collapsed": true
   },
   "outputs": [],
   "source": [
    "# Let's say that the URL for a game is the following\n",
    "url = 'http://steamcommunity.com/app/730/homecontent/?userreviewsoffset=0&p=1&itemspage=1&screenshotspage=1&videospage=1&artpage=1&allguidepage=1&webguidepage=1&integratedguidepage=1&discussionspage=1&appid=730&appHubSubSection=10&appHubSubSection=10&l=english&browsefilter=toprated&filterLanguage=default&searchText=&forceanon=1'\n",
    "# The game is actually Counter-Strike: Global Offensive (CS: GO)\n",
    "# It's difficult to see, but there are a few parts of the URL that are of\n",
    "# interest to us\n",
    "# 1. '/app/730' tells us that the appid is 730, which corresponds to\n",
    "#    Counter-Strike: Global Offensive (CS: GO)\n",
    "#    - this info is also later in the URL: 'appid=730'\n",
    "# 2. 'userreviewsoffset=0' - this is the start number for the review results\n",
    "#    - if 0, that means that the reviews we see will be 0 through 9\n",
    "#    - if 1, 10 through 19, etc.\n",
    "# 3. there are numerous parts that end in 'page=1' - the number here refers\n",
    "#    to an iterator that stores how many 10-review pages you've seen (i.e.,\n",
    "#    usually by hovering at the bottom of the reviews results page to make\n",
    "#    more visible)\n",
    "#    - userreviewsoffset = 0, then page should be 1\n",
    "#    - if userreviewsoffset 10, then page should be 2,\n",
    "#    - if userreviewsoffset 20, thenpage should be 3,\n",
    "#    - etc.\n",
    "# So, this will allow us to make a for loop to go through all possible pages\n",
    "# of reviews!"
   ]
  },
  {
   "cell_type": "code",
   "execution_count": 2,
   "metadata": {
    "collapsed": false
   },
   "outputs": [
    {
     "name": "stdout",
     "output_type": "stream",
     "text": [
      "http://steamcommunity.com/app/730/homecontent/?userreviewsoffset=0&p=1&itemspage=1&screenshotspage=1&videospage=1&artpage=1&allguidepage=1&webguidepage=1&integratedguidepage=1&discussionspage=1&appid=730&appHubSubSection=10&appHubSubSection=10&l=english&browsefilter=toprated&filterLanguage=default&searchText=&forceanon=1\n"
     ]
    }
   ],
   "source": [
    "# Let's redefine the URL with format specifiers so that we use the URL in\n",
    "# a loop\n",
    "# We'll set the game ID (appid), range beginning value (range_begin), and\n",
    "# increment value (i)\n",
    "appid = '730'\n",
    "range_begin = '0'\n",
    "i = '1'\n",
    "url = 'http://steamcommunity.com/app/{0}/homecontent/?userreviewsoffset={1}&p=1&itemspage={2}&screenshotspage={2}&videospage={2}&artpage={2}&allguidepage={2}&webguidepage={2}&integratedguidepage={2}&discussionspage={2}&appid={0}&appHubSubSection=10&appHubSubSection=10&l=english&browsefilter=toprated&filterLanguage=default&searchText=&forceanon=1'.format(appid, range_begin, i)\n",
    "print url"
   ]
  },
  {
   "cell_type": "code",
   "execution_count": 3,
   "metadata": {
    "collapsed": true
   },
   "outputs": [],
   "source": [
    "# The link above will not work if you try to go to it directly\n",
    "# However, if you go to the link and then try to view the source HTML,\n",
    "# you will be able to see the HTML"
   ]
  },
  {
   "cell_type": "code",
   "execution_count": 4,
   "metadata": {
    "collapsed": true
   },
   "outputs": [],
   "source": [
    "# We can read, parse, and then extract the content at the URL using\n",
    "# lxml and requests modules\n",
    "from lxml import html\n",
    "import requests"
   ]
  },
  {
   "cell_type": "code",
   "execution_count": 5,
   "metadata": {
    "collapsed": true
   },
   "outputs": [],
   "source": [
    "# Let's use requests.get() to get the page\n",
    "page = requests.get(url)"
   ]
  },
  {
   "cell_type": "code",
   "execution_count": 6,
   "metadata": {
    "collapsed": false
   },
   "outputs": [
    {
     "data": {
      "text/plain": [
       "['apparent_encoding',\n",
       " 'close',\n",
       " 'connection',\n",
       " 'content',\n",
       " 'cookies',\n",
       " 'elapsed',\n",
       " 'encoding',\n",
       " 'headers',\n",
       " 'history',\n",
       " 'iter_content',\n",
       " 'iter_lines',\n",
       " 'json',\n",
       " 'links',\n",
       " 'ok',\n",
       " 'raise_for_status',\n",
       " 'raw',\n",
       " 'reason',\n",
       " 'request',\n",
       " 'status_code',\n",
       " 'text',\n",
       " 'url']"
      ]
     },
     "execution_count": 6,
     "metadata": {},
     "output_type": "execute_result"
    }
   ],
   "source": [
    "# Let's take a look at the attributes of the page object\n",
    "[a for a in dir(page) if not a.startswith('_') and not a.endswith('_')]\n",
    "# Don't worry about the code here, it's just a trick to see public\n",
    "# methods for a requests object"
   ]
  },
  {
   "cell_type": "code",
   "execution_count": 7,
   "metadata": {
    "collapsed": false
   },
   "outputs": [
    {
     "data": {
      "text/plain": [
       "u'\\t\\t<div id=\"page1\">\\r\\n\\t\\t<div class=\"apphub_Card interactable\" style=\"display: none\" onclick=\"ShowModalContent( \\'http://steamcommunity.com/id/kadiv/recommended/730/?insideModal=1\\', \\'http://steamcommunity.com/id/kadiv/recommended/730/\\', \\'http://steamcommunity.com/id/kadiv/recommended/730/\\',false );\">\\r\\n\\t<div class=\"apphub_CardContentMain\">\\r\\n\\t\\t<div class=\"apphub_UserReviewCardContent\">\\r\\n\\t\\t\\t<div class=\"found_helpful\">\\r\\n\\t\\t\\t\\t15,443 of 17,222 people (90%) found this review helpful<br>11 people found this review funny\\t\\t\\t</div>\\r\\n\\r\\n\\t\\t\\t<div class=\"vote_header\">\\r\\n\\t\\t\\t\\t\\t\\t\\t\\t<div class=\"reviewInfo\">\\r\\n\\t\\t\\t\\t\\t<div class=\"thumb\">\\r\\n\\t\\t\\t\\t\\t\\t<img src=\"http://steamcommunity-a.akamaihd.net/public/shared/images/userreviews/icon_thumbsUp.png?v=1\" width=\"44\" height=\"44\">\\r\\n\\t\\t\\t\\t\\t</div>\\r\\n\\r\\n\\t\\t\\t\\t\\t\\t\\t\\t\\t\\t<div class=\"title\">Recommended</div>\\r\\n\\t\\t\\t\\t\\t\\t\\t\\t\\t\\t\\t\\t\\t\\t\\t<div class=\"hours\">1,066.0 hrs on record</div>\\r\\n\\t\\t\\t\\t\\t\\t\\t\\t\\t</div>\\r\\n\\t\\t\\t\\t<div style=\"clear: left\"></div>\\r\\n\\t\\t\\t</div>\\r\\n\\r\\n\\t\\t\\t<div class=\"apphub_CardTextContent\">\\r\\n\\t\\t\\t\\t<div class=\"d'"
      ]
     },
     "execution_count": 7,
     "metadata": {},
     "output_type": "execute_result"
    }
   ],
   "source": [
    "# We see that there are attributes for the text, json, lines, etc.,\n",
    "# so let's take a look at some of this stuff\n",
    "page.text[:1000] # Here's the raw HTML"
   ]
  },
  {
   "cell_type": "code",
   "execution_count": 8,
   "metadata": {
    "collapsed": false
   },
   "outputs": [],
   "source": [
    "# After looking at some of the other attributes, I've determined\n",
    "# that the text attribute is probably the only thing that\n",
    "# concerns us, so let's use it\n",
    "text = page.text"
   ]
  },
  {
   "cell_type": "code",
   "execution_count": 9,
   "metadata": {
    "collapsed": true
   },
   "outputs": [],
   "source": [
    "# The text, as you can see from the view above, has lots of \\r,\n",
    "# \\n, \\t characters in it, which might not be good for HTML\n",
    "# parsing in our case (I won't get into why, partly because I'm\n",
    "# not completely sure I get why), so let's get rid of all such\n",
    "# characters, replacing them with spaces instead\n",
    "# To do this we will use the re module, which allows us to use\n",
    "# regular expressions\n",
    "import re\n",
    "# While we're at it, it's best to get rid of all \"<br>\" tags since\n",
    "# they could also present problems during parsing\n",
    "# We can use the re.sub() method to find one regular expression and\n",
    "# replace it with another in a given text\n",
    "text = re.sub(r'\\<br\\>', r' ', text) # Looks for the string \"<br>\"\n",
    "    # and replaces it with a space\n",
    "text = re.sub(r'[\\n\\t\\r ]+', r' ', text) # Looks for any sequence\n",
    "    # of carriage returns or whitespace characters and replaces\n",
    "    # them with a single space\n",
    "text = text.strip() # Get rid of spaces at either end"
   ]
  },
  {
   "cell_type": "code",
   "execution_count": 10,
   "metadata": {
    "collapsed": false
   },
   "outputs": [
    {
     "data": {
      "text/plain": [
       "u'<div id=\"page1\"> <div class=\"apphub_Card interactable\" style=\"display: none\" onclick=\"ShowModalContent( \\'http://steamcommunity.com/id/kadiv/recommended/730/?insideModal=1\\', \\'http://steamcommunity.com/id/kadiv/recommended/730/\\', \\'http://steamcommunity.com/id/kadiv/recommended/730/\\',false );\"> <div class=\"apphub_CardContentMain\"> <div class=\"apphub_UserReviewCardContent\"> <div class=\"found_helpful\"> 15,443 of 17,222 people (90%) found this review helpful 11 people found this review funny </div> <div class=\"vote_header\"> <div class=\"reviewInfo\"> <div class=\"thumb\"> <img src=\"http://steamcommunity-a.akamaihd.net/public/shared/images/userreviews/icon_thumbsUp.png?v=1\" width=\"44\" height=\"44\"> </div> <div class=\"title\">Recommended</div> <div class=\"hours\">1,066.0 hrs on record</div> </div> <div style=\"clear: left\"></div> </div> <div class=\"apphub_CardTextContent\"> <div class=\"date_posted\">Posted: February 27, 2014</div> you either die a noob or live long enough to get called a hacker </div> <'"
      ]
     },
     "execution_count": 10,
     "metadata": {},
     "output_type": "execute_result"
    }
   ],
   "source": [
    "# Let's take a look at the cleaned-up version of the source HTML\n",
    "text[:1000]"
   ]
  },
  {
   "cell_type": "code",
   "execution_count": 11,
   "metadata": {
    "collapsed": true
   },
   "outputs": [],
   "source": [
    "# Ok, that looks much nicer!"
   ]
  },
  {
   "cell_type": "code",
   "execution_count": 12,
   "metadata": {
    "collapsed": false
   },
   "outputs": [],
   "source": [
    "# Now, let's use lxml to get the tree by parsing the source html\n",
    "tree = html.fromstring(text)"
   ]
  },
  {
   "cell_type": "code",
   "execution_count": 13,
   "metadata": {
    "collapsed": true
   },
   "outputs": [],
   "source": [
    "# Using the xpath method, we can find the content that resides\n",
    "# between two tags\n",
    "# To find the reviews, what we're actually looking for is between\n",
    "# the <div> tags with attribute class=\"apphub_CardTextContent\"\n",
    "# And, to find the game-hours played values, we're looking for <div>\n",
    "# tags with attribute class=\"hours\"\n",
    "# We can do that in the following way\n",
    "reviews = tree.xpath('//div[@class=\"apphub_CardTextContent\"]/text()')\n",
    "hours_played_list = tree.xpath('//div[@class=\"hours\"]/text()')"
   ]
  },
  {
   "cell_type": "code",
   "execution_count": 14,
   "metadata": {
    "collapsed": false
   },
   "outputs": [
    {
     "name": "stdout",
     "output_type": "stream",
     "text": [
      "length of review list = 21\n",
      "length of hours-played list = 10\n"
     ]
    }
   ],
   "source": [
    "# These resulting lists should line up nicely, but they actually\n",
    "# have different numbers of total items, unfortunately\n",
    "# Observe:\n",
    "print \"length of review list = {}\\nlength of hours-played list = {}\".format(len(reviews),\n",
    "                                                                            len(hours_played_list))"
   ]
  },
  {
   "cell_type": "code",
   "execution_count": 15,
   "metadata": {
    "collapsed": false
   },
   "outputs": [
    {
     "data": {
      "text/plain": [
       "['1,066.0 hrs on record',\n",
       " '675.3 hrs on record',\n",
       " '76.6 hrs on record',\n",
       " '923.4 hrs on record',\n",
       " '63.7 hrs on record',\n",
       " '936.2 hrs on record',\n",
       " '2,837.1 hrs on record',\n",
       " '213.0 hrs on record',\n",
       " '722.4 hrs on record',\n",
       " '170.7 hrs on record']"
      ]
     },
     "execution_count": 15,
     "metadata": {},
     "output_type": "execute_result"
    }
   ],
   "source": [
    "# So, let's see what's happening here\n",
    "# There should only be 10 reviews, so the hours-played list is right\n",
    "# Let's take a look at the values\n",
    "hours_played_list"
   ]
  },
  {
   "cell_type": "code",
   "execution_count": 16,
   "metadata": {
    "collapsed": false
   },
   "outputs": [
    {
     "data": {
      "text/plain": [
       "[' ',\n",
       " ' you either die a noob or live long enough to get called a hacker ',\n",
       " ' ',\n",
       " ' Kill someone with a P90 - \"You\\'re a fuc**** noob!! Noob weapon!!\" Kill someone with a P90 through a smoke - \"You\\'re a fuc**** hacker!!\" Kill someone with a AWP - \"You\\'re a fuc**** noob!! Noob weapon!!\" Kill someone with a AWP through a door - \"You\\'re a fuc**** hacker!!\" In a 1 vs 5 you die - \"You\\'re a fuc**** noob!!\" In a 1 vs 5 you win - \"You\\'re a fuc**** hacker!!\" Kill someone with a headshot - \"Hacker!!\" Get headshoted by someone - \"Owned!!\" and get teabagged Kill someone with a grenade - \"Luck!!\" Get killed by someone with a grenade - \"AHAHAHAHA\" Get teamkilled by someone - \"Get out of the way you fuc**** idiot!!\" Accidentally teamkill someone - \"You\\'re a fuc**** idiot!!\" Blocked by someone - Dies Accidentally blocks someone - \"Get out the way you fuc**** idiot!!\" Decide to save - \"You\\'re a fuc**** coward!!\" Decide not to save - \"Save you fuc**** idiot!!\" Kill someone while defending the bomb - \"You fuc**** camper!!\" Kill someone while defending the hostages - \"You fuc**** camper!!\" Someone dies - The deceased one starts to rage Your team lose the round - Your team starts to rage Your team is losing 10-2 - Someone rages quit Go to the balcony in Italy - \"You fuc**** hacker!!\" Worst guy receives a drop - \"Are you fuc**** serious!?\" Warm up - Everybody tries to spawn kill Score is 5-1 in your favor - \"This is a T map!\" Score is 1-5 againts you - \"This is a CT map!\" Lose the first 2 rounds - Someone asks to get kicked Last round - Everybody buys Negev Your team is loosinh and you are in last - Someone vote kicks you Win a match - All enemy team rages Lose a match - Yout team rages Someone\\'s Internet crashes - 30 minutes ban Your Internet crashes - 7 days ban 10/10 Best rage simulator out there! ',\n",
       " ' ',\n",
       " ' Bought this game, played online, learned fluent russian 2 weeks later. ',\n",
       " ' ',\n",
       " ' Knife in real life: 10$ Knife in game: 400$ 10/10 ',\n",
       " ' ',\n",
       " ' DIGITAL KNIVES ACTUALLY COST MORE THAN REAL KNIVES 10/10 GOODJOB VALVE WOULD BUY AGAIN ',\n",
       " ' ',\n",
       " u\" It doesn't matter how good you are any more, you will be judged solely on the market value of your inventory. You should have one of your several Karambit knives equipped at all times and inspect it in game whenever possible to ensure that anybody who is spectating you is aware that you are aware you're being watched and you are absolutely showing off that extremely pricey knife you own. Your stats are irrelevant now, most people aren't even aware that the 'Tab' key actually has a function in game. It doesn't matter if you don't know what 'eco' means. Fu\\xadck team work. You have a 'BOOM' AWP in your inventory, as long as you have $4750 cash in game you're buying an AWP. You will mock anyone who decided to give their Nova the 'Walnut' skin. Same goes for people who give their FAMAS the 'Doomkitty' skin. You will only equip 'StatTrak' weapons and the first thing you do when you acquire one is go on an idle server and get several hundred kills on AFK players in order to pad the stats so you don't look like a total n00b. Whenever a new case is released you will buy as many cases and keys as it takes in order to acquire 'an Exceedingly Rare Special Item!' Disregard the fact that you will end up spending three times as much as you otherwise would've by buying this directly from the market, it's only your parents' money after all. Besides, your birthday is next month and Christmas/Easter/[insert public holiday here] is just around the corner so you won't have to wait too long before you can blow more of their money on digital goods. You will also plaster ever single skin you own with multiple unseemly stickers with the intention of creating a unique skin for your weapon. Your 'Easy Peasy' and 'Ninjas in Pyjamas' stickers totally don't look ridiculous whatsoever. You will also name tag all of your weapons in order to add that final personal touch to the weapon you invested so much time and money in. You don't own an AK or an M4 any more, you only own weapons with names like 'xXx OG Snoop Dogg' and 'dubstep warrior'. You now have all the knowledge required to start playing CS:GO. Go forth and procure many skins of great value. \",\n",
       " ' ',\n",
       " ' Revan was only 23 years old. He loved CS:GO so much. He had most of the achievements and items. He prayed to Gaben every night before bed, thanking him for the inventory he\\'s been given. \"CS:GO is love,\" he says, \"CS:GO is life.\" His elder Dragon hears him and calls him a silver scrublord. He knows his elder is just jealous of his son\\'s devotion to Gabe. He calls him a console peasant. He slaps him and sends him to sleep. He\\'s crying now and his face hurts. He lays in bed, and it\\'s really cold. He feels a warmth moving towards him. He looks up. It\\'s Gabe! He\\'s so happy, Gabe whispers into Revan\\'s ear, \"Try your chances... Open a case.\" Gaben grabs Revan with his powerful dev-team hands and puts him on his hands and knees. He\\'s ready. Revan opens his pockets for Gabe. Gabe puts his hands deep into Revan\\'s pockets. It costs so much, but Revan does it for CS:GO. Revan can feel his wallet emptying as his eyes start to water. He accepts the terms and conditions. Revan wants to please Gabe. Gaben lets out a mighty roar as he fills Revan\\'s computer with keys. Revan opens all the cases and gets nothing worth anything at all. ',\n",
       " ' ',\n",
       " ' ',\n",
       " \" It's like roulette; fun until it turns into Russian. \",\n",
       " ' ',\n",
       " ' Got A+ on my Russian exam. ',\n",
       " ' ',\n",
       " ' >see a guy >shoot him >miss every shot >he turns around >kills me in one shot >exit cs:go 10/10 ']"
      ]
     },
     "execution_count": 16,
     "metadata": {},
     "output_type": "execute_result"
    }
   ],
   "source": [
    "# That looks good, so let's now take a look at the reviews list\n",
    "reviews"
   ]
  },
  {
   "cell_type": "code",
   "execution_count": 17,
   "metadata": {
    "collapsed": false
   },
   "outputs": [
    {
     "data": {
      "text/plain": [
       "10"
      ]
     },
     "execution_count": 17,
     "metadata": {},
     "output_type": "execute_result"
    }
   ],
   "source": [
    "# As you can see, there are, for some reason a bunch of elements\n",
    "# in the list that only consist of a single space\n",
    "# Let's get rid of those elements and see if we end up with ten\n",
    "# reviews\n",
    "# The line of code I use below utilizes something known in Python as\n",
    "# a \"list comprehension\":\n",
    "# Ex: [x - 1 for x in [1, 3, 4]] => [0, 2, 3]\n",
    "# Ex2: [len(s) for x in [\"one\", \"two\", \"three\"]] => [3, 3, 5]\n",
    "# Basically the first part (x - 1 or len(s)) is applied to every x/s\n",
    "# (whatever you decide to call it) in the list, one at a time, and a\n",
    "# list is output as a result\n",
    "reviews = [r for r in reviews if r.strip()]\n",
    "len(reviews)"
   ]
  },
  {
   "cell_type": "code",
   "execution_count": 18,
   "metadata": {
    "collapsed": true
   },
   "outputs": [],
   "source": [
    "# Ok, great, so, there are now 10 reviews in the list after getting\n",
    "# rid of the weird no-text elements!"
   ]
  },
  {
   "cell_type": "code",
   "execution_count": 19,
   "metadata": {
    "collapsed": false
   },
   "outputs": [],
   "source": [
    "# Now what we want to do is create a list of 2-element tuples\n",
    "# containing 1. the review text itself and 2. a float representing\n",
    "# the game-hours played value corresponding to a given review\n",
    "# Let's use another list comprehension for this (be forewarned, though,\n",
    "# that this list comprehension will be much more complicated - at first\n",
    "# glance, at least!)\n",
    "review_tuples = [(r.strip(),\n",
    "                  float(re.sub(r',',\n",
    "                               r'',\n",
    "                               g.split(' ',\n",
    "                                       1)[0]))) for r, g in zip(reviews,\n",
    "                                                                     hours_played_list)]\n",
    "# What I'm doing above is putting both values into a tuple and I'm\n",
    "# iterating through both lists by \"zipping\" them together.\n",
    "# The zip function is really useful function that takes a number of\n",
    "# lists and puts all elements at the same index in a tuple and does it\n",
    "# for every index that occurs across all the input lists\n",
    "# Ex. zip([\"a\", \"b\", \"c\"], [3, 4, 5]) => [(\"a\", 3), (\"b\", 4), (\"c\", 5)]\n",
    "# So, I'm iterating over a list that looks a little like what's in the\n",
    "# result above and then I'm basically keeping the values in tuples the\n",
    "# way that they currently are, but I'm applying some functions to the\n",
    "# game-hours played values, namely 1. getting the number part only and\n",
    "# 2. removing any commas in the string representing the number, and 3.\n",
    "# typecasting the string as a float, so '1,066.0 hrs on record' =>\n",
    "# 1066.0 (and I'm also applying the strip() method to the review part\n",
    "# of the tuple)"
   ]
  },
  {
   "cell_type": "code",
   "execution_count": 20,
   "metadata": {
    "collapsed": false
   },
   "outputs": [
    {
     "data": {
      "text/plain": [
       "[('you either die a noob or live long enough to get called a hacker', 1066.0),\n",
       " ('Kill someone with a P90 - \"You\\'re a fuc**** noob!! Noob weapon!!\" Kill someone with a P90 through a smoke - \"You\\'re a fuc**** hacker!!\" Kill someone with a AWP - \"You\\'re a fuc**** noob!! Noob weapon!!\" Kill someone with a AWP through a door - \"You\\'re a fuc**** hacker!!\" In a 1 vs 5 you die - \"You\\'re a fuc**** noob!!\" In a 1 vs 5 you win - \"You\\'re a fuc**** hacker!!\" Kill someone with a headshot - \"Hacker!!\" Get headshoted by someone - \"Owned!!\" and get teabagged Kill someone with a grenade - \"Luck!!\" Get killed by someone with a grenade - \"AHAHAHAHA\" Get teamkilled by someone - \"Get out of the way you fuc**** idiot!!\" Accidentally teamkill someone - \"You\\'re a fuc**** idiot!!\" Blocked by someone - Dies Accidentally blocks someone - \"Get out the way you fuc**** idiot!!\" Decide to save - \"You\\'re a fuc**** coward!!\" Decide not to save - \"Save you fuc**** idiot!!\" Kill someone while defending the bomb - \"You fuc**** camper!!\" Kill someone while defending the hostages - \"You fuc**** camper!!\" Someone dies - The deceased one starts to rage Your team lose the round - Your team starts to rage Your team is losing 10-2 - Someone rages quit Go to the balcony in Italy - \"You fuc**** hacker!!\" Worst guy receives a drop - \"Are you fuc**** serious!?\" Warm up - Everybody tries to spawn kill Score is 5-1 in your favor - \"This is a T map!\" Score is 1-5 againts you - \"This is a CT map!\" Lose the first 2 rounds - Someone asks to get kicked Last round - Everybody buys Negev Your team is loosinh and you are in last - Someone vote kicks you Win a match - All enemy team rages Lose a match - Yout team rages Someone\\'s Internet crashes - 30 minutes ban Your Internet crashes - 7 days ban 10/10 Best rage simulator out there!',\n",
       "  675.3),\n",
       " ('Bought this game, played online, learned fluent russian 2 weeks later.',\n",
       "  76.6),\n",
       " ('Knife in real life: 10$ Knife in game: 400$ 10/10', 923.4),\n",
       " ('DIGITAL KNIVES ACTUALLY COST MORE THAN REAL KNIVES 10/10 GOODJOB VALVE WOULD BUY AGAIN',\n",
       "  63.7),\n",
       " (u\"It doesn't matter how good you are any more, you will be judged solely on the market value of your inventory. You should have one of your several Karambit knives equipped at all times and inspect it in game whenever possible to ensure that anybody who is spectating you is aware that you are aware you're being watched and you are absolutely showing off that extremely pricey knife you own. Your stats are irrelevant now, most people aren't even aware that the 'Tab' key actually has a function in game. It doesn't matter if you don't know what 'eco' means. Fu\\xadck team work. You have a 'BOOM' AWP in your inventory, as long as you have $4750 cash in game you're buying an AWP. You will mock anyone who decided to give their Nova the 'Walnut' skin. Same goes for people who give their FAMAS the 'Doomkitty' skin. You will only equip 'StatTrak' weapons and the first thing you do when you acquire one is go on an idle server and get several hundred kills on AFK players in order to pad the stats so you don't look like a total n00b. Whenever a new case is released you will buy as many cases and keys as it takes in order to acquire 'an Exceedingly Rare Special Item!' Disregard the fact that you will end up spending three times as much as you otherwise would've by buying this directly from the market, it's only your parents' money after all. Besides, your birthday is next month and Christmas/Easter/[insert public holiday here] is just around the corner so you won't have to wait too long before you can blow more of their money on digital goods. You will also plaster ever single skin you own with multiple unseemly stickers with the intention of creating a unique skin for your weapon. Your 'Easy Peasy' and 'Ninjas in Pyjamas' stickers totally don't look ridiculous whatsoever. You will also name tag all of your weapons in order to add that final personal touch to the weapon you invested so much time and money in. You don't own an AK or an M4 any more, you only own weapons with names like 'xXx OG Snoop Dogg' and 'dubstep warrior'. You now have all the knowledge required to start playing CS:GO. Go forth and procure many skins of great value.\",\n",
       "  936.2),\n",
       " ('Revan was only 23 years old. He loved CS:GO so much. He had most of the achievements and items. He prayed to Gaben every night before bed, thanking him for the inventory he\\'s been given. \"CS:GO is love,\" he says, \"CS:GO is life.\" His elder Dragon hears him and calls him a silver scrublord. He knows his elder is just jealous of his son\\'s devotion to Gabe. He calls him a console peasant. He slaps him and sends him to sleep. He\\'s crying now and his face hurts. He lays in bed, and it\\'s really cold. He feels a warmth moving towards him. He looks up. It\\'s Gabe! He\\'s so happy, Gabe whispers into Revan\\'s ear, \"Try your chances... Open a case.\" Gaben grabs Revan with his powerful dev-team hands and puts him on his hands and knees. He\\'s ready. Revan opens his pockets for Gabe. Gabe puts his hands deep into Revan\\'s pockets. It costs so much, but Revan does it for CS:GO. Revan can feel his wallet emptying as his eyes start to water. He accepts the terms and conditions. Revan wants to please Gabe. Gaben lets out a mighty roar as he fills Revan\\'s computer with keys. Revan opens all the cases and gets nothing worth anything at all.',\n",
       "  2837.1),\n",
       " (\"It's like roulette; fun until it turns into Russian.\", 213.0),\n",
       " ('Got A+ on my Russian exam.', 722.4),\n",
       " ('>see a guy >shoot him >miss every shot >he turns around >kills me in one shot >exit cs:go 10/10',\n",
       "  170.7)]"
      ]
     },
     "execution_count": 20,
     "metadata": {},
     "output_type": "execute_result"
    }
   ],
   "source": [
    "# Finally, let's take a look at the resulting list\n",
    "review_tuples"
   ]
  },
  {
   "cell_type": "code",
   "execution_count": 21,
   "metadata": {
    "collapsed": true
   },
   "outputs": [],
   "source": [
    "# So, that's how we could get data for reviews occurring in one\n",
    "# single page for one single game\n",
    "# Can we design a function, which, given a game ID, can get all\n",
    "# possible reviews?\n",
    "# Let's try"
   ]
  },
  {
   "cell_type": "code",
   "execution_count": 33,
   "metadata": {
    "collapsed": false
   },
   "outputs": [],
   "source": [
    "# Might need this unicode module and maybe the newer version of the\n",
    "# print method\n",
    "from bs4 import UnicodeDammit\n",
    "import time\n",
    "import sys\n",
    "codecs = [\"windows-1252\", \"utf8\", \"ascii\", \"cp500\", \"cp850\", \"cp852\",\n",
    "          \"cp858\", \"cp1140\", \"cp1250\", \"iso-8859-1\", \"iso8859_2\",\n",
    "          \"iso8859_15\", \"iso8859_16\", \"mac_roman\", \"mac_latin2\", \"utf32\",\n",
    "          \"utf16\"]"
   ]
  },
  {
   "cell_type": "code",
   "execution_count": 34,
   "metadata": {
    "collapsed": false
   },
   "outputs": [],
   "source": [
    "def get_review_data_for_game(appid, time_out=0.5, limit=0):\n",
    "    '''\n",
    "    Get list of tuples representing all review/game-hours played pairs for a given game.\n",
    "    :param appid: ID corresponding to a given game\n",
    "    :type appid: str\n",
    "    :param timeout: amount of time allowed to go by without hearing response while using requests.get() method\n",
    "    :type timeout: float\n",
    "    :param limit: the maximum number of reviews to collect\n",
    "    :type limit: int (default: 0, which signifies all)\n",
    "    :yields: lists of tuples\n",
    "    '''\n",
    "    # Get reviews from each page that has content, starting at range_begin\n",
    "    # = 0 and i = 1, yielding the list of review tuples as they're found\n",
    "    range_begin = 0\n",
    "    i = 1\n",
    "    while True:\n",
    "        # Get unique URL for values of range_begin and i\n",
    "        url = 'http://steamcommunity.com/app/{2}/homecontent/?userreviews' \\\n",
    "              'offset={0}&p=1&itemspage={1}&screenshotspage={1}&videospag' \\\n",
    "              'e={1}&artpage={1}&allguidepage={1}&webguidepage={1}&integr' \\\n",
    "              'atedguidepage={1}&discussionspage={1}&appid={2}&appHubSubS' \\\n",
    "              'ection=10&appHubSubSection=10&l=english&browsefilter=topra' \\\n",
    "              'ted&filterLanguage=default&searchText=&forceanon=1'.format(\n",
    "                  range_begin,\n",
    "                  i,\n",
    "                  appid)\n",
    "        # Try to get the URL content\n",
    "        page = None\n",
    "        time.sleep(60)\n",
    "        try:\n",
    "            page = requests.get(url, timeout=time_out)\n",
    "        except requests.exceptions.Timeout as e:\n",
    "            print(\"There was a Timeout error...\")\n",
    "            break\n",
    "        # If there's nothing at this URL, page might have no value at all,\n",
    "        # in which case we should break out of the loop\n",
    "        if not page:\n",
    "            break\n",
    "        elif not page.text.strip():\n",
    "            break\n",
    "        # Preprocess the HTML source a little bit\n",
    "        text = re.sub(r'[\\n\\t\\r ]+',\n",
    "                      r' ',\n",
    "                      re.sub(r'\\<br\\>',\n",
    "                             r' ',\n",
    "                             page.text.strip())) # Replace the string \"<br>\"\n",
    "            # with a space and replace any sequence of carriage returns or\n",
    "            # whitespace characters with a single space\n",
    "        # Convert to UTF-8\n",
    "        text = UnicodeDammit(text,\n",
    "                             codecs).unicode_markup.encode('ascii',\n",
    "                                                           'ignore')\n",
    "        # Get the parse tree from source html\n",
    "        tree = html.fromstring(text.strip())\n",
    "        # Get lists of review texts and values for game-hours played\n",
    "        range_reviews = \\\n",
    "            tree.xpath('//div[@class=\"apphub_CardTextContent\"]/text()')\n",
    "        hours = tree.xpath('//div[@class=\"hours\"]/text()')\n",
    "        # Truncate the list of reviews by getting rid of elements that are\n",
    "        # either empty or have only a single space\n",
    "        range_reviews = [x.strip() for x in range_reviews if x.strip()]\n",
    "        # Try to decode the reviews with a number of different formats and\n",
    "        # then encode all to utf-8\n",
    "        # Zip the values together, processing them also\n",
    "        yield [(z.strip(),\n",
    "                float(re.sub(r',',\n",
    "                             r'',\n",
    "                             w.split(' ',\n",
    "                                     1)[0]))) for z, w in zip(range_reviews,\n",
    "                                                              hours)]\n",
    "        # If a limit was defined and processing 10 more essays will push us\n",
    "        # over the limit, stop here\n",
    "        if limit and range_begin > limit:\n",
    "            break\n",
    "        range_begin += 10\n",
    "        i += 1"
   ]
  },
  {
   "cell_type": "code",
   "execution_count": null,
   "metadata": {
    "collapsed": false
   },
   "outputs": [],
   "source": [
    "# Alright, let's see if that worked\n",
    "# We'll create an empty set of reviews and as each new set of reviews is\n",
    "# generated by the function, we'll add in all of the reviews in the set\n",
    "# to the set of reviews (if any are duplicates, they will not be added)\n",
    "reviews = set()\n",
    "for review_set in get_review_data_for_game('730',\n",
    "                                           time_out=2.0,\n",
    "                                           limit=150):\n",
    "    [reviews.add(review) for review in review_set]"
   ]
  },
  {
   "cell_type": "code",
   "execution_count": null,
   "metadata": {
    "collapsed": true
   },
   "outputs": [],
   "source": []
  }
 ],
 "metadata": {
  "kernelspec": {
   "display_name": "Python 2",
   "language": "python",
   "name": "python2"
  },
  "language_info": {
   "codemirror_mode": {
    "name": "ipython",
    "version": 2
   },
   "file_extension": ".py",
   "mimetype": "text/x-python",
   "name": "python",
   "nbconvert_exporter": "python",
   "pygments_lexer": "ipython2",
   "version": "2.7.6"
  }
 },
 "nbformat": 4,
 "nbformat_minor": 0
}
