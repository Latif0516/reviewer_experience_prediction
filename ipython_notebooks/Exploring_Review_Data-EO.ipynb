{
 "cells": [
  {
   "cell_type": "markdown",
   "metadata": {},
   "source": [
    "#Exploring Review Data\n",
    "- let's look at some typical reviews, how many files there are, what the distributions of review lengths and hours played are, etc."
   ]
  },
  {
   "cell_type": "code",
   "execution_count": 3,
   "metadata": {
    "collapsed": true
   },
   "outputs": [],
   "source": [
    "# Pretty much, this is my standard header because I use these following\n",
    "# two libraries all the time\n",
    "import sys\n",
    "import os"
   ]
  },
  {
   "cell_type": "code",
   "execution_count": 4,
   "metadata": {
    "collapsed": false
   },
   "outputs": [
    {
     "name": "stdout",
     "output_type": "stream",
     "text": [
      "   30910 data/Arma_3.txt\n",
      "   66500 data/Counter_Strike_Global_Offensive.txt\n",
      "   17712 data/Counter_Strike.txt\n",
      "   61900 data/Dota_2.txt\n",
      "    2346 data/Football_Manager_2015.txt\n",
      "   65860 data/Garrys_Mod.txt\n",
      "   19880 data/Grand_Theft_Auto_V.txt\n",
      "   67076 data/Sid_Meiers_Civilization_5.txt\n",
      "   63840 data/Team_Fortress_2.txt\n",
      "   65578 data/The_Elder_Scrolls_V.txt\n",
      "   49270 data/Warframe.txt\n",
      "  510872 total\n"
     ]
    }
   ],
   "source": [
    "# So, let's take a look at how many lines are in our reviews files\n",
    "# Note: I just started processing GTAV after ending all the other processes\n",
    "os.chdir('/home/mulhollandm2/reviews_project/reviewer_experience_prediction')\n",
    "! wc -l data/*.txt"
   ]
  },
  {
   "cell_type": "code",
   "execution_count": 6,
   "metadata": {
    "collapsed": false
   },
   "outputs": [],
   "source": [
    "# This is a stripped-down version of the function in read_data_files.py\n",
    "# Note: I decided to get rid of the language identification rule for the time\n",
    "# being because I don't want this function to take too long or else it will be\n",
    "# useless in this context. We will still use the rule, just not in this\n",
    "# notebook setting.\n",
    "def get_reviews_for_game(file_name):\n",
    "    '''\n",
    "    Get list of reviews in a single game file.\n",
    "\n",
    "    :param file_name: name of file\n",
    "    :type file_name: str\n",
    "    :returns: list of dicts\n",
    "    '''\n",
    "\n",
    "    reviews = []\n",
    "    lines = open(file_name).readlines()\n",
    "    i = 0\n",
    "    while i + 1 < len(lines): # We need to get every 2-line couplet\n",
    "        # Extract the hours value and the review text from each 2-line\n",
    "        # sequence\n",
    "        try:\n",
    "            h = float(lines[i].split()[1].strip())\n",
    "            r = lines[i + 1].split(' ', 1)[1].strip()\n",
    "        except (ValueError, IndexError) as e:\n",
    "            i += 2\n",
    "            continue\n",
    "        reviews.append(dict(hours=h,\n",
    "                            review=r))\n",
    "        i += 2 # Increment i by 2 since we need to go to the next\n",
    "            # 2-line couplet\n",
    "    return reviews"
   ]
  },
  {
   "cell_type": "markdown",
   "metadata": {},
   "source": [
    "# Arma 3 Stats"
   ]
  },
  {
   "cell_type": "code",
   "execution_count": 7,
   "metadata": {
    "collapsed": false
   },
   "outputs": [],
   "source": [
    "# So, let's first get all of the reviews for the game with the smallest amount of\n",
    "# review data, i.e., Football Manager 2015 (not including GTAV)\n",
    "reviews = get_reviews_for_game('data/Arma_3.txt')"
   ]
  },
  {
   "cell_type": "code",
   "execution_count": 8,
   "metadata": {
    "collapsed": false
   },
   "outputs": [
    {
     "name": "stdout",
     "output_type": "stream",
     "text": [
      "number of reviews: 15455\n"
     ]
    }
   ],
   "source": [
    "# First of all, how many reviews are there?\n",
    "print('number of reviews: {}'.format(len(reviews)))"
   ]
  },
  {
   "cell_type": "code",
   "execution_count": 15,
   "metadata": {
    "collapsed": false,
    "scrolled": true
   },
   "outputs": [
    {
     "ename": "NameError",
     "evalue": "name 'reviews' is not defined",
     "output_type": "error",
     "traceback": [
      "\u001b[1;31m---------------------------------------------------------------------------\u001b[0m",
      "\u001b[1;31mNameError\u001b[0m                                 Traceback (most recent call last)",
      "\u001b[1;32m<ipython-input-15-a299b1a8a9a8>\u001b[0m in \u001b[0;36m<module>\u001b[1;34m()\u001b[0m\n\u001b[0;32m      1\u001b[0m \u001b[1;31m# Here's a couple reviews from the beginning of the file\u001b[0m\u001b[1;33m\u001b[0m\u001b[1;33m\u001b[0m\u001b[0m\n\u001b[1;32m----> 2\u001b[1;33m \u001b[0mreviews\u001b[0m\u001b[1;33m[\u001b[0m\u001b[1;33m:\u001b[0m\u001b[1;36m3\u001b[0m\u001b[1;33m]\u001b[0m\u001b[1;33m\u001b[0m\u001b[0m\n\u001b[0m",
      "\u001b[1;31mNameError\u001b[0m: name 'reviews' is not defined"
     ]
    }
   ],
   "source": [
    "# Here's a couple reviews from the beginning of the file\n",
    "reviews[:3]"
   ]
  },
  {
   "cell_type": "markdown",
   "metadata": {},
   "source": [
    "#Arma 3: Review Length Distribution"
   ]
  },
  {
   "cell_type": "code",
   "execution_count": 16,
   "metadata": {
    "collapsed": false
   },
   "outputs": [
    {
     "ename": "NameError",
     "evalue": "name 'reviews' is not defined",
     "output_type": "error",
     "traceback": [
      "\u001b[1;31m---------------------------------------------------------------------------\u001b[0m",
      "\u001b[1;31mNameError\u001b[0m                                 Traceback (most recent call last)",
      "\u001b[1;32m<ipython-input-16-1d162d62acfa>\u001b[0m in \u001b[0;36m<module>\u001b[1;34m()\u001b[0m\n\u001b[0;32m      1\u001b[0m \u001b[1;31m# Let's measure the lengths of each review using a \"list comprehension\"\u001b[0m\u001b[1;33m\u001b[0m\u001b[1;33m\u001b[0m\u001b[0m\n\u001b[1;32m----> 2\u001b[1;33m \u001b[0mlengths\u001b[0m \u001b[1;33m=\u001b[0m \u001b[1;33m[\u001b[0m\u001b[0mlen\u001b[0m\u001b[1;33m(\u001b[0m\u001b[0mreview\u001b[0m\u001b[1;33m[\u001b[0m\u001b[1;34m'review'\u001b[0m\u001b[1;33m]\u001b[0m\u001b[1;33m)\u001b[0m \u001b[1;32mfor\u001b[0m \u001b[0mreview\u001b[0m \u001b[1;32min\u001b[0m \u001b[0mreviews\u001b[0m\u001b[1;33m]\u001b[0m\u001b[1;33m\u001b[0m\u001b[0m\n\u001b[0m\u001b[0;32m      3\u001b[0m \u001b[1;31m# Let's print out the first 10 lengths, just to see what we're working with\u001b[0m\u001b[1;33m\u001b[0m\u001b[1;33m\u001b[0m\u001b[0m\n\u001b[0;32m      4\u001b[0m \u001b[0mlengths\u001b[0m\u001b[1;33m[\u001b[0m\u001b[1;33m:\u001b[0m\u001b[1;36m10\u001b[0m\u001b[1;33m]\u001b[0m\u001b[1;33m\u001b[0m\u001b[0m\n",
      "\u001b[1;31mNameError\u001b[0m: name 'reviews' is not defined"
     ]
    }
   ],
   "source": [
    "# Let's measure the lengths of each review using a \"list comprehension\"\n",
    "lengths = [len(review['review']) for review in reviews]\n",
    "# Let's print out the first 10 lengths, just to see what we're working with\n",
    "lengths[:10]"
   ]
  },
  {
   "cell_type": "code",
   "execution_count": 17,
   "metadata": {
    "collapsed": false
   },
   "outputs": [
    {
     "ename": "NameError",
     "evalue": "name 'lengths' is not defined",
     "output_type": "error",
     "traceback": [
      "\u001b[1;31m---------------------------------------------------------------------------\u001b[0m",
      "\u001b[1;31mNameError\u001b[0m                                 Traceback (most recent call last)",
      "\u001b[1;32m<ipython-input-17-5b5498052bb4>\u001b[0m in \u001b[0;36m<module>\u001b[1;34m()\u001b[0m\n\u001b[0;32m      1\u001b[0m \u001b[1;31m# Compute the average length value\u001b[0m\u001b[1;33m\u001b[0m\u001b[1;33m\u001b[0m\u001b[0m\n\u001b[1;32m----> 2\u001b[1;33m \u001b[0mavg_len\u001b[0m \u001b[1;33m=\u001b[0m \u001b[0msum\u001b[0m\u001b[1;33m(\u001b[0m\u001b[0mlengths\u001b[0m\u001b[1;33m)\u001b[0m\u001b[1;33m/\u001b[0m\u001b[0mlen\u001b[0m\u001b[1;33m(\u001b[0m\u001b[0mlengths\u001b[0m\u001b[1;33m)\u001b[0m\u001b[1;33m\u001b[0m\u001b[0m\n\u001b[0m\u001b[0;32m      3\u001b[0m \u001b[0mprint\u001b[0m\u001b[1;33m(\u001b[0m\u001b[1;34m'average length: {}'\u001b[0m\u001b[1;33m.\u001b[0m\u001b[0mformat\u001b[0m\u001b[1;33m(\u001b[0m\u001b[0mavg_len\u001b[0m\u001b[1;33m)\u001b[0m\u001b[1;33m)\u001b[0m\u001b[1;33m\u001b[0m\u001b[0m\n",
      "\u001b[1;31mNameError\u001b[0m: name 'lengths' is not defined"
     ]
    }
   ],
   "source": [
    "# Compute the average length value\n",
    "avg_len = sum(lengths)/len(lengths)\n",
    "print('average length: {}'.format(avg_len))"
   ]
  },
  {
   "cell_type": "code",
   "execution_count": 18,
   "metadata": {
    "collapsed": false
   },
   "outputs": [
    {
     "ename": "NameError",
     "evalue": "name 'lengths' is not defined",
     "output_type": "error",
     "traceback": [
      "\u001b[1;31m---------------------------------------------------------------------------\u001b[0m",
      "\u001b[1;31mNameError\u001b[0m                                 Traceback (most recent call last)",
      "\u001b[1;32m<ipython-input-18-6c9574131c52>\u001b[0m in \u001b[0;36m<module>\u001b[1;34m()\u001b[0m\n\u001b[1;32m----> 1\u001b[1;33m \u001b[0mmin_len\u001b[0m \u001b[1;33m=\u001b[0m \u001b[0mmin\u001b[0m\u001b[1;33m(\u001b[0m\u001b[0mlengths\u001b[0m\u001b[1;33m)\u001b[0m\u001b[1;33m\u001b[0m\u001b[0m\n\u001b[0m\u001b[0;32m      2\u001b[0m \u001b[0mprint\u001b[0m\u001b[1;33m(\u001b[0m\u001b[1;34m'minimum review length = {}'\u001b[0m\u001b[1;33m.\u001b[0m\u001b[0mformat\u001b[0m\u001b[1;33m(\u001b[0m\u001b[0mmin_len\u001b[0m\u001b[1;33m)\u001b[0m\u001b[1;33m)\u001b[0m\u001b[1;33m\u001b[0m\u001b[0m\n",
      "\u001b[1;31mNameError\u001b[0m: name 'lengths' is not defined"
     ]
    }
   ],
   "source": [
    "min_len = min(lengths)\n",
    "print('minimum review length = {}'.format(min_len))"
   ]
  },
  {
   "cell_type": "code",
   "execution_count": 10,
   "metadata": {
    "collapsed": false
   },
   "outputs": [
    {
     "name": "stdout",
     "output_type": "stream",
     "text": [
      "maximum review length = 5818\n"
     ]
    }
   ],
   "source": [
    "max_len = max(lengths)\n",
    "print('maximum review length = {}'.format(max_len))"
   ]
  },
  {
   "cell_type": "code",
   "execution_count": 11,
   "metadata": {
    "collapsed": false
   },
   "outputs": [
    {
     "name": "stdout",
     "output_type": "stream",
     "text": [
      "original lengths (first 10):          [1669, 4072, 1126, 3370, 60, 1283, 954, 1127, 65, 1309]\n",
      "rounded lengths (to the nearest 300): [1800, 4200, 1200, 3600, 300, 1500, 1200, 1200, 300, 1500]\n"
     ]
    }
   ],
   "source": [
    "# Let's try to make a list of rounded length values where we round to the nearest\n",
    "# 300 (I know, that's a pretty strange kind of thing to do)\n",
    "from math import ceil\n",
    "# We can do this by diving each length by 300, then rounding up, then multiplyig by 300\n",
    "rounded_lengths = [ceil(l/300)*300 for l in lengths]\n",
    "print('original lengths (first 10):          {}\\nrounded lengths (to the nearest 300): {}'.format(\n",
    "    lengths[:10],\n",
    "    rounded_lengths[:10]))"
   ]
  },
  {
   "cell_type": "code",
   "execution_count": 12,
   "metadata": {
    "collapsed": false
   },
   "outputs": [
    {
     "data": {
      "text/plain": [
       "Counter({300: 799, 600: 161, 900: 86, 1200: 39, 1800: 27, 1500: 22, 2100: 10, 2400: 7, 3600: 5, 3000: 4, 3300: 3, 2700: 2, 4200: 2, 4500: 2, 3900: 2, 6000: 1, 5400: 1})"
      ]
     },
     "execution_count": 12,
     "metadata": {},
     "output_type": "execute_result"
    }
   ],
   "source": [
    "# Now, let's make a frequency distribution with the collections.Counter module\n",
    "from collections import Counter\n",
    "rounded_length_fdist = Counter(rounded_lengths)\n",
    "rounded_length_fdist"
   ]
  },
  {
   "cell_type": "code",
   "execution_count": 13,
   "metadata": {
    "collapsed": true
   },
   "outputs": [],
   "source": [
    "# It is obvious from looking at the freq. dist. above that length drops off a cliff\n",
    "# after about 1000 characters\n",
    "# In fact, for length up to 900, almost 1,050 reviews are accounted for, which means\n",
    "# that only a little over 100 reviews are thinly-distributed over the remaining area\n",
    "# above 1,000 characters"
   ]
  },
  {
   "cell_type": "code",
   "execution_count": 14,
   "metadata": {
    "collapsed": true
   },
   "outputs": [],
   "source": [
    "# Let's try to print out the freq dist in a nice way\n",
    "# Bear with me as I attempt to use pandas, which is a very nice Python library\n",
    "import pandas as pd"
   ]
  },
  {
   "cell_type": "code",
   "execution_count": 15,
   "metadata": {
    "collapsed": false
   },
   "outputs": [
    {
     "data": {
      "text/plain": [
       "300     799\n",
       "600     161\n",
       "900      86\n",
       "1200     39\n",
       "1800     27\n",
       "1500     22\n",
       "2100     10\n",
       "2400      7\n",
       "3600      5\n",
       "3000      4\n",
       "3300      3\n",
       "2700      2\n",
       "3900      2\n",
       "4500      2\n",
       "4200      2\n",
       "5400      1\n",
       "6000      1\n",
       "dtype: int64"
      ]
     },
     "execution_count": 15,
     "metadata": {},
     "output_type": "execute_result"
    }
   ],
   "source": [
    "# Usually, when you use Pandas, you're using a dataframe, but a dataframe, as I understand\n",
    "# it, it just made up on a set of \"Series\"\n",
    "# Let's make a Series from our rounded lengths and then call its value_counts() method to\n",
    "# get exactly what collections.Counter was doing (but we'll be able to use it to make a\n",
    "# nice plot)\n",
    "rounded_length_series = pd.Series(rounded_lengths)\n",
    "rounded_length_series.value_counts()"
   ]
  },
  {
   "cell_type": "code",
   "execution_count": 22,
   "metadata": {
    "collapsed": false
   },
   "outputs": [
    {
     "data": {
      "text/plain": [
       "1200"
      ]
     },
     "execution_count": 22,
     "metadata": {},
     "output_type": "execute_result"
    }
   ],
   "source": [
    "from data import FILTER_DICT\n",
    "FILTER_DICT['Football_Manager_2015']['MAXLEN']"
   ]
  },
  {
   "cell_type": "code",
   "execution_count": 19,
   "metadata": {
    "collapsed": false
   },
   "outputs": [
    {
     "data": {
      "text/plain": [
       "(array([ 960.,  125.,   49.,   17.,    6.,    8.,    4.,    2.,    1.,    1.]),\n",
       " array([  300.,   870.,  1440.,  2010.,  2580.,  3150.,  3720.,  4290.,\n",
       "         4860.,  5430.,  6000.]),\n",
       " <a list of 10 Patch objects>)"
      ]
     },
     "execution_count": 19,
     "metadata": {},
     "output_type": "execute_result"
    },
    {
     "data": {
      "image/png": "[encoded data removed]",
      "text/plain": [
       "<matplotlib.figure.Figure at 0x2ada08276358>"
      ]
     },
     "metadata": {},
     "output_type": "display_data"
    }
   ],
   "source": [
    "# The table above is nice, but let's do better and try to get a histogram\n",
    "# Don't worry about all this importing stuff, it's just from something I read in a blog\n",
    "# post\n",
    "# Actually, go and check out the blog post here:\n",
    "# http://nbviewer.ipython.org/github/mwaskom/seaborn/blob/master/examples/plotting_distributions.ipynb\n",
    "# It's in, you guessed it, an IPython notebook! Shows what you can do with\n",
    "# matplotlib.\n",
    "%matplotlib inline\n",
    "import pandas as pd\n",
    "import seaborn as sns\n",
    "import matplotlib.pyplot as plt\n",
    "sns.set_palette(\"deep\", desat=.6)\n",
    "sns.set_context(rc={\"figure.figsize\": (8, 4)})\n",
    "plt.hist(rounded_length_series)"
   ]
  },
  {
   "cell_type": "code",
   "execution_count": 22,
   "metadata": {
    "collapsed": true
   },
   "outputs": [],
   "source": [
    "# That is one nice-looking histogram!\n",
    "# From it, we can really see just how few reviews there are past 1,000\n",
    "# For this item, we could probably set the cap at 1,200, let's say\n",
    "# What do you think?"
   ]
  },
  {
   "cell_type": "markdown",
   "metadata": {},
   "source": [
    "#Arma 3: Hours Distribution"
   ]
  },
  {
   "cell_type": "code",
   "execution_count": 23,
   "metadata": {
    "collapsed": false
   },
   "outputs": [
    {
     "data": {
      "text/plain": [
       "[237.9, 113.0, 1138.7, 194.2, 372.3, 79.7, 1218.2, 386.4, 236.2, 526.4]"
      ]
     },
     "execution_count": 23,
     "metadata": {},
     "output_type": "execute_result"
    }
   ],
   "source": [
    "# Let's do a similar kind of thing for the hours values\n",
    "hours = [review['hours'] for review in reviews]\n",
    "hours[:10]"
   ]
  },
  {
   "cell_type": "code",
   "execution_count": 24,
   "metadata": {
    "collapsed": false
   },
   "outputs": [
    {
     "name": "stdout",
     "output_type": "stream",
     "text": [
      "min: 0.2\n",
      "max: 2482.1\n"
     ]
    }
   ],
   "source": [
    "print(\"min: {}\\nmax: {}\".format(min(hours), max(hours)))"
   ]
  },
  {
   "cell_type": "code",
   "execution_count": 25,
   "metadata": {
    "collapsed": true
   },
   "outputs": [],
   "source": [
    "rounded_hours = [ceil(h/300)*300 for h in hours]"
   ]
  },
  {
   "cell_type": "code",
   "execution_count": 26,
   "metadata": {
    "collapsed": false
   },
   "outputs": [
    {
     "data": {
      "text/plain": [
       "[300, 300, 1200, 300, 600, 300, 1500, 600, 300, 600]"
      ]
     },
     "execution_count": 26,
     "metadata": {},
     "output_type": "execute_result"
    }
   ],
   "source": [
    "rounded_hours[:10]"
   ]
  },
  {
   "cell_type": "code",
   "execution_count": 27,
   "metadata": {
    "collapsed": false
   },
   "outputs": [
    {
     "data": {
      "text/plain": [
       "300     799\n",
       "600     242\n",
       "900      75\n",
       "1200     28\n",
       "1500     11\n",
       "1800      8\n",
       "2100      7\n",
       "2700      2\n",
       "2400      1\n",
       "dtype: int64"
      ]
     },
     "execution_count": 27,
     "metadata": {},
     "output_type": "execute_result"
    }
   ],
   "source": [
    "# Let's use pandas again instead of collections.Counter\n",
    "rounded_hours_series = pd.Series(rounded_hours)\n",
    "rounded_hours_series.value_counts()"
   ]
  },
  {
   "cell_type": "code",
   "execution_count": 28,
   "metadata": {
    "collapsed": true
   },
   "outputs": [],
   "source": [
    "# Hmm, well, would you look at that! The distribution looks exactly the same\n",
    "# as that for length!"
   ]
  },
  {
   "cell_type": "code",
   "execution_count": 28,
   "metadata": {
    "collapsed": false
   },
   "outputs": [
    {
     "data": {
      "text/plain": [
       "(array([ 799.,  242.,   75.,   28.,    0.,   11.,    8.,    7.,    1.,    2.]),\n",
       " array([  300.,   540.,   780.,  1020.,  1260.,  1500.,  1740.,  1980.,\n",
       "         2220.,  2460.,  2700.]),\n",
       " <a list of 10 Patch objects>)"
      ]
     },
     "execution_count": 28,
     "metadata": {},
     "output_type": "execute_result"
    },
    {
     "data": {
      "image/png": "[encoded data removed]",
      "text/plain": [
       "<matplotlib.figure.Figure at 0x2ada0f2e4d68>"
      ]
     },
     "metadata": {},
     "output_type": "display_data"
    }
   ],
   "source": [
    "# Let's plot it!\n",
    "plt.hist(rounded_hours_series)"
   ]
  },
  {
   "cell_type": "code",
   "execution_count": 30,
   "metadata": {
    "collapsed": true
   },
   "outputs": [],
   "source": [
    "# Yet again, it seems that simply throwing out reviews over 1000 will basically\n",
    "# result in letting go of very few reviews (and dealing effectively with our\n",
    "# outlier issue), so (at least for this game), it seems like a good idea to\n",
    "# set the cap at 1000 hours"
   ]
  },
  {
   "cell_type": "code",
   "execution_count": 31,
   "metadata": {
    "collapsed": true
   },
   "outputs": [],
   "source": [
    "# Now that we know that, for Football_Manager_2015.txt, reviews that are under\n",
    "# 1200 characters in length represent the bulk of the reviews (and that reviews\n",
    "# that are over that can be thrown out), let's update the FILTER_DICT in\n",
    "# data/__init__.py. This dictionary will contain keys for each game file and\n",
    "# those keys themselves will map to dictionaries that contain keys for\n",
    "# MAXLEN, MAXHOURS, MINLEN, MINHOURS.\n",
    "# We also know that we want to throw out reviews whose hours played value is\n",
    "# greater than 1000 (for this particular game), so we can also set that key.\n",
    "# As for MINLEN and MINHOURS, let's just use 50 and 0, respectively, for now.\n",
    "# If we find that other values should be used for any given game, we can change\n",
    "# the values.\n",
    "# Note that I have already updated the FILTER_DICT for the 'Football_Manager_2015'\n",
    "# game to show you how it would look. As you figure out the values for the other\n",
    "# games, updated FILTER_DICT accordingly."
   ]
  },
  {
   "cell_type": "code",
   "execution_count": 29,
   "metadata": {
    "collapsed": true
   },
   "outputs": [],
   "source": [
    "# Playing around with this library called plotly\n",
    "# Let's try to make a histogram in a slightly different kind of way\n",
    "import plotly\n",
    "import plotly.tools as tls\n",
    "import plotly.plotly as py\n",
    "from plotly.graph_objs import *\n",
    "rounded_lengths_data = Data([\n",
    "                             Histogram(\n",
    "                                       x=rounded_lengths\n",
    "                                       )\n",
    "                             ])"
   ]
  },
  {
   "cell_type": "code",
   "execution_count": 30,
   "metadata": {
    "collapsed": false
   },
   "outputs": [],
   "source": [
    "plot_url = py.plot(rounded_lengths_data, filename='basic-histogram')"
   ]
  },
  {
   "cell_type": "code",
   "execution_count": 78,
   "metadata": {
    "collapsed": false
   },
   "outputs": [
    {
     "data": {
      "text/plain": [
       "'https://plot.ly/~mulhod/4'"
      ]
     },
     "execution_count": 78,
     "metadata": {},
     "output_type": "execute_result"
    }
   ],
   "source": [
    "# Hmm, seems kind of interesting, there's a lot of stuff you can do with\n",
    "# visualizing the data\n",
    "# Here's the plot url, but I don't know if anybody but me will be able to see it,\n",
    "# so, I'm going to try to put the graph directly in the IPython notebook.\n",
    "plot_url"
   ]
  },
  {
   "cell_type": "code",
   "execution_count": 77,
   "metadata": {
    "collapsed": false
   },
   "outputs": [
    {
     "data": {
      "text/html": [
       "<iframe id=\"igraph\" scrolling=\"no\" style=\"border:none;\"seamless=\"seamless\" src=\"https://plot.ly/~mulhod/4.embed\" height=\"525\" width=\"100%\"></iframe>"
      ],
      "text/plain": [
       "<plotly.tools.PlotlyDisplay object>"
      ]
     },
     "execution_count": 77,
     "metadata": {},
     "output_type": "execute_result"
    }
   ],
   "source": [
    "py.iplot(rounded_lengths_data, filename='basic-histogram')"
   ]
  },
  {
   "cell_type": "code",
   "execution_count": 79,
   "metadata": {
    "collapsed": true
   },
   "outputs": [],
   "source": [
    "# It's nice how interactive the graphs from plotly are! Hover around on\n",
    "# the graph. Also, look at the lower right and right-click the \"Play\n",
    "# with this data! >>\" button"
   ]
  },
  {
   "cell_type": "code",
   "execution_count": 80,
   "metadata": {
    "collapsed": true
   },
   "outputs": [],
   "source": [
    "# Anyway, this was just an aside. You don't need to do the plotly stuff\n",
    "# for every game, though it actually does look nicer. Use either plotly or\n",
    "# matplotlib"
   ]
  },
  {
   "cell_type": "markdown",
   "metadata": {
    "collapsed": true
   },
   "source": [
    "#Grand Theft Auto V Stats"
   ]
  },
  {
   "cell_type": "code",
   "execution_count": 32,
   "metadata": {
    "collapsed": false
   },
   "outputs": [
    {
     "data": {
      "text/plain": [
       "[{'hours': 27.8,\n",
       "  'review': \"Game of the year simulator. If you're thinking about buying a game and you don't have GTA5 you basically need this game. BEWARE you need a pretty fast computer to keep up, the game is cheap in comparison to what you might need to spend to get it running but I can play it on a Radeon HD 5870 1GB without much fuss so the fact that it can run on 2009 hardware is pretty impressive. No complaints in the optimization department. I must say, the PC options are fantastic. There is a LOT of tweaking to do, especially in regards to the controller and keyboard settings in addition to the expansive performance tweaks. My favorite part is having a keyboard and mouse and gamepad in front of me and when the game gets to an intense shooting part I can put down my controller and use the keyboard/mouse and start shooting without having to go to a settings menu and change anything. It just works. It's perfect. The gameplay itself needs no introduction. You can do pretty much anything. Even online play is pretty good, first time I played two guys were in an airplane and nosedived right into me while on foot and everyone died. 10/10\"},\n",
       " {'hours': 48.8, 'review': \"I can taste the console peasants' tears\"},\n",
       " {'hours': 56.0,\n",
       "  'review': 'This review took me almost 2 years to write and was delayed 3 times.'}]"
      ]
     },
     "execution_count": 32,
     "metadata": {},
     "output_type": "execute_result"
    }
   ],
   "source": [
    "reviews = get_reviews_for_game('data/Grand_Theft_Auto_V.txt')\n",
    "reviews[:3]"
   ]
  },
  {
   "cell_type": "markdown",
   "metadata": {},
   "source": [
    "#Grand Theft Auto V: Review Length Distribution"
   ]
  },
  {
   "cell_type": "code",
   "execution_count": 34,
   "metadata": {
    "collapsed": false
   },
   "outputs": [
    {
     "data": {
      "text/plain": [
       "[1129, 39, 68, 63, 85, 79, 357, 203, 2034, 15]"
      ]
     },
     "execution_count": 34,
     "metadata": {},
     "output_type": "execute_result"
    }
   ],
   "source": [
    "lengths = [len(review['review']) for review in reviews]\n",
    "lengths[:10]"
   ]
  },
  {
   "cell_type": "code",
   "execution_count": 35,
   "metadata": {
    "collapsed": false
   },
   "outputs": [
    {
     "name": "stdout",
     "output_type": "stream",
     "text": [
      "min: 1\n",
      "max: 7958\n"
     ]
    }
   ],
   "source": [
    "print(\"min: {}\\nmax: {}\".format(min(lengths), max(lengths)))"
   ]
  },
  {
   "cell_type": "code",
   "execution_count": 37,
   "metadata": {
    "collapsed": false
   },
   "outputs": [
    {
     "data": {
      "text/plain": [
       "[1200, 300, 300, 300, 300, 300, 600, 300, 2100, 300]"
      ]
     },
     "execution_count": 37,
     "metadata": {},
     "output_type": "execute_result"
    }
   ],
   "source": [
    "rounded_lengths = [ceil(l/300)*300 for l in lengths]\n",
    "rounded_lengths[:10]"
   ]
  },
  {
   "cell_type": "code",
   "execution_count": 39,
   "metadata": {
    "collapsed": false
   },
   "outputs": [
    {
     "data": {
      "text/plain": [
       "(array([  9.43500000e+03,   3.67000000e+02,   6.70000000e+01,\n",
       "          3.60000000e+01,   9.00000000e+00,   1.10000000e+01,\n",
       "          7.00000000e+00,   0.00000000e+00,   3.00000000e+00,\n",
       "          5.00000000e+00]),\n",
       " array([  300.,  1080.,  1860.,  2640.,  3420.,  4200.,  4980.,  5760.,\n",
       "         6540.,  7320.,  8100.]),\n",
       " <a list of 10 Patch objects>)"
      ]
     },
     "execution_count": 39,
     "metadata": {},
     "output_type": "execute_result"
    },
    {
     "data": {
      "image/png": "[encoded data removed]",
      "text/plain": [
       "<matplotlib.figure.Figure at 0x2ada0f72fcf8>"
      ]
     },
     "metadata": {},
     "output_type": "display_data"
    }
   ],
   "source": [
    "rounded_lengths_series = pd.Series(rounded_lengths)\n",
    "plt.hist(rounded_lengths_series)"
   ]
  },
  {
   "cell_type": "markdown",
   "metadata": {},
   "source": [
    "#Grand Theft Auto V: Review Hours Played Distribution"
   ]
  },
  {
   "cell_type": "code",
   "execution_count": 40,
   "metadata": {
    "collapsed": false
   },
   "outputs": [
    {
     "data": {
      "text/plain": [
       "[27.8, 48.8, 56.0, 59.7, 3.8, 22.5, 19.0, 66.6, 75.8, 61.4]"
      ]
     },
     "execution_count": 40,
     "metadata": {},
     "output_type": "execute_result"
    }
   ],
   "source": [
    "hours = [review['hours'] for review in reviews]\n",
    "hours[:10]"
   ]
  },
  {
   "cell_type": "code",
   "execution_count": 41,
   "metadata": {
    "collapsed": false
   },
   "outputs": [
    {
     "name": "stdout",
     "output_type": "stream",
     "text": [
      "min: 0.1\n",
      "max: 235.0\n"
     ]
    }
   ],
   "source": [
    "print(\"min: {}\\nmax: {}\".format(min(hours), max(hours)))"
   ]
  },
  {
   "cell_type": "code",
   "execution_count": 43,
   "metadata": {
    "collapsed": false
   },
   "outputs": [
    {
     "data": {
      "text/plain": [
       "[30, 50, 60, 60, 10, 30, 20, 70, 80, 70]"
      ]
     },
     "execution_count": 43,
     "metadata": {},
     "output_type": "execute_result"
    }
   ],
   "source": [
    "rounded_hours = [ceil(h/10)*10 for h in hours]\n",
    "rounded_hours[:10]"
   ]
  },
  {
   "cell_type": "code",
   "execution_count": 44,
   "metadata": {
    "collapsed": false
   },
   "outputs": [
    {
     "data": {
      "text/plain": [
       "(array([  4.25200000e+03,   2.75000000e+03,   1.63700000e+03,\n",
       "          9.80000000e+02,   1.96000000e+02,   8.20000000e+01,\n",
       "          3.10000000e+01,   4.00000000e+00,   6.00000000e+00,\n",
       "          2.00000000e+00]),\n",
       " array([  10.,   33.,   56.,   79.,  102.,  125.,  148.,  171.,  194.,\n",
       "         217.,  240.]),\n",
       " <a list of 10 Patch objects>)"
      ]
     },
     "execution_count": 44,
     "metadata": {},
     "output_type": "execute_result"
    },
    {
     "data": {
      "image/png": "[encoded data removed]",
      "text/plain": [
       "<matplotlib.figure.Figure at 0x2ad9fccc8198>"
      ]
     },
     "metadata": {},
     "output_type": "display_data"
    }
   ],
   "source": [
    "rounded_hours_series = pd.Series(rounded_hours)\n",
    "plt.hist(rounded_hours_series)"
   ]
  },
  {
   "cell_type": "code",
   "execution_count": 45,
   "metadata": {
    "collapsed": false
   },
   "outputs": [
    {
     "data": {
      "text/plain": [
       "9940"
      ]
     },
     "execution_count": 45,
     "metadata": {},
     "output_type": "execute_result"
    }
   ],
   "source": [
    "len(reviews)"
   ]
  }
 ],
 "metadata": {
  "kernelspec": {
   "display_name": "Python 3",
   "language": "python",
   "name": "python3"
  },
  "language_info": {
   "codemirror_mode": {
    "name": "ipython",
    "version": 3
   },
   "file_extension": ".py",
   "mimetype": "text/x-python",
   "name": "python",
   "nbconvert_exporter": "python",
   "pygments_lexer": "ipython3",
   "version": "3.4.3"
  }
 },
 "nbformat": 4,
 "nbformat_minor": 0
}
