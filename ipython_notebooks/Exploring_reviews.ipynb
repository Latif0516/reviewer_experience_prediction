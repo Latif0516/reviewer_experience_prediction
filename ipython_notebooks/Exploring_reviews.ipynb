{
 "cells": [
  {
   "cell_type": "code",
   "execution_count": 1,
   "metadata": {
    "collapsed": true
   },
   "outputs": [],
   "source": [
    "import sys, os"
   ]
  },
  {
   "cell_type": "code",
   "execution_count": 2,
   "metadata": {
    "collapsed": false
   },
   "outputs": [
    {
     "name": "stdout",
     "output_type": "stream",
     "text": [
      "/home/mulhollandm2/reviews_project/reviewer_experience_prediction/data\n"
     ]
    }
   ],
   "source": [
    "cd ~/reviews_project/reviewer_experience_prediction/data/"
   ]
  },
  {
   "cell_type": "code",
   "execution_count": 3,
   "metadata": {
    "collapsed": false
   },
   "outputs": [
    {
     "name": "stdout",
     "output_type": "stream",
     "text": [
      "Arma_3.txt\t\t\t     __init__.py\r\n",
      "Counter_Strike_Global_Offensive.txt  __pycache__\r\n",
      "Counter_Strike.txt\t\t     Sid_Meiers_Civilization_5.txt\r\n",
      "Dota_2.txt\t\t\t     Team_Fortress_2.txt\r\n",
      "Football_Manager_2015.txt\t     The_Elder_Scrolls_V.txt\r\n",
      "Garrys_Mod.txt\t\t\t     Warframe.txt\r\n"
     ]
    }
   ],
   "source": [
    "! ls"
   ]
  },
  {
   "cell_type": "code",
   "execution_count": 18,
   "metadata": {
    "collapsed": false
   },
   "outputs": [
    {
     "name": "stdout",
     "output_type": "stream",
     "text": [
      "   30910 Arma_3.txt\n",
      "   63940 Counter_Strike_Global_Offensive.txt\n",
      "   17712 Counter_Strike.txt\n",
      "   59500 Dota_2.txt\n",
      "    2346 Football_Manager_2015.txt\n",
      "   63320 Garrys_Mod.txt\n",
      "   64656 Sid_Meiers_Civilization_5.txt\n",
      "   61500 Team_Fortress_2.txt\n",
      "   63018 The_Elder_Scrolls_V.txt\n",
      "   49270 Warframe.txt\n",
      "  476172 total\n"
     ]
    }
   ],
   "source": [
    "! wc -l *.txt"
   ]
  },
  {
   "cell_type": "code",
   "execution_count": 6,
   "metadata": {
    "collapsed": true
   },
   "outputs": [],
   "source": [
    "sys.path.append('/home/mulhollandm2/reviews_project/reviewer_experience_prediction/util/')"
   ]
  },
  {
   "cell_type": "code",
   "execution_count": 7,
   "metadata": {
    "collapsed": false
   },
   "outputs": [],
   "source": [
    "from langdetect import detect\n",
    "from os.path import dirname, realpath, join\n",
    "def get_reviews_for_game(file_name):\n",
    "    '''\n",
    "    Get list of reviews in a single game file.\n",
    "\n",
    "    :param file_name: name of file\n",
    "    :type file_name: str\n",
    "    :returns: list of dicts\n",
    "    '''\n",
    "\n",
    "    reviews = []\n",
    "    lines = open(file_name).readlines()\n",
    "    i = 0\n",
    "    while i + 1 < len(lines): # We need to get every 2-line couplet\n",
    "        # Extract the hours value and the review text from each 2-line\n",
    "        # sequence\n",
    "        try:\n",
    "            h = float(lines[i].split()[1].strip())\n",
    "            r = lines[i + 1].split(' ', 1)[1].strip()\n",
    "        except (ValueError, IndexError) as e:\n",
    "            i += 2\n",
    "            continue\n",
    "        try:\n",
    "            if not detect(r) == 'en':\n",
    "                i += 2\n",
    "                continue\n",
    "        except:\n",
    "            i += 2\n",
    "            continue\n",
    "        reviews.append(dict(hours=h,\n",
    "                            review=r))\n",
    "        i += 2 # Increment i by 2 since we need to go to the next\n",
    "            # 2-line couplet\n",
    "    return reviews"
   ]
  },
  {
   "cell_type": "code",
   "execution_count": 8,
   "metadata": {
    "collapsed": false
   },
   "outputs": [],
   "source": [
    "reviews = get_reviews_for_game('Football_Manager_2015.txt')"
   ]
  },
  {
   "cell_type": "code",
   "execution_count": 10,
   "metadata": {
    "collapsed": false
   },
   "outputs": [
    {
     "data": {
      "text/plain": [
       "[{'hours': 237.9,\n",
       "  'review': \"ive bought this game for many years and think this might be my last. firstly im not keen on spending 30 a year on something that could be released as an update. the lack of competition in the manager genre has made SI very lazy, to the point where they make one or two small changes and market it as a new game. here are some of the points where my problems lie -ridiculous injurys, in my first season there was not one point where i didnt have at least six players injured -how many times in real football does a team make all its subs then a player gets injured and they finish the game with 10 men? well in FM about one in three games but amazingly never to the computer opponent -its almost impossible to generate any momentum anymore in FM, you will be playing well then suddenly lose for no reason -football has always been in the headlines for footballers astronomical wages, thank god its not like FM, youth players who have never made a first team appearance asking for 40k! agents of average players asking for 5mill in fees! -instead of improving things like the ability to see how your players have performed in training during the week to help your decisions on who to play SI add 'tunnel interviews'?!? i can imagine the meeting at SI 'so what have the fans on the forums been asking for' 'well their all desperate for more press interviews in the game, they just dont feel theres enough' as fans of the series we should treat SI like an alchoholic relative and not hand over money to them to continue their bad habits, in this case their bad habits being treating fans like cash-cows that they can just make sub-standard games for and rely on fan loyalty\"},\n",
       " {'hours': 113.0,\n",
       "  'review': 'I have played every iteration of the Football Manager series, long before I even used Steam and I have to say that Football Manager 2015 has some of the most glaring issues I have seen within the series. Manager customization has been inserted and is a step in the right direction, but not entirely. So, you will get to \"customize\" the stats of your manager. Are you more laid back or more technical? The option to customize and edit stats as such as adaptability and understand of things like attacking, defensive, etc are there. However, i don\\'t entirely know what impact they have on the game as In my 9 hours of playing I haven\\'t really noticed it or came across them again. I also do not know if these stats improve or worsen over time, depending on what you do - as the game does not tell you, even in the very brief tutorials. The new user interface layout is amazing and is long overdue. I actually found that I stopped playing Football Manager 2014 because of the UI. It was clunky, it was a mess and I had no idea where anything was. It was all just text and drop down menu\\'s. Now there is a nice sidebar which provides links that take you to the most important and most used parts of the game as such as tactics, scouting, team, etc. Purchasing players is odd this year. Sometimes it is extremely easy to buy a player and others extremely difficult, for no reason - even if you are trying to purchase an already transfer listed player or a reserve player getting no games at his current club. The old \"Let me pay 100m on a 48 month deal\" STILL works. You can buy any player that wants to come to your club if you use this method and it totally breaks the entire game. My biggest gripe and the sole reason why I need to give a bad recommendation to this game: The AI and the match engine. The AI in Football Manager 2015 is the worst I have ever seen in the series. If you actually sit and watch the match unfold you will see some of the following: - Players running for a ball and stopping for no reason - The goalkeeper saving the ball, standing back and staring at the ball, which is touching his feet - A Player will chase the ball down the wing at full speed, slow down and allow a opposing team player to catch up and take the ball. - Opposing team player has the ball and stands still. All of your players are polite enough to let him stand still. - Outrages tackles: Ball is moving out of your box, opposing striker is running out of your box. There is no threat. Defender will slide tackle him as he is leaving the box and give away a penalty. - CB\\'s that seem to play as strikers, leaving entire gaps in your defence. Red cards, injuries and own goals - EVERYWHERE. I have not went through a game yet where there has not been at least one own goal either by my team or the opposing team. They are everywhere. Red cards and injuries happen in abundance - I have had 10 players injured within the first month of a season even though I had average training and not too many games in quick succession. Tactics do not work as they are intended. If you sit down and take the time to read and learn how to create tactics, you will be so frustrated. The game gives you descriptions of what each position and instruction does, in depth. This is great. However, they do not work as they say. Short passing, retaining position and not punting the ball up the park? Team constantly just fires the ball all over the park with next to no short passing. Push higher up the park? Team sits deep. Because of these issues, scorelines can be ridiculous. In my first 5 games of the season there was a combined number of 30 goals between me and the other team. My first game finished 5-4 and my second was 6-3. This all leads to a very frustrating experience overall. Every year SI always say \"we are improving the match engine\". Where are these improvements? I have not seen any improvements, just more bugs and terrible AI. I love this series and I am a huge football fan, but I feel obliged to tell fellow consumers not to purchase this product until it vastly improves.'},\n",
       " {'hours': 1138.7,\n",
       "  'review': \"I've been a huge fan of FM going way back before the big split that led to Championship Manager and Football Manager. Since I started this game, I've won the league once and the treble in another season. I'm in my fourth season. So it's not like I'm whinging because I can't win. But there is clearly something wrong with the matchday engine. The most succinct way I can put it is that it's like they've decided Brazil vs Germany from the last WC is commonplace. I'll keep 8 straight clean sheets (or something like that) then get beaten by a promoted side 6-0, or 7-5! What's more, I've noticed other games in the league finishing 8-6, and stuff like that. Since I started counting, in three seasons I've seen goalkeepers chipped from the touchline or from inside the defending half 27 TIMES!!! The game needs a lot of work. It's a winning franchise; so, all they need to do is fix it. But don't spend your money on it until they do. They have released a very dodgy product. I've never seen an FM release like it. Just makes the game seem ridiculous, even when you're winning. And that's not why people play this game, right?\"}]"
      ]
     },
     "execution_count": 10,
     "metadata": {},
     "output_type": "execute_result"
    }
   ],
   "source": [
    "reviews[:3]"
   ]
  },
  {
   "cell_type": "code",
   "execution_count": 11,
   "metadata": {
    "collapsed": false
   },
   "outputs": [
    {
     "data": {
      "text/plain": [
       "[1669, 4072, 1126, 3370, 60, 1283, 954, 1127, 65, 1309]"
      ]
     },
     "execution_count": 11,
     "metadata": {},
     "output_type": "execute_result"
    }
   ],
   "source": [
    "lengths = [len(review['review']) for review in reviews]\n",
    "lengths[:10]"
   ]
  },
  {
   "cell_type": "code",
   "execution_count": 12,
   "metadata": {
    "collapsed": false
   },
   "outputs": [
    {
     "data": {
      "text/plain": [
       "420.7839687194526"
      ]
     },
     "execution_count": 12,
     "metadata": {},
     "output_type": "execute_result"
    }
   ],
   "source": [
    "sum(lengths)/len(lengths)"
   ]
  },
  {
   "cell_type": "code",
   "execution_count": 14,
   "metadata": {
    "collapsed": false
   },
   "outputs": [
    {
     "data": {
      "text/plain": [
       "5"
      ]
     },
     "execution_count": 14,
     "metadata": {},
     "output_type": "execute_result"
    }
   ],
   "source": [
    "min(lengths)"
   ]
  },
  {
   "cell_type": "code",
   "execution_count": 15,
   "metadata": {
    "collapsed": false
   },
   "outputs": [
    {
     "data": {
      "text/plain": [
       "5818"
      ]
     },
     "execution_count": 15,
     "metadata": {},
     "output_type": "execute_result"
    }
   ],
   "source": [
    "max(lengths)"
   ]
  },
  {
   "cell_type": "code",
   "execution_count": 16,
   "metadata": {
    "collapsed": false
   },
   "outputs": [
    {
     "data": {
      "text/plain": [
       "[237.9, 113.0, 1138.7, 194.2, 372.3, 79.7, 1218.2, 386.4, 236.2, 526.4]"
      ]
     },
     "execution_count": 16,
     "metadata": {},
     "output_type": "execute_result"
    }
   ],
   "source": [
    "hours = [review['hours'] for review in reviews]\n",
    "hours[:10]"
   ]
  },
  {
   "cell_type": "code",
   "execution_count": 17,
   "metadata": {
    "collapsed": false
   },
   "outputs": [
    {
     "name": "stdout",
     "output_type": "stream",
     "text": [
      "min: 0.2\n",
      "max: 2482.1\n"
     ]
    }
   ],
   "source": [
    "print(\"min: {}\\nmax: {}\".format(min(hours), max(hours)))"
   ]
  },
  {
   "cell_type": "code",
   "execution_count": 19,
   "metadata": {
    "collapsed": true
   },
   "outputs": [],
   "source": [
    "from math import ceil\n",
    "hours_rounded = [ceil(h) for h in hours]"
   ]
  },
  {
   "cell_type": "code",
   "execution_count": 20,
   "metadata": {
    "collapsed": false
   },
   "outputs": [
    {
     "data": {
      "text/plain": [
       "[238, 113, 1139, 195, 373, 80, 1219, 387, 237, 527]"
      ]
     },
     "execution_count": 20,
     "metadata": {},
     "output_type": "execute_result"
    }
   ],
   "source": [
    "hours_rounded[:10]"
   ]
  },
  {
   "cell_type": "code",
   "execution_count": 21,
   "metadata": {
    "collapsed": true
   },
   "outputs": [],
   "source": [
    "from collections import Counter\n",
    "c = Counter(hours_rounded)"
   ]
  },
  {
   "cell_type": "code",
   "execution_count": 24,
   "metadata": {
    "collapsed": false
   },
   "outputs": [
    {
     "data": {
      "text/plain": [
       "[(39, 10),\n",
       " (178, 9),\n",
       " (68, 8),\n",
       " (11, 7),\n",
       " (29, 7),\n",
       " (121, 7),\n",
       " (10, 6),\n",
       " (18, 6),\n",
       " (20, 6),\n",
       " (51, 6),\n",
       " (101, 6),\n",
       " (189, 6),\n",
       " (214, 6),\n",
       " (129, 6),\n",
       " (1, 5),\n",
       " (2, 5),\n",
       " (4, 5),\n",
       " (23, 5),\n",
       " (36, 5),\n",
       " (58, 5),\n",
       " (63, 5),\n",
       " (77, 5),\n",
       " (88, 5),\n",
       " (111, 5),\n",
       " (113, 5),\n",
       " (127, 5),\n",
       " (195, 5),\n",
       " (164, 5),\n",
       " (175, 5),\n",
       " (207, 5),\n",
       " (254, 5),\n",
       " (3, 4),\n",
       " (6, 4),\n",
       " (7, 4),\n",
       " (9, 4),\n",
       " (12, 4),\n",
       " (15, 4),\n",
       " (26, 4),\n",
       " (30, 4),\n",
       " (31, 4),\n",
       " (42, 4),\n",
       " (43, 4),\n",
       " (48, 4),\n",
       " (56, 4),\n",
       " (57, 4),\n",
       " (60, 4),\n",
       " (64, 4),\n",
       " (80, 4),\n",
       " (107, 4),\n",
       " (110, 4),\n",
       " (123, 4),\n",
       " (128, 4),\n",
       " (142, 4),\n",
       " (152, 4),\n",
       " (154, 4),\n",
       " (157, 4),\n",
       " (160, 4),\n",
       " (165, 4),\n",
       " (172, 4),\n",
       " (182, 4),\n",
       " (197, 4),\n",
       " (205, 4),\n",
       " (236, 4),\n",
       " (242, 4),\n",
       " (288, 4),\n",
       " (330, 4),\n",
       " (350, 4),\n",
       " (386, 4),\n",
       " (5, 3),\n",
       " (14, 3),\n",
       " (17, 3),\n",
       " (21, 3),\n",
       " (24, 3),\n",
       " (35, 3),\n",
       " (38, 3),\n",
       " (45, 3),\n",
       " (52, 3),\n",
       " (62, 3),\n",
       " (69, 3),\n",
       " (73, 3),\n",
       " (75, 3),\n",
       " (79, 3),\n",
       " (83, 3),\n",
       " (89, 3),\n",
       " (92, 3),\n",
       " (94, 3),\n",
       " (95, 3),\n",
       " (99, 3),\n",
       " (100, 3),\n",
       " (103, 3),\n",
       " (104, 3),\n",
       " (105, 3),\n",
       " (106, 3),\n",
       " (108, 3),\n",
       " (112, 3),\n",
       " (120, 3),\n",
       " (126, 3),\n",
       " (130, 3),\n",
       " (135, 3),\n",
       " (136, 3),\n",
       " (138, 3),\n",
       " (148, 3),\n",
       " (149, 3),\n",
       " (151, 3),\n",
       " (166, 3),\n",
       " (168, 3),\n",
       " (169, 3),\n",
       " (173, 3),\n",
       " (180, 3),\n",
       " (185, 3),\n",
       " (199, 3),\n",
       " (201, 3),\n",
       " (204, 3),\n",
       " (210, 3),\n",
       " (213, 3),\n",
       " (222, 3),\n",
       " (226, 3),\n",
       " (232, 3),\n",
       " (237, 3),\n",
       " (238, 3),\n",
       " (248, 3),\n",
       " (252, 3),\n",
       " (260, 3),\n",
       " (282, 3),\n",
       " (284, 3),\n",
       " (292, 3),\n",
       " (293, 3),\n",
       " (318, 3),\n",
       " (363, 3),\n",
       " (364, 3),\n",
       " (376, 3),\n",
       " (384, 3),\n",
       " (395, 3),\n",
       " (403, 3),\n",
       " (420, 3),\n",
       " (461, 3),\n",
       " (507, 3),\n",
       " (522, 3),\n",
       " (524, 3),\n",
       " (590, 3),\n",
       " (115, 3),\n",
       " (916, 3),\n",
       " (8, 2),\n",
       " (27, 2),\n",
       " (28, 2),\n",
       " (33, 2),\n",
       " (34, 2),\n",
       " (37, 2),\n",
       " (41, 2),\n",
       " (54, 2),\n",
       " (65, 2),\n",
       " (71, 2),\n",
       " (72, 2),\n",
       " (74, 2),\n",
       " (84, 2),\n",
       " (85, 2),\n",
       " (86, 2),\n",
       " (87, 2),\n",
       " (93, 2),\n",
       " (97, 2),\n",
       " (116, 2),\n",
       " (118, 2),\n",
       " (119, 2),\n",
       " (122, 2),\n",
       " (124, 2),\n",
       " (125, 2),\n",
       " (131, 2),\n",
       " (137, 2),\n",
       " (141, 2),\n",
       " (145, 2),\n",
       " (146, 2),\n",
       " (150, 2),\n",
       " (153, 2),\n",
       " (155, 2),\n",
       " (158, 2),\n",
       " (162, 2),\n",
       " (174, 2),\n",
       " (176, 2),\n",
       " (179, 2),\n",
       " (181, 2),\n",
       " (187, 2),\n",
       " (188, 2),\n",
       " (190, 2),\n",
       " (198, 2),\n",
       " (200, 2),\n",
       " (211, 2),\n",
       " (218, 2),\n",
       " (224, 2),\n",
       " (225, 2),\n",
       " (229, 2),\n",
       " (231, 2),\n",
       " (233, 2),\n",
       " (240, 2),\n",
       " (246, 2),\n",
       " (250, 2),\n",
       " (261, 2),\n",
       " (265, 2),\n",
       " (268, 2),\n",
       " (272, 2),\n",
       " (274, 2),\n",
       " (46, 2),\n",
       " (287, 2),\n",
       " (294, 2),\n",
       " (295, 2),\n",
       " (304, 2),\n",
       " (306, 2),\n",
       " (307, 2),\n",
       " (313, 2),\n",
       " (314, 2),\n",
       " (320, 2),\n",
       " (322, 2),\n",
       " (324, 2),\n",
       " (326, 2),\n",
       " (335, 2),\n",
       " (337, 2),\n",
       " (341, 2),\n",
       " (342, 2),\n",
       " (346, 2),\n",
       " (351, 2),\n",
       " (546, 2),\n",
       " (359, 2),\n",
       " (387, 2),\n",
       " (389, 2),\n",
       " (397, 2),\n",
       " (408, 2),\n",
       " (410, 2),\n",
       " (1436, 2),\n",
       " (413, 2),\n",
       " (416, 2),\n",
       " (421, 2),\n",
       " (430, 2),\n",
       " (435, 2),\n",
       " (442, 2),\n",
       " (469, 2),\n",
       " (82, 2),\n",
       " (498, 2),\n",
       " (500, 2),\n",
       " (525, 2),\n",
       " (2483, 2),\n",
       " (572, 2),\n",
       " (593, 2),\n",
       " (1124, 2),\n",
       " (604, 2),\n",
       " (532, 2),\n",
       " (277, 2),\n",
       " (682, 2),\n",
       " (693, 2),\n",
       " (735, 2),\n",
       " (25, 2),\n",
       " (132, 2),\n",
       " (844, 2),\n",
       " (1909, 2),\n",
       " (13, 1),\n",
       " (16, 1),\n",
       " (19, 1),\n",
       " (22, 1),\n",
       " (1028, 1),\n",
       " (32, 1),\n",
       " (1064, 1),\n",
       " (44, 1),\n",
       " (1070, 1),\n",
       " (47, 1),\n",
       " (49, 1),\n",
       " (1074, 1),\n",
       " (53, 1),\n",
       " (1033, 1),\n",
       " (59, 1),\n",
       " (66, 1),\n",
       " (67, 1),\n",
       " (70, 1),\n",
       " (76, 1),\n",
       " (78, 1),\n",
       " (81, 1),\n",
       " (1106, 1),\n",
       " (91, 1),\n",
       " (96, 1),\n",
       " (98, 1),\n",
       " (109, 1),\n",
       " (114, 1),\n",
       " (1139, 1),\n",
       " (1153, 1),\n",
       " (1156, 1),\n",
       " (134, 1),\n",
       " (139, 1),\n",
       " (140, 1),\n",
       " (143, 1),\n",
       " (144, 1),\n",
       " (156, 1),\n",
       " (1051, 1),\n",
       " (170, 1),\n",
       " (171, 1),\n",
       " (177, 1),\n",
       " (183, 1),\n",
       " (184, 1),\n",
       " (193, 1),\n",
       " (1219, 1),\n",
       " (196, 1),\n",
       " (1226, 1),\n",
       " (206, 1),\n",
       " (2260, 1),\n",
       " (215, 1),\n",
       " (216, 1),\n",
       " (217, 1),\n",
       " (223, 1),\n",
       " (227, 1),\n",
       " (230, 1),\n",
       " (235, 1),\n",
       " (241, 1),\n",
       " (243, 1),\n",
       " (245, 1),\n",
       " (247, 1),\n",
       " (251, 1),\n",
       " (253, 1),\n",
       " (255, 1),\n",
       " (256, 1),\n",
       " (258, 1),\n",
       " (259, 1),\n",
       " (1287, 1),\n",
       " (264, 1),\n",
       " (269, 1),\n",
       " (270, 1),\n",
       " (271, 1),\n",
       " (273, 1),\n",
       " (275, 1),\n",
       " (280, 1),\n",
       " (289, 1),\n",
       " (290, 1),\n",
       " (298, 1),\n",
       " (300, 1),\n",
       " (301, 1),\n",
       " (302, 1),\n",
       " (1327, 1),\n",
       " (1067, 1),\n",
       " (309, 1),\n",
       " (311, 1),\n",
       " (312, 1),\n",
       " (315, 1),\n",
       " (316, 1),\n",
       " (319, 1),\n",
       " (321, 1),\n",
       " (323, 1),\n",
       " (325, 1),\n",
       " (328, 1),\n",
       " (55, 1),\n",
       " (334, 1),\n",
       " (336, 1),\n",
       " (338, 1),\n",
       " (343, 1),\n",
       " (347, 1),\n",
       " (348, 1),\n",
       " (349, 1),\n",
       " (353, 1),\n",
       " (360, 1),\n",
       " (366, 1),\n",
       " (368, 1),\n",
       " (1298, 1),\n",
       " (373, 1),\n",
       " (374, 1),\n",
       " (379, 1),\n",
       " (380, 1),\n",
       " (381, 1),\n",
       " (383, 1),\n",
       " (385, 1),\n",
       " (398, 1),\n",
       " (402, 1),\n",
       " (405, 1),\n",
       " (409, 1),\n",
       " (411, 1),\n",
       " (415, 1),\n",
       " (417, 1),\n",
       " (425, 1),\n",
       " (426, 1),\n",
       " (427, 1),\n",
       " (429, 1),\n",
       " (432, 1),\n",
       " (434, 1),\n",
       " (439, 1),\n",
       " (440, 1),\n",
       " (443, 1),\n",
       " (444, 1),\n",
       " (446, 1),\n",
       " (447, 1),\n",
       " (449, 1),\n",
       " (452, 1),\n",
       " (1100, 1),\n",
       " (1482, 1),\n",
       " (459, 1),\n",
       " (460, 1),\n",
       " (467, 1),\n",
       " (471, 1),\n",
       " (474, 1),\n",
       " (479, 1),\n",
       " (481, 1),\n",
       " (483, 1),\n",
       " (485, 1),\n",
       " (486, 1),\n",
       " (487, 1),\n",
       " (489, 1),\n",
       " (491, 1),\n",
       " (1519, 1),\n",
       " (499, 1),\n",
       " (501, 1),\n",
       " (502, 1),\n",
       " (504, 1),\n",
       " (505, 1),\n",
       " (506, 1),\n",
       " (510, 1),\n",
       " (513, 1),\n",
       " (515, 1),\n",
       " (520, 1),\n",
       " (526, 1),\n",
       " (527, 1),\n",
       " (1283, 1),\n",
       " (1556, 1),\n",
       " (534, 1),\n",
       " (601, 1),\n",
       " (536, 1),\n",
       " (543, 1),\n",
       " (544, 1),\n",
       " (1570, 1),\n",
       " (550, 1),\n",
       " (554, 1),\n",
       " (561, 1),\n",
       " (564, 1),\n",
       " (567, 1),\n",
       " (570, 1),\n",
       " (1595, 1),\n",
       " (573, 1),\n",
       " (578, 1),\n",
       " (582, 1),\n",
       " (592, 1),\n",
       " (595, 1),\n",
       " (605, 1),\n",
       " (607, 1),\n",
       " (614, 1),\n",
       " (615, 1),\n",
       " (616, 1),\n",
       " (620, 1),\n",
       " (621, 1),\n",
       " (1640, 1),\n",
       " (636, 1),\n",
       " (642, 1),\n",
       " (643, 1),\n",
       " (648, 1),\n",
       " (650, 1),\n",
       " (655, 1),\n",
       " (656, 1),\n",
       " (658, 1),\n",
       " (660, 1),\n",
       " (1134, 1),\n",
       " (664, 1),\n",
       " (672, 1),\n",
       " (625, 1),\n",
       " (681, 1),\n",
       " (684, 1),\n",
       " (685, 1),\n",
       " (686, 1),\n",
       " (706, 1),\n",
       " (708, 1),\n",
       " (718, 1),\n",
       " (722, 1),\n",
       " (732, 1),\n",
       " (734, 1),\n",
       " (1766, 1),\n",
       " (749, 1),\n",
       " (753, 1),\n",
       " (759, 1),\n",
       " (763, 1),\n",
       " (770, 1),\n",
       " (772, 1),\n",
       " (776, 1),\n",
       " (777, 1),\n",
       " (780, 1),\n",
       " (781, 1),\n",
       " (788, 1),\n",
       " (795, 1),\n",
       " (815, 1),\n",
       " (817, 1),\n",
       " (836, 1),\n",
       " (1864, 1),\n",
       " (1872, 1),\n",
       " (854, 1),\n",
       " (858, 1),\n",
       " (860, 1),\n",
       " (867, 1),\n",
       " (868, 1),\n",
       " (869, 1),\n",
       " (874, 1),\n",
       " (1918, 1),\n",
       " (914, 1),\n",
       " (915, 1),\n",
       " (622, 1),\n",
       " (1522, 1),\n",
       " (945, 1),\n",
       " (948, 1),\n",
       " (202, 1),\n",
       " (953, 1),\n",
       " (1354, 1),\n",
       " (989, 1),\n",
       " (990, 1),\n",
       " (1001, 1),\n",
       " (2034, 1),\n",
       " (1016, 1),\n",
       " (1020, 1)]"
      ]
     },
     "execution_count": 24,
     "metadata": {},
     "output_type": "execute_result"
    }
   ],
   "source": [
    "c.most_common()"
   ]
  }
 ],
 "metadata": {
  "kernelspec": {
   "display_name": "Python 3",
   "language": "python",
   "name": "python3"
  },
  "language_info": {
   "codemirror_mode": {
    "name": "ipython",
    "version": 3
   },
   "file_extension": ".py",
   "mimetype": "text/x-python",
   "name": "python",
   "nbconvert_exporter": "python",
   "pygments_lexer": "ipython3",
   "version": "3.4.3"
  }
 },
 "nbformat": 4,
 "nbformat_minor": 0
}
