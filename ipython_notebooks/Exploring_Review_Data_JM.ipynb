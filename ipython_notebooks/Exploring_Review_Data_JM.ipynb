{
 "cells": [
  {
   "cell_type": "markdown",
   "metadata": {},
   "source": [
    "#Exploring Review Data\n",
    "- let's look at some typical reviews, how many files there are, what the distributions of review lengths and hours played are, etc."
   ]
  },
  {
   "cell_type": "code",
   "execution_count": 2,
   "metadata": {
    "collapsed": true
   },
   "outputs": [],
   "source": [
    "# Pretty much, this is my standard header because I use these following\n",
    "# two libraries all the time\n",
    "import sys\n",
    "import os"
   ]
  },
  {
   "cell_type": "code",
   "execution_count": 3,
   "metadata": {
    "collapsed": false
   },
   "outputs": [
    {
     "name": "stdout",
     "output_type": "stream",
     "text": [
      "   30910 data/Arma_3.txt\n",
      "   66500 data/Counter_Strike_Global_Offensive.txt\n",
      "   17712 data/Counter_Strike.txt\n",
      "   61900 data/Dota_2.txt\n",
      "    2346 data/Football_Manager_2015.txt\n",
      "   65860 data/Garrys_Mod.txt\n",
      "   19880 data/Grand_Theft_Auto_V.txt\n",
      "   67076 data/Sid_Meiers_Civilization_5.txt\n",
      "   63840 data/Team_Fortress_2.txt\n",
      "   65578 data/The_Elder_Scrolls_V.txt\n",
      "   49270 data/Warframe.txt\n",
      "  510872 total\n"
     ]
    }
   ],
   "source": [
    "# So, let's take a look at how many lines are in our reviews files\n",
    "# Note: I just started processing GTAV after ending all the other processes\n",
    "os.chdir('/home/mulhollandm2/reviews_project/reviewer_experience_prediction')\n",
    "! wc -l data/*.txt"
   ]
  },
  {
   "cell_type": "code",
   "execution_count": 4,
   "metadata": {
    "collapsed": false
   },
   "outputs": [],
   "source": [
    "# This is a stripped-down version of the function in read_data_files.py\n",
    "# Note: I decided to get rid of the language identification rule for the time\n",
    "# being because I don't want this function to take too long or else it will be\n",
    "# useless in this context. We will still use the rule, just not in this\n",
    "# notebook setting.\n",
    "def get_reviews_for_game(file_name):\n",
    "    '''\n",
    "    Get list of reviews in a single game file.\n",
    "\n",
    "    :param file_name: name of file\n",
    "    :type file_name: str\n",
    "    :returns: list of dicts\n",
    "    '''\n",
    "\n",
    "    reviews = []\n",
    "    lines = open(file_name).readlines()\n",
    "    i = 0\n",
    "    while i + 1 < len(lines): # We need to get every 2-line couplet\n",
    "        # Extract the hours value and the review text from each 2-line\n",
    "        # sequence\n",
    "        try:\n",
    "            h = float(lines[i].split()[1].strip())\n",
    "            r = lines[i + 1].split(' ', 1)[1].strip()\n",
    "        except (ValueError, IndexError) as e:\n",
    "            i += 2\n",
    "            continue\n",
    "        reviews.append(dict(hours=h,\n",
    "                            review=r))\n",
    "        i += 2 # Increment i by 2 since we need to go to the next\n",
    "            # 2-line couplet\n",
    "    return reviews"
   ]
  },
  {
   "cell_type": "markdown",
   "metadata": {},
   "source": [
    "# Sid_Meiers_Civilization_5 Stats"
   ]
  },
  {
   "cell_type": "code",
   "execution_count": 5,
   "metadata": {
    "collapsed": false
   },
   "outputs": [],
   "source": [
    "# So, let's first get all of the reviews for the game with the smallest amount of\n",
    "# review data, i.e., Football Manager 2015 (not including GTAV)\n",
    "reviews = get_reviews_for_game('data/Sid_Meiers_Civilization_5.txt')"
   ]
  },
  {
   "cell_type": "code",
   "execution_count": 6,
   "metadata": {
    "collapsed": false
   },
   "outputs": [
    {
     "name": "stdout",
     "output_type": "stream",
     "text": [
      "number of reviews: 33538\n"
     ]
    }
   ],
   "source": [
    "# First of all, how many reviews are there?\n",
    "print('number of reviews: {}'.format(len(reviews)))"
   ]
  },
  {
   "cell_type": "markdown",
   "metadata": {},
   "source": [
    "# Sid_Meiers_Civilization_5: Review Length Distribution"
   ]
  },
  {
   "cell_type": "code",
   "execution_count": 7,
   "metadata": {
    "collapsed": false
   },
   "outputs": [
    {
     "data": {
      "text/plain": [
       "[{'hours': 144.5,\n",
       "  'review': '50 Hours into your latest save, all is going well. Only 3 leaders left Gandhi, Caesar and Washington. you draft an \\'end game\\' plan in your mind, you will make friends with Gandhi (for obvious reasons he\\'s chill) then procede to befriend Caesar. Then you will take out Washington because he is a  and did not accept an open border agreement 3000 years prior HE MUST PAY. 20 turns later all is going to plan, we are now on Washingtons doorstep, Gandhi and Caesar appear to love and probably fear your superpower nation. All we need to do is eliminate the pesky Americans and ith all our military now on American soil this should not take long. Then after the swift invasion of America we will make a vote for world peace at the U.N (in rome of course) with our new found Indian and Roman brethren it is a sure win! But all of a sudden the distant droning of nuclear sirens start, quickly they become louder and louder, \"what is this!?\" you think to yourself, a false alarm? You shrug it off maybe Caesae bombing a city state. The game pauses... Gandhi appears on the screen, with a sinister grin he shouts \"WAR\" in your face. Only seconds after you see a gut wrenching sight. The camera focuses on a nuclear submarine stationed just off the coast of your pride and joy, the capital of your glorious nation. You then hear a rumble, just seconds after a nuclear warhead emerges from the previously hidden submarine, you realise it is too late... you can only watch as the missle closes in. As your city goes up in a giant cloud there are short lived screams from your beloved people, then silence. Before what had just occurred had sunk in, before you could make rescue efforts to save your much loved citizens the humming of quiet engines fall upon your ears. Suddenly countless \\'stealth bombers\\' appear seemingly out of no where, soon the sky is blackened by planes, the game falls almost silent only the whistle of falling bombs remains. You faint from the shock of what is unfolding. You awake shortly after, Gandhi is still flattening what remains of your once prosperous empire, now with \\'giant death robots\\' making the most of his seemingly never ending turn. As Gandhi clinically and relentlessly razes what\\'s left of your broken nation all you can do is weep, your people hacked down in their prime and your glorious nation so mighty just minutes before has just been been all but eliminated in 1 turn. Why oh why did you turn of autosave? did it really speed your game up? was it worth it? Ghandi is a complete , he acts like your friend but WILL nuke the  out of you if even the slightest oppurtunity presents itself. 10/10'},\n",
       " {'hours': 2600.5, 'review': 'I only played a little but it was fun.'},\n",
       " {'hours': 316.9,\n",
       "  'review': \"It's like crack. You keep telling yourself 'just one more turn'. but then you realize you've been sitting in your underwear for for 36 hours and you've forgotten to check on your wife who gave birth to your baby last night.\"}]"
      ]
     },
     "execution_count": 7,
     "metadata": {},
     "output_type": "execute_result"
    }
   ],
   "source": [
    "# Here's a couple reviews from the beginning of the file\n",
    "reviews[:3]"
   ]
  },
  {
   "cell_type": "code",
   "execution_count": 11,
   "metadata": {
    "collapsed": false
   },
   "outputs": [
    {
     "data": {
      "text/plain": [
       "[2630, 38, 223, 163, 499, 2116, 179, 21, 47, 25]"
      ]
     },
     "execution_count": 11,
     "metadata": {},
     "output_type": "execute_result"
    }
   ],
   "source": [
    "# Let's measure the lengths of each review using a \"list comprehension\"\n",
    "lengths = [len(review['review']) for review in reviews]\n",
    "# Let's print out the first 10 lengths, just to see what we're working with\n",
    "lengths[:10]"
   ]
  },
  {
   "cell_type": "code",
   "execution_count": 12,
   "metadata": {
    "collapsed": false
   },
   "outputs": [
    {
     "name": "stdout",
     "output_type": "stream",
     "text": [
      "average length: 178.00313077702904\n"
     ]
    }
   ],
   "source": [
    "# Compute the average length value\n",
    "avg_len = sum(lengths)/len(lengths)\n",
    "print('average length: {}'.format(avg_len))"
   ]
  },
  {
   "cell_type": "code",
   "execution_count": 13,
   "metadata": {
    "collapsed": false
   },
   "outputs": [
    {
     "name": "stdout",
     "output_type": "stream",
     "text": [
      "minimum review length = 1\n"
     ]
    }
   ],
   "source": [
    "min_len = min(lengths)\n",
    "print('minimum review length = {}'.format(min_len))"
   ]
  },
  {
   "cell_type": "code",
   "execution_count": 14,
   "metadata": {
    "collapsed": false
   },
   "outputs": [
    {
     "name": "stdout",
     "output_type": "stream",
     "text": [
      "maximum review length = 8000\n"
     ]
    }
   ],
   "source": [
    "max_len = max(lengths)\n",
    "print('maximum review length = {}'.format(max_len))"
   ]
  },
  {
   "cell_type": "code",
   "execution_count": 15,
   "metadata": {
    "collapsed": false
   },
   "outputs": [
    {
     "name": "stdout",
     "output_type": "stream",
     "text": [
      "original lengths (first 10):          [2630, 38, 223, 163, 499, 2116, 179, 21, 47, 25]\n",
      "rounded lengths (to the nearest 300): [2700, 300, 300, 300, 600, 2400, 300, 300, 300, 300]\n"
     ]
    }
   ],
   "source": [
    "# Let's try to make a list of rounded length values where we round to the nearest\n",
    "# 300 (I know, that's a pretty strange kind of thing to do)\n",
    "from math import ceil\n",
    "# We can do this by diving each length by 300, then rounding up, then multiplyig by 300\n",
    "rounded_lengths = [ceil(l/300)*300 for l in lengths]\n",
    "print('original lengths (first 10):          {}\\nrounded lengths (to the nearest 300): {}'.format(\n",
    "    lengths[:10],\n",
    "    rounded_lengths[:10]))"
   ]
  },
  {
   "cell_type": "code",
   "execution_count": 16,
   "metadata": {
    "collapsed": false
   },
   "outputs": [
    {
     "data": {
      "text/plain": [
       "Counter({300: 28478, 600: 3125, 900: 968, 1200: 421, 1500: 185, 1800: 95, 2100: 65, 2400: 54, 2700: 53, 3000: 23, 3300: 21, 3900: 15, 3600: 8, 4200: 6, 5100: 5, 8100: 5, 7800: 3, 4500: 2, 6600: 2, 4800: 1, 7200: 1, 6300: 1, 5400: 1})"
      ]
     },
     "execution_count": 16,
     "metadata": {},
     "output_type": "execute_result"
    }
   ],
   "source": [
    "# Now, let's make a frequency distribution with the collections.Counter module\n",
    "from collections import Counter\n",
    "rounded_length_fdist = Counter(rounded_lengths)\n",
    "rounded_length_fdist"
   ]
  },
  {
   "cell_type": "code",
   "execution_count": 13,
   "metadata": {
    "collapsed": true
   },
   "outputs": [],
   "source": [
    "# It is obvious from looking at the freq. dist. above that length drops off a cliff\n",
    "# after about 1000 characters\n",
    "# In fact, for length up to 900, almost 1,050 reviews are accounted for, which means\n",
    "# that only a little over 100 reviews are thinly-distributed over the remaining area\n",
    "# above 1,000 characters"
   ]
  },
  {
   "cell_type": "code",
   "execution_count": 17,
   "metadata": {
    "collapsed": true
   },
   "outputs": [],
   "source": [
    "# Let's try to print out the freq dist in a nice way\n",
    "# Bear with me as I attempt to use pandas, which is a very nice Python library\n",
    "import pandas as pd"
   ]
  },
  {
   "cell_type": "code",
   "execution_count": 18,
   "metadata": {
    "collapsed": false
   },
   "outputs": [
    {
     "data": {
      "text/plain": [
       "300     28478\n",
       "600      3125\n",
       "900       968\n",
       "1200      421\n",
       "1500      185\n",
       "1800       95\n",
       "2100       65\n",
       "2400       54\n",
       "2700       53\n",
       "3000       23\n",
       "3300       21\n",
       "3900       15\n",
       "3600        8\n",
       "4200        6\n",
       "8100        5\n",
       "5100        5\n",
       "7800        3\n",
       "6600        2\n",
       "4500        2\n",
       "5400        1\n",
       "7200        1\n",
       "4800        1\n",
       "6300        1\n",
       "dtype: int64"
      ]
     },
     "execution_count": 18,
     "metadata": {},
     "output_type": "execute_result"
    }
   ],
   "source": [
    "# Usually, when you use Pandas, you're using a dataframe, but a dataframe, as I understand\n",
    "# it, it just made up on a set of \"Series\"\n",
    "# Let's make a Series from our rounded lengths and then call its value_counts() method to\n",
    "# get exactly what collections.Counter was doing (but we'll be able to use it to make a\n",
    "# nice plot)\n",
    "rounded_length_series = pd.Series(rounded_lengths)\n",
    "rounded_length_series.value_counts()"
   ]
  },
  {
   "cell_type": "code",
   "execution_count": 54,
   "metadata": {
    "collapsed": false
   },
   "outputs": [],
   "source": [
    "from data import FILTER_DICT\n",
    "FILTER_DICT['Sid_Meiers_Civilization_5']['MAXLEN']"
   ]
  },
  {
   "cell_type": "code",
   "execution_count": 55,
   "metadata": {
    "collapsed": false
   },
   "outputs": [
    {
     "data": {
      "text/plain": [
       "(array([  3.11860000e+04,   1.09200000e+03,   2.04000000e+02,\n",
       "          1.21000000e+02,   4.40000000e+01,   3.80000000e+01,\n",
       "          2.20000000e+01,   1.20000000e+01,   5.20000000e+01,\n",
       "          1.80000000e+01]),\n",
       " array([  300.,  1080.,  1860.,  2640.,  3420.,  4200.,  4980.,  5760.,\n",
       "         6540.,  7320.,  8100.]),\n",
       " <a list of 10 Patch objects>)"
      ]
     },
     "execution_count": 55,
     "metadata": {},
     "output_type": "execute_result"
    },
    {
     "data": {
      "image/png": "[encoded data removed]",
      "text/plain": [
       "<matplotlib.figure.Figure at 0x2b0f9e3b9f98>"
      ]
     },
     "metadata": {},
     "output_type": "display_data"
    }
   ],
   "source": [
    "# The table above is nice, but let's do better and try to get a histogram\n",
    "# Don't worry about all this importing stuff, it's just from something I read in a blog\n",
    "# post\n",
    "# Actually, go and check out the blog post here:\n",
    "# http://nbviewer.ipython.org/github/mwaskom/seaborn/blob/master/examples/plotting_distributions.ipynb\n",
    "# It's in, you guessed it, an IPython notebook! Shows what you can do with\n",
    "# matplotlib.\n",
    "%matplotlib inline\n",
    "import pandas as pd\n",
    "import seaborn as sns\n",
    "import matplotlib.pyplot as plt\n",
    "sns.set_palette(\"deep\", desat=.6)\n",
    "sns.set_context(rc={\"figure.figsize\": (8, 4)})\n",
    "plt.hist(rounded_length_series)"
   ]
  },
  {
   "cell_type": "markdown",
   "metadata": {},
   "source": [
    "#  Sid_Meiers_Civilization_5: Hours Distribution"
   ]
  },
  {
   "cell_type": "code",
   "execution_count": 22,
   "metadata": {
    "collapsed": true
   },
   "outputs": [],
   "source": [
    "# That is one nice-looking histogram!\n",
    "# From it, we can really see just how few reviews there are past 1,000\n",
    "# For this item, we could probably set the cap at 1,200, let's say\n",
    "# What do you think?"
   ]
  },
  {
   "cell_type": "code",
   "execution_count": 21,
   "metadata": {
    "collapsed": false
   },
   "outputs": [
    {
     "data": {
      "text/plain": [
       "[144.5, 2600.5, 316.9, 3979.9, 14.1, 126.6, 51.1, 152.8, 40.9, 444.1]"
      ]
     },
     "execution_count": 21,
     "metadata": {},
     "output_type": "execute_result"
    }
   ],
   "source": [
    "# Let's do a similar kind of thing for the hours values\n",
    "hours = [review['hours'] for review in reviews]\n",
    "hours[:10]"
   ]
  },
  {
   "cell_type": "code",
   "execution_count": 22,
   "metadata": {
    "collapsed": false
   },
   "outputs": [
    {
     "name": "stdout",
     "output_type": "stream",
     "text": [
      "min: 0.0\n",
      "max: 16202.8\n"
     ]
    }
   ],
   "source": [
    "print(\"min: {}\\nmax: {}\".format(min(hours), max(hours)))"
   ]
  },
  {
   "cell_type": "code",
   "execution_count": 23,
   "metadata": {
    "collapsed": true
   },
   "outputs": [],
   "source": [
    "rounded_hours = [ceil(h/300)*300 for h in hours]"
   ]
  },
  {
   "cell_type": "code",
   "execution_count": 24,
   "metadata": {
    "collapsed": false
   },
   "outputs": [
    {
     "data": {
      "text/plain": [
       "[300, 2700, 600, 4200, 300, 300, 300, 300, 300, 600]"
      ]
     },
     "execution_count": 24,
     "metadata": {},
     "output_type": "execute_result"
    }
   ],
   "source": [
    "rounded_hours[:10]"
   ]
  },
  {
   "cell_type": "code",
   "execution_count": 25,
   "metadata": {
    "collapsed": false
   },
   "outputs": [
    {
     "data": {
      "text/plain": [
       "300      25664\n",
       "600       4849\n",
       "900       1537\n",
       "1200       623\n",
       "1500       318\n",
       "1800       186\n",
       "2100        84\n",
       "2700        76\n",
       "2400        62\n",
       "4200        33\n",
       "3000        28\n",
       "3300        22\n",
       "3900        14\n",
       "3600        10\n",
       "5700         8\n",
       "6600         6\n",
       "6900         3\n",
       "4800         3\n",
       "6300         3\n",
       "5400         2\n",
       "7200         1\n",
       "5100         1\n",
       "14400        1\n",
       "11100        1\n",
       "7800         1\n",
       "16500        1\n",
       "0            1\n",
       "dtype: int64"
      ]
     },
     "execution_count": 25,
     "metadata": {},
     "output_type": "execute_result"
    }
   ],
   "source": [
    "# Let's use pandas again instead of collections.Counter\n",
    "rounded_hours_series = pd.Series(rounded_hours)\n",
    "rounded_hours_series.value_counts()"
   ]
  },
  {
   "cell_type": "code",
   "execution_count": 28,
   "metadata": {
    "collapsed": true
   },
   "outputs": [],
   "source": [
    "# Hmm, well, would you look at that! The distribution looks exactly the same\n",
    "# as that for length!"
   ]
  },
  {
   "cell_type": "code",
   "execution_count": 26,
   "metadata": {
    "collapsed": false
   },
   "outputs": [
    {
     "data": {
      "text/plain": [
       "(array([  3.29920000e+04,   4.36000000e+02,   8.20000000e+01,\n",
       "          1.40000000e+01,   1.10000000e+01,   0.00000000e+00,\n",
       "          1.00000000e+00,   0.00000000e+00,   1.00000000e+00,\n",
       "          1.00000000e+00]),\n",
       " array([     0.,   1650.,   3300.,   4950.,   6600.,   8250.,   9900.,\n",
       "         11550.,  13200.,  14850.,  16500.]),\n",
       " <a list of 10 Patch objects>)"
      ]
     },
     "execution_count": 26,
     "metadata": {},
     "output_type": "execute_result"
    },
    {
     "data": {
      "image/png": "[encoded data removed]",
      "text/plain": [
       "<matplotlib.figure.Figure at 0x2b0f94d61f98>"
      ]
     },
     "metadata": {},
     "output_type": "display_data"
    }
   ],
   "source": [
    "# Let's plot it!\n",
    "plt.hist(rounded_hours_series)"
   ]
  },
  {
   "cell_type": "code",
   "execution_count": 30,
   "metadata": {
    "collapsed": true
   },
   "outputs": [],
   "source": [
    "# Yet again, it seems that simply throwing out reviews over 1000 will basically\n",
    "# result in letting go of very few reviews (and dealing effectively with our\n",
    "# outlier issue), so (at least for this game), it seems like a good idea to\n",
    "# set the cap at 1000 hours"
   ]
  },
  {
   "cell_type": "code",
   "execution_count": 31,
   "metadata": {
    "collapsed": true
   },
   "outputs": [],
   "source": [
    "# Now that we know that, for Football_Manager_2015.txt, reviews that are under\n",
    "# 1200 characters in length represent the bulk of the reviews (and that reviews\n",
    "# that are over that can be thrown out), let's update the FILTER_DICT in\n",
    "# data/__init__.py. This dictionary will contain keys for each game file and\n",
    "# those keys themselves will map to dictionaries that contain keys for\n",
    "# MAXLEN, MAXHOURS, MINLEN, MINHOURS.\n",
    "# We also know that we want to throw out reviews whose hours played value is\n",
    "# greater than 1000 (for this particular game), so we can also set that key.\n",
    "# As for MINLEN and MINHOURS, let's just use 50 and 0, respectively, for now.\n",
    "# If we find that other values should be used for any given game, we can change\n",
    "# the values.\n",
    "# Note that I have already updated the FILTER_DICT for the 'Football_Manager_2015'\n",
    "# game to show you how it would look. As you figure out the values for the other\n",
    "# games, updated FILTER_DICT accordingly."
   ]
  },
  {
   "cell_type": "code",
   "execution_count": 27,
   "metadata": {
    "collapsed": true
   },
   "outputs": [],
   "source": [
    "# Playing around with this library called plotly\n",
    "# Let's try to make a histogram in a slightly different kind of way\n",
    "import plotly\n",
    "import plotly.tools as tls\n",
    "import plotly.plotly as py\n",
    "from plotly.graph_objs import *\n",
    "rounded_lengths_data = Data([\n",
    "                             Histogram(\n",
    "                                       x=rounded_lengths\n",
    "                                       )\n",
    "                             ])"
   ]
  },
  {
   "cell_type": "code",
   "execution_count": 28,
   "metadata": {
    "collapsed": false
   },
   "outputs": [],
   "source": [
    "plot_url = py.plot(rounded_lengths_data, filename='basic-histogram')"
   ]
  },
  {
   "cell_type": "code",
   "execution_count": 29,
   "metadata": {
    "collapsed": false
   },
   "outputs": [
    {
     "data": {
      "text/plain": [
       "'https://plot.ly/~mulhod/4'"
      ]
     },
     "execution_count": 29,
     "metadata": {},
     "output_type": "execute_result"
    }
   ],
   "source": [
    "# Hmm, seems kind of interesting, there's a lot of stuff you can do with\n",
    "# visualizing the data\n",
    "# Here's the plot url, but I don't know if anybody but me will be able to see it,\n",
    "# so, I'm going to try to put the graph directly in the IPython notebook.\n",
    "plot_url"
   ]
  },
  {
   "cell_type": "code",
   "execution_count": 30,
   "metadata": {
    "collapsed": false
   },
   "outputs": [
    {
     "data": {
      "text/html": [
       "<iframe id=\"igraph\" scrolling=\"no\" style=\"border:none;\"seamless=\"seamless\" src=\"https://plot.ly/~mulhod/4.embed\" height=\"525\" width=\"100%\"></iframe>"
      ],
      "text/plain": [
       "<plotly.tools.PlotlyDisplay object>"
      ]
     },
     "execution_count": 30,
     "metadata": {},
     "output_type": "execute_result"
    }
   ],
   "source": [
    "py.iplot(rounded_lengths_data, filename='basic-histogram')"
   ]
  },
  {
   "cell_type": "code",
   "execution_count": 79,
   "metadata": {
    "collapsed": true
   },
   "outputs": [],
   "source": [
    "# It's nice how interactive the graphs from plotly are! Hover around on\n",
    "# the graph. Also, look at the lower right and right-click the \"Play\n",
    "# with this data! >>\" button"
   ]
  },
  {
   "cell_type": "code",
   "execution_count": 80,
   "metadata": {
    "collapsed": true
   },
   "outputs": [],
   "source": [
    "# Anyway, this was just an aside. You don't need to do the plotly stuff\n",
    "# for every game, though it actually does look nicer. Use either plotly or\n",
    "# matplotlib"
   ]
  },
  {
   "cell_type": "markdown",
   "metadata": {
    "collapsed": true
   },
   "source": [
    "# Team_Fortress_2 Stats"
   ]
  },
  {
   "cell_type": "code",
   "execution_count": 31,
   "metadata": {
    "collapsed": false
   },
   "outputs": [
    {
     "data": {
      "text/plain": [
       "[{'hours': 201.9,\n",
       "  'review': 'best place to legally make 13 year olds cry 10/10'},\n",
       " {'hours': 2154.2, 'review': 'Hat IRL = $20 Hat In game = $500 i like'},\n",
       " {'hours': 4772.4,\n",
       "  'review': 'Team Fortress 2 was the final, fatal blow to what was left of my social life. And I still like it, 10/10 disregard friends acquire hats.'}]"
      ]
     },
     "execution_count": 31,
     "metadata": {},
     "output_type": "execute_result"
    }
   ],
   "source": [
    "reviews = get_reviews_for_game('data/Team_Fortress_2.txt')\n",
    "reviews[:3]"
   ]
  },
  {
   "cell_type": "markdown",
   "metadata": {},
   "source": [
    "# Team_Fortress_2: Review Length Distribution"
   ]
  },
  {
   "cell_type": "code",
   "execution_count": 32,
   "metadata": {
    "collapsed": false
   },
   "outputs": [
    {
     "data": {
      "text/plain": [
       "[49, 39, 136, 132, 505, 123, 11, 378, 2751, 1541]"
      ]
     },
     "execution_count": 32,
     "metadata": {},
     "output_type": "execute_result"
    }
   ],
   "source": [
    "lengths = [len(review['review']) for review in reviews]\n",
    "lengths[:10]"
   ]
  },
  {
   "cell_type": "code",
   "execution_count": 33,
   "metadata": {
    "collapsed": false
   },
   "outputs": [
    {
     "name": "stdout",
     "output_type": "stream",
     "text": [
      "min: 1\n",
      "max: 8000\n"
     ]
    }
   ],
   "source": [
    "print(\"min: {}\\nmax: {}\".format(min(lengths), max(lengths)))"
   ]
  },
  {
   "cell_type": "code",
   "execution_count": 34,
   "metadata": {
    "collapsed": false
   },
   "outputs": [
    {
     "data": {
      "text/plain": [
       "[300, 300, 300, 300, 600, 300, 300, 600, 3000, 1800]"
      ]
     },
     "execution_count": 34,
     "metadata": {},
     "output_type": "execute_result"
    }
   ],
   "source": [
    "rounded_lengths = [ceil(l/300)*300 for l in lengths]\n",
    "rounded_lengths[:10]"
   ]
  },
  {
   "cell_type": "code",
   "execution_count": 35,
   "metadata": {
    "collapsed": false
   },
   "outputs": [
    {
     "data": {
      "text/plain": [
       "(array([  3.10860000e+04,   5.67000000e+02,   9.80000000e+01,\n",
       "          6.20000000e+01,   2.30000000e+01,   3.30000000e+01,\n",
       "          1.20000000e+01,   7.00000000e+00,   1.30000000e+01,\n",
       "          1.90000000e+01]),\n",
       " array([  300.,  1080.,  1860.,  2640.,  3420.,  4200.,  4980.,  5760.,\n",
       "         6540.,  7320.,  8100.]),\n",
       " <a list of 10 Patch objects>)"
      ]
     },
     "execution_count": 35,
     "metadata": {},
     "output_type": "execute_result"
    },
    {
     "data": {
      "image/png": "[encoded data removed]",
      "text/plain": [
       "<matplotlib.figure.Figure at 0x2b0f8b8df3c8>"
      ]
     },
     "metadata": {},
     "output_type": "display_data"
    }
   ],
   "source": [
    "rounded_lengths_series = pd.Series(rounded_lengths)\n",
    "plt.hist(rounded_lengths_series)"
   ]
  },
  {
   "cell_type": "markdown",
   "metadata": {},
   "source": [
    "# Team_Fortress_2: Review Hours Played Distribution"
   ]
  },
  {
   "cell_type": "code",
   "execution_count": 36,
   "metadata": {
    "collapsed": false
   },
   "outputs": [
    {
     "data": {
      "text/plain": [
       "[201.9, 2154.2, 4772.4, 2384.6, 519.5, 477.8, 3678.7, 459.2, 12548.7, 2404.5]"
      ]
     },
     "execution_count": 36,
     "metadata": {},
     "output_type": "execute_result"
    }
   ],
   "source": [
    "hours = [review['hours'] for review in reviews]\n",
    "hours[:10]"
   ]
  },
  {
   "cell_type": "code",
   "execution_count": 37,
   "metadata": {
    "collapsed": false
   },
   "outputs": [
    {
     "name": "stdout",
     "output_type": "stream",
     "text": [
      "min: 0.1\n",
      "max: 12548.7\n"
     ]
    }
   ],
   "source": [
    "print(\"min: {}\\nmax: {}\".format(min(hours), max(hours)))"
   ]
  },
  {
   "cell_type": "code",
   "execution_count": 38,
   "metadata": {
    "collapsed": false
   },
   "outputs": [
    {
     "data": {
      "text/plain": [
       "[210, 2160, 4780, 2390, 520, 480, 3680, 460, 12550, 2410]"
      ]
     },
     "execution_count": 38,
     "metadata": {},
     "output_type": "execute_result"
    }
   ],
   "source": [
    "rounded_hours = [ceil(h/10)*10 for h in hours]\n",
    "rounded_hours[:10]"
   ]
  },
  {
   "cell_type": "code",
   "execution_count": 40,
   "metadata": {
    "collapsed": false
   },
   "outputs": [
    {
     "data": {
      "text/plain": [
       "(array([  2.49870000e+04,   4.95100000e+03,   1.35700000e+03,\n",
       "          3.88000000e+02,   1.37000000e+02,   5.40000000e+01,\n",
       "          2.40000000e+01,   1.00000000e+01,   1.10000000e+01,\n",
       "          1.00000000e+00]),\n",
       " array([   10.,  1264.,  2518.,  3772.,  5026.,  6280.,  7534.,  8788.,\n",
       "        10042., 11296., 12550.]),\n",
       " <a list of 10 Patch objects>)"
      ]
     },
     "execution_count": 40,
     "metadata": {},
     "output_type": "execute_result"
    },
    {
     "data": {
      "image/png": "[encoded data removed]",
      "text/plain": [
       "<matplotlib.figure.Figure at 0x2b0f9e3c1128>"
      ]
     },
     "metadata": {},
     "output_type": "display_data"
    }
   ],
   "source": [
    "rounded_hours_series = pd.Series(rounded_hours)\n",
    "plt.hist(rounded_hours_series)"
   ]
  },
  {
   "cell_type": "code",
   "execution_count": 41,
   "metadata": {
    "collapsed": false
   },
   "outputs": [
    {
     "data": {
      "text/plain": [
       "31920"
      ]
     },
     "execution_count": 41,
     "metadata": {},
     "output_type": "execute_result"
    }
   ],
   "source": [
    "len(reviews)"
   ]
  },
  {
   "cell_type": "markdown",
   "metadata": {},
   "source": [
    "# The_Elder_Scrolls_V: Stats"
   ]
  },
  {
   "cell_type": "code",
   "execution_count": 42,
   "metadata": {
    "collapsed": true
   },
   "outputs": [],
   "source": [
    "# So, let's first get all of the reviews for the game with the smallest amount of\n",
    "# review data, i.e., Football Manager 2015 (not including GTAV)\n",
    "reviews = get_reviews_for_game('data/The_Elder_Scrolls_V.txt')"
   ]
  },
  {
   "cell_type": "code",
   "execution_count": 43,
   "metadata": {
    "collapsed": false
   },
   "outputs": [
    {
     "name": "stdout",
     "output_type": "stream",
     "text": [
      "number of reviews: 32789\n"
     ]
    }
   ],
   "source": [
    "# First of all, how many reviews are there?\n",
    "print('number of reviews: {}'.format(len(reviews)))"
   ]
  },
  {
   "cell_type": "markdown",
   "metadata": {},
   "source": [
    "# The_Elder_Scrolls_V: Review Length Distribution"
   ]
  },
  {
   "cell_type": "code",
   "execution_count": 44,
   "metadata": {
    "collapsed": false
   },
   "outputs": [
    {
     "data": {
      "text/plain": [
       "[{'hours': 4652.9,\n",
       "  'review': \"This is the game the never, ever ends. I picked this game up thinking I wouldn't like it having never played a previous TES game before. Sat in my Library untouched for about a month or two, and finally took the plunge. I was wrong. I was so very, very wrong. This is probably the best purchase I've ever made on steam. Add in the unlimited potential of modding, and it's an adventure that continues forever. I've probably restarted over a hundred times by now with a new character, and still only have beaten Alduin once. ONCE. There's still so much more do to and explore that I'm still discovering quests and areas and little hidden things. I still can't believe how much there is to do and I'm still finding more. At it stands I'll probably wake up one day having lost all touch with reality and actually start seeing the world as Skyrim with how much I've played. And I'm totally ok with that.\"},\n",
       " {'hours': 3210.9, 'review': 'Ruined my life. Five stars.'},\n",
       " {'hours': 1164.7,\n",
       "  'review': \"If I had to choose between this game, and my girlfriend. I'd pick this game. EDIT: I'm single now ON A MORE SERIOUS NOTE: This game is the best in its genre. In previous Bethesda games they made a sad balance in between Questing, and Exploration. Some having more quests and less places to go, and others having very few quests and more places to explore. But in Skyrim, there is no shortage of quests, and if you are like myself and just wander around aimlessly, you will stumble into places that just blow your mind. Every time I have replayed this game, I stumbled into something new. For more info i'd very much recommend mods, with mods such as texture packs, difficulty, quests, armor, and weapons, this games replay value is endless. Go through the game once with plain skyrim, then mod the hell out of it. Overall I'd rate this game an EASY 10/10. If you haven't already. Please buy it, give it a little, and I swear you will be hooked.\"}]"
      ]
     },
     "execution_count": 44,
     "metadata": {},
     "output_type": "execute_result"
    }
   ],
   "source": [
    "# Here's a couple reviews from the beginning of the file\n",
    "reviews[:3]"
   ]
  },
  {
   "cell_type": "code",
   "execution_count": 45,
   "metadata": {
    "collapsed": false
   },
   "outputs": [
    {
     "data": {
      "text/plain": [
       "[898, 27, 944, 404, 1246, 105, 185, 6567, 435, 216]"
      ]
     },
     "execution_count": 45,
     "metadata": {},
     "output_type": "execute_result"
    }
   ],
   "source": [
    "# Let's measure the lengths of each review using a \"list comprehension\"\n",
    "lengths = [len(review['review']) for review in reviews]\n",
    "# Let's print out the first 10 lengths, just to see what we're working with\n",
    "lengths[:10]"
   ]
  },
  {
   "cell_type": "code",
   "execution_count": 46,
   "metadata": {
    "collapsed": false
   },
   "outputs": [
    {
     "name": "stdout",
     "output_type": "stream",
     "text": [
      "average length: 232.25490255878495\n"
     ]
    }
   ],
   "source": [
    "# Compute the average length value\n",
    "avg_len = sum(lengths)/len(lengths)\n",
    "print('average length: {}'.format(avg_len))"
   ]
  },
  {
   "cell_type": "code",
   "execution_count": 48,
   "metadata": {
    "collapsed": false
   },
   "outputs": [
    {
     "name": "stdout",
     "output_type": "stream",
     "text": [
      "min review length: 1\n",
      "max review length: 8000\n"
     ]
    }
   ],
   "source": [
    "print(\"min review length: {}\\nmax review length: {}\".format(min(lengths), max(lengths)))"
   ]
  },
  {
   "cell_type": "code",
   "execution_count": 49,
   "metadata": {
    "collapsed": false
   },
   "outputs": [
    {
     "name": "stdout",
     "output_type": "stream",
     "text": [
      "original lengths (first 10):          [898, 27, 944, 404, 1246, 105, 185, 6567, 435, 216]\n",
      "rounded lengths (to the nearest 300): [900, 300, 1200, 600, 1500, 300, 300, 6600, 600, 300]\n"
     ]
    }
   ],
   "source": [
    "# Let's try to make a list of rounded length values where we round to the nearest\n",
    "# 300 (I know, that's a pretty strange kind of thing to do)\n",
    "from math import ceil\n",
    "# We can do this by diving each length by 300, then rounding up, then multiplyig by 300\n",
    "rounded_lengths = [ceil(l/300)*300 for l in lengths]\n",
    "print('original lengths (first 10):          {}\\nrounded lengths (to the nearest 300): {}'.format(\n",
    "    lengths[:10],\n",
    "    rounded_lengths[:10]))"
   ]
  },
  {
   "cell_type": "code",
   "execution_count": 50,
   "metadata": {
    "collapsed": false
   },
   "outputs": [
    {
     "data": {
      "text/plain": [
       "Counter({300: 26598, 600: 3326, 900: 1262, 1200: 605, 1500: 312, 1800: 175, 2100: 126, 2400: 78, 2700: 48, 6600: 44, 3000: 39, 3300: 34, 3600: 28, 4200: 19, 3900: 16, 8100: 14, 4500: 11, 5400: 9, 4800: 8, 5100: 7, 6300: 6, 7200: 6, 6000: 6, 5700: 6, 7800: 4, 6900: 2})"
      ]
     },
     "execution_count": 50,
     "metadata": {},
     "output_type": "execute_result"
    }
   ],
   "source": [
    "# Now, let's make a frequency distribution with the collections.Counter module\n",
    "from collections import Counter\n",
    "rounded_length_fdist = Counter(rounded_lengths)\n",
    "rounded_length_fdist"
   ]
  },
  {
   "cell_type": "code",
   "execution_count": 51,
   "metadata": {
    "collapsed": true
   },
   "outputs": [],
   "source": [
    "# Let's try to print out the freq dist in a nice way\n",
    "# Bear with me as I attempt to use pandas, which is a very nice Python library\n",
    "import pandas as pd"
   ]
  },
  {
   "cell_type": "code",
   "execution_count": 52,
   "metadata": {
    "collapsed": false
   },
   "outputs": [
    {
     "data": {
      "text/plain": [
       "300     26598\n",
       "600      3326\n",
       "900      1262\n",
       "1200      605\n",
       "1500      312\n",
       "1800      175\n",
       "2100      126\n",
       "2400       78\n",
       "2700       48\n",
       "6600       44\n",
       "3000       39\n",
       "3300       34\n",
       "3600       28\n",
       "4200       19\n",
       "3900       16\n",
       "8100       14\n",
       "4500       11\n",
       "5400        9\n",
       "4800        8\n",
       "5100        7\n",
       "5700        6\n",
       "6000        6\n",
       "7200        6\n",
       "6300        6\n",
       "7800        4\n",
       "6900        2\n",
       "dtype: int64"
      ]
     },
     "execution_count": 52,
     "metadata": {},
     "output_type": "execute_result"
    }
   ],
   "source": [
    "# Usually, when you use Pandas, you're using a dataframe, but a dataframe, as I understand\n",
    "# it, it just made up on a set of \"Series\"\n",
    "# Let's make a Series from our rounded lengths and then call its value_counts() method to\n",
    "# get exactly what collections.Counter was doing (but we'll be able to use it to make a\n",
    "# nice plot)\n",
    "rounded_length_series = pd.Series(rounded_lengths)\n",
    "rounded_length_series.value_counts()"
   ]
  },
  {
   "cell_type": "code",
   "execution_count": 56,
   "metadata": {
    "collapsed": true
   },
   "outputs": [],
   "source": [
    "from data import FILTER_DICT\n",
    "FILTER_DICT['The_Elder_Scrolls_V']['MAXLEN']"
   ]
  },
  {
   "cell_type": "code",
   "execution_count": 57,
   "metadata": {
    "collapsed": false
   },
   "outputs": [
    {
     "data": {
      "text/plain": [
       "(array([  3.11860000e+04,   1.09200000e+03,   2.04000000e+02,\n",
       "          1.21000000e+02,   4.40000000e+01,   3.80000000e+01,\n",
       "          2.20000000e+01,   1.20000000e+01,   5.20000000e+01,\n",
       "          1.80000000e+01]),\n",
       " array([  300.,  1080.,  1860.,  2640.,  3420.,  4200.,  4980.,  5760.,\n",
       "         6540.,  7320.,  8100.]),\n",
       " <a list of 10 Patch objects>)"
      ]
     },
     "execution_count": 57,
     "metadata": {},
     "output_type": "execute_result"
    },
    {
     "data": {
      "image/png": "[encoded data removed]",
      "text/plain": [
       "<matplotlib.figure.Figure at 0x2b0f908c6978>"
      ]
     },
     "metadata": {},
     "output_type": "display_data"
    }
   ],
   "source": [
    "# The table above is nice, but let's do better and try to get a histogram\n",
    "# Don't worry about all this importing stuff, it's just from something I read in a blog\n",
    "# post\n",
    "# Actually, go and check out the blog post here:\n",
    "# http://nbviewer.ipython.org/github/mwaskom/seaborn/blob/master/examples/plotting_distributions.ipynb\n",
    "# It's in, you guessed it, an IPython notebook! Shows what you can do with\n",
    "# matplotlib.\n",
    "%matplotlib inline\n",
    "import pandas as pd\n",
    "import seaborn as sns\n",
    "import matplotlib.pyplot as plt\n",
    "sns.set_palette(\"deep\", desat=.6)\n",
    "sns.set_context(rc={\"figure.figsize\": (8, 4)})\n",
    "plt.hist(rounded_length_series)"
   ]
  },
  {
   "cell_type": "code",
   "execution_count": 58,
   "metadata": {
    "collapsed": true
   },
   "outputs": [],
   "source": [
    "# Playing around with this library called plotly\n",
    "# Let's try to make a histogram in a slightly different kind of way\n",
    "import plotly\n",
    "import plotly.tools as tls\n",
    "import plotly.plotly as py\n",
    "from plotly.graph_objs import *\n",
    "rounded_lengths_data = Data([\n",
    "                             Histogram(\n",
    "                                       x=rounded_lengths\n",
    "                                       )\n",
    "                             ])"
   ]
  },
  {
   "cell_type": "code",
   "execution_count": 59,
   "metadata": {
    "collapsed": false
   },
   "outputs": [
    {
     "data": {
      "text/plain": [
       "'https://plot.ly/~mulhod/4'"
      ]
     },
     "execution_count": 59,
     "metadata": {},
     "output_type": "execute_result"
    }
   ],
   "source": [
    "plot_url = py.plot(rounded_lengths_data, filename='basic-histogram')\n",
    "plot_url"
   ]
  },
  {
   "cell_type": "code",
   "execution_count": 60,
   "metadata": {
    "collapsed": false
   },
   "outputs": [
    {
     "data": {
      "text/html": [
       "<iframe id=\"igraph\" scrolling=\"no\" style=\"border:none;\"seamless=\"seamless\" src=\"https://plot.ly/~mulhod/4.embed\" height=\"525\" width=\"100%\"></iframe>"
      ],
      "text/plain": [
       "<plotly.tools.PlotlyDisplay object>"
      ]
     },
     "execution_count": 60,
     "metadata": {},
     "output_type": "execute_result"
    }
   ],
   "source": [
    "py.iplot(rounded_lengths_data, filename='basic-histogram')"
   ]
  },
  {
   "cell_type": "markdown",
   "metadata": {},
   "source": [
    "#  The_Elder_Scrolls_V: Hours Distribution"
   ]
  },
  {
   "cell_type": "code",
   "execution_count": 61,
   "metadata": {
    "collapsed": false
   },
   "outputs": [
    {
     "data": {
      "text/plain": [
       "[4652.9, 3210.9, 1164.7, 150.9, 247.4, 148.5, 12816.1, 92.4, 68.4, 477.1]"
      ]
     },
     "execution_count": 61,
     "metadata": {},
     "output_type": "execute_result"
    }
   ],
   "source": [
    "hours = [review['hours'] for review in reviews]\n",
    "hours[:10]"
   ]
  },
  {
   "cell_type": "code",
   "execution_count": 62,
   "metadata": {
    "collapsed": false
   },
   "outputs": [
    {
     "name": "stdout",
     "output_type": "stream",
     "text": [
      "min hours: 0.1\n",
      "max hours: 21568.7\n"
     ]
    }
   ],
   "source": [
    "print(\"min hours: {}\\nmax hours: {}\".format(min(hours), max(hours)))"
   ]
  },
  {
   "cell_type": "code",
   "execution_count": 63,
   "metadata": {
    "collapsed": false,
    "scrolled": true
   },
   "outputs": [
    {
     "data": {
      "text/plain": [
       "[4660, 3220, 1170, 160, 250, 150, 12820, 100, 70, 480]"
      ]
     },
     "execution_count": 63,
     "metadata": {},
     "output_type": "execute_result"
    }
   ],
   "source": [
    "rounded_hours = [ceil(h/10)*10 for h in hours]\n",
    "rounded_hours[:10]"
   ]
  },
  {
   "cell_type": "code",
   "execution_count": 65,
   "metadata": {
    "collapsed": false
   },
   "outputs": [
    {
     "data": {
      "text/plain": [
       "10       1805\n",
       "20       1708\n",
       "40       1494\n",
       "30       1470\n",
       "50       1388\n",
       "80       1382\n",
       "60       1316\n",
       "70       1305\n",
       "90       1167\n",
       "110      1137\n",
       "100      1136\n",
       "120      1014\n",
       "130       982\n",
       "140       890\n",
       "150       830\n",
       "160       755\n",
       "170       704\n",
       "180       631\n",
       "190       581\n",
       "200       556\n",
       "210       531\n",
       "220       519\n",
       "230       465\n",
       "250       410\n",
       "240       402\n",
       "260       384\n",
       "280       340\n",
       "270       332\n",
       "320       314\n",
       "300       314\n",
       "         ... \n",
       "4400        1\n",
       "4790        1\n",
       "3890        1\n",
       "11670       1\n",
       "2930        1\n",
       "2770        1\n",
       "1750        1\n",
       "2550        1\n",
       "3130        1\n",
       "3190        1\n",
       "2810        1\n",
       "2490        1\n",
       "1830        1\n",
       "1990        1\n",
       "2470        1\n",
       "3590        1\n",
       "2010        1\n",
       "21570       1\n",
       "3320        1\n",
       "1800        1\n",
       "3080        1\n",
       "3240        1\n",
       "1970        1\n",
       "5850        1\n",
       "2090        1\n",
       "2250        1\n",
       "2410        1\n",
       "2890        1\n",
       "3530        1\n",
       "3390        1\n",
       "dtype: int64"
      ]
     },
     "execution_count": 65,
     "metadata": {},
     "output_type": "execute_result"
    }
   ],
   "source": [
    "# Let's use pandas again instead of collections.Counter\n",
    "rounded_hours_series = pd.Series(rounded_hours)\n",
    "rounded_hours_series.value_counts()"
   ]
  },
  {
   "cell_type": "code",
   "execution_count": 66,
   "metadata": {
    "collapsed": false
   },
   "outputs": [
    {
     "data": {
      "text/plain": [
       "(array([  3.25680000e+04,   1.33000000e+02,   4.50000000e+01,\n",
       "          1.00000000e+00,   1.00000000e+00,   4.00000000e+01,\n",
       "          0.00000000e+00,   0.00000000e+00,   0.00000000e+00,\n",
       "          1.00000000e+00]),\n",
       " array([  1.00000000e+01,   2.16600000e+03,   4.32200000e+03,\n",
       "          6.47800000e+03,   8.63400000e+03,   1.07900000e+04,\n",
       "          1.29460000e+04,   1.51020000e+04,   1.72580000e+04,\n",
       "          1.94140000e+04,   2.15700000e+04]),\n",
       " <a list of 10 Patch objects>)"
      ]
     },
     "execution_count": 66,
     "metadata": {},
     "output_type": "execute_result"
    },
    {
     "data": {
      "image/png": "[encoded data removed]",
      "text/plain": [
       "<matplotlib.figure.Figure at 0x2b0f9003a9e8>"
      ]
     },
     "metadata": {},
     "output_type": "display_data"
    }
   ],
   "source": [
    "rounded_hours_series = pd.Series(rounded_hours)\n",
    "plt.hist(rounded_hours_series)"
   ]
  },
  {
   "cell_type": "code",
   "execution_count": null,
   "metadata": {
    "collapsed": true
   },
   "outputs": [],
   "source": []
  }
 ],
 "metadata": {
  "kernelspec": {
   "display_name": "Python 3",
   "language": "python",
   "name": "python3"
  },
  "language_info": {
   "codemirror_mode": {
    "name": "ipython",
    "version": 3
   },
   "file_extension": ".py",
   "mimetype": "text/x-python",
   "name": "python",
   "nbconvert_exporter": "python",
   "pygments_lexer": "ipython3",
   "version": "3.4.3"
  }
 },
 "nbformat": 4,
 "nbformat_minor": 0
}
