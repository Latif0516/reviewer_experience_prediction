{
 "cells": [
  {
   "cell_type": "markdown",
   "metadata": {},
   "source": [
    "#Exploring Review Data\n",
    "- let's look at some typical reviews, how many files there are, what the distributions of review lengths and hours played are, etc."
   ]
  },
  {
   "cell_type": "code",
   "execution_count": 1,
   "metadata": {
    "collapsed": true
   },
   "outputs": [],
   "source": [
    "# Pretty much, this is my standard header because I use these following\n",
    "# two libraries all the time\n",
    "import sys\n",
    "import os"
   ]
  },
  {
   "cell_type": "code",
   "execution_count": 19,
   "metadata": {
    "collapsed": false
   },
   "outputs": [
    {
     "name": "stdout",
     "output_type": "stream",
     "text": [
      "   30910 data/Arma_3.txt\n",
      "   66500 data/Counter_Strike_Global_Offensive.txt\n",
      "   17712 data/Counter_Strike.txt\n",
      "   61900 data/Dota_2.txt\n",
      "    2346 data/Football_Manager_2015.txt\n",
      "   65860 data/Garrys_Mod.txt\n",
      "      77 data/get_review_data_271590.txt\n",
      "     700 data/Grand_Theft_Auto_V.txt\n",
      "   67076 data/Sid_Meiers_Civilization_5.txt\n",
      "   63840 data/Team_Fortress_2.txt\n",
      "   65578 data/The_Elder_Scrolls_V.txt\n",
      "   49270 data/Warframe.txt\n",
      "  491769 total\n"
     ]
    }
   ],
   "source": [
    "# So, let's take a look at how many lines are in our reviews files\n",
    "# Note: I just started processing GTAV after ending all the other processes\n",
    "os.chdir('/home/mulhollandm2/reviews_project/reviewer_experience_prediction')\n",
    "! wc -l data/*.txt"
   ]
  },
  {
   "cell_type": "code",
   "execution_count": 13,
   "metadata": {
    "collapsed": false
   },
   "outputs": [],
   "source": [
    "# This is a stripped-down version of the function in read_data_files.py\n",
    "# Note: I decided to get rid of the language identification rule for the time\n",
    "# being because I don't want this function to take too long or else it will be\n",
    "# useless in this context. We will still use the rule, just not in this\n",
    "# notebook setting.\n",
    "def get_reviews_for_game(file_name):\n",
    "    '''\n",
    "    Get list of reviews in a single game file.\n",
    "\n",
    "    :param file_name: name of file\n",
    "    :type file_name: str\n",
    "    :returns: list of dicts\n",
    "    '''\n",
    "\n",
    "    reviews = []\n",
    "    lines = open(file_name).readlines()\n",
    "    i = 0\n",
    "    while i + 1 < len(lines): # We need to get every 2-line couplet\n",
    "        # Extract the hours value and the review text from each 2-line\n",
    "        # sequence\n",
    "        try:\n",
    "            h = float(lines[i].split()[1].strip())\n",
    "            r = lines[i + 1].split(' ', 1)[1].strip()\n",
    "        except (ValueError, IndexError) as e:\n",
    "            i += 2\n",
    "            continue\n",
    "        reviews.append(dict(hours=h,\n",
    "                            review=r))\n",
    "        i += 2 # Increment i by 2 since we need to go to the next\n",
    "            # 2-line couplet\n",
    "    return reviews"
   ]
  },
  {
   "cell_type": "markdown",
   "metadata": {},
   "source": [
    "# Football Manager 2015 Stats"
   ]
  },
  {
   "cell_type": "code",
   "execution_count": 20,
   "metadata": {
    "collapsed": false
   },
   "outputs": [],
   "source": [
    "# So, let's first get all of the reviews for the game with the smallest amount of\n",
    "# review data, i.e., Football Manager 2015 (not including GTAV)\n",
    "reviews = get_reviews_for_game('data/Football_Manager_2015.txt')"
   ]
  },
  {
   "cell_type": "code",
   "execution_count": 21,
   "metadata": {
    "collapsed": false
   },
   "outputs": [
    {
     "name": "stdout",
     "output_type": "stream",
     "text": [
      "number of reviews: 1173\n"
     ]
    }
   ],
   "source": [
    "# First of all, how many reviews are there?\n",
    "print('number of reviews: {}'.format(len(reviews)))"
   ]
  },
  {
   "cell_type": "code",
   "execution_count": 22,
   "metadata": {
    "collapsed": false
   },
   "outputs": [
    {
     "data": {
      "text/plain": [
       "[{'hours': 237.9,\n",
       "  'review': \"ive bought this game for many years and think this might be my last. firstly im not keen on spending 30 a year on something that could be released as an update. the lack of competition in the manager genre has made SI very lazy, to the point where they make one or two small changes and market it as a new game. here are some of the points where my problems lie -ridiculous injurys, in my first season there was not one point where i didnt have at least six players injured -how many times in real football does a team make all its subs then a player gets injured and they finish the game with 10 men? well in FM about one in three games but amazingly never to the computer opponent -its almost impossible to generate any momentum anymore in FM, you will be playing well then suddenly lose for no reason -football has always been in the headlines for footballers astronomical wages, thank god its not like FM, youth players who have never made a first team appearance asking for 40k! agents of average players asking for 5mill in fees! -instead of improving things like the ability to see how your players have performed in training during the week to help your decisions on who to play SI add 'tunnel interviews'?!? i can imagine the meeting at SI 'so what have the fans on the forums been asking for' 'well their all desperate for more press interviews in the game, they just dont feel theres enough' as fans of the series we should treat SI like an alchoholic relative and not hand over money to them to continue their bad habits, in this case their bad habits being treating fans like cash-cows that they can just make sub-standard games for and rely on fan loyalty\"},\n",
       " {'hours': 113.0,\n",
       "  'review': 'I have played every iteration of the Football Manager series, long before I even used Steam and I have to say that Football Manager 2015 has some of the most glaring issues I have seen within the series. Manager customization has been inserted and is a step in the right direction, but not entirely. So, you will get to \"customize\" the stats of your manager. Are you more laid back or more technical? The option to customize and edit stats as such as adaptability and understand of things like attacking, defensive, etc are there. However, i don\\'t entirely know what impact they have on the game as In my 9 hours of playing I haven\\'t really noticed it or came across them again. I also do not know if these stats improve or worsen over time, depending on what you do - as the game does not tell you, even in the very brief tutorials. The new user interface layout is amazing and is long overdue. I actually found that I stopped playing Football Manager 2014 because of the UI. It was clunky, it was a mess and I had no idea where anything was. It was all just text and drop down menu\\'s. Now there is a nice sidebar which provides links that take you to the most important and most used parts of the game as such as tactics, scouting, team, etc. Purchasing players is odd this year. Sometimes it is extremely easy to buy a player and others extremely difficult, for no reason - even if you are trying to purchase an already transfer listed player or a reserve player getting no games at his current club. The old \"Let me pay 100m on a 48 month deal\" STILL works. You can buy any player that wants to come to your club if you use this method and it totally breaks the entire game. My biggest gripe and the sole reason why I need to give a bad recommendation to this game: The AI and the match engine. The AI in Football Manager 2015 is the worst I have ever seen in the series. If you actually sit and watch the match unfold you will see some of the following: - Players running for a ball and stopping for no reason - The goalkeeper saving the ball, standing back and staring at the ball, which is touching his feet - A Player will chase the ball down the wing at full speed, slow down and allow a opposing team player to catch up and take the ball. - Opposing team player has the ball and stands still. All of your players are polite enough to let him stand still. - Outrages tackles: Ball is moving out of your box, opposing striker is running out of your box. There is no threat. Defender will slide tackle him as he is leaving the box and give away a penalty. - CB\\'s that seem to play as strikers, leaving entire gaps in your defence. Red cards, injuries and own goals - EVERYWHERE. I have not went through a game yet where there has not been at least one own goal either by my team or the opposing team. They are everywhere. Red cards and injuries happen in abundance - I have had 10 players injured within the first month of a season even though I had average training and not too many games in quick succession. Tactics do not work as they are intended. If you sit down and take the time to read and learn how to create tactics, you will be so frustrated. The game gives you descriptions of what each position and instruction does, in depth. This is great. However, they do not work as they say. Short passing, retaining position and not punting the ball up the park? Team constantly just fires the ball all over the park with next to no short passing. Push higher up the park? Team sits deep. Because of these issues, scorelines can be ridiculous. In my first 5 games of the season there was a combined number of 30 goals between me and the other team. My first game finished 5-4 and my second was 6-3. This all leads to a very frustrating experience overall. Every year SI always say \"we are improving the match engine\". Where are these improvements? I have not seen any improvements, just more bugs and terrible AI. I love this series and I am a huge football fan, but I feel obliged to tell fellow consumers not to purchase this product until it vastly improves.'},\n",
       " {'hours': 1138.7,\n",
       "  'review': \"I've been a huge fan of FM going way back before the big split that led to Championship Manager and Football Manager. Since I started this game, I've won the league once and the treble in another season. I'm in my fourth season. So it's not like I'm whinging because I can't win. But there is clearly something wrong with the matchday engine. The most succinct way I can put it is that it's like they've decided Brazil vs Germany from the last WC is commonplace. I'll keep 8 straight clean sheets (or something like that) then get beaten by a promoted side 6-0, or 7-5! What's more, I've noticed other games in the league finishing 8-6, and stuff like that. Since I started counting, in three seasons I've seen goalkeepers chipped from the touchline or from inside the defending half 27 TIMES!!! The game needs a lot of work. It's a winning franchise; so, all they need to do is fix it. But don't spend your money on it until they do. They have released a very dodgy product. I've never seen an FM release like it. Just makes the game seem ridiculous, even when you're winning. And that's not why people play this game, right?\"}]"
      ]
     },
     "execution_count": 22,
     "metadata": {},
     "output_type": "execute_result"
    }
   ],
   "source": [
    "# Here's a couple reviews from the beginning of the file\n",
    "reviews[:3]"
   ]
  },
  {
   "cell_type": "markdown",
   "metadata": {},
   "source": [
    "#Football Manager 2015: Review Length Distribution"
   ]
  },
  {
   "cell_type": "code",
   "execution_count": 23,
   "metadata": {
    "collapsed": false
   },
   "outputs": [
    {
     "data": {
      "text/plain": [
       "[1669, 4072, 1126, 3370, 60, 1283, 954, 1127, 65, 1309]"
      ]
     },
     "execution_count": 23,
     "metadata": {},
     "output_type": "execute_result"
    }
   ],
   "source": [
    "# Let's measure the lengths of each review using a \"list comprehension\"\n",
    "lengths = [len(review['review']) for review in reviews]\n",
    "# Let's print out the first 10 lengths, just to see what we're working with\n",
    "lengths[:10]"
   ]
  },
  {
   "cell_type": "code",
   "execution_count": 24,
   "metadata": {
    "collapsed": false
   },
   "outputs": [
    {
     "name": "stdout",
     "output_type": "stream",
     "text": [
      "average length: 369.1381074168798\n"
     ]
    }
   ],
   "source": [
    "# Compute the average length value\n",
    "avg_len = sum(lengths)/len(lengths)\n",
    "print('average length: {}'.format(avg_len))"
   ]
  },
  {
   "cell_type": "code",
   "execution_count": 25,
   "metadata": {
    "collapsed": false
   },
   "outputs": [
    {
     "name": "stdout",
     "output_type": "stream",
     "text": [
      "minimum review length = 1\n"
     ]
    }
   ],
   "source": [
    "min_len = min(lengths)\n",
    "print('minimum review length = {}'.format(min_len))"
   ]
  },
  {
   "cell_type": "code",
   "execution_count": 26,
   "metadata": {
    "collapsed": false
   },
   "outputs": [
    {
     "name": "stdout",
     "output_type": "stream",
     "text": [
      "maximum review length = 5818\n"
     ]
    }
   ],
   "source": [
    "max_len = max(lengths)\n",
    "print('maximum review length = {}'.format(max_len))"
   ]
  },
  {
   "cell_type": "code",
   "execution_count": 27,
   "metadata": {
    "collapsed": false
   },
   "outputs": [
    {
     "name": "stdout",
     "output_type": "stream",
     "text": [
      "original lengths (first 10):          [1669, 4072, 1126, 3370, 60, 1283, 954, 1127, 65, 1309]\n",
      "rounded lengths (to the nearest 300): [1800, 4200, 1200, 3600, 300, 1500, 1200, 1200, 300, 1500]\n"
     ]
    }
   ],
   "source": [
    "# Let's try to make a list of rounded length values where we round to the nearest\n",
    "# 300 (I know, that's a pretty strange kind of thing to do)\n",
    "from math import ceil\n",
    "# We can do this by diving each length by 300, then rounding up, then multiplyig by 300\n",
    "rounded_lengths = [ceil(l/300)*300 for l in lengths]\n",
    "print('original lengths (first 10):          {}\\nrounded lengths (to the nearest 300): {}'.format(\n",
    "    lengths[:10],\n",
    "    rounded_lengths[:10]))"
   ]
  },
  {
   "cell_type": "code",
   "execution_count": 28,
   "metadata": {
    "collapsed": false
   },
   "outputs": [
    {
     "data": {
      "text/plain": [
       "Counter({300: 799, 600: 161, 900: 86, 1200: 39, 1800: 27, 1500: 22, 2100: 10, 2400: 7, 3600: 5, 3000: 4, 3300: 3, 2700: 2, 4200: 2, 4500: 2, 3900: 2, 6000: 1, 5400: 1})"
      ]
     },
     "execution_count": 28,
     "metadata": {},
     "output_type": "execute_result"
    }
   ],
   "source": [
    "# Now, let's make a frequency distribution with the collections.Counter module\n",
    "from collections import Counter\n",
    "rounded_length_fdist = Counter(rounded_lengths)\n",
    "rounded_length_fdist"
   ]
  },
  {
   "cell_type": "code",
   "execution_count": 29,
   "metadata": {
    "collapsed": true
   },
   "outputs": [],
   "source": [
    "# It is obvious from looking at the freq. dist. above that length drops off a cliff\n",
    "# after about 1000 characters\n",
    "# In fact, for length up to 900, almost 1,050 reviews are accounted for, which means\n",
    "# that only a little over 100 reviews are thinly-distributed over the remaining area\n",
    "# above 1,000 characters"
   ]
  },
  {
   "cell_type": "code",
   "execution_count": 30,
   "metadata": {
    "collapsed": true
   },
   "outputs": [],
   "source": [
    "# Let's try to print out the freq dist in a nice way\n",
    "# Bear with me as I attempt to use pandas, which is a very nice Python library\n",
    "import pandas as pd"
   ]
  },
  {
   "cell_type": "code",
   "execution_count": 31,
   "metadata": {
    "collapsed": false
   },
   "outputs": [
    {
     "data": {
      "text/plain": [
       "300     799\n",
       "600     161\n",
       "900      86\n",
       "1200     39\n",
       "1800     27\n",
       "1500     22\n",
       "2100     10\n",
       "2400      7\n",
       "3600      5\n",
       "3000      4\n",
       "3300      3\n",
       "2700      2\n",
       "3900      2\n",
       "4500      2\n",
       "4200      2\n",
       "5400      1\n",
       "6000      1\n",
       "dtype: int64"
      ]
     },
     "execution_count": 31,
     "metadata": {},
     "output_type": "execute_result"
    }
   ],
   "source": [
    "# Usually, when you use Pandas, you're using a dataframe, but a dataframe, as I understand\n",
    "# it, it just made up on a set of \"Series\"\n",
    "# Let's make a Series from our rounded lengths and then call its value_counts() method to\n",
    "# get exactly what collections.Counter was doing (but we'll be able to use it to make a\n",
    "# nice plot)\n",
    "rounded_length_series = pd.Series(rounded_lengths)\n",
    "rounded_length_series.value_counts()"
   ]
  },
  {
   "cell_type": "code",
   "execution_count": 40,
   "metadata": {
    "collapsed": false
   },
   "outputs": [
    {
     "data": {
      "text/plain": [
       "(array([ 960.,  125.,   49.,   17.,    6.,    8.,    4.,    2.,    1.,    1.]),\n",
       " array([  300.,   870.,  1440.,  2010.,  2580.,  3150.,  3720.,  4290.,\n",
       "         4860.,  5430.,  6000.]),\n",
       " <a list of 10 Patch objects>)"
      ]
     },
     "execution_count": 40,
     "metadata": {},
     "output_type": "execute_result"
    },
    {
     "data": {
      "image/png": "[encoded data removed]",
      "text/plain": [
       "<matplotlib.figure.Figure at 0x2aceab02de80>"
      ]
     },
     "metadata": {},
     "output_type": "display_data"
    }
   ],
   "source": [
    "# The table above is nice, but let's do better and try to get a histogram\n",
    "# Don't worry about all this importing stuff, it's just from something I read in a blog\n",
    "# post\n",
    "%matplotlib inline\n",
    "import pandas as pd\n",
    "import matplotlib.pyplot as plt\n",
    "plt.hist(rounded_length_series)"
   ]
  },
  {
   "cell_type": "code",
   "execution_count": 53,
   "metadata": {
    "collapsed": true
   },
   "outputs": [],
   "source": [
    "# That is one nice-looking histogram!\n",
    "# From it, we can really see just how few reviews there are past 1,000\n",
    "# For this item, we could probably set the cap at 1,200, let's say\n",
    "# What do you think?"
   ]
  },
  {
   "cell_type": "markdown",
   "metadata": {},
   "source": [
    "#Football Manager 2015: Hours Distribution"
   ]
  },
  {
   "cell_type": "code",
   "execution_count": 41,
   "metadata": {
    "collapsed": false
   },
   "outputs": [
    {
     "data": {
      "text/plain": [
       "[237.9, 113.0, 1138.7, 194.2, 372.3, 79.7, 1218.2, 386.4, 236.2, 526.4]"
      ]
     },
     "execution_count": 41,
     "metadata": {},
     "output_type": "execute_result"
    }
   ],
   "source": [
    "# Let's do a similar kind of thing for the hours values\n",
    "hours = [review['hours'] for review in reviews]\n",
    "hours[:10]"
   ]
  },
  {
   "cell_type": "code",
   "execution_count": 42,
   "metadata": {
    "collapsed": false
   },
   "outputs": [
    {
     "name": "stdout",
     "output_type": "stream",
     "text": [
      "min: 0.2\n",
      "max: 2482.1\n"
     ]
    }
   ],
   "source": [
    "print(\"min: {}\\nmax: {}\".format(min(hours), max(hours)))"
   ]
  },
  {
   "cell_type": "code",
   "execution_count": 48,
   "metadata": {
    "collapsed": true
   },
   "outputs": [],
   "source": [
    "rounded_hours = [ceil(h/300)*300 for h in hours]"
   ]
  },
  {
   "cell_type": "code",
   "execution_count": 49,
   "metadata": {
    "collapsed": false
   },
   "outputs": [
    {
     "data": {
      "text/plain": [
       "[300, 300, 1200, 300, 600, 300, 1500, 600, 300, 600]"
      ]
     },
     "execution_count": 49,
     "metadata": {},
     "output_type": "execute_result"
    }
   ],
   "source": [
    "rounded_hours[:10]"
   ]
  },
  {
   "cell_type": "code",
   "execution_count": 50,
   "metadata": {
    "collapsed": false
   },
   "outputs": [
    {
     "data": {
      "text/plain": [
       "300     799\n",
       "600     242\n",
       "900      75\n",
       "1200     28\n",
       "1500     11\n",
       "1800      8\n",
       "2100      7\n",
       "2700      2\n",
       "2400      1\n",
       "dtype: int64"
      ]
     },
     "execution_count": 50,
     "metadata": {},
     "output_type": "execute_result"
    }
   ],
   "source": [
    "# Let's use pandas again instead of collections.Counter\n",
    "rounded_hours_series = pd.Series(rounded_hours)\n",
    "rounded_hours_series.value_counts()"
   ]
  },
  {
   "cell_type": "code",
   "execution_count": 51,
   "metadata": {
    "collapsed": true
   },
   "outputs": [],
   "source": [
    "# Hmm, well, would you look at that! The distribution looks exactly the same\n",
    "# as that for length!"
   ]
  },
  {
   "cell_type": "code",
   "execution_count": 52,
   "metadata": {
    "collapsed": false
   },
   "outputs": [
    {
     "data": {
      "text/plain": [
       "(array([ 799.,  242.,   75.,   28.,    0.,   11.,    8.,    7.,    1.,    2.]),\n",
       " array([  300.,   540.,   780.,  1020.,  1260.,  1500.,  1740.,  1980.,\n",
       "         2220.,  2460.,  2700.]),\n",
       " <a list of 10 Patch objects>)"
      ]
     },
     "execution_count": 52,
     "metadata": {},
     "output_type": "execute_result"
    },
    {
     "data": {
      "image/png": "[encoded data removed]",
      "text/plain": [
       "<matplotlib.figure.Figure at 0x2aceacb69fd0>"
      ]
     },
     "metadata": {},
     "output_type": "display_data"
    }
   ],
   "source": [
    "# Let's plot it!\n",
    "plt.hist(rounded_hours_series)"
   ]
  },
  {
   "cell_type": "code",
   "execution_count": 1,
   "metadata": {
    "collapsed": true
   },
   "outputs": [],
   "source": [
    "# Yet again, it seems that simply throwing out reviews over 1000 will basically\n",
    "# result in letting go of very few reviews (and dealing effectively with our\n",
    "# outlier issue), so (at least for this game), it seems like a good idea to\n",
    "# set the cap at 1000 hours"
   ]
  },
  {
   "cell_type": "code",
   "execution_count": 2,
   "metadata": {
    "collapsed": true
   },
   "outputs": [],
   "source": [
    "# Now that we know that, for Football_Manager_2015.txt, reviews that are under\n",
    "# 1200 characters in length represent the bulk of the reviews (and that reviews\n",
    "# that are over that can be thrown out), let's update the FILTER_DICT in\n",
    "# data/__init__.py. This dictionary will contain keys for each game file and\n",
    "# those keys themselves will map to dictionaries that contain keys for\n",
    "# MAXLEN, MAXHOURS, MINLEN, MINHOURS.\n",
    "# We also know that we want to throw out reviews whose hours played value is\n",
    "# greater than 1000 (for this particular game), so we can also set that key.\n",
    "# As for MINLEN and MINHOURS, let's just use 50 and 0, respectively, for now.\n",
    "# If we find that other values should be used for any given game, we can change\n",
    "# the values.\n",
    "# Note that I have already updated the FILTER_DICT for the 'Football_Manager_2015'\n",
    "# game to show you how it would look. As you figure out the values for the other\n",
    "# games, updated FILTER_DICT accordingly."
   ]
  }
 ],
 "metadata": {
  "kernelspec": {
   "display_name": "Python 3",
   "language": "python",
   "name": "python3"
  },
  "language_info": {
   "codemirror_mode": {
    "name": "ipython",
    "version": 3
   },
   "file_extension": ".py",
   "mimetype": "text/x-python",
   "name": "python",
   "nbconvert_exporter": "python",
   "pygments_lexer": "ipython3",
   "version": "3.4.3"
  }
 },
 "nbformat": 4,
 "nbformat_minor": 0
}
