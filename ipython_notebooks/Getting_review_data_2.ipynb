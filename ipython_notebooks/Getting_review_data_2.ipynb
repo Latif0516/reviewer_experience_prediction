{
 "cells": [
  {
   "cell_type": "markdown",
   "metadata": {},
   "source": [
    "#Collecting Review/User Data from Steam"
   ]
  },
  {
   "cell_type": "code",
   "execution_count": 2,
   "metadata": {
    "collapsed": true
   },
   "outputs": [],
   "source": [
    "# Let's say that the URL for a game is the following\n",
    "url = 'http://steamcommunity.com/app/730/homecontent/?userreviewsoffset=0&p=1&itemspage=1&screenshotspage=1&videospage=1&artpage=1&allguidepage=1&webguidepage=1&integratedguidepage=1&discussionspage=1&appid=730&appHubSubSection=10&appHubSubSection=10&l=english&browsefilter=toprated&filterLanguage=default&searchText=&forceanon=1'\n",
    "# The game is actually Counter-Strike: Global Offensive (CS: GO)\n",
    "# It's difficult to see, but there are a few parts of the URL that are of\n",
    "# interest to us\n",
    "# 1. '/app/730' tells us that the appid is 730, which corresponds to\n",
    "#    Counter-Strike: Global Offensive (CS: GO)\n",
    "#    - this info is also later in the URL: 'appid=730'\n",
    "# 2. 'userreviewsoffset=0' - this is the start number for the review results\n",
    "#    - if 0, that means that the reviews we see will be 0 through 9\n",
    "#    - if 1, 10 through 19, etc.\n",
    "# 3. there are numerous parts that end in 'page=1' - the number here refers\n",
    "#    to an iterator that stores how many 10-review pages you've seen (i.e.,\n",
    "#    usually by hovering at the bottom of the reviews results page to make\n",
    "#    more visible)\n",
    "#    - userreviewsoffset = 0, then page should be 1\n",
    "#    - if userreviewsoffset = 10, then page should be 2,\n",
    "#    - if userreviewsoffset = 20, then page should be 3,\n",
    "#    - etc.\n",
    "# So, this will allow us to make a for loop to go through all possible pages\n",
    "# of reviews!"
   ]
  },
  {
   "cell_type": "code",
   "execution_count": 3,
   "metadata": {
    "collapsed": false
   },
   "outputs": [
    {
     "name": "stdout",
     "output_type": "stream",
     "text": [
      "http://steamcommunity.com/app/730/homecontent/?userreviewsoffset=0&p=1&itemspage=1&screenshotspage=1&videospage=1&artpage=1&allguidepage=1&webguidepage=1&integratedguidepage=1&discussionspage=1&appid=730&appHubSubSection=10&appHubSubSection=10&l=english&browsefilter=toprated&filterLanguage=default&searchText=&forceanon=1\n"
     ]
    }
   ],
   "source": [
    "# Let's redefine the URL with format specifiers so that we use the URL in\n",
    "# a loop\n",
    "# We'll set the game ID (appid), range beginning value (range_begin), and\n",
    "# increment value (i)\n",
    "appid = '730'\n",
    "range_begin = '0'\n",
    "i = '1'\n",
    "url = 'http://steamcommunity.com/app/{0}/homecontent/?userreviewsoffset={1}&p=1&itemspage={2}&screenshotspage={2}&videospage={2}&artpage={2}&allguidepage={2}&webguidepage={2}&integratedguidepage={2}&discussionspage={2}&appid={0}&appHubSubSection=10&appHubSubSection=10&l=english&browsefilter=toprated&filterLanguage=default&searchText=&forceanon=1'.format(appid, range_begin, i)\n",
    "print(url)"
   ]
  },
  {
   "cell_type": "code",
   "execution_count": 4,
   "metadata": {
    "collapsed": true
   },
   "outputs": [],
   "source": [
    "# The link above will not work if you try to go to it directly\n",
    "# However, if you go to the link and then try to view the source HTML,\n",
    "# you will be able to see the HTML"
   ]
  },
  {
   "cell_type": "code",
   "execution_count": 5,
   "metadata": {
    "collapsed": true
   },
   "outputs": [],
   "source": [
    "# We can read, parse, and then extract the content at the URL using\n",
    "# requests and bs4 (and lxml) modules\n",
    "from bs4 import BeautifulSoup\n",
    "from lxml import html\n",
    "import requests"
   ]
  },
  {
   "cell_type": "code",
   "execution_count": 6,
   "metadata": {
    "collapsed": true
   },
   "outputs": [],
   "source": [
    "# Let's use requests.get() to get the page\n",
    "page = requests.get(url)"
   ]
  },
  {
   "cell_type": "code",
   "execution_count": 7,
   "metadata": {
    "collapsed": false
   },
   "outputs": [
    {
     "data": {
      "text/plain": [
       "['apparent_encoding',\n",
       " 'close',\n",
       " 'connection',\n",
       " 'content',\n",
       " 'cookies',\n",
       " 'elapsed',\n",
       " 'encoding',\n",
       " 'headers',\n",
       " 'history',\n",
       " 'is_permanent_redirect',\n",
       " 'is_redirect',\n",
       " 'iter_content',\n",
       " 'iter_lines',\n",
       " 'json',\n",
       " 'links',\n",
       " 'ok',\n",
       " 'raise_for_status',\n",
       " 'raw',\n",
       " 'reason',\n",
       " 'request',\n",
       " 'status_code',\n",
       " 'text',\n",
       " 'url']"
      ]
     },
     "execution_count": 7,
     "metadata": {},
     "output_type": "execute_result"
    }
   ],
   "source": [
    "# Let's take a look at the attributes of the page object\n",
    "[a for a in dir(page) if not a.startswith('_') and not a.endswith('_')]\n",
    "# Don't worry about the code here, it's just a trick to see public\n",
    "# methods for a requests object"
   ]
  },
  {
   "cell_type": "code",
   "execution_count": 8,
   "metadata": {
    "collapsed": false
   },
   "outputs": [
    {
     "data": {
      "text/plain": [
       "'\\t\\t<div id=\"page1\">\\r\\n\\t\\t<div class=\"apphub_Card interactable\" style=\"display: none\" onclick=\"ShowModalContent( \\'http://steamcommunity.com/profiles/76561198092689293/recommended/730/?insideModal=1\\', \\'http://steamcommunity.com/profiles/76561198092689293/recommended/730/\\', \\'http://steamcommunity.com/profiles/76561198092689293/recommended/730/\\',false );\">\\r\\n\\t<div class=\"apphub_CardContentMain\">\\r\\n\\t\\t<div class=\"apphub_UserReviewCardContent\">\\r\\n\\t\\t\\t<div class=\"found_helpful\">\\r\\n\\t\\t\\t\\t5,624 of 6,054 people (93%) found this review helpful<br>19 people found this review funny\\t\\t\\t</div>\\r\\n\\r\\n\\t\\t\\t<div class=\"vote_header\">\\r\\n\\t\\t\\t\\t\\t\\t\\t\\t<div class=\"reviewInfo\">\\r\\n\\t\\t\\t\\t\\t<div class=\"thumb\">\\r\\n\\t\\t\\t\\t\\t\\t<img src=\"http://steamcommunity-a.akamaihd.net/public/shared/images/userreviews/icon_thumbsUp.png?v=1\" width=\"44\" height=\"44\">\\r\\n\\t\\t\\t\\t\\t</div>\\r\\n\\r\\n\\t\\t\\t\\t\\t\\t\\t\\t\\t\\t<div class=\"title\">Recommended</div>\\r\\n\\t\\t\\t\\t\\t\\t\\t\\t\\t\\t\\t\\t\\t\\t\\t<div class=\"hours\">156.2 hrs on record</div>\\r\\n\\t\\t\\t\\t\\t\\t\\t\\t\\t</div>\\r\\n\\t\\t\\t\\t<div style=\"clear: left\"></div>\\r\\n\\t\\t\\t</div>\\r\\n\\r\\n\\t\\t\\t<div '"
      ]
     },
     "execution_count": 8,
     "metadata": {},
     "output_type": "execute_result"
    }
   ],
   "source": [
    "# We see that there are attributes for the text, json, lines, etc.,\n",
    "# so let's take a look at some of this stuff\n",
    "page.text[:1000] # Here's the raw HTML"
   ]
  },
  {
   "cell_type": "code",
   "execution_count": 9,
   "metadata": {
    "collapsed": false
   },
   "outputs": [],
   "source": [
    "# After looking at some of the other attributes, I've determined\n",
    "# that the text attribute is probably the only thing that\n",
    "# concerns us, so let's use it\n",
    "text = page.text"
   ]
  },
  {
   "cell_type": "code",
   "execution_count": 10,
   "metadata": {
    "collapsed": true
   },
   "outputs": [],
   "source": [
    "# The text, as you can see from the view above, has lots of \\r,\n",
    "# \\n, \\t characters in it, which might not be good for HTML\n",
    "# parsing in our case (I won't get into why, partly because I'm\n",
    "# not completely sure I get why), so let's get rid of all such\n",
    "# characters, replacing them with spaces instead\n",
    "# To do this we will use the re module, which allows us to use\n",
    "# regular expressions\n",
    "import re\n",
    "# While we're at it, it's best to get rid of all \"<br>\" tags since\n",
    "# they could also present problems during parsing\n",
    "# We can use the re.sub() method to find one regular expression and\n",
    "# replace it with another in a given text\n",
    "text = re.sub(r'\\<br\\>', r' ', text) # Looks for the string \"<br>\"\n",
    "    # and replaces it with a space\n",
    "text = re.sub(r'[\\n\\t\\r ]+', r' ', text) # Looks for any sequence\n",
    "    # of carriage returns or whitespace characters and replaces\n",
    "    # them with a single space\n",
    "text = text.strip() # Get rid of spaces at either end"
   ]
  },
  {
   "cell_type": "code",
   "execution_count": 11,
   "metadata": {
    "collapsed": false
   },
   "outputs": [
    {
     "data": {
      "text/plain": [
       "'<div id=\"page1\"> <div class=\"apphub_Card interactable\" style=\"display: none\" onclick=\"ShowModalContent( \\'http://steamcommunity.com/profiles/76561198092689293/recommended/730/?insideModal=1\\', \\'http://steamcommunity.com/profiles/76561198092689293/recommended/730/\\', \\'http://steamcommunity.com/profiles/76561198092689293/recommended/730/\\',false );\"> <div class=\"apphub_CardContentMain\"> <div class=\"apphub_UserReviewCardContent\"> <div class=\"found_helpful\"> 5,624 of 6,054 people (93%) found this review helpful 19 people found this review funny </div> <div class=\"vote_header\"> <div class=\"reviewInfo\"> <div class=\"thumb\"> <img src=\"http://steamcommunity-a.akamaihd.net/public/shared/images/userreviews/icon_thumbsUp.png?v=1\" width=\"44\" height=\"44\"> </div> <div class=\"title\">Recommended</div> <div class=\"hours\">156.2 hrs on record</div> </div> <div style=\"clear: left\"></div> </div> <div class=\"apphub_CardTextContent\"> <div class=\"date_posted\">Posted: February 13</div> If i had a dollar for each ti'"
      ]
     },
     "execution_count": 11,
     "metadata": {},
     "output_type": "execute_result"
    }
   ],
   "source": [
    "# Let's take a look at the cleaned-up version of the source HTML\n",
    "text[:1000]"
   ]
  },
  {
   "cell_type": "code",
   "execution_count": 12,
   "metadata": {
    "collapsed": true
   },
   "outputs": [],
   "source": [
    "# Ok, that looks much nicer!"
   ]
  },
  {
   "cell_type": "code",
   "execution_count": 13,
   "metadata": {
    "collapsed": true
   },
   "outputs": [],
   "source": [
    "# Now, let's try to use bs4 to extract data from the cleaned-up HTML\n",
    "soup = BeautifulSoup(text, \"lxml\")"
   ]
  },
  {
   "cell_type": "code",
   "execution_count": 14,
   "metadata": {
    "collapsed": false
   },
   "outputs": [
    {
     "data": {
      "text/plain": [
       "<html><body><div id=\"page1\"> <div class=\"apphub_Card interactable\" onclick=\"ShowModalContent( 'http://steamcommunity.com/profiles/76561198092689293/recommended/730/?insideModal=1', 'http://steamcommunity.com/profiles/76561198092689293/recommended/730/', 'http://steamcommunity.com/profiles/76561198092689293/recommended/730/',false );\" style=\"display: none\"> <div class=\"apphub_CardContentMain\"> <div class=\"apphub_UserReviewCardContent\"> <div class=\"found_helpful\"> 5,624 of 6,054 people (93%) found this review helpful 19 people found this review funny </div> <div class=\"vote_header\"> <div class=\"reviewInfo\"> <div class=\"thumb\"> <img height=\"44\" src=\"http://steamcommunity-a.akamaihd.net/public/shared/images/userreviews/icon_thumbsUp.png?v=1\" width=\"44\"/> </div> <div class=\"title\">Recommended</div> <div class=\"hours\">156.2 hrs on record</div> </div> <div style=\"clear: left\"></div> </div> <div class=\"apphub_CardTextContent\"> <div class=\"date_posted\">Posted: February 13</div> If i had a dollar for each time someone screamed at me in another language, i'd still have no money because i spent it on skins </div> </div> <div class=\"UserReviewCardContent_Footer\"> <div class=\"gradient\"> </div> </div> </div> <div class=\"apphub_CardContentAuthorBlock tall\"> <div class=\"apphub_friend_block_container\"> <a href=\"http://steamcommunity.com/profiles/76561198092689293/\"> <div class=\"apphub_friend_block\" data-miniprofile=\"132423565\"> <div class=\"appHubIconHolder offline\"><img src=\"http://cdn.akamai.steamstatic.com/steamcommunity/public/images/avatars/19/19a055c1c4c65c51eab9ba175051ef06fc3d1831.jpg\"/></div> <div class=\"appHubIconHolder greyOverlay\"></div> <div class=\"apphub_CardContentAuthorName offline ellipsis\"><a href=\"http://steamcommunity.com/profiles/76561198092689293/\">BakeACake</a></div> <div class=\"apphub_CardContentMoreLink ellipsis\">20 products in account</div> </div> </a> </div> <div class=\"apphub_UserReviewCardStats\"> <div class=\"apphub_CardCommentCount alignNews\">30</div> </div> <div style=\"clear: left\"></div> </div> </div><div class=\"apphub_Card interactable\" onclick=\"ShowModalContent( 'http://steamcommunity.com/id/Delta3D/recommended/730/?insideModal=1', 'http://steamcommunity.com/id/Delta3D/recommended/730/', 'http://steamcommunity.com/id/Delta3D/recommended/730/',false );\" style=\"display: none\"> <div class=\"apphub_CardContentMain\"> <div class=\"apphub_UserReviewCardContent\"> <div class=\"found_helpful\"> 9,223 of 10,073 people (92%) found this review helpful 7 people found this review funny </div> <div class=\"vote_header\"> <div class=\"reviewInfo\"> <div class=\"thumb\"> <img height=\"44\" src=\"http://steamcommunity-a.akamaihd.net/public/shared/images/userreviews/icon_thumbsUp.png?v=1\" width=\"44\"/> </div> <div class=\"title\">Recommended</div> <div class=\"hours\">353.1 hrs on record</div> </div> <div style=\"clear: left\"></div> </div> <div class=\"apphub_CardTextContent\"> <div class=\"date_posted\">Posted: February 1</div> It's like roulette; fun until it turns into Russian. </div> </div> <div class=\"UserReviewCardContent_Footer\"> <div class=\"gradient\"> </div> </div> </div> <div class=\"apphub_CardContentAuthorBlock tall\"> <div class=\"apphub_friend_block_container\"> <a href=\"http://steamcommunity.com/id/Delta3D/\"> <div class=\"apphub_friend_block\" data-miniprofile=\"63720612\"> <div class=\"appHubIconHolder offline\"><img src=\"http://cdn.akamai.steamstatic.com/steamcommunity/public/images/avatars/51/51f0f8b0ca2012ed5e49556228410cb443f6e908.jpg\"/></div> <div class=\"appHubIconHolder greyOverlay\"></div> <div class=\"apphub_CardContentAuthorName offline ellipsis\"><a href=\"http://steamcommunity.com/id/Delta3D/\">Delta</a></div> <div class=\"apphub_CardContentMoreLink ellipsis\">124 products in account</div> </div> </a> </div> <div class=\"apphub_UserReviewCardStats\"> <div class=\"apphub_CardCommentCount alignNews\">72</div> </div> <div style=\"clear: left\"></div> </div> </div><div class=\"apphub_Card interactable\" onclick=\"ShowModalContent( 'http://steamcommunity.com/id/kadiv/recommended/730/?insideModal=1', 'http://steamcommunity.com/id/kadiv/recommended/730/', 'http://steamcommunity.com/id/kadiv/recommended/730/',false );\" style=\"display: none\"> <div class=\"apphub_CardContentMain\"> <div class=\"apphub_UserReviewCardContent\"> <div class=\"found_helpful\"> 15,517 of 17,300 people (90%) found this review helpful 1 person found this review funny </div> <div class=\"vote_header\"> <div class=\"reviewInfo\"> <div class=\"thumb\"> <img height=\"44\" src=\"http://steamcommunity-a.akamaihd.net/public/shared/images/userreviews/icon_thumbsUp.png?v=1\" width=\"44\"/> </div> <div class=\"title\">Recommended</div> <div class=\"hours\">1,176.1 hrs on record</div> </div> <div style=\"clear: left\"></div> </div> <div class=\"apphub_CardTextContent\"> <div class=\"date_posted\">Posted: February 27, 2014</div> you either die a noob or live long enough to get called a hacker </div> </div> <div class=\"UserReviewCardContent_Footer\"> <div class=\"gradient\"> </div> </div> </div> <div class=\"apphub_CardContentAuthorBlock tall\"> <div class=\"apphub_friend_block_container\"> <a href=\"http://steamcommunity.com/id/kadiv/\"> <div class=\"apphub_friend_block\" data-miniprofile=\"99493655\"> <div class=\"appHubIconHolder offline\"><img src=\"http://cdn.akamai.steamstatic.com/steamcommunity/public/images/avatars/20/201f1deaec86716a83457f785b200e7c3b434451.jpg\"/></div> <div class=\"appHubIconHolder greyOverlay\"></div> <div class=\"apphub_CardContentAuthorName offline ellipsis\"><a href=\"http://steamcommunity.com/id/kadiv/\">compliKATIEd</a></div> <div class=\"apphub_CardContentMoreLink ellipsis\">114 products in account</div> </div> </a> </div> <div class=\"apphub_UserReviewCardStats\"> <div class=\"apphub_CardCommentCount alignNews\">174</div> </div> <div style=\"clear: left\"></div> </div> </div><div class=\"apphub_Card interactable\" onclick=\"ShowModalContent( 'http://steamcommunity.com/id/knal/recommended/730/?insideModal=1', 'http://steamcommunity.com/id/knal/recommended/730/', 'http://steamcommunity.com/id/knal/recommended/730/',false );\" style=\"display: none\"> <div class=\"apphub_CardContentMain\"> <div class=\"apphub_UserReviewCardContent\"> <div class=\"found_helpful\"> 3,767 of 4,175 people (90%) found this review helpful 4 people found this review funny </div> <div class=\"vote_header\"> <div class=\"reviewInfo\"> <div class=\"thumb\"> <img height=\"44\" src=\"http://steamcommunity-a.akamaihd.net/public/shared/images/userreviews/icon_thumbsUp.png?v=1\" width=\"44\"/> </div> <div class=\"title\">Recommended</div> <div class=\"hours\">558.4 hrs on record</div> </div> <div style=\"clear: left\"></div> </div> <div class=\"apphub_CardTextContent\"> <div class=\"date_posted\">Posted: January 14</div> Your self-esteem either dies in this game or it inflates to unbearable proportions. </div> </div> <div class=\"UserReviewCardContent_Footer\"> <div class=\"gradient\"> </div> </div> </div> <div class=\"apphub_CardContentAuthorBlock tall\"> <div class=\"apphub_friend_block_container\"> <a href=\"http://steamcommunity.com/id/knal/\"> <div class=\"apphub_friend_block\" data-miniprofile=\"39900571\"> <div class=\"appHubIconHolder in-game\"><img src=\"http://cdn.akamai.steamstatic.com/steamcommunity/public/images/avatars/a8/a8c445d4a91ca95fc4314b1fbd58dc8f92726b89.jpg\"/></div> <div class=\"appHubIconHolder greyOverlay\"></div> <div class=\"apphub_CardContentAuthorName in-game ellipsis\"><a href=\"http://steamcommunity.com/id/knal/\">Knalraap</a></div> <div class=\"apphub_CardContentMoreLink ellipsis\">390 products in account</div> </div> </a> </div> <div class=\"apphub_UserReviewCardStats\"> <div class=\"apphub_CardCommentCount alignNews\">27</div> </div> <div style=\"clear: left\"></div> </div> </div><div class=\"apphub_Card interactable\" onclick=\"ShowModalContent( 'http://steamcommunity.com/profiles/76561198003457024/recommended/730/?insideModal=1', 'http://steamcommunity.com/profiles/76561198003457024/recommended/730/', 'http://steamcommunity.com/profiles/76561198003457024/recommended/730/',false );\" style=\"display: none\"> <div class=\"apphub_CardContentMain\"> <div class=\"apphub_UserReviewCardContent\"> <div class=\"found_helpful\"> 19,689 of 22,014 people (89%) found this review helpful </div> <div class=\"vote_header\"> <div class=\"reviewInfo\"> <div class=\"thumb\"> <img height=\"44\" src=\"http://steamcommunity-a.akamaihd.net/public/shared/images/userreviews/icon_thumbsUp.png?v=1\" width=\"44\"/> </div> <div class=\"title\">Recommended</div> <div class=\"hours\">727.2 hrs on record</div> </div> <div style=\"clear: left\"></div> </div> <div class=\"apphub_CardTextContent\"> <div class=\"date_posted\">Posted: July 13, 2014</div> Kill someone with a P90 - \"You're a fuc**** noob!! Noob weapon!!\" Kill someone with a P90 through a smoke - \"You're a fuc**** hacker!!\" Kill someone with a AWP - \"You're a fuc**** noob!! Noob weapon!!\" Kill someone with a AWP through a door - \"You're a fuc**** hacker!!\" In a 1 vs 5 you die - \"You're a fuc**** noob!!\" In a 1 vs 5 you win - \"You're a fuc**** hacker!!\" Kill someone with a headshot - \"Hacker!!\" Get headshoted by someone - \"Owned!!\" and get teabagged Kill someone with a grenade - \"Luck!!\" Get killed by someone with a grenade - \"AHAHAHAHA\" Get teamkilled by someone - \"Get out of the way you fuc**** idiot!!\" Accidentally teamkill someone - \"You're a fuc**** idiot!!\" Blocked by someone - Dies Accidentally blocks someone - \"Get out the way you fuc**** idiot!!\" Decide to save - \"You're a fuc**** coward!!\" Decide not to save - \"Save you fuc**** idiot!!\" Kill someone while defending the bomb - \"You fuc**** camper!!\" Kill someone while defending the hostages - \"You fuc**** camper!!\" Someone dies - The deceased one starts to rage Your team lose the round - Your team starts to rage Your team is losing 10-2 - Someone rages quit Go to the balcony in Italy - \"You fuc**** hacker!!\" Worst guy receives a drop - \"Are you fuc**** serious!?\" Warm up - Everybody tries to spawn kill Score is 5-1 in your favor - \"This is a T map!\" Score is 1-5 againts you - \"This is a CT map!\" Lose the first 2 rounds - Someone asks to get kicked Last round - Everybody buys Negev Your team is loosinh and you are in last - Someone vote kicks you Win a match - All enemy team rages Lose a match - Yout team rages Someone's Internet crashes - 30 minutes ban Your Internet crashes - 7 days ban 10/10 Best rage simulator out there! </div> </div> <div class=\"UserReviewCardContent_Footer\"> <div class=\"gradient\"> </div> </div> </div> <div class=\"apphub_CardContentAuthorBlock tall\"> <div class=\"apphub_friend_block_container\"> <a href=\"http://steamcommunity.com/profiles/76561198003457024/\"> <div class=\"apphub_friend_block\" data-miniprofile=\"43191296\"> <div class=\"appHubIconHolder offline\"><img src=\"http://cdn.akamai.steamstatic.com/steamcommunity/public/images/avatars/ad/ad23fa77140d73467aacd7dfa979ef809511d362.jpg\"/></div> <div class=\"appHubIconHolder greyOverlay\"></div> <div class=\"apphub_CardContentAuthorName offline ellipsis\"><a href=\"http://steamcommunity.com/profiles/76561198003457024/\">Fokogrilo</a></div> <div class=\"apphub_CardContentMoreLink ellipsis\">220 products in account</div> </div> </a> </div> <div class=\"apphub_UserReviewCardStats\"> <div class=\"apphub_CardCommentCount alignNews\">519</div> </div> <div style=\"clear: left\"></div> </div> </div><div class=\"apphub_Card interactable\" onclick=\"ShowModalContent( 'http://steamcommunity.com/id/hiaympalliman/recommended/730/?insideModal=1', 'http://steamcommunity.com/id/hiaympalliman/recommended/730/', 'http://steamcommunity.com/id/hiaympalliman/recommended/730/',false );\" style=\"display: none\"> <div class=\"apphub_CardContentMain\"> <div class=\"apphub_UserReviewCardContent\"> <div class=\"found_helpful\"> 10,346 of 11,559 people (90%) found this review helpful 1 person found this review funny </div> <div class=\"vote_header\"> <div class=\"reviewInfo\"> <div class=\"thumb\"> <img height=\"44\" src=\"http://steamcommunity-a.akamaihd.net/public/shared/images/userreviews/icon_thumbsUp.png?v=1\" width=\"44\"/> </div> <div class=\"title\">Recommended</div> <div class=\"hours\">82.5 hrs on record</div> </div> <div style=\"clear: left\"></div> </div> <div class=\"apphub_CardTextContent\"> <div class=\"date_posted\">Posted: September 1, 2014</div> Bought this game, played online, learned fluent russian 2 weeks later. </div> </div> <div class=\"UserReviewCardContent_Footer\"> <div class=\"gradient\"> </div> </div> </div> <div class=\"apphub_CardContentAuthorBlock tall\"> <div class=\"apphub_friend_block_container\"> <a href=\"http://steamcommunity.com/id/hiaympalliman/\"> <div class=\"apphub_friend_block\" data-miniprofile=\"89835438\"> <div class=\"appHubIconHolder in-game\"><img src=\"http://cdn.akamai.steamstatic.com/steamcommunity/public/images/avatars/f3/f3da7f18f8f9a1c9a7f9533a8a69ed6c53af7cc0.jpg\"/></div> <div class=\"appHubIconHolder greyOverlay\"></div> <div class=\"apphub_CardContentAuthorName in-game ellipsis\"><a href=\"http://steamcommunity.com/id/hiaympalliman/\">Crumpled Paper</a></div> <div class=\"apphub_CardContentMoreLink ellipsis\">59 products in account</div> </div> </a> </div> <div class=\"apphub_UserReviewCardStats\"> <div class=\"apphub_CardCommentCount alignNews\">132</div> </div> <div style=\"clear: left\"></div> </div> </div><div class=\"apphub_Card interactable\" onclick=\"ShowModalContent( 'http://steamcommunity.com/id/ZoomaAP/recommended/730/?insideModal=1', 'http://steamcommunity.com/id/ZoomaAP/recommended/730/', 'http://steamcommunity.com/id/ZoomaAP/recommended/730/',false );\" style=\"display: none\"> <div class=\"apphub_CardContentMain\"> <div class=\"apphub_UserReviewCardContent\"> <div class=\"found_helpful\"> 8,472 of 9,497 people (89%) found this review helpful 10 people found this review funny </div> <div class=\"vote_header\"> <div class=\"reviewInfo\"> <div class=\"thumb\"> <img height=\"44\" src=\"http://steamcommunity-a.akamaihd.net/public/shared/images/userreviews/icon_thumbsUp.png?v=1\" width=\"44\"/> </div> <div class=\"title\">Recommended</div> <div class=\"hours\">457.8 hrs on record</div> </div> <div style=\"clear: left\"></div> </div> <div class=\"apphub_CardTextContent\"> <div class=\"date_posted\">Posted: January 24</div> &gt;see a guy &gt;shoot him &gt;miss every shot &gt;he turns around &gt;kills me in one shot &gt;exit cs:go 10/10 </div> </div> <div class=\"UserReviewCardContent_Footer\"> <div class=\"gradient\"> </div> </div> </div> <div class=\"apphub_CardContentAuthorBlock tall\"> <div class=\"apphub_friend_block_container\"> <a href=\"http://steamcommunity.com/id/ZoomaAP/\"> <div class=\"apphub_friend_block\" data-miniprofile=\"68226241\"> <div class=\"appHubIconHolder in-game\"><img src=\"http://cdn.akamai.steamstatic.com/steamcommunity/public/images/avatars/38/387b1a115d7227c105e8f713191b3bfbeab370b9.jpg\"/></div> <div class=\"appHubIconHolder greyOverlay\"></div> <div class=\"apphub_CardContentAuthorName in-game ellipsis\"><a href=\"http://steamcommunity.com/id/ZoomaAP/\">Zooma</a></div> <div class=\"apphub_CardContentMoreLink ellipsis\">9 products in account</div> </div> </a> </div> <div class=\"apphub_UserReviewCardStats\"> <div class=\"apphub_CardCommentCount alignNews\">84</div> </div> <div style=\"clear: left\"></div> </div> </div><div class=\"apphub_Card interactable\" onclick=\"ShowModalContent( 'http://steamcommunity.com/id/RevanDaDragon/recommended/730/?insideModal=1', 'http://steamcommunity.com/id/RevanDaDragon/recommended/730/', 'http://steamcommunity.com/id/RevanDaDragon/recommended/730/',false );\" style=\"display: none\"> <div class=\"apphub_CardContentMain\"> <div class=\"apphub_UserReviewCardContent\"> <div class=\"found_helpful\"> 8,285 of 9,313 people (89%) found this review helpful 25 people found this review funny </div> <div class=\"vote_header\"> <div class=\"reviewInfo\"> <div class=\"thumb\"> <img height=\"44\" src=\"http://steamcommunity-a.akamaihd.net/public/shared/images/userreviews/icon_thumbsUp.png?v=1\" width=\"44\"/> </div> <div class=\"title\">Recommended</div> <div class=\"hours\">3,454.8 hrs on record</div> </div> <div style=\"clear: left\"></div> </div> <div class=\"apphub_CardTextContent\"> <div class=\"date_posted\">Posted: March 17</div> Revan was only 23 years old. He loved CS:GO so much. He had most of the achievements and items. He prayed to Gaben every night before bed, thanking him for the inventory he's been given. \"CS:GO is love,\" he says, \"CS:GO is life.\" His elder Dragon hears him and calls him a silver scrublord. He knows his elder is just jealous of his son's devotion to Gabe. He calls him a console peasant. He slaps him and sends him to sleep. He's crying now and his face hurts. He lays in bed, and it's really cold. He feels a warmth moving towards him. He looks up. It's Gabe! He's so happy, Gabe whispers into Revan's ear, \"Try your chances... Open a case.\" Gaben grabs Revan with his powerful dev-team hands and puts him on his hands and knees. He's ready. Revan opens his pockets for Gabe. Gabe puts his hands deep into Revan's pockets. It costs so much, but Revan does it for CS:GO. Revan can feel his wallet emptying as his eyes start to water. He accepts the terms and conditions. Revan wants to please Gabe. Gaben lets out a mighty roar as he fills Revan's computer with keys. Revan opens all the cases and gets nothing worth anything at all. <b>CS:GO is love... CS:GO is life... ﻿</b> </div> </div> <div class=\"UserReviewCardContent_Footer\"> <div class=\"gradient\"> </div> </div> </div> <div class=\"apphub_CardContentAuthorBlock tall\"> <div class=\"apphub_friend_block_container\"> <a href=\"http://steamcommunity.com/id/RevanDaDragon/\"> <div class=\"apphub_friend_block\" data-miniprofile=\"80405427\"> <div class=\"appHubIconHolder offline\"><img src=\"http://cdn.akamai.steamstatic.com/steamcommunity/public/images/avatars/4f/4f24ad135bf41975ee183059c83cd76a05bdb003.jpg\"/></div> <div class=\"appHubIconHolder greyOverlay\"></div> <div class=\"apphub_CardContentAuthorName offline ellipsis\"><a href=\"http://steamcommunity.com/id/RevanDaDragon/\">¤Sparkeye The Dragon¤</a></div> <div class=\"apphub_CardContentMoreLink ellipsis\">181 products in account</div> </div> </a> </div> <div class=\"apphub_UserReviewCardStats\"> <div class=\"apphub_CardCommentCount alignNews\">188</div> </div> <div style=\"clear: left\"></div> </div> </div><div class=\"apphub_Card interactable\" onclick=\"ShowModalContent( 'http://steamcommunity.com/id/greybutnotgey/recommended/730/?insideModal=1', 'http://steamcommunity.com/id/greybutnotgey/recommended/730/', 'http://steamcommunity.com/id/greybutnotgey/recommended/730/',false );\" style=\"display: none\"> <div class=\"apphub_CardContentMain\"> <div class=\"apphub_UserReviewCardContent\"> <div class=\"found_helpful\"> 5,067 of 5,693 people (89%) found this review helpful 1 person found this review funny </div> <div class=\"vote_header\"> <div class=\"reviewInfo\"> <div class=\"thumb\"> <img height=\"44\" src=\"http://steamcommunity-a.akamaihd.net/public/shared/images/userreviews/icon_thumbsUp.png?v=1\" width=\"44\"/> </div> <div class=\"title\">Recommended</div> <div class=\"hours\">297.9 hrs on record</div> </div> <div style=\"clear: left\"></div> </div> <div class=\"apphub_CardTextContent\"> <div class=\"date_posted\">Posted: December 14, 2014</div> Knife = free Knife with paint on it = 200$ 5000 likes time to jump off a building </div> </div> <div class=\"UserReviewCardContent_Footer\"> <div class=\"gradient\"> </div> </div> </div> <div class=\"apphub_CardContentAuthorBlock tall\"> <div class=\"apphub_friend_block_container\"> <a href=\"http://steamcommunity.com/id/greybutnotgey/\"> <div class=\"apphub_friend_block\" data-miniprofile=\"43857747\"> <div class=\"appHubIconHolder offline\"><img src=\"http://cdn.akamai.steamstatic.com/steamcommunity/public/images/avatars/9d/9dab356436e53c185b4960b423bdb3425cb8f437.jpg\"/></div> <div class=\"appHubIconHolder greyOverlay\"></div> <div class=\"apphub_CardContentAuthorName offline ellipsis\"><a href=\"http://steamcommunity.com/id/greybutnotgey/\">Sir Grayson</a></div> <div class=\"apphub_CardContentMoreLink ellipsis\">152 products in account</div> </div> </a> </div> <div class=\"apphub_UserReviewCardStats\"> <div class=\"apphub_CardCommentCount alignNews\">29</div> </div> <div style=\"clear: left\"></div> </div> </div><div class=\"apphub_Card interactable\" onclick=\"ShowModalContent( 'http://steamcommunity.com/id/End3rb0rn/recommended/730/?insideModal=1', 'http://steamcommunity.com/id/End3rb0rn/recommended/730/', 'http://steamcommunity.com/id/End3rb0rn/recommended/730/',false );\" style=\"display: none\"> <div class=\"apphub_CardContentMain\"> <div class=\"apphub_UserReviewCardContent\"> <div class=\"found_helpful\"> 11,568 of 13,088 people (88%) found this review helpful 1 person found this review funny </div> <div class=\"vote_header\"> <div class=\"reviewInfo\"> <div class=\"thumb\"> <img height=\"44\" src=\"http://steamcommunity-a.akamaihd.net/public/shared/images/userreviews/icon_thumbsUp.png?v=1\" width=\"44\"/> </div> <div class=\"title\">Recommended</div> <div class=\"hours\">953.3 hrs on record</div> </div> <div style=\"clear: left\"></div> </div> <div class=\"apphub_CardTextContent\"> <div class=\"date_posted\">Posted: November 1, 2014</div> Knife in real life: 10$ Knife in game: 400$ 10/10 </div> </div> <div class=\"UserReviewCardContent_Footer\"> <div class=\"gradient\"> </div> </div> </div> <div class=\"apphub_CardContentAuthorBlock tall\"> <div class=\"apphub_friend_block_container\"> <a href=\"http://steamcommunity.com/id/End3rb0rn/\"> <div class=\"apphub_friend_block\" data-miniprofile=\"93373938\"> <div class=\"appHubIconHolder offline\"><img src=\"http://cdn.akamai.steamstatic.com/steamcommunity/public/images/avatars/3f/3ff6b444ae38d7ab1799618377f0c07980521545.jpg\"/></div> <div class=\"appHubIconHolder greyOverlay\"></div> <div class=\"apphub_CardContentAuthorName offline ellipsis\"><a href=\"http://steamcommunity.com/id/End3rb0rn/\">Enderborn</a></div> <div class=\"apphub_CardContentMoreLink ellipsis\">162 products in account</div> </div> </a> </div> <div class=\"apphub_UserReviewCardStats\"> <div class=\"apphub_CardCommentCount alignNews\">114</div> </div> <div style=\"clear: left\"></div> </div> </div> <script> $J(function() { RequestCurrentUserRecommendationVotes( [\"14446233\",\"14283984\",\"9279237\",\"13990330\",\"11218251\",\"11953345\",\"14147153\",\"14939094\",\"13374032\",\"12724369\"] ); } ); </script> </div> <form action=\"http://steamcommunity.com/app/730/homecontent/\" id=\"MoreContentForm1\" method=\"GET\" name=\"MoreContentForm1\"> <input name=\"userreviewsoffset\" type=\"hidden\" value=\"10\"/><input name=\"p\" type=\"hidden\" value=\"2\"/><input name=\"itemspage\" type=\"hidden\" value=\"2\"/><input name=\"screenshotspage\" type=\"hidden\" value=\"2\"/><input name=\"videospage\" type=\"hidden\" value=\"2\"/><input name=\"artpage\" type=\"hidden\" value=\"2\"/><input name=\"allguidepage\" type=\"hidden\" value=\"2\"/><input name=\"webguidepage\" type=\"hidden\" value=\"2\"/><input name=\"integratedguidepage\" type=\"hidden\" value=\"2\"/><input name=\"discussionspage\" type=\"hidden\" value=\"2\"/><input name=\"appid\" type=\"hidden\" value=\"730\"/><input name=\"appHubSubSection\" type=\"hidden\" value=\"10\"/> <input name=\"l\" type=\"hidden\" value=\"english\"/> <input name=\"appHubSubSection\" type=\"hidden\" value=\"10\"/> <input name=\"browsefilter\" type=\"hidden\" value=\"toprated\"/> <input name=\"filterLanguage\" type=\"hidden\" value=\"default\"/> <input name=\"searchText\" type=\"hidden\" value=\"\"/> <input name=\"forceanon\" type=\"hidden\" value=\"1\"/> </form></body></html>"
      ]
     },
     "execution_count": 14,
     "metadata": {},
     "output_type": "execute_result"
    }
   ],
   "source": [
    "soup.contents[0]"
   ]
  },
  {
   "cell_type": "code",
   "execution_count": 55,
   "metadata": {
    "collapsed": false
   },
   "outputs": [],
   "source": [
    "# The parts of the review that we want are the following:\n",
    "# 1) <div class=\"apphub_Card interactable\"... ==> contains links to the reviewer's profile,\n",
    "#    typically like the following entry: \"onclick=\"ShowModalContent(\n",
    "#    'http://steamcommunity.com/profiles/76561198092689293/recommended/730/?insideModal=1',\n",
    "#    'http://steamcommunity.com/profiles/76561198092689293/recommended/730/',\n",
    "#    'http://steamcommunity.com/profiles/76561198092689293/recommended/730/',false );\"\"\n",
    "#    - these links are notable for the following reasons:\n",
    "#      i) is the number in the link itself the reviwer's ID number? if so, maybe it can be used\n",
    "#         with Steam API...\n",
    "#      ii) if the link is followed, the profile page lists some info that is not included here,\n",
    "#          such as the reviewer's handle (ok, that is included here, but it's a little buried),\n",
    "#          how many hours the reviewer has logged (for the game being reviewed) in the last two\n",
    "#          weeks, whether or not the reviewer is \"recommended\" (at least seemingly), AND any\n",
    "#          resulting discussion prompted by the review, etc.\n",
    "#      iii) ALSO, the link itself can be shortened to lead you to the reviewer's profile page,\n",
    "#           which has a lot of information, such as in-game achievements, level of player\n",
    "#           (how many games owned), location of player (at least sometimes), and a lot more\n",
    "# 2) <div div class=\"found_helpful\"... ==> which will contain the number of people who found the\n",
    "#    review helpful (and the total people who could have rated it (?) and the percentage\n",
    "#    resulting from those two numbers) AND it will also contain the number of people who found\n",
    "#    the review funny. typically, it will look like this \"4,719 of 5,081 people (93%) found this\n",
    "#    review helpful 73 people found this review funny\"\n",
    "\n",
    "# Given the fact that the first part includes the link all we really need to do is get the link,\n",
    "# so let's just try to extract the links\n",
    "review_sections = soup.find_all(\"div\", \"apphub_Card interactable\")\n",
    "review = review_sections[0]"
   ]
  },
  {
   "cell_type": "code",
   "execution_count": 56,
   "metadata": {
    "collapsed": false
   },
   "outputs": [
    {
     "data": {
      "text/plain": [
       "10"
      ]
     },
     "execution_count": 56,
     "metadata": {},
     "output_type": "execute_result"
    }
   ],
   "source": [
    "# There should be about 10 such reviews\n",
    "len(review_sections)"
   ]
  },
  {
   "cell_type": "code",
   "execution_count": 57,
   "metadata": {
    "collapsed": false
   },
   "outputs": [
    {
     "data": {
      "text/plain": [
       "\"    5,624 of 6,054 people (93%) found this review helpful 19 people found this review funny       Recommended 156.2 hrs on record     Posted: February 13 If i had a dollar for each time someone screamed at me in another language, i'd still have no money because i spent it on skins    \\xa0         BakeACake 20 products in account     30    \""
      ]
     },
     "execution_count": 57,
     "metadata": {},
     "output_type": "execute_result"
    }
   ],
   "source": [
    "review.text"
   ]
  },
  {
   "cell_type": "code",
   "execution_count": 58,
   "metadata": {
    "collapsed": false
   },
   "outputs": [
    {
     "data": {
      "text/plain": [
       "'http://steamcommunity.com/profiles/76561198092689293/recommended/730/?insideModal=1'"
      ]
     },
     "execution_count": 58,
     "metadata": {},
     "output_type": "execute_result"
    }
   ],
   "source": [
    "# Let's use the attrs attribute to get the list of links\n",
    "link_str = review.attrs['onclick']\n",
    "link = link_str.split(' ', 2)[1].strip('\\',')\n",
    "link"
   ]
  },
  {
   "cell_type": "code",
   "execution_count": 59,
   "metadata": {
    "collapsed": false
   },
   "outputs": [
    {
     "data": {
      "text/plain": [
       "[' ',\n",
       " <div class=\"apphub_CardContentMain\"> <div class=\"apphub_UserReviewCardContent\"> <div class=\"found_helpful\"> 5,624 of 6,054 people (93%) found this review helpful 19 people found this review funny </div> <div class=\"vote_header\"> <div class=\"reviewInfo\"> <div class=\"thumb\"> <img height=\"44\" src=\"http://steamcommunity-a.akamaihd.net/public/shared/images/userreviews/icon_thumbsUp.png?v=1\" width=\"44\"/> </div> <div class=\"title\">Recommended</div> <div class=\"hours\">156.2 hrs on record</div> </div> <div style=\"clear: left\"></div> </div> <div class=\"apphub_CardTextContent\"> <div class=\"date_posted\">Posted: February 13</div> If i had a dollar for each time someone screamed at me in another language, i'd still have no money because i spent it on skins </div> </div> <div class=\"UserReviewCardContent_Footer\"> <div class=\"gradient\"> </div> </div> </div>,\n",
       " ' ',\n",
       " <div class=\"apphub_CardContentAuthorBlock tall\"> <div class=\"apphub_friend_block_container\"> <a href=\"http://steamcommunity.com/profiles/76561198092689293/\"> <div class=\"apphub_friend_block\" data-miniprofile=\"132423565\"> <div class=\"appHubIconHolder offline\"><img src=\"http://cdn.akamai.steamstatic.com/steamcommunity/public/images/avatars/19/19a055c1c4c65c51eab9ba175051ef06fc3d1831.jpg\"/></div> <div class=\"appHubIconHolder greyOverlay\"></div> <div class=\"apphub_CardContentAuthorName offline ellipsis\"><a href=\"http://steamcommunity.com/profiles/76561198092689293/\">BakeACake</a></div> <div class=\"apphub_CardContentMoreLink ellipsis\">20 products in account</div> </div> </a> </div> <div class=\"apphub_UserReviewCardStats\"> <div class=\"apphub_CardCommentCount alignNews\">30</div> </div> <div style=\"clear: left\"></div> </div>,\n",
       " ' ']"
      ]
     },
     "execution_count": 59,
     "metadata": {},
     "output_type": "execute_result"
    }
   ],
   "source": [
    "list(review.children)"
   ]
  },
  {
   "cell_type": "code",
   "execution_count": 24,
   "metadata": {
    "collapsed": false
   },
   "outputs": [
    {
     "data": {
      "text/plain": [
       "[' ',\n",
       " <div class=\"apphub_CardContentMain\"> <div class=\"apphub_UserReviewCardContent\"> <div class=\"found_helpful\"> 5,624 of 6,054 people (93%) found this review helpful 19 people found this review funny </div> <div class=\"vote_header\"> <div class=\"reviewInfo\"> <div class=\"thumb\"> <img height=\"44\" src=\"http://steamcommunity-a.akamaihd.net/public/shared/images/userreviews/icon_thumbsUp.png?v=1\" width=\"44\"/> </div> <div class=\"title\">Recommended</div> <div class=\"hours\">156.2 hrs on record</div> </div> <div style=\"clear: left\"></div> </div> <div class=\"apphub_CardTextContent\"> <div class=\"date_posted\">Posted: February 13</div> If i had a dollar for each time someone screamed at me in another language, i'd still have no money because i spent it on skins </div> </div> <div class=\"UserReviewCardContent_Footer\"> <div class=\"gradient\"> </div> </div> </div>,\n",
       " ' ',\n",
       " <div class=\"apphub_UserReviewCardContent\"> <div class=\"found_helpful\"> 5,624 of 6,054 people (93%) found this review helpful 19 people found this review funny </div> <div class=\"vote_header\"> <div class=\"reviewInfo\"> <div class=\"thumb\"> <img height=\"44\" src=\"http://steamcommunity-a.akamaihd.net/public/shared/images/userreviews/icon_thumbsUp.png?v=1\" width=\"44\"/> </div> <div class=\"title\">Recommended</div> <div class=\"hours\">156.2 hrs on record</div> </div> <div style=\"clear: left\"></div> </div> <div class=\"apphub_CardTextContent\"> <div class=\"date_posted\">Posted: February 13</div> If i had a dollar for each time someone screamed at me in another language, i'd still have no money because i spent it on skins </div> </div>,\n",
       " ' ',\n",
       " <div class=\"found_helpful\"> 5,624 of 6,054 people (93%) found this review helpful 19 people found this review funny </div>,\n",
       " ' 5,624 of 6,054 people (93%) found this review helpful 19 people found this review funny ',\n",
       " ' ',\n",
       " <div class=\"vote_header\"> <div class=\"reviewInfo\"> <div class=\"thumb\"> <img height=\"44\" src=\"http://steamcommunity-a.akamaihd.net/public/shared/images/userreviews/icon_thumbsUp.png?v=1\" width=\"44\"/> </div> <div class=\"title\">Recommended</div> <div class=\"hours\">156.2 hrs on record</div> </div> <div style=\"clear: left\"></div> </div>,\n",
       " ' ',\n",
       " <div class=\"reviewInfo\"> <div class=\"thumb\"> <img height=\"44\" src=\"http://steamcommunity-a.akamaihd.net/public/shared/images/userreviews/icon_thumbsUp.png?v=1\" width=\"44\"/> </div> <div class=\"title\">Recommended</div> <div class=\"hours\">156.2 hrs on record</div> </div>,\n",
       " ' ',\n",
       " <div class=\"thumb\"> <img height=\"44\" src=\"http://steamcommunity-a.akamaihd.net/public/shared/images/userreviews/icon_thumbsUp.png?v=1\" width=\"44\"/> </div>,\n",
       " ' ',\n",
       " <img height=\"44\" src=\"http://steamcommunity-a.akamaihd.net/public/shared/images/userreviews/icon_thumbsUp.png?v=1\" width=\"44\"/>,\n",
       " ' ',\n",
       " ' ',\n",
       " <div class=\"title\">Recommended</div>,\n",
       " 'Recommended',\n",
       " ' ',\n",
       " <div class=\"hours\">156.2 hrs on record</div>,\n",
       " '156.2 hrs on record',\n",
       " ' ',\n",
       " ' ',\n",
       " <div style=\"clear: left\"></div>,\n",
       " ' ',\n",
       " ' ',\n",
       " <div class=\"apphub_CardTextContent\"> <div class=\"date_posted\">Posted: February 13</div> If i had a dollar for each time someone screamed at me in another language, i'd still have no money because i spent it on skins </div>,\n",
       " ' ',\n",
       " <div class=\"date_posted\">Posted: February 13</div>,\n",
       " 'Posted: February 13',\n",
       " \" If i had a dollar for each time someone screamed at me in another language, i'd still have no money because i spent it on skins \",\n",
       " ' ',\n",
       " ' ',\n",
       " <div class=\"UserReviewCardContent_Footer\"> <div class=\"gradient\"> </div> </div>,\n",
       " ' ',\n",
       " <div class=\"gradient\"> </div>,\n",
       " '\\xa0',\n",
       " ' ',\n",
       " ' ',\n",
       " ' ',\n",
       " <div class=\"apphub_CardContentAuthorBlock tall\"> <div class=\"apphub_friend_block_container\"> <a href=\"http://steamcommunity.com/profiles/76561198092689293/\"> <div class=\"apphub_friend_block\" data-miniprofile=\"132423565\"> <div class=\"appHubIconHolder offline\"><img src=\"http://cdn.akamai.steamstatic.com/steamcommunity/public/images/avatars/19/19a055c1c4c65c51eab9ba175051ef06fc3d1831.jpg\"/></div> <div class=\"appHubIconHolder greyOverlay\"></div> <div class=\"apphub_CardContentAuthorName offline ellipsis\"><a href=\"http://steamcommunity.com/profiles/76561198092689293/\">BakeACake</a></div> <div class=\"apphub_CardContentMoreLink ellipsis\">20 products in account</div> </div> </a> </div> <div class=\"apphub_UserReviewCardStats\"> <div class=\"apphub_CardCommentCount alignNews\">30</div> </div> <div style=\"clear: left\"></div> </div>,\n",
       " ' ',\n",
       " <div class=\"apphub_friend_block_container\"> <a href=\"http://steamcommunity.com/profiles/76561198092689293/\"> <div class=\"apphub_friend_block\" data-miniprofile=\"132423565\"> <div class=\"appHubIconHolder offline\"><img src=\"http://cdn.akamai.steamstatic.com/steamcommunity/public/images/avatars/19/19a055c1c4c65c51eab9ba175051ef06fc3d1831.jpg\"/></div> <div class=\"appHubIconHolder greyOverlay\"></div> <div class=\"apphub_CardContentAuthorName offline ellipsis\"><a href=\"http://steamcommunity.com/profiles/76561198092689293/\">BakeACake</a></div> <div class=\"apphub_CardContentMoreLink ellipsis\">20 products in account</div> </div> </a> </div>,\n",
       " ' ',\n",
       " <a href=\"http://steamcommunity.com/profiles/76561198092689293/\"> <div class=\"apphub_friend_block\" data-miniprofile=\"132423565\"> <div class=\"appHubIconHolder offline\"><img src=\"http://cdn.akamai.steamstatic.com/steamcommunity/public/images/avatars/19/19a055c1c4c65c51eab9ba175051ef06fc3d1831.jpg\"/></div> <div class=\"appHubIconHolder greyOverlay\"></div> <div class=\"apphub_CardContentAuthorName offline ellipsis\"><a href=\"http://steamcommunity.com/profiles/76561198092689293/\">BakeACake</a></div> <div class=\"apphub_CardContentMoreLink ellipsis\">20 products in account</div> </div> </a>,\n",
       " ' ',\n",
       " <div class=\"apphub_friend_block\" data-miniprofile=\"132423565\"> <div class=\"appHubIconHolder offline\"><img src=\"http://cdn.akamai.steamstatic.com/steamcommunity/public/images/avatars/19/19a055c1c4c65c51eab9ba175051ef06fc3d1831.jpg\"/></div> <div class=\"appHubIconHolder greyOverlay\"></div> <div class=\"apphub_CardContentAuthorName offline ellipsis\"><a href=\"http://steamcommunity.com/profiles/76561198092689293/\">BakeACake</a></div> <div class=\"apphub_CardContentMoreLink ellipsis\">20 products in account</div> </div>,\n",
       " ' ',\n",
       " <div class=\"appHubIconHolder offline\"><img src=\"http://cdn.akamai.steamstatic.com/steamcommunity/public/images/avatars/19/19a055c1c4c65c51eab9ba175051ef06fc3d1831.jpg\"/></div>,\n",
       " <img src=\"http://cdn.akamai.steamstatic.com/steamcommunity/public/images/avatars/19/19a055c1c4c65c51eab9ba175051ef06fc3d1831.jpg\"/>,\n",
       " ' ',\n",
       " <div class=\"appHubIconHolder greyOverlay\"></div>,\n",
       " ' ',\n",
       " <div class=\"apphub_CardContentAuthorName offline ellipsis\"><a href=\"http://steamcommunity.com/profiles/76561198092689293/\">BakeACake</a></div>,\n",
       " <a href=\"http://steamcommunity.com/profiles/76561198092689293/\">BakeACake</a>,\n",
       " 'BakeACake',\n",
       " ' ',\n",
       " <div class=\"apphub_CardContentMoreLink ellipsis\">20 products in account</div>,\n",
       " '20 products in account',\n",
       " ' ',\n",
       " ' ',\n",
       " ' ',\n",
       " ' ',\n",
       " <div class=\"apphub_UserReviewCardStats\"> <div class=\"apphub_CardCommentCount alignNews\">30</div> </div>,\n",
       " ' ',\n",
       " <div class=\"apphub_CardCommentCount alignNews\">30</div>,\n",
       " '30',\n",
       " ' ',\n",
       " ' ',\n",
       " <div style=\"clear: left\"></div>,\n",
       " ' ',\n",
       " ' ']"
      ]
     },
     "execution_count": 24,
     "metadata": {},
     "output_type": "execute_result"
    }
   ],
   "source": [
    "list(review.descendants)"
   ]
  },
  {
   "cell_type": "code",
   "execution_count": 25,
   "metadata": {
    "collapsed": false
   },
   "outputs": [
    {
     "data": {
      "text/plain": [
       "\" ,,, ,,, ,,, 5,624 of 6,054 people (93%) found this review helpful 19 people found this review funny ,,, ,,, ,,, ,,, ,,, ,,, ,,,Recommended,,, ,,,156.2 hrs on record,,, ,,, ,,, ,,, ,,, ,,,Posted: February 13,,, If i had a dollar for each time someone screamed at me in another language, i'd still have no money because i spent it on skins ,,, ,,, ,,, ,,,\\xa0,,, ,,, ,,, ,,, ,,, ,,, ,,, ,,, ,,, ,,,BakeACake,,, ,,,20 products in account,,, ,,, ,,, ,,, ,,, ,,,30,,, ,,, ,,, ,,, \""
      ]
     },
     "execution_count": 25,
     "metadata": {},
     "output_type": "execute_result"
    }
   ],
   "source": [
    "review.getText(separator=\",,,\")"
   ]
  },
  {
   "cell_type": "code",
   "execution_count": 31,
   "metadata": {
    "collapsed": false
   },
   "outputs": [
    {
     "data": {
      "text/plain": [
       "['5,624 of 6,054 people (93%) found this review helpful 19 people found this review funny',\n",
       " 'Recommended',\n",
       " '156.2 hrs on record',\n",
       " 'Posted: February 13',\n",
       " \"If i had a dollar for each time someone screamed at me in another language, i'd still have no money because i spent it on skins\",\n",
       " 'BakeACake',\n",
       " '20 products in account',\n",
       " '30']"
      ]
     },
     "execution_count": 31,
     "metadata": {},
     "output_type": "execute_result"
    }
   ],
   "source": [
    "stripped_strings = list(review.stripped_strings)\n",
    "stripped_strings"
   ]
  },
  {
   "cell_type": "code",
   "execution_count": 42,
   "metadata": {
    "collapsed": false
   },
   "outputs": [],
   "source": [
    "# Given the stripped_strings attribute, the relevant information can be extracted\n",
    "# exceedingly easily\n",
    "helpful_funny = stripped_strings[0]\n",
    "recommended = stripped_strings[1]\n",
    "hours = re.sub(r',',\n",
    "               r'',\n",
    "               stripped_strings[2].split()[0])\n",
    "date_posted = stripped_strings[3][8:]\n",
    "review = stripped_strings[4]\n",
    "products_in_account = stripped_strings[6].split()[0]"
   ]
  },
  {
   "cell_type": "code",
   "execution_count": 43,
   "metadata": {
    "collapsed": false
   },
   "outputs": [
    {
     "data": {
      "text/plain": [
       "'Recommended'"
      ]
     },
     "execution_count": 43,
     "metadata": {},
     "output_type": "execute_result"
    }
   ],
   "source": [
    "recommended"
   ]
  },
  {
   "cell_type": "code",
   "execution_count": 50,
   "metadata": {
    "collapsed": false
   },
   "outputs": [
    {
     "name": "stdout",
     "output_type": "stream",
     "text": [
      "found helpful: 5624\n",
      "total people that could have found it helpful: 6054\n",
      "percentage of people who found the review helpful: 0.9289725801123224%\n",
      "found review funny: 19\n"
     ]
    }
   ],
   "source": [
    "helpful = helpful_funny.split()[:9]\n",
    "funny = helpful_funny.split()[9:]\n",
    "found_helpful = re.sub(r',',\n",
    "                       r'',\n",
    "                       helpful[0])\n",
    "total_helpful_candidates = re.sub(r',',\n",
    "                                  r'',\n",
    "                                  helpful[2])\n",
    "helpful_percentage = float(found_helpful)/float(total_helpful_candidates)\n",
    "print(\"found helpful: {}\\ntotal people that could have found it helpful: {}\"\n",
    "      \"\\npercentage of people who found the review helpful: \"\n",
    "      \"{}%\".format(found_helpful,\n",
    "                   total_helpful_candidates,\n",
    "                   helpful_percentage))\n",
    "\n",
    "found_funny = funny[0]\n",
    "print(\"found review funny: {}\".format(found_funny))"
   ]
  },
  {
   "cell_type": "code",
   "execution_count": 45,
   "metadata": {
    "collapsed": false
   },
   "outputs": [],
   "source": [
    "date_posted += ', 2015'"
   ]
  },
  {
   "cell_type": "code",
   "execution_count": 46,
   "metadata": {
    "collapsed": false
   },
   "outputs": [
    {
     "data": {
      "text/plain": [
       "'February 13, 2015'"
      ]
     },
     "execution_count": 46,
     "metadata": {},
     "output_type": "execute_result"
    }
   ],
   "source": [
    "date_posted"
   ]
  },
  {
   "cell_type": "code",
   "execution_count": 51,
   "metadata": {
    "collapsed": false
   },
   "outputs": [
    {
     "data": {
      "text/plain": [
       "'20'"
      ]
     },
     "execution_count": 51,
     "metadata": {},
     "output_type": "execute_result"
    }
   ],
   "source": [
    "products_in_account"
   ]
  },
  {
   "cell_type": "code",
   "execution_count": 60,
   "metadata": {
    "collapsed": false
   },
   "outputs": [
    {
     "data": {
      "text/plain": [
       "{'date_posted': 'February 13, 2015',\n",
       " 'found_funny': '19',\n",
       " 'found_helpful': '5624',\n",
       " 'found_helpful_percentage': 0.9289725801123224,\n",
       " 'hours': '156.2',\n",
       " 'products_in_account': '20',\n",
       " 'recommended': 'Recommended',\n",
       " 'review': <div class=\"apphub_Card interactable\" onclick=\"ShowModalContent( 'http://steamcommunity.com/profiles/76561198092689293/recommended/730/?insideModal=1', 'http://steamcommunity.com/profiles/76561198092689293/recommended/730/', 'http://steamcommunity.com/profiles/76561198092689293/recommended/730/',false );\" style=\"display: none\"> <div class=\"apphub_CardContentMain\"> <div class=\"apphub_UserReviewCardContent\"> <div class=\"found_helpful\"> 5,624 of 6,054 people (93%) found this review helpful 19 people found this review funny </div> <div class=\"vote_header\"> <div class=\"reviewInfo\"> <div class=\"thumb\"> <img height=\"44\" src=\"http://steamcommunity-a.akamaihd.net/public/shared/images/userreviews/icon_thumbsUp.png?v=1\" width=\"44\"/> </div> <div class=\"title\">Recommended</div> <div class=\"hours\">156.2 hrs on record</div> </div> <div style=\"clear: left\"></div> </div> <div class=\"apphub_CardTextContent\"> <div class=\"date_posted\">Posted: February 13</div> If i had a dollar for each time someone screamed at me in another language, i'd still have no money because i spent it on skins </div> </div> <div class=\"UserReviewCardContent_Footer\"> <div class=\"gradient\"> </div> </div> </div> <div class=\"apphub_CardContentAuthorBlock tall\"> <div class=\"apphub_friend_block_container\"> <a href=\"http://steamcommunity.com/profiles/76561198092689293/\"> <div class=\"apphub_friend_block\" data-miniprofile=\"132423565\"> <div class=\"appHubIconHolder offline\"><img src=\"http://cdn.akamai.steamstatic.com/steamcommunity/public/images/avatars/19/19a055c1c4c65c51eab9ba175051ef06fc3d1831.jpg\"/></div> <div class=\"appHubIconHolder greyOverlay\"></div> <div class=\"apphub_CardContentAuthorName offline ellipsis\"><a href=\"http://steamcommunity.com/profiles/76561198092689293/\">BakeACake</a></div> <div class=\"apphub_CardContentMoreLink ellipsis\">20 products in account</div> </div> </a> </div> <div class=\"apphub_UserReviewCardStats\"> <div class=\"apphub_CardCommentCount alignNews\">30</div> </div> <div style=\"clear: left\"></div> </div> </div>,\n",
       " 'review_url': 'http://steamcommunity.com/profiles/76561198092689293/recommended/730/?insideModal=1',\n",
       " 'total_found_helpful_candidates': '6054'}"
      ]
     },
     "execution_count": 60,
     "metadata": {},
     "output_type": "execute_result"
    }
   ],
   "source": [
    "# Let's define a dictionary with all of the stuff that's being collected\n",
    "review_dict = dict(review_url=link,\n",
    "                   recommended=recommended,\n",
    "                   hours=hours,\n",
    "                   date_posted=date_posted,\n",
    "                   review=review,\n",
    "                   products_in_account=products_in_account,\n",
    "                   found_helpful=found_helpful,\n",
    "                   total_found_helpful_candidates=total_helpful_candidates,\n",
    "                   found_helpful_percentage=helpful_percentage,\n",
    "                   found_funny=found_funny)\n",
    "review_dict"
   ]
  },
  {
   "cell_type": "code",
   "execution_count": 62,
   "metadata": {
    "collapsed": false
   },
   "outputs": [
    {
     "data": {
      "text/plain": [
       "{'date_posted': 'February 13, 2015',\n",
       " 'found_funny': '19',\n",
       " 'found_helpful': '5624',\n",
       " 'found_helpful_percentage': 0.9289725801123224,\n",
       " 'hours': '156.2',\n",
       " 'products_in_account': '20',\n",
       " 'profile_url': 'http://steamcommunity.com/profiles/76561198092689293',\n",
       " 'recommended': 'Recommended',\n",
       " 'review': <div class=\"apphub_Card interactable\" onclick=\"ShowModalContent( 'http://steamcommunity.com/profiles/76561198092689293/recommended/730/?insideModal=1', 'http://steamcommunity.com/profiles/76561198092689293/recommended/730/', 'http://steamcommunity.com/profiles/76561198092689293/recommended/730/',false );\" style=\"display: none\"> <div class=\"apphub_CardContentMain\"> <div class=\"apphub_UserReviewCardContent\"> <div class=\"found_helpful\"> 5,624 of 6,054 people (93%) found this review helpful 19 people found this review funny </div> <div class=\"vote_header\"> <div class=\"reviewInfo\"> <div class=\"thumb\"> <img height=\"44\" src=\"http://steamcommunity-a.akamaihd.net/public/shared/images/userreviews/icon_thumbsUp.png?v=1\" width=\"44\"/> </div> <div class=\"title\">Recommended</div> <div class=\"hours\">156.2 hrs on record</div> </div> <div style=\"clear: left\"></div> </div> <div class=\"apphub_CardTextContent\"> <div class=\"date_posted\">Posted: February 13</div> If i had a dollar for each time someone screamed at me in another language, i'd still have no money because i spent it on skins </div> </div> <div class=\"UserReviewCardContent_Footer\"> <div class=\"gradient\"> </div> </div> </div> <div class=\"apphub_CardContentAuthorBlock tall\"> <div class=\"apphub_friend_block_container\"> <a href=\"http://steamcommunity.com/profiles/76561198092689293/\"> <div class=\"apphub_friend_block\" data-miniprofile=\"132423565\"> <div class=\"appHubIconHolder offline\"><img src=\"http://cdn.akamai.steamstatic.com/steamcommunity/public/images/avatars/19/19a055c1c4c65c51eab9ba175051ef06fc3d1831.jpg\"/></div> <div class=\"appHubIconHolder greyOverlay\"></div> <div class=\"apphub_CardContentAuthorName offline ellipsis\"><a href=\"http://steamcommunity.com/profiles/76561198092689293/\">BakeACake</a></div> <div class=\"apphub_CardContentMoreLink ellipsis\">20 products in account</div> </div> </a> </div> <div class=\"apphub_UserReviewCardStats\"> <div class=\"apphub_CardCommentCount alignNews\">30</div> </div> <div style=\"clear: left\"></div> </div> </div>,\n",
       " 'review_url': 'http://steamcommunity.com/profiles/76561198092689293/recommended/730/?insideModal=1',\n",
       " 'steam_id_number': '76561198092689293',\n",
       " 'total_found_helpful_candidates': '6054'}"
      ]
     },
     "execution_count": 62,
     "metadata": {},
     "output_type": "execute_result"
    }
   ],
   "source": [
    "# Now, let's go to the review link and the profile link and collect other info\n",
    "review_dict['steam_id_number'] = review_dict['review_url'].split('/')[4]\n",
    "review_dict['profile_url'] = 'http://steamcommunity.com/profiles/{}'.format(review_dict['steam_id_number'])\n",
    "review_dict\n",
    "# Note the profule url actually cannot be constructed in this way all the time:\n",
    "# sometimes a shortened form of the user-name is used in place of the ID number\n",
    "# AND instead of the word \"profiles\" \"id\" is used in the URL. Due to this, it is\n",
    "# probably a better idea to get the profile URL directly from the link that is\n",
    "# provided rather than try to construct it."
   ]
  },
  {
   "cell_type": "code",
   "execution_count": 63,
   "metadata": {
    "collapsed": true
   },
   "outputs": [],
   "source": [
    "review_page = requests.get(review_dict['review_url'])\n",
    "profile_page = requests.get(review_dict['profile_url'])\n",
    "review_page_html = review_page.text\n",
    "profile_page_html = profile_page.text\n",
    "# Preprocess HTML\n",
    "review_page_html = re.sub(r'\\<br\\>',\n",
    "                          r' ',\n",
    "                          review_page_html)\n",
    "review_page_html = re.sub(r'[\\n\\t\\r ]+',\n",
    "                          r' ',\n",
    "                          review_page_html)\n",
    "review_page_html = review_page_html.strip()\n",
    "profile_page_html = re.sub(r'\\<br\\>',\n",
    "                           r' ',\n",
    "                           profile_page_html)\n",
    "profile_page_html = re.sub(r'[\\n\\t\\r ]+',\n",
    "                           r' ',\n",
    "                           profile_page_html)\n",
    "profile_page_html = profile_page_html.strip()"
   ]
  },
  {
   "cell_type": "code",
   "execution_count": 64,
   "metadata": {
    "collapsed": true
   },
   "outputs": [],
   "source": [
    "# Now use BeautifulSoup to parse the HTML\n",
    "review_soup = BeautifulSoup(review_page_html, \"lxml\")\n",
    "profile_soup = BeautifulSoup(profile_page_html, \"lxml\")"
   ]
  },
  {
   "cell_type": "code",
   "execution_count": 65,
   "metadata": {
    "collapsed": false
   },
   "outputs": [
    {
     "data": {
      "text/plain": [
       "['html',\n",
       " <html> <head> <title>Steam Community :: BakeACake :: Review for Counter-Strike: Global Offensive</title> <link href=\"http://steamcommunity-a.akamaihd.net/public/shared/css/motiva_sans.css?v=F3z3QpekjE2f\" rel=\"stylesheet\" type=\"text/css\"/> <link href=\"http://steamcommunity-a.akamaihd.net/public/shared/css/buttons.css?v=4iAytERcUqWU\" rel=\"stylesheet\" type=\"text/css\"/> <link href=\"http://steamcommunity-a.akamaihd.net/public/shared/css/shared_global.css?v=57x2Z4EBPbIl\" rel=\"stylesheet\" type=\"text/css\"/> <link href=\"http://steamcommunity-a.akamaihd.net/public/css/globalv2.css?v=yWZ8QbCWv1se\" rel=\"stylesheet\" type=\"text/css\"/> <link href=\"http://steamcommunity-a.akamaihd.net/public/shared/css/motiva_sans.css?v=F3z3QpekjE2f\" rel=\"stylesheet\" type=\"text/css\"/> <link href=\"http://steamcommunity-a.akamaihd.net/public/css/skin_1/workshop.css?v=KMIaI6YCOfoc\" rel=\"stylesheet\" type=\"text/css\"/> <link href=\"http://steamcommunity-a.akamaihd.net/public/css/skin_1/workshop_itemdetails.css?v=M2I0SXGDMTJN\" rel=\"stylesheet\" type=\"text/css\"/> <link href=\"http://steamcommunity-a.akamaihd.net/public/css/skin_1/profilev2.css?v=UXYDHh-px6JD\" rel=\"stylesheet\" type=\"text/css\"/> <link href=\"http://steamcommunity-a.akamaihd.net/public/css/skin_1/profile.css?v=HzWi1wRdbzmi\" rel=\"stylesheet\" type=\"text/css\"/> <link href=\"http://steamcommunity-a.akamaihd.net/public/css/skin_1/profile_games_list.css?v=-iL9RNpO2RRp\" rel=\"stylesheet\" type=\"text/css\"/> <link href=\"http://steamcommunity-a.akamaihd.net/public/css/skin_1/profile_recommended.css?v=M83wjbjA_DWz\" rel=\"stylesheet\" type=\"text/css\"/> <link href=\"http://steamcommunity-a.akamaihd.net/public/shared/css/user_reviews.css?v=82-uwjaMKs_C\" rel=\"stylesheet\" type=\"text/css\"/> <link href=\"http://steamcommunity-a.akamaihd.net/public/css/skin_1/modalContent.css?v=.3ZY4VGdKrzFz\" rel=\"stylesheet\" type=\"text/css\"/> <link href=\"http://steamcommunity-a.akamaihd.net/public/css/skin_1/header.css?v=quvm2wU5yG0p\" rel=\"stylesheet\" type=\"text/css\"/> <script src=\"http://steamcommunity-a.akamaihd.net/public/javascript/prototype-1.7.js?v=.55t44gwuwgvw\" type=\"text/javascript\"></script> <script src=\"http://steamcommunity-a.akamaihd.net/public/javascript/scriptaculous/_combined.js?v=9XVsa_Ni33oN&amp;l=english&amp;load=effects,controls,slider,dragdrop\" type=\"text/javascript\"></script> <script src=\"http://steamcommunity-a.akamaihd.net/public/javascript/global.js?v=hCxPThA3-aeH&amp;l=english\" type=\"text/javascript\"></script> <script src=\"http://steamcommunity-a.akamaihd.net/public/javascript/jquery-1.11.1.min.js?v=.isFTSRckeNhC\" type=\"text/javascript\"></script> <script src=\"http://steamcommunity-a.akamaihd.net/public/shared/javascript/tooltip.js?v=.4KS5V2wEvZEQ\" type=\"text/javascript\"></script> <script src=\"http://steamcommunity-a.akamaihd.net/public/shared/javascript/shared_global.js?v=h9xfNXkZb37d&amp;l=english\" type=\"text/javascript\"></script> <script type=\"text/javascript\">$J = jQuery.noConflict(); if ( typeof JSON != 'object' || !JSON.stringify || !JSON.parse ) { document.write( \"<scr\" + \"ipt type=\\\"text\\/javascript\\\" src=\\\"http:\\/\\/steamcommunity-a.akamaihd.net\\/public\\/javascript\\/json2.js?v=pmScf4470EZP&amp;l=english\\\"><\\/script>\\n\" ); }; </script><script src=\"http://steamcommunity-a.akamaihd.net/public/shared/javascript/user_reviews.js?v=wElGfRd1klp0&amp;l=english\" type=\"text/javascript\"></script> <script src=\"http://steamcommunity-a.akamaihd.net/public/javascript/user_reviews_community.js?v=BPCSAZJ-8wZc&amp;l=english\" type=\"text/javascript\"></script> <script src=\"http://steamcommunity-a.akamaihd.net/public/shared/javascript/dselect.js?v=OP1OqNQ9PW4e&amp;l=english\" type=\"text/javascript\"></script> <script src=\"http://steamcommunity-a.akamaihd.net/public/javascript/modalv2.js?v=HsicoS9FYYTz&amp;l=english\" type=\"text/javascript\"></script> <script src=\"http://steamcommunity-a.akamaihd.net/public/javascript/modalContent.js?v=XZKI05CNhf-y&amp;l=english\" type=\"text/javascript\"></script> <script type=\"text/javascript\"> var _gaq = _gaq || []; _gaq.push(['_setAccount', 'UA-33779068-1']); _gaq.push(['_setSampleRate', '0.4']); _gaq.push(['_setCustomVar', 1, 'Logged In', 'false', 2]); _gaq.push(['_setCustomVar', 2, 'Client Type', 'External', 2]); _gaq.push(['_setCustomVar', 3, 'Cntrlr', 'profiles', 3]); _gaq.push(['_setCustomVar', 4, 'Method', \"profiles\\/recommended\", 3]); _gaq.push(['_trackPageview']); _gaq.push(['_setSessionCookieTimeout', 900000]); (function() { var ga = document.createElement('script'); ga.type = 'text/javascript'; ga.async = true; ga.src = ('https:' == document.location.protocol ? 'https://ssl' : 'http://www') + '.google-analytics.com/ga.js'; var s = document.getElementsByTagName('script')[0]; s.parentNode.insertBefore(ga, s); })(); </script> </head> <script> function ReportReview() { UserReview_Report( '14446233', 'http://steamcommunity.com', function( results ) { top.location.reload(); }); } </script> <body class=\"flat_page migrated_profile_page\"> <!-- header bar, contains info browsing user if logged in --> <div id=\"global_header\"> <div class=\"content\"> <div class=\"logo\"> <span id=\"logo_holder\"> <a href=\"http://store.steampowered.com/\"> <img alt=\"Steam Logo\" border=\"0\" height=\"44\" src=\"http://steamcommunity-a.akamaihd.net/public/images/header/globalheader_logo.png\" width=\"176\"/> </a> </span> <!--[if lt IE 7]> <style type=\"text/css\"> #logo_holder img { filter:progid:DXImageTransform.Microsoft.Alpha(opacity=0); } #logo_holder { display: inline-block; width: 176px; height: 44px; filter:progid:DXImageTransform.Microsoft.AlphaImageLoader(src='http://steamcommunity-a.akamaihd.net/public/images/header/globalheader_logo.png'); } </style> <![endif]--> </div> <div id=\"supernav\" style=\"position: absolute; left: 200px;\"> <a class=\"menuitem supernav\" data-tooltip-content=' &lt;a class=\"submenuitem\" href=\"http://store.steampowered.com/\"&gt;Featured&lt;/a&gt; &lt;a class=\"submenuitem\" href=\"http://store.steampowered.com/explore/\"&gt;Explore&lt;/a&gt; &lt;a class=\"submenuitem\" href=\"http://store.steampowered.com/curators/\"&gt;Curators&lt;/a&gt; &lt;a class=\"submenuitem\" href=\"http://steamcommunity.com/my/wishlist/\"&gt;Wishlist&lt;/a&gt; &lt;a class=\"submenuitem\" href=\"http://store.steampowered.com/news/\"&gt;News&lt;/a&gt; &lt;a class=\"submenuitem\" href=\"http://store.steampowered.com/stats/\"&gt;STATS&lt;/a&gt; ' href=\"http://store.steampowered.com/\"> STORE </a> <a class=\"menuitem supernav\" data-tooltip-content=' &lt;a class=\"submenuitem\" href=\"http://steamcommunity.com/\"&gt;Home&lt;/a&gt; &lt;a class=\"submenuitem\" href=\"http://steamcommunity.com/discussions/\"&gt;DISCUSSIONS&lt;/a&gt; &lt;a class=\"submenuitem\" href=\"http://steamcommunity.com/workshop/\"&gt;Workshop&lt;/a&gt; &lt;a class=\"submenuitem\" href=\"http://steamcommunity.com/greenlight/\"&gt;Greenlight&lt;/a&gt; &lt;a class=\"submenuitem\" href=\"http://steamcommunity.com/market/\"&gt;Market&lt;/a&gt; &lt;a class=\"submenuitem\" href=\"http://steamcommunity.com/?subsection=broadcasts\"&gt;Broadcasts&lt;/a&gt; ' href=\"http://steamcommunity.com/\" style=\"display: block\"> COMMUNITY </a> <a class=\"menuitem\" href=\"http://store.steampowered.com/about/\"> ABOUT </a> <a class=\"menuitem\" href=\"https://help.steampowered.com/\"> SUPPORT </a> </div> <script type=\"text/javascript\"> jQuery(document).ready(function($) { $('.tooltip').v_tooltip(); $('.supernav').v_tooltip({'location':'bottom', 'tooltipClass': 'supernav_content', 'offsetY':-4, 'offsetX': 1, 'horizontalSnap': 4, 'tooltipParent': '#supernav', 'correctForScreenSize': false}); }); </script> <div id=\"global_actions\"> <div id=\"global_action_menu\"> <div class=\"header_installsteam_btn header_installsteam_btn_green\"> <div class=\"header_installsteam_btn_leftcap\"></div> <div class=\"header_installsteam_btn_rightcap\"></div> <a class=\"header_installsteam_btn_content\" href=\"http://store.steampowered.com/about/\"> Install Steam </a> </div> <a class=\"global_action_link\" href=\"https://steamcommunity.com/login/home/?goto=profiles%2F76561198092689293%2Frecommended%2F730%2F%3FinsideModal%3D1\">Login</a>  |  <span class=\"pulldown global_action_link\" id=\"language_pulldown\" onclick=\"ShowMenu( this, 'language_dropdown', 'right' );\">language</span> <div class=\"popup_block\" id=\"language_dropdown\" style=\"display: none;\"> <div class=\"shadow_ul\"></div><div class=\"shadow_top\"></div><div class=\"shadow_ur\"></div><div class=\"shadow_left\"></div><div class=\"shadow_right\"></div><div class=\"shadow_bl\"></div><div class=\"shadow_bottom\"></div><div class=\"shadow_br\"></div> <div class=\"popup_body popup_menu shadow_content\"> <a class=\"popup_menu_item tight\" href=\"?l=bulgarian&amp;insideModal=1\" onclick=\"ChangeLanguage( 'bulgarian' ); return false;\">Български (Bulgarian)</a> <a class=\"popup_menu_item tight\" href=\"?l=czech&amp;insideModal=1\" onclick=\"ChangeLanguage( 'czech' ); return false;\">čeština (Czech)</a> <a class=\"popup_menu_item tight\" href=\"?l=danish&amp;insideModal=1\" onclick=\"ChangeLanguage( 'danish' ); return false;\">Dansk (Danish)</a> <a class=\"popup_menu_item tight\" href=\"?l=dutch&amp;insideModal=1\" onclick=\"ChangeLanguage( 'dutch' ); return false;\">Nederlands (Dutch)</a> <a class=\"popup_menu_item tight\" href=\"?l=finnish&amp;insideModal=1\" onclick=\"ChangeLanguage( 'finnish' ); return false;\">Suomi (Finnish)</a> <a class=\"popup_menu_item tight\" href=\"?l=french&amp;insideModal=1\" onclick=\"ChangeLanguage( 'french' ); return false;\">Français (French)</a> <a class=\"popup_menu_item tight\" href=\"?l=german&amp;insideModal=1\" onclick=\"ChangeLanguage( 'german' ); return false;\">Deutsch (German)</a> <a class=\"popup_menu_item tight\" href=\"?l=greek&amp;insideModal=1\" onclick=\"ChangeLanguage( 'greek' ); return false;\">Ελληνικά (Greek)</a> <a class=\"popup_menu_item tight\" href=\"?l=hungarian&amp;insideModal=1\" onclick=\"ChangeLanguage( 'hungarian' ); return false;\">Magyar (Hungarian)</a> <a class=\"popup_menu_item tight\" href=\"?l=italian&amp;insideModal=1\" onclick=\"ChangeLanguage( 'italian' ); return false;\">Italiano (Italian)</a> <a class=\"popup_menu_item tight\" href=\"?l=japanese&amp;insideModal=1\" onclick=\"ChangeLanguage( 'japanese' ); return false;\">日本語 (Japanese)</a> <a class=\"popup_menu_item tight\" href=\"?l=koreana&amp;insideModal=1\" onclick=\"ChangeLanguage( 'koreana' ); return false;\">한국어 (Korean)</a> <a class=\"popup_menu_item tight\" href=\"?l=norwegian&amp;insideModal=1\" onclick=\"ChangeLanguage( 'norwegian' ); return false;\">Norsk (Norwegian)</a> <a class=\"popup_menu_item tight\" href=\"?l=polish&amp;insideModal=1\" onclick=\"ChangeLanguage( 'polish' ); return false;\">Polski (Polish)</a> <a class=\"popup_menu_item tight\" href=\"?l=portuguese&amp;insideModal=1\" onclick=\"ChangeLanguage( 'portuguese' ); return false;\">Português (Portuguese)</a> <a class=\"popup_menu_item tight\" href=\"?l=brazilian&amp;insideModal=1\" onclick=\"ChangeLanguage( 'brazilian' ); return false;\">Português-Brasil (Portuguese-Brazil)</a> <a class=\"popup_menu_item tight\" href=\"?l=romanian&amp;insideModal=1\" onclick=\"ChangeLanguage( 'romanian' ); return false;\">Română (Romanian)</a> <a class=\"popup_menu_item tight\" href=\"?l=russian&amp;insideModal=1\" onclick=\"ChangeLanguage( 'russian' ); return false;\">Русский (Russian)</a> <a class=\"popup_menu_item tight\" href=\"?l=schinese&amp;insideModal=1\" onclick=\"ChangeLanguage( 'schinese' ); return false;\">简体中文 (Simplified Chinese)</a> <a class=\"popup_menu_item tight\" href=\"?l=spanish&amp;insideModal=1\" onclick=\"ChangeLanguage( 'spanish' ); return false;\">Español (Spanish)</a> <a class=\"popup_menu_item tight\" href=\"?l=swedish&amp;insideModal=1\" onclick=\"ChangeLanguage( 'swedish' ); return false;\">Svenska (Swedish)</a> <a class=\"popup_menu_item tight\" href=\"?l=tchinese&amp;insideModal=1\" onclick=\"ChangeLanguage( 'tchinese' ); return false;\">繁體中文 (Traditional Chinese)</a> <a class=\"popup_menu_item tight\" href=\"?l=thai&amp;insideModal=1\" onclick=\"ChangeLanguage( 'thai' ); return false;\">ไทย (Thai)</a> <a class=\"popup_menu_item tight\" href=\"?l=turkish&amp;insideModal=1\" onclick=\"ChangeLanguage( 'turkish' ); return false;\">Türkçe (Turkish)</a> <a class=\"popup_menu_item tight\" href=\"?l=ukrainian&amp;insideModal=1\" onclick=\"ChangeLanguage( 'ukrainian' ); return false;\">Українська (Ukrainian)</a> <a class=\"popup_menu_item tight\" href=\"http://translation.steampowered.com\" target=\"_blank\">Help us translate Steam</a> </div> </div> </div> </div> </div> </div> <div id=\"modalBG\" style=\"display: none\"></div><script type=\"text/javascript\"> g_sessionID = \"44f04b3225b54f360fc511a6\"; g_steamID = false; $J( function() { InitMiniprofileHovers(); InitEmoticonHovers(); window.BindCommunityTooltip = function( $Selector ) { $Selector.v_tooltip( {'tooltipClass': 'community_tooltip', 'dataName': 'communityTooltip' } ); }; BindCommunityTooltip( $J('[data-community-tooltip]') ); }); $J( function() { InitEconomyHovers( \"http:\\/\\/steamcommunity-a.akamaihd.net\\/public\\/css\\/skin_1\\/economy.css?v=KhJxplnpbd14\", \"http:\\/\\/steamcommunity-a.akamaihd.net\\/public\\/javascript\\/economy_common.js?v=1LohOdoSLPYI&l=english\", \"http:\\/\\/steamcommunity-a.akamaihd.net\\/public\\/javascript\\/economy.js?v=9q2_OcH3X1DF&l=english\" );});</script><!-- /header bar --> <div class=\"pagecontent no_header profile_subpage_column\"> <div class=\"profile_small_header_bg\"> <div class=\"profile_small_header_texture\"> <a href=\"http://steamcommunity.com/profiles/76561198092689293\"> <div class=\"profile_small_header_avatar\"> <div class=\"playerAvatar medium offline\"> <img src=\"http://cdn.akamai.steamstatic.com/steamcommunity/public/images/avatars/19/19a055c1c4c65c51eab9ba175051ef06fc3d1831_medium.jpg\"/> </div> </div> </a> <div class=\"profile_small_header_text\"> <span class=\"profile_small_header_name\"><a class=\"whiteLink\" href=\"http://steamcommunity.com/profiles/76561198092689293\">BakeACake</a></span> <span class=\"profile_small_header_arrow\">»</span> <a class=\"whiteLink\" href=\"http://steamcommunity.com/profiles/76561198092689293/recommended/\"><span class=\"profile_small_header_location\">Reviews</span></a> <span class=\"profile_small_header_arrow\">»</span> <a class=\"whiteLink\" href=\"http://steamcommunity.com/profiles/76561198092689293/recommended/730\"><span class=\"profile_small_header_location\">Counter-Strike: Global Offensive</span></a> </div> </div> </div> <!-- main body --> <div class=\"maincontent\" id=\"BG_bottom\"> <div class=\"bluefade\"> <div id=\"mainContents\"> <div id=\"rightContents\"> <div class=\"review_app_actions\"> <div class=\"gameLogoHolder_default\"> <a href=\"http://steamcommunity.com/app/730\"> <img src=\"http://cdn.akamai.steamstatic.com/steam/apps/730/header.jpg?t=1432930508\"/> </a> </div> <a class=\"general_btn panel_btn\" href=\"http://store.steampowered.com/app/730\"><img class=\"toolsIcon\" src=\"http://steamcommunity-a.akamaihd.net/public/images//sharedfiles/icons/icon_store.png\"/>View Store Page</a> <a class=\"general_btn panel_btn\" href=\"http://steamcommunity.com/app/730\"><img class=\"toolsIcon\" src=\"http://steamcommunity-a.akamaihd.net/public/images//sharedfiles/icons/icon_community.png\"/>View Community Hub</a> <a class=\"general_btn panel_btn\" href=\"http://store.steampowered.com/recommended/morelike/app/730\"><img class=\"toolsIcon\" src=\"http://steamcommunity-a.akamaihd.net/public/images//sharedfiles/icons/icon_search.png\"/>Find More Like This</a> </div> </div> <div id=\"leftContents\"> <div class=\"ratingBar\"> 5,625 of 6,055 people (93%) found this review helpful 22 people found this review funny </div> <div class=\"ratingSummaryBlock\" id=\"ReviewTitle\"> <img align=\"left\" src=\"http://steamcommunity-a.akamaihd.net/public/shared/images/userreviews/icon_thumbsUp.png?v=1\"/> <div class=\"ratingSummary\">Recommended</div> <div class=\"playTime\">29.4 hrs last two weeks / 156.2 hrs on record</div> <div class=\"recommendation_date\"> Posted: Feb 13 @ 5:03am </div> </div> <br clear=\"all\"/> <div class=\"review_area\"> <div class=\"review_area_content\"> <div id=\"ReviewText\">If i had a dollar for each time someone screamed at me in another language, i'd still have no money because i spent it on skins </div> <div id=\"ReviewEdit\" style=\"display: none\"> <textarea class=\"review_edit_text_area\" cols=\"80\" id=\"ReviewEditTextArea\" maxlength=\"8000\" rows=\"2\">If i had a dollar for each time someone screamed at me in another language, i'd still have no money because i spent it on skins </textarea> <div style=\"float: left\"> Do you recommend this game? <span class=\"btn_grey_grey btn_small_thin ico_hover active\" id=\"OwnerVoteUpBtn\" onclick=\"SetOwnerRatingPositive();\"> <span><i class=\"ico16 thumb_up\"></i> Yes</span> </span> <span class=\"btn_grey_grey btn_small_thin ico_hover \" id=\"OwnerVoteDownBtn\" onclick=\"SetOwnerRatingNegative();\"> <span><i class=\"ico16 thumb_down\"></i>No</span> </span> </div> <div style=\"float: right\"> <span class=\"btn_small_thin btn_grey_white_innerfade\" id=\"CancelEditsBtn\" onclick=\"CancelEdits();\"> <span>Cancel</span> </span> <span class=\"btn_small_thin btn_blue_white_innerfade\" id=\"SaveReviewBtn\" onclick=\"SaveReview();\"> <span>Save Changes</span> </span> </div> <div style=\"clear: both\"></div> </div> </div> <div class=\"review_rate_bar\"> Was this review helpful? <span class=\"btn_grey_grey btn_small_thin ico_hover \" id=\"RecommendationVoteUpBtn14446233\" onclick=\"UserReviewVoteUp( '14446233' );\"> <span><i class=\"ico16 thumb_up\"></i>Yes</span> </span> <span class=\"btn_grey_grey btn_small_thin ico_hover \" id=\"RecommendationVoteDownBtn14446233\" onclick=\"UserReviewVoteDown( '14446233' );\"> <span><i class=\"ico16 thumb_down\"></i>No</span> </span> <span class=\"btn_grey_grey btn_small_thin ico_hover \" id=\"RecommendationVoteTagBtn14446233_1\" onclick=\"UserReviewVoteTag( '14446233', 1, 'RecommendationVoteTagBtn14446233_1' );\"> <span><i class=\"ico16 funny\"></i>Funny</span> </span> <span class=\"btn_grey_grey btn_small_thin tooltip\" data-tooltip-content=\"Report this review for violating the Steam Terms of Service or Online Conduct Rules.\" id=\"ReportBtn\" onclick=\"return ReportReview()\"></span> </div> </div> <div id=\"comments\"> <script type=\"text/javascript\"> $J( function() { InitializeCommentThread( \"Recommendation\", \"Recommendation_76561198092689293_730_0\", {\"feature\":\"730\",\"feature2\":0,\"owner\":\"76561198092689293\",\"total_count\":30,\"start\":0,\"pagesize\":10,\"has_upvoted\":0,\"upvotes\":0,\"votecountid\":null,\"voteupid\":null,\"commentcountid\":null,\"subscribed\":false}, 'http://steamcommunity.com/comment/Recommendation/', 40 ); } ); </script> <div class=\"commentthread_area\" id=\"commentthread_Recommendation_76561198092689293_730_0_area\"> <div class=\"commentthread_header\"> <div class=\"commentthread_count\"> <span id=\"commentthread_Recommendation_76561198092689293_730_0_totalcount\">30</span> Comments </div> <div class=\"commentthread_paging\" id=\"commentthread_Recommendation_76561198092689293_730_0_pagecontrols\"> <span class=\"pagebtn\" id=\"commentthread_Recommendation_76561198092689293_730_0_pagebtn_prev\">&lt;</span> <span id=\"commentthread_Recommendation_76561198092689293_730_0_pagelinks\"></span> <span class=\"pagebtn\" id=\"commentthread_Recommendation_76561198092689293_730_0_pagebtn_next\">&gt;</span> </div> <div style=\"clear: both;\"></div> </div> <!-- 21 --> <div class=\"commentthread_comment_container\" id=\"commentthread_Recommendation_76561198092689293_730_0_postcontainer\"> <div class=\"commentthread_comments\" id=\"commentthread_Recommendation_76561198092689293_730_0_posts\"> <div class=\"commentthread_comment \" id=\"comment_530645446323062900\" style=\"\"> <div class=\"commentthread_comment_avatar playerAvatar offline\"> <a href=\"http://steamcommunity.com/profiles/76561198108092449\"> <img data-miniprofile=\"147826721\" src=\"http://cdn.akamai.steamstatic.com/steamcommunity/public/images/avatars/cf/cfcae4148e3d2afc5f94096b915ae7cc2d7675ce.jpg\"/> </a> </div> <div class=\"commentthread_comment_content\"> <div class=\"commentthread_comment_author\"> <a class=\"hoverunderline commentthread_author_link\" data-miniprofile=\"147826721\" href=\"http://steamcommunity.com/profiles/76561198108092449\"> <bdi>Wetraz O_o</bdi></a> <span class=\"commentthread_comment_timestamp\"> Jun 28 @ 7:35am  </span> </div> <div class=\"commentthread_comment_text\" id=\"comment_content_530645446323062900\"> american people very very stupid </div> </div> </div> <div class=\"commentthread_comment \" id=\"comment_530645446321693876\" style=\"\"> <div class=\"commentthread_comment_avatar playerAvatar offline\"> <a href=\"http://steamcommunity.com/profiles/76561198065591704\"> <img data-miniprofile=\"105325976\" src=\"http://cdn.akamai.steamstatic.com/steamcommunity/public/images/avatars/f7/f7cbbb14f6b7cb38a3c59c9e88acd18bf22b8624.jpg\"/> </a> </div> <div class=\"commentthread_comment_content\"> <div class=\"commentthread_comment_author\"> <a class=\"hoverunderline commentthread_author_link\" data-miniprofile=\"105325976\" href=\"http://steamcommunity.com/profiles/76561198065591704\"> <bdi>小飞（辉）</bdi></a> <span class=\"commentthread_comment_timestamp\"> Jun 27 @ 11:06pm  </span> </div> <div class=\"commentthread_comment_text\" id=\"comment_content_530645446321693876\"> when to do the promotion again?? </div> </div> </div> <div class=\"commentthread_comment \" id=\"comment_530645446315104070\" style=\"\"> <div class=\"commentthread_comment_avatar playerAvatar offline\"> <a href=\"http://steamcommunity.com/profiles/76561198047418997\"> <img data-miniprofile=\"87153269\" src=\"http://cdn.akamai.steamstatic.com/steamcommunity/public/images/avatars/48/4872d3f3cbb06d2dde5362040e9bb3be1c029938.jpg\"/> </a> </div> <div class=\"commentthread_comment_content\"> <div class=\"commentthread_comment_author\"> <a class=\"hoverunderline commentthread_author_link\" data-miniprofile=\"87153269\" href=\"http://steamcommunity.com/profiles/76561198047418997\"> <bdi>NamiKaze</bdi></a> <span class=\"commentthread_comment_timestamp\"> Jun 26 @ 6:33am  </span> </div> <div class=\"commentthread_comment_text\" id=\"comment_content_530645446315104070\"> Are you russian? because i would be rich \"If i had a dollar for each time someone screamed at me in another language, \" </div> </div> </div> <div class=\"commentthread_comment \" id=\"comment_530645446313776390\" style=\"\"> <div class=\"commentthread_comment_avatar playerAvatar offline\"> <a href=\"http://steamcommunity.com/profiles/76561198099391684\"> <img data-miniprofile=\"139125956\" src=\"http://cdn.akamai.steamstatic.com/steamcommunity/public/images/avatars/35/35d4f05bdbd0048fc14099493264fe6519097cff.jpg\"/> </a> </div> <div class=\"commentthread_comment_content\"> <div class=\"commentthread_comment_author\"> <a class=\"hoverunderline commentthread_author_link\" data-miniprofile=\"139125956\" href=\"http://steamcommunity.com/profiles/76561198099391684\"> <bdi>&lt;i&gt;&lt;u&gt; No MercY ♥</bdi></a> <span class=\"commentthread_comment_timestamp\"> Jun 25 @ 10:16pm  </span> </div> <div class=\"commentthread_comment_text\" id=\"comment_content_530645446313776390\"> I Dont Have Money ;C Can U Gift Me Some Item In Dota2 Tthnks... </div> </div> </div> <div class=\"commentthread_comment \" id=\"comment_530645446312172795\" style=\"\"> <div class=\"commentthread_comment_avatar playerAvatar offline\"> <a href=\"http://steamcommunity.com/profiles/76561198179533026\"> <img data-miniprofile=\"219267298\" src=\"http://cdn.akamai.steamstatic.com/steamcommunity/public/images/avatars/29/29cf136b5ca5b376c909d335404f07bfa280b549.jpg\"/> </a> </div> <div class=\"commentthread_comment_content\"> <div class=\"commentthread_comment_author\"> <a class=\"hoverunderline commentthread_author_link\" data-miniprofile=\"219267298\" href=\"http://steamcommunity.com/profiles/76561198179533026\"> <bdi>ThatPCGamer</bdi></a> <span class=\"commentthread_comment_timestamp\"> Jun 25 @ 12:20pm  </span> </div> <div class=\"commentthread_comment_text\" id=\"comment_content_530645446312172795\"> Russians russians everywhere! XD </div> </div> </div> <div class=\"commentthread_comment \" id=\"comment_530645446311990206\" style=\"\"> <div class=\"commentthread_comment_avatar playerAvatar offline\"> <a href=\"http://steamcommunity.com/id/NoXoNikS\"> <img data-miniprofile=\"122545350\" src=\"http://cdn.akamai.steamstatic.com/steamcommunity/public/images/avatars/07/07078ba40111ea502f05444cdb2a430f0453e2dc.jpg\"/> </a> </div> <div class=\"commentthread_comment_content\"> <div class=\"commentthread_comment_author\"> <a class=\"hoverunderline commentthread_author_link\" data-miniprofile=\"122545350\" href=\"http://steamcommunity.com/id/NoXoNikS\"> <bdi>[TF2IRG] NoXoNikS |R♣H|</bdi></a> <span class=\"commentthread_comment_timestamp\"> Jun 25 @ 11:15am  </span> </div> <div class=\"commentthread_comment_text\" id=\"comment_content_530645446311990206\"> don8 kids in africa Do not buy a pointless weapon </div> </div> </div> <div class=\"commentthread_comment \" id=\"comment_530645446310684185\" style=\"\"> <div class=\"commentthread_comment_avatar playerAvatar offline\"> <a href=\"http://steamcommunity.com/profiles/76561198170308406\"> <img data-miniprofile=\"210042678\" src=\"http://cdn.akamai.steamstatic.com/steamcommunity/public/images/avatars/28/28ea8a36f577c578bf9e7d83b21d3ad8324d7009.jpg\"/> </a> </div> <div class=\"commentthread_comment_content\"> <div class=\"commentthread_comment_author\"> <a class=\"hoverunderline commentthread_author_link\" data-miniprofile=\"210042678\" href=\"http://steamcommunity.com/profiles/76561198170308406\"> <bdi>Rod Gergours &lt;3</bdi></a> <span class=\"commentthread_comment_timestamp\"> Jun 25 @ 3:20am  </span> </div> <div class=\"commentthread_comment_text\" id=\"comment_content_530645446310684185\"> Yeah :D:csgogun:<img class=\"emoticon\" src=\"http://steamcommunity-a.akamaihd.net/economy/emoticon/LotusFlower\"/><img class=\"emoticon\" src=\"http://steamcommunity-a.akamaihd.net/economy/emoticon/csgostar\"/><img class=\"emoticon\" src=\"http://steamcommunity-a.akamaihd.net/economy/emoticon/csgob\"/> </div> </div> </div> <div class=\"commentthread_comment \" id=\"comment_598199244893251449\" style=\"\"> <div class=\"commentthread_comment_avatar playerAvatar offline\"> <a href=\"http://steamcommunity.com/profiles/76561198059067598\"> <img data-miniprofile=\"98801870\" src=\"http://cdn.akamai.steamstatic.com/steamcommunity/public/images/avatars/73/73dd68d92e2192de99174d91cb16a92f94d2ca0b.jpg\"/> </a> </div> <div class=\"commentthread_comment_content\"> <div class=\"commentthread_comment_author\"> <a class=\"hoverunderline commentthread_author_link\" data-miniprofile=\"98801870\" href=\"http://steamcommunity.com/profiles/76561198059067598\"> <bdi>Bond</bdi></a> <span class=\"commentthread_comment_timestamp\"> Jun 23 @ 11:00am  </span> </div> <div class=\"commentthread_comment_text\" id=\"comment_content_598199244893251449\"> GENIUS </div> </div> </div> <div class=\"commentthread_comment \" id=\"comment_598199244892938561\" style=\"\"> <div class=\"commentthread_comment_avatar playerAvatar offline\"> <a href=\"http://steamcommunity.com/profiles/76561198118539511\"> <img data-miniprofile=\"158273783\" src=\"http://cdn.akamai.steamstatic.com/steamcommunity/public/images/avatars/fe/fef49e7fa7e1997310d705b2a6158ff8dc1cdfeb.jpg\"/> </a> </div> <div class=\"commentthread_comment_content\"> <div class=\"commentthread_comment_author\"> <a class=\"hoverunderline commentthread_author_link\" data-miniprofile=\"158273783\" href=\"http://steamcommunity.com/profiles/76561198118539511\"> <bdi>t.3</bdi></a> <span class=\"commentthread_comment_timestamp\"> Jun 23 @ 9:08am  </span> </div> <div class=\"commentthread_comment_text\" id=\"comment_content_598199244892938561\"> Yes! </div> </div> </div> <div class=\"commentthread_comment \" id=\"comment_598199244888391518\" style=\"\"> <div class=\"commentthread_comment_avatar playerAvatar offline\"> <a href=\"http://steamcommunity.com/id/xenomorphz85\"> <img data-miniprofile=\"169437057\" src=\"http://cdn.akamai.steamstatic.com/steamcommunity/public/images/avatars/fe/fef49e7fa7e1997310d705b2a6158ff8dc1cdfeb.jpg\"/> </a> </div> <div class=\"commentthread_comment_content\"> <div class=\"commentthread_comment_author\"> <a class=\"hoverunderline commentthread_author_link\" data-miniprofile=\"169437057\" href=\"http://steamcommunity.com/id/xenomorphz85\"> <bdi>Xenomorphz85</bdi></a> <span class=\"commentthread_comment_timestamp\"> Jun 22 @ 5:23am  </span> </div> <div class=\"commentthread_comment_text\" id=\"comment_content_598199244888391518\"> All hail Lord Gaben!! </div> </div> </div> </div> </div> <div class=\"commentthread_footer\"> <div class=\"commentthread_paging\" id=\"commentthread_Recommendation_76561198092689293_730_0_fpagecontrols\"> <span class=\"pagebtn\" id=\"commentthread_Recommendation_76561198092689293_730_0_fpagebtn_prev\">&lt;</span> <span id=\"commentthread_Recommendation_76561198092689293_730_0_fpagelinks\"></span> <span class=\"pagebtn\" id=\"commentthread_Recommendation_76561198092689293_730_0_fpagebtn_next\">&gt;</span> </div> <div style=\"clear: both;\"></div> </div> </div> </div> </div> <div style=\"clear: both;\"></div> </div> </div> </div> </div> <div id=\"footer_spacer\"></div> <div id=\"footer\"> <div class=\"footer_content\"> <span id=\"footerLogo\"><img alt=\"Valve Logo\" border=\"0\" height=\"26\" src=\"http://steamcommunity-a.akamaihd.net/public/images/skin_1/footerLogo_valve.png?v=1\" width=\"96\"/></span> <span id=\"footerText\"> © Valve Corporation. All rights reserved. All trademarks are property of their respective owners in the US and other countries.<br/>Some geospatial data on this website is provided by <a href=\"https://steamcommunity.com/linkfilter/?url=http://www.geonames.org\" target=\"_blank\">geonames.org</a>. <span class=\"valve_links\"> <a href=\"http://store.steampowered.com/privacy_agreement/\" target=\"_blank\">Privacy Policy</a>   |  <a href=\"http://www.valvesoftware.com/legal.htm\" target=\"_blank\">Legal</a>  |  <a href=\"http://store.steampowered.com/subscriber_agreement/\" target=\"_blank\">Steam Subscriber Agreement</a> </span> </span> </div> </div> </body> </html>]"
      ]
     },
     "execution_count": 65,
     "metadata": {},
     "output_type": "execute_result"
    }
   ],
   "source": [
    "# Let's take a look first at the review page and see if there's anything there that\n",
    "# can be collected\n",
    "review_soup.contents"
   ]
  },
  {
   "cell_type": "code",
   "execution_count": 67,
   "metadata": {
    "collapsed": false
   },
   "outputs": [
    {
     "data": {
      "text/plain": [
       "{'date_posted': 'February 13, 2015',\n",
       " 'found_funny': '19',\n",
       " 'found_helpful': '5624',\n",
       " 'found_helpful_percentage': 0.9289725801123224,\n",
       " 'hours': '156.2',\n",
       " 'products_in_account': '20',\n",
       " 'profile_url': 'http://steamcommunity.com/profiles/76561198092689293',\n",
       " 'recommended': 'Recommended',\n",
       " 'review': <div class=\"apphub_Card interactable\" onclick=\"ShowModalContent( 'http://steamcommunity.com/profiles/76561198092689293/recommended/730/?insideModal=1', 'http://steamcommunity.com/profiles/76561198092689293/recommended/730/', 'http://steamcommunity.com/profiles/76561198092689293/recommended/730/',false );\" style=\"display: none\"> <div class=\"apphub_CardContentMain\"> <div class=\"apphub_UserReviewCardContent\"> <div class=\"found_helpful\"> 5,624 of 6,054 people (93%) found this review helpful 19 people found this review funny </div> <div class=\"vote_header\"> <div class=\"reviewInfo\"> <div class=\"thumb\"> <img height=\"44\" src=\"http://steamcommunity-a.akamaihd.net/public/shared/images/userreviews/icon_thumbsUp.png?v=1\" width=\"44\"/> </div> <div class=\"title\">Recommended</div> <div class=\"hours\">156.2 hrs on record</div> </div> <div style=\"clear: left\"></div> </div> <div class=\"apphub_CardTextContent\"> <div class=\"date_posted\">Posted: February 13</div> If i had a dollar for each time someone screamed at me in another language, i'd still have no money because i spent it on skins </div> </div> <div class=\"UserReviewCardContent_Footer\"> <div class=\"gradient\"> </div> </div> </div> <div class=\"apphub_CardContentAuthorBlock tall\"> <div class=\"apphub_friend_block_container\"> <a href=\"http://steamcommunity.com/profiles/76561198092689293/\"> <div class=\"apphub_friend_block\" data-miniprofile=\"132423565\"> <div class=\"appHubIconHolder offline\"><img src=\"http://cdn.akamai.steamstatic.com/steamcommunity/public/images/avatars/19/19a055c1c4c65c51eab9ba175051ef06fc3d1831.jpg\"/></div> <div class=\"appHubIconHolder greyOverlay\"></div> <div class=\"apphub_CardContentAuthorName offline ellipsis\"><a href=\"http://steamcommunity.com/profiles/76561198092689293/\">BakeACake</a></div> <div class=\"apphub_CardContentMoreLink ellipsis\">20 products in account</div> </div> </a> </div> <div class=\"apphub_UserReviewCardStats\"> <div class=\"apphub_CardCommentCount alignNews\">30</div> </div> <div style=\"clear: left\"></div> </div> </div>,\n",
       " 'review_url': 'http://steamcommunity.com/profiles/76561198092689293/recommended/730/?insideModal=1',\n",
       " 'steam_id_number': '76561198092689293',\n",
       " 'total_found_helpful_candidates': '6054',\n",
       " 'username': 'BakeACake'}"
      ]
     },
     "execution_count": 67,
     "metadata": {},
     "output_type": "execute_result"
    }
   ],
   "source": [
    "username_span = review_soup.find('span', 'profile_small_header_name')\n",
    "review_dict['username'] = username_span.string\n",
    "review_dict"
   ]
  },
  {
   "cell_type": "code",
   "execution_count": 33,
   "metadata": {
    "collapsed": false
   },
   "outputs": [
    {
     "data": {
      "text/plain": [
       "{'date_posted': 'February 13, 2015',\n",
       " 'found_funny': '242',\n",
       " 'found_helpful': '5163',\n",
       " 'found_helpful_percentage': 0.9302702702702703,\n",
       " 'hours': '151.9',\n",
       " 'hours_last_2_weeks': '44.3',\n",
       " 'products_in_account': '20',\n",
       " 'profile_url': 'http://steamcommunity.com/profiles/76561198092689293',\n",
       " 'recommended': 'Recommended',\n",
       " 'review': \"If i had a dollar for each time someone screamed at me in another language, i'd still have no money because i spent it on skins\",\n",
       " 'review_url': 'http://steamcommunity.com/profiles/76561198092689293/recommended/730/?insideModal=1',\n",
       " 'steam_id_number': '76561198092689293',\n",
       " 'total_found_helpful_candidates': '5550',\n",
       " 'username': 'BakeACake'}"
      ]
     },
     "execution_count": 33,
     "metadata": {},
     "output_type": "execute_result"
    }
   ],
   "source": [
    "# Now let's get the number of hours the reviewer has played in the last 2 weeks\n",
    "last_2_weeks_hours_div = review_soup.find('div', 'playTime')\n",
    "review_dict['hours_last_2_weeks'] = re.sub(r',',\n",
    "                                           r'',\n",
    "                                           last_2_weeks_hours_div.string.split()[0])\n",
    "review_dict"
   ]
  },
  {
   "cell_type": "code",
   "execution_count": 34,
   "metadata": {
    "collapsed": false
   },
   "outputs": [
    {
     "data": {
      "text/plain": [
       "{'date_posted': 'February 13, 2015',\n",
       " 'found_funny': '242',\n",
       " 'found_helpful': '5163',\n",
       " 'found_helpful_percentage': 0.9302702702702703,\n",
       " 'hours': '151.9',\n",
       " 'hours_last_2_weeks': '44.3',\n",
       " 'num_comments': '27',\n",
       " 'products_in_account': '20',\n",
       " 'profile_url': 'http://steamcommunity.com/profiles/76561198092689293',\n",
       " 'recommended': 'Recommended',\n",
       " 'review': \"If i had a dollar for each time someone screamed at me in another language, i'd still have no money because i spent it on skins\",\n",
       " 'review_url': 'http://steamcommunity.com/profiles/76561198092689293/recommended/730/?insideModal=1',\n",
       " 'steam_id_number': '76561198092689293',\n",
       " 'total_found_helpful_candidates': '5550',\n",
       " 'username': 'BakeACake'}"
      ]
     },
     "execution_count": 34,
     "metadata": {},
     "output_type": "execute_result"
    }
   ],
   "source": [
    "# Now let's get the comments (if any)\n",
    "div_comments = review_soup.find('div', 'commentthread_count')\n",
    "review_dict['num_comments'] = re.sub(r',',\n",
    "                                     r'',\n",
    "                                     list(div_comments.strings)[1])\n",
    "review_dict"
   ]
  },
  {
   "cell_type": "code",
   "execution_count": 35,
   "metadata": {
    "collapsed": true
   },
   "outputs": [],
   "source": [
    "# Note: We could try to collect the comment text, but it's a little complicated\n",
    "# due to the fact that comments could stretch across multiple pages (10 per page)\n",
    "# We will just save this for a later time since it's unclear if this data would\n",
    "# be useful, anyway."
   ]
  },
  {
   "cell_type": "code",
   "execution_count": 36,
   "metadata": {
    "collapsed": true
   },
   "outputs": [],
   "source": [
    "# Now let's try to look at the profile page and collect data from there"
   ]
  },
  {
   "cell_type": "code",
   "execution_count": 37,
   "metadata": {
    "collapsed": false
   },
   "outputs": [
    {
     "data": {
      "text/plain": [
       "['html',\n",
       " <html> <head> <meta content=\"text/html; charset=utf-8\" http-equiv=\"Content-Type\"/> <title>Steam Community :: BakeACake</title> <link href=\"/favicon.ico\" rel=\"shortcut icon\" type=\"image/x-icon\"/> <link href=\"http://steamcommunity-a.akamaihd.net/public/shared/css/motiva_sans.css?v=F3z3QpekjE2f\" rel=\"stylesheet\" type=\"text/css\"/> <link href=\"http://steamcommunity-a.akamaihd.net/public/shared/css/buttons.css?v=4iAytERcUqWU\" rel=\"stylesheet\" type=\"text/css\"/> <link href=\"http://steamcommunity-a.akamaihd.net/public/shared/css/shared_global.css?v=N7ooHVKbii2d\" rel=\"stylesheet\" type=\"text/css\"/> <link href=\"http://steamcommunity-a.akamaihd.net/public/css/globalv2.css?v=yWZ8QbCWv1se\" rel=\"stylesheet\" type=\"text/css\"/> <link href=\"http://steamcommunity-a.akamaihd.net/public/css/skin_1/modalContent.css?v=.3ZY4VGdKrzFz\" rel=\"stylesheet\" type=\"text/css\"/> <link href=\"http://steamcommunity-a.akamaihd.net/public/css/skin_1/profilev2.css?v=UK9TJRIBrQKu\" rel=\"stylesheet\" type=\"text/css\"/> <link href=\"http://steamcommunity-a.akamaihd.net/public/shared/css/motiva_sans.css?v=F3z3QpekjE2f\" rel=\"stylesheet\" type=\"text/css\"/> <link href=\"http://steamcommunity-a.akamaihd.net/public/css/skin_1/header.css?v=quvm2wU5yG0p\" rel=\"stylesheet\" type=\"text/css\"/> <script src=\"http://steamcommunity-a.akamaihd.net/public/javascript/prototype-1.7.js?v=.55t44gwuwgvw\" type=\"text/javascript\"></script> <script src=\"http://steamcommunity-a.akamaihd.net/public/javascript/scriptaculous/_combined.js?v=9XVsa_Ni33oN&amp;l=english&amp;load=effects,controls,slider,dragdrop\" type=\"text/javascript\"></script> <script src=\"http://steamcommunity-a.akamaihd.net/public/javascript/global.js?v=hCxPThA3-aeH&amp;l=english\" type=\"text/javascript\"></script> <script src=\"http://steamcommunity-a.akamaihd.net/public/javascript/jquery-1.11.1.min.js?v=.isFTSRckeNhC\" type=\"text/javascript\"></script> <script src=\"http://steamcommunity-a.akamaihd.net/public/shared/javascript/tooltip.js?v=.nCjeRtNcVhbG\" type=\"text/javascript\"></script> <script src=\"http://steamcommunity-a.akamaihd.net/public/shared/javascript/shared_global.js?v=Sub1IZ3tdXHu&amp;l=english\" type=\"text/javascript\"></script> <script type=\"text/javascript\">$J = jQuery.noConflict(); if ( typeof JSON != 'object' || !JSON.stringify || !JSON.parse ) { document.write( \"<scr\" + \"ipt type=\\\"text\\/javascript\\\" src=\\\"http:\\/\\/steamcommunity-a.akamaihd.net\\/public\\/javascript\\/json2.js?v=pmScf4470EZP&amp;l=english\\\"><\\/script>\\n\" ); }; </script><script src=\"http://steamcommunity-a.akamaihd.net/public/javascript/modalContent.js?v=XZKI05CNhf-y&amp;l=english\" type=\"text/javascript\"></script> <script src=\"http://steamcommunity-a.akamaihd.net/public/javascript/modalv2.js?v=HsicoS9FYYTz&amp;l=english\" type=\"text/javascript\"></script> <script src=\"http://steamcommunity-a.akamaihd.net/public/javascript/profile.js?v=oBWtWRb8352Q&amp;l=english\" type=\"text/javascript\"></script> <script type=\"text/javascript\"> var _gaq = _gaq || []; _gaq.push(['_setAccount', 'UA-33779068-1']); _gaq.push(['_setSampleRate', '0.4']); _gaq.push(['_setCustomVar', 1, 'Logged In', 'false', 2]); _gaq.push(['_setCustomVar', 2, 'Client Type', 'External', 2]); _gaq.push(['_setCustomVar', 3, 'Cntrlr', 'profiles', 3]); _gaq.push(['_setCustomVar', 4, 'Method', \"profiles\\/DefaultAction\", 3]); _gaq.push(['_trackPageview']); _gaq.push(['_setSessionCookieTimeout', 900000]); (function() { var ga = document.createElement('script'); ga.type = 'text/javascript'; ga.async = true; ga.src = ('https:' == document.location.protocol ? 'https://ssl' : 'http://www') + '.google-analytics.com/ga.js'; var s = document.getElementsByTagName('script')[0]; s.parentNode.insertBefore(ga, s); })(); </script> <script type=\"text/javascript\"> g_rgProfileData = {\"url\":\"http:\\/\\/steamcommunity.com\\/profiles\\/76561198092689293\\/\",\"steamid\":\"76561198092689293\",\"personaname\":\"BakeACake\",\"summary\":\"I don't hate you probably\\r \"}; </script> </head> <body class=\"flat_page profile_page\"> <!-- header bar, contains info browsing user if logged in --> <div id=\"global_header\"> <div class=\"content\"> <div class=\"logo\"> <span id=\"logo_holder\"> <a href=\"http://store.steampowered.com/\"> <img alt=\"Steam Logo\" border=\"0\" height=\"44\" src=\"http://steamcommunity-a.akamaihd.net/public/images/header/globalheader_logo.png\" width=\"176\"/> </a> </span> <!--[if lt IE 7]> <style type=\"text/css\"> #logo_holder img { filter:progid:DXImageTransform.Microsoft.Alpha(opacity=0); } #logo_holder { display: inline-block; width: 176px; height: 44px; filter:progid:DXImageTransform.Microsoft.AlphaImageLoader(src='http://steamcommunity-a.akamaihd.net/public/images/header/globalheader_logo.png'); } </style> <![endif]--> </div> <div id=\"supernav\" style=\"position: absolute; left: 200px;\"> <a class=\"menuitem supernav\" data-tooltip-content=' &lt;a class=\"submenuitem\" href=\"http://store.steampowered.com/\"&gt;Featured&lt;/a&gt; &lt;a class=\"submenuitem\" href=\"http://store.steampowered.com/explore/\"&gt;Explore&lt;/a&gt; &lt;a class=\"submenuitem\" href=\"http://store.steampowered.com/curators/\"&gt;Curators&lt;/a&gt; &lt;a class=\"submenuitem\" href=\"http://steamcommunity.com/my/wishlist/\"&gt;Wishlist&lt;/a&gt; &lt;a class=\"submenuitem\" href=\"http://store.steampowered.com/news/\"&gt;News&lt;/a&gt; &lt;a class=\"submenuitem\" href=\"http://store.steampowered.com/stats/\"&gt;STATS&lt;/a&gt; ' href=\"http://store.steampowered.com/\"> STORE </a> <a class=\"menuitem supernav\" data-tooltip-content=' &lt;a class=\"submenuitem\" href=\"http://steamcommunity.com/\"&gt;Home&lt;/a&gt; &lt;a class=\"submenuitem\" href=\"http://steamcommunity.com/discussions/\"&gt;DISCUSSIONS&lt;/a&gt; &lt;a class=\"submenuitem\" href=\"http://steamcommunity.com/workshop/\"&gt;Workshop&lt;/a&gt; &lt;a class=\"submenuitem\" href=\"http://steamcommunity.com/greenlight/\"&gt;Greenlight&lt;/a&gt; &lt;a class=\"submenuitem\" href=\"http://steamcommunity.com/market/\"&gt;Market&lt;/a&gt; &lt;a class=\"submenuitem\" href=\"http://steamcommunity.com/?subsection=broadcasts\"&gt;Broadcasts&lt;/a&gt; ' href=\"http://steamcommunity.com/\" style=\"display: block\"> COMMUNITY </a> <a class=\"menuitem\" href=\"http://store.steampowered.com/about/\"> ABOUT </a> <a class=\"menuitem\" href=\"https://help.steampowered.com/\"> SUPPORT </a> </div> <script type=\"text/javascript\"> jQuery(document).ready(function($) { $('.tooltip').v_tooltip(); $('.supernav').v_tooltip({'location':'bottom', 'tooltipClass': 'supernav_content', 'offsetY':-4, 'offsetX': 1, 'horizontalSnap': 4, 'tooltipParent': '#supernav', 'correctForScreenSize': false}); }); </script> <div id=\"global_actions\"> <div id=\"global_action_menu\"> <div class=\"header_installsteam_btn header_installsteam_btn_green\"> <div class=\"header_installsteam_btn_leftcap\"></div> <div class=\"header_installsteam_btn_rightcap\"></div> <a class=\"header_installsteam_btn_content\" href=\"http://store.steampowered.com/about/\"> Install Steam </a> </div> <a class=\"global_action_link\" href=\"https://steamcommunity.com/login/home/?goto=profiles%2F76561198092689293\">Login</a>  |  <span class=\"pulldown global_action_link\" id=\"language_pulldown\" onclick=\"ShowMenu( this, 'language_dropdown', 'right' );\">language</span> <div class=\"popup_block\" id=\"language_dropdown\" style=\"display: none;\"> <div class=\"shadow_ul\"></div><div class=\"shadow_top\"></div><div class=\"shadow_ur\"></div><div class=\"shadow_left\"></div><div class=\"shadow_right\"></div><div class=\"shadow_bl\"></div><div class=\"shadow_bottom\"></div><div class=\"shadow_br\"></div> <div class=\"popup_body popup_menu shadow_content\"> <a class=\"popup_menu_item tight\" href=\"?l=bulgarian\" onclick=\"ChangeLanguage( 'bulgarian' ); return false;\">Български (Bulgarian)</a> <a class=\"popup_menu_item tight\" href=\"?l=czech\" onclick=\"ChangeLanguage( 'czech' ); return false;\">čeština (Czech)</a> <a class=\"popup_menu_item tight\" href=\"?l=danish\" onclick=\"ChangeLanguage( 'danish' ); return false;\">Dansk (Danish)</a> <a class=\"popup_menu_item tight\" href=\"?l=dutch\" onclick=\"ChangeLanguage( 'dutch' ); return false;\">Nederlands (Dutch)</a> <a class=\"popup_menu_item tight\" href=\"?l=finnish\" onclick=\"ChangeLanguage( 'finnish' ); return false;\">Suomi (Finnish)</a> <a class=\"popup_menu_item tight\" href=\"?l=french\" onclick=\"ChangeLanguage( 'french' ); return false;\">Français (French)</a> <a class=\"popup_menu_item tight\" href=\"?l=german\" onclick=\"ChangeLanguage( 'german' ); return false;\">Deutsch (German)</a> <a class=\"popup_menu_item tight\" href=\"?l=greek\" onclick=\"ChangeLanguage( 'greek' ); return false;\">Ελληνικά (Greek)</a> <a class=\"popup_menu_item tight\" href=\"?l=hungarian\" onclick=\"ChangeLanguage( 'hungarian' ); return false;\">Magyar (Hungarian)</a> <a class=\"popup_menu_item tight\" href=\"?l=italian\" onclick=\"ChangeLanguage( 'italian' ); return false;\">Italiano (Italian)</a> <a class=\"popup_menu_item tight\" href=\"?l=japanese\" onclick=\"ChangeLanguage( 'japanese' ); return false;\">日本語 (Japanese)</a> <a class=\"popup_menu_item tight\" href=\"?l=koreana\" onclick=\"ChangeLanguage( 'koreana' ); return false;\">한국어 (Korean)</a> <a class=\"popup_menu_item tight\" href=\"?l=norwegian\" onclick=\"ChangeLanguage( 'norwegian' ); return false;\">Norsk (Norwegian)</a> <a class=\"popup_menu_item tight\" href=\"?l=polish\" onclick=\"ChangeLanguage( 'polish' ); return false;\">Polski (Polish)</a> <a class=\"popup_menu_item tight\" href=\"?l=portuguese\" onclick=\"ChangeLanguage( 'portuguese' ); return false;\">Português (Portuguese)</a> <a class=\"popup_menu_item tight\" href=\"?l=brazilian\" onclick=\"ChangeLanguage( 'brazilian' ); return false;\">Português-Brasil (Portuguese-Brazil)</a> <a class=\"popup_menu_item tight\" href=\"?l=romanian\" onclick=\"ChangeLanguage( 'romanian' ); return false;\">Română (Romanian)</a> <a class=\"popup_menu_item tight\" href=\"?l=russian\" onclick=\"ChangeLanguage( 'russian' ); return false;\">Русский (Russian)</a> <a class=\"popup_menu_item tight\" href=\"?l=schinese\" onclick=\"ChangeLanguage( 'schinese' ); return false;\">简体中文 (Simplified Chinese)</a> <a class=\"popup_menu_item tight\" href=\"?l=spanish\" onclick=\"ChangeLanguage( 'spanish' ); return false;\">Español (Spanish)</a> <a class=\"popup_menu_item tight\" href=\"?l=swedish\" onclick=\"ChangeLanguage( 'swedish' ); return false;\">Svenska (Swedish)</a> <a class=\"popup_menu_item tight\" href=\"?l=tchinese\" onclick=\"ChangeLanguage( 'tchinese' ); return false;\">繁體中文 (Traditional Chinese)</a> <a class=\"popup_menu_item tight\" href=\"?l=thai\" onclick=\"ChangeLanguage( 'thai' ); return false;\">ไทย (Thai)</a> <a class=\"popup_menu_item tight\" href=\"?l=turkish\" onclick=\"ChangeLanguage( 'turkish' ); return false;\">Türkçe (Turkish)</a> <a class=\"popup_menu_item tight\" href=\"?l=ukrainian\" onclick=\"ChangeLanguage( 'ukrainian' ); return false;\">Українська (Ukrainian)</a> <a class=\"popup_menu_item tight\" href=\"http://translation.steampowered.com\" target=\"_blank\">Help us translate Steam</a> </div> </div> </div> </div> </div> </div> <div id=\"modalBG\" style=\"display: none\"></div><script type=\"text/javascript\"> g_sessionID = \"cb5108a1943e3da3a22bd44c\"; g_steamID = false; $J( function() { InitMiniprofileHovers(); InitEmoticonHovers(); window.BindCommunityTooltip = function( $Selector ) { $Selector.v_tooltip( {'tooltipClass': 'community_tooltip', 'dataName': 'communityTooltip' } ); }; BindCommunityTooltip( $J('[data-community-tooltip]') ); }); $J( function() { InitEconomyHovers( \"http:\\/\\/steamcommunity-a.akamaihd.net\\/public\\/css\\/skin_1\\/economy.css?v=KhJxplnpbd14\", \"http:\\/\\/steamcommunity-a.akamaihd.net\\/public\\/javascript\\/economy_common.js?v=1LohOdoSLPYI&l=english\", \"http:\\/\\/steamcommunity-a.akamaihd.net\\/public\\/javascript\\/economy.js?v=9q2_OcH3X1DF&l=english\" );});</script><!-- /header bar --> <div class=\"no_header profile_page has_profile_background \" style=\"background-image: url( 'http://cdn.akamai.steamstatic.com/steamcommunity/public/images/items/237740/5c553a2a47dbe0b7ac3e23ef94ff1db31adeccca.jpg' );\"> <div class=\"profile_header_bg\"> <div class=\"profile_header_bg_texture\"> <div class=\"profile_header\"> <div class=\"profile_header_content\"> <div class=\"playerAvatar profile_header_size offline\"> <img src=\"http://cdn.akamai.steamstatic.com/steamcommunity/public/images/avatars/19/19a055c1c4c65c51eab9ba175051ef06fc3d1831_full.jpg\"/> </div> <div class=\"profile_header_badgeinfo\"> <a href=\"http://steamcommunity.com/profiles/76561198092689293/badges\"> <div class=\"persona_name persona_level\">Level <div class=\"friendPlayerLevel lvl_0\"><span class=\"friendPlayerLevelNum\">5</span></div></div> </a> <div class=\"profile_header_badge\"> <div class=\"favorite_badge\"> <div class=\"favorite_badge_icon\" data-community-tooltip=\"Adept Accumulator 20 games owned\"> <a class=\"whiteLink\" href=\"http://steamcommunity.com/profiles/76561198092689293/badges/13\"> <img src=\"http://steamcommunity-a.akamaihd.net/public/images/badges/13_gamecollector/10.png\"/> </a> </div> <div class=\"favorite_badge_description\"> <div class=\"name\"><a class=\"whiteLink\" href=\"http://steamcommunity.com/profiles/76561198092689293/badges/13\">Adept Accumulator</a></div> <div class=\"xp\">183 XP</div> </div> </div> </div> <div class=\"profile_header_actions\"> </div> </div> <div class=\"profile_header_summary\"> <div class=\"persona_name\" style=\"font-size: 24px;\"> <span class=\"actual_persona_name\">BakeACake</span> <span class=\"namehistory_link\" onclick=\"ShowAliasPopup( this );\"> <img border=\"0\" height=\"5\" id=\"getnamehistory_arrow\" src=\"http://steamcommunity-a.akamaihd.net/public/images/skin_1/arrowDn9x5.gif\" width=\"9\"/> </span> <div class=\"popup_block_new\" id=\"NamePopup\" style=\"display: none;\"> <div class=\"popup_body popup_menu\"> <div>This user has also played as:</div> <div id=\"NamePopupAliases\"> </div> </div> </div> </div> <div class=\"header_real_name ellipsis\"> <bdi>tom barrick</bdi>   <img class=\"profile_flag\" src=\"http://steamcommunity-a.akamaihd.net/public/images/countryflags/gb.gif\"/> United Kingdom (Great Britain) </div> <div class=\"profile_summary\"> I don't hate you probably </div> <div class=\"profile_summary_footer\"> <span class=\"whiteLink\">View more info</span> </div> <script type=\"text/javascript\"> $J( function() { InitProfileSummary( g_rgProfileData['summary'] ); } ); </script> </div> </div> </div> </div> </div> <div class=\"profile_content has_profile_background\"> <div class=\"profile_background_holder_content\"> <div class=\"profile_background_overlay_content\"></div> <div class=\"profile_background_image_content \" style=\"background-image: url(http://cdn.akamai.steamstatic.com/steamcommunity/public/images/items/237740/5c553a2a47dbe0b7ac3e23ef94ff1db31adeccca.jpg);\"> </div> </div> <div class=\"profile_content_inner\"> <div class=\"profile_leftcol\"> <div class=\"profile_recentgame_header profile_leftcol_header\"> <div class=\"recentgame_quicklinks\"> <h2>52.8 hours past 2 weeks</h2> </div> <h2>Recent Activity</h2> </div> <div class=\"recent_games\"> <div class=\"recent_game\"> <div class=\"recent_game_content\"> <div class=\"game_info\"> <div class=\"game_info_cap\"><a href=\"http://steamcommunity.com/app/22300\"><img src=\"http://cdn.akamai.steamstatic.com/steamcommunity/public/images/apps/22300/ddccc41c513694e7a5542aa115e9e091d6495420.jpg\"/></a></div> <div class=\"game_info_details\"> 2.8 hrs on record last played on Jun 25 </div> <div class=\"game_name\"><a class=\"whiteLink\" href=\"http://steamcommunity.com/app/22300\">Fallout 3</a></div> </div> </div> </div> <div class=\"recent_game\"> <div class=\"recent_game_content\"> <div class=\"game_info\"> <div class=\"game_info_cap\"><a href=\"http://steamcommunity.com/app/730\"><img src=\"http://cdn.akamai.steamstatic.com/steamcommunity/public/images/apps/730/d0595ff02f5c79fd19b06f4d6165c3fda2372820.jpg\"/></a></div> <div class=\"game_info_details\"> 152 hrs on record last played on Jun 25 </div> <div class=\"game_name\"><a class=\"whiteLink\" href=\"http://steamcommunity.com/app/730\">Counter-Strike: Global Offensive</a></div> </div> <div class=\"game_info_stats\"> <div class=\"game_info_achievements_only_ctn\"> <div class=\"game_info_achievements\"> <span class=\"game_info_achievement_summary\"> <a class=\"whiteLink\" href=\"http://steamcommunity.com/profiles/76561198092689293/stats/730/achievements/\">Achievement Progress</a>   88 of 167 </span> <div class=\"achievement_progress_bar_ctn\"> <div class=\"progress_bar\" style=\"width: 52%;\"> </div> </div> <div class=\"achievement_icons\"> <div class=\"game_info_achievement\" data-community-tooltip=\"Short Fuse\"> <a href=\"http://steamcommunity.com/profiles/76561198092689293/stats/730/achievements/\"> <img src=\"http://cdn.akamai.steamstatic.com/steamcommunity/public/images/apps/730/648550738f4845f12aa686a1b4ee8c4a51ec2348.jpg\"/> </a> </div> <div class=\"game_info_achievement\" data-community-tooltip=\"Boomala Boomala\"> <a href=\"http://steamcommunity.com/profiles/76561198092689293/stats/730/achievements/\"> <img src=\"http://cdn.akamai.steamstatic.com/steamcommunity/public/images/apps/730/325ccbd68e599083c1597fd90dc6d4265d1ca3b4.jpg\"/> </a> </div> <div class=\"game_info_achievement\" data-community-tooltip=\"FAMAS Expert\"> <a href=\"http://steamcommunity.com/profiles/76561198092689293/stats/730/achievements/\"> <img src=\"http://cdn.akamai.steamstatic.com/steamcommunity/public/images/apps/730/0e2e2fd07d06b03bd61ea1d7a08d03cb76e06684.jpg\"/> </a> </div> <div class=\"game_info_achievement\" data-community-tooltip=\"Dead Shepherd\"> <a href=\"http://steamcommunity.com/profiles/76561198092689293/stats/730/achievements/\"> <img src=\"http://cdn.akamai.steamstatic.com/steamcommunity/public/images/apps/730/fdcf88bc3849c21154d04c998564a9f3b9bf49cd.jpg\"/> </a> </div> <div class=\"game_info_achievement\" data-community-tooltip=\"Killanthropist\"> <a href=\"http://steamcommunity.com/profiles/76561198092689293/stats/730/achievements/\"> <img src=\"http://cdn.akamai.steamstatic.com/steamcommunity/public/images/apps/730/d6029b217b817879924136ec61345c9774187ffb.jpg\"/> </a> </div> <div class=\"game_info_achievement plus_more\" onclick=\"window.location='http://steamcommunity.com/profiles/76561198092689293/stats/730/achievements/'\"> +83 </div> </div> </div> <div style=\"clear: right;\"></div> </div> <div class=\"game_info_stats_rule\"></div> <div class=\"game_info_stats_publishedfilecounts\"> <span class=\"published_file_count_ctn\"> <span class=\"published_file_icon screenshot\"></span> <a class=\"published_file_link\" href=\"http://steamcommunity.com/profiles/76561198092689293/screenshots/?appid=730\">Screenshots 4</a> </span> <span class=\"published_file_count_ctn\"> <span class=\"published_file_icon recommendation\"></span> <a class=\"published_file_link\" href=\"http://steamcommunity.com/profiles/76561198092689293/recommended/730/\">Review 1</a> </span> </div> </div> </div> </div> <div class=\"recent_game\"> <div class=\"recent_game_content\"> <div class=\"game_info\"> <div class=\"game_info_cap\"><a href=\"http://steamcommunity.com/app/252490\"><img src=\"http://cdn.akamai.steamstatic.com/steamcommunity/public/images/apps/252490/cf3ec2d1e8d658c9127b6bc01cad23eae2d3b202.jpg\"/></a></div> <div class=\"game_info_details\"> 83 hrs on record last played on Jun 21 </div> <div class=\"game_name\"><a class=\"whiteLink\" href=\"http://steamcommunity.com/app/252490\">Rust</a></div> </div> </div> </div> </div> <div> <div class=\"recentgame_quicklinks\"> View <a class=\"whiteLink\" href=\"http://steamcommunity.com/profiles/76561198092689293/games/\">All Recently Played</a> | <a class=\"whiteLink\" href=\"http://steamcommunity.com/profiles/76561198092689293/wishlist/\">Wishlist</a> | <a class=\"whiteLink\" href=\"http://steamcommunity.com/profiles/76561198092689293/recommended/\">Reviews</a> </div> <div style=\"clear: right;\"></div> </div> <div class=\"profile_comment_area\"> <script type=\"text/javascript\"> $J( function() { InitializeCommentThread( \"Profile\", \"Profile_76561198092689293_0\", {\"feature\":\"-1\",\"feature2\":0,\"owner\":\"76561198092689293\",\"total_count\":5,\"start\":0,\"pagesize\":6,\"has_upvoted\":0,\"upvotes\":0,\"votecountid\":null,\"voteupid\":null,\"commentcountid\":null,\"subscribed\":false}, 'http://steamcommunity.com/comment/Profile/', 40 ); } ); </script> <div class=\"commentthread_area\" id=\"commentthread_Profile_76561198092689293_0_area\"> <div class=\"commentthread_header\"> <div class=\"commentthread_count\"> <span class=\"commentthread_header_label\">Comments</span> </div> <div class=\"commentthread_paging\" id=\"commentthread_Profile_76561198092689293_0_pagecontrols\"> <span class=\"pagebtn\" id=\"commentthread_Profile_76561198092689293_0_pagebtn_prev\">&lt;</span> <span id=\"commentthread_Profile_76561198092689293_0_pagelinks\"></span> <span class=\"pagebtn\" id=\"commentthread_Profile_76561198092689293_0_pagebtn_next\">&gt;</span> </div> <div style=\"clear: both;\"></div> </div> <!-- 21 --> <div class=\"commentthread_comment_container\" id=\"commentthread_Profile_76561198092689293_0_postcontainer\"> <div class=\"commentthread_comments\" id=\"commentthread_Profile_76561198092689293_0_posts\"> <div class=\"commentthread_comment \" id=\"comment_617329797180338663\" style=\"\"> <div class=\"commentthread_comment_avatar playerAvatar offline\"> <a href=\"http://steamcommunity.com/profiles/76561198092689293\"> <img data-miniprofile=\"132423565\" src=\"http://cdn.akamai.steamstatic.com/steamcommunity/public/images/avatars/19/19a055c1c4c65c51eab9ba175051ef06fc3d1831.jpg\"/> </a> </div> <div class=\"commentthread_comment_content\"> <div class=\"commentthread_comment_author\"> <a class=\"hoverunderline commentthread_author_link\" data-miniprofile=\"132423565\" href=\"http://steamcommunity.com/profiles/76561198092689293\"> <bdi>BakeACake</bdi></a> <span class=\"commentthread_comment_timestamp\"> Mar 6 @ 11:28am  </span> </div> <div class=\"commentthread_comment_text\" id=\"comment_content_617329797180338663\"> Thankyou </div> </div> </div> <div class=\"commentthread_comment \" id=\"comment_617329797180337671\" style=\"\"> <div class=\"commentthread_comment_avatar playerAvatar offline\"> <a href=\"http://steamcommunity.com/profiles/76561198065792404\"> <img data-miniprofile=\"105526676\" src=\"http://cdn.akamai.steamstatic.com/steamcommunity/public/images/avatars/3c/3c332705554e415859ff1c82c28172879e0c224c.jpg\"/> </a> </div> <div class=\"commentthread_comment_content\"> <div class=\"commentthread_comment_author\"> <a class=\"hoverunderline commentthread_author_link\" data-miniprofile=\"105526676\" href=\"http://steamcommunity.com/profiles/76561198065792404\"> <bdi>Simple</bdi></a> <span class=\"commentthread_comment_timestamp\"> Mar 6 @ 11:28am  </span> </div> <div class=\"commentthread_comment_text\" id=\"comment_content_617329797180337671\"> You taste nice </div> </div> </div> <div class=\"commentthread_comment \" id=\"comment_619569341119745711\" style=\"\"> <div class=\"commentthread_comment_avatar playerAvatar offline\"> <a href=\"http://steamcommunity.com/profiles/76561198068988796\"> <img data-miniprofile=\"108723068\" src=\"http://cdn.akamai.steamstatic.com/steamcommunity/public/images/avatars/ec/eca67b9aa8f001bf7fd7fc99c32f92d45fabd0b3.jpg\"/> </a> </div> <div class=\"commentthread_comment_content\"> <div class=\"commentthread_comment_author\"> <a class=\"hoverunderline commentthread_author_link\" data-miniprofile=\"108723068\" href=\"http://steamcommunity.com/profiles/76561198068988796\"> <bdi>Strength2000</bdi></a> <span class=\"commentthread_comment_timestamp\"> Oct 24, 2014 @ 6:26am  </span> </div> <div class=\"commentthread_comment_text\" id=\"comment_content_619569341119745711\"> +Rep thanks for quick and pleseant transaction! </div> </div> </div> <div class=\"commentthread_comment \" id=\"comment_46476691937674905\" style=\"\"> <div class=\"commentthread_comment_avatar playerAvatar offline\"> <a href=\"http://steamcommunity.com/id/L4ZZ4R1N1\"> <img data-miniprofile=\"135432678\" src=\"http://cdn.akamai.steamstatic.com/steamcommunity/public/images/avatars/ce/cedc924cde4000a39d911a5d159db3171ee1f393.jpg\"/> </a> </div> <div class=\"commentthread_comment_content\"> <div class=\"commentthread_comment_author\"> <a class=\"hoverunderline commentthread_author_link\" data-miniprofile=\"135432678\" href=\"http://steamcommunity.com/id/L4ZZ4R1N1\"> <bdi>Mr.Mundy</bdi></a> <span class=\"commentthread_comment_timestamp\"> Jul 15, 2014 @ 1:36pm  </span> </div> <div class=\"commentthread_comment_text\" id=\"comment_content_46476691937674905\"> +Rep, polite, helpful and nice trader ! </div> </div> </div> <div class=\"commentthread_comment \" id=\"comment_558749191039044006\" style=\"\"> <div class=\"commentthread_comment_avatar playerAvatar online\"> <a href=\"http://steamcommunity.com/id/WintersOP\"> <img data-miniprofile=\"106663956\" src=\"http://cdn.akamai.steamstatic.com/steamcommunity/public/images/avatars/8e/8e238f3d246b4096c972610c69c3e497da13af31.jpg\"/> </a> </div> <div class=\"commentthread_comment_content\"> <div class=\"commentthread_comment_author\"> <a class=\"hoverunderline commentthread_author_link\" data-miniprofile=\"106663956\" href=\"http://steamcommunity.com/id/WintersOP\"> <bdi>adolfo</bdi></a> <span class=\"commentthread_comment_timestamp\"> Mar 1, 2014 @ 3:08pm  </span> </div> <div class=\"commentthread_comment_text\" id=\"comment_content_558749191039044006\"> +rep </div> </div> </div> </div> </div> <div class=\"commentthread_footer\"> <div class=\"commentthread_paging\" id=\"commentthread_Profile_76561198092689293_0_fpagecontrols\"> <span class=\"pagebtn\" id=\"commentthread_Profile_76561198092689293_0_fpagebtn_prev\">&lt;</span> <span id=\"commentthread_Profile_76561198092689293_0_fpagelinks\"></span> <span class=\"pagebtn\" id=\"commentthread_Profile_76561198092689293_0_fpagebtn_next\">&gt;</span> </div> <div style=\"clear: both;\"></div> </div> </div> </div> </div> <div class=\"profile_rightcol\"> <div class=\"profile_in_game persona offline\"> <div class=\"profile_in_game_header\">Currently Offline</div> <div class=\"profile_in_game_name\">Last Online 7 hrs, 58 mins ago</div> </div> <div class=\"profile_badges\"> <div class=\"profile_count_link\"> <a class=\"count_link_label\" href=\"http://steamcommunity.com/profiles/76561198092689293/badges/\">Badges  <span class=\"profile_count_link_total\"> 4 </span> </a> </div> <div class=\"profile_badges_badge \" data-community-tooltip=\"Years of Service Member since May 29, 2013.\"> <a href=\"http://steamcommunity.com/profiles/76561198092689293/badges/1\"> <img src=\"http://steamcommunity-a.akamaihd.net/public/images/badges/02_years/steamyears202_54.png\"/> </a> </div> <div class=\"profile_badges_badge \" data-community-tooltip=\"Community Ambassador Completed all Community tasks\"> <a href=\"http://steamcommunity.com/profiles/76561198092689293/badges/2\"> <img src=\"http://steamcommunity-a.akamaihd.net/public/images/badges/01_community/community03_54.png\"/> </a> </div> <div class=\"profile_badges_badge \" data-community-tooltip=\"Sawmill Strongmann Level 1 Team Fortress 2 Badge\"> <a href=\"http://steamcommunity.com/profiles/76561198092689293/gamecards/440\"> <img src=\"http://cdn.akamai.steamstatic.com/steamcommunity/public/images/items/440/f97b77ef286a9df54b15049b180793ba4a3dab98.png\"/> </a> </div> <div class=\"profile_badges_badge last\" data-community-tooltip=\"Adept Accumulator 20 games owned\"> <a href=\"http://steamcommunity.com/profiles/76561198092689293/badges/13\"> <img src=\"http://steamcommunity-a.akamaihd.net/public/images/badges/13_gamecollector/10.png\"/> </a> </div> <div style=\"clear: left;\"></div> </div> <div class=\"profile_item_links\"> <div class=\"profile_count_link\"> <a class=\"count_link_label\" href=\"http://steamcommunity.com/profiles/76561198092689293/games/?tab=all\">Games  <span class=\"profile_count_link_total\"> 20 </span> </a> </div> <div class=\"profile_count_link\"> <a class=\"count_link_label\" href=\"http://steamcommunity.com/profiles/76561198092689293/screenshots/\">Screenshots  <span class=\"profile_count_link_total\"> 113 </span> </a> </div> <div class=\"profile_count_link\"> <a class=\"count_link_label\" href=\"http://steamcommunity.com/profiles/76561198092689293/recommended/\">Reviews  <span class=\"profile_count_link_total\"> 3 </span> </a> </div> <div class=\"profile_count_link\"> <a class=\"count_link_label\" href=\"http://steamcommunity.com/profiles/76561198092689293/inventory/\">Inventory  <span class=\"profile_count_link_total\">   <!-- so the line spaces like the rest --> </span> </a> </div> </div> <div class=\"profile_group_links\"> <div class=\"profile_count_link\"> <a class=\"count_link_label\" href=\"http://steamcommunity.com/profiles/76561198092689293/groups/\">Groups  <span class=\"profile_count_link_total\"> 21 </span> </a> </div> <div class=\"profile_group profile_primary_group\"> <div class=\"profile_group_avatar\"> <a href=\"http://steamcommunity.com/groups/allhailgaben1\"> <img src=\"http://cdn.akamai.steamstatic.com/steamcommunity/public/images/avatars/08/083fb97177df38c34720316035e1710bf1ad88d0_medium.jpg\"/> </a> </div> <a class=\"whiteLink\" href=\"http://steamcommunity.com/groups/allhailgaben1\"> Hail GabeN! </a> 7 Members <div style=\"clear: left;\"></div> </div> <div class=\"profile_group\"> <div class=\"profile_group_avatar\"> <a href=\"http://steamcommunity.com/groups/gaben\"> <img src=\"http://cdn.akamai.steamstatic.com/steamcommunity/public/images/avatars/b9/b976c1b30cfb094204590dd1810e7d4a9fbf114e.jpg\"/> </a> </div> <a class=\"whiteLink\" href=\"http://steamcommunity.com/groups/gaben\"> Gaben </a> 8,395 Members <div style=\"clear: left;\"></div> </div> <div class=\"profile_group\"> <div class=\"profile_group_avatar\"> <a href=\"http://steamcommunity.com/groups/UGCLeague\"> <img src=\"http://cdn.akamai.steamstatic.com/steamcommunity/public/images/avatars/7e/7ea5bde6e1d5ed5add685c8ef224cf0b1fb1fc7e.jpg\"/> </a> </div> <a class=\"whiteLink\" href=\"http://steamcommunity.com/groups/UGCLeague\"> United Gaming Clans </a> 31,911 Members <div style=\"clear: left;\"></div> </div> </div> <div class=\"profile_friend_links\"> <div class=\"profile_count_link\"> <a class=\"count_link_label\" href=\"http://steamcommunity.com/profiles/76561198092689293/friends/\">Friends  <span class=\"profile_count_link_total\"> 70 </span> </a> </div> <div class=\"profile_topfriends\"> <div class=\"friendBlock persona offline\" data-miniprofile=\"85958756\"> <a class=\"friendBlockLinkOverlay\" href=\"http://steamcommunity.com/id/mickelsnickel\"></a> <div class=\"friendPlayerLevel lvl_80\"> <span class=\"friendPlayerLevelNum\">87</span> </div> <div class=\"playerAvatar offline\"> <img src=\"http://cdn.akamai.steamstatic.com/steamcommunity/public/images/avatars/91/9158feaadf19b159ba3e9cccf4d15de322ae853e.jpg\"/> </div> <div class=\"friendBlockContent\"> MickelSnickel <span class=\"friendSmallText\"> Last Online 8 hrs, 54 mins ago </span> </div> </div> <div class=\"friendBlock persona online\" data-miniprofile=\"212541198\"> <a class=\"friendBlockLinkOverlay\" href=\"http://steamcommunity.com/id/oCryonix\"></a> <div class=\"friendPlayerLevel lvl_30\"> <span class=\"friendPlayerLevelNum\">32</span> </div> <div class=\"playerAvatar online\"> <img src=\"http://cdn.akamai.steamstatic.com/steamcommunity/public/images/avatars/45/45c4d64cb04436f460066eb6a2253a8c5a56510d.jpg\"/> </div> <div class=\"friendBlockContent\"> ✪ Cryonix <span class=\"friendSmallText\"> Online </span> </div> </div> <div class=\"friendBlock persona offline\" data-miniprofile=\"60248307\"> <a class=\"friendBlockLinkOverlay\" href=\"http://steamcommunity.com/id/Birdstronaut\"></a> <div class=\"friendPlayerLevel lvl_20\"> <span class=\"friendPlayerLevelNum\">27</span> </div> <div class=\"playerAvatar offline\"> <img src=\"http://cdn.akamai.steamstatic.com/steamcommunity/public/images/avatars/51/51d7478beac3baeacbea599a278b03271fb82860.jpg\"/> </div> <div class=\"friendBlockContent\"> Wolf <span class=\"friendSmallText\"> Last Online 6 hrs, 59 mins ago </span> </div> </div> <div class=\"friendBlock persona offline\" data-miniprofile=\"110633761\"> <a class=\"friendBlockLinkOverlay\" href=\"http://steamcommunity.com/profiles/76561198070899489\"></a> <div class=\"friendPlayerLevel lvl_20\"> <span class=\"friendPlayerLevelNum\">20</span> </div> <div class=\"playerAvatar offline\"> <img src=\"http://cdn.akamai.steamstatic.com/steamcommunity/public/images/avatars/e2/e2df6e48642efffa18e754aff79197ce49a5f86f.jpg\"/> </div> <div class=\"friendBlockContent\"> Vultrex <span class=\"friendSmallText\"> Last Online 7 hrs, 47 mins ago </span> </div> </div> <div class=\"friendBlock persona offline\" data-miniprofile=\"105526676\"> <a class=\"friendBlockLinkOverlay\" href=\"http://steamcommunity.com/profiles/76561198065792404\"></a> <div class=\"friendPlayerLevel lvl_10\"> <span class=\"friendPlayerLevelNum\">19</span> </div> <div class=\"playerAvatar offline\"> <img src=\"http://cdn.akamai.steamstatic.com/steamcommunity/public/images/avatars/3c/3c332705554e415859ff1c82c28172879e0c224c.jpg\"/> </div> <div class=\"friendBlockContent\"> Simple <span class=\"friendSmallText\"> Last Online 8 hrs, 20 mins ago </span> </div> </div> <div class=\"friendBlock persona offline\" data-miniprofile=\"96947904\"> <a class=\"friendBlockLinkOverlay\" href=\"http://steamcommunity.com/profiles/76561198057213632\"></a> <div class=\"friendPlayerLevel lvl_10\"> <span class=\"friendPlayerLevelNum\">18</span> </div> <div class=\"playerAvatar offline\"> <img src=\"http://cdn.akamai.steamstatic.com/steamcommunity/public/images/avatars/bb/bb82c0a4282b81cb457f29ee1059eb4acf9f1d82.jpg\"/> </div> <div class=\"friendBlockContent\"> ☁☁☁ <span class=\"friendSmallText\"> Last Online 9 hrs, 3 mins ago </span> </div> </div> </div> </div> </div> <div style=\"clear: both;\"></div> </div> </div> </div> <div id=\"footer_spacer\"></div> <div id=\"footer\"> <div class=\"footer_content\"> <span id=\"footerLogo\"><img alt=\"Valve Logo\" border=\"0\" height=\"26\" src=\"http://steamcommunity-a.akamaihd.net/public/images/skin_1/footerLogo_valve.png?v=1\" width=\"96\"/></span> <span id=\"footerText\"> © Valve Corporation. All rights reserved. All trademarks are property of their respective owners in the US and other countries.<br/>Some geospatial data on this website is provided by <a href=\"https://steamcommunity.com/linkfilter/?url=http://www.geonames.org\" target=\"_blank\">geonames.org</a>. <span class=\"valve_links\"> <a href=\"http://store.steampowered.com/privacy_agreement/\" target=\"_blank\">Privacy Policy</a>   |  <a href=\"http://www.valvesoftware.com/legal.htm\" target=\"_blank\">Legal</a>  |  <a href=\"http://store.steampowered.com/subscriber_agreement/\" target=\"_blank\">Steam Subscriber Agreement</a> </span> </span> </div> </div> </body> </html>]"
      ]
     },
     "execution_count": 37,
     "metadata": {},
     "output_type": "execute_result"
    }
   ],
   "source": [
    "profile_soup.contents"
   ]
  },
  {
   "cell_type": "code",
   "execution_count": 38,
   "metadata": {
    "collapsed": false
   },
   "outputs": [
    {
     "data": {
      "text/plain": [
       "{'date_posted': 'February 13, 2015',\n",
       " 'found_funny': '242',\n",
       " 'found_helpful': '5163',\n",
       " 'found_helpful_percentage': 0.9302702702702703,\n",
       " 'friend_player_level': '5',\n",
       " 'hours': '151.9',\n",
       " 'hours_last_2_weeks': '44.3',\n",
       " 'num_comments': '27',\n",
       " 'products_in_account': '20',\n",
       " 'profile_url': 'http://steamcommunity.com/profiles/76561198092689293',\n",
       " 'recommended': 'Recommended',\n",
       " 'review': \"If i had a dollar for each time someone screamed at me in another language, i'd still have no money because i spent it on skins\",\n",
       " 'review_url': 'http://steamcommunity.com/profiles/76561198092689293/recommended/730/?insideModal=1',\n",
       " 'steam_id_number': '76561198092689293',\n",
       " 'total_found_helpful_candidates': '5550',\n",
       " 'username': 'BakeACake'}"
      ]
     },
     "execution_count": 38,
     "metadata": {},
     "output_type": "execute_result"
    }
   ],
   "source": [
    "# First, we can get the player's \"level\" (not exactly sure what the level pertains\n",
    "# to, but we'll try to find out later)\n",
    "review_dict['friend_player_level'] = profile_soup.find('div', 'friendPlayerLevel').string\n",
    "review_dict"
   ]
  },
  {
   "cell_type": "code",
   "execution_count": 39,
   "metadata": {
    "collapsed": false
   },
   "outputs": [
    {
     "data": {
      "text/plain": [
       "{'achievement_progress': {'achievements': '88',\n",
       "  'total_achievements_possible': '167'},\n",
       " 'date_posted': 'February 13, 2015',\n",
       " 'found_funny': '242',\n",
       " 'found_helpful': '5163',\n",
       " 'found_helpful_percentage': 0.9302702702702703,\n",
       " 'friend_player_level': '5',\n",
       " 'hours': '151.9',\n",
       " 'hours_last_2_weeks': '44.3',\n",
       " 'num_comments': '27',\n",
       " 'products_in_account': '20',\n",
       " 'profile_url': 'http://steamcommunity.com/profiles/76561198092689293',\n",
       " 'recommended': 'Recommended',\n",
       " 'review': \"If i had a dollar for each time someone screamed at me in another language, i'd still have no money because i spent it on skins\",\n",
       " 'review_url': 'http://steamcommunity.com/profiles/76561198092689293/recommended/730/?insideModal=1',\n",
       " 'steam_id_number': '76561198092689293',\n",
       " 'total_found_helpful_candidates': '5550',\n",
       " 'username': 'BakeACake'}"
      ]
     },
     "execution_count": 39,
     "metadata": {},
     "output_type": "execute_result"
    }
   ],
   "source": [
    "# Let's collect the game achievements summary data\n",
    "achievements_string_split = list(profile_soup.find('span',\n",
    "                                                   'game_info_achievement_summary').stripped_strings)[1].split()\n",
    "review_dict['achievement_progress'] = dict(achievements=achievements_string_split[0],\n",
    "                                           total_achievements_possible=achievements_string_split[2])\n",
    "review_dict"
   ]
  },
  {
   "cell_type": "code",
   "execution_count": 40,
   "metadata": {
    "collapsed": false
   },
   "outputs": [
    {
     "data": {
      "text/plain": [
       "{'achievement_progress': {'achievements': '88',\n",
       "  'total_achievements_possible': '167'},\n",
       " 'date_posted': 'February 13, 2015',\n",
       " 'found_funny': '242',\n",
       " 'found_helpful': '5163',\n",
       " 'found_helpful_percentage': 0.9302702702702703,\n",
       " 'friend_player_level': '5',\n",
       " 'hours': '151.9',\n",
       " 'hours_last_2_weeks': '44.3',\n",
       " 'num_badges': '4',\n",
       " 'num_comments': '27',\n",
       " 'products_in_account': '20',\n",
       " 'profile_url': 'http://steamcommunity.com/profiles/76561198092689293',\n",
       " 'recommended': 'Recommended',\n",
       " 'review': \"If i had a dollar for each time someone screamed at me in another language, i'd still have no money because i spent it on skins\",\n",
       " 'review_url': 'http://steamcommunity.com/profiles/76561198092689293/recommended/730/?insideModal=1',\n",
       " 'steam_id_number': '76561198092689293',\n",
       " 'total_found_helpful_candidates': '5550',\n",
       " 'username': 'BakeACake'}"
      ]
     },
     "execution_count": 40,
     "metadata": {},
     "output_type": "execute_result"
    }
   ],
   "source": [
    "# We can also collect the total number of badges the player has\n",
    "review_dict['num_badges'] = list(profile_soup.find('div', 'profile_badges').stripped_strings)[1]\n",
    "review_dict"
   ]
  },
  {
   "cell_type": "code",
   "execution_count": 41,
   "metadata": {
    "collapsed": false
   },
   "outputs": [
    {
     "data": {
      "text/plain": [
       "{'achievement_progress': {'achievements': '88',\n",
       "  'total_achievements_possible': '167'},\n",
       " 'date_posted': 'February 13, 2015',\n",
       " 'found_funny': '242',\n",
       " 'found_helpful': '5163',\n",
       " 'found_helpful_percentage': 0.9302702702702703,\n",
       " 'friend_player_level': '5',\n",
       " 'hours': '151.9',\n",
       " 'hours_last_2_weeks': '44.3',\n",
       " 'num_badges': '4',\n",
       " 'num_comments': '27',\n",
       " 'num_reviews': '3',\n",
       " 'num_screenshots': '113',\n",
       " 'products_in_account': '20',\n",
       " 'profile_url': 'http://steamcommunity.com/profiles/76561198092689293',\n",
       " 'recommended': 'Recommended',\n",
       " 'review': \"If i had a dollar for each time someone screamed at me in another language, i'd still have no money because i spent it on skins\",\n",
       " 'review_url': 'http://steamcommunity.com/profiles/76561198092689293/recommended/730/?insideModal=1',\n",
       " 'steam_id_number': '76561198092689293',\n",
       " 'total_found_helpful_candidates': '5550',\n",
       " 'username': 'BakeACake'}"
      ]
     },
     "execution_count": 41,
     "metadata": {},
     "output_type": "execute_result"
    }
   ],
   "source": [
    "# Let's also collect the total number of reviews and screenshots (total number of\n",
    "# games is also available, but it is the same as that stored under the\n",
    "# products_in_account key)\n",
    "profile_counts = list(profile_soup.find('div', 'profile_item_links').stripped_strings)\n",
    "review_dict['num_screenshots'] = profile_counts[3]\n",
    "review_dict['num_reviews'] = profile_counts[5]\n",
    "review_dict"
   ]
  },
  {
   "cell_type": "code",
   "execution_count": 42,
   "metadata": {
    "collapsed": false
   },
   "outputs": [
    {
     "data": {
      "text/plain": [
       "{'achievement_progress': {'achievements': '88',\n",
       "  'total_achievements_possible': '167'},\n",
       " 'date_posted': 'February 13, 2015',\n",
       " 'found_funny': '242',\n",
       " 'found_helpful': '5163',\n",
       " 'found_helpful_percentage': 0.9302702702702703,\n",
       " 'friend_player_level': '5',\n",
       " 'hours': '151.9',\n",
       " 'hours_last_2_weeks': '44.3',\n",
       " 'num_badges': '4',\n",
       " 'num_comments': '27',\n",
       " 'num_groups': '21',\n",
       " 'num_reviews': '3',\n",
       " 'num_screenshots': '113',\n",
       " 'products_in_account': '20',\n",
       " 'profile_url': 'http://steamcommunity.com/profiles/76561198092689293',\n",
       " 'recommended': 'Recommended',\n",
       " 'review': \"If i had a dollar for each time someone screamed at me in another language, i'd still have no money because i spent it on skins\",\n",
       " 'review_url': 'http://steamcommunity.com/profiles/76561198092689293/recommended/730/?insideModal=1',\n",
       " 'steam_id_number': '76561198092689293',\n",
       " 'total_found_helpful_candidates': '5550',\n",
       " 'username': 'BakeACake'}"
      ]
     },
     "execution_count": 42,
     "metadata": {},
     "output_type": "execute_result"
    }
   ],
   "source": [
    "# Finally, let's get the number of groups the reviewer is a member of and the\n",
    "# number of friends the reviewer has on Steam\n",
    "group_counts = list(profile_soup.find('div', 'profile_group_links').stripped_strings)\n",
    "review_dict['num_groups'] = group_counts[1]\n",
    "review_dict"
   ]
  },
  {
   "cell_type": "code",
   "execution_count": 43,
   "metadata": {
    "collapsed": false
   },
   "outputs": [
    {
     "data": {
      "text/plain": [
       "{'achievement_progress': {'achievements': '88',\n",
       "  'total_achievements_possible': '167'},\n",
       " 'date_posted': 'February 13, 2015',\n",
       " 'found_funny': '242',\n",
       " 'found_helpful': '5163',\n",
       " 'found_helpful_percentage': 0.9302702702702703,\n",
       " 'friend_player_level': '5',\n",
       " 'hours': '151.9',\n",
       " 'hours_last_2_weeks': '44.3',\n",
       " 'num_badges': '4',\n",
       " 'num_comments': '27',\n",
       " 'num_friends': '70',\n",
       " 'num_groups': '21',\n",
       " 'num_reviews': '3',\n",
       " 'num_screenshots': '113',\n",
       " 'products_in_account': '20',\n",
       " 'profile_url': 'http://steamcommunity.com/profiles/76561198092689293',\n",
       " 'recommended': 'Recommended',\n",
       " 'review': \"If i had a dollar for each time someone screamed at me in another language, i'd still have no money because i spent it on skins\",\n",
       " 'review_url': 'http://steamcommunity.com/profiles/76561198092689293/recommended/730/?insideModal=1',\n",
       " 'steam_id_number': '76561198092689293',\n",
       " 'total_found_helpful_candidates': '5550',\n",
       " 'username': 'BakeACake'}"
      ]
     },
     "execution_count": 43,
     "metadata": {},
     "output_type": "execute_result"
    }
   ],
   "source": [
    "friend_counts = list(profile_soup.find('div', 'profile_friend_links').stripped_strings)\n",
    "review_dict['num_friends'] = friend_counts[1]\n",
    "review_dict"
   ]
  },
  {
   "cell_type": "code",
   "execution_count": 85,
   "metadata": {
    "collapsed": false
   },
   "outputs": [
    {
     "name": "stdout",
     "output_type": "stream",
     "text": [
      "invalid literal for int() with base 10: 't'\n"
     ]
    }
   ],
   "source": [
    "import sys\n",
    "try:\n",
    "    profile_soup.find('div', 'profile_friend_links').stripped_strings\n",
    "    int(\"t\")\n",
    "except (AttributeError,\n",
    "        ValueError) as e:\n",
    "    print(e)"
   ]
  },
  {
   "cell_type": "code",
   "execution_count": 44,
   "metadata": {
    "collapsed": true
   },
   "outputs": [],
   "source": [
    "# Now that we have figured out a way to collect a lot of data, let's create a\n",
    "# function that will automatically create dictionaries like the one above"
   ]
  },
  {
   "cell_type": "code",
   "execution_count": 45,
   "metadata": {
    "collapsed": false
   },
   "outputs": [],
   "source": [
    "# Will need to make use of the UnicodeDammit method in teh bs4\n",
    "# (BeautifulSoup) because some of the reviews/HTML source contains\n",
    "# text in a non-ascii encoding\n",
    "# I won't get too much into this, just know that it's often an issue and\n",
    "# that we can deal with it by trying a to decode a text with a lot of\n",
    "# different encoding and then re-encode it to ascii\n",
    "# We will also be making use of the sys module, which is part of the\n",
    "# standard library\n",
    "# One other module we will need to make use of is the time module, another\n",
    "# standard library module that allows us to make a program wait for a bit\n",
    "# before moving on, which I'll talk about it in a minute\n",
    "from bs4 import UnicodeDammit\n",
    "import time\n",
    "import sys\n",
    "# These are the codecs that we will try to decode the HTML with. I'm\n",
    "# probably going a little overboard, but I like to be exhaustive\n",
    "codecs = [\"windows-1252\", \"utf8\", \"ascii\", \"cp500\", \"cp850\", \"cp852\",\n",
    "          \"cp858\", \"cp1140\", \"cp1250\", \"iso-8859-1\", \"iso8859_2\",\n",
    "          \"iso8859_15\", \"iso8859_16\", \"mac_roman\", \"mac_latin2\", \"utf32\",\n",
    "          \"utf16\"]"
   ]
  },
  {
   "cell_type": "code",
   "execution_count": 46,
   "metadata": {
    "collapsed": false
   },
   "outputs": [],
   "source": [
    "# Imports\n",
    "import re\n",
    "import sys\n",
    "import time\n",
    "import requests\n",
    "from bs4 import (BeautifulSoup,\n",
    "                 UnicodeDammit)\n",
    "\n",
    "# Define a couple useful regular expressions\n",
    "SPACE = re.compile(r'[\\s]+')\n",
    "BREAKS_REGEX = re.compile(r'\\<br\\>')\n",
    "COMMA = re.compile(r',')\n",
    "\n",
    "# Codecs for use with UnicodeDammit\n",
    "codecs = [\"windows-1252\", \"utf8\", \"ascii\", \"cp500\", \"cp850\", \"cp852\",\n",
    "          \"cp858\", \"cp1140\", \"cp1250\", \"iso-8859-1\", \"iso8859_2\",\n",
    "          \"iso8859_15\", \"iso8859_16\", \"mac_roman\", \"mac_latin2\", \"utf32\",\n",
    "          \"utf16\"]\n",
    "\n",
    "def get_review_data_for_game(appid, time_out=0.5, limit=0, sleep=10):\n",
    "    '''\n",
    "    Generate dictionaries for each review for a given game.\n",
    "\n",
    "    The dictionaries will contain keys for the review text, the reviewer ID,\n",
    "    the reviewer's user-name, the number of friends the reviewer has, the\n",
    "    the number of reviews the reviewer has written, and much more.\n",
    "\n",
    "    :param appid: ID corresponding to a given game\n",
    "    :type appid: str\n",
    "    :param timeout: amount of time allowed to go by without hearing\n",
    "                    response while using requests.get() method\n",
    "    :type timeout: float\n",
    "    :param limit: the maximum number of reviews to collect\n",
    "    :type limit: int (default: 0, which signifies all)\n",
    "    :param sleep: amount of time to wait between reading different pages on\n",
    "                  Steam\n",
    "    :type sleep: int/float\n",
    "    :yields: dictionary with keys for various pieces of data related to a\n",
    "             single review, including the review itself, the number of hours\n",
    "             the reviewer has played the game, etc.\n",
    "    '''\n",
    "\n",
    "    if limit == 0:\n",
    "        limit = -1\n",
    "    range_begin = 0\n",
    "    i = 1\n",
    "    reviews_count = 0\n",
    "    while True:\n",
    "        # Get unique URL for values of range_begin and i\n",
    "        base_url = 'http://steamcommunity.com/app/{2}/homecontent/?user' \\\n",
    "                   'reviewsoffset={0}&p=1&itemspage={1}&screenshotspage' \\\n",
    "                   '={1}&videospage={1}&artpage={1}&allguidepage={1}&web' \\\n",
    "                   'guidepage={1}&integratedguidepage={1}&discussionspage' \\\n",
    "                   '={1}&appid={2}&appHubSubSection=10&appHubSubSection=' \\\n",
    "                   '10&l=english&browsefilter=toprated&filterLanguage=' \\\n",
    "                   'default&searchText=&forceanon=1'.format(range_begin,\n",
    "                                                            i,\n",
    "                                                            appid)\n",
    "        # Get the URL content\n",
    "        base_page = None\n",
    "        time.sleep(sleep)\n",
    "        # Get the HTML page; if there's a timeout error, then catch it and\n",
    "        # exit out of the loop, effectively ending the function.\n",
    "        try:\n",
    "            base_page = requests.get(base_url,\n",
    "                                     timeout=time_out)\n",
    "        except requests.exceptions.Timeout as e:\n",
    "            print(\"There was a Timeout error...\")\n",
    "            break\n",
    "        # If there's nothing at this URL, page might have no value at all,\n",
    "        # in which case we should break out of the loop\n",
    "        # Another situation where we'd want to exit from the loop is if the\n",
    "        # page.text contains only an empty string or a string that has only\n",
    "        # a sequence of one or more spaces\n",
    "        if not base_page:\n",
    "            break\n",
    "        elif not base_page.text.strip():\n",
    "            break\n",
    "        # Preprocess the HTML source, getting rid of \"<br>\" tags and\n",
    "        # replacing any sequence of one or more carriage returns or\n",
    "        # whitespace characters with a single space\n",
    "        base_html = SPACE.sub(r' ',\n",
    "                              BREAKS_REGEX.sub(r' ',\n",
    "                                               base_page.text.strip()))\n",
    "        # Try to decode the HTML to unicode and then re-encode the text\n",
    "        # with ASCII, ignoring any characters that can't be represented\n",
    "        # with ASCII\n",
    "        base_html = UnicodeDammit(base_html,\n",
    "                                  codecs).unicode_markup.encode('ascii',\n",
    "                                                                'ignore')\n",
    "\n",
    "        # Parse the source HTML with BeautifulSoup\n",
    "        source_soup = BeautifulSoup(base_html,\n",
    "                                    'lxml')\n",
    "        reviews = soup.find_all('div',\n",
    "                                'apphub_Card interactable')\n",
    "\n",
    "        # Iterate over the reviews in the source HTML and find data for\n",
    "        # each review, yielding a dictionary\n",
    "        for review in reviews:\n",
    "\n",
    "            # Get links to review URL, profile URL, Steam ID number\n",
    "            review_url = review.attrs['onclick'].split(' ',\n",
    "                                                       2)[1].strip(\"',\")\n",
    "            review_url_split = review_url.split('/')\n",
    "            steam_id_number = review_url_split[4]\n",
    "            profile_url = '/'.join(review_url_split[:5])\n",
    "\n",
    "            # Get other data within the base reviews page\n",
    "            stripped_strings = list(review.stripped_strings)\n",
    "            # Parsing the HTML in this way depends on stripped_strings\n",
    "            # having a length of at least 8\n",
    "            if len(stripped_strings) >= 8:\n",
    "                print(stripped_strings)\n",
    "                # Extracting data from the text that supplies the number\n",
    "                # of users who found the review helpful and/or funny\n",
    "                # depends on a couple facts\n",
    "                helpful_and_funny_list = stripped_strings[0].split()\n",
    "                if (helpful_and_funny_list[8] == 'helpful'\n",
    "                    and len(helpful_and_funny_list) == 15):\n",
    "                    helpful = helpful_and_funny_list[:9]\n",
    "                    funny = helpful_and_funny_list[9:]\n",
    "                    num_found_helpful = int(COMMA.sub(r'',\n",
    "                                                  helpful[0]))\n",
    "                    num_voted_helpfulness = int(COMMA.sub(r'',\n",
    "                                                          helpful[2]))\n",
    "                    num_found_unhelpful = \\\n",
    "                        num_voted_helpfulness - num_found_helpful\n",
    "                    found_helpful_percentage = \\\n",
    "                        float(num_found_helpful)/num_voted_helpfulness\n",
    "                    num_found_funny = funny[0]\n",
    "                recommended = stripped_strings[1]\n",
    "                total_game_hours = COMMA.sub(r'',\n",
    "                                             stripped_strings[2]\n",
    "                                             .split()[0])\n",
    "                date_posted = '{}, 2015'.format(stripped_strings[3][8:])\n",
    "                review_text = ' '.join(stripped_strings[4:-3])\n",
    "                num_games_owned = stripped_strings[-2].split()[0]\n",
    "            else:\n",
    "                sys.stderr.write('Found incorrect number of '\n",
    "                                 '\"stripped_strings\" in review HTML '\n",
    "                                 'element. stripped_strings: {}\\n'\n",
    "                                 'Continuing.'\n",
    "                                 .format(stripped_strings))\n",
    "                continue\n",
    "\n",
    "            # Make dictionary for holding all the data related to the\n",
    "            # review\n",
    "            review_dict = \\\n",
    "                dict(review_url=review_url,\n",
    "                     recommended=recommended,\n",
    "                     total_game_hours=total_game_hours,\n",
    "                     date_posted=date_posted,\n",
    "                     review=review_text,\n",
    "                     num_games_owned=num_games_owned,\n",
    "                     num_found_helpful=num_found_helpful,\n",
    "                     num_found_unhelpful=num_found_unhelpful,\n",
    "                     num_voted_helpfulness=num_voted_helpfulness,\n",
    "                     found_helpful_percentage=found_helpful_percentage,\n",
    "                     num_found_funny=num_found_funny,\n",
    "                     steam_id_number=steam_id_number,\n",
    "                     profile_url=profile_url)\n",
    "\n",
    "            # Follow links to profile and review pages and collect data\n",
    "            # from there\n",
    "            time.sleep(sleep)\n",
    "            review_page = requests.get(review_dict['review_url'])\n",
    "            time.sleep(sleep)\n",
    "            profile_page = requests.get(review_dict['profile_url'])\n",
    "            review_page_html = review_page.text\n",
    "            profile_page_html = profile_page.text\n",
    "\n",
    "            # Preprocess HTML and try to decode the HTML to unicode and\n",
    "            # then re-encode the text with ASCII, ignoring any characters\n",
    "            # that can't be represented with ASCII\n",
    "            review_page_html = \\\n",
    "                SPACE.sub(r' ',\n",
    "                          BREAKS_REGEX.sub(r' ',\n",
    "                                           review_page_html.strip()))\n",
    "            review_page_html = \\\n",
    "                UnicodeDammit(review_page_html,\n",
    "                              codecs).unicode_markup.encode('ascii',\n",
    "                                                            'ignore')\n",
    "            profile_page_html = \\\n",
    "                SPACE.sub(r' ',\n",
    "                          BREAKS_REGEX.sub(r' ',\n",
    "                                           profile_page_html.strip()))\n",
    "            profile_page_html = \\\n",
    "                UnicodeDammit(profile_page_html,\n",
    "                              codecs).unicode_markup.encode('ascii',\n",
    "                                                            'ignore')\n",
    "\n",
    "            # Now use BeautifulSoup to parse the HTML\n",
    "            review_soup = BeautifulSoup(review_page_html,\n",
    "                                        'lxml')\n",
    "            profile_soup = BeautifulSoup(profile_page_html,\n",
    "                                         'lxml')\n",
    "\n",
    "            # Get the user-name from the review page\n",
    "            review_dict['username'] = \\\n",
    "                review_soup.find('span',\n",
    "                                 'profile_small_header_name').string\n",
    "\n",
    "            # Get the number of hours the reviewer played the game in the\n",
    "            # last 2 weeks\n",
    "            review_dict['hours_previous_2_weeks'] = \\\n",
    "                COMMA.sub(r'',\n",
    "                          review_soup.find('div',\n",
    "                                           'playTime').string.split()[0])\n",
    "\n",
    "            # Get the number of comments users made on the review (if any)\n",
    "            review_dict['num_comments'] = \\\n",
    "                COMMA.sub(r'',\n",
    "                          list(review_soup\n",
    "                               .find('div',\n",
    "                                     'commentthread_count')\n",
    "                               .strings)[1])\n",
    "\n",
    "            # Get the reviewer's \"level\" (friend player level)\n",
    "            friend_player_level = profile_soup.find('div',\n",
    "                                                    'friendPlayerLevel')\n",
    "            if friend_player_level:\n",
    "                review_dict['friend_player_level'] = \\\n",
    "                    friend_player_level.string\n",
    "            else:\n",
    "                review_dict['friend_player_level'] = None\n",
    "\n",
    "            # Get the game achievements summary data\n",
    "            achievements = \\\n",
    "                profile_soup.find('span',\n",
    "                                  'game_info_achievement_summary')\n",
    "            if achievements:\n",
    "                achievements = achievements.stripped_strings\n",
    "                if achievements:\n",
    "                    achievements = list(achievements)[1].split()\n",
    "                    review_dict['achievement_progress'] = \\\n",
    "                        dict(num_achievements_attained=achievements[0],\n",
    "                             num_achievements_possible=achievements[2])\n",
    "                else:\n",
    "                    review_dict['achievement_progress'] = \\\n",
    "                        dict(num_achievements_attained=None,\n",
    "                             num_achievements_possible=None)\n",
    "            else:\n",
    "                review_dict['achievement_progress'] = \\\n",
    "                    dict(num_achievements_attained=None,\n",
    "                         num_achievements_possible=None)\n",
    "\n",
    "            # Get the number of badges the reviewer has earned on the site\n",
    "            badges = profile_soup.find('div',\n",
    "                                       'profile_badges')\n",
    "            if badges:\n",
    "                badges = badges.stripped_strings\n",
    "                if badges:\n",
    "                    review_dict['num_badges'] = list(badges)[1]\n",
    "                else:\n",
    "                    review_dict['num_badges'] = None\n",
    "            else:\n",
    "                review_dict['num_badges'] = None\n",
    "\n",
    "            # Get the number of reviews the reviewer has written across all\n",
    "            # games and the number of screenshots he/she has taken\n",
    "            reviews_screens = profile_soup.find('div',\n",
    "                                                'profile_item_links')\n",
    "            if reviews_screens:\n",
    "                reviews_screens = reviews_screens.stripped_strings\n",
    "                if reviews_screens:\n",
    "                    reviews_screens = list(reviews_screens)\n",
    "                    review_dict['num_screenshots'] = reviews_screens[3]\n",
    "                    review_dict['num_reviews'] = reviews_screens[5]\n",
    "                else:\n",
    "                    review_dict['num_screenshots'] = None\n",
    "                    review_dict['num_reviews'] = None\n",
    "            else:\n",
    "                review_dict['num_screenshots'] = None\n",
    "                review_dict['num_reviews'] = None\n",
    "\n",
    "            # Get the number of groups the reviewer is part of on the site\n",
    "            groups = profile_soup.find('div',\n",
    "                                       'profile_group_links')\n",
    "            if groups:\n",
    "                groups = groups.stripped_strings\n",
    "                if groups:\n",
    "                    review_dict['num_groups'] = list(groups)[1]\n",
    "                else:\n",
    "                    review_dict['num_groups'] = None\n",
    "            else:\n",
    "                review_dict['num_groups'] = None\n",
    "\n",
    "            # Get the number of friends the reviwer has on the site\n",
    "            friends = profile_soup.find('div',\n",
    "                                        'profile_friend_links')\n",
    "            if friends:\n",
    "                friends = friends.stripped_strings\n",
    "                if friends:\n",
    "                    review_dict['num_friends'] = list(friends)[1]\n",
    "                else:\n",
    "                    review_dict['num_friends'] = None\n",
    "            else:\n",
    "                review_dict['num_friends'] = None\n",
    "\n",
    "            yield review_dict\n",
    "\n",
    "            reviews_count += 1\n",
    "            if reviews_count == limit:\n",
    "                break\n",
    "\n",
    "        if reviews_count == limit:\n",
    "            break\n",
    "\n",
    "        # Increment the range_begin and i variables, which will be used in\n",
    "        # the generation of the next page of reviews\n",
    "        range_begin += 10\n",
    "        i += 1"
   ]
  },
  {
   "cell_type": "code",
   "execution_count": 47,
   "metadata": {
    "collapsed": false
   },
   "outputs": [
    {
     "name": "stdout",
     "output_type": "stream",
     "text": [
      "['5,163 of 5,550 people (93%) found this review helpful 242 people found this review funny', 'Recommended', '151.9 hrs on record', 'Posted: February 13', \"If i had a dollar for each time someone screamed at me in another language, i'd still have no money because i spent it on skins\", 'BakeACake', '20 products in account', '27']\n",
      "['8,925 of 9,744 people (92%) found this review helpful 145 people found this review funny', 'Recommended', '341.3 hrs on record', 'Posted: February 1', \"It's like roulette; fun until it turns into Russian.\", 'Delta', '124 products in account', '69']\n",
      "['15,517 of 17,300 people (90%) found this review helpful 1 person found this review funny', 'Recommended', '1,176.1 hrs on record', 'Posted: February 27, 2014', 'you either die a noob or live long enough to get called a hacker', 'compliKATIEd', '114 products in account', '174']\n",
      "['3,571 of 3,956 people (90%) found this review helpful 42 people found this review funny', 'Recommended', '554.6 hrs on record', 'Posted: January 14', 'Your self-esteem either dies in this game or it inflates to unbearable proportions.', 'Knalraap', '390 products in account', '27']\n",
      "['19,679 of 22,004 people (89%) found this review helpful 1 person found this review funny', 'Recommended', '723.8 hrs on record', 'Posted: July 13, 2014', 'Kill someone with a P90 - \"You\\'re a fuc**** noob!! Noob weapon!!\" Kill someone with a P90 through a smoke - \"You\\'re a fuc**** hacker!!\" Kill someone with a AWP - \"You\\'re a fuc**** noob!! Noob weapon!!\" Kill someone with a AWP through a door - \"You\\'re a fuc**** hacker!!\" In a 1 vs 5 you die - \"You\\'re a fuc**** noob!!\" In a 1 vs 5 you win - \"You\\'re a fuc**** hacker!!\" Kill someone with a headshot - \"Hacker!!\" Get headshoted by someone - \"Owned!!\" and get teabagged Kill someone with a grenade - \"Luck!!\" Get killed by someone with a grenade - \"AHAHAHAHA\" Get teamkilled by someone - \"Get out of the way you fuc**** idiot!!\" Accidentally teamkill someone - \"You\\'re a fuc**** idiot!!\" Blocked by someone - Dies Accidentally blocks someone - \"Get out the way you fuc**** idiot!!\" Decide to save - \"You\\'re a fuc**** coward!!\" Decide not to save - \"Save you fuc**** idiot!!\" Kill someone while defending the bomb - \"You fuc**** camper!!\" Kill someone while defending the hostages - \"You fuc**** camper!!\" Someone dies - The deceased one starts to rage Your team lose the round - Your team starts to rage Your team is losing 10-2 - Someone rages quit Go to the balcony in Italy - \"You fuc**** hacker!!\" Worst guy receives a drop - \"Are you fuc**** serious!?\" Warm up - Everybody tries to spawn kill Score is 5-1 in your favor - \"This is a T map!\" Score is 1-5 againts you - \"This is a CT map!\" Lose the first 2 rounds - Someone asks to get kicked Last round - Everybody buys Negev Your team is loosinh and you are in last - Someone vote kicks you Win a match - All enemy team rages Lose a match - Yout team rages Someone\\'s Internet crashes - 30 minutes ban Your Internet crashes - 7 days ban 10/10 Best rage simulator out there!', 'Fokogrilo', '219 products in account', '519']\n",
      "['10,344 of 11,556 people (90%) found this review helpful 3 people found this review funny', 'Recommended', '82.0 hrs on record', 'Posted: September 1, 2014', 'Bought this game, played online, learned fluent russian 2 weeks later.', 'Mr. Palliman', '59 products in account', '132']\n",
      "['8,158 of 9,148 people (89%) found this review helpful 139 people found this review funny', 'Recommended', '424.8 hrs on record', 'Posted: January 24', '>see a guy >shoot him >miss every shot >he turns around >kills me in one shot >exit cs:go 10/10', 'Zooma', '9 products in account', '81']\n",
      "['7,863 of 8,842 people (89%) found this review helpful 295 people found this review funny', 'Recommended', '3,415.4 hrs on record', 'Posted: March 17', 'Revan was only 23 years old. He loved CS:GO so much. He had most of the achievements and items. He prayed to Gaben every night before bed, thanking him for the inventory he\\'s been given. \"CS:GO is love,\" he says, \"CS:GO is life.\" His elder Dragon hears him and calls him a silver scrublord. He knows his elder is just jealous of his son\\'s devotion to Gabe. He calls him a console peasant. He slaps him and sends him to sleep. He\\'s crying now and his face hurts. He lays in bed, and it\\'s really cold. He feels a warmth moving towards him. He looks up. It\\'s Gabe! He\\'s so happy, Gabe whispers into Revan\\'s ear, \"Try your chances... Open a case.\" Gaben grabs Revan with his powerful dev-team hands and puts him on his hands and knees. He\\'s ready. Revan opens his pockets for Gabe. Gabe puts his hands deep into Revan\\'s pockets. It costs so much, but Revan does it for CS:GO. Revan can feel his wallet emptying as his eyes start to water. He accepts the terms and conditions. Revan wants to please Gabe. Gaben lets out a mighty roar as he fills Revan\\'s computer with keys. Revan opens all the cases and gets nothing worth anything at all.', 'CS:GO is love... CS:GO is life... \\ufeff', '¤Revan The Anthro Dragon¤', '181 products in account', '179']\n",
      "['5,066 of 5,692 people (89%) found this review helpful 2 people found this review funny', 'Recommended', '296.2 hrs on record', 'Posted: December 14, 2014', 'Knife = free Knife with paint on it = 200$', 'Sir Grayson', '152 products in account', '29']\n",
      "['11,568 of 13,088 people (88%) found this review helpful 1 person found this review funny', 'Recommended', '953.3 hrs on record', 'Posted: November 1, 2014', 'Knife in real life: 10$ Knife in game: 400$ 10/10', 'Enderborn', '162 products in account', '114']\n",
      "['5,163 of 5,550 people (93%) found this review helpful 242 people found this review funny', 'Recommended', '151.9 hrs on record', 'Posted: February 13', \"If i had a dollar for each time someone screamed at me in another language, i'd still have no money because i spent it on skins\", 'BakeACake', '20 products in account', '27']\n",
      "['8,925 of 9,744 people (92%) found this review helpful 145 people found this review funny', 'Recommended', '341.3 hrs on record', 'Posted: February 1', \"It's like roulette; fun until it turns into Russian.\", 'Delta', '124 products in account', '69']\n",
      "['15,517 of 17,300 people (90%) found this review helpful 1 person found this review funny', 'Recommended', '1,176.1 hrs on record', 'Posted: February 27, 2014', 'you either die a noob or live long enough to get called a hacker', 'compliKATIEd', '114 products in account', '174']\n",
      "['3,571 of 3,956 people (90%) found this review helpful 42 people found this review funny', 'Recommended', '554.6 hrs on record', 'Posted: January 14', 'Your self-esteem either dies in this game or it inflates to unbearable proportions.', 'Knalraap', '390 products in account', '27']\n",
      "['19,679 of 22,004 people (89%) found this review helpful 1 person found this review funny', 'Recommended', '723.8 hrs on record', 'Posted: July 13, 2014', 'Kill someone with a P90 - \"You\\'re a fuc**** noob!! Noob weapon!!\" Kill someone with a P90 through a smoke - \"You\\'re a fuc**** hacker!!\" Kill someone with a AWP - \"You\\'re a fuc**** noob!! Noob weapon!!\" Kill someone with a AWP through a door - \"You\\'re a fuc**** hacker!!\" In a 1 vs 5 you die - \"You\\'re a fuc**** noob!!\" In a 1 vs 5 you win - \"You\\'re a fuc**** hacker!!\" Kill someone with a headshot - \"Hacker!!\" Get headshoted by someone - \"Owned!!\" and get teabagged Kill someone with a grenade - \"Luck!!\" Get killed by someone with a grenade - \"AHAHAHAHA\" Get teamkilled by someone - \"Get out of the way you fuc**** idiot!!\" Accidentally teamkill someone - \"You\\'re a fuc**** idiot!!\" Blocked by someone - Dies Accidentally blocks someone - \"Get out the way you fuc**** idiot!!\" Decide to save - \"You\\'re a fuc**** coward!!\" Decide not to save - \"Save you fuc**** idiot!!\" Kill someone while defending the bomb - \"You fuc**** camper!!\" Kill someone while defending the hostages - \"You fuc**** camper!!\" Someone dies - The deceased one starts to rage Your team lose the round - Your team starts to rage Your team is losing 10-2 - Someone rages quit Go to the balcony in Italy - \"You fuc**** hacker!!\" Worst guy receives a drop - \"Are you fuc**** serious!?\" Warm up - Everybody tries to spawn kill Score is 5-1 in your favor - \"This is a T map!\" Score is 1-5 againts you - \"This is a CT map!\" Lose the first 2 rounds - Someone asks to get kicked Last round - Everybody buys Negev Your team is loosinh and you are in last - Someone vote kicks you Win a match - All enemy team rages Lose a match - Yout team rages Someone\\'s Internet crashes - 30 minutes ban Your Internet crashes - 7 days ban 10/10 Best rage simulator out there!', 'Fokogrilo', '219 products in account', '519']\n",
      "['10,344 of 11,556 people (90%) found this review helpful 3 people found this review funny', 'Recommended', '82.0 hrs on record', 'Posted: September 1, 2014', 'Bought this game, played online, learned fluent russian 2 weeks later.', 'Mr. Palliman', '59 products in account', '132']\n",
      "['8,158 of 9,148 people (89%) found this review helpful 139 people found this review funny', 'Recommended', '424.8 hrs on record', 'Posted: January 24', '>see a guy >shoot him >miss every shot >he turns around >kills me in one shot >exit cs:go 10/10', 'Zooma', '9 products in account', '81']\n",
      "['7,863 of 8,842 people (89%) found this review helpful 295 people found this review funny', 'Recommended', '3,415.4 hrs on record', 'Posted: March 17', 'Revan was only 23 years old. He loved CS:GO so much. He had most of the achievements and items. He prayed to Gaben every night before bed, thanking him for the inventory he\\'s been given. \"CS:GO is love,\" he says, \"CS:GO is life.\" His elder Dragon hears him and calls him a silver scrublord. He knows his elder is just jealous of his son\\'s devotion to Gabe. He calls him a console peasant. He slaps him and sends him to sleep. He\\'s crying now and his face hurts. He lays in bed, and it\\'s really cold. He feels a warmth moving towards him. He looks up. It\\'s Gabe! He\\'s so happy, Gabe whispers into Revan\\'s ear, \"Try your chances... Open a case.\" Gaben grabs Revan with his powerful dev-team hands and puts him on his hands and knees. He\\'s ready. Revan opens his pockets for Gabe. Gabe puts his hands deep into Revan\\'s pockets. It costs so much, but Revan does it for CS:GO. Revan can feel his wallet emptying as his eyes start to water. He accepts the terms and conditions. Revan wants to please Gabe. Gaben lets out a mighty roar as he fills Revan\\'s computer with keys. Revan opens all the cases and gets nothing worth anything at all.', 'CS:GO is love... CS:GO is life... \\ufeff', '¤Revan The Anthro Dragon¤', '181 products in account', '179']\n",
      "['5,066 of 5,692 people (89%) found this review helpful 2 people found this review funny', 'Recommended', '296.2 hrs on record', 'Posted: December 14, 2014', 'Knife = free Knife with paint on it = 200$', 'Sir Grayson', '152 products in account', '29']\n",
      "['11,568 of 13,088 people (88%) found this review helpful 1 person found this review funny', 'Recommended', '953.3 hrs on record', 'Posted: November 1, 2014', 'Knife in real life: 10$ Knife in game: 400$ 10/10', 'Enderborn', '162 products in account', '114']\n",
      "['5,163 of 5,550 people (93%) found this review helpful 242 people found this review funny', 'Recommended', '151.9 hrs on record', 'Posted: February 13', \"If i had a dollar for each time someone screamed at me in another language, i'd still have no money because i spent it on skins\", 'BakeACake', '20 products in account', '27']\n",
      "['8,925 of 9,744 people (92%) found this review helpful 145 people found this review funny', 'Recommended', '341.3 hrs on record', 'Posted: February 1', \"It's like roulette; fun until it turns into Russian.\", 'Delta', '124 products in account', '69']\n",
      "['15,517 of 17,300 people (90%) found this review helpful 1 person found this review funny', 'Recommended', '1,176.1 hrs on record', 'Posted: February 27, 2014', 'you either die a noob or live long enough to get called a hacker', 'compliKATIEd', '114 products in account', '174']\n",
      "['3,571 of 3,956 people (90%) found this review helpful 42 people found this review funny', 'Recommended', '554.6 hrs on record', 'Posted: January 14', 'Your self-esteem either dies in this game or it inflates to unbearable proportions.', 'Knalraap', '390 products in account', '27']\n",
      "['19,679 of 22,004 people (89%) found this review helpful 1 person found this review funny', 'Recommended', '723.8 hrs on record', 'Posted: July 13, 2014', 'Kill someone with a P90 - \"You\\'re a fuc**** noob!! Noob weapon!!\" Kill someone with a P90 through a smoke - \"You\\'re a fuc**** hacker!!\" Kill someone with a AWP - \"You\\'re a fuc**** noob!! Noob weapon!!\" Kill someone with a AWP through a door - \"You\\'re a fuc**** hacker!!\" In a 1 vs 5 you die - \"You\\'re a fuc**** noob!!\" In a 1 vs 5 you win - \"You\\'re a fuc**** hacker!!\" Kill someone with a headshot - \"Hacker!!\" Get headshoted by someone - \"Owned!!\" and get teabagged Kill someone with a grenade - \"Luck!!\" Get killed by someone with a grenade - \"AHAHAHAHA\" Get teamkilled by someone - \"Get out of the way you fuc**** idiot!!\" Accidentally teamkill someone - \"You\\'re a fuc**** idiot!!\" Blocked by someone - Dies Accidentally blocks someone - \"Get out the way you fuc**** idiot!!\" Decide to save - \"You\\'re a fuc**** coward!!\" Decide not to save - \"Save you fuc**** idiot!!\" Kill someone while defending the bomb - \"You fuc**** camper!!\" Kill someone while defending the hostages - \"You fuc**** camper!!\" Someone dies - The deceased one starts to rage Your team lose the round - Your team starts to rage Your team is losing 10-2 - Someone rages quit Go to the balcony in Italy - \"You fuc**** hacker!!\" Worst guy receives a drop - \"Are you fuc**** serious!?\" Warm up - Everybody tries to spawn kill Score is 5-1 in your favor - \"This is a T map!\" Score is 1-5 againts you - \"This is a CT map!\" Lose the first 2 rounds - Someone asks to get kicked Last round - Everybody buys Negev Your team is loosinh and you are in last - Someone vote kicks you Win a match - All enemy team rages Lose a match - Yout team rages Someone\\'s Internet crashes - 30 minutes ban Your Internet crashes - 7 days ban 10/10 Best rage simulator out there!', 'Fokogrilo', '219 products in account', '519']\n",
      "['10,344 of 11,556 people (90%) found this review helpful 3 people found this review funny', 'Recommended', '82.0 hrs on record', 'Posted: September 1, 2014', 'Bought this game, played online, learned fluent russian 2 weeks later.', 'Mr. Palliman', '59 products in account', '132']\n",
      "['8,158 of 9,148 people (89%) found this review helpful 139 people found this review funny', 'Recommended', '424.8 hrs on record', 'Posted: January 24', '>see a guy >shoot him >miss every shot >he turns around >kills me in one shot >exit cs:go 10/10', 'Zooma', '9 products in account', '81']\n",
      "['7,863 of 8,842 people (89%) found this review helpful 295 people found this review funny', 'Recommended', '3,415.4 hrs on record', 'Posted: March 17', 'Revan was only 23 years old. He loved CS:GO so much. He had most of the achievements and items. He prayed to Gaben every night before bed, thanking him for the inventory he\\'s been given. \"CS:GO is love,\" he says, \"CS:GO is life.\" His elder Dragon hears him and calls him a silver scrublord. He knows his elder is just jealous of his son\\'s devotion to Gabe. He calls him a console peasant. He slaps him and sends him to sleep. He\\'s crying now and his face hurts. He lays in bed, and it\\'s really cold. He feels a warmth moving towards him. He looks up. It\\'s Gabe! He\\'s so happy, Gabe whispers into Revan\\'s ear, \"Try your chances... Open a case.\" Gaben grabs Revan with his powerful dev-team hands and puts him on his hands and knees. He\\'s ready. Revan opens his pockets for Gabe. Gabe puts his hands deep into Revan\\'s pockets. It costs so much, but Revan does it for CS:GO. Revan can feel his wallet emptying as his eyes start to water. He accepts the terms and conditions. Revan wants to please Gabe. Gaben lets out a mighty roar as he fills Revan\\'s computer with keys. Revan opens all the cases and gets nothing worth anything at all.', 'CS:GO is love... CS:GO is life... \\ufeff', '¤Revan The Anthro Dragon¤', '181 products in account', '179']\n",
      "['5,066 of 5,692 people (89%) found this review helpful 2 people found this review funny', 'Recommended', '296.2 hrs on record', 'Posted: December 14, 2014', 'Knife = free Knife with paint on it = 200$', 'Sir Grayson', '152 products in account', '29']\n",
      "['11,568 of 13,088 people (88%) found this review helpful 1 person found this review funny', 'Recommended', '953.3 hrs on record', 'Posted: November 1, 2014', 'Knife in real life: 10$ Knife in game: 400$ 10/10', 'Enderborn', '162 products in account', '114']\n",
      "['5,163 of 5,550 people (93%) found this review helpful 242 people found this review funny', 'Recommended', '151.9 hrs on record', 'Posted: February 13', \"If i had a dollar for each time someone screamed at me in another language, i'd still have no money because i spent it on skins\", 'BakeACake', '20 products in account', '27']\n",
      "['8,925 of 9,744 people (92%) found this review helpful 145 people found this review funny', 'Recommended', '341.3 hrs on record', 'Posted: February 1', \"It's like roulette; fun until it turns into Russian.\", 'Delta', '124 products in account', '69']\n",
      "['15,517 of 17,300 people (90%) found this review helpful 1 person found this review funny', 'Recommended', '1,176.1 hrs on record', 'Posted: February 27, 2014', 'you either die a noob or live long enough to get called a hacker', 'compliKATIEd', '114 products in account', '174']\n"
     ]
    }
   ],
   "source": [
    "# Alright, let's see if that worked\n",
    "# We'll create an empty set of reviews and as each new set of reviews is\n",
    "# generated by the function, we'll add in all of the reviews in the set\n",
    "# to the set of reviews (if any are duplicates, they will not be added)\n",
    "reviews = [review for review in get_review_data_for_game('730',\n",
    "                                                         time_out=3.0,\n",
    "                                                         limit=33)]"
   ]
  },
  {
   "cell_type": "code",
   "execution_count": 48,
   "metadata": {
    "collapsed": false,
    "scrolled": true
   },
   "outputs": [
    {
     "data": {
      "text/plain": [
       "[{'achievement_progress': {'num_achievements_attained': '88',\n",
       "   'num_achievements_possible': '167'},\n",
       "  'date_posted': 'February 13, 2015',\n",
       "  'found_helpful_percentage': 0.9302702702702703,\n",
       "  'friend_player_level': '5',\n",
       "  'hours_previous_2_weeks': '44.3',\n",
       "  'num_badges': '4',\n",
       "  'num_comments': '27',\n",
       "  'num_found_funny': '242',\n",
       "  'num_found_helpful': 5163,\n",
       "  'num_found_unhelpful': 387,\n",
       "  'num_friends': '70',\n",
       "  'num_games_owned': '20',\n",
       "  'num_groups': '21',\n",
       "  'num_reviews': '3',\n",
       "  'num_screenshots': '113',\n",
       "  'num_voted_helpfulness': 5550,\n",
       "  'profile_url': 'http://steamcommunity.com/profiles/76561198092689293',\n",
       "  'recommended': 'Recommended',\n",
       "  'review': \"If i had a dollar for each time someone screamed at me in another language, i'd still have no money because i spent it on skins\",\n",
       "  'review_url': 'http://steamcommunity.com/profiles/76561198092689293/recommended/730/?insideModal=1',\n",
       "  'steam_id_number': '76561198092689293',\n",
       "  'total_game_hours': '151.9',\n",
       "  'username': 'BakeACake'},\n",
       " {'achievement_progress': {'num_achievements_attained': '22',\n",
       "   'num_achievements_possible': '29'},\n",
       "  'date_posted': 'February 1, 2015',\n",
       "  'found_helpful_percentage': 0.915948275862069,\n",
       "  'friend_player_level': '12',\n",
       "  'hours_previous_2_weeks': '40.9',\n",
       "  'num_badges': '9',\n",
       "  'num_comments': '69',\n",
       "  'num_found_funny': '145',\n",
       "  'num_found_helpful': 8925,\n",
       "  'num_found_unhelpful': 819,\n",
       "  'num_friends': '241',\n",
       "  'num_games_owned': '124',\n",
       "  'num_groups': '5',\n",
       "  'num_reviews': '1',\n",
       "  'num_screenshots': '238',\n",
       "  'num_voted_helpfulness': 9744,\n",
       "  'profile_url': 'http://steamcommunity.com/id/Delta3D',\n",
       "  'recommended': 'Recommended',\n",
       "  'review': \"It's like roulette; fun until it turns into Russian.\",\n",
       "  'review_url': 'http://steamcommunity.com/id/Delta3D/recommended/730/?insideModal=1',\n",
       "  'steam_id_number': 'Delta3D',\n",
       "  'total_game_hours': '341.3',\n",
       "  'username': 'Delta'},\n",
       " {'achievement_progress': {'num_achievements_attained': '1',\n",
       "   'num_achievements_possible': '75'},\n",
       "  'date_posted': 'February 27, 2014, 2015',\n",
       "  'found_helpful_percentage': 0.8969364161849711,\n",
       "  'friend_player_level': '19',\n",
       "  'hours_previous_2_weeks': '14.0',\n",
       "  'num_badges': '17',\n",
       "  'num_comments': '174',\n",
       "  'num_found_funny': '1',\n",
       "  'num_found_helpful': 15517,\n",
       "  'num_found_unhelpful': 1783,\n",
       "  'num_friends': '158',\n",
       "  'num_games_owned': '114',\n",
       "  'num_groups': '6',\n",
       "  'num_reviews': '4',\n",
       "  'num_screenshots': '82',\n",
       "  'num_voted_helpfulness': 17300,\n",
       "  'profile_url': 'http://steamcommunity.com/id/kadiv',\n",
       "  'recommended': 'Recommended',\n",
       "  'review': 'you either die a noob or live long enough to get called a hacker',\n",
       "  'review_url': 'http://steamcommunity.com/id/kadiv/recommended/730/?insideModal=1',\n",
       "  'steam_id_number': 'kadiv',\n",
       "  'total_game_hours': '1176.1',\n",
       "  'username': 'compliKATIEd'},\n",
       " {'achievement_progress': {'num_achievements_attained': '0',\n",
       "   'num_achievements_possible': '42'},\n",
       "  'date_posted': 'January 14, 2015',\n",
       "  'found_helpful_percentage': 0.9026794742163802,\n",
       "  'friend_player_level': '130',\n",
       "  'hours_previous_2_weeks': '10.1',\n",
       "  'num_badges': '212',\n",
       "  'num_comments': '27',\n",
       "  'num_found_funny': '42',\n",
       "  'num_found_helpful': 3571,\n",
       "  'num_found_unhelpful': 385,\n",
       "  'num_friends': '224',\n",
       "  'num_games_owned': '390',\n",
       "  'num_groups': '66',\n",
       "  'num_reviews': '3',\n",
       "  'num_screenshots': '2,813',\n",
       "  'num_voted_helpfulness': 3956,\n",
       "  'profile_url': 'http://steamcommunity.com/id/knal',\n",
       "  'recommended': 'Recommended',\n",
       "  'review': 'Your self-esteem either dies in this game or it inflates to unbearable proportions.',\n",
       "  'review_url': 'http://steamcommunity.com/id/knal/recommended/730/?insideModal=1',\n",
       "  'steam_id_number': 'knal',\n",
       "  'total_game_hours': '554.6',\n",
       "  'username': 'Knalraap'},\n",
       " {'achievement_progress': {'num_achievements_attained': '15',\n",
       "   'num_achievements_possible': '22'},\n",
       "  'date_posted': 'July 13, 2014, 2015',\n",
       "  'found_helpful_percentage': 0.8943373932012362,\n",
       "  'friend_player_level': '12',\n",
       "  'hours_previous_2_weeks': '8.0',\n",
       "  'num_badges': '7',\n",
       "  'num_comments': '519',\n",
       "  'num_found_funny': '1',\n",
       "  'num_found_helpful': 19679,\n",
       "  'num_found_unhelpful': 2325,\n",
       "  'num_friends': '13',\n",
       "  'num_games_owned': '219',\n",
       "  'num_groups': '9',\n",
       "  'num_reviews': '5',\n",
       "  'num_screenshots': '28',\n",
       "  'num_voted_helpfulness': 22004,\n",
       "  'profile_url': 'http://steamcommunity.com/profiles/76561198003457024',\n",
       "  'recommended': 'Recommended',\n",
       "  'review': 'Kill someone with a P90 - \"You\\'re a fuc**** noob!! Noob weapon!!\" Kill someone with a P90 through a smoke - \"You\\'re a fuc**** hacker!!\" Kill someone with a AWP - \"You\\'re a fuc**** noob!! Noob weapon!!\" Kill someone with a AWP through a door - \"You\\'re a fuc**** hacker!!\" In a 1 vs 5 you die - \"You\\'re a fuc**** noob!!\" In a 1 vs 5 you win - \"You\\'re a fuc**** hacker!!\" Kill someone with a headshot - \"Hacker!!\" Get headshoted by someone - \"Owned!!\" and get teabagged Kill someone with a grenade - \"Luck!!\" Get killed by someone with a grenade - \"AHAHAHAHA\" Get teamkilled by someone - \"Get out of the way you fuc**** idiot!!\" Accidentally teamkill someone - \"You\\'re a fuc**** idiot!!\" Blocked by someone - Dies Accidentally blocks someone - \"Get out the way you fuc**** idiot!!\" Decide to save - \"You\\'re a fuc**** coward!!\" Decide not to save - \"Save you fuc**** idiot!!\" Kill someone while defending the bomb - \"You fuc**** camper!!\" Kill someone while defending the hostages - \"You fuc**** camper!!\" Someone dies - The deceased one starts to rage Your team lose the round - Your team starts to rage Your team is losing 10-2 - Someone rages quit Go to the balcony in Italy - \"You fuc**** hacker!!\" Worst guy receives a drop - \"Are you fuc**** serious!?\" Warm up - Everybody tries to spawn kill Score is 5-1 in your favor - \"This is a T map!\" Score is 1-5 againts you - \"This is a CT map!\" Lose the first 2 rounds - Someone asks to get kicked Last round - Everybody buys Negev Your team is loosinh and you are in last - Someone vote kicks you Win a match - All enemy team rages Lose a match - Yout team rages Someone\\'s Internet crashes - 30 minutes ban Your Internet crashes - 7 days ban 10/10 Best rage simulator out there!',\n",
       "  'review_url': 'http://steamcommunity.com/profiles/76561198003457024/recommended/730/?insideModal=1',\n",
       "  'steam_id_number': '76561198003457024',\n",
       "  'total_game_hours': '723.8',\n",
       "  'username': 'Fokogrilo'},\n",
       " {'achievement_progress': {'num_achievements_attained': '14',\n",
       "   'num_achievements_possible': '29'},\n",
       "  'date_posted': 'September 1, 2014, 2015',\n",
       "  'found_helpful_percentage': 0.8951194184839044,\n",
       "  'friend_player_level': '12',\n",
       "  'hours_previous_2_weeks': '0.3',\n",
       "  'num_badges': '7',\n",
       "  'num_comments': '132',\n",
       "  'num_found_funny': '3',\n",
       "  'num_found_helpful': 10344,\n",
       "  'num_found_unhelpful': 1212,\n",
       "  'num_friends': '206',\n",
       "  'num_games_owned': '59',\n",
       "  'num_groups': '133',\n",
       "  'num_reviews': '11',\n",
       "  'num_screenshots': '1,462',\n",
       "  'num_voted_helpfulness': 11556,\n",
       "  'profile_url': 'http://steamcommunity.com/id/hiaympalliman',\n",
       "  'recommended': 'Recommended',\n",
       "  'review': 'Bought this game, played online, learned fluent russian 2 weeks later.',\n",
       "  'review_url': 'http://steamcommunity.com/id/hiaympalliman/recommended/730/?insideModal=1',\n",
       "  'steam_id_number': 'hiaympalliman',\n",
       "  'total_game_hours': '82.0',\n",
       "  'username': 'Mr. Palliman'},\n",
       " {'achievement_progress': {'num_achievements_attained': '112',\n",
       "   'num_achievements_possible': '167'},\n",
       "  'date_posted': 'January 24, 2015',\n",
       "  'found_helpful_percentage': 0.8917796239615217,\n",
       "  'friend_player_level': '13',\n",
       "  'hours_previous_2_weeks': '34.5',\n",
       "  'num_badges': '9',\n",
       "  'num_comments': '81',\n",
       "  'num_found_funny': '139',\n",
       "  'num_found_helpful': 8158,\n",
       "  'num_found_unhelpful': 990,\n",
       "  'num_friends': '107',\n",
       "  'num_games_owned': '9',\n",
       "  'num_groups': '7',\n",
       "  'num_reviews': '1',\n",
       "  'num_screenshots': '30',\n",
       "  'num_voted_helpfulness': 9148,\n",
       "  'profile_url': 'http://steamcommunity.com/id/ZoomaAP',\n",
       "  'recommended': 'Recommended',\n",
       "  'review': '>see a guy >shoot him >miss every shot >he turns around >kills me in one shot >exit cs:go 10/10',\n",
       "  'review_url': 'http://steamcommunity.com/id/ZoomaAP/recommended/730/?insideModal=1',\n",
       "  'steam_id_number': 'ZoomaAP',\n",
       "  'total_game_hours': '424.8',\n",
       "  'username': 'Zooma'},\n",
       " {'achievement_progress': {'num_achievements_attained': '167',\n",
       "   'num_achievements_possible': '167'},\n",
       "  'date_posted': 'March 17, 2015',\n",
       "  'found_helpful_percentage': 0.8892784437909975,\n",
       "  'friend_player_level': '36',\n",
       "  'hours_previous_2_weeks': '193.1',\n",
       "  'num_badges': '50',\n",
       "  'num_comments': '179',\n",
       "  'num_found_funny': '295',\n",
       "  'num_found_helpful': 7863,\n",
       "  'num_found_unhelpful': 979,\n",
       "  'num_friends': '29',\n",
       "  'num_games_owned': '181',\n",
       "  'num_groups': '201',\n",
       "  'num_reviews': '52',\n",
       "  'num_screenshots': '5,148',\n",
       "  'num_voted_helpfulness': 8842,\n",
       "  'profile_url': 'http://steamcommunity.com/id/RevanDaDragon',\n",
       "  'recommended': 'Recommended',\n",
       "  'review': 'Revan was only 23 years old. He loved CS:GO so much. He had most of the achievements and items. He prayed to Gaben every night before bed, thanking him for the inventory he\\'s been given. \"CS:GO is love,\" he says, \"CS:GO is life.\" His elder Dragon hears him and calls him a silver scrublord. He knows his elder is just jealous of his son\\'s devotion to Gabe. He calls him a console peasant. He slaps him and sends him to sleep. He\\'s crying now and his face hurts. He lays in bed, and it\\'s really cold. He feels a warmth moving towards him. He looks up. It\\'s Gabe! He\\'s so happy, Gabe whispers into Revan\\'s ear, \"Try your chances... Open a case.\" Gaben grabs Revan with his powerful dev-team hands and puts him on his hands and knees. He\\'s ready. Revan opens his pockets for Gabe. Gabe puts his hands deep into Revan\\'s pockets. It costs so much, but Revan does it for CS:GO. Revan can feel his wallet emptying as his eyes start to water. He accepts the terms and conditions. Revan wants to please Gabe. Gaben lets out a mighty roar as he fills Revan\\'s computer with keys. Revan opens all the cases and gets nothing worth anything at all. CS:GO is love... CS:GO is life... \\ufeff',\n",
       "  'review_url': 'http://steamcommunity.com/id/RevanDaDragon/recommended/730/?insideModal=1',\n",
       "  'steam_id_number': 'RevanDaDragon',\n",
       "  'total_game_hours': '3415.4',\n",
       "  'username': 'Revan The Anthro Dragon'},\n",
       " {'achievement_progress': {'num_achievements_attained': '27',\n",
       "   'num_achievements_possible': '106'},\n",
       "  'date_posted': 'December 14, 2014, 2015',\n",
       "  'found_helpful_percentage': 0.8900210822206606,\n",
       "  'friend_player_level': '30',\n",
       "  'hours_previous_2_weeks': '7.1',\n",
       "  'num_badges': '39',\n",
       "  'num_comments': '29',\n",
       "  'num_found_funny': '2',\n",
       "  'num_found_helpful': 5066,\n",
       "  'num_found_unhelpful': 626,\n",
       "  'num_friends': '163',\n",
       "  'num_games_owned': '152',\n",
       "  'num_groups': '33',\n",
       "  'num_reviews': '7',\n",
       "  'num_screenshots': '307',\n",
       "  'num_voted_helpfulness': 5692,\n",
       "  'profile_url': 'http://steamcommunity.com/id/greybutnotgey',\n",
       "  'recommended': 'Recommended',\n",
       "  'review': 'Knife = free Knife with paint on it = 200$',\n",
       "  'review_url': 'http://steamcommunity.com/id/greybutnotgey/recommended/730/?insideModal=1',\n",
       "  'steam_id_number': 'greybutnotgey',\n",
       "  'total_game_hours': '296.2',\n",
       "  'username': 'Sir Grayson'},\n",
       " {'achievement_progress': {'num_achievements_attained': '49',\n",
       "   'num_achievements_possible': '75'},\n",
       "  'date_posted': 'November 1, 2014, 2015',\n",
       "  'found_helpful_percentage': 0.8838630806845966,\n",
       "  'friend_player_level': '24',\n",
       "  'hours_previous_2_weeks': '0.6',\n",
       "  'num_badges': '20',\n",
       "  'num_comments': '114',\n",
       "  'num_found_funny': '1',\n",
       "  'num_found_helpful': 11568,\n",
       "  'num_found_unhelpful': 1520,\n",
       "  'num_friends': '190',\n",
       "  'num_games_owned': '162',\n",
       "  'num_groups': '47',\n",
       "  'num_reviews': '3',\n",
       "  'num_screenshots': '58',\n",
       "  'num_voted_helpfulness': 13088,\n",
       "  'profile_url': 'http://steamcommunity.com/id/End3rb0rn',\n",
       "  'recommended': 'Recommended',\n",
       "  'review': 'Knife in real life: 10$ Knife in game: 400$ 10/10',\n",
       "  'review_url': 'http://steamcommunity.com/id/End3rb0rn/recommended/730/?insideModal=1',\n",
       "  'steam_id_number': 'End3rb0rn',\n",
       "  'total_game_hours': '953.3',\n",
       "  'username': 'Enderborn'},\n",
       " {'achievement_progress': {'num_achievements_attained': '88',\n",
       "   'num_achievements_possible': '167'},\n",
       "  'date_posted': 'February 13, 2015',\n",
       "  'found_helpful_percentage': 0.9302702702702703,\n",
       "  'friend_player_level': '5',\n",
       "  'hours_previous_2_weeks': '44.3',\n",
       "  'num_badges': '4',\n",
       "  'num_comments': '27',\n",
       "  'num_found_funny': '242',\n",
       "  'num_found_helpful': 5163,\n",
       "  'num_found_unhelpful': 387,\n",
       "  'num_friends': '70',\n",
       "  'num_games_owned': '20',\n",
       "  'num_groups': '21',\n",
       "  'num_reviews': '3',\n",
       "  'num_screenshots': '113',\n",
       "  'num_voted_helpfulness': 5550,\n",
       "  'profile_url': 'http://steamcommunity.com/profiles/76561198092689293',\n",
       "  'recommended': 'Recommended',\n",
       "  'review': \"If i had a dollar for each time someone screamed at me in another language, i'd still have no money because i spent it on skins\",\n",
       "  'review_url': 'http://steamcommunity.com/profiles/76561198092689293/recommended/730/?insideModal=1',\n",
       "  'steam_id_number': '76561198092689293',\n",
       "  'total_game_hours': '151.9',\n",
       "  'username': 'BakeACake'},\n",
       " {'achievement_progress': {'num_achievements_attained': '22',\n",
       "   'num_achievements_possible': '29'},\n",
       "  'date_posted': 'February 1, 2015',\n",
       "  'found_helpful_percentage': 0.915948275862069,\n",
       "  'friend_player_level': '12',\n",
       "  'hours_previous_2_weeks': '40.9',\n",
       "  'num_badges': '9',\n",
       "  'num_comments': '69',\n",
       "  'num_found_funny': '145',\n",
       "  'num_found_helpful': 8925,\n",
       "  'num_found_unhelpful': 819,\n",
       "  'num_friends': '241',\n",
       "  'num_games_owned': '124',\n",
       "  'num_groups': '5',\n",
       "  'num_reviews': '1',\n",
       "  'num_screenshots': '238',\n",
       "  'num_voted_helpfulness': 9744,\n",
       "  'profile_url': 'http://steamcommunity.com/id/Delta3D',\n",
       "  'recommended': 'Recommended',\n",
       "  'review': \"It's like roulette; fun until it turns into Russian.\",\n",
       "  'review_url': 'http://steamcommunity.com/id/Delta3D/recommended/730/?insideModal=1',\n",
       "  'steam_id_number': 'Delta3D',\n",
       "  'total_game_hours': '341.3',\n",
       "  'username': 'Delta'},\n",
       " {'achievement_progress': {'num_achievements_attained': '1',\n",
       "   'num_achievements_possible': '75'},\n",
       "  'date_posted': 'February 27, 2014, 2015',\n",
       "  'found_helpful_percentage': 0.8969364161849711,\n",
       "  'friend_player_level': '19',\n",
       "  'hours_previous_2_weeks': '14.0',\n",
       "  'num_badges': '17',\n",
       "  'num_comments': '174',\n",
       "  'num_found_funny': '1',\n",
       "  'num_found_helpful': 15517,\n",
       "  'num_found_unhelpful': 1783,\n",
       "  'num_friends': '158',\n",
       "  'num_games_owned': '114',\n",
       "  'num_groups': '6',\n",
       "  'num_reviews': '4',\n",
       "  'num_screenshots': '82',\n",
       "  'num_voted_helpfulness': 17300,\n",
       "  'profile_url': 'http://steamcommunity.com/id/kadiv',\n",
       "  'recommended': 'Recommended',\n",
       "  'review': 'you either die a noob or live long enough to get called a hacker',\n",
       "  'review_url': 'http://steamcommunity.com/id/kadiv/recommended/730/?insideModal=1',\n",
       "  'steam_id_number': 'kadiv',\n",
       "  'total_game_hours': '1176.1',\n",
       "  'username': 'compliKATIEd'},\n",
       " {'achievement_progress': {'num_achievements_attained': '0',\n",
       "   'num_achievements_possible': '42'},\n",
       "  'date_posted': 'January 14, 2015',\n",
       "  'found_helpful_percentage': 0.9026794742163802,\n",
       "  'friend_player_level': '130',\n",
       "  'hours_previous_2_weeks': '10.1',\n",
       "  'num_badges': '212',\n",
       "  'num_comments': '27',\n",
       "  'num_found_funny': '42',\n",
       "  'num_found_helpful': 3571,\n",
       "  'num_found_unhelpful': 385,\n",
       "  'num_friends': '224',\n",
       "  'num_games_owned': '390',\n",
       "  'num_groups': '66',\n",
       "  'num_reviews': '3',\n",
       "  'num_screenshots': '2,813',\n",
       "  'num_voted_helpfulness': 3956,\n",
       "  'profile_url': 'http://steamcommunity.com/id/knal',\n",
       "  'recommended': 'Recommended',\n",
       "  'review': 'Your self-esteem either dies in this game or it inflates to unbearable proportions.',\n",
       "  'review_url': 'http://steamcommunity.com/id/knal/recommended/730/?insideModal=1',\n",
       "  'steam_id_number': 'knal',\n",
       "  'total_game_hours': '554.6',\n",
       "  'username': 'Knalraap'},\n",
       " {'achievement_progress': {'num_achievements_attained': '15',\n",
       "   'num_achievements_possible': '22'},\n",
       "  'date_posted': 'July 13, 2014, 2015',\n",
       "  'found_helpful_percentage': 0.8943373932012362,\n",
       "  'friend_player_level': '12',\n",
       "  'hours_previous_2_weeks': '8.0',\n",
       "  'num_badges': '7',\n",
       "  'num_comments': '519',\n",
       "  'num_found_funny': '1',\n",
       "  'num_found_helpful': 19679,\n",
       "  'num_found_unhelpful': 2325,\n",
       "  'num_friends': '13',\n",
       "  'num_games_owned': '219',\n",
       "  'num_groups': '9',\n",
       "  'num_reviews': '5',\n",
       "  'num_screenshots': '28',\n",
       "  'num_voted_helpfulness': 22004,\n",
       "  'profile_url': 'http://steamcommunity.com/profiles/76561198003457024',\n",
       "  'recommended': 'Recommended',\n",
       "  'review': 'Kill someone with a P90 - \"You\\'re a fuc**** noob!! Noob weapon!!\" Kill someone with a P90 through a smoke - \"You\\'re a fuc**** hacker!!\" Kill someone with a AWP - \"You\\'re a fuc**** noob!! Noob weapon!!\" Kill someone with a AWP through a door - \"You\\'re a fuc**** hacker!!\" In a 1 vs 5 you die - \"You\\'re a fuc**** noob!!\" In a 1 vs 5 you win - \"You\\'re a fuc**** hacker!!\" Kill someone with a headshot - \"Hacker!!\" Get headshoted by someone - \"Owned!!\" and get teabagged Kill someone with a grenade - \"Luck!!\" Get killed by someone with a grenade - \"AHAHAHAHA\" Get teamkilled by someone - \"Get out of the way you fuc**** idiot!!\" Accidentally teamkill someone - \"You\\'re a fuc**** idiot!!\" Blocked by someone - Dies Accidentally blocks someone - \"Get out the way you fuc**** idiot!!\" Decide to save - \"You\\'re a fuc**** coward!!\" Decide not to save - \"Save you fuc**** idiot!!\" Kill someone while defending the bomb - \"You fuc**** camper!!\" Kill someone while defending the hostages - \"You fuc**** camper!!\" Someone dies - The deceased one starts to rage Your team lose the round - Your team starts to rage Your team is losing 10-2 - Someone rages quit Go to the balcony in Italy - \"You fuc**** hacker!!\" Worst guy receives a drop - \"Are you fuc**** serious!?\" Warm up - Everybody tries to spawn kill Score is 5-1 in your favor - \"This is a T map!\" Score is 1-5 againts you - \"This is a CT map!\" Lose the first 2 rounds - Someone asks to get kicked Last round - Everybody buys Negev Your team is loosinh and you are in last - Someone vote kicks you Win a match - All enemy team rages Lose a match - Yout team rages Someone\\'s Internet crashes - 30 minutes ban Your Internet crashes - 7 days ban 10/10 Best rage simulator out there!',\n",
       "  'review_url': 'http://steamcommunity.com/profiles/76561198003457024/recommended/730/?insideModal=1',\n",
       "  'steam_id_number': '76561198003457024',\n",
       "  'total_game_hours': '723.8',\n",
       "  'username': 'Fokogrilo'},\n",
       " {'achievement_progress': {'num_achievements_attained': '14',\n",
       "   'num_achievements_possible': '29'},\n",
       "  'date_posted': 'September 1, 2014, 2015',\n",
       "  'found_helpful_percentage': 0.8951194184839044,\n",
       "  'friend_player_level': '12',\n",
       "  'hours_previous_2_weeks': '0.3',\n",
       "  'num_badges': '7',\n",
       "  'num_comments': '132',\n",
       "  'num_found_funny': '3',\n",
       "  'num_found_helpful': 10344,\n",
       "  'num_found_unhelpful': 1212,\n",
       "  'num_friends': '206',\n",
       "  'num_games_owned': '59',\n",
       "  'num_groups': '133',\n",
       "  'num_reviews': '11',\n",
       "  'num_screenshots': '1,462',\n",
       "  'num_voted_helpfulness': 11556,\n",
       "  'profile_url': 'http://steamcommunity.com/id/hiaympalliman',\n",
       "  'recommended': 'Recommended',\n",
       "  'review': 'Bought this game, played online, learned fluent russian 2 weeks later.',\n",
       "  'review_url': 'http://steamcommunity.com/id/hiaympalliman/recommended/730/?insideModal=1',\n",
       "  'steam_id_number': 'hiaympalliman',\n",
       "  'total_game_hours': '82.0',\n",
       "  'username': 'Mr. Palliman'},\n",
       " {'achievement_progress': {'num_achievements_attained': '112',\n",
       "   'num_achievements_possible': '167'},\n",
       "  'date_posted': 'January 24, 2015',\n",
       "  'found_helpful_percentage': 0.8917796239615217,\n",
       "  'friend_player_level': '13',\n",
       "  'hours_previous_2_weeks': '34.5',\n",
       "  'num_badges': '9',\n",
       "  'num_comments': '81',\n",
       "  'num_found_funny': '139',\n",
       "  'num_found_helpful': 8158,\n",
       "  'num_found_unhelpful': 990,\n",
       "  'num_friends': '107',\n",
       "  'num_games_owned': '9',\n",
       "  'num_groups': '7',\n",
       "  'num_reviews': '1',\n",
       "  'num_screenshots': '30',\n",
       "  'num_voted_helpfulness': 9148,\n",
       "  'profile_url': 'http://steamcommunity.com/id/ZoomaAP',\n",
       "  'recommended': 'Recommended',\n",
       "  'review': '>see a guy >shoot him >miss every shot >he turns around >kills me in one shot >exit cs:go 10/10',\n",
       "  'review_url': 'http://steamcommunity.com/id/ZoomaAP/recommended/730/?insideModal=1',\n",
       "  'steam_id_number': 'ZoomaAP',\n",
       "  'total_game_hours': '424.8',\n",
       "  'username': 'Zooma'},\n",
       " {'achievement_progress': {'num_achievements_attained': '167',\n",
       "   'num_achievements_possible': '167'},\n",
       "  'date_posted': 'March 17, 2015',\n",
       "  'found_helpful_percentage': 0.8892784437909975,\n",
       "  'friend_player_level': '36',\n",
       "  'hours_previous_2_weeks': '193.1',\n",
       "  'num_badges': '50',\n",
       "  'num_comments': '179',\n",
       "  'num_found_funny': '295',\n",
       "  'num_found_helpful': 7863,\n",
       "  'num_found_unhelpful': 979,\n",
       "  'num_friends': '29',\n",
       "  'num_games_owned': '181',\n",
       "  'num_groups': '201',\n",
       "  'num_reviews': '52',\n",
       "  'num_screenshots': '5,148',\n",
       "  'num_voted_helpfulness': 8842,\n",
       "  'profile_url': 'http://steamcommunity.com/id/RevanDaDragon',\n",
       "  'recommended': 'Recommended',\n",
       "  'review': 'Revan was only 23 years old. He loved CS:GO so much. He had most of the achievements and items. He prayed to Gaben every night before bed, thanking him for the inventory he\\'s been given. \"CS:GO is love,\" he says, \"CS:GO is life.\" His elder Dragon hears him and calls him a silver scrublord. He knows his elder is just jealous of his son\\'s devotion to Gabe. He calls him a console peasant. He slaps him and sends him to sleep. He\\'s crying now and his face hurts. He lays in bed, and it\\'s really cold. He feels a warmth moving towards him. He looks up. It\\'s Gabe! He\\'s so happy, Gabe whispers into Revan\\'s ear, \"Try your chances... Open a case.\" Gaben grabs Revan with his powerful dev-team hands and puts him on his hands and knees. He\\'s ready. Revan opens his pockets for Gabe. Gabe puts his hands deep into Revan\\'s pockets. It costs so much, but Revan does it for CS:GO. Revan can feel his wallet emptying as his eyes start to water. He accepts the terms and conditions. Revan wants to please Gabe. Gaben lets out a mighty roar as he fills Revan\\'s computer with keys. Revan opens all the cases and gets nothing worth anything at all. CS:GO is love... CS:GO is life... \\ufeff',\n",
       "  'review_url': 'http://steamcommunity.com/id/RevanDaDragon/recommended/730/?insideModal=1',\n",
       "  'steam_id_number': 'RevanDaDragon',\n",
       "  'total_game_hours': '3415.4',\n",
       "  'username': 'Revan The Anthro Dragon'},\n",
       " {'achievement_progress': {'num_achievements_attained': '27',\n",
       "   'num_achievements_possible': '106'},\n",
       "  'date_posted': 'December 14, 2014, 2015',\n",
       "  'found_helpful_percentage': 0.8900210822206606,\n",
       "  'friend_player_level': '30',\n",
       "  'hours_previous_2_weeks': '7.1',\n",
       "  'num_badges': '39',\n",
       "  'num_comments': '29',\n",
       "  'num_found_funny': '2',\n",
       "  'num_found_helpful': 5066,\n",
       "  'num_found_unhelpful': 626,\n",
       "  'num_friends': '163',\n",
       "  'num_games_owned': '152',\n",
       "  'num_groups': '33',\n",
       "  'num_reviews': '7',\n",
       "  'num_screenshots': '307',\n",
       "  'num_voted_helpfulness': 5692,\n",
       "  'profile_url': 'http://steamcommunity.com/id/greybutnotgey',\n",
       "  'recommended': 'Recommended',\n",
       "  'review': 'Knife = free Knife with paint on it = 200$',\n",
       "  'review_url': 'http://steamcommunity.com/id/greybutnotgey/recommended/730/?insideModal=1',\n",
       "  'steam_id_number': 'greybutnotgey',\n",
       "  'total_game_hours': '296.2',\n",
       "  'username': 'Sir Grayson'},\n",
       " {'achievement_progress': {'num_achievements_attained': '49',\n",
       "   'num_achievements_possible': '75'},\n",
       "  'date_posted': 'November 1, 2014, 2015',\n",
       "  'found_helpful_percentage': 0.8838630806845966,\n",
       "  'friend_player_level': '24',\n",
       "  'hours_previous_2_weeks': '0.6',\n",
       "  'num_badges': '20',\n",
       "  'num_comments': '114',\n",
       "  'num_found_funny': '1',\n",
       "  'num_found_helpful': 11568,\n",
       "  'num_found_unhelpful': 1520,\n",
       "  'num_friends': '190',\n",
       "  'num_games_owned': '162',\n",
       "  'num_groups': '47',\n",
       "  'num_reviews': '3',\n",
       "  'num_screenshots': '58',\n",
       "  'num_voted_helpfulness': 13088,\n",
       "  'profile_url': 'http://steamcommunity.com/id/End3rb0rn',\n",
       "  'recommended': 'Recommended',\n",
       "  'review': 'Knife in real life: 10$ Knife in game: 400$ 10/10',\n",
       "  'review_url': 'http://steamcommunity.com/id/End3rb0rn/recommended/730/?insideModal=1',\n",
       "  'steam_id_number': 'End3rb0rn',\n",
       "  'total_game_hours': '953.3',\n",
       "  'username': 'Enderborn'},\n",
       " {'achievement_progress': {'num_achievements_attained': '88',\n",
       "   'num_achievements_possible': '167'},\n",
       "  'date_posted': 'February 13, 2015',\n",
       "  'found_helpful_percentage': 0.9302702702702703,\n",
       "  'friend_player_level': '5',\n",
       "  'hours_previous_2_weeks': '44.3',\n",
       "  'num_badges': '4',\n",
       "  'num_comments': '27',\n",
       "  'num_found_funny': '242',\n",
       "  'num_found_helpful': 5163,\n",
       "  'num_found_unhelpful': 387,\n",
       "  'num_friends': '70',\n",
       "  'num_games_owned': '20',\n",
       "  'num_groups': '21',\n",
       "  'num_reviews': '3',\n",
       "  'num_screenshots': '113',\n",
       "  'num_voted_helpfulness': 5550,\n",
       "  'profile_url': 'http://steamcommunity.com/profiles/76561198092689293',\n",
       "  'recommended': 'Recommended',\n",
       "  'review': \"If i had a dollar for each time someone screamed at me in another language, i'd still have no money because i spent it on skins\",\n",
       "  'review_url': 'http://steamcommunity.com/profiles/76561198092689293/recommended/730/?insideModal=1',\n",
       "  'steam_id_number': '76561198092689293',\n",
       "  'total_game_hours': '151.9',\n",
       "  'username': 'BakeACake'},\n",
       " {'achievement_progress': {'num_achievements_attained': '22',\n",
       "   'num_achievements_possible': '29'},\n",
       "  'date_posted': 'February 1, 2015',\n",
       "  'found_helpful_percentage': 0.915948275862069,\n",
       "  'friend_player_level': '12',\n",
       "  'hours_previous_2_weeks': '40.9',\n",
       "  'num_badges': '9',\n",
       "  'num_comments': '69',\n",
       "  'num_found_funny': '145',\n",
       "  'num_found_helpful': 8925,\n",
       "  'num_found_unhelpful': 819,\n",
       "  'num_friends': '241',\n",
       "  'num_games_owned': '124',\n",
       "  'num_groups': '5',\n",
       "  'num_reviews': '1',\n",
       "  'num_screenshots': '238',\n",
       "  'num_voted_helpfulness': 9744,\n",
       "  'profile_url': 'http://steamcommunity.com/id/Delta3D',\n",
       "  'recommended': 'Recommended',\n",
       "  'review': \"It's like roulette; fun until it turns into Russian.\",\n",
       "  'review_url': 'http://steamcommunity.com/id/Delta3D/recommended/730/?insideModal=1',\n",
       "  'steam_id_number': 'Delta3D',\n",
       "  'total_game_hours': '341.3',\n",
       "  'username': 'Delta'},\n",
       " {'achievement_progress': {'num_achievements_attained': '1',\n",
       "   'num_achievements_possible': '75'},\n",
       "  'date_posted': 'February 27, 2014, 2015',\n",
       "  'found_helpful_percentage': 0.8969364161849711,\n",
       "  'friend_player_level': '19',\n",
       "  'hours_previous_2_weeks': '14.0',\n",
       "  'num_badges': '17',\n",
       "  'num_comments': '174',\n",
       "  'num_found_funny': '1',\n",
       "  'num_found_helpful': 15517,\n",
       "  'num_found_unhelpful': 1783,\n",
       "  'num_friends': '158',\n",
       "  'num_games_owned': '114',\n",
       "  'num_groups': '6',\n",
       "  'num_reviews': '4',\n",
       "  'num_screenshots': '82',\n",
       "  'num_voted_helpfulness': 17300,\n",
       "  'profile_url': 'http://steamcommunity.com/id/kadiv',\n",
       "  'recommended': 'Recommended',\n",
       "  'review': 'you either die a noob or live long enough to get called a hacker',\n",
       "  'review_url': 'http://steamcommunity.com/id/kadiv/recommended/730/?insideModal=1',\n",
       "  'steam_id_number': 'kadiv',\n",
       "  'total_game_hours': '1176.1',\n",
       "  'username': 'compliKATIEd'},\n",
       " {'achievement_progress': {'num_achievements_attained': '0',\n",
       "   'num_achievements_possible': '42'},\n",
       "  'date_posted': 'January 14, 2015',\n",
       "  'found_helpful_percentage': 0.9026794742163802,\n",
       "  'friend_player_level': '130',\n",
       "  'hours_previous_2_weeks': '10.1',\n",
       "  'num_badges': '212',\n",
       "  'num_comments': '27',\n",
       "  'num_found_funny': '42',\n",
       "  'num_found_helpful': 3571,\n",
       "  'num_found_unhelpful': 385,\n",
       "  'num_friends': '224',\n",
       "  'num_games_owned': '390',\n",
       "  'num_groups': '66',\n",
       "  'num_reviews': '3',\n",
       "  'num_screenshots': '2,813',\n",
       "  'num_voted_helpfulness': 3956,\n",
       "  'profile_url': 'http://steamcommunity.com/id/knal',\n",
       "  'recommended': 'Recommended',\n",
       "  'review': 'Your self-esteem either dies in this game or it inflates to unbearable proportions.',\n",
       "  'review_url': 'http://steamcommunity.com/id/knal/recommended/730/?insideModal=1',\n",
       "  'steam_id_number': 'knal',\n",
       "  'total_game_hours': '554.6',\n",
       "  'username': 'Knalraap'},\n",
       " {'achievement_progress': {'num_achievements_attained': '15',\n",
       "   'num_achievements_possible': '22'},\n",
       "  'date_posted': 'July 13, 2014, 2015',\n",
       "  'found_helpful_percentage': 0.8943373932012362,\n",
       "  'friend_player_level': '12',\n",
       "  'hours_previous_2_weeks': '8.0',\n",
       "  'num_badges': '7',\n",
       "  'num_comments': '519',\n",
       "  'num_found_funny': '1',\n",
       "  'num_found_helpful': 19679,\n",
       "  'num_found_unhelpful': 2325,\n",
       "  'num_friends': '13',\n",
       "  'num_games_owned': '219',\n",
       "  'num_groups': '9',\n",
       "  'num_reviews': '5',\n",
       "  'num_screenshots': '28',\n",
       "  'num_voted_helpfulness': 22004,\n",
       "  'profile_url': 'http://steamcommunity.com/profiles/76561198003457024',\n",
       "  'recommended': 'Recommended',\n",
       "  'review': 'Kill someone with a P90 - \"You\\'re a fuc**** noob!! Noob weapon!!\" Kill someone with a P90 through a smoke - \"You\\'re a fuc**** hacker!!\" Kill someone with a AWP - \"You\\'re a fuc**** noob!! Noob weapon!!\" Kill someone with a AWP through a door - \"You\\'re a fuc**** hacker!!\" In a 1 vs 5 you die - \"You\\'re a fuc**** noob!!\" In a 1 vs 5 you win - \"You\\'re a fuc**** hacker!!\" Kill someone with a headshot - \"Hacker!!\" Get headshoted by someone - \"Owned!!\" and get teabagged Kill someone with a grenade - \"Luck!!\" Get killed by someone with a grenade - \"AHAHAHAHA\" Get teamkilled by someone - \"Get out of the way you fuc**** idiot!!\" Accidentally teamkill someone - \"You\\'re a fuc**** idiot!!\" Blocked by someone - Dies Accidentally blocks someone - \"Get out the way you fuc**** idiot!!\" Decide to save - \"You\\'re a fuc**** coward!!\" Decide not to save - \"Save you fuc**** idiot!!\" Kill someone while defending the bomb - \"You fuc**** camper!!\" Kill someone while defending the hostages - \"You fuc**** camper!!\" Someone dies - The deceased one starts to rage Your team lose the round - Your team starts to rage Your team is losing 10-2 - Someone rages quit Go to the balcony in Italy - \"You fuc**** hacker!!\" Worst guy receives a drop - \"Are you fuc**** serious!?\" Warm up - Everybody tries to spawn kill Score is 5-1 in your favor - \"This is a T map!\" Score is 1-5 againts you - \"This is a CT map!\" Lose the first 2 rounds - Someone asks to get kicked Last round - Everybody buys Negev Your team is loosinh and you are in last - Someone vote kicks you Win a match - All enemy team rages Lose a match - Yout team rages Someone\\'s Internet crashes - 30 minutes ban Your Internet crashes - 7 days ban 10/10 Best rage simulator out there!',\n",
       "  'review_url': 'http://steamcommunity.com/profiles/76561198003457024/recommended/730/?insideModal=1',\n",
       "  'steam_id_number': '76561198003457024',\n",
       "  'total_game_hours': '723.8',\n",
       "  'username': 'Fokogrilo'},\n",
       " {'achievement_progress': {'num_achievements_attained': '14',\n",
       "   'num_achievements_possible': '29'},\n",
       "  'date_posted': 'September 1, 2014, 2015',\n",
       "  'found_helpful_percentage': 0.8951194184839044,\n",
       "  'friend_player_level': '12',\n",
       "  'hours_previous_2_weeks': '0.3',\n",
       "  'num_badges': '7',\n",
       "  'num_comments': '132',\n",
       "  'num_found_funny': '3',\n",
       "  'num_found_helpful': 10344,\n",
       "  'num_found_unhelpful': 1212,\n",
       "  'num_friends': '206',\n",
       "  'num_games_owned': '59',\n",
       "  'num_groups': '133',\n",
       "  'num_reviews': '11',\n",
       "  'num_screenshots': '1,462',\n",
       "  'num_voted_helpfulness': 11556,\n",
       "  'profile_url': 'http://steamcommunity.com/id/hiaympalliman',\n",
       "  'recommended': 'Recommended',\n",
       "  'review': 'Bought this game, played online, learned fluent russian 2 weeks later.',\n",
       "  'review_url': 'http://steamcommunity.com/id/hiaympalliman/recommended/730/?insideModal=1',\n",
       "  'steam_id_number': 'hiaympalliman',\n",
       "  'total_game_hours': '82.0',\n",
       "  'username': 'Mr. Palliman'},\n",
       " {'achievement_progress': {'num_achievements_attained': '112',\n",
       "   'num_achievements_possible': '167'},\n",
       "  'date_posted': 'January 24, 2015',\n",
       "  'found_helpful_percentage': 0.8917796239615217,\n",
       "  'friend_player_level': '13',\n",
       "  'hours_previous_2_weeks': '34.5',\n",
       "  'num_badges': '9',\n",
       "  'num_comments': '81',\n",
       "  'num_found_funny': '139',\n",
       "  'num_found_helpful': 8158,\n",
       "  'num_found_unhelpful': 990,\n",
       "  'num_friends': '107',\n",
       "  'num_games_owned': '9',\n",
       "  'num_groups': '7',\n",
       "  'num_reviews': '1',\n",
       "  'num_screenshots': '30',\n",
       "  'num_voted_helpfulness': 9148,\n",
       "  'profile_url': 'http://steamcommunity.com/id/ZoomaAP',\n",
       "  'recommended': 'Recommended',\n",
       "  'review': '>see a guy >shoot him >miss every shot >he turns around >kills me in one shot >exit cs:go 10/10',\n",
       "  'review_url': 'http://steamcommunity.com/id/ZoomaAP/recommended/730/?insideModal=1',\n",
       "  'steam_id_number': 'ZoomaAP',\n",
       "  'total_game_hours': '424.8',\n",
       "  'username': 'Zooma'},\n",
       " {'achievement_progress': {'num_achievements_attained': '167',\n",
       "   'num_achievements_possible': '167'},\n",
       "  'date_posted': 'March 17, 2015',\n",
       "  'found_helpful_percentage': 0.8892784437909975,\n",
       "  'friend_player_level': '36',\n",
       "  'hours_previous_2_weeks': '193.1',\n",
       "  'num_badges': '50',\n",
       "  'num_comments': '179',\n",
       "  'num_found_funny': '295',\n",
       "  'num_found_helpful': 7863,\n",
       "  'num_found_unhelpful': 979,\n",
       "  'num_friends': '29',\n",
       "  'num_games_owned': '181',\n",
       "  'num_groups': '201',\n",
       "  'num_reviews': '52',\n",
       "  'num_screenshots': '5,148',\n",
       "  'num_voted_helpfulness': 8842,\n",
       "  'profile_url': 'http://steamcommunity.com/id/RevanDaDragon',\n",
       "  'recommended': 'Recommended',\n",
       "  'review': 'Revan was only 23 years old. He loved CS:GO so much. He had most of the achievements and items. He prayed to Gaben every night before bed, thanking him for the inventory he\\'s been given. \"CS:GO is love,\" he says, \"CS:GO is life.\" His elder Dragon hears him and calls him a silver scrublord. He knows his elder is just jealous of his son\\'s devotion to Gabe. He calls him a console peasant. He slaps him and sends him to sleep. He\\'s crying now and his face hurts. He lays in bed, and it\\'s really cold. He feels a warmth moving towards him. He looks up. It\\'s Gabe! He\\'s so happy, Gabe whispers into Revan\\'s ear, \"Try your chances... Open a case.\" Gaben grabs Revan with his powerful dev-team hands and puts him on his hands and knees. He\\'s ready. Revan opens his pockets for Gabe. Gabe puts his hands deep into Revan\\'s pockets. It costs so much, but Revan does it for CS:GO. Revan can feel his wallet emptying as his eyes start to water. He accepts the terms and conditions. Revan wants to please Gabe. Gaben lets out a mighty roar as he fills Revan\\'s computer with keys. Revan opens all the cases and gets nothing worth anything at all. CS:GO is love... CS:GO is life... \\ufeff',\n",
       "  'review_url': 'http://steamcommunity.com/id/RevanDaDragon/recommended/730/?insideModal=1',\n",
       "  'steam_id_number': 'RevanDaDragon',\n",
       "  'total_game_hours': '3415.4',\n",
       "  'username': 'Revan The Anthro Dragon'},\n",
       " {'achievement_progress': {'num_achievements_attained': '27',\n",
       "   'num_achievements_possible': '106'},\n",
       "  'date_posted': 'December 14, 2014, 2015',\n",
       "  'found_helpful_percentage': 0.8900210822206606,\n",
       "  'friend_player_level': '30',\n",
       "  'hours_previous_2_weeks': '7.1',\n",
       "  'num_badges': '39',\n",
       "  'num_comments': '29',\n",
       "  'num_found_funny': '2',\n",
       "  'num_found_helpful': 5066,\n",
       "  'num_found_unhelpful': 626,\n",
       "  'num_friends': '163',\n",
       "  'num_games_owned': '152',\n",
       "  'num_groups': '33',\n",
       "  'num_reviews': '7',\n",
       "  'num_screenshots': '307',\n",
       "  'num_voted_helpfulness': 5692,\n",
       "  'profile_url': 'http://steamcommunity.com/id/greybutnotgey',\n",
       "  'recommended': 'Recommended',\n",
       "  'review': 'Knife = free Knife with paint on it = 200$',\n",
       "  'review_url': 'http://steamcommunity.com/id/greybutnotgey/recommended/730/?insideModal=1',\n",
       "  'steam_id_number': 'greybutnotgey',\n",
       "  'total_game_hours': '296.2',\n",
       "  'username': 'Sir Grayson'},\n",
       " {'achievement_progress': {'num_achievements_attained': '49',\n",
       "   'num_achievements_possible': '75'},\n",
       "  'date_posted': 'November 1, 2014, 2015',\n",
       "  'found_helpful_percentage': 0.8838630806845966,\n",
       "  'friend_player_level': '24',\n",
       "  'hours_previous_2_weeks': '0.6',\n",
       "  'num_badges': '20',\n",
       "  'num_comments': '114',\n",
       "  'num_found_funny': '1',\n",
       "  'num_found_helpful': 11568,\n",
       "  'num_found_unhelpful': 1520,\n",
       "  'num_friends': '190',\n",
       "  'num_games_owned': '162',\n",
       "  'num_groups': '47',\n",
       "  'num_reviews': '3',\n",
       "  'num_screenshots': '58',\n",
       "  'num_voted_helpfulness': 13088,\n",
       "  'profile_url': 'http://steamcommunity.com/id/End3rb0rn',\n",
       "  'recommended': 'Recommended',\n",
       "  'review': 'Knife in real life: 10$ Knife in game: 400$ 10/10',\n",
       "  'review_url': 'http://steamcommunity.com/id/End3rb0rn/recommended/730/?insideModal=1',\n",
       "  'steam_id_number': 'End3rb0rn',\n",
       "  'total_game_hours': '953.3',\n",
       "  'username': 'Enderborn'},\n",
       " {'achievement_progress': {'num_achievements_attained': '88',\n",
       "   'num_achievements_possible': '167'},\n",
       "  'date_posted': 'February 13, 2015',\n",
       "  'found_helpful_percentage': 0.9302702702702703,\n",
       "  'friend_player_level': '5',\n",
       "  'hours_previous_2_weeks': '44.3',\n",
       "  'num_badges': '4',\n",
       "  'num_comments': '27',\n",
       "  'num_found_funny': '242',\n",
       "  'num_found_helpful': 5163,\n",
       "  'num_found_unhelpful': 387,\n",
       "  'num_friends': '70',\n",
       "  'num_games_owned': '20',\n",
       "  'num_groups': '21',\n",
       "  'num_reviews': '3',\n",
       "  'num_screenshots': '113',\n",
       "  'num_voted_helpfulness': 5550,\n",
       "  'profile_url': 'http://steamcommunity.com/profiles/76561198092689293',\n",
       "  'recommended': 'Recommended',\n",
       "  'review': \"If i had a dollar for each time someone screamed at me in another language, i'd still have no money because i spent it on skins\",\n",
       "  'review_url': 'http://steamcommunity.com/profiles/76561198092689293/recommended/730/?insideModal=1',\n",
       "  'steam_id_number': '76561198092689293',\n",
       "  'total_game_hours': '151.9',\n",
       "  'username': 'BakeACake'},\n",
       " {'achievement_progress': {'num_achievements_attained': '22',\n",
       "   'num_achievements_possible': '29'},\n",
       "  'date_posted': 'February 1, 2015',\n",
       "  'found_helpful_percentage': 0.915948275862069,\n",
       "  'friend_player_level': '12',\n",
       "  'hours_previous_2_weeks': '40.9',\n",
       "  'num_badges': '9',\n",
       "  'num_comments': '69',\n",
       "  'num_found_funny': '145',\n",
       "  'num_found_helpful': 8925,\n",
       "  'num_found_unhelpful': 819,\n",
       "  'num_friends': '241',\n",
       "  'num_games_owned': '124',\n",
       "  'num_groups': '5',\n",
       "  'num_reviews': '1',\n",
       "  'num_screenshots': '238',\n",
       "  'num_voted_helpfulness': 9744,\n",
       "  'profile_url': 'http://steamcommunity.com/id/Delta3D',\n",
       "  'recommended': 'Recommended',\n",
       "  'review': \"It's like roulette; fun until it turns into Russian.\",\n",
       "  'review_url': 'http://steamcommunity.com/id/Delta3D/recommended/730/?insideModal=1',\n",
       "  'steam_id_number': 'Delta3D',\n",
       "  'total_game_hours': '341.3',\n",
       "  'username': 'Delta'},\n",
       " {'achievement_progress': {'num_achievements_attained': '1',\n",
       "   'num_achievements_possible': '75'},\n",
       "  'date_posted': 'February 27, 2014, 2015',\n",
       "  'found_helpful_percentage': 0.8969364161849711,\n",
       "  'friend_player_level': '19',\n",
       "  'hours_previous_2_weeks': '14.0',\n",
       "  'num_badges': '17',\n",
       "  'num_comments': '174',\n",
       "  'num_found_funny': '1',\n",
       "  'num_found_helpful': 15517,\n",
       "  'num_found_unhelpful': 1783,\n",
       "  'num_friends': '158',\n",
       "  'num_games_owned': '114',\n",
       "  'num_groups': '6',\n",
       "  'num_reviews': '4',\n",
       "  'num_screenshots': '82',\n",
       "  'num_voted_helpfulness': 17300,\n",
       "  'profile_url': 'http://steamcommunity.com/id/kadiv',\n",
       "  'recommended': 'Recommended',\n",
       "  'review': 'you either die a noob or live long enough to get called a hacker',\n",
       "  'review_url': 'http://steamcommunity.com/id/kadiv/recommended/730/?insideModal=1',\n",
       "  'steam_id_number': 'kadiv',\n",
       "  'total_game_hours': '1176.1',\n",
       "  'username': 'compliKATIEd'}]"
      ]
     },
     "execution_count": 48,
     "metadata": {},
     "output_type": "execute_result"
    }
   ],
   "source": [
    "len(reviews)\n",
    "reviews = list(reviews)\n",
    "reviews"
   ]
  },
  {
   "cell_type": "code",
   "execution_count": 49,
   "metadata": {
    "collapsed": false
   },
   "outputs": [
    {
     "data": {
      "text/plain": [
       "33"
      ]
     },
     "execution_count": 49,
     "metadata": {},
     "output_type": "execute_result"
    }
   ],
   "source": [
    "len(reviews)"
   ]
  }
 ],
 "metadata": {
  "kernelspec": {
   "display_name": "Python 3",
   "language": "python",
   "name": "python3"
  },
  "language_info": {
   "codemirror_mode": {
    "name": "ipython",
    "version": 3
   },
   "file_extension": ".py",
   "mimetype": "text/x-python",
   "name": "python",
   "nbconvert_exporter": "python",
   "pygments_lexer": "ipython3",
   "version": "3.4.3"
  }
 },
 "nbformat": 4,
 "nbformat_minor": 0
}
