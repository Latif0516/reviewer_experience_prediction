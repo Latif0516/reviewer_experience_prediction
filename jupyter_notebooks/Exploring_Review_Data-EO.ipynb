{
 "cells": [
  {
   "cell_type": "markdown",
   "metadata": {},
   "source": [
    "#Exploring Review Data\n",
    "- let's look at some typical reviews, how many files there are, what the distributions of review lengths and hours played are, etc."
   ]
  },
  {
   "cell_type": "code",
   "execution_count": 83,
   "metadata": {
    "collapsed": true
   },
   "outputs": [],
   "source": [
    "# Pretty much, this is my standard header because I use these following\n",
    "# two libraries all the time\n",
    "import sys\n",
    "import os"
   ]
  },
  {
   "cell_type": "code",
   "execution_count": 84,
   "metadata": {
    "collapsed": false
   },
   "outputs": [
    {
     "name": "stdout",
     "output_type": "stream",
     "text": [
      "   30910 data/Arma_3.txt\n",
      "   66500 data/Counter_Strike_Global_Offensive.txt\n",
      "   17712 data/Counter_Strike.txt\n",
      "   61900 data/Dota_2.txt\n",
      "    2346 data/Football_Manager_2015.txt\n",
      "   65860 data/Garrys_Mod.txt\n",
      "   19880 data/Grand_Theft_Auto_V.txt\n",
      "   67076 data/Sid_Meiers_Civilization_5.txt\n",
      "   63840 data/Team_Fortress_2.txt\n",
      "   65578 data/The_Elder_Scrolls_V.txt\n",
      "   49270 data/Warframe.txt\n",
      "  510872 total\n"
     ]
    }
   ],
   "source": [
    "# So, let's take a look at how many lines are in our reviews files\n",
    "# Note: I just started processing GTAV after ending all the other processes\n",
    "os.chdir('/home/mulhollandm2/reviews_project/reviewer_experience_prediction')\n",
    "! wc -l data/*.txt"
   ]
  },
  {
   "cell_type": "code",
   "execution_count": 85,
   "metadata": {
    "collapsed": false
   },
   "outputs": [],
   "source": [
    "# This is a stripped-down version of the function in read_data_files.py\n",
    "# Note: I decided to get rid of the language identification rule for the time\n",
    "# being because I don't want this function to take too long or else it will be\n",
    "# useless in this context. We will still use the rule, just not in this\n",
    "# notebook setting.\n",
    "def get_reviews_for_game(file_name):\n",
    "    '''\n",
    "    Get list of reviews in a single game file.\n",
    "\n",
    "    :param file_name: name of file\n",
    "    :type file_name: str\n",
    "    :returns: list of dicts\n",
    "    '''\n",
    "\n",
    "    reviews = []\n",
    "    lines = open(file_name).readlines()\n",
    "    i = 0\n",
    "    while i + 1 < len(lines): # We need to get every 2-line couplet\n",
    "        # Extract the hours value and the review text from each 2-line\n",
    "        # sequence\n",
    "        try:\n",
    "            h = float(lines[i].split()[1].strip())\n",
    "            r = lines[i + 1].split(' ', 1)[1].strip()\n",
    "        except (ValueError, IndexError) as e:\n",
    "            i += 2\n",
    "            continue\n",
    "        reviews.append(dict(hours=h,\n",
    "                            review=r))\n",
    "        i += 2 # Increment i by 2 since we need to go to the next\n",
    "            # 2-line couplet\n",
    "    return reviews"
   ]
  },
  {
   "cell_type": "markdown",
   "metadata": {},
   "source": [
    "# Arma 3 Stats"
   ]
  },
  {
   "cell_type": "code",
   "execution_count": 86,
   "metadata": {
    "collapsed": false
   },
   "outputs": [],
   "source": [
    "# So, let's first get all of the reviews for the game with the smallest amount of\n",
    "# review data, i.e., Football Manager 2015 (not including GTAV)\n",
    "reviews = get_reviews_for_game('data/Arma_3.txt')"
   ]
  },
  {
   "cell_type": "code",
   "execution_count": 87,
   "metadata": {
    "collapsed": false
   },
   "outputs": [
    {
     "name": "stdout",
     "output_type": "stream",
     "text": [
      "number of reviews: 15455\n"
     ]
    }
   ],
   "source": [
    "# First of all, how many reviews are there?\n",
    "print('number of reviews: {}'.format(len(reviews)))"
   ]
  },
  {
   "cell_type": "code",
   "execution_count": 88,
   "metadata": {
    "collapsed": false,
    "scrolled": true
   },
   "outputs": [
    {
     "data": {
      "text/plain": [
       "[{'hours': 206.5,\n",
       "  'review': 'My first game on A3 brought me the most horrific experience I\\'ve ever had in any game, ever. We\\'re on our way to the objective, a small dump east of a town occupied by enemy forces. I\\'m leading a team of 4 men. We come to a crossroad and I sprint across, telling my men to hold back. I cross a few more times, trying to get a response from any snipers. Nothing. I run, my SAW gunner runs, my medic runs. But I kept my Marksman on the other side to make sure we\\'d make it across. Anybody seen Full Metal Jacket all the way through? Remember the sniper scene? The marksman takes a round in the leg as we\\'re running and goes down. He then takes two more in the chest. The kid who was playing had some mad acting skills, he played it up to 11 here. He screams as he\\'s being shot. Crawling, drenched in his own blood. \"SARGE? YOU AIN\\'T LEAVING ME OUT HERE LIKE THIS, RIGHT? I-I WANNA GO WITH YOU GUYS! C\\'MON SARGE, H-HELP ME! C\\'MON! PLEASE DON\\'T LEAVE ME!\" he died after that. I cried and he respawned. 11/10, would recommend getting.'},\n",
       " {'hours': 65.9,\n",
       "  'review': 'This is not a game for people who want fast action movie style gaming, this is a game for people who appreciate the finer things. Having done both military service and picked up MILSIM airsoft as a hobby this game is the closest you will get to what goes on in reality. There are experiences you will have in ARMA 3 that can not be had in COD or BF, experiences that will have you shaking from the adrenaline release. One that comes to mind was a mission to destroy an enemy comms tower, I was squad leader of 8 or so AI:s. As we approached the Comms tower and I told my men to go stealth, no firing unless fired upon. We moved slowly taking advantage of terrain, keeping an watchful eye for enemy patrols. Once the tower was in visual range pace slowed even more and I spent the better part of 30 minutes just looking for enemy patrols and advancing to about 200 meters from the tower. There I positioned my men to cover a wide firing arc as I had spotted quite a few patrols moving in and about the tower. I considered opening fire and probably being able to drop a good portion of the enemy before they could zero in on our position. But a firefight is always a risk, and these AI had been around for a few missions and I had started to anthropomorphize them a bit and secondly I might get hit and killed. As I considered how I would start the engagement a sudden hole opened up in the patrol pattern, I realised the tower is unguarded and I had an opportunity to do something I had not considered. I got up and ran as fast as I could towards the tower, all the time expecting the bullets to start cracking above my head. I kept scanning as I ran whizzling through bushes trying to pick a path that the least visibility to any patrols. After what seemed like far too long I reached the tower and threw out a satchel charge and another for good measure, if one would not bring the tower down it would sure attract attention. I turned around and made my way back, as I closed on my men I started ordering them to fall back, hope growing that I might get out of this alive. Falling back to about 400 meters I finally detonated the satchel charges and the tower fell, from there it was just a short run to the truck and back to Command. I had done it. I had pulled off the perfect mission, not a shot fired and all under my command back alive. That is what this game is about.'},\n",
       " {'hours': 576.8,\n",
       "  'review': 'Oh man. Where to even begin with this one. It would be an extreme disservice to simply call Arma 3 a shooter, as it is so, so much more than that. Arma 3 is a military simulator. This is a distinction that its developers hold sacred and are proud of, and one to which I can attest is completely accurate and deserved. But its even more than that. Arma 3 is a gaming platform, upon which so much has already been and will continue to be built for years to come. At its core though, Arma 3 in a supremely excellent military sim. The graphics are stunning, the gameplay is excellent, the mechanics are solid, and Bohemia Interactive has done an absolutely amazing job packaging this all together. New comers to the Arma series (as I was) may initially be overwhelmed by the games complex mechanics and decidedly different pace from your typical FPS/shooter. Enemy engagements happen at much greater distance than is typical in the genre and are often brief, brutal, and more times than not will conclude with your demise. There is no handholding here. No mini-maps, no enemy UI icons/indicators, no hit markers, no health bars. If you get shot a couple of times, you will find yourself unceremoniously dispatched. While this creates a high barrier for entry and a steep learning curve for new players, it provides a unique and distinctive play style. Situational awareness, cover, teamwork, suppressive fire, and generally moving purposefully and as if your  depended on knowing what was behind the next ridge or hiding in the bushes are paramount to your success. Add to these infantry mechanics the amazingly rendered vehicles, armor, helicopters, and planes, each with their own realistic mechanics to learn and master, and you end up with a truly amazing military simulation experience. Out of the box, Arma comes with a great single player campaign comprised of 3 separate acts, each containing ~12-15 missions. The campaign focuses on a well crafted story of a military conflict that has erupted over Arma 3s two HUGE islands of Stratis and Altis. You play the part of a NATO soldier who finds himself stuck in the middle of a complex engagement. The campaign is rewarding, and challenging. (I have yet to complete it as Im stuck on one mission that I simply cant seem to complete.) However the single-player campaign is FAR from the end of this title. The mission editing tools have allowed this amazing community to develop some absolutely awesome single player missions, all of which can be downloaded free of charge from the Steam workshop and numerous other sites around the interwebs. I would also recommend you check out the supremely excellent full game conversion single player mods Whole Lotta Altis and Dynamic Universal War System which will provide countless additional single player hours and could be completely stand alone titles in themselves. Oh and the multiplayer, oh god the multiplayer. Wasteland, King of the Hill, Invade and Annex, Battle Royale, Breaking Point, so many Co-Op opportunities, the amazing looking upcoming Epoch (currently in closed Alpha). Im sure there are so many others that I havent even discovered yet. Each of these represent COMPLETELY USER GENERATED and totally disparate ways to play Multiplayer within the Arma 3 platform. By purchasing Arma 3, you immediately have access to each of these completely gratis and each could essentially be considered totally separate game. In wrapping up this lengthy review, Arma 3 is an amazing experience and a true accomplishment in game development. It is the only game in recent memory that I can say with confidence that I never get bored with playing. Bohemia Interactive has made it clear that they plan to support this game for years to come, and they have built something amazing on which the possibilities are truly endless. Purchase this game. Purchase it now. Thank me later. (IF YOU DO NOT FIND MY REVIEW HELPFUL, please leave a comment as to why. I welcome the constructive feedback.)'}]"
      ]
     },
     "execution_count": 88,
     "metadata": {},
     "output_type": "execute_result"
    }
   ],
   "source": [
    "# Here's a couple reviews from the beginning of the file\n",
    "reviews[:3]"
   ]
  },
  {
   "cell_type": "markdown",
   "metadata": {},
   "source": [
    "#Arma 3: Review Length Distribution"
   ]
  },
  {
   "cell_type": "code",
   "execution_count": 89,
   "metadata": {
    "collapsed": false
   },
   "outputs": [
    {
     "data": {
      "text/plain": [
       "[1029, 2375, 3985, 62, 329, 190, 1135, 235, 2135, 3279]"
      ]
     },
     "execution_count": 89,
     "metadata": {},
     "output_type": "execute_result"
    }
   ],
   "source": [
    "# Let's measure the lengths of each review using a \"list comprehension\"\n",
    "lengths = [len(review['review']) for review in reviews]\n",
    "# Let's print out the first 10 lengths, just to see what we're working with\n",
    "lengths[:10]"
   ]
  },
  {
   "cell_type": "code",
   "execution_count": 92,
   "metadata": {
    "collapsed": false
   },
   "outputs": [
    {
     "name": "stdout",
     "output_type": "stream",
     "text": [
      "average length: 238.88922678744743\n"
     ]
    }
   ],
   "source": [
    "# Compute the average length value\n",
    "avg_len = sum(lengths)/len(lengths)\n",
    "print('average length: {}'.format(avg_len))"
   ]
  },
  {
   "cell_type": "code",
   "execution_count": 93,
   "metadata": {
    "collapsed": false
   },
   "outputs": [
    {
     "name": "stdout",
     "output_type": "stream",
     "text": [
      "minimum review length = 1\n"
     ]
    }
   ],
   "source": [
    "min_len = min(lengths)\n",
    "print('minimum review length = {}'.format(min_len))"
   ]
  },
  {
   "cell_type": "code",
   "execution_count": 94,
   "metadata": {
    "collapsed": false
   },
   "outputs": [
    {
     "name": "stdout",
     "output_type": "stream",
     "text": [
      "maximum review length = 7953\n"
     ]
    }
   ],
   "source": [
    "max_len = max(lengths)\n",
    "print('maximum review length = {}'.format(max_len))"
   ]
  },
  {
   "cell_type": "code",
   "execution_count": 95,
   "metadata": {
    "collapsed": false
   },
   "outputs": [
    {
     "name": "stdout",
     "output_type": "stream",
     "text": [
      "original lengths (first 10):          [1029, 2375, 3985, 62, 329, 190, 1135, 235, 2135, 3279]\n",
      "rounded lengths (to the nearest 300): [1200, 2400, 4200, 300, 600, 300, 1200, 300, 2400, 3300]\n"
     ]
    }
   ],
   "source": [
    "# Let's try to make a list of rounded length values where we round to the nearest\n",
    "# 300 (I know, that's a pretty strange kind of thing to do)\n",
    "from math import ceil\n",
    "# We can do this by diving each length by 300, then rounding up, then multiplyig by 300\n",
    "rounded_lengths = [ceil(l/300)*300 for l in lengths]\n",
    "print('original lengths (first 10):          {}\\nrounded lengths (to the nearest 300): {}'.format(\n",
    "    lengths[:10],\n",
    "    rounded_lengths[:10]))"
   ]
  },
  {
   "cell_type": "code",
   "execution_count": 96,
   "metadata": {
    "collapsed": false
   },
   "outputs": [
    {
     "data": {
      "text/plain": [
       "Counter({300: 12306, 600: 1626, 900: 650, 1200: 320, 1500: 187, 1800: 108, 2100: 78, 2400: 37, 2700: 29, 3300: 23, 3900: 22, 3000: 20, 3600: 12, 4200: 12, 5100: 5, 8100: 4, 5700: 3, 7500: 3, 7800: 3, 4800: 2, 6000: 2, 4500: 1, 6300: 1, 6900: 1})"
      ]
     },
     "execution_count": 96,
     "metadata": {},
     "output_type": "execute_result"
    }
   ],
   "source": [
    "# Now, let's make a frequency distribution with the collections.Counter module\n",
    "from collections import Counter\n",
    "rounded_length_fdist = Counter(rounded_lengths)\n",
    "rounded_length_fdist"
   ]
  },
  {
   "cell_type": "code",
   "execution_count": 97,
   "metadata": {
    "collapsed": true
   },
   "outputs": [],
   "source": [
    "# Let's try to print out the freq dist in a nice way\n",
    "# Bear with me as I attempt to use pandas, which is a very nice Python library\n",
    "import pandas as pd"
   ]
  },
  {
   "cell_type": "code",
   "execution_count": 98,
   "metadata": {
    "collapsed": false
   },
   "outputs": [
    {
     "data": {
      "text/plain": [
       "300     12306\n",
       "600      1626\n",
       "900       650\n",
       "1200      320\n",
       "1500      187\n",
       "1800      108\n",
       "2100       78\n",
       "2400       37\n",
       "2700       29\n",
       "3300       23\n",
       "3900       22\n",
       "3000       20\n",
       "4200       12\n",
       "3600       12\n",
       "5100        5\n",
       "8100        4\n",
       "7800        3\n",
       "5700        3\n",
       "7500        3\n",
       "4800        2\n",
       "6000        2\n",
       "6300        1\n",
       "4500        1\n",
       "6900        1\n",
       "dtype: int64"
      ]
     },
     "execution_count": 98,
     "metadata": {},
     "output_type": "execute_result"
    }
   ],
   "source": [
    "# Usually, when you use Pandas, you're using a dataframe, but a dataframe, as I understand\n",
    "# it, it just made up on a set of \"Series\"\n",
    "# Let's make a Series from our rounded lengths and then call its value_counts() method to\n",
    "# get exactly what collections.Counter was doing (but we'll be able to use it to make a\n",
    "# nice plot)\n",
    "rounded_length_series = pd.Series(rounded_lengths)\n",
    "rounded_length_series.value_counts()"
   ]
  },
  {
   "cell_type": "code",
   "execution_count": 102,
   "metadata": {
    "collapsed": false
   },
   "outputs": [
    {
     "data": {
      "text/plain": [
       "True"
      ]
     },
     "execution_count": 102,
     "metadata": {},
     "output_type": "execute_result"
    }
   ],
   "source": [
    "# If 90% of the reviews have length <= 600 of the reviews, but not 300,\n",
    "# let's set MAXLEN to 600\n",
    "len([r for r in reviews if len(r['review']) <= 600])/len(reviews) >= 0.9"
   ]
  },
  {
   "cell_type": "code",
   "execution_count": 103,
   "metadata": {
    "collapsed": true
   },
   "outputs": [],
   "source": [
    "# So, we can use 600 for the length value"
   ]
  },
  {
   "cell_type": "code",
   "execution_count": 104,
   "metadata": {
    "collapsed": false
   },
   "outputs": [
    {
     "data": {
      "text/plain": [
       "(array([  1.45820000e+04,   6.15000000e+02,   1.15000000e+02,\n",
       "          7.20000000e+01,   3.40000000e+01,   1.50000000e+01,\n",
       "          8.00000000e+00,   3.00000000e+00,   1.00000000e+00,\n",
       "          1.00000000e+01]),\n",
       " array([  300.,  1080.,  1860.,  2640.,  3420.,  4200.,  4980.,  5760.,\n",
       "         6540.,  7320.,  8100.]),\n",
       " <a list of 10 Patch objects>)"
      ]
     },
     "execution_count": 104,
     "metadata": {},
     "output_type": "execute_result"
    },
    {
     "data": {
      "image/png": "[encoded data removed]",
      "text/plain": [
       "<matplotlib.figure.Figure at 0x2adb1a67e6a0>"
      ]
     },
     "metadata": {},
     "output_type": "display_data"
    }
   ],
   "source": [
    "# The table above is nice, but let's do better and try to get a histogram\n",
    "# Don't worry about all this importing stuff, it's just from something I read in a blog\n",
    "# post\n",
    "# Actually, go and check out the blog post here:\n",
    "# http://nbviewer.ipython.org/github/mwaskom/seaborn/blob/master/examples/plotting_distributions.ipynb\n",
    "# It's in, you guessed it, an IPython notebook! Shows what you can do with\n",
    "# matplotlib.\n",
    "%matplotlib inline\n",
    "import pandas as pd\n",
    "import seaborn as sns\n",
    "import matplotlib.pyplot as plt\n",
    "sns.set_palette(\"deep\", desat=.6)\n",
    "sns.set_context(rc={\"figure.figsize\": (8, 4)})\n",
    "plt.hist(rounded_length_series)"
   ]
  },
  {
   "cell_type": "markdown",
   "metadata": {},
   "source": [
    "#Arma 3: Hours Distribution"
   ]
  },
  {
   "cell_type": "code",
   "execution_count": 105,
   "metadata": {
    "collapsed": false
   },
   "outputs": [
    {
     "data": {
      "text/plain": [
       "[206.5, 65.9, 576.8, 92.3, 46.7, 2687.4, 919.3, 958.1, 457.1, 280.1]"
      ]
     },
     "execution_count": 105,
     "metadata": {},
     "output_type": "execute_result"
    }
   ],
   "source": [
    "# Let's do a similar kind of thing for the hours values\n",
    "hours = [review['hours'] for review in reviews]\n",
    "hours[:10]"
   ]
  },
  {
   "cell_type": "code",
   "execution_count": 106,
   "metadata": {
    "collapsed": false
   },
   "outputs": [
    {
     "name": "stdout",
     "output_type": "stream",
     "text": [
      "min: 0.1\n",
      "max: 4785.5\n"
     ]
    }
   ],
   "source": [
    "print(\"min: {}\\nmax: {}\".format(min(hours), max(hours)))"
   ]
  },
  {
   "cell_type": "code",
   "execution_count": 107,
   "metadata": {
    "collapsed": true
   },
   "outputs": [],
   "source": [
    "rounded_hours = [ceil(h/300)*300 for h in hours]"
   ]
  },
  {
   "cell_type": "code",
   "execution_count": 108,
   "metadata": {
    "collapsed": false
   },
   "outputs": [
    {
     "data": {
      "text/plain": [
       "[300, 300, 600, 300, 300, 2700, 1200, 1200, 600, 300]"
      ]
     },
     "execution_count": 108,
     "metadata": {},
     "output_type": "execute_result"
    }
   ],
   "source": [
    "rounded_hours[:10]"
   ]
  },
  {
   "cell_type": "code",
   "execution_count": 109,
   "metadata": {
    "collapsed": false
   },
   "outputs": [
    {
     "data": {
      "text/plain": [
       "300     11318\n",
       "600      2273\n",
       "900       894\n",
       "1200      439\n",
       "1500      256\n",
       "1800      112\n",
       "2100       69\n",
       "2400       47\n",
       "2700       18\n",
       "3000       13\n",
       "3600        5\n",
       "3900        4\n",
       "3300        3\n",
       "4200        3\n",
       "4800        1\n",
       "dtype: int64"
      ]
     },
     "execution_count": 109,
     "metadata": {},
     "output_type": "execute_result"
    }
   ],
   "source": [
    "# Let's use pandas again instead of collections.Counter\n",
    "rounded_hours_series = pd.Series(rounded_hours)\n",
    "rounded_hours_series.value_counts()"
   ]
  },
  {
   "cell_type": "code",
   "execution_count": 110,
   "metadata": {
    "collapsed": false
   },
   "outputs": [
    {
     "data": {
      "text/plain": [
       "(array([  1.35910000e+04,   8.94000000e+02,   6.95000000e+02,\n",
       "          1.12000000e+02,   1.16000000e+02,   1.80000000e+01,\n",
       "          1.60000000e+01,   5.00000000e+00,   7.00000000e+00,\n",
       "          1.00000000e+00]),\n",
       " array([  300.,   750.,  1200.,  1650.,  2100.,  2550.,  3000.,  3450.,\n",
       "         3900.,  4350.,  4800.]),\n",
       " <a list of 10 Patch objects>)"
      ]
     },
     "execution_count": 110,
     "metadata": {},
     "output_type": "execute_result"
    },
    {
     "data": {
      "image/png": "[encoded data removed]",
      "text/plain": [
       "<matplotlib.figure.Figure at 0x2adb1a9049b0>"
      ]
     },
     "metadata": {},
     "output_type": "display_data"
    }
   ],
   "source": [
    "# Let's plot it!\n",
    "plt.hist(rounded_hours_series)"
   ]
  },
  {
   "cell_type": "code",
   "execution_count": 112,
   "metadata": {
    "collapsed": false
   },
   "outputs": [
    {
     "data": {
      "text/plain": [
       "True"
      ]
     },
     "execution_count": 112,
     "metadata": {},
     "output_type": "execute_result"
    }
   ],
   "source": [
    "# If 90% of the reviews have hours values <= 900 of the reviews, but not 600,\n",
    "# let's set MAXHOURS to 900\n",
    "len([r for r in reviews if r['hours'] <= 900])/len(reviews) >= 0.9"
   ]
  },
  {
   "cell_type": "code",
   "execution_count": 65,
   "metadata": {
    "collapsed": true
   },
   "outputs": [],
   "source": [
    "# Playing around with this library called plotly\n",
    "# Let's try to make a histogram in a slightly different kind of way\n",
    "import plotly\n",
    "import plotly.tools as tls\n",
    "import plotly.plotly as py\n",
    "from plotly.graph_objs import *\n",
    "rounded_lengths_data = Data([\n",
    "                             Histogram(\n",
    "                                       x=rounded_lengths\n",
    "                                       )\n",
    "                             ])"
   ]
  },
  {
   "cell_type": "code",
   "execution_count": 66,
   "metadata": {
    "collapsed": false
   },
   "outputs": [],
   "source": [
    "plot_url = py.plot(rounded_lengths_data, filename='basic-histogram')"
   ]
  },
  {
   "cell_type": "code",
   "execution_count": 67,
   "metadata": {
    "collapsed": false
   },
   "outputs": [
    {
     "data": {
      "text/plain": [
       "'https://plot.ly/~mulhod/4'"
      ]
     },
     "execution_count": 67,
     "metadata": {},
     "output_type": "execute_result"
    }
   ],
   "source": [
    "# Hmm, seems kind of interesting, there's a lot of stuff you can do with\n",
    "# visualizing the data\n",
    "# Here's the plot url, but I don't know if anybody but me will be able to see it,\n",
    "# so, I'm going to try to put the graph directly in the IPython notebook.\n",
    "plot_url"
   ]
  },
  {
   "cell_type": "code",
   "execution_count": 68,
   "metadata": {
    "collapsed": false
   },
   "outputs": [
    {
     "data": {
      "text/html": [
       "<iframe id=\"igraph\" scrolling=\"no\" style=\"border:none;\"seamless=\"seamless\" src=\"https://plot.ly/~mulhod/4.embed\" height=\"525\" width=\"100%\"></iframe>"
      ],
      "text/plain": [
       "<plotly.tools.PlotlyDisplay object>"
      ]
     },
     "execution_count": 68,
     "metadata": {},
     "output_type": "execute_result"
    }
   ],
   "source": [
    "py.iplot(rounded_lengths_data, filename='basic-histogram')"
   ]
  },
  {
   "cell_type": "code",
   "execution_count": 69,
   "metadata": {
    "collapsed": true
   },
   "outputs": [],
   "source": [
    "# It's nice how interactive the graphs from plotly are! Hover around on\n",
    "# the graph. Also, look at the lower right and right-click the \"Play\n",
    "# with this data! >>\" button"
   ]
  },
  {
   "cell_type": "code",
   "execution_count": 70,
   "metadata": {
    "collapsed": true
   },
   "outputs": [],
   "source": [
    "# Anyway, this was just an aside. You don't need to do the plotly stuff\n",
    "# for every game, though it actually does look nicer. Use either plotly or\n",
    "# matplotlib"
   ]
  },
  {
   "cell_type": "markdown",
   "metadata": {
    "collapsed": true
   },
   "source": [
    "#Grand Theft Auto V Stats"
   ]
  },
  {
   "cell_type": "code",
   "execution_count": 113,
   "metadata": {
    "collapsed": false
   },
   "outputs": [
    {
     "data": {
      "text/plain": [
       "[{'hours': 27.8,\n",
       "  'review': \"Game of the year simulator. If you're thinking about buying a game and you don't have GTA5 you basically need this game. BEWARE you need a pretty fast computer to keep up, the game is cheap in comparison to what you might need to spend to get it running but I can play it on a Radeon HD 5870 1GB without much fuss so the fact that it can run on 2009 hardware is pretty impressive. No complaints in the optimization department. I must say, the PC options are fantastic. There is a LOT of tweaking to do, especially in regards to the controller and keyboard settings in addition to the expansive performance tweaks. My favorite part is having a keyboard and mouse and gamepad in front of me and when the game gets to an intense shooting part I can put down my controller and use the keyboard/mouse and start shooting without having to go to a settings menu and change anything. It just works. It's perfect. The gameplay itself needs no introduction. You can do pretty much anything. Even online play is pretty good, first time I played two guys were in an airplane and nosedived right into me while on foot and everyone died. 10/10\"},\n",
       " {'hours': 48.8, 'review': \"I can taste the console peasants' tears\"},\n",
       " {'hours': 56.0,\n",
       "  'review': 'This review took me almost 2 years to write and was delayed 3 times.'}]"
      ]
     },
     "execution_count": 113,
     "metadata": {},
     "output_type": "execute_result"
    }
   ],
   "source": [
    "reviews = get_reviews_for_game('data/Grand_Theft_Auto_V.txt')\n",
    "reviews[:3]"
   ]
  },
  {
   "cell_type": "markdown",
   "metadata": {},
   "source": [
    "#Grand Theft Auto V: Review Length Distribution"
   ]
  },
  {
   "cell_type": "code",
   "execution_count": 114,
   "metadata": {
    "collapsed": false
   },
   "outputs": [
    {
     "data": {
      "text/plain": [
       "[1129, 39, 68, 63, 85, 79, 357, 203, 2034, 15]"
      ]
     },
     "execution_count": 114,
     "metadata": {},
     "output_type": "execute_result"
    }
   ],
   "source": [
    "lengths = [len(review['review']) for review in reviews]\n",
    "lengths[:10]"
   ]
  },
  {
   "cell_type": "code",
   "execution_count": 115,
   "metadata": {
    "collapsed": false
   },
   "outputs": [
    {
     "name": "stdout",
     "output_type": "stream",
     "text": [
      "min: 1\n",
      "max: 7958\n"
     ]
    }
   ],
   "source": [
    "print(\"min: {}\\nmax: {}\".format(min(lengths), max(lengths)))"
   ]
  },
  {
   "cell_type": "code",
   "execution_count": 116,
   "metadata": {
    "collapsed": false
   },
   "outputs": [
    {
     "data": {
      "text/plain": [
       "[1200, 300, 300, 300, 300, 300, 600, 300, 2100, 300]"
      ]
     },
     "execution_count": 116,
     "metadata": {},
     "output_type": "execute_result"
    }
   ],
   "source": [
    "rounded_lengths = [ceil(l/300)*300 for l in lengths]\n",
    "rounded_lengths[:10]"
   ]
  },
  {
   "cell_type": "code",
   "execution_count": 119,
   "metadata": {
    "collapsed": false
   },
   "outputs": [
    {
     "data": {
      "text/plain": [
       "True"
      ]
     },
     "execution_count": 119,
     "metadata": {},
     "output_type": "execute_result"
    }
   ],
   "source": [
    "# If 90% of the reviews have length <= 600 of the reviews, but not 300,\n",
    "# let's set MAXLEN to 600\n",
    "len([r for r in reviews if len(r['review']) <= 600])/len(reviews) >= 0.9"
   ]
  },
  {
   "cell_type": "code",
   "execution_count": 120,
   "metadata": {
    "collapsed": false
   },
   "outputs": [
    {
     "data": {
      "text/plain": [
       "(array([  9.43500000e+03,   3.67000000e+02,   6.70000000e+01,\n",
       "          3.60000000e+01,   9.00000000e+00,   1.10000000e+01,\n",
       "          7.00000000e+00,   0.00000000e+00,   3.00000000e+00,\n",
       "          5.00000000e+00]),\n",
       " array([  300.,  1080.,  1860.,  2640.,  3420.,  4200.,  4980.,  5760.,\n",
       "         6540.,  7320.,  8100.]),\n",
       " <a list of 10 Patch objects>)"
      ]
     },
     "execution_count": 120,
     "metadata": {},
     "output_type": "execute_result"
    },
    {
     "data": {
      "image/png": "[encoded data removed]",
      "text/plain": [
       "<matplotlib.figure.Figure at 0x2adb15b5cb70>"
      ]
     },
     "metadata": {},
     "output_type": "display_data"
    }
   ],
   "source": [
    "rounded_lengths_series = pd.Series(rounded_lengths)\n",
    "plt.hist(rounded_lengths_series)"
   ]
  },
  {
   "cell_type": "markdown",
   "metadata": {},
   "source": [
    "#Grand Theft Auto V: Review Hours Played Distribution"
   ]
  },
  {
   "cell_type": "code",
   "execution_count": 121,
   "metadata": {
    "collapsed": false
   },
   "outputs": [
    {
     "data": {
      "text/plain": [
       "[27.8, 48.8, 56.0, 59.7, 3.8, 22.5, 19.0, 66.6, 75.8, 61.4]"
      ]
     },
     "execution_count": 121,
     "metadata": {},
     "output_type": "execute_result"
    }
   ],
   "source": [
    "hours = [review['hours'] for review in reviews]\n",
    "hours[:10]"
   ]
  },
  {
   "cell_type": "code",
   "execution_count": 122,
   "metadata": {
    "collapsed": false
   },
   "outputs": [
    {
     "name": "stdout",
     "output_type": "stream",
     "text": [
      "min: 0.1\n",
      "max: 235.0\n"
     ]
    }
   ],
   "source": [
    "print(\"min: {}\\nmax: {}\".format(min(hours), max(hours)))"
   ]
  },
  {
   "cell_type": "code",
   "execution_count": 123,
   "metadata": {
    "collapsed": false
   },
   "outputs": [
    {
     "data": {
      "text/plain": [
       "[30, 50, 60, 60, 10, 30, 20, 70, 80, 70]"
      ]
     },
     "execution_count": 123,
     "metadata": {},
     "output_type": "execute_result"
    }
   ],
   "source": [
    "rounded_hours = [ceil(h/10)*10 for h in hours]\n",
    "rounded_hours[:10]"
   ]
  },
  {
   "cell_type": "code",
   "execution_count": 124,
   "metadata": {
    "collapsed": false
   },
   "outputs": [
    {
     "data": {
      "text/plain": [
       "(array([  4.25200000e+03,   2.75000000e+03,   1.63700000e+03,\n",
       "          9.80000000e+02,   1.96000000e+02,   8.20000000e+01,\n",
       "          3.10000000e+01,   4.00000000e+00,   6.00000000e+00,\n",
       "          2.00000000e+00]),\n",
       " array([  10.,   33.,   56.,   79.,  102.,  125.,  148.,  171.,  194.,\n",
       "         217.,  240.]),\n",
       " <a list of 10 Patch objects>)"
      ]
     },
     "execution_count": 124,
     "metadata": {},
     "output_type": "execute_result"
    },
    {
     "data": {
      "image/png": "[encoded data removed]",
      "text/plain": [
       "<matplotlib.figure.Figure at 0x2adb158bb630>"
      ]
     },
     "metadata": {},
     "output_type": "display_data"
    }
   ],
   "source": [
    "rounded_hours_series = pd.Series(rounded_hours)\n",
    "plt.hist(rounded_hours_series)"
   ]
  },
  {
   "cell_type": "code",
   "execution_count": 133,
   "metadata": {
    "collapsed": false
   },
   "outputs": [
    {
     "data": {
      "text/plain": [
       "True"
      ]
     },
     "execution_count": 133,
     "metadata": {},
     "output_type": "execute_result"
    }
   ],
   "source": [
    "# If 90% of the reviews have hours values <= 80 of the reviews, but not 70,\n",
    "# let's set MAXHOURS to 80\n",
    "len([r for r in reviews if r['hours'] <= 80])/len(reviews) >= 0.9"
   ]
  }
 ],
 "metadata": {
  "kernelspec": {
   "display_name": "Python 3",
   "language": "python",
   "name": "python3"
  },
  "language_info": {
   "codemirror_mode": {
    "name": "ipython",
    "version": 3
   },
   "file_extension": ".py",
   "mimetype": "text/x-python",
   "name": "python",
   "nbconvert_exporter": "python",
   "pygments_lexer": "ipython3",
   "version": "3.4.3"
  }
 },
 "nbformat": 4,
 "nbformat_minor": 0
}
