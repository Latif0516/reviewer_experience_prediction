{
 "cells": [
  {
   "cell_type": "markdown",
   "metadata": {},
   "source": [
    "# Incremental Learning with scikit-learn"
   ]
  },
  {
   "cell_type": "code",
   "execution_count": 1,
   "metadata": {
    "collapsed": false
   },
   "outputs": [],
   "source": [
    "from operator import or_\n",
    "\n",
    "from src.features import *\n",
    "from util.datasets import *\n",
    "from util.mongodb import *\n",
    "\n",
    "import numpy as np\n",
    "import pandas as pd\n",
    "from bson import BSON\n",
    "from pymongo import cursor\n",
    "from sklearn.cluster import MiniBatchKMeans\n",
    "from sklearn.naive_bayes import (BernoulliNB,\n",
    "                                 MultinomialNB)\n",
    "from sklearn.linear_model import (Perceptron,\n",
    "                                  PassiveAggressiveRegressor)\n",
    "from sklearn.feature_extraction import DictVectorizer\n",
    "\n",
    "from sklearn.grid_search import ParameterGrid\n",
    "from skll.metrics import kappa\n",
    "from sklearn.metrics import (precision_score,\n",
    "                             f1_score,\n",
    "                             average_precision_score,\n",
    "                             accuracy_score,\n",
    "                             confusion_matrix)\n",
    "from scipy.stats import pearsonr"
   ]
  },
  {
   "cell_type": "markdown",
   "metadata": {},
   "source": [
    "## Data"
   ]
  },
  {
   "cell_type": "code",
   "execution_count": 2,
   "metadata": {
    "collapsed": true
   },
   "outputs": [],
   "source": [
    "# Running MongoDB on my own personal server (tunneled to localhost:37017\n",
    "# in this case)\n",
    "# Example: ssh -N -f -L localhost:37017:localhost:2700 mulhod@pool-108-24-47-200.cmdnnj.fios.verizon.net\n",
    "host = 'localhost'\n",
    "port = 37017\n",
    "db = connect_to_db(host=host,\n",
    "                   port=port)"
   ]
  },
  {
   "cell_type": "code",
   "execution_count": 3,
   "metadata": {
    "collapsed": false
   },
   "outputs": [
    {
     "data": {
      "text/plain": [
       "54051"
      ]
     },
     "execution_count": 3,
     "metadata": {},
     "output_type": "execute_result"
    }
   ],
   "source": [
    "# Number of training/test reviews across all games\n",
    "db.count()"
   ]
  },
  {
   "cell_type": "code",
   "execution_count": 4,
   "metadata": {
    "collapsed": false
   },
   "outputs": [
    {
     "name": "stdout",
     "output_type": "stream",
     "text": [
      "Arma_3.jsonlines\r\n",
      "Counter_Strike_Global_Offensive.jsonlines\r\n",
      "Counter_Strike.jsonlines\r\n",
      "Dota_2.jsonlines\r\n",
      "Football_Manager_2015.jsonlines\r\n",
      "Garrys_Mod.jsonlines\r\n",
      "Grand_Theft_Auto_V.jsonlines\r\n",
      "sample.jsonlines\r\n",
      "Sid_Meiers_Civilization_5.jsonlines\r\n",
      "Team_Fortress_2.jsonlines\r\n",
      "The_Elder_Scrolls_V.jsonlines\r\n",
      "Warframe.jsonlines\r\n"
     ]
    }
   ],
   "source": [
    "# List games that the database contains data for\n",
    "! ls ../data/*jsonlines | awk -F/ '{print $NF}'"
   ]
  },
  {
   "cell_type": "code",
   "execution_count": 5,
   "metadata": {
    "collapsed": false
   },
   "outputs": [
    {
     "data": {
      "text/plain": [
       "{'_id': ObjectId('560394d3cbb14611d0957f1c'),\n",
       " 'achievement_progress': {'num_achievements_attained': 7,\n",
       "  'num_achievements_percentage': 0.16279069767441862,\n",
       "  'num_achievements_possible': 43},\n",
       " 'appid': '107410',\n",
       " 'bin_factor': 2.0,\n",
       " 'bin_ranges': [[0.0, 338.1], [338.2, 1014.4], [1014.5, 2367.0]],\n",
       " 'binarized': True,\n",
       " 'date_posted': 'Dec 15, 2013, 7:32PM',\n",
       " 'date_updated': None,\n",
       " 'found_helpful_percentage': 0.5,\n",
       " 'friend_player_level': 7,\n",
       " 'game': 'Arma_3',\n",
       " 'id_string': '560394d3cbb14611d0957f1c',\n",
       " 'nbins': 3,\n",
       " 'num_badges': 5,\n",
       " 'num_comments': 1,\n",
       " 'num_found_funny': 0,\n",
       " 'num_found_helpful': 2,\n",
       " 'num_found_unhelpful': 2,\n",
       " 'num_friends': 35,\n",
       " 'num_games_owned': 75,\n",
       " 'num_groups': 7,\n",
       " 'num_guides': 0,\n",
       " 'num_reviews': 1,\n",
       " 'num_screenshots': 789,\n",
       " 'num_voted_helpfulness': 4,\n",
       " 'num_workshop_items': 1,\n",
       " 'orig_url': 'http://steamcommunity.com/app/107410/homecontent/?userreviewsoffset=5150&p=1&itemspage=516&screenshotspage=516&videospage=516&artpage=516&allguidepage=516&webguidepage=516&integratedguidepage=516&discussionspage=516&appid=107410&appHubSubSection=10&appHubSubSection=10&l=english&browsefilter=toprated&filterLanguage=default&searchText=&forceanon=1',\n",
       " 'partition': 'training',\n",
       " 'profile_url': 'http://steamcommunity.com/id/EthanTheFinn',\n",
       " 'rating': 'Recommended',\n",
       " 'review': '10 - Graphics 9.5 - Sound 10 - Gameplay 9.7 - Voice Acting 10 - Potential (Modding, and custom mission scenarios) Overal this is a great game!',\n",
       " 'review_url': 'http://steamcommunity.com/id/EthanTheFinn/recommended/107410/',\n",
       " 'steam_id_number': 'EthanTheFinn',\n",
       " 'total_game_hours': 602.3,\n",
       " 'total_game_hours_bin': 2,\n",
       " 'total_game_hours_last_two_weeks': 0.0,\n",
       " 'username': 'Ethan'}"
      ]
     },
     "execution_count": 5,
     "metadata": {},
     "output_type": "execute_result"
    }
   ],
   "source": [
    "# Let's get a sense for the kind of data that is contained in each document\n",
    "# (not including the NLP features, which have to be decoded, anyway)\n",
    "db.find_one({},\n",
    "            {'nlp_features': 0})"
   ]
  },
  {
   "cell_type": "code",
   "execution_count": 6,
   "metadata": {
    "collapsed": false
   },
   "outputs": [
    {
     "name": "stdout",
     "output_type": "stream",
     "text": [
      "appid\n",
      "steam_id_number\n",
      "num_found_unhelpful\n",
      "total_game_hours\n",
      "friend_player_level\n",
      "partition\n",
      "num_reviews\n",
      "total_game_hours_bin\n",
      "game\n",
      "num_found_funny\n",
      "date_posted\n",
      "num_games_owned\n",
      "_id\n",
      "num_screenshots\n",
      "username\n",
      "num_groups\n",
      "bin_ranges\n",
      "num_found_helpful\n",
      "total_game_hours_last_two_weeks\n",
      "num_comments\n",
      "bin_factor\n",
      "binarized\n",
      "id_string\n",
      "found_helpful_percentage\n",
      "orig_url\n",
      "num_workshop_items\n",
      "num_guides\n",
      "rating\n",
      "nbins\n",
      "review\n",
      "num_voted_helpfulness\n",
      "date_updated\n",
      "review_url\n",
      "profile_url\n",
      "num_badges\n",
      "achievement_progress\n",
      "num_friends\n"
     ]
    }
   ],
   "source": [
    "# Review attributes\n",
    "print('\\n'.join(db.find_one({},\n",
    "                            {'nlp_features': 0}).keys()))"
   ]
  },
  {
   "cell_type": "code",
   "execution_count": 7,
   "metadata": {
    "collapsed": false
   },
   "outputs": [
    {
     "data": {
      "text/html": [
       "<div>\n",
       "<table border=\"1\" class=\"dataframe\">\n",
       "  <thead>\n",
       "    <tr style=\"text-align: right;\">\n",
       "      <th></th>\n",
       "      <th>feature</th>\n",
       "      <th>value</th>\n",
       "    </tr>\n",
       "  </thead>\n",
       "  <tbody>\n",
       "    <tr>\n",
       "      <th>0</th>\n",
       "      <td>-</td>\n",
       "      <td>1</td>\n",
       "    </tr>\n",
       "    <tr>\n",
       "      <th>1</th>\n",
       "      <td>- Gra</td>\n",
       "      <td>1</td>\n",
       "    </tr>\n",
       "    <tr>\n",
       "      <th>2</th>\n",
       "      <td>om m</td>\n",
       "      <td>1</td>\n",
       "    </tr>\n",
       "    <tr>\n",
       "      <th>3</th>\n",
       "      <td>odd</td>\n",
       "      <td>1</td>\n",
       "    </tr>\n",
       "    <tr>\n",
       "      <th>4</th>\n",
       "      <td>Voic</td>\n",
       "      <td>1</td>\n",
       "    </tr>\n",
       "    <tr>\n",
       "      <th>5</th>\n",
       "      <td>mission scenarios</td>\n",
       "      <td>1</td>\n",
       "    </tr>\n",
       "    <tr>\n",
       "      <th>6</th>\n",
       "      <td>ia</td>\n",
       "      <td>1</td>\n",
       "    </tr>\n",
       "    <tr>\n",
       "      <th>7</th>\n",
       "      <td>scenario:VMOD:modding</td>\n",
       "      <td>1</td>\n",
       "    </tr>\n",
       "    <tr>\n",
       "      <th>8</th>\n",
       "      <td>0</td>\n",
       "      <td>1</td>\n",
       "    </tr>\n",
       "    <tr>\n",
       "      <th>9</th>\n",
       "      <td>cluster1831</td>\n",
       "      <td>1</td>\n",
       "    </tr>\n",
       "    <tr>\n",
       "      <th>10</th>\n",
       "      <td>custom mission</td>\n",
       "      <td>1</td>\n",
       "    </tr>\n",
       "    <tr>\n",
       "      <th>11</th>\n",
       "      <td>and</td>\n",
       "      <td>1</td>\n",
       "    </tr>\n",
       "    <tr>\n",
       "      <th>12</th>\n",
       "      <td>tial</td>\n",
       "      <td>1</td>\n",
       "    </tr>\n",
       "    <tr>\n",
       "      <th>13</th>\n",
       "      <td>l th</td>\n",
       "      <td>1</td>\n",
       "    </tr>\n",
       "    <tr>\n",
       "      <th>14</th>\n",
       "      <td>la</td>\n",
       "      <td>1</td>\n",
       "    </tr>\n",
       "    <tr>\n",
       "      <th>15</th>\n",
       "      <td>reat</td>\n",
       "      <td>1</td>\n",
       "    </tr>\n",
       "    <tr>\n",
       "      <th>16</th>\n",
       "      <td>ph</td>\n",
       "      <td>1</td>\n",
       "    </tr>\n",
       "    <tr>\n",
       "      <th>17</th>\n",
       "      <td>game!</td>\n",
       "      <td>1</td>\n",
       "    </tr>\n",
       "    <tr>\n",
       "      <th>18</th>\n",
       "      <td>ntial</td>\n",
       "      <td>1</td>\n",
       "    </tr>\n",
       "    <tr>\n",
       "      <th>19</th>\n",
       "      <td>ddi</td>\n",
       "      <td>1</td>\n",
       "    </tr>\n",
       "    <tr>\n",
       "      <th>20</th>\n",
       "      <td>m mis</td>\n",
       "      <td>1</td>\n",
       "    </tr>\n",
       "    <tr>\n",
       "      <th>21</th>\n",
       "      <td>potential</td>\n",
       "      <td>1</td>\n",
       "    </tr>\n",
       "    <tr>\n",
       "      <th>22</th>\n",
       "      <td>g 10</td>\n",
       "      <td>1</td>\n",
       "    </tr>\n",
       "    <tr>\n",
       "      <th>23</th>\n",
       "      <td>und</td>\n",
       "      <td>1</td>\n",
       "    </tr>\n",
       "    <tr>\n",
       "      <th>24</th>\n",
       "      <td>9</td>\n",
       "      <td>1</td>\n",
       "    </tr>\n",
       "    <tr>\n",
       "      <th>25</th>\n",
       "      <td>nd 1</td>\n",
       "      <td>1</td>\n",
       "    </tr>\n",
       "    <tr>\n",
       "      <th>26</th>\n",
       "      <td>voice</td>\n",
       "      <td>1</td>\n",
       "    </tr>\n",
       "    <tr>\n",
       "      <th>27</th>\n",
       "      <td>ar</td>\n",
       "      <td>1</td>\n",
       "    </tr>\n",
       "    <tr>\n",
       "      <th>28</th>\n",
       "      <td>t</td>\n",
       "      <td>1</td>\n",
       "    </tr>\n",
       "    <tr>\n",
       "      <th>29</th>\n",
       "      <td>scen</td>\n",
       "      <td>1</td>\n",
       "    </tr>\n",
       "    <tr>\n",
       "      <th>...</th>\n",
       "      <td>...</td>\n",
       "      <td>...</td>\n",
       "    </tr>\n",
       "    <tr>\n",
       "      <th>370</th>\n",
       "      <td>Acti</td>\n",
       "      <td>1</td>\n",
       "    </tr>\n",
       "    <tr>\n",
       "      <th>371</th>\n",
       "      <td>th</td>\n",
       "      <td>1</td>\n",
       "    </tr>\n",
       "    <tr>\n",
       "      <th>372</th>\n",
       "      <td>grea</td>\n",
       "      <td>1</td>\n",
       "    </tr>\n",
       "    <tr>\n",
       "      <th>373</th>\n",
       "      <td>be:ROOT:overal</td>\n",
       "      <td>1</td>\n",
       "    </tr>\n",
       "    <tr>\n",
       "      <th>374</th>\n",
       "      <td>pla</td>\n",
       "      <td>1</td>\n",
       "    </tr>\n",
       "    <tr>\n",
       "      <th>375</th>\n",
       "      <td>oddin</td>\n",
       "      <td>1</td>\n",
       "    </tr>\n",
       "    <tr>\n",
       "      <th>376</th>\n",
       "      <td>S</td>\n",
       "      <td>1</td>\n",
       "    </tr>\n",
       "    <tr>\n",
       "      <th>377</th>\n",
       "      <td>arios</td>\n",
       "      <td>1</td>\n",
       "    </tr>\n",
       "    <tr>\n",
       "      <th>378</th>\n",
       "      <td>g, an</td>\n",
       "      <td>1</td>\n",
       "    </tr>\n",
       "    <tr>\n",
       "      <th>379</th>\n",
       "      <td>Poten</td>\n",
       "      <td>1</td>\n",
       "    </tr>\n",
       "    <tr>\n",
       "      <th>380</th>\n",
       "      <td>g</td>\n",
       "      <td>1</td>\n",
       "    </tr>\n",
       "    <tr>\n",
       "      <th>381</th>\n",
       "      <td>ing 1</td>\n",
       "      <td>1</td>\n",
       "    </tr>\n",
       "    <tr>\n",
       "      <th>382</th>\n",
       "      <td>sto</td>\n",
       "      <td>1</td>\n",
       "    </tr>\n",
       "    <tr>\n",
       "      <th>383</th>\n",
       "      <td>play</td>\n",
       "      <td>1</td>\n",
       "    </tr>\n",
       "    <tr>\n",
       "      <th>384</th>\n",
       "      <td>is a</td>\n",
       "      <td>1</td>\n",
       "    </tr>\n",
       "    <tr>\n",
       "      <th>385</th>\n",
       "      <td>Overa</td>\n",
       "      <td>1</td>\n",
       "    </tr>\n",
       "    <tr>\n",
       "      <th>386</th>\n",
       "      <td>- Po</td>\n",
       "      <td>1</td>\n",
       "    </tr>\n",
       "    <tr>\n",
       "      <th>387</th>\n",
       "      <td>- G</td>\n",
       "      <td>1</td>\n",
       "    </tr>\n",
       "    <tr>\n",
       "      <th>388</th>\n",
       "      <td>9.</td>\n",
       "      <td>1</td>\n",
       "    </tr>\n",
       "    <tr>\n",
       "      <th>389</th>\n",
       "      <td>ng 1</td>\n",
       "      <td>1</td>\n",
       "    </tr>\n",
       "    <tr>\n",
       "      <th>390</th>\n",
       "      <td>modding</td>\n",
       "      <td>1</td>\n",
       "    </tr>\n",
       "    <tr>\n",
       "      <th>391</th>\n",
       "      <td>Pote</td>\n",
       "      <td>1</td>\n",
       "    </tr>\n",
       "    <tr>\n",
       "      <th>392</th>\n",
       "      <td>his i</td>\n",
       "      <td>1</td>\n",
       "    </tr>\n",
       "    <tr>\n",
       "      <th>393</th>\n",
       "      <td>phi</td>\n",
       "      <td>1</td>\n",
       "    </tr>\n",
       "    <tr>\n",
       "      <th>394</th>\n",
       "      <td>y</td>\n",
       "      <td>1</td>\n",
       "    </tr>\n",
       "    <tr>\n",
       "      <th>395</th>\n",
       "      <td>te</td>\n",
       "      <td>1</td>\n",
       "    </tr>\n",
       "    <tr>\n",
       "      <th>396</th>\n",
       "      <td>lay</td>\n",
       "      <td>1</td>\n",
       "    </tr>\n",
       "    <tr>\n",
       "      <th>397</th>\n",
       "      <td>acting 10</td>\n",
       "      <td>1</td>\n",
       "    </tr>\n",
       "    <tr>\n",
       "      <th>398</th>\n",
       "      <td>ot</td>\n",
       "      <td>1</td>\n",
       "    </tr>\n",
       "    <tr>\n",
       "      <th>399</th>\n",
       "      <td>ame</td>\n",
       "      <td>1</td>\n",
       "    </tr>\n",
       "  </tbody>\n",
       "</table>\n",
       "<p>400 rows × 2 columns</p>\n",
       "</div>"
      ],
      "text/plain": [
       "                   feature  value\n",
       "0                        -      1\n",
       "1                    - Gra      1\n",
       "2                     om m      1\n",
       "3                      odd      1\n",
       "4                     Voic      1\n",
       "5        mission scenarios      1\n",
       "6                       ia      1\n",
       "7    scenario:VMOD:modding      1\n",
       "8                       0       1\n",
       "9              cluster1831      1\n",
       "10          custom mission      1\n",
       "11                    and       1\n",
       "12                   tial       1\n",
       "13                    l th      1\n",
       "14                      la      1\n",
       "15                   reat       1\n",
       "16                      ph      1\n",
       "17                   game!      1\n",
       "18                   ntial      1\n",
       "19                     ddi      1\n",
       "20                   m mis      1\n",
       "21               potential      1\n",
       "22                    g 10      1\n",
       "23                     und      1\n",
       "24                       9      1\n",
       "25                    nd 1      1\n",
       "26                   voice      1\n",
       "27                      ar      1\n",
       "28                      t       1\n",
       "29                    scen      1\n",
       "..                     ...    ...\n",
       "370                   Acti      1\n",
       "371                     th      1\n",
       "372                   grea      1\n",
       "373         be:ROOT:overal      1\n",
       "374                    pla      1\n",
       "375                  oddin      1\n",
       "376                      S      1\n",
       "377                  arios      1\n",
       "378                  g, an      1\n",
       "379                  Poten      1\n",
       "380                     g       1\n",
       "381                  ing 1      1\n",
       "382                    sto      1\n",
       "383                   play      1\n",
       "384                   is a      1\n",
       "385                  Overa      1\n",
       "386                   - Po      1\n",
       "387                    - G      1\n",
       "388                     9.      1\n",
       "389                   ng 1      1\n",
       "390                modding      1\n",
       "391                   Pote      1\n",
       "392                  his i      1\n",
       "393                    phi      1\n",
       "394                     y       1\n",
       "395                     te      1\n",
       "396                   lay       1\n",
       "397              acting 10      1\n",
       "398                     ot      1\n",
       "399                    ame      1\n",
       "\n",
       "[400 rows x 2 columns]"
      ]
     },
     "execution_count": 7,
     "metadata": {},
     "output_type": "execute_result"
    }
   ],
   "source": [
    "# Let's also take a look at the NLP features that have been extracted\n",
    "# from the review and stored in the database\n",
    "nlp_features = (BSON\n",
    "                .decode(db\n",
    "                        .find_one({},\n",
    "                                  {'nlp_features': 1, '_id': 0})\n",
    "                        .get('nlp_features')))\n",
    "pd.DataFrame([dict(feature=feature, value=value)\n",
    "              for feature, value\n",
    "              in list(nlp_features.items())[:400]])"
   ]
  },
  {
   "cell_type": "markdown",
   "metadata": {},
   "source": [
    "## Incremental Learning Experiment"
   ]
  },
  {
   "cell_type": "code",
   "execution_count": 8,
   "metadata": {
    "collapsed": true
   },
   "outputs": [],
   "source": [
    "# First let's import some code/variables from src.learn (part of this\n",
    "# package), which will be useful in keeping this notebook clean and\n",
    "# straightforward\n",
    "from src.learn import *"
   ]
  },
  {
   "cell_type": "code",
   "execution_count": 9,
   "metadata": {
    "collapsed": true
   },
   "outputs": [],
   "source": [
    "# We will use a set of 2 learning algorithms (Perceptron and\n",
    "# PassiveAgressiveRegressor) with reduced parameter grids\n",
    "learners = [Perceptron, PassiveAggressiveRegressor]\n",
    "_DEFAULT_PARAM_GRIDS = {Perceptron: {'alpha': [0.0001, 0.1],\n",
    "                                     'random_state': [seed]},\n",
    "                        PassiveAggressiveRegressor:\n",
    "                            {'C': [0.01, 10.0],\n",
    "                             'random_state': [seed]}}"
   ]
  },
  {
   "cell_type": "code",
   "execution_count": 10,
   "metadata": {
    "collapsed": true
   },
   "outputs": [],
   "source": [
    "# We will use \"Arma 3\" as the game to train/evaluate a model for\n",
    "game = 'Arma_3'\n",
    "# We will run 5 rounds of learning with 50 new training samples being\n",
    "# used in each round.\n",
    "rounds = 5\n",
    "n_training_samples = 50\n",
    "# The model will be tested against the same 50 test reviews each time.\n",
    "n_test_samples = 50\n",
    "# Each unique set of values for each learner's parameter grid will be\n",
    "# evaluated (in this case the only parameter that has multiple values\n",
    "# is 'alpha' for Pereceptron and 'C' for PassiveAgressiveRegressor,\n",
    "# so this means that only 4 experiments will be run in total, but\n",
    "# each one will have its own 5 rounds)"
   ]
  },
  {
   "cell_type": "code",
   "execution_count": 11,
   "metadata": {
    "collapsed": true
   },
   "outputs": [],
   "source": [
    "# Besides the NLP features, we will not use any of the review attributes\n",
    "# in the model\n",
    "non_nlp_features = set()\n",
    "# The attribute that we will be predicting on is the number of hours the\n",
    "# reviewer played (or, more specifically, the \"bin\" into which the number\n",
    "# falls when the whole range is broken down into bins)\n",
    "y_label = 'total_game_hours_bin'"
   ]
  },
  {
   "cell_type": "code",
   "execution_count": 12,
   "metadata": {
    "collapsed": true
   },
   "outputs": [],
   "source": [
    "# The objective function we will use to rank the experiments will be\n",
    "# quadratic weighted kappa\n",
    "objective = 'qwk'"
   ]
  },
  {
   "cell_type": "code",
   "execution_count": 13,
   "metadata": {
    "collapsed": true
   },
   "outputs": [],
   "source": [
    "# Finally, we will also evaluate the majority baseline model to get a\n",
    "# sense for how the model really performs"
   ]
  },
  {
   "cell_type": "code",
   "execution_count": 14,
   "metadata": {
    "collapsed": true
   },
   "outputs": [],
   "source": [
    "# Filter out warnings since there may be a lot of \"UndefinedMetricWarning\"\n",
    "# warnings when running IncrementalLearning\n",
    "import warnings\n",
    "warnings.filterwarnings(\"ignore\")"
   ]
  },
  {
   "cell_type": "code",
   "execution_count": 15,
   "metadata": {
    "collapsed": false
   },
   "outputs": [
    {
     "name": "stderr",
     "output_type": "stream",
     "text": [
      "INFO:root:Incremental learning experiments initialized...\n",
      "2015-10-28 01:10:54,896 - root - INFO - Incremental learning experiments initialized...\n",
      "INFO:root:Round 1...\n",
      "2015-10-28 01:10:56,228 - root - INFO - Round 1...\n",
      "INFO:root:Round 2...\n",
      "2015-10-28 01:11:02,069 - root - INFO - Round 2...\n",
      "INFO:root:Round 3...\n",
      "2015-10-28 01:11:12,081 - root - INFO - Round 3...\n",
      "INFO:root:Round 4...\n",
      "2015-10-28 01:11:22,085 - root - INFO - Round 4...\n",
      "INFO:root:Round 5...\n",
      "2015-10-28 01:11:45,929 - root - INFO - Round 5...\n"
     ]
    }
   ],
   "source": [
    "Arma_3_inc_learning = \\\n",
    "    IncrementalLearning(db,\n",
    "                        game,\n",
    "                        learners,\n",
    "                        [_DEFAULT_PARAM_GRIDS[learner]\n",
    "                         for learner in learners],\n",
    "                        n_training_samples,\n",
    "                        non_nlp_features,\n",
    "                        y_label,\n",
    "                        objective,\n",
    "                        test_limit=n_test_samples,\n",
    "                        rounds=rounds,\n",
    "                        majority_baseline=True)"
   ]
  },
  {
   "cell_type": "code",
   "execution_count": 16,
   "metadata": {
    "collapsed": false
   },
   "outputs": [
    {
     "data": {
      "text/plain": [
       "Index(['accuracy', 'confusion_matrix', 'f1_macro', 'f1_weighted', 'game',\n",
       "       'learner', 'lwk', 'lwk_off_by_one', 'majority_label', 'pearson_r',\n",
       "       'precision_macro', 'precision_weighted', 'prediction_label',\n",
       "       'printable_confusion_matrix', 'qwk', 'qwk_off_by_one', 'significance',\n",
       "       'uwk', 'uwk_off_by_one'],\n",
       "      dtype='object')"
      ]
     },
     "execution_count": 16,
     "metadata": {},
     "output_type": "execute_result"
    }
   ],
   "source": [
    "# Now, let's take a look at the results\n",
    "# First, we'll see how the majority baseline model performs\n",
    "\n",
    "# There is a lot of data collected for each model, so it will be necessary\n",
    "# here to constrain the analysis\n",
    "# Let's suppose that we only want to see the following attributes:\n",
    "# accuracy, precision, Pearson's r, quadratic weighted kappa, and\n",
    "# confusion matrices\n",
    "Arma_3_inc_learning.majority_baseline_stats.columns"
   ]
  },
  {
   "cell_type": "code",
   "execution_count": 28,
   "metadata": {
    "collapsed": false
   },
   "outputs": [
    {
     "data": {
      "text/html": [
       "<div>\n",
       "<table border=\"1\" class=\"dataframe\">\n",
       "  <thead>\n",
       "    <tr style=\"text-align: right;\">\n",
       "      <th></th>\n",
       "      <th>accuracy</th>\n",
       "      <th>precision_weighted</th>\n",
       "      <th>pearson_r</th>\n",
       "      <th>qwk</th>\n",
       "    </tr>\n",
       "  </thead>\n",
       "  <tbody>\n",
       "    <tr>\n",
       "      <th>0</th>\n",
       "      <td>0.7</td>\n",
       "      <td>0.49</td>\n",
       "      <td>NaN</td>\n",
       "      <td>0</td>\n",
       "    </tr>\n",
       "  </tbody>\n",
       "</table>\n",
       "</div>"
      ],
      "text/plain": [
       "   accuracy  precision_weighted  pearson_r  qwk\n",
       "0       0.7                0.49        NaN    0"
      ]
     },
     "execution_count": 28,
     "metadata": {},
     "output_type": "execute_result"
    }
   ],
   "source": [
    "Arma_3_inc_learning.majority_baseline_stats[['accuracy',\n",
    "                                             'precision_weighted',\n",
    "                                             'pearson_r',\n",
    "                                             'qwk']]"
   ]
  },
  {
   "cell_type": "code",
   "execution_count": 18,
   "metadata": {
    "collapsed": true
   },
   "outputs": [],
   "source": [
    "# As it turns out, quadratic weighted kappa and Pearson's r won't make\n",
    "# sense in this case due to the fact that the majority baseline\n",
    "# predictions are 100% one label, i.e., they're all the value that\n",
    "# occurred most frequently\n",
    "# However, accuracy and precision are included"
   ]
  },
  {
   "cell_type": "code",
   "execution_count": 19,
   "metadata": {
    "collapsed": false
   },
   "outputs": [
    {
     "name": "stdout",
     "output_type": "stream",
     "text": [
      "confusion_matrix (rounded predictions) (row=human, col=machine, labels=[1 2 3]):\n",
      "\t1\t2\t3\n",
      "1\t35\t0\t0\n",
      "2\t12\t0\t0\n",
      "3\t3\t0\t0\n",
      "\n"
     ]
    }
   ],
   "source": [
    "# Let's take a look at the confusion matrix\n",
    "print(Arma_3_inc_learning\n",
    "      .majority_baseline_stats\n",
    "      .printable_confusion_matrix\n",
    "      .irow(0))"
   ]
  },
  {
   "cell_type": "code",
   "execution_count": 21,
   "metadata": {
    "collapsed": true
   },
   "outputs": [],
   "source": [
    "# As you can see, the baseline model predicted 1 in every single instance"
   ]
  },
  {
   "cell_type": "code",
   "execution_count": 22,
   "metadata": {
    "collapsed": true
   },
   "outputs": [],
   "source": [
    "# Now, let's rank the experiments by how well the model did in the last\n",
    "# round\n",
    "ranked_experiments = \\\n",
    "    (Arma_3_inc_learning\n",
    "     .rank_experiments_by_objective(ordering='objective_last_round'))"
   ]
  },
  {
   "cell_type": "code",
   "execution_count": 26,
   "metadata": {
    "collapsed": false
   },
   "outputs": [
    {
     "name": "stdout",
     "output_type": "stream",
     "text": [
      "Experimental attributes:\n",
      "\n",
      "\taccuracy\n",
      "\tconfusion_matrix\n",
      "\tf1_macro\n",
      "\tf1_weighted\n",
      "\tgame\n",
      "\tlearner\n",
      "\tlearning_round\n",
      "\tlwk\n",
      "\tlwk_off_by_one\n",
      "\tnon-NLP features\n",
      "\tparams\n",
      "\tpearson_r\n",
      "\tprecision_macro\n",
      "\tprecision_weighted\n",
      "\tprediction_label\n",
      "\tprintable_confusion_matrix\n",
      "\tqwk\n",
      "\tqwk_off_by_one\n",
      "\tsignificance\n",
      "\ttest_set_labels/test_set_predictions\n",
      "\ttraining_samples\n",
      "\tuwk\n",
      "\tuwk_off_by_one\n"
     ]
    }
   ],
   "source": [
    "# Let's find out which experiment did best (this time we'll include a\n",
    "# little more information than we did for the majority baseline model)\n",
    "# Here are the possible columns:\n",
    "print('Experimental attributes:\\n\\n\\t{}'\n",
    "      .format('\\n\\t'.join(ranked_experiments[0])))"
   ]
  },
  {
   "cell_type": "code",
   "execution_count": 30,
   "metadata": {
    "collapsed": false
   },
   "outputs": [
    {
     "data": {
      "text/html": [
       "<div>\n",
       "<table border=\"1\" class=\"dataframe\">\n",
       "  <thead>\n",
       "    <tr style=\"text-align: right;\">\n",
       "      <th></th>\n",
       "      <th>learner</th>\n",
       "      <th>learning_round</th>\n",
       "      <th>accuracy</th>\n",
       "      <th>precision_weighted</th>\n",
       "      <th>pearson_r</th>\n",
       "      <th>qwk</th>\n",
       "    </tr>\n",
       "  </thead>\n",
       "  <tbody>\n",
       "    <tr>\n",
       "      <th>0</th>\n",
       "      <td>PassiveAggressiveRegressor</td>\n",
       "      <td>1</td>\n",
       "      <td>0.76</td>\n",
       "      <td>0.766486</td>\n",
       "      <td>0.615896</td>\n",
       "      <td>0.598930</td>\n",
       "    </tr>\n",
       "    <tr>\n",
       "      <th>1</th>\n",
       "      <td>PassiveAggressiveRegressor</td>\n",
       "      <td>2</td>\n",
       "      <td>0.70</td>\n",
       "      <td>0.643683</td>\n",
       "      <td>0.492636</td>\n",
       "      <td>0.446086</td>\n",
       "    </tr>\n",
       "    <tr>\n",
       "      <th>2</th>\n",
       "      <td>PassiveAggressiveRegressor</td>\n",
       "      <td>3</td>\n",
       "      <td>0.74</td>\n",
       "      <td>0.640444</td>\n",
       "      <td>0.698262</td>\n",
       "      <td>0.488189</td>\n",
       "    </tr>\n",
       "    <tr>\n",
       "      <th>3</th>\n",
       "      <td>PassiveAggressiveRegressor</td>\n",
       "      <td>4</td>\n",
       "      <td>0.96</td>\n",
       "      <td>0.976000</td>\n",
       "      <td>0.957590</td>\n",
       "      <td>0.949495</td>\n",
       "    </tr>\n",
       "    <tr>\n",
       "      <th>4</th>\n",
       "      <td>PassiveAggressiveRegressor</td>\n",
       "      <td>5</td>\n",
       "      <td>0.90</td>\n",
       "      <td>0.926364</td>\n",
       "      <td>0.905036</td>\n",
       "      <td>0.882187</td>\n",
       "    </tr>\n",
       "  </tbody>\n",
       "</table>\n",
       "</div>"
      ],
      "text/plain": [
       "                      learner  learning_round  accuracy  precision_weighted  \\\n",
       "0  PassiveAggressiveRegressor               1      0.76            0.766486   \n",
       "1  PassiveAggressiveRegressor               2      0.70            0.643683   \n",
       "2  PassiveAggressiveRegressor               3      0.74            0.640444   \n",
       "3  PassiveAggressiveRegressor               4      0.96            0.976000   \n",
       "4  PassiveAggressiveRegressor               5      0.90            0.926364   \n",
       "\n",
       "   pearson_r       qwk  \n",
       "0   0.615896  0.598930  \n",
       "1   0.492636  0.446086  \n",
       "2   0.698262  0.488189  \n",
       "3   0.957590  0.949495  \n",
       "4   0.905036  0.882187  "
      ]
     },
     "execution_count": 30,
     "metadata": {},
     "output_type": "execute_result"
    }
   ],
   "source": [
    "ranked_experiments[0][['learner',\n",
    "                       'learning_round',\n",
    "                       'accuracy',\n",
    "                       'precision_weighted',\n",
    "                       'pearson_r',\n",
    "                       'qwk']]"
   ]
  },
  {
   "cell_type": "code",
   "execution_count": 31,
   "metadata": {
    "collapsed": false
   },
   "outputs": [
    {
     "data": {
      "text/plain": [
       "{'C': 0.01,\n",
       " 'class_weight': None,\n",
       " 'epsilon': 0.1,\n",
       " 'fit_intercept': True,\n",
       " 'loss': 'epsilon_insensitive',\n",
       " 'n_iter': 5,\n",
       " 'random_state': 123456789,\n",
       " 'shuffle': True,\n",
       " 'verbose': 0,\n",
       " 'warm_start': False}"
      ]
     },
     "execution_count": 31,
     "metadata": {},
     "output_type": "execute_result"
    }
   ],
   "source": [
    "# So, it seems that the PassiveAgressiveRegressor takes the top\n",
    "# prize\n",
    "# Let's find out what set of parameters was used\n",
    "ranked_experiments[0].params.irow(0)"
   ]
  },
  {
   "cell_type": "code",
   "execution_count": 32,
   "metadata": {
    "collapsed": true
   },
   "outputs": [],
   "source": [
    "# When 'C' is set to 0.01 (and everything else is default), this learning\n",
    "# algorithm seems to do best (in this one case, at least)"
   ]
  },
  {
   "cell_type": "code",
   "execution_count": 33,
   "metadata": {
    "collapsed": true
   },
   "outputs": [],
   "source": [
    "# Furthermore, we see a nice increase in performance over time from\n",
    "# learning round #1 through learning round #5, at least in a general kind\n",
    "# of way"
   ]
  },
  {
   "cell_type": "code",
   "execution_count": 36,
   "metadata": {
    "collapsed": false
   },
   "outputs": [
    {
     "name": "stdout",
     "output_type": "stream",
     "text": [
      "Round #1\n",
      "confusion_matrix (rounded predictions) (row=human, col=machine, labels=[1 2 3]):\n",
      "\t1\t2\t3\n",
      "1\t31\t4\t0\n",
      "2\t6\t6\t0\n",
      "3\t0\t2\t1\n",
      "\n",
      "\n",
      "\n",
      "Round #2\n",
      "confusion_matrix (rounded predictions) (row=human, col=machine, labels=[1 2 3]):\n",
      "\t1\t2\t3\n",
      "1\t31\t4\t0\n",
      "2\t8\t4\t0\n",
      "3\t0\t3\t0\n",
      "\n",
      "\n",
      "\n",
      "Round #3\n",
      "confusion_matrix (rounded predictions) (row=human, col=machine, labels=[1 2 3]):\n",
      "\t1\t2\t3\n",
      "1\t35\t0\t0\n",
      "2\t10\t2\t0\n",
      "3\t0\t3\t0\n",
      "\n",
      "\n",
      "\n",
      "Round #4\n",
      "confusion_matrix (rounded predictions) (row=human, col=machine, labels=[1 2 3]):\n",
      "\t1\t2\t3\n",
      "1\t35\t0\t0\n",
      "2\t0\t10\t2\n",
      "3\t0\t0\t3\n",
      "\n",
      "\n",
      "\n",
      "Round #5\n",
      "confusion_matrix (rounded predictions) (row=human, col=machine, labels=[1 2 3]):\n",
      "\t1\t2\t3\n",
      "1\t33\t2\t0\n",
      "2\t0\t9\t3\n",
      "3\t0\t0\t3\n",
      "\n",
      "\n",
      "\n"
     ]
    }
   ],
   "source": [
    "# Let's see the confusion matrices and how they change over time\n",
    "for i in range(5):\n",
    "    print('Round #{}\\n{}\\n\\n'.format(i + 1,\n",
    "                                     ranked_experiments[0]\n",
    "                                     .printable_confusion_matrix\n",
    "                                     .irow(i)))"
   ]
  },
  {
   "cell_type": "code",
   "execution_count": 37,
   "metadata": {
    "collapsed": true
   },
   "outputs": [],
   "source": [
    "# Little by little, one can see that the model begins to predict 2s\n",
    "# and 3s\n",
    "# Indeed, this is what separates the models from the majority baseline\n",
    "# model"
   ]
  },
  {
   "cell_type": "code",
   "execution_count": 52,
   "metadata": {
    "collapsed": false
   },
   "outputs": [
    {
     "name": "stdout",
     "output_type": "stream",
     "text": [
      "Precision:\n",
      "\n",
      "\tmajority baseline model: 0.49\n",
      "\tlearning model:          0.9263636363636364\n",
      "\n",
      "Accuracy:\n",
      "\n",
      "\tmajority baseline model: 0.7\n",
      "\tlearning model:          0.9\n"
     ]
    }
   ],
   "source": [
    "# Lastly, it should be mentioned that the best model does indeed do\n",
    "# better than the majority baseline model. In terms of accuracy and\n",
    "# precision, it does significantly better:\n",
    "print('Precision:\\n\\n\\tmajority baseline model: {}\\n\\t'\n",
    "      'learning model:          {}'\n",
    "      .format(Arma_3_inc_learning\n",
    "              .majority_baseline_stats\n",
    "              .precision_weighted\n",
    "              .irow(0),\n",
    "              ranked_experiments[0]\n",
    "              .precision_weighted\n",
    "              .irow(len(ranked_experiments[0]) - 1)))\n",
    "print('\\nAccuracy:\\n\\n\\tmajority baseline model: {}\\n\\t'\n",
    "      'learning model:          {}'\n",
    "      .format(Arma_3_inc_learning\n",
    "              .majority_baseline_stats\n",
    "              .accuracy\n",
    "              .irow(0),\n",
    "              ranked_experiments[0]\n",
    "              .accuracy\n",
    "              .irow(len(ranked_experiments[0]) - 1)))"
   ]
  }
 ],
 "metadata": {
  "kernelspec": {
   "display_name": "Python 3",
   "language": "python",
   "name": "python3"
  },
  "language_info": {
   "codemirror_mode": {
    "name": "ipython",
    "version": 3
   },
   "file_extension": ".py",
   "mimetype": "text/x-python",
   "name": "python",
   "nbconvert_exporter": "python",
   "pygments_lexer": "ipython3",
   "version": "3.4.3"
  }
 },
 "nbformat": 4,
 "nbformat_minor": 0
}
