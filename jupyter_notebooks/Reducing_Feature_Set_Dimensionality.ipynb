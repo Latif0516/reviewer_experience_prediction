{
 "cells": [
  {
   "cell_type": "markdown",
   "metadata": {},
   "source": [
    "# Reducing Feature Set Dimensionality"
   ]
  },
  {
   "cell_type": "code",
   "execution_count": 32,
   "metadata": {
    "collapsed": false
   },
   "outputs": [],
   "source": [
    "from sys import getsizeof\n",
    "from bson import BSON\n",
    "from util.mongodb import *\n",
    "from util.datasets import *\n",
    "from sklearn.feature_extraction import DictVectorizer"
   ]
  },
  {
   "cell_type": "code",
   "execution_count": 2,
   "metadata": {
    "collapsed": true
   },
   "outputs": [],
   "source": [
    "port = 27017\n",
    "reviewdb = connect_to_db(port)"
   ]
  },
  {
   "cell_type": "code",
   "execution_count": 16,
   "metadata": {
    "collapsed": false
   },
   "outputs": [],
   "source": [
    "game_cursor = reviewdb.find({'id_string': '55ff9229c134cf620642bcd7'},\n",
    "                            timeout=False)"
   ]
  },
  {
   "cell_type": "code",
   "execution_count": 17,
   "metadata": {
    "collapsed": true
   },
   "outputs": [],
   "source": [
    "game_doc = next(game_cursor)"
   ]
  },
  {
   "cell_type": "code",
   "execution_count": 18,
   "metadata": {
    "collapsed": false
   },
   "outputs": [
    {
     "data": {
      "text/plain": [
       "{'_id': ObjectId('55ff9229c134cf620642bcd7'),\n",
       " 'achievement_progress': {'num_achievements_attained': 167,\n",
       "  'num_achievements_percentage': 1.0,\n",
       "  'num_achievements_possible': 167},\n",
       " 'appid': '730',\n",
       " 'bin_factor': 1.5,\n",
       " 'bin_ranges': [[0.0, 776.8], [776.9, 1942.1], [1942.2, 3690.0]],\n",
       " 'binarized': True,\n",
       " 'date_posted': 'Apr 14, 2014, 12:53PM',\n",
       " 'date_updated': None,\n",
       " 'found_helpful_percentage': 1.0,\n",
       " 'friend_player_level': 50,\n",
       " 'game': 'Counter_Strike_Global_Offensive',\n",
       " 'id_string': '55ff9229c134cf620642bcd7',\n",
       " 'nbins': 3,\n",
       " 'nlp_features': b\"\\r\\x14\\x00\\x00\\x10am\\x00\\x01\\x00\\x00\\x00\\x10any \\x00\\x01\\x00\\x00\\x00\\x10ur\\x00\\x01\\x00\\x00\\x00\\x10ough,\\x00\\x01\\x00\\x00\\x00\\x10gs\\x00\\x01\\x00\\x00\\x00\\x10n my \\x00\\x01\\x00\\x00\\x00\\x10any\\x00\\x01\\x00\\x00\\x00\\x10it's\\x00\\x01\\x00\\x00\\x00\\x10 my\\x00\\x01\\x00\\x00\\x00\\x10e is\\x00\\x01\\x00\\x00\\x00\\x10 it \\x00\\x01\\x00\\x00\\x00\\x10ros\\x00\\x01\\x00\\x00\\x00\\x10a ve\\x00\\x01\\x00\\x00\\x00\\x10be:ROOT:game\\x00\\x01\\x00\\x00\\x00\\x10his\\x00\\x01\\x00\\x00\\x00\\x10e \\x00\\x01\\x00\\x00\\x00\\x10it'\\x00\\x01\\x00\\x00\\x00\\x10, i\\x00\\x01\\x00\\x00\\x00\\x10ny\\x00\\x01\\x00\\x00\\x00\\x10orth\\x00\\x01\\x00\\x00\\x00\\x10ta\\x00\\x01\\x00\\x00\\x00\\x10,99 \\x00\\x01\\x00\\x00\\x00\\x10a \\x00\\x01\\x00\\x00\\x00\\x10 it's\\x00\\x01\\x00\\x00\\x00\\x10's a \\x00\\x01\\x00\\x00\\x00\\x10inio\\x00\\x01\\x00\\x00\\x00\\x10 euro\\x00\\x01\\x00\\x00\\x00\\x10pinio\\x00\\x01\\x00\\x00\\x00\\x10has many\\x00\\x01\\x00\\x00\\x00\\x10s a \\x00\\x01\\x00\\x00\\x00\\x10fun game\\x00\\x01\\x00\\x00\\x00\\x10weso\\x00\\x01\\x00\\x00\\x00\\x10very \\x00\\x01\\x00\\x00\\x00\\x10some,\\x00\\x01\\x00\\x00\\x00\\x1010,9\\x00\\x01\\x00\\x00\\x00\\x10, it \\x00\\x01\\x00\\x00\\x00\\x10wes\\x00\\x01\\x00\\x00\\x00\\x10cluster16229\\x00\\x01\\x00\\x00\\x00\\x10gs i\\x00\\x01\\x00\\x00\\x00\\x10ug\\x00\\x01\\x00\\x00\\x00\\x1010,99 euros\\x00\\x01\\x00\\x00\\x00\\x10 w\\x00\\x01\\x00\\x00\\x00\\x10Altho\\x00\\x01\\x00\\x00\\x00\\x10ort\\x00\\x01\\x00\\x00\\x00\\x10the\\x00\\x01\\x00\\x00\\x00\\x107\\x00\\x01\\x00\\x00\\x00\\x10th th\\x00\\x01\\x00\\x00\\x00\\x10oug\\x00\\x01\\x00\\x00\\x00\\x10 g\\x00\\x01\\x00\\x00\\x00\\x10ame \\x00\\x01\\x00\\x00\\x00\\x10ame i\\x00\\x01\\x00\\x00\\x00\\x10very fun\\x00\\x01\\x00\\x00\\x00\\x10ame.\\x00\\x01\\x00\\x00\\x00\\x10otall\\x00\\x01\\x00\\x00\\x00\\x10wort\\x00\\x01\\x00\\x00\\x00\\x100,99 \\x00\\x01\\x00\\x00\\x00\\x10ry\\x00\\x01\\x00\\x00\\x00\\x10my\\x00\\x01\\x00\\x00\\x00\\x10wor\\x00\\x01\\x00\\x00\\x00\\x10although ,\\x00\\x01\\x00\\x00\\x00\\x10game.\\x00\\x01\\x00\\x00\\x00\\x10my o\\x00\\x01\\x00\\x00\\x00\\x10ion.\\x00\\x01\\x00\\x00\\x00\\x10worth the\\x00\\x01\\x00\\x00\\x00\\x10cluster1261\\x00\\x01\\x00\\x00\\x00\\x10it 's\\x00\\x01\\x00\\x00\\x00\\x10This \\x00\\x01\\x00\\x00\\x00\\x10, t\\x00\\x01\\x00\\x00\\x00\\x10 Alth\\x00\\x01\\x00\\x00\\x00\\x10a very\\x00\\x01\\x00\\x00\\x00\\x10worth:VMOD:totally\\x00\\x01\\x00\\x00\\x00\\x10me is\\x00\\x01\\x00\\x00\\x00\\x10 ha\\x00\\x01\\x00\\x00\\x00\\x10in \\x00\\x01\\x00\\x00\\x00\\x10lly\\x00\\x01\\x00\\x00\\x00\\x10s ga\\x00\\x01\\x00\\x00\\x00\\x10y op\\x00\\x01\\x00\\x00\\x00\\x10s gam\\x00\\x01\\x00\\x00\\x00\\x10h, i\\x00\\x01\\x00\\x00\\x00\\x10eur\\x00\\x01\\x00\\x00\\x00\\x10n.\\x00\\x01\\x00\\x00\\x00\\x10ry fu\\x00\\x01\\x00\\x00\\x00\\x10 t\\x00\\x01\\x00\\x00\\x00\\x10 fun \\x00\\x01\\x00\\x00\\x00\\x10s it'\\x00\\x01\\x00\\x00\\x00\\x10ini\\x00\\x01\\x00\\x00\\x00\\x10y wo\\x00\\x01\\x00\\x00\\x00\\x10,99 e\\x00\\x01\\x00\\x00\\x00\\x10wo\\x00\\x01\\x00\\x00\\x00\\x10tal\\x00\\x01\\x00\\x00\\x00\\x10t's \\x00\\x01\\x00\\x00\\x00\\x10cluster4\\x00\\x01\\x00\\x00\\x00\\x10 a\\x00\\x01\\x00\\x00\\x00\\x10ny bu\\x00\\x01\\x00\\x00\\x00\\x10es\\x00\\x01\\x00\\x00\\x00\\x10it has\\x00\\x01\\x00\\x00\\x00\\x109 \\x00\\x01\\x00\\x00\\x00\\x10awesome\\x00\\x01\\x00\\x00\\x00\\x10 m\\x00\\x01\\x00\\x00\\x00\\x10 has \\x00\\x01\\x00\\x00\\x00\\x10me, \\x00\\x01\\x00\\x00\\x00\\x10bu\\x00\\x01\\x00\\x00\\x00\\x10in my\\x00\\x01\\x00\\x00\\x00\\x10 awes\\x00\\x01\\x00\\x00\\x00\\x10 v\\x00\\x01\\x00\\x00\\x00\\x10un ga\\x00\\x01\\x00\\x00\\x00\\x10cluster11\\x00\\x01\\x00\\x00\\x00\\x10un g\\x00\\x01\\x00\\x00\\x00\\x10on. A\\x00\\x01\\x00\\x00\\x00\\x10t has\\x00\\x01\\x00\\x00\\x00\\x10gs it\\x00\\x01\\x00\\x00\\x00\\x10ros i\\x00\\x01\\x00\\x00\\x00\\x10esome\\x00\\x01\\x00\\x00\\x00\\x10bugs\\x00\\x01\\x00\\x00\\x00\\x10has m\\x00\\x01\\x00\\x00\\x00\\x10euro:OBJ:the\\x00\\x01\\x00\\x00\\x00\\x10any b\\x00\\x01\\x00\\x00\\x00\\x10fun g\\x00\\x01\\x00\\x00\\x00\\x10me.\\x00\\x01\\x00\\x00\\x00\\x10ion\\x00\\x01\\x00\\x00\\x00\\x10 it\\x00\\x01\\x00\\x00\\x00\\x10all\\x00\\x01\\x00\\x00\\x00\\x10we\\x00\\x01\\x00\\x00\\x00\\x100,\\x00\\x01\\x00\\x00\\x00\\x10pi\\x00\\x01\\x00\\x00\\x00\\x109 eu\\x00\\x01\\x00\\x00\\x00\\x1010,99\\x00\\x01\\x00\\x00\\x00\\x10a v\\x00\\x01\\x00\\x00\\x00\\x10man\\x00\\x01\\x00\\x00\\x00\\x10un\\x00\\x01\\x00\\x00\\x00\\x10 fu\\x00\\x01\\x00\\x00\\x00\\x10 wo\\x00\\x01\\x00\\x00\\x00\\x10 ver\\x00\\x01\\x00\\x00\\x00\\x10have:SBAR:-PRON-\\x00\\x01\\x00\\x00\\x00\\x10bugs \\x00\\x01\\x00\\x00\\x00\\x10to\\x00\\x01\\x00\\x00\\x00\\x10ou\\x00\\x01\\x00\\x00\\x00\\x10 opi\\x00\\x01\\x00\\x00\\x00\\x10ery\\x00\\x01\\x00\\x00\\x00\\x10e 1\\x00\\x01\\x00\\x00\\x00\\x10s a\\x00\\x01\\x00\\x00\\x00\\x10 it h\\x00\\x01\\x00\\x00\\x00\\x10 o\\x00\\x01\\x00\\x00\\x00\\x10cluster63\\x00\\x01\\x00\\x00\\x00\\x10io\\x00\\x01\\x00\\x00\\x00\\x10hough\\x00\\x01\\x00\\x00\\x00\\x1010\\x00\\x01\\x00\\x00\\x00\\x10 many\\x00\\x01\\x00\\x00\\x00\\x10cluster60\\x00\\x01\\x00\\x00\\x00\\x10,99\\x00\\x01\\x00\\x00\\x00\\x10euro:OBJ:10,99\\x00\\x01\\x00\\x00\\x00\\x10 aw\\x00\\x01\\x00\\x00\\x00\\x10opi\\x00\\x01\\x00\\x00\\x00\\x10be:ROOT:awesome\\x00\\x01\\x00\\x00\\x00\\x10hou\\x00\\x01\\x00\\x00\\x00\\x10euros\\x00\\x01\\x00\\x00\\x00\\x10his g\\x00\\x01\\x00\\x00\\x00\\x10this\\x00\\x01\\x00\\x00\\x00\\x10gh,\\x00\\x01\\x00\\x00\\x00\\x10 h\\x00\\x01\\x00\\x00\\x00\\x10totally\\x00\\x01\\x00\\x00\\x00\\x10worth\\x00\\x01\\x00\\x00\\x00\\x10h t\\x00\\x01\\x00\\x00\\x00\\x10total\\x00\\x01\\x00\\x00\\x00\\x10t \\x00\\x01\\x00\\x00\\x00\\x10os i\\x00\\x01\\x00\\x00\\x00\\x10rth \\x00\\x01\\x00\\x00\\x00\\x10. A\\x00\\x01\\x00\\x00\\x00\\x10 th\\x00\\x01\\x00\\x00\\x00\\x10e, \\x00\\x01\\x00\\x00\\x00\\x10uros \\x00\\x01\\x00\\x00\\x00\\x10n ga\\x00\\x01\\x00\\x00\\x00\\x10 bugs\\x00\\x01\\x00\\x00\\x00\\x10This\\x00\\x01\\x00\\x00\\x00\\x10the \\x00\\x01\\x00\\x00\\x00\\x10cluster8\\x00\\x01\\x00\\x00\\x00\\x10game:PRD:very\\x00\\x01\\x00\\x00\\x00\\x10worth:VMOD:euro\\x00\\x01\\x00\\x00\\x00\\x10Th\\x00\\x01\\x00\\x00\\x00\\x10so\\x00\\x01\\x00\\x00\\x00\\x10ly wo\\x00\\x01\\x00\\x00\\x00\\x10cluster12010\\x00\\x01\\x00\\x00\\x00\\x10 in\\x00\\x01\\x00\\x00\\x00\\x10e is \\x00\\x01\\x00\\x00\\x00\\x10e,\\x00\\x01\\x00\\x00\\x00\\x10lthou\\x00\\x01\\x00\\x00\\x00\\x10it ha\\x00\\x01\\x00\\x00\\x00\\x10although:VMOD:have\\x00\\x01\\x00\\x00\\x00\\x10me \\x00\\x01\\x00\\x00\\x00\\x10s awe\\x00\\x01\\x00\\x00\\x00\\x10, to\\x00\\x01\\x00\\x00\\x00\\x10ho\\x00\\x01\\x00\\x00\\x00\\x10has \\x00\\x01\\x00\\x00\\x00\\x10 my \\x00\\x01\\x00\\x00\\x00\\x10's\\x00\\x01\\x00\\x00\\x00\\x10's:ROOT:game\\x00\\x01\\x00\\x00\\x00\\x10opini\\x00\\x01\\x00\\x00\\x00\\x10,\\x00\\x01\\x00\\x00\\x00\\x10game .\\x00\\x01\\x00\\x00\\x00\\x10fun\\x00\\x01\\x00\\x00\\x00\\x10 awe\\x00\\x01\\x00\\x00\\x00\\x10ugs i\\x00\\x01\\x00\\x00\\x00\\x10in m\\x00\\x01\\x00\\x00\\x00\\x10nion.\\x00\\x01\\x00\\x00\\x00\\x10many \\x00\\x01\\x00\\x00\\x00\\x10s aw\\x00\\x01\\x00\\x00\\x00\\x10ot\\x00\\x01\\x00\\x00\\x00\\x10cluster1221\\x00\\x01\\x00\\x00\\x00\\x10houg\\x00\\x01\\x00\\x00\\x00\\x10s man\\x00\\x01\\x00\\x00\\x00\\x10 A\\x00\\x01\\x00\\x00\\x00\\x10n g\\x00\\x01\\x00\\x00\\x00\\x10otal\\x00\\x01\\x00\\x00\\x00\\x10y o\\x00\\x01\\x00\\x00\\x00\\x10un \\x00\\x01\\x00\\x00\\x00\\x10 the \\x00\\x01\\x00\\x00\\x00\\x10ni\\x00\\x01\\x00\\x00\\x00\\x10game:SUB:this\\x00\\x01\\x00\\x00\\x00\\x10as m\\x00\\x01\\x00\\x00\\x00\\x10 in m\\x00\\x01\\x00\\x00\\x00\\x10inion\\x00\\x01\\x00\\x00\\x00\\x10in\\x00\\x01\\x00\\x00\\x00\\x10pin\\x00\\x01\\x00\\x00\\x00\\x10 very\\x00\\x01\\x00\\x00\\x00\\x10 ve\\x00\\x01\\x00\\x00\\x00\\x10many bugs\\x00\\x01\\x00\\x00\\x00\\x10 1\\x00\\x01\\x00\\x00\\x00\\x10cluster251\\x00\\x01\\x00\\x00\\x00\\x10 b\\x00\\x01\\x00\\x00\\x00\\x10gs \\x00\\x01\\x00\\x00\\x00\\x10om\\x00\\x01\\x00\\x00\\x00\\x10in:NMOD:opinion\\x00\\x01\\x00\\x00\\x00\\x10 ga\\x00\\x01\\x00\\x00\\x00\\x10my \\x00\\x01\\x00\\x00\\x00\\x10 a \\x00\\x01\\x00\\x00\\x00\\x10y f\\x00\\x01\\x00\\x00\\x00\\x10s in \\x00\\x01\\x00\\x00\\x00\\x10it h\\x00\\x01\\x00\\x00\\x00\\x10. \\x00\\x01\\x00\\x00\\x00\\x10ame\\x00\\x01\\x00\\x00\\x00\\x10al\\x00\\x01\\x00\\x00\\x00\\x10 f\\x00\\x01\\x00\\x00\\x00\\x10rt\\x00\\x01\\x00\\x00\\x00\\x10ma\\x00\\x01\\x00\\x00\\x00\\x10, totally\\x00\\x01\\x00\\x00\\x00\\x10cluster981\\x00\\x01\\x00\\x00\\x00\\x10aweso\\x00\\x01\\x00\\x00\\x00\\x10h \\x00\\x01\\x00\\x00\\x00\\x10ome, \\x00\\x01\\x00\\x00\\x00\\x10cluster474\\x00\\x01\\x00\\x00\\x00\\x10er\\x00\\x01\\x00\\x00\\x00\\x10ly w\\x00\\x01\\x00\\x00\\x00\\x10ome\\x00\\x01\\x00\\x00\\x00\\x10's:ROOT:-PRON-\\x00\\x01\\x00\\x00\\x00\\x10 has\\x00\\x01\\x00\\x00\\x00\\x10gam\\x00\\x01\\x00\\x00\\x00\\x10he 1\\x00\\x01\\x00\\x00\\x00\\x10s i\\x00\\x01\\x00\\x00\\x00\\x10t's\\x00\\x01\\x00\\x00\\x00\\x10Alt\\x00\\x01\\x00\\x00\\x00\\x10n my\\x00\\x01\\x00\\x00\\x00\\x10bugs it\\x00\\x01\\x00\\x00\\x00\\x10som\\x00\\x01\\x00\\x00\\x00\\x10y bu\\x00\\x01\\x00\\x00\\x00\\x10op\\x00\\x01\\x00\\x00\\x00\\x10cluster751\\x00\\x01\\x00\\x00\\x00\\x10rth\\x00\\x01\\x00\\x00\\x00\\x10y w\\x00\\x01\\x00\\x00\\x00\\x10 tota\\x00\\x01\\x00\\x00\\x00\\x10game is\\x00\\x01\\x00\\x00\\x00\\x10on\\x00\\x01\\x00\\x00\\x00\\x10is aw\\x00\\x01\\x00\\x00\\x00\\x10ro\\x00\\x01\\x00\\x00\\x00\\x10orth \\x00\\x01\\x00\\x00\\x00\\x10awe\\x00\\x01\\x00\\x00\\x00\\x10y fun\\x00\\x01\\x00\\x00\\x00\\x10cluster19\\x00\\x01\\x00\\x00\\x00\\x10n. \\x00\\x01\\x00\\x00\\x00\\x10 the\\x00\\x01\\x00\\x00\\x00\\x10 game\\x00\\x01\\x00\\x00\\x00\\x10, tot\\x00\\x01\\x00\\x00\\x00\\x10is g\\x00\\x01\\x00\\x00\\x00\\x10y fu\\x00\\x01\\x00\\x00\\x00\\x10 to\\x00\\x01\\x00\\x00\\x00\\x1099 \\x00\\x01\\x00\\x00\\x00\\x10euro\\x00\\x01\\x00\\x00\\x00\\x10 my o\\x00\\x01\\x00\\x00\\x00\\x10he\\x00\\x01\\x00\\x00\\x00\\x10Al\\x00\\x01\\x00\\x00\\x00\\x10game:PRD:fun\\x00\\x01\\x00\\x00\\x00\\x10ugh\\x00\\x01\\x00\\x00\\x00\\x10as ma\\x00\\x01\\x00\\x00\\x00\\x10rth t\\x00\\x01\\x00\\x00\\x00\\x10 bu\\x00\\x01\\x00\\x00\\x00\\x10lly w\\x00\\x01\\x00\\x00\\x00\\x10bug:OBJ:many\\x00\\x01\\x00\\x00\\x00\\x10cluster52\\x00\\x01\\x00\\x00\\x00\\x10os\\x00\\x01\\x00\\x00\\x00\\x10me, t\\x00\\x01\\x00\\x00\\x00\\x10gh\\x00\\x01\\x00\\x00\\x00\\x10ough\\x00\\x01\\x00\\x00\\x00\\x10e i\\x00\\x01\\x00\\x00\\x00\\x10his \\x00\\x01\\x00\\x00\\x00\\x10opinion:PMOD:-PRON-\\x00\\x01\\x00\\x00\\x00\\x10thou\\x00\\x01\\x00\\x00\\x00\\x10ga\\x00\\x01\\x00\\x00\\x00\\x10 is \\x00\\x01\\x00\\x00\\x00\\x10my opinion\\x00\\x01\\x00\\x00\\x00\\x10ny \\x00\\x01\\x00\\x00\\x00\\x10eso\\x00\\x01\\x00\\x00\\x00\\x10ugh, \\x00\\x01\\x00\\x00\\x00\\x10opinion\\x00\\x01\\x00\\x00\\x00\\x10this game\\x00\\x01\\x00\\x00\\x00\\x10 op\\x00\\x01\\x00\\x00\\x00\\x10y \\x00\\x01\\x00\\x00\\x00\\x10ly \\x00\\x01\\x00\\x00\\x00\\x10ally \\x00\\x01\\x00\\x00\\x00\\x10ly\\x00\\x01\\x00\\x00\\x00\\x10 a ve\\x00\\x01\\x00\\x00\\x00\\x10n \\x00\\x01\\x00\\x00\\x00\\x10 Alt\\x00\\x01\\x00\\x00\\x00\\x10on.\\x00\\x01\\x00\\x00\\x00\\x10it\\x00\\x01\\x00\\x00\\x00\\x10cluster0\\x00\\x01\\x00\\x00\\x00\\x10bug\\x00\\x01\\x00\\x00\\x00\\x10s it\\x00\\x01\\x00\\x00\\x00\\x10euro:OBJ:in\\x00\\x01\\x00\\x00\\x00\\x10y bug\\x00\\x01\\x00\\x00\\x00\\x10ion. \\x00\\x01\\x00\\x00\\x00\\x10Alth\\x00\\x01\\x00\\x00\\x00\\x10 Al\\x00\\x01\\x00\\x00\\x00\\x10t's a\\x00\\x01\\x00\\x00\\x00\\x10t ha\\x00\\x01\\x00\\x00\\x00\\x10it \\x00\\x01\\x00\\x00\\x00\\x10game:PRD:a\\x00\\x01\\x00\\x00\\x00\\x10. Al\\x00\\x01\\x00\\x00\\x00\\x10uro\\x00\\x01\\x00\\x00\\x00\\x10thoug\\x00\\x01\\x00\\x00\\x00\\x10or\\x00\\x01\\x00\\x00\\x00\\x10h the\\x00\\x01\\x00\\x00\\x00\\x10on. \\x00\\x01\\x00\\x00\\x00\\x10ery f\\x00\\x01\\x00\\x00\\x00\\x10h,\\x00\\x01\\x00\\x00\\x00\\x109 e\\x00\\x01\\x00\\x00\\x00\\x10s a v\\x00\\x01\\x00\\x00\\x00\\x100,99\\x00\\x01\\x00\\x00\\x00\\x10th \\x00\\x01\\x00\\x00\\x00\\x10n m\\x00\\x01\\x00\\x00\\x00\\x1099 eu\\x00\\x01\\x00\\x00\\x00\\x10have:SBAR:bug\\x00\\x01\\x00\\x00\\x00\\x10n gam\\x00\\x01\\x00\\x00\\x00\\x10y opi\\x00\\x01\\x00\\x00\\x00\\x10game\\x00\\x01\\x00\\x00\\x00\\x10eu\\x00\\x01\\x00\\x00\\x00\\x10e 10\\x00\\x01\\x00\\x00\\x00\\x10awesome ,\\x00\\x01\\x00\\x00\\x00\\x10n. A\\x00\\x01\\x00\\x00\\x00\\x10ugh,\\x00\\x01\\x00\\x00\\x00\\x10many\\x00\\x01\\x00\\x00\\x00\\x10, it\\x00\\x01\\x00\\x00\\x00\\x10 10,\\x00\\x01\\x00\\x00\\x00\\x10y b\\x00\\x01\\x00\\x00\\x00\\x10e, to\\x00\\x01\\x00\\x00\\x00\\x10ally\\x00\\x01\\x00\\x00\\x00\\x10tally\\x00\\x01\\x00\\x00\\x00\\x10cluster6100\\x00\\x01\\x00\\x00\\x00\\x10opin\\x00\\x01\\x00\\x00\\x00\\x10 a v\\x00\\x01\\x00\\x00\\x00\\x10cluster234\\x00\\x01\\x00\\x00\\x00\\x10is ga\\x00\\x01\\x00\\x00\\x00\\x10 10,9\\x00\\x01\\x00\\x00\\x00\\x10ugs \\x00\\x01\\x00\\x00\\x00\\x10 man\\x00\\x01\\x00\\x00\\x00\\x10 wort\\x00\\x01\\x00\\x00\\x00\\x10a ver\\x00\\x01\\x00\\x00\\x00\\x10, \\x00\\x01\\x00\\x00\\x00\\x10s m\\x00\\x01\\x00\\x00\\x00\\x10as\\x00\\x01\\x00\\x00\\x00\\x10although\\x00\\x01\\x00\\x00\\x00\\x10tall\\x00\\x01\\x00\\x00\\x00\\x10lth\\x00\\x01\\x00\\x00\\x00\\x10ltho\\x00\\x01\\x00\\x00\\x00\\x10is awesome\\x00\\x01\\x00\\x00\\x00\\x10nio\\x00\\x01\\x00\\x00\\x00\\x10very\\x00\\x01\\x00\\x00\\x00\\x10ll\\x00\\x01\\x00\\x00\\x00\\x10is a\\x00\\x01\\x00\\x00\\x00\\x10h, \\x00\\x01\\x00\\x00\\x00\\x10os \\x00\\x01\\x00\\x00\\x00\\x10ry f\\x00\\x01\\x00\\x00\\x00\\x10ve\\x00\\x01\\x00\\x00\\x00\\x10cluster890\\x00\\x01\\x00\\x00\\x00\\x10cluster7973\\x00\\x01\\x00\\x00\\x00\\x10's \\x00\\x01\\x00\\x00\\x00\\x10 10\\x00\\x01\\x00\\x00\\x00\\x10y wor\\x00\\x01\\x00\\x00\\x00\\x10me i\\x00\\x01\\x00\\x00\\x00\\x10 opin\\x00\\x01\\x00\\x00\\x00\\x10 it'\\x00\\x01\\x00\\x00\\x00\\x10my op\\x00\\x01\\x00\\x00\\x00\\x10cluster871\\x00\\x01\\x00\\x00\\x00\\x10it's \\x00\\x01\\x00\\x00\\x00\\x10awes\\x00\\x01\\x00\\x00\\x00\\x1099\\x00\\x01\\x00\\x00\\x00\\x10ugs\\x00\\x01\\x00\\x00\\x00\\x10s g\\x00\\x01\\x00\\x00\\x00\\x10totally worth\\x00\\x01\\x00\\x00\\x00\\x109 eur\\x00\\x01\\x00\\x00\\x00\\x10ha\\x00\\x01\\x00\\x00\\x00\\x10 in \\x00\\x01\\x00\\x00\\x00\\x10's a\\x00\\x01\\x00\\x00\\x00\\x10s \\x00\\x01\\x00\\x00\\x00\\x10cluster762\\x00\\x01\\x00\\x00\\x00\\x10opinion .\\x00\\x01\\x00\\x00\\x00\\x100,9\\x00\\x01\\x00\\x00\\x00\\x10s ma\\x00\\x01\\x00\\x00\\x00\\x10th t\\x00\\x01\\x00\\x00\\x00\\x10as \\x00\\x01\\x00\\x00\\x00\\x10ny b\\x00\\x01\\x00\\x00\\x00\\x10 fun\\x00\\x01\\x00\\x00\\x00\\x10is \\x00\\x01\\x00\\x00\\x00\\x10h, it\\x00\\x01\\x00\\x00\\x00\\x10euros in\\x00\\x01\\x00\\x00\\x00\\x10gh, \\x00\\x01\\x00\\x00\\x00\\x10he \\x00\\x01\\x00\\x00\\x00\\x10 eu\\x00\\x01\\x00\\x00\\x00\\x10 wor\\x00\\x01\\x00\\x00\\x00\\x10 is a\\x00\\x01\\x00\\x00\\x00\\x10h th\\x00\\x01\\x00\\x00\\x00\\x10ry \\x00\\x01\\x00\\x00\\x00\\x10e 10,\\x00\\x01\\x00\\x00\\x00\\x10an\\x00\\x01\\x00\\x00\\x00\\x10gh, i\\x00\\x01\\x00\\x00\\x00\\x10he 10\\x00\\x01\\x00\\x00\\x00\\x10ery \\x00\\x01\\x00\\x00\\x00\\x10has\\x00\\x01\\x00\\x00\\x00\\x10is\\x00\\x01\\x00\\x00\\x00\\x10os in\\x00\\x01\\x00\\x00\\x00\\x10the 1\\x00\\x01\\x00\\x00\\x00\\x10esom\\x00\\x01\\x00\\x00\\x00\\x10t h\\x00\\x01\\x00\\x00\\x00\\x10me\\x00\\x01\\x00\\x00\\x00\\x10s in\\x00\\x01\\x00\\x00\\x00\\x10nion\\x00\\x01\\x00\\x00\\x00\\x10wesom\\x00\\x01\\x00\\x00\\x00\\x10n. Al\\x00\\x01\\x00\\x00\\x00\\x10uros\\x00\\x01\\x00\\x00\\x00\\x10 is\\x00\\x01\\x00\\x00\\x00\\x10 e\\x00\\x01\\x00\\x00\\x00\\x10tot\\x00\\x01\\x00\\x00\\x00\\x10a\\x00\\x01\\x00\\x00\\x00\\x10 i\\x00\\x01\\x00\\x00\\x00\\x10,9\\x00\\x01\\x00\\x00\\x00\\x10the 10,99\\x00\\x01\\x00\\x00\\x00\\x10ver\\x00\\x01\\x00\\x00\\x00\\x10ros \\x00\\x01\\x00\\x00\\x00\\x10. Alt\\x00\\x01\\x00\\x00\\x00\\x10th\\x00\\x01\\x00\\x00\\x00\\x10ome,\\x00\\x01\\x00\\x00\\x00\\x10lly \\x00\\x01\\x00\\x00\\x00\\x1010,\\x00\\x01\\x00\\x00\\x00\\x10fun \\x00\\x01\\x00\\x00\\x00\\x10pini\\x00\\x01\\x00\\x00\\x00\\x10e.\\x00\\x01\\x00\\x00\\x00\\x10ota\\x00\\x01\\x00\\x00\\x00\\x10t'\\x00\\x01\\x00\\x00\\x00\\x1099 e\\x00\\x01\\x00\\x00\\x00\\x10Thi\\x00\\x01\\x00\\x00\\x00\\x10 gam\\x00\\x01\\x00\\x00\\x00\\x10tho\\x00\\x01\\x00\\x00\\x00\\x10hi\\x00\\x01\\x00\\x00\\x00\\x10me,\\x00\\x01\\x00\\x00\\x00\\x10lt\\x00\\x01\\x00\\x00\\x00\\x10's:ROOT:although\\x00\\x01\\x00\\x00\\x00\\x10tota\\x00\\x01\\x00\\x00\\x00\\x10 tot\\x00\\x01\\x00\\x00\\x00\\x10some\\x00\\x01\\x00\\x00\\x00\\x10aw\\x00\\x01\\x00\\x00\\x00\\x10,:VMOD:worth\\x00\\x01\\x00\\x00\\x00\\x10fu\\x00\\x01\\x00\\x00\\x00\\x10 ma\\x00\\x01\\x00\\x00\\x00\\x10.\\x00\\x01\\x00\\x00\\x00\\x10game \\x00\\x01\\x00\\x00\\x00\\x10 bug\\x00\\x01\\x00\\x00\\x00\\x10 eur\\x00\\x01\\x00\\x00\\x00\\x10e, t\\x00\\x01\\x00\\x00\\x00\\x00\",\n",
       " 'num_badges': 33,\n",
       " 'num_comments': 0,\n",
       " 'num_found_funny': 0,\n",
       " 'num_found_helpful': 6,\n",
       " 'num_found_unhelpful': 0,\n",
       " 'num_friends': 100,\n",
       " 'num_games_owned': 27,\n",
       " 'num_groups': 75,\n",
       " 'num_guides': 0,\n",
       " 'num_reviews': 7,\n",
       " 'num_screenshots': 104,\n",
       " 'num_voted_helpfulness': 6,\n",
       " 'num_workshop_items': 0,\n",
       " 'orig_url': 'http://steamcommunity.com/app/730/homecontent/?userreviewsoffset=1050&p=1&itemspage=106&screenshotspage=106&videospage=106&artpage=106&allguidepage=106&webguidepage=106&integratedguidepage=106&discussionspage=106&appid=730&appHubSubSection=10&appHubSubSection=10&l=english&browsefilter=toprated&filterLanguage=default&searchText=&forceanon=1',\n",
       " 'partition': 'training',\n",
       " 'profile_url': 'http://steamcommunity.com/profiles/76561198125764641',\n",
       " 'rating': 'Recommended',\n",
       " 'review': \"This game is awesome, totally worth the 10,99 euros in my opinion. Although, it has many bugs it's a very fun game.\",\n",
       " 'review_url': 'http://steamcommunity.com/profiles/76561198125764641/recommended/730/',\n",
       " 'steam_id_number': '76561198125764641',\n",
       " 'total_game_hours': 519.1,\n",
       " 'total_game_hours_bin': 1,\n",
       " 'total_game_hours_last_two_weeks': 15.2,\n",
       " 'username': 'Papa Georgio'}"
      ]
     },
     "execution_count": 18,
     "metadata": {},
     "output_type": "execute_result"
    }
   ],
   "source": [
    "game_doc"
   ]
  },
  {
   "cell_type": "code",
   "execution_count": 25,
   "metadata": {
    "collapsed": false
   },
   "outputs": [
    {
     "data": {
      "text/plain": [
       "\"This game is awesome, totally worth the 10,99 euros in my opinion. Although, it has many bugs it's a very fun game.\""
      ]
     },
     "execution_count": 25,
     "metadata": {},
     "output_type": "execute_result"
    }
   ],
   "source": [
    "game_doc.get('review')"
   ]
  },
  {
   "cell_type": "code",
   "execution_count": 20,
   "metadata": {
    "collapsed": true
   },
   "outputs": [],
   "source": [
    "nlp_features = game_doc.get('nlp_features')"
   ]
  },
  {
   "cell_type": "code",
   "execution_count": 22,
   "metadata": {
    "collapsed": false
   },
   "outputs": [],
   "source": [
    "nlp_features_decoded = BSON.decode(nlp_features)"
   ]
  },
  {
   "cell_type": "code",
   "execution_count": 23,
   "metadata": {
    "collapsed": false
   },
   "outputs": [
    {
     "data": {
      "text/plain": [
       "{' 1': 1,\n",
       " ' 10': 1,\n",
       " ' 10,': 1,\n",
       " ' 10,9': 1,\n",
       " ' A': 1,\n",
       " ' Al': 1,\n",
       " ' Alt': 1,\n",
       " ' Alth': 1,\n",
       " ' a': 1,\n",
       " ' a ': 1,\n",
       " ' a v': 1,\n",
       " ' a ve': 1,\n",
       " ' aw': 1,\n",
       " ' awe': 1,\n",
       " ' awes': 1,\n",
       " ' b': 1,\n",
       " ' bu': 1,\n",
       " ' bug': 1,\n",
       " ' bugs': 1,\n",
       " ' e': 1,\n",
       " ' eu': 1,\n",
       " ' eur': 1,\n",
       " ' euro': 1,\n",
       " ' f': 1,\n",
       " ' fu': 1,\n",
       " ' fun': 1,\n",
       " ' fun ': 1,\n",
       " ' g': 1,\n",
       " ' ga': 1,\n",
       " ' gam': 1,\n",
       " ' game': 1,\n",
       " ' h': 1,\n",
       " ' ha': 1,\n",
       " ' has': 1,\n",
       " ' has ': 1,\n",
       " ' i': 1,\n",
       " ' in': 1,\n",
       " ' in ': 1,\n",
       " ' in m': 1,\n",
       " ' is': 1,\n",
       " ' is ': 1,\n",
       " ' is a': 1,\n",
       " ' it': 1,\n",
       " ' it ': 1,\n",
       " ' it h': 1,\n",
       " \" it'\": 1,\n",
       " \" it's\": 1,\n",
       " ' m': 1,\n",
       " ' ma': 1,\n",
       " ' man': 1,\n",
       " ' many': 1,\n",
       " ' my': 1,\n",
       " ' my ': 1,\n",
       " ' my o': 1,\n",
       " ' o': 1,\n",
       " ' op': 1,\n",
       " ' opi': 1,\n",
       " ' opin': 1,\n",
       " ' t': 1,\n",
       " ' th': 1,\n",
       " ' the': 1,\n",
       " ' the ': 1,\n",
       " ' to': 1,\n",
       " ' tot': 1,\n",
       " ' tota': 1,\n",
       " ' v': 1,\n",
       " ' ve': 1,\n",
       " ' ver': 1,\n",
       " ' very': 1,\n",
       " ' w': 1,\n",
       " ' wo': 1,\n",
       " ' wor': 1,\n",
       " ' wort': 1,\n",
       " \"'s\": 1,\n",
       " \"'s \": 1,\n",
       " \"'s a\": 1,\n",
       " \"'s a \": 1,\n",
       " \"'s:ROOT:-PRON-\": 1,\n",
       " \"'s:ROOT:although\": 1,\n",
       " \"'s:ROOT:game\": 1,\n",
       " ',': 1,\n",
       " ', ': 1,\n",
       " ', i': 1,\n",
       " ', it': 1,\n",
       " ', it ': 1,\n",
       " ', t': 1,\n",
       " ', to': 1,\n",
       " ', tot': 1,\n",
       " ', totally': 1,\n",
       " ',9': 1,\n",
       " ',99': 1,\n",
       " ',99 ': 1,\n",
       " ',99 e': 1,\n",
       " ',:VMOD:worth': 1,\n",
       " '.': 1,\n",
       " '. ': 1,\n",
       " '. A': 1,\n",
       " '. Al': 1,\n",
       " '. Alt': 1,\n",
       " '0,': 1,\n",
       " '0,9': 1,\n",
       " '0,99': 1,\n",
       " '0,99 ': 1,\n",
       " '10': 1,\n",
       " '10,': 1,\n",
       " '10,9': 1,\n",
       " '10,99': 1,\n",
       " '10,99 euros': 1,\n",
       " '7': 1,\n",
       " '9 ': 1,\n",
       " '9 e': 1,\n",
       " '9 eu': 1,\n",
       " '9 eur': 1,\n",
       " '99': 1,\n",
       " '99 ': 1,\n",
       " '99 e': 1,\n",
       " '99 eu': 1,\n",
       " 'Al': 1,\n",
       " 'Alt': 1,\n",
       " 'Alth': 1,\n",
       " 'Altho': 1,\n",
       " 'Th': 1,\n",
       " 'Thi': 1,\n",
       " 'This': 1,\n",
       " 'This ': 1,\n",
       " 'a': 1,\n",
       " 'a ': 1,\n",
       " 'a v': 1,\n",
       " 'a ve': 1,\n",
       " 'a ver': 1,\n",
       " 'a very': 1,\n",
       " 'al': 1,\n",
       " 'all': 1,\n",
       " 'ally': 1,\n",
       " 'ally ': 1,\n",
       " 'although': 1,\n",
       " 'although ,': 1,\n",
       " 'although:VMOD:have': 1,\n",
       " 'am': 1,\n",
       " 'ame': 1,\n",
       " 'ame ': 1,\n",
       " 'ame i': 1,\n",
       " 'ame.': 1,\n",
       " 'an': 1,\n",
       " 'any': 1,\n",
       " 'any ': 1,\n",
       " 'any b': 1,\n",
       " 'as': 1,\n",
       " 'as ': 1,\n",
       " 'as m': 1,\n",
       " 'as ma': 1,\n",
       " 'aw': 1,\n",
       " 'awe': 1,\n",
       " 'awes': 1,\n",
       " 'aweso': 1,\n",
       " 'awesome': 1,\n",
       " 'awesome ,': 1,\n",
       " 'be:ROOT:awesome': 1,\n",
       " 'be:ROOT:game': 1,\n",
       " 'bu': 1,\n",
       " 'bug': 1,\n",
       " 'bug:OBJ:many': 1,\n",
       " 'bugs': 1,\n",
       " 'bugs ': 1,\n",
       " 'bugs it': 1,\n",
       " 'cluster0': 1,\n",
       " 'cluster11': 1,\n",
       " 'cluster12010': 1,\n",
       " 'cluster1221': 1,\n",
       " 'cluster1261': 1,\n",
       " 'cluster16229': 1,\n",
       " 'cluster19': 1,\n",
       " 'cluster234': 1,\n",
       " 'cluster251': 1,\n",
       " 'cluster4': 1,\n",
       " 'cluster474': 1,\n",
       " 'cluster52': 1,\n",
       " 'cluster60': 1,\n",
       " 'cluster6100': 1,\n",
       " 'cluster63': 1,\n",
       " 'cluster751': 1,\n",
       " 'cluster762': 1,\n",
       " 'cluster7973': 1,\n",
       " 'cluster8': 1,\n",
       " 'cluster871': 1,\n",
       " 'cluster890': 1,\n",
       " 'cluster981': 1,\n",
       " 'e ': 1,\n",
       " 'e 1': 1,\n",
       " 'e 10': 1,\n",
       " 'e 10,': 1,\n",
       " 'e i': 1,\n",
       " 'e is': 1,\n",
       " 'e is ': 1,\n",
       " 'e,': 1,\n",
       " 'e, ': 1,\n",
       " 'e, t': 1,\n",
       " 'e, to': 1,\n",
       " 'e.': 1,\n",
       " 'er': 1,\n",
       " 'ery': 1,\n",
       " 'ery ': 1,\n",
       " 'ery f': 1,\n",
       " 'es': 1,\n",
       " 'eso': 1,\n",
       " 'esom': 1,\n",
       " 'esome': 1,\n",
       " 'eu': 1,\n",
       " 'eur': 1,\n",
       " 'euro': 1,\n",
       " 'euro:OBJ:10,99': 1,\n",
       " 'euro:OBJ:in': 1,\n",
       " 'euro:OBJ:the': 1,\n",
       " 'euros': 1,\n",
       " 'euros in': 1,\n",
       " 'fu': 1,\n",
       " 'fun': 1,\n",
       " 'fun ': 1,\n",
       " 'fun g': 1,\n",
       " 'fun game': 1,\n",
       " 'ga': 1,\n",
       " 'gam': 1,\n",
       " 'game': 1,\n",
       " 'game ': 1,\n",
       " 'game .': 1,\n",
       " 'game is': 1,\n",
       " 'game.': 1,\n",
       " 'game:PRD:a': 1,\n",
       " 'game:PRD:fun': 1,\n",
       " 'game:PRD:very': 1,\n",
       " 'game:SUB:this': 1,\n",
       " 'gh': 1,\n",
       " 'gh,': 1,\n",
       " 'gh, ': 1,\n",
       " 'gh, i': 1,\n",
       " 'gs': 1,\n",
       " 'gs ': 1,\n",
       " 'gs i': 1,\n",
       " 'gs it': 1,\n",
       " 'h ': 1,\n",
       " 'h t': 1,\n",
       " 'h th': 1,\n",
       " 'h the': 1,\n",
       " 'h,': 1,\n",
       " 'h, ': 1,\n",
       " 'h, i': 1,\n",
       " 'h, it': 1,\n",
       " 'ha': 1,\n",
       " 'has': 1,\n",
       " 'has ': 1,\n",
       " 'has m': 1,\n",
       " 'has many': 1,\n",
       " 'have:SBAR:-PRON-': 1,\n",
       " 'have:SBAR:bug': 1,\n",
       " 'he': 1,\n",
       " 'he ': 1,\n",
       " 'he 1': 1,\n",
       " 'he 10': 1,\n",
       " 'hi': 1,\n",
       " 'his': 1,\n",
       " 'his ': 1,\n",
       " 'his g': 1,\n",
       " 'ho': 1,\n",
       " 'hou': 1,\n",
       " 'houg': 1,\n",
       " 'hough': 1,\n",
       " 'in': 1,\n",
       " 'in ': 1,\n",
       " 'in m': 1,\n",
       " 'in my': 1,\n",
       " 'in:NMOD:opinion': 1,\n",
       " 'ini': 1,\n",
       " 'inio': 1,\n",
       " 'inion': 1,\n",
       " 'io': 1,\n",
       " 'ion': 1,\n",
       " 'ion.': 1,\n",
       " 'ion. ': 1,\n",
       " 'is': 1,\n",
       " 'is ': 1,\n",
       " 'is a': 1,\n",
       " 'is aw': 1,\n",
       " 'is awesome': 1,\n",
       " 'is g': 1,\n",
       " 'is ga': 1,\n",
       " 'it': 1,\n",
       " 'it ': 1,\n",
       " \"it 's\": 1,\n",
       " 'it h': 1,\n",
       " 'it ha': 1,\n",
       " 'it has': 1,\n",
       " \"it'\": 1,\n",
       " \"it's\": 1,\n",
       " \"it's \": 1,\n",
       " 'll': 1,\n",
       " 'lly': 1,\n",
       " 'lly ': 1,\n",
       " 'lly w': 1,\n",
       " 'lt': 1,\n",
       " 'lth': 1,\n",
       " 'ltho': 1,\n",
       " 'lthou': 1,\n",
       " 'ly': 1,\n",
       " 'ly ': 1,\n",
       " 'ly w': 1,\n",
       " 'ly wo': 1,\n",
       " 'ma': 1,\n",
       " 'man': 1,\n",
       " 'many': 1,\n",
       " 'many ': 1,\n",
       " 'many bugs': 1,\n",
       " 'me': 1,\n",
       " 'me ': 1,\n",
       " 'me i': 1,\n",
       " 'me is': 1,\n",
       " 'me,': 1,\n",
       " 'me, ': 1,\n",
       " 'me, t': 1,\n",
       " 'me.': 1,\n",
       " 'my': 1,\n",
       " 'my ': 1,\n",
       " 'my o': 1,\n",
       " 'my op': 1,\n",
       " 'my opinion': 1,\n",
       " 'n ': 1,\n",
       " 'n g': 1,\n",
       " 'n ga': 1,\n",
       " 'n gam': 1,\n",
       " 'n m': 1,\n",
       " 'n my': 1,\n",
       " 'n my ': 1,\n",
       " 'n.': 1,\n",
       " 'n. ': 1,\n",
       " 'n. A': 1,\n",
       " 'n. Al': 1,\n",
       " 'ni': 1,\n",
       " 'nio': 1,\n",
       " 'nion': 1,\n",
       " 'nion.': 1,\n",
       " 'ny': 1,\n",
       " 'ny ': 1,\n",
       " 'ny b': 1,\n",
       " 'ny bu': 1,\n",
       " 'om': 1,\n",
       " 'ome': 1,\n",
       " 'ome,': 1,\n",
       " 'ome, ': 1,\n",
       " 'on': 1,\n",
       " 'on.': 1,\n",
       " 'on. ': 1,\n",
       " 'on. A': 1,\n",
       " 'op': 1,\n",
       " 'opi': 1,\n",
       " 'opin': 1,\n",
       " 'opini': 1,\n",
       " 'opinion': 1,\n",
       " 'opinion .': 1,\n",
       " 'opinion:PMOD:-PRON-': 1,\n",
       " 'or': 1,\n",
       " 'ort': 1,\n",
       " 'orth': 1,\n",
       " 'orth ': 1,\n",
       " 'os': 1,\n",
       " 'os ': 1,\n",
       " 'os i': 1,\n",
       " 'os in': 1,\n",
       " 'ot': 1,\n",
       " 'ota': 1,\n",
       " 'otal': 1,\n",
       " 'otall': 1,\n",
       " 'ou': 1,\n",
       " 'oug': 1,\n",
       " 'ough': 1,\n",
       " 'ough,': 1,\n",
       " 'pi': 1,\n",
       " 'pin': 1,\n",
       " 'pini': 1,\n",
       " 'pinio': 1,\n",
       " 'ro': 1,\n",
       " 'ros': 1,\n",
       " 'ros ': 1,\n",
       " 'ros i': 1,\n",
       " 'rt': 1,\n",
       " 'rth': 1,\n",
       " 'rth ': 1,\n",
       " 'rth t': 1,\n",
       " 'ry': 1,\n",
       " 'ry ': 1,\n",
       " 'ry f': 1,\n",
       " 'ry fu': 1,\n",
       " 's ': 1,\n",
       " 's a': 1,\n",
       " 's a ': 1,\n",
       " 's a v': 1,\n",
       " 's aw': 1,\n",
       " 's awe': 1,\n",
       " 's g': 1,\n",
       " 's ga': 1,\n",
       " 's gam': 1,\n",
       " 's i': 1,\n",
       " 's in': 1,\n",
       " 's in ': 1,\n",
       " 's it': 1,\n",
       " \"s it'\": 1,\n",
       " 's m': 1,\n",
       " 's ma': 1,\n",
       " 's man': 1,\n",
       " 'so': 1,\n",
       " 'som': 1,\n",
       " 'some': 1,\n",
       " 'some,': 1,\n",
       " 't ': 1,\n",
       " 't h': 1,\n",
       " 't ha': 1,\n",
       " 't has': 1,\n",
       " \"t'\": 1,\n",
       " \"t's\": 1,\n",
       " \"t's \": 1,\n",
       " \"t's a\": 1,\n",
       " 'ta': 1,\n",
       " 'tal': 1,\n",
       " 'tall': 1,\n",
       " 'tally': 1,\n",
       " 'th': 1,\n",
       " 'th ': 1,\n",
       " 'th t': 1,\n",
       " 'th th': 1,\n",
       " 'the': 1,\n",
       " 'the ': 1,\n",
       " 'the 1': 1,\n",
       " 'the 10,99': 1,\n",
       " 'this': 1,\n",
       " 'this game': 1,\n",
       " 'tho': 1,\n",
       " 'thou': 1,\n",
       " 'thoug': 1,\n",
       " 'to': 1,\n",
       " 'tot': 1,\n",
       " 'tota': 1,\n",
       " 'total': 1,\n",
       " 'totally': 1,\n",
       " 'totally worth': 1,\n",
       " 'ug': 1,\n",
       " 'ugh': 1,\n",
       " 'ugh,': 1,\n",
       " 'ugh, ': 1,\n",
       " 'ugs': 1,\n",
       " 'ugs ': 1,\n",
       " 'ugs i': 1,\n",
       " 'un': 1,\n",
       " 'un ': 1,\n",
       " 'un g': 1,\n",
       " 'un ga': 1,\n",
       " 'ur': 1,\n",
       " 'uro': 1,\n",
       " 'uros': 1,\n",
       " 'uros ': 1,\n",
       " 've': 1,\n",
       " 'ver': 1,\n",
       " 'very': 1,\n",
       " 'very ': 1,\n",
       " 'very fun': 1,\n",
       " 'we': 1,\n",
       " 'wes': 1,\n",
       " 'weso': 1,\n",
       " 'wesom': 1,\n",
       " 'wo': 1,\n",
       " 'wor': 1,\n",
       " 'wort': 1,\n",
       " 'worth': 1,\n",
       " 'worth the': 1,\n",
       " 'worth:VMOD:euro': 1,\n",
       " 'worth:VMOD:totally': 1,\n",
       " 'y ': 1,\n",
       " 'y b': 1,\n",
       " 'y bu': 1,\n",
       " 'y bug': 1,\n",
       " 'y f': 1,\n",
       " 'y fu': 1,\n",
       " 'y fun': 1,\n",
       " 'y o': 1,\n",
       " 'y op': 1,\n",
       " 'y opi': 1,\n",
       " 'y w': 1,\n",
       " 'y wo': 1,\n",
       " 'y wor': 1}"
      ]
     },
     "execution_count": 23,
     "metadata": {},
     "output_type": "execute_result"
    }
   ],
   "source": [
    "nlp_features_decoded"
   ]
  },
  {
   "cell_type": "code",
   "execution_count": 28,
   "metadata": {
    "collapsed": true
   },
   "outputs": [],
   "source": [
    "dict_vectorizer = DictVectorizer(sparse=True)"
   ]
  },
  {
   "cell_type": "code",
   "execution_count": 30,
   "metadata": {
    "collapsed": false
   },
   "outputs": [],
   "source": [
    "vectorized_nlp_features = dict_vectorizer.fit_transform(nlp_features_decoded)"
   ]
  },
  {
   "cell_type": "code",
   "execution_count": 31,
   "metadata": {
    "collapsed": false
   },
   "outputs": [
    {
     "data": {
      "text/plain": [
       "<1x486 sparse matrix of type '<class 'numpy.float64'>'\n",
       "\twith 486 stored elements in Compressed Sparse Row format>"
      ]
     },
     "execution_count": 31,
     "metadata": {},
     "output_type": "execute_result"
    }
   ],
   "source": [
    "vectorized_nlp_features"
   ]
  },
  {
   "cell_type": "code",
   "execution_count": 33,
   "metadata": {
    "collapsed": false
   },
   "outputs": [
    {
     "data": {
      "text/plain": [
       "56"
      ]
     },
     "execution_count": 33,
     "metadata": {},
     "output_type": "execute_result"
    }
   ],
   "source": [
    "getsizeof(vectorized_nlp_features)"
   ]
  },
  {
   "cell_type": "code",
   "execution_count": 34,
   "metadata": {
    "collapsed": false
   },
   "outputs": [
    {
     "data": {
      "text/plain": [
       "24672"
      ]
     },
     "execution_count": 34,
     "metadata": {},
     "output_type": "execute_result"
    }
   ],
   "source": [
    "getsizeof(nlp_features_decoded)"
   ]
  },
  {
   "cell_type": "code",
   "execution_count": 35,
   "metadata": {
    "collapsed": false
   },
   "outputs": [
    {
     "data": {
      "text/plain": [
       "5166"
      ]
     },
     "execution_count": 35,
     "metadata": {},
     "output_type": "execute_result"
    }
   ],
   "source": [
    "getsizeof(nlp_features)"
   ]
  },
  {
   "cell_type": "code",
   "execution_count": null,
   "metadata": {
    "collapsed": true
   },
   "outputs": [],
   "source": []
  }
 ],
 "metadata": {
  "kernelspec": {
   "display_name": "Python 3",
   "language": "python",
   "name": "python3"
  },
  "language_info": {
   "codemirror_mode": {
    "name": "ipython",
    "version": 3
   },
   "file_extension": ".py",
   "mimetype": "text/x-python",
   "name": "python",
   "nbconvert_exporter": "python",
   "pygments_lexer": "ipython3",
   "version": "3.4.3"
  }
 },
 "nbformat": 4,
 "nbformat_minor": 0
}
