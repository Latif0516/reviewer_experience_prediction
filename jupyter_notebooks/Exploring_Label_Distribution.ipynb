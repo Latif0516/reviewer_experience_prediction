{
 "cells": [
  {
   "cell_type": "markdown",
   "metadata": {},
   "source": [
    "# Exploring Label Distribution and Converting Distribution to Bins of Values"
   ]
  },
  {
   "cell_type": "code",
   "execution_count": null,
   "metadata": {
    "collapsed": true
   },
   "outputs": [],
   "source": [
    "import math\n",
    "import itertools\n",
    "\n",
    "import numpy as np\n",
    "import scipy as sp\n",
    "from pymongo import collection\n",
    "import matplotlib.pyplot as plt\n",
    "%matplotlib inline\n",
    "\n",
    "from src import *\n",
    "from src.mongodb import *\n",
    "from src.datasets import *\n",
    "from src.experiments import *\n",
    "from data import APPID_DICT"
   ]
  },
  {
   "cell_type": "markdown",
   "metadata": {},
   "source": [
    "### Games"
   ]
  },
  {
   "cell_type": "code",
   "execution_count": null,
   "metadata": {
    "collapsed": false
   },
   "outputs": [],
   "source": [
    "list(APPID_DICT.keys())"
   ]
  },
  {
   "cell_type": "markdown",
   "metadata": {},
   "source": [
    "### Labels"
   ]
  },
  {
   "cell_type": "code",
   "execution_count": null,
   "metadata": {
    "collapsed": false
   },
   "outputs": [],
   "source": [
    "list(LABELS)"
   ]
  },
  {
   "cell_type": "markdown",
   "metadata": {},
   "source": [
    "## Issues"
   ]
  },
  {
   "cell_type": "markdown",
   "metadata": {},
   "source": [
    "- The main concern is that, in order to know whether it will be potentially interesting and worth exploration to do experiments with a certain label, it is necessary to know\n",
    "    1. if it can be used as is (raw values), which is unlikely, and, if not,\n",
    "    2. how its distribution can be carved up (specifically, what values for `nbins` and `bin_factor` to use in `learn`, etc.), and\n",
    "    3. whether or not the current algorithm for deciding on the range of included values (i.e., excluding outliers) and making the value bins works or if it needs to be automated somehow (i.e., even potentially using some kind of cluster analysis, perhaps)"
   ]
  },
  {
   "cell_type": "markdown",
   "metadata": {},
   "source": [
    "## Proposed Plan of Action"
   ]
  },
  {
   "cell_type": "markdown",
   "metadata": {},
   "source": [
    "- Some of this information can be collected via functions in the `experiments` extension, specifically `distributional_info` and `evenly_distribute_samples`\n",
    "- Collect data on the distributions of all of the labels for a subset of games and explore the way that the values are distributed, considering alternate ways that the values could be clustered together"
   ]
  },
  {
   "cell_type": "code",
   "execution_count": null,
   "metadata": {
    "collapsed": true
   },
   "outputs": [],
   "source": [
    "# Connect to reviews collection\n",
    "db = connect_to_db(host='localhost', port=37017)"
   ]
  },
  {
   "cell_type": "code",
   "execution_count": null,
   "metadata": {
    "collapsed": false
   },
   "outputs": [],
   "source": [
    "def do_some_distributional_research(db: collection, game: str,\n",
    "                                    labels: list = LABELS,\n",
    "                                    partition: str = 'all'):\n",
    "    \"\"\"\n",
    "    Run the `distributional_info` function and then do some\n",
    "    plotting research with the results, applying some\n",
    "    transformations, `nbins`/`bin_factor` values, etc.\n",
    "\n",
    "    :param db: MongoDB collection\n",
    "    :type db: collection\n",
    "    :param game: name of game\n",
    "    :type game: str\n",
    "    :param labels: list of labels\n",
    "    :type labels: list\n",
    "    :param partition: name of data partition (or 'all' to use all\n",
    "                      data)\n",
    "    :type partition: str\n",
    "\n",
    "    :returns: None\n",
    "    :rtype: None\n",
    "    \"\"\"\n",
    "\n",
    "    # Get distributional data for each label via the\n",
    "    # `distributional_info` function and make some plots, etc.\n",
    "    transformations = {'None': None,\n",
    "                       'ln': lambda x: np.log(x) if x > 1 else 0.0,\n",
    "                       'log2': lambda x: np.log2(x) if x > 1 else 0.0,\n",
    "                       'log10': lambda x: np.log10(x) if x > 1 else 0.0}\n",
    "    powers = [2.0, 0.5, 0.3, 0.2, 0.1]\n",
    "    nbins_values = [None, 2, 3, 4, 5]\n",
    "    bin_factor_values = [None, 0.25, 0.5, 1.25, 1.5, 2.0, 3.0, 5.0, 9.0]\n",
    "    filtered_nbins_bin_factor_product = \\\n",
    "        filter(lambda x: (x[0] == None and x[1] == None) or (x[0] != None),\n",
    "               itertools.product(nbins_values, bin_factor_values))\n",
    "\n",
    "    transformations_dict = {str(transformation): {} for transformation\n",
    "                            in itertools.chain(transformations, powers)}\n",
    "    stats_dicts = {str(label): dict(transformations_dict) for label in labels}\n",
    "    for label in labels:\n",
    "\n",
    "        # Get all raw label values\n",
    "        raw_label_values = \\\n",
    "            (np.array(list(distributional_info(db,\n",
    "                                               label,\n",
    "                                               [game],\n",
    "                                               partition)\n",
    "                                               ['id_strings_labels_dict'].values())))\n",
    "\n",
    "        # If the label has percentage values, i.e., values between\n",
    "        # 0.0 and 1.0 (inclusive), multiply the values by 100 before\n",
    "        # doing anything else\n",
    "        # Note: Define these specific labels somewhere!\n",
    "        if label in LABELS_WITH_PCT_VALUES:\n",
    "            raw_label_values *= 100.0\n",
    "\n",
    "        # Apply various types of transformations to the data and\n",
    "        # plot/measure the kurtosis/skewedness of the resulting\n",
    "        # distribution\n",
    "        for transformation in itertools.chain(transformations, powers):\n",
    "\n",
    "            # If `transformation` is a float, then it should be\n",
    "            # understood as a power to which each value should be\n",
    "            # raised as part of the transformation\n",
    "            if isinstance(transformation, float):\n",
    "                transformer = lambda x: x ** transformation\n",
    "            else:\n",
    "                transformer = transformations[transformation]\n",
    "\n",
    "            # Transform the label values\n",
    "            if transformer:\n",
    "                label_values = np.array([transformer(x) for x in raw_label_values])\n",
    "            else:\n",
    "                label_values = np.array(raw_label_values)\n",
    "\n",
    "            # Apply various combinations of `nbins`/`bin_factor`\n",
    "            # values (including not specifying those values)\n",
    "            nbins_bin_factor_dict = {}\n",
    "            for nbins, bin_factor in filtered_nbins_bin_factor_product:\n",
    "\n",
    "                nbins_bin_factor_string = '{0}_{1}'.format(nbins, bin_factor)\n",
    "                stats_dict = {}\n",
    "\n",
    "                # Don't bin the values if `nbins` and `bin_factor` are\n",
    "                # unspecified\n",
    "                if not nbins and not bin_factor:\n",
    "\n",
    "                    pass\n",
    "\n",
    "                else:\n",
    "\n",
    "                    # Get min/max values\n",
    "                    _min = label_values.min()\n",
    "                    _max = label_values.max()\n",
    "\n",
    "                    # If `bin_factor` is unspecified, use the default\n",
    "                    # value, 1.0\n",
    "                    bin_factor = bin_factor if bin_factor else 1.0\n",
    "\n",
    "                    # Get bin range tuples and validate\n",
    "                    try:\n",
    "                        bin_ranges = get_bin_ranges(_min, _max, nbins, bin_factor)\n",
    "                    except ValueError as e:\n",
    "                        print('Encountered invalid bin_ranges:\\nbin_ranges: {0}'\n",
    "                              '\\nnbins: {1}\\nbin_factor: {2}\\nmin: {3}\\nmax: {4}'\n",
    "                              '\\ntransformation: {5}'\n",
    "                              .format(bin_ranges, nbins, bin_factor, _min, _max,\n",
    "                                      transformation))\n",
    "                        print(e)\n",
    "                        continue\n",
    "\n",
    "                    # Convert raw values\n",
    "                    stats_dict['bin_ranges'] = bin_ranges\n",
    "                    label_values = np.array([get_bin(bin_ranges, val) for val in label_values])\n",
    "                    stats_dict['label_values'] = label_values\n",
    "\n",
    "                # Collect some stats and measurements\n",
    "                stats = {'min': label_values.min(),\n",
    "                         'max': label_values.max(),\n",
    "                         'std': label_values.std(),\n",
    "                         'mean': label_values.mean(),\n",
    "                         'median': np.median(label_values),\n",
    "                         'mode': sp.stats.mode(label_values).mode[0],\n",
    "                         'kurtosis': sp.stats.kurtosis(label_values),\n",
    "                         'kurtosistest': sp.stats.kurtosistest(label_values),\n",
    "                         'skew': sp.stats.skew(label_values),\n",
    "                         'skewtest': sp.stats.skewtest(label_values)}\n",
    "                stats_dict.update(stats)\n",
    "                nbins_bin_factor_dict[nbins_bin_factor_string] = stats_dict\n",
    "\n",
    "            stats_dicts[label][transformation] = nbins_bin_factor_dict\n",
    "\n",
    "    return stats_dicts"
   ]
  },
  {
   "cell_type": "code",
   "execution_count": null,
   "metadata": {
    "collapsed": false
   },
   "outputs": [],
   "source": [
    "Arma_3_stats_dicts_all_labels_all_data = do_some_distributional_research(db, 'Arma_3')"
   ]
  },
  {
   "cell_type": "code",
   "execution_count": null,
   "metadata": {
    "collapsed": false
   },
   "outputs": [],
   "source": [
    "Arma_3_stats_dicts_all_labels_all_data['num_guides']['0.1']"
   ]
  },
  {
   "cell_type": "code",
   "execution_count": null,
   "metadata": {
    "collapsed": false
   },
   "outputs": [],
   "source": [
    "# Let's build up a dictionary of distributional information for each label and\n",
    "# for each in a random subset of 3 games\n",
    "# Execute a number of times until you get the subset you want\n",
    "games_subset = list(np.random.choice([game for game in APPID_DICT\n",
    "                                      if not game.startswith('sample')],\n",
    "                                      3, replace=False))\n",
    "games_labels = list(itertools.product(games_subset, LABELS))\n",
    "dist_info_dict = {game: dict() for game in games_subset}"
   ]
  },
  {
   "cell_type": "code",
   "execution_count": null,
   "metadata": {
    "collapsed": false
   },
   "outputs": [],
   "source": [
    "for game, label in itertools.product(games_subset, LABELS):\n",
    "    try:\n",
    "        if dist_info_dict[game].get(label):\n",
    "            continue\n",
    "        dist_info_dict[game][label] = \\\n",
    "            distributional_info(db, label, [game], partition='test')\n",
    "    except ValueError as e:\n",
    "        continue"
   ]
  },
  {
   "cell_type": "code",
   "execution_count": null,
   "metadata": {
    "collapsed": false
   },
   "outputs": [],
   "source": [
    "# Each game will have 21 different outputs, so let's break things up a bit\n",
    "dist_info_dict_Arma_3 = dist_info_dict['Arma_3']\n",
    "dist_info_dict_Team_Fortress_2 = dist_info_dict['Team_Fortress_2']\n",
    "dist_info_dict_Counter_Strike = dist_info_dict['Counter_Strike']"
   ]
  },
  {
   "cell_type": "markdown",
   "metadata": {},
   "source": [
    "## Examining the Distribution of Labels for Arma 3"
   ]
  },
  {
   "cell_type": "code",
   "execution_count": null,
   "metadata": {
    "collapsed": false
   },
   "outputs": [],
   "source": [
    "dist_info_dict_Arma_3.keys()"
   ]
  },
  {
   "cell_type": "markdown",
   "metadata": {},
   "source": [
    "### num_reviews"
   ]
  },
  {
   "cell_type": "code",
   "execution_count": null,
   "metadata": {
    "collapsed": false
   },
   "outputs": [],
   "source": [
    "dist_info_dict_Arma_3['num_reviews']['labels_counter']"
   ]
  },
  {
   "cell_type": "code",
   "execution_count": null,
   "metadata": {
    "collapsed": false
   },
   "outputs": [],
   "source": [
    "# Use `get_bin_ranges` to determine the ranges of bins\n",
    "num_reviews_Arma_3 = dist_info_dict_Arma_3['num_reviews']['labels_counter']\n",
    "num_reviews_Arma_3_values = np.array(list(num_reviews_Arma_3.keys()))\n",
    "num_reviews_Arma_3_min_value = num_reviews_Arma_3_values.min()\n",
    "num_reviews_Arma_3_max_value = num_reviews_Arma_3_values.max()\n",
    "num_reviews_Arma_3_bin_ranges_3_1 = get_bin_ranges(num_reviews_Arma_3_min_value,\n",
    "                                                   num_reviews_Arma_3_max_value,\n",
    "                                                   nbins=3,\n",
    "                                                   factor=1.0)\n",
    "num_reviews_Arma_3_bin_ranges_3_1_5 = get_bin_ranges(num_reviews_Arma_3_min_value,\n",
    "                                                     num_reviews_Arma_3_max_value,\n",
    "                                                     nbins=3,\n",
    "                                                     factor=1.5)\n",
    "num_reviews_Arma_3_bin_ranges_3_2 = get_bin_ranges(num_reviews_Arma_3_min_value,\n",
    "                                                   num_reviews_Arma_3_max_value,\n",
    "                                                   nbins=3,\n",
    "                                                   factor=2.0)\n",
    "num_reviews_Arma_3_bin_ranges_3_3 = get_bin_ranges(num_reviews_Arma_3_min_value,\n",
    "                                                   num_reviews_Arma_3_max_value,\n",
    "                                                   nbins=3,\n",
    "                                                   factor=3.0)\n",
    "num_reviews_Arma_3_bin_ranges_2_3 = get_bin_ranges(num_reviews_Arma_3_min_value,\n",
    "                                                   num_reviews_Arma_3_max_value,\n",
    "                                                   nbins=2,\n",
    "                                                   factor=3.0)\n",
    "num_reviews_Arma_3_bin_ranges_2_10 = get_bin_ranges(num_reviews_Arma_3_min_value,\n",
    "                                                   num_reviews_Arma_3_max_value,\n",
    "                                                   nbins=2,\n",
    "                                                   factor=10.0)\n",
    "print(\"bins = 3, bin_factor = 1.0: {}\".format(num_reviews_Arma_3_bin_ranges_3_1))\n",
    "print(\"bins = 3, bin_factor = 1.5: {}\".format(num_reviews_Arma_3_bin_ranges_3_1_5))\n",
    "print(\"bins = 3, bin_factor = 2.0: {}\".format(num_reviews_Arma_3_bin_ranges_3_2))\n",
    "print(\"bins = 3, bin_factor = 3.0: {}\".format(num_reviews_Arma_3_bin_ranges_3_3))\n",
    "print(\"bins = 2, bin_factor = 3.0: {}\".format(num_reviews_Arma_3_bin_ranges_2_3))\n",
    "print(\"bins = 2, bin_factor = 10.0: {}\".format(num_reviews_Arma_3_bin_ranges_2_10))"
   ]
  },
  {
   "cell_type": "code",
   "execution_count": null,
   "metadata": {
    "collapsed": true
   },
   "outputs": [],
   "source": [
    "num_reviews_raw_label_values_Arma_3 = list(dist_info_dict_Arma_3['num_reviews']['id_strings_labels_dict'].values())"
   ]
  },
  {
   "cell_type": "code",
   "execution_count": null,
   "metadata": {
    "collapsed": false
   },
   "outputs": [],
   "source": [
    "plt.hist(num_reviews_raw_label_values_Arma_3)\n",
    "plt.title(\"Arma_3 num_reviews Histogram\")\n",
    "plt.xlabel(\"Value\")\n",
    "plt.ylabel(\"Frequency\")"
   ]
  },
  {
   "cell_type": "code",
   "execution_count": null,
   "metadata": {
    "collapsed": false
   },
   "outputs": [],
   "source": [
    "plt.hist(num_reviews_raw_label_values_Arma_3, normed=True)\n",
    "plt.title(\"Arma_3 num_reviews Histogram\")\n",
    "plt.xlabel(\"Value\")\n",
    "plt.ylabel(\"Frequency\")"
   ]
  },
  {
   "cell_type": "code",
   "execution_count": null,
   "metadata": {
    "collapsed": false
   },
   "outputs": [],
   "source": [
    "plt.hist([np.log(x) for x in num_reviews_raw_label_values_Arma_3 if x != 0])\n",
    "plt.title(\"Log Arma_3 num_reviews Histogram\")\n",
    "plt.xlabel(\"Value\")\n",
    "plt.ylabel(\"Frequency\")"
   ]
  },
  {
   "cell_type": "code",
   "execution_count": null,
   "metadata": {
    "collapsed": false
   },
   "outputs": [],
   "source": [
    "plt.hist([np.log(x) for x in num_reviews_raw_label_values_Arma_3 if x != 0],\n",
    "         normed=True)\n",
    "plt.title(\"Log Arma_3 num_reviews Histogram\")\n",
    "plt.xlabel(\"Value\")\n",
    "plt.ylabel(\"Frequency\")"
   ]
  },
  {
   "cell_type": "code",
   "execution_count": null,
   "metadata": {
    "collapsed": false
   },
   "outputs": [],
   "source": [
    "plt.hist([np.log(x) for x in num_reviews_raw_label_values_Arma_3 if x != 0],\n",
    "         normed=True, cumulative=True)\n",
    "plt.title(\"Log Arma_3 num_reviews Histogram\")\n",
    "plt.xlabel(\"Value\")\n",
    "plt.ylabel(\"Frequency\")"
   ]
  },
  {
   "cell_type": "code",
   "execution_count": null,
   "metadata": {
    "collapsed": false
   },
   "outputs": [],
   "source": [
    "plt.hist([np.log(x + 1) for x in num_reviews_raw_label_values_Arma_3])\n",
    "plt.title(\"Log(x + 1) Arma_3 num_reviews Histogram\")\n",
    "plt.xlabel(\"Value\")\n",
    "plt.ylabel(\"Frequency\")"
   ]
  },
  {
   "cell_type": "code",
   "execution_count": null,
   "metadata": {
    "collapsed": false
   },
   "outputs": [],
   "source": [
    "plt.hist([np.log2(x + 1) for x in num_reviews_raw_label_values_Arma_3])\n",
    "plt.title(\"Log2(x + 1) Arma_3 num_reviews Histogram\")\n",
    "plt.xlabel(\"Value\")\n",
    "plt.ylabel(\"Frequency\")"
   ]
  },
  {
   "cell_type": "code",
   "execution_count": null,
   "metadata": {
    "collapsed": false
   },
   "outputs": [],
   "source": [
    "plt.hist([np.log10(x + 1) for x in num_reviews_raw_label_values_Arma_3])\n",
    "plt.title(\"Log10(x + 1) Arma_3 num_reviews Histogram\")\n",
    "plt.xlabel(\"Value\")\n",
    "plt.ylabel(\"Frequency\")"
   ]
  },
  {
   "cell_type": "code",
   "execution_count": null,
   "metadata": {
    "collapsed": false
   },
   "outputs": [],
   "source": [
    "sp.stats.mstats.zscore(num_reviews_raw_label_values_Arma_3)"
   ]
  },
  {
   "cell_type": "code",
   "execution_count": null,
   "metadata": {
    "collapsed": false
   },
   "outputs": [],
   "source": [
    "plt.hist(sp.stats.mstats.zscore(num_reviews_raw_label_values_Arma_3))\n",
    "plt.title(\"z-score num_reviews Histogram\")\n",
    "plt.xlabel(\"Value\")\n",
    "plt.ylabel(\"Frequency\")"
   ]
  },
  {
   "cell_type": "code",
   "execution_count": null,
   "metadata": {
    "collapsed": false
   },
   "outputs": [],
   "source": [
    "plt.hist([math.sqrt(x) for x in num_reviews_raw_label_values_Arma_3])\n",
    "plt.title(\"sqrt(x) Arma_3 num_reviews Histogram\")\n",
    "plt.xlabel(\"Value\")\n",
    "plt.ylabel(\"Frequency\")"
   ]
  },
  {
   "cell_type": "code",
   "execution_count": null,
   "metadata": {
    "collapsed": false
   },
   "outputs": [],
   "source": [
    "plt.hist([x**2 for x in num_reviews_raw_label_values_Arma_3])\n",
    "plt.title(\"x^2 Arma_3 num_reviews Histogram\")\n",
    "plt.xlabel(\"Value\")\n",
    "plt.ylabel(\"Frequency\")"
   ]
  },
  {
   "cell_type": "markdown",
   "metadata": {},
   "source": [
    "### total_game_hours_bin"
   ]
  },
  {
   "cell_type": "code",
   "execution_count": null,
   "metadata": {
    "collapsed": false
   },
   "outputs": [],
   "source": [
    "dist_info_dict_Arma_3['total_game_hours_bin']['labels_counter']"
   ]
  },
  {
   "cell_type": "markdown",
   "metadata": {},
   "source": [
    "### total_game_hours"
   ]
  },
  {
   "cell_type": "code",
   "execution_count": null,
   "metadata": {
    "collapsed": false
   },
   "outputs": [],
   "source": [
    "dist_info_dict_Arma_3['total_game_hours']['labels_counter']"
   ]
  },
  {
   "cell_type": "code",
   "execution_count": null,
   "metadata": {
    "collapsed": true
   },
   "outputs": [],
   "source": [
    "total_game_hours_raw_label_values_Arma_3 = list(dist_info_dict_Arma_3['total_game_hours']['id_strings_labels_dict'].values())"
   ]
  },
  {
   "cell_type": "code",
   "execution_count": null,
   "metadata": {
    "collapsed": false
   },
   "outputs": [],
   "source": [
    "plt.hist([x**0.25 for x in total_game_hours_raw_label_values_Arma_3])\n",
    "plt.title(\"Log x Arma_3 total_game_hours Histogram\")\n",
    "plt.xlabel(\"Value\")\n",
    "plt.ylabel(\"Frequency\")"
   ]
  },
  {
   "cell_type": "markdown",
   "metadata": {},
   "source": [
    "### total_game_hours_last_two_weeks"
   ]
  },
  {
   "cell_type": "code",
   "execution_count": null,
   "metadata": {
    "collapsed": false
   },
   "outputs": [],
   "source": [
    "dist_info_dict_Arma_3['total_game_hours_last_two_weeks']['labels_counter']"
   ]
  },
  {
   "cell_type": "markdown",
   "metadata": {},
   "source": [
    "### num_found_helpful"
   ]
  },
  {
   "cell_type": "code",
   "execution_count": null,
   "metadata": {
    "collapsed": false
   },
   "outputs": [],
   "source": [
    "dist_info_dict_Arma_3['num_found_helpful']['labels_counter']"
   ]
  },
  {
   "cell_type": "markdown",
   "metadata": {},
   "source": [
    "### num_found_unhelpful"
   ]
  },
  {
   "cell_type": "code",
   "execution_count": null,
   "metadata": {
    "collapsed": false
   },
   "outputs": [],
   "source": [
    "dist_info_dict_Arma_3['num_found_unhelpful']['labels_counter']"
   ]
  },
  {
   "cell_type": "markdown",
   "metadata": {},
   "source": [
    "### found_helpful_percentage"
   ]
  },
  {
   "cell_type": "code",
   "execution_count": null,
   "metadata": {
    "collapsed": false
   },
   "outputs": [],
   "source": [
    "dist_info_dict_Arma_3['found_helpful_percentage']['labels_counter']"
   ]
  },
  {
   "cell_type": "markdown",
   "metadata": {},
   "source": [
    "### num_voted_helpfulness"
   ]
  },
  {
   "cell_type": "code",
   "execution_count": null,
   "metadata": {
    "collapsed": false
   },
   "outputs": [],
   "source": [
    "dist_info_dict_Arma_3['num_voted_helpfulness']['labels_counter']"
   ]
  },
  {
   "cell_type": "markdown",
   "metadata": {},
   "source": [
    "### num_achievements_attained"
   ]
  },
  {
   "cell_type": "code",
   "execution_count": null,
   "metadata": {
    "collapsed": false
   },
   "outputs": [],
   "source": [
    "dist_info_dict_Arma_3['num_achievements_attained']['labels_counter']"
   ]
  },
  {
   "cell_type": "code",
   "execution_count": null,
   "metadata": {
    "collapsed": true
   },
   "outputs": [],
   "source": [
    "num_achievements_attained_raw_label_values_Arma_3 = list(dist_info_dict_Arma_3['num_achievements_attained']['id_strings_labels_dict'].values())"
   ]
  },
  {
   "cell_type": "code",
   "execution_count": null,
   "metadata": {
    "collapsed": false
   },
   "outputs": [],
   "source": [
    "plt.hist([np.log(x) for x in num_achievements_attained_raw_label_values_Arma_3 if x != 0])\n",
    "plt.title(\"Log Arma_3 num_achievements_attained Histogram\")\n",
    "plt.xlabel(\"Value\")\n",
    "plt.ylabel(\"Frequency\")"
   ]
  },
  {
   "cell_type": "markdown",
   "metadata": {},
   "source": [
    "### num_achievements_percentage"
   ]
  },
  {
   "cell_type": "code",
   "execution_count": null,
   "metadata": {
    "collapsed": false
   },
   "outputs": [],
   "source": [
    "dist_info_dict_Arma_3['num_achievements_percentage']['labels_counter']"
   ]
  },
  {
   "cell_type": "code",
   "execution_count": null,
   "metadata": {
    "collapsed": true
   },
   "outputs": [],
   "source": [
    "num_achievements_percentage_raw_label_values_Arma_3 = list(dist_info_dict_Arma_3['num_achievements_percentage']['id_strings_labels_dict'].values())"
   ]
  },
  {
   "cell_type": "code",
   "execution_count": null,
   "metadata": {
    "collapsed": false
   },
   "outputs": [],
   "source": [
    "plt.hist(num_achievements_percentage_raw_label_values_Arma_3)\n",
    "plt.title(\"Arma_3 num_achievements_percentage Histogram\")\n",
    "plt.xlabel(\"Value\")\n",
    "plt.ylabel(\"Frequency\")"
   ]
  },
  {
   "cell_type": "markdown",
   "metadata": {},
   "source": [
    "### num_achievements_possible"
   ]
  },
  {
   "cell_type": "code",
   "execution_count": null,
   "metadata": {
    "collapsed": false
   },
   "outputs": [],
   "source": [
    "dist_info_dict_Arma_3['num_achievements_possible']['labels_counter']"
   ]
  },
  {
   "cell_type": "markdown",
   "metadata": {},
   "source": [
    "### num_guides"
   ]
  },
  {
   "cell_type": "code",
   "execution_count": null,
   "metadata": {
    "collapsed": false
   },
   "outputs": [],
   "source": [
    "dist_info_dict_Arma_3['num_guides']['labels_counter']"
   ]
  },
  {
   "cell_type": "markdown",
   "metadata": {},
   "source": [
    "### num_workshop_items"
   ]
  },
  {
   "cell_type": "code",
   "execution_count": null,
   "metadata": {
    "collapsed": false
   },
   "outputs": [],
   "source": [
    "dist_info_dict_Arma_3['num_workshop_items']['labels_counter']"
   ]
  },
  {
   "cell_type": "markdown",
   "metadata": {},
   "source": [
    "### num_friends"
   ]
  },
  {
   "cell_type": "code",
   "execution_count": null,
   "metadata": {
    "collapsed": false
   },
   "outputs": [],
   "source": [
    "num_friends_raw_label_values_Arma_3 = list(dist_info_dict_Arma_3['num_friends']['id_strings_labels_dict'].values())"
   ]
  },
  {
   "cell_type": "code",
   "execution_count": null,
   "metadata": {
    "collapsed": false
   },
   "outputs": [],
   "source": [
    "plt.hist([np.log(x) for x in num_friends_raw_label_values_Arma_3 if x != 0])\n",
    "plt.title(\"Log Arma_3 num_friends Histogram\")\n",
    "plt.xlabel(\"Value\")\n",
    "plt.ylabel(\"Frequency\")"
   ]
  },
  {
   "cell_type": "markdown",
   "metadata": {},
   "source": [
    "### num_games_owned"
   ]
  },
  {
   "cell_type": "code",
   "execution_count": null,
   "metadata": {
    "collapsed": false
   },
   "outputs": [],
   "source": [
    "dist_info_dict_Arma_3['num_games_owned']['labels_counter']"
   ]
  },
  {
   "cell_type": "markdown",
   "metadata": {},
   "source": [
    "### num_comments"
   ]
  },
  {
   "cell_type": "code",
   "execution_count": null,
   "metadata": {
    "collapsed": false
   },
   "outputs": [],
   "source": [
    "dist_info_dict_Arma_3['num_comments']['labels_counter']"
   ]
  },
  {
   "cell_type": "markdown",
   "metadata": {},
   "source": [
    "### friend_player_level"
   ]
  },
  {
   "cell_type": "code",
   "execution_count": null,
   "metadata": {
    "collapsed": false
   },
   "outputs": [],
   "source": [
    "dist_info_dict_Arma_3['friend_player_level']['labels_counter']"
   ]
  },
  {
   "cell_type": "markdown",
   "metadata": {},
   "source": [
    "### num_groups"
   ]
  },
  {
   "cell_type": "code",
   "execution_count": null,
   "metadata": {
    "collapsed": false
   },
   "outputs": [],
   "source": [
    "dist_info_dict_Arma_3['num_groups']['labels_counter']"
   ]
  },
  {
   "cell_type": "markdown",
   "metadata": {},
   "source": [
    "### num_screenshots"
   ]
  },
  {
   "cell_type": "code",
   "execution_count": null,
   "metadata": {
    "collapsed": false
   },
   "outputs": [],
   "source": [
    "dist_info_dict_Arma_3['num_screenshots']['labels_counter']"
   ]
  },
  {
   "cell_type": "markdown",
   "metadata": {},
   "source": [
    "### num_badges"
   ]
  },
  {
   "cell_type": "code",
   "execution_count": null,
   "metadata": {
    "collapsed": false
   },
   "outputs": [],
   "source": [
    "dist_info_dict_Arma_3['num_badges']['labels_counter']"
   ]
  },
  {
   "cell_type": "markdown",
   "metadata": {},
   "source": [
    "### num_found_funny"
   ]
  },
  {
   "cell_type": "code",
   "execution_count": null,
   "metadata": {
    "collapsed": false
   },
   "outputs": [],
   "source": [
    "dist_info_dict_Arma_3['num_found_funny']['labels_counter']"
   ]
  },
  {
   "cell_type": "markdown",
   "metadata": {},
   "source": [
    "## Examining the Distribution of Labels for Team Fortress 2"
   ]
  },
  {
   "cell_type": "code",
   "execution_count": null,
   "metadata": {
    "collapsed": false
   },
   "outputs": [],
   "source": [
    "for label in dist_info_dict_Team_Fortress_2:\n",
    "    print(\"Label = {}\\n\".format(label))\n",
    "    print(\"{}\\n\".format(dist_info_dict_Team_Fortress_2[label]['labels_counter']))"
   ]
  },
  {
   "cell_type": "markdown",
   "metadata": {},
   "source": [
    "## Examining the Distribution of Labels for Counter Strike"
   ]
  },
  {
   "cell_type": "code",
   "execution_count": null,
   "metadata": {
    "collapsed": false
   },
   "outputs": [],
   "source": [
    "for label in dist_info_dict_Counter_Strike:\n",
    "    print(\"Label = {}\\n\".format(label))\n",
    "    print(\"{}\\n\".format(dist_info_dict_Counter_Strike[label]['labels_counter']))"
   ]
  }
 ],
 "metadata": {
  "kernelspec": {
   "display_name": "Python 3",
   "language": "python",
   "name": "python3"
  },
  "language_info": {
   "codemirror_mode": {
    "name": "ipython",
    "version": 3
   },
   "file_extension": ".py",
   "mimetype": "text/x-python",
   "name": "python",
   "nbconvert_exporter": "python",
   "pygments_lexer": "ipython3",
   "version": "3.4.3"
  }
 },
 "nbformat": 4,
 "nbformat_minor": 0
}
