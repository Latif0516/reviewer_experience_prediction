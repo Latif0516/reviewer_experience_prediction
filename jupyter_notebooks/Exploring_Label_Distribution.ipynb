{
 "cells": [
  {
   "cell_type": "markdown",
   "metadata": {},
   "source": [
    "# Exploring Label Distribution and Converting Distribution to Bins of Values"
   ]
  },
  {
   "cell_type": "code",
   "execution_count": 108,
   "metadata": {
    "collapsed": true
   },
   "outputs": [],
   "source": [
    "import math\n",
    "import itertools\n",
    "\n",
    "import numpy as np\n",
    "import scipy as sp\n",
    "import matplotlib.pyplot as plt\n",
    "%matplotlib inline\n",
    "\n",
    "from util.mongodb import *\n",
    "from util.datasets import *\n",
    "from src.experiments import *\n",
    "from data import APPID_DICT"
   ]
  },
  {
   "cell_type": "markdown",
   "metadata": {},
   "source": [
    "### Games"
   ]
  },
  {
   "cell_type": "code",
   "execution_count": 2,
   "metadata": {
    "collapsed": false
   },
   "outputs": [
    {
     "data": {
      "text/plain": [
       "['The_Elder_Scrolls_V',\n",
       " 'Counter_Strike_Global_Offensive',\n",
       " 'Arma_3',\n",
       " 'Counter_Strike',\n",
       " 'sample',\n",
       " 'Dota_2',\n",
       " 'Grand_Theft_Auto_V',\n",
       " 'Garrys_Mod',\n",
       " 'Team_Fortress_2',\n",
       " 'Warframe',\n",
       " 'Football_Manager_2015',\n",
       " 'Sid_Meiers_Civilization_5']"
      ]
     },
     "execution_count": 2,
     "metadata": {},
     "output_type": "execute_result"
    }
   ],
   "source": [
    "list(APPID_DICT.keys())"
   ]
  },
  {
   "cell_type": "markdown",
   "metadata": {},
   "source": [
    "### Labels"
   ]
  },
  {
   "cell_type": "code",
   "execution_count": 18,
   "metadata": {
    "collapsed": false
   },
   "outputs": [
    {
     "data": {
      "text/plain": [
       "frozenset({'found_helpful_percentage',\n",
       "           'friend_player_level',\n",
       "           'num_achievements_attained',\n",
       "           'num_achievements_percentage',\n",
       "           'num_achievements_possible',\n",
       "           'num_badges',\n",
       "           'num_comments',\n",
       "           'num_found_funny',\n",
       "           'num_found_helpful',\n",
       "           'num_found_unhelpful',\n",
       "           'num_friends',\n",
       "           'num_games_owned',\n",
       "           'num_groups',\n",
       "           'num_guides',\n",
       "           'num_reviews',\n",
       "           'num_screenshots',\n",
       "           'num_voted_helpfulness',\n",
       "           'num_workshop_items',\n",
       "           'total_game_hours',\n",
       "           'total_game_hours_bin',\n",
       "           'total_game_hours_last_two_weeks'})"
      ]
     },
     "execution_count": 18,
     "metadata": {},
     "output_type": "execute_result"
    }
   ],
   "source": [
    "list(LABELS)"
   ]
  },
  {
   "cell_type": "markdown",
   "metadata": {},
   "source": [
    "## Issues"
   ]
  },
  {
   "cell_type": "markdown",
   "metadata": {},
   "source": [
    "- The main concern is that, in order to know whether it will be potentially interesting and worth exploration to do experiments with a certain label, it is necessary to know\n",
    "    1. if it can be used as is (raw values), which is unlikely, and, if not,\n",
    "    2. how its distribution can be carved up (specifically, what values for `nbins` and `bin_factor` to use in `learn`, etc.), and\n",
    "    3. whether or not the current algorithm for deciding on the range of included values (i.e., excluding outliers) and making the value bins works or if it needs to be automated somehow (i.e., even potentially using some kind of cluster analysis, perhaps)"
   ]
  },
  {
   "cell_type": "markdown",
   "metadata": {},
   "source": [
    "## Proposed Plan of Action"
   ]
  },
  {
   "cell_type": "markdown",
   "metadata": {},
   "source": [
    "- Some of this information can be collected via functions in the `experiments` extension, specifically `distributional_info` and `evenly_distribute_samples`\n",
    "- Collect data on the distributions of all of the labels for a subset of games and explore the way that the values are distributed, considering alternate ways that the values could be clustered together"
   ]
  },
  {
   "cell_type": "code",
   "execution_count": 3,
   "metadata": {
    "collapsed": false
   },
   "outputs": [
    {
     "data": {
      "text/plain": [
       "['Counter_Strike', 'Team_Fortress_2', 'Arma_3']"
      ]
     },
     "execution_count": 3,
     "metadata": {},
     "output_type": "execute_result"
    }
   ],
   "source": [
    "# Execute a number of times until you get the subset you want\n",
    "games_subset = list(np.random.choice([game for game in APPID_DICT\n",
    "                                      if not game.startswith('sample')],\n",
    "                                      3, replace=False))\n",
    "games_subset"
   ]
  },
  {
   "cell_type": "code",
   "execution_count": 4,
   "metadata": {
    "collapsed": true
   },
   "outputs": [],
   "source": [
    "# Connect to reviews collection\n",
    "db = connect_to_db(host='localhost', port=37017)"
   ]
  },
  {
   "cell_type": "code",
   "execution_count": 5,
   "metadata": {
    "collapsed": false
   },
   "outputs": [],
   "source": [
    "# Let's build up a dictionary of distributional information for each label and\n",
    "# for each in a random subset of 3 games\n",
    "games_labels = list(itertools.product(games_subset, LABELS))\n",
    "dist_info_dict = {game: dict() for game in games_subset}"
   ]
  },
  {
   "cell_type": "code",
   "execution_count": null,
   "metadata": {
    "collapsed": false
   },
   "outputs": [],
   "source": [
    "for game, label in itertools.product(games_subset, LABELS):\n",
    "    try:\n",
    "        if dist_info_dict[game].get(label):\n",
    "            continue\n",
    "        dist_info_dict[game][label] = \\\n",
    "            distributional_info(db, label, [game], partition='test')\n",
    "    except ValueError as e:\n",
    "        continue"
   ]
  },
  {
   "cell_type": "code",
   "execution_count": 19,
   "metadata": {
    "collapsed": false
   },
   "outputs": [],
   "source": [
    "# Each game will have 21 different outputs, so let's break things up a bit\n",
    "dist_info_dict_Arma_3 = dist_info_dict['Arma_3']\n",
    "dist_info_dict_Team_Fortress_2 = dist_info_dict['Team_Fortress_2']\n",
    "dist_info_dict_Counter_Strike = dist_info_dict['Counter_Strike']"
   ]
  },
  {
   "cell_type": "markdown",
   "metadata": {},
   "source": [
    "## Examining the Distribution of Labels for Arma 3"
   ]
  },
  {
   "cell_type": "code",
   "execution_count": 15,
   "metadata": {
    "collapsed": false
   },
   "outputs": [
    {
     "data": {
      "text/plain": [
       "dict_keys(['num_reviews', 'total_game_hours_bin', 'found_helpful_percentage', 'num_achievements_percentage', 'num_guides', 'num_workshop_items', 'num_friends', 'num_games_owned', 'num_comments', 'friend_player_level', 'num_groups', 'total_game_hours_last_two_weeks', 'num_found_helpful', 'num_achievements_attained', 'num_screenshots', 'num_voted_helpfulness', 'total_game_hours', 'num_badges', 'num_achievements_possible', 'num_found_funny', 'num_found_unhelpful'])"
      ]
     },
     "execution_count": 15,
     "metadata": {},
     "output_type": "execute_result"
    }
   ],
   "source": [
    "dist_info_dict_Arma_3.keys()"
   ]
  },
  {
   "cell_type": "markdown",
   "metadata": {},
   "source": [
    "### num_reviews"
   ]
  },
  {
   "cell_type": "code",
   "execution_count": 20,
   "metadata": {
    "collapsed": false
   },
   "outputs": [
    {
     "data": {
      "text/plain": [
       "Counter({0: 87,\n",
       "         1: 106,\n",
       "         2: 64,\n",
       "         3: 59,\n",
       "         4: 41,\n",
       "         5: 27,\n",
       "         6: 23,\n",
       "         7: 30,\n",
       "         8: 20,\n",
       "         9: 13,\n",
       "         10: 15,\n",
       "         11: 7,\n",
       "         12: 13,\n",
       "         13: 11,\n",
       "         14: 6,\n",
       "         15: 7,\n",
       "         16: 6,\n",
       "         17: 4,\n",
       "         18: 3,\n",
       "         19: 3,\n",
       "         20: 6,\n",
       "         21: 3,\n",
       "         22: 7,\n",
       "         23: 3,\n",
       "         24: 3,\n",
       "         25: 3,\n",
       "         26: 1,\n",
       "         27: 3,\n",
       "         28: 4,\n",
       "         29: 2,\n",
       "         30: 1,\n",
       "         31: 1,\n",
       "         32: 1,\n",
       "         33: 2,\n",
       "         35: 1,\n",
       "         36: 1,\n",
       "         38: 1,\n",
       "         39: 1,\n",
       "         41: 1,\n",
       "         43: 1,\n",
       "         48: 1,\n",
       "         49: 1,\n",
       "         54: 1,\n",
       "         61: 1,\n",
       "         62: 1,\n",
       "         75: 1,\n",
       "         96: 1,\n",
       "         158: 1})"
      ]
     },
     "execution_count": 20,
     "metadata": {},
     "output_type": "execute_result"
    }
   ],
   "source": [
    "dist_info_dict_Arma_3['num_reviews']['labels_counter']"
   ]
  },
  {
   "cell_type": "code",
   "execution_count": 56,
   "metadata": {
    "collapsed": false
   },
   "outputs": [
    {
     "name": "stdout",
     "output_type": "stream",
     "text": [
      "bins = 3, bin_factor = 1.0: [(0.0, 52.7), (52.8, 105.3), (105.4, 158.0)]\n",
      "bins = 3, bin_factor = 1.5: [(0.0, 33.3), (33.4, 83.2), (83.3, 158.0)]\n",
      "bins = 3, bin_factor = 2.0: [(0.0, 22.6), (22.7, 67.7), (67.8, 158.0)]\n",
      "bins = 3, bin_factor = 3.0: [(0.0, 12.2), (12.3, 48.6), (48.7, 158.0)]\n",
      "bins = 2, bin_factor = 3.0: [(0.0, 39.5), (39.6, 158.0)]\n",
      "bins = 2, bin_factor = 10.0: [(0.0, 14.4), (14.5, 158.0)]\n"
     ]
    }
   ],
   "source": [
    "# Use `get_bin_ranges` to determine the ranges of bins\n",
    "num_reviews_Arma_3 = dist_info_dict_Arma_3['num_reviews']['labels_counter']\n",
    "num_reviews_Arma_3_values = np.array(list(num_reviews_Arma_3.keys()))\n",
    "num_reviews_Arma_3_min_value = num_reviews_Arma_3_values.min()\n",
    "num_reviews_Arma_3_max_value = num_reviews_Arma_3_values.max()\n",
    "num_reviews_Arma_3_bin_ranges_3_1 = get_bin_ranges(num_reviews_Arma_3_min_value,\n",
    "                                                   num_reviews_Arma_3_max_value,\n",
    "                                                   nbins=3,\n",
    "                                                   factor=1.0)\n",
    "num_reviews_Arma_3_bin_ranges_3_1_5 = get_bin_ranges(num_reviews_Arma_3_min_value,\n",
    "                                                     num_reviews_Arma_3_max_value,\n",
    "                                                     nbins=3,\n",
    "                                                     factor=1.5)\n",
    "num_reviews_Arma_3_bin_ranges_3_2 = get_bin_ranges(num_reviews_Arma_3_min_value,\n",
    "                                                   num_reviews_Arma_3_max_value,\n",
    "                                                   nbins=3,\n",
    "                                                   factor=2.0)\n",
    "num_reviews_Arma_3_bin_ranges_3_3 = get_bin_ranges(num_reviews_Arma_3_min_value,\n",
    "                                                   num_reviews_Arma_3_max_value,\n",
    "                                                   nbins=3,\n",
    "                                                   factor=3.0)\n",
    "num_reviews_Arma_3_bin_ranges_2_3 = get_bin_ranges(num_reviews_Arma_3_min_value,\n",
    "                                                   num_reviews_Arma_3_max_value,\n",
    "                                                   nbins=2,\n",
    "                                                   factor=3.0)\n",
    "num_reviews_Arma_3_bin_ranges_2_10 = get_bin_ranges(num_reviews_Arma_3_min_value,\n",
    "                                                   num_reviews_Arma_3_max_value,\n",
    "                                                   nbins=2,\n",
    "                                                   factor=10.0)\n",
    "print(\"bins = 3, bin_factor = 1.0: {}\".format(num_reviews_Arma_3_bin_ranges_3_1))\n",
    "print(\"bins = 3, bin_factor = 1.5: {}\".format(num_reviews_Arma_3_bin_ranges_3_1_5))\n",
    "print(\"bins = 3, bin_factor = 2.0: {}\".format(num_reviews_Arma_3_bin_ranges_3_2))\n",
    "print(\"bins = 3, bin_factor = 3.0: {}\".format(num_reviews_Arma_3_bin_ranges_3_3))\n",
    "print(\"bins = 2, bin_factor = 3.0: {}\".format(num_reviews_Arma_3_bin_ranges_2_3))\n",
    "print(\"bins = 2, bin_factor = 10.0: {}\".format(num_reviews_Arma_3_bin_ranges_2_10))"
   ]
  },
  {
   "cell_type": "code",
   "execution_count": 119,
   "metadata": {
    "collapsed": true
   },
   "outputs": [],
   "source": [
    "num_reviews_raw_label_values_Arma_3 = list(dist_info_dict_Arma_3['num_reviews']['id_strings_labels_dict'].values())"
   ]
  },
  {
   "cell_type": "code",
   "execution_count": 120,
   "metadata": {
    "collapsed": false
   },
   "outputs": [
    {
     "data": {
      "text/plain": [
       "<matplotlib.text.Text at 0x7f2665f4c668>"
      ]
     },
     "execution_count": 120,
     "metadata": {},
     "output_type": "execute_result"
    },
    {
     "data": {
      "image/png": "[encoded data removed]",
      "text/plain": [
       "<matplotlib.figure.Figure at 0x7f2665f3b518>"
      ]
     },
     "metadata": {},
     "output_type": "display_data"
    }
   ],
   "source": [
    "plt.hist(num_reviews_raw_label_values_Arma_3)\n",
    "plt.title(\"Arma_3 num_reviews Histogram\")\n",
    "plt.xlabel(\"Value\")\n",
    "plt.ylabel(\"Frequency\")"
   ]
  },
  {
   "cell_type": "code",
   "execution_count": 111,
   "metadata": {
    "collapsed": false
   },
   "outputs": [
    {
     "data": {
      "text/plain": [
       "<matplotlib.text.Text at 0x7f26661750b8>"
      ]
     },
     "execution_count": 111,
     "metadata": {},
     "output_type": "execute_result"
    },
    {
     "data": {
      "image/png": "[encoded data removed]",
      "text/plain": [
       "<matplotlib.figure.Figure at 0x7f26661a8d68>"
      ]
     },
     "metadata": {},
     "output_type": "display_data"
    }
   ],
   "source": [
    "plt.hist(num_reviews_raw_label_values_Arma_3, normed=True)\n",
    "plt.title(\"Arma_3 num_reviews Histogram\")\n",
    "plt.xlabel(\"Value\")\n",
    "plt.ylabel(\"Frequency\")"
   ]
  },
  {
   "cell_type": "code",
   "execution_count": 98,
   "metadata": {
    "collapsed": false
   },
   "outputs": [
    {
     "data": {
      "text/plain": [
       "<matplotlib.text.Text at 0x7f26667beba8>"
      ]
     },
     "execution_count": 98,
     "metadata": {},
     "output_type": "execute_result"
    },
    {
     "data": {
      "image/png": "[encoded data removed]",
      "text/plain": [
       "<matplotlib.figure.Figure at 0x7f266682dda0>"
      ]
     },
     "metadata": {},
     "output_type": "display_data"
    }
   ],
   "source": [
    "plt.hist([np.log(x) for x in num_reviews_raw_label_values_Arma_3 if x != 0])\n",
    "plt.title(\"Log Arma_3 num_reviews Histogram\")\n",
    "plt.xlabel(\"Value\")\n",
    "plt.ylabel(\"Frequency\")"
   ]
  },
  {
   "cell_type": "code",
   "execution_count": 112,
   "metadata": {
    "collapsed": false
   },
   "outputs": [
    {
     "data": {
      "text/plain": [
       "<matplotlib.text.Text at 0x7f26661afa58>"
      ]
     },
     "execution_count": 112,
     "metadata": {},
     "output_type": "execute_result"
    },
    {
     "data": {
      "image/png": "[encoded data removed]",
      "text/plain": [
       "<matplotlib.figure.Figure at 0x7f2666120128>"
      ]
     },
     "metadata": {},
     "output_type": "display_data"
    }
   ],
   "source": [
    "plt.hist([np.log(x) for x in num_reviews_raw_label_values_Arma_3 if x != 0],\n",
    "         normed=True)\n",
    "plt.title(\"Log Arma_3 num_reviews Histogram\")\n",
    "plt.xlabel(\"Value\")\n",
    "plt.ylabel(\"Frequency\")"
   ]
  },
  {
   "cell_type": "code",
   "execution_count": 113,
   "metadata": {
    "collapsed": false
   },
   "outputs": [
    {
     "data": {
      "text/plain": [
       "<matplotlib.text.Text at 0x7f26662a60b8>"
      ]
     },
     "execution_count": 113,
     "metadata": {},
     "output_type": "execute_result"
    },
    {
     "data": {
      "image/png": "[encoded data removed]",
      "text/plain": [
       "<matplotlib.figure.Figure at 0x7f266603fe80>"
      ]
     },
     "metadata": {},
     "output_type": "display_data"
    }
   ],
   "source": [
    "plt.hist([np.log(x) for x in num_reviews_raw_label_values_Arma_3 if x != 0],\n",
    "         normed=True, cumulative=True)\n",
    "plt.title(\"Log Arma_3 num_reviews Histogram\")\n",
    "plt.xlabel(\"Value\")\n",
    "plt.ylabel(\"Frequency\")"
   ]
  },
  {
   "cell_type": "code",
   "execution_count": 100,
   "metadata": {
    "collapsed": false
   },
   "outputs": [
    {
     "data": {
      "text/plain": [
       "<matplotlib.text.Text at 0x7f26667244a8>"
      ]
     },
     "execution_count": 100,
     "metadata": {},
     "output_type": "execute_result"
    },
    {
     "data": {
      "image/png": "[encoded data removed]",
      "text/plain": [
       "<matplotlib.figure.Figure at 0x7f26667584e0>"
      ]
     },
     "metadata": {},
     "output_type": "display_data"
    }
   ],
   "source": [
    "plt.hist([np.log(x + 1) for x in num_reviews_raw_label_values_Arma_3])\n",
    "plt.title(\"Log(x + 1) Arma_3 num_reviews Histogram\")\n",
    "plt.xlabel(\"Value\")\n",
    "plt.ylabel(\"Frequency\")"
   ]
  },
  {
   "cell_type": "code",
   "execution_count": 101,
   "metadata": {
    "collapsed": false
   },
   "outputs": [
    {
     "data": {
      "text/plain": [
       "<matplotlib.text.Text at 0x7f26666d8710>"
      ]
     },
     "execution_count": 101,
     "metadata": {},
     "output_type": "execute_result"
    },
    {
     "data": {
      "image/png": "[encoded data removed]",
      "text/plain": [
       "<matplotlib.figure.Figure at 0x7f2666f99ba8>"
      ]
     },
     "metadata": {},
     "output_type": "display_data"
    }
   ],
   "source": [
    "plt.hist([np.log2(x + 1) for x in num_reviews_raw_label_values_Arma_3])\n",
    "plt.title(\"Log2(x + 1) Arma_3 num_reviews Histogram\")\n",
    "plt.xlabel(\"Value\")\n",
    "plt.ylabel(\"Frequency\")"
   ]
  },
  {
   "cell_type": "code",
   "execution_count": 102,
   "metadata": {
    "collapsed": false
   },
   "outputs": [
    {
     "data": {
      "text/plain": [
       "<matplotlib.text.Text at 0x7f2666628390>"
      ]
     },
     "execution_count": 102,
     "metadata": {},
     "output_type": "execute_result"
    },
    {
     "data": {
      "image/png": "[encoded data removed]",
      "text/plain": [
       "<matplotlib.figure.Figure at 0x7f26665c1dd8>"
      ]
     },
     "metadata": {},
     "output_type": "display_data"
    }
   ],
   "source": [
    "plt.hist([np.log10(x + 1) for x in num_reviews_raw_label_values_Arma_3])\n",
    "plt.title(\"Log10(x + 1) Arma_3 num_reviews Histogram\")\n",
    "plt.xlabel(\"Value\")\n",
    "plt.ylabel(\"Frequency\")"
   ]
  },
  {
   "cell_type": "code",
   "execution_count": 104,
   "metadata": {
    "collapsed": false
   },
   "outputs": [
    {
     "data": {
      "text/plain": [
       "array([ -5.96585685e-01,  -5.96585685e-01,  -2.52064282e-01,\n",
       "        -3.38194633e-01,   1.12602133e+00,  -5.10455334e-01,\n",
       "         6.32677034e-03,  -5.10455334e-01,  -7.98035804e-02,\n",
       "         2.15958554e+00,  -5.96585685e-01,  -5.96585685e-01,\n",
       "         6.32677034e-03,  -3.38194633e-01,  -5.96585685e-01,\n",
       "        -4.24324983e-01,  -5.96585685e-01,   1.21215168e+00,\n",
       "        -4.24324983e-01,  -3.38194633e-01,  -4.24324983e-01,\n",
       "        -2.52064282e-01,  -5.10455334e-01,  -4.24324983e-01,\n",
       "         3.50848173e-01,   6.32677034e-03,  -5.96585685e-01,\n",
       "        -5.10455334e-01,  -7.98035804e-02,   7.81499927e-01,\n",
       "         5.23108875e-01,  -3.38194633e-01,  -5.10455334e-01,\n",
       "        -3.38194633e-01,  -5.10455334e-01,   1.03989098e+00,\n",
       "        -5.96585685e-01,  -3.38194633e-01,   9.24571211e-02,\n",
       "        -5.96585685e-01,  -2.52064282e-01,   5.23108875e-01,\n",
       "         9.24571211e-02,   6.32677034e-03,  -5.96585685e-01,\n",
       "        -5.10455334e-01,   2.64717823e-01,  -7.98035804e-02,\n",
       "        -5.10455334e-01,  -5.96585685e-01,  -5.10455334e-01,\n",
       "        -5.96585685e-01,  -5.96585685e-01,  -5.10455334e-01,\n",
       "        -4.24324983e-01,  -5.10455334e-01,   1.78587472e-01,\n",
       "        -5.96585685e-01,  -3.38194633e-01,  -3.38194633e-01,\n",
       "        -1.65933931e-01,  -3.38194633e-01,   1.81506414e+00,\n",
       "        -5.10455334e-01,  -5.10455334e-01,  -5.10455334e-01,\n",
       "        -4.24324983e-01,  -1.65933931e-01,   1.72893379e+00,\n",
       "        -7.98035804e-02,  -7.98035804e-02,  -5.96585685e-01,\n",
       "         4.05445326e+00,  -5.96585685e-01,  -4.24324983e-01,\n",
       "         4.36978524e-01,  -4.24324983e-01,  -5.96585685e-01,\n",
       "        -4.24324983e-01,  -3.38194633e-01,  -5.10455334e-01,\n",
       "        -5.96585685e-01,  -5.10455334e-01,  -4.24324983e-01,\n",
       "         5.23108875e-01,  -2.52064282e-01,  -5.96585685e-01,\n",
       "        -5.10455334e-01,  -5.10455334e-01,   4.36978524e-01,\n",
       "        -7.98035804e-02,   6.32677034e-03,   6.32677034e-03,\n",
       "         2.67636764e+00,  -3.38194633e-01,  -5.10455334e-01,\n",
       "        -5.10455334e-01,   6.32677034e-03,   1.12602133e+00,\n",
       "        -5.10455334e-01,   3.50848173e-01,  -3.38194633e-01,\n",
       "        -5.96585685e-01,  -1.65933931e-01,   1.78587472e-01,\n",
       "        -5.10455334e-01,   9.24571211e-02,  -1.65933931e-01,\n",
       "        -1.65933931e-01,  -4.24324983e-01,   6.32677034e-03,\n",
       "         7.81499927e-01,  -5.10455334e-01,  -5.10455334e-01,\n",
       "        -3.38194633e-01,   4.36978524e-01,  -7.98035804e-02,\n",
       "         1.55667308e+00,  -1.65933931e-01,   8.67630278e-01,\n",
       "        -5.10455334e-01,   9.24571211e-02,  -5.96585685e-01,\n",
       "        -5.96585685e-01,  -7.98035804e-02,   1.78587472e-01,\n",
       "        -4.24324983e-01,  -5.10455334e-01,  -1.65933931e-01,\n",
       "        -1.65933931e-01,   6.32677034e-03,  -5.10455334e-01,\n",
       "        -7.98035804e-02,  -2.52064282e-01,   1.78587472e-01,\n",
       "         6.32677034e-03,  -5.10455334e-01,   4.36978524e-01,\n",
       "         6.32677034e-03,   6.32677034e-03,  -5.10455334e-01,\n",
       "         2.64717823e-01,   4.36978524e-01,   1.55667308e+00,\n",
       "        -3.38194633e-01,  -5.10455334e-01,  -5.96585685e-01,\n",
       "         1.72893379e+00,   5.23108875e-01,  -4.24324983e-01,\n",
       "        -2.52064282e-01,  -3.38194633e-01,  -4.24324983e-01,\n",
       "         3.50848173e-01,   7.81499927e-01,  -2.52064282e-01,\n",
       "        -5.10455334e-01,  -5.10455334e-01,  -5.10455334e-01,\n",
       "        -5.10455334e-01,  -2.52064282e-01,   9.24571211e-02,\n",
       "        -2.52064282e-01,   6.09239226e-01,  -7.98035804e-02,\n",
       "        -5.96585685e-01,   6.32677034e-03,   1.12602133e+00,\n",
       "        -3.38194633e-01,  -5.96585685e-01,   6.32677034e-03,\n",
       "        -4.24324983e-01,  -5.10455334e-01,  -1.65933931e-01,\n",
       "        -5.10455334e-01,   6.09239226e-01,   2.76249799e+00,\n",
       "         2.64717823e-01,  -4.24324983e-01,  -5.10455334e-01,\n",
       "        -5.10455334e-01,  -5.10455334e-01,   2.93475870e+00,\n",
       "        -5.96585685e-01,   4.36978524e-01,  -3.38194633e-01,\n",
       "        -4.24324983e-01,  -2.52064282e-01,  -2.52064282e-01,\n",
       "         1.12602133e+00,  -4.24324983e-01,  -5.10455334e-01,\n",
       "         1.12602133e+00,   1.29828203e+00,  -5.10455334e-01,\n",
       "        -2.52064282e-01,   1.90119449e+00,  -4.24324983e-01,\n",
       "        -5.96585685e-01,  -5.96585685e-01,  -4.24324983e-01,\n",
       "         9.24571211e-02,  -3.38194633e-01,  -3.38194633e-01,\n",
       "        -4.24324983e-01,   6.32677034e-03,   2.24571589e+00,\n",
       "         6.09239226e-01,  -5.10455334e-01,   4.36978524e-01,\n",
       "         9.24571211e-02,  -3.38194633e-01,  -2.52064282e-01,\n",
       "        -3.38194633e-01,   1.98732484e+00,  -5.10455334e-01,\n",
       "        -1.65933931e-01,  -3.38194633e-01,   3.10701940e+00,\n",
       "        -3.38194633e-01,   1.47054273e+00,  -5.10455334e-01,\n",
       "        -3.38194633e-01,  -4.24324983e-01,   3.50848173e-01,\n",
       "        -2.52064282e-01,  -7.98035804e-02,  -5.10455334e-01,\n",
       "        -3.38194633e-01,  -7.98035804e-02,   6.32677034e-03,\n",
       "        -1.65933931e-01,  -3.38194633e-01,  -4.24324983e-01,\n",
       "         1.03989098e+00,  -4.24324983e-01,  -2.52064282e-01,\n",
       "        -2.52064282e-01,   2.50410694e+00,   6.95369576e-01,\n",
       "        -3.38194633e-01,  -2.52064282e-01,  -2.52064282e-01,\n",
       "        -7.98035804e-02,  -5.10455334e-01,  -5.96585685e-01,\n",
       "        -3.38194633e-01,   1.12602133e+00,  -3.38194633e-01,\n",
       "        -5.96585685e-01,   1.72893379e+00,  -2.52064282e-01,\n",
       "         2.64717823e-01,  -3.38194633e-01,   7.81499927e-01,\n",
       "         2.64717823e-01,  -5.96585685e-01,  -5.10455334e-01,\n",
       "        -5.96585685e-01,  -5.96585685e-01,  -3.38194633e-01,\n",
       "         9.24571211e-02,  -7.98035804e-02,  -5.10455334e-01,\n",
       "        -5.96585685e-01,  -5.96585685e-01,   2.64717823e-01,\n",
       "        -5.10455334e-01,   6.32677034e-03,  -3.38194633e-01,\n",
       "        -4.24324983e-01,  -5.10455334e-01,  -2.52064282e-01,\n",
       "        -5.96585685e-01,  -3.38194633e-01,  -1.65933931e-01,\n",
       "        -2.52064282e-01,  -4.24324983e-01,  -1.65933931e-01,\n",
       "        -5.96585685e-01,  -3.38194633e-01,  -5.96585685e-01,\n",
       "        -5.96585685e-01,  -5.10455334e-01,  -3.38194633e-01,\n",
       "        -4.24324983e-01,  -4.24324983e-01,  -5.10455334e-01,\n",
       "        -7.98035804e-02,  -5.10455334e-01,   1.38441238e+00,\n",
       "         5.23108875e-01,   8.67630278e-01,   6.32677034e-03,\n",
       "         2.64717823e-01,  -2.52064282e-01,  -5.10455334e-01,\n",
       "         1.78587472e-01,  -5.96585685e-01,  -5.10455334e-01,\n",
       "        -3.38194633e-01,  -5.96585685e-01,  -4.24324983e-01,\n",
       "         6.95369576e-01,  -5.96585685e-01,  -5.10455334e-01,\n",
       "         6.09239226e-01,  -5.10455334e-01,  -5.10455334e-01,\n",
       "        -3.38194633e-01,  -5.96585685e-01,  -4.24324983e-01,\n",
       "        -4.24324983e-01,  -5.10455334e-01,   6.32677034e-03,\n",
       "        -2.52064282e-01,   6.32677034e-03,   9.24571211e-02,\n",
       "         6.95369576e-01,   3.50848173e-01,   3.50848173e-01,\n",
       "        -4.24324983e-01,  -5.96585685e-01,   1.47054273e+00,\n",
       "         6.09239226e-01,  -1.65933931e-01,  -5.96585685e-01,\n",
       "        -5.96585685e-01,  -3.38194633e-01,  -3.38194633e-01,\n",
       "        -5.10455334e-01,  -4.24324983e-01,   1.78587472e-01,\n",
       "        -2.52064282e-01,  -4.24324983e-01,  -4.24324983e-01,\n",
       "        -7.98035804e-02,  -5.96585685e-01,  -5.96585685e-01,\n",
       "        -5.10455334e-01,  -1.65933931e-01,  -5.96585685e-01,\n",
       "        -2.52064282e-01,  -5.10455334e-01,  -4.24324983e-01,\n",
       "        -1.65933931e-01,  -3.38194633e-01,  -4.24324983e-01,\n",
       "        -1.65933931e-01,  -3.38194633e-01,  -5.96585685e-01,\n",
       "        -3.38194633e-01,  -1.65933931e-01,   1.64280343e+00,\n",
       "        -4.24324983e-01,   4.36978524e-01,  -2.52064282e-01,\n",
       "         4.65736571e+00,  -2.52064282e-01,  -2.52064282e-01,\n",
       "        -5.10455334e-01,  -5.96585685e-01,  -5.96585685e-01,\n",
       "         9.53760629e-01,   6.32677034e-03,  -2.52064282e-01,\n",
       "         6.09239226e-01,  -4.24324983e-01,  -4.24324983e-01,\n",
       "        -7.98035804e-02,   1.78587472e-01,  -5.10455334e-01,\n",
       "        -4.24324983e-01,   1.29828203e+00,   2.64717823e-01,\n",
       "        -5.10455334e-01,  -5.96585685e-01,   1.38441238e+00,\n",
       "        -5.10455334e-01,  -5.96585685e-01,   9.24571211e-02,\n",
       "        -5.10455334e-01,  -5.10455334e-01,  -5.10455334e-01,\n",
       "        -5.10455334e-01,  -4.24324983e-01,   9.24571211e-02,\n",
       "         1.47054273e+00,  -5.96585685e-01,  -5.10455334e-01,\n",
       "        -4.24324983e-01,  -2.52064282e-01,   7.81499927e-01,\n",
       "         1.78587472e-01,   9.24571211e-02,  -3.38194633e-01,\n",
       "        -5.96585685e-01,   7.67192799e+00,  -5.96585685e-01,\n",
       "        -3.38194633e-01,   6.32677034e-03,  -2.52064282e-01,\n",
       "        -4.24324983e-01,   9.24571211e-02,  -5.10455334e-01,\n",
       "         5.23108875e-01,   2.24571589e+00,  -5.96585685e-01,\n",
       "         9.24571211e-02,  -5.96585685e-01,  -5.10455334e-01,\n",
       "        -5.10455334e-01,   1.78587472e-01,  -3.38194633e-01,\n",
       "        -5.96585685e-01,   9.24571211e-02,  -5.10455334e-01,\n",
       "        -5.10455334e-01,  -2.52064282e-01,  -5.96585685e-01,\n",
       "         2.64717823e-01,  -5.10455334e-01,  -1.65933931e-01,\n",
       "        -5.96585685e-01,   9.24571211e-02,   4.36978524e-01,\n",
       "        -5.96585685e-01,  -3.38194633e-01,  -7.98035804e-02,\n",
       "        -5.10455334e-01,  -5.96585685e-01,  -7.98035804e-02,\n",
       "        -5.10455334e-01,   5.86319062e+00,   6.95369576e-01,\n",
       "        -1.65933931e-01,  -4.24324983e-01,  -2.52064282e-01,\n",
       "        -5.10455334e-01,  -5.10455334e-01,  -5.96585685e-01,\n",
       "        -5.10455334e-01,  -5.96585685e-01,  -5.10455334e-01,\n",
       "        -5.10455334e-01,  -5.10455334e-01,   2.64717823e-01,\n",
       "        -5.96585685e-01,  -1.65933931e-01,  -5.96585685e-01,\n",
       "        -5.10455334e-01,   9.53760629e-01,  -5.96585685e-01,\n",
       "         1.03989098e+00,  -5.10455334e-01,  -4.24324983e-01,\n",
       "        -4.24324983e-01,  -5.10455334e-01,   2.64717823e-01,\n",
       "        -4.24324983e-01,  -2.52064282e-01,  -5.10455334e-01,\n",
       "         5.23108875e-01,  -5.96585685e-01,  -5.10455334e-01,\n",
       "         2.64717823e-01,   1.81506414e+00,   2.64717823e-01,\n",
       "        -5.10455334e-01,   1.21215168e+00,  -1.65933931e-01,\n",
       "        -1.65933931e-01,   6.95369576e-01,  -5.96585685e-01,\n",
       "        -5.96585685e-01,  -4.24324983e-01,  -5.10455334e-01,\n",
       "        -2.52064282e-01,   4.36978524e-01,   1.29828203e+00,\n",
       "        -3.38194633e-01,  -5.96585685e-01,   6.32677034e-03,\n",
       "        -5.96585685e-01,   4.74349606e+00,  -5.10455334e-01,\n",
       "        -2.52064282e-01,  -5.96585685e-01,  -3.38194633e-01,\n",
       "         2.64717823e-01,   8.67630278e-01,  -5.10455334e-01,\n",
       "        -4.24324983e-01,  -5.10455334e-01,  -5.10455334e-01,\n",
       "         6.32677034e-03,  -5.96585685e-01,  -5.96585685e-01,\n",
       "        -5.10455334e-01,   1.81506414e+00,  -3.38194633e-01,\n",
       "         9.53760629e-01,   1.21215168e+00,  -2.52064282e-01,\n",
       "        -2.52064282e-01,  -3.38194633e-01,   6.32677034e-03,\n",
       "        -5.96585685e-01,  -5.10455334e-01,   9.24571211e-02,\n",
       "        -4.24324983e-01,   1.90119449e+00,  -7.98035804e-02,\n",
       "         2.64717823e-01,  -4.24324983e-01,  -5.96585685e-01,\n",
       "         6.95369576e-01,  -5.10455334e-01,   4.36978524e-01,\n",
       "         8.67630278e-01,   6.95369576e-01,  -2.52064282e-01,\n",
       "         1.29828203e+00,  -5.96585685e-01,  -4.24324983e-01,\n",
       "         9.24571211e-02,   3.53767115e+00,   9.24571211e-02,\n",
       "         2.07345519e+00,   1.30120097e+01,   1.78587472e-01,\n",
       "         3.50848173e-01,  -3.38194633e-01,   5.23108875e-01,\n",
       "        -5.10455334e-01,  -3.38194633e-01,   5.23108875e-01,\n",
       "        -4.24324983e-01,  -5.10455334e-01,  -5.10455334e-01,\n",
       "        -4.24324983e-01,  -5.96585685e-01,  -4.24324983e-01,\n",
       "        -1.65933931e-01,  -1.65933931e-01,   1.78587472e-01,\n",
       "        -5.96585685e-01,  -3.38194633e-01,   1.38441238e+00,\n",
       "         6.32677034e-03,  -5.10455334e-01,  -2.52064282e-01,\n",
       "         6.32677034e-03,   1.78587472e-01,  -5.96585685e-01,\n",
       "        -5.10455334e-01,  -7.98035804e-02,   1.81506414e+00,\n",
       "        -5.96585685e-01,  -4.24324983e-01,  -3.38194633e-01,\n",
       "        -3.38194633e-01,  -2.52064282e-01,   1.29828203e+00,\n",
       "         7.81499927e-01,  -4.24324983e-01,   5.23108875e-01,\n",
       "        -4.24324983e-01,   6.32677034e-03,   4.36978524e-01,\n",
       "         9.24571211e-02,  -5.10455334e-01,   1.29828203e+00,\n",
       "        -5.96585685e-01,  -7.98035804e-02,  -1.65933931e-01,\n",
       "         1.29828203e+00,  -4.24324983e-01,   5.23108875e-01,\n",
       "        -3.38194633e-01,  -3.38194633e-01,  -4.24324983e-01,\n",
       "        -5.96585685e-01,  -4.24324983e-01,   3.62380150e+00,\n",
       "         1.55667308e+00,   2.41797659e+00,  -4.24324983e-01,\n",
       "         1.78587472e-01,   4.36978524e-01,  -1.65933931e-01,\n",
       "        -3.38194633e-01,  -7.98035804e-02,  -4.24324983e-01,\n",
       "         6.32677034e-03,   6.32677034e-03,  -3.38194633e-01,\n",
       "        -5.96585685e-01,  -5.10455334e-01])"
      ]
     },
     "execution_count": 104,
     "metadata": {},
     "output_type": "execute_result"
    }
   ],
   "source": [
    "sp.stats.mstats.zscore(num_reviews_raw_label_values_Arma_3)"
   ]
  },
  {
   "cell_type": "code",
   "execution_count": 107,
   "metadata": {
    "collapsed": false
   },
   "outputs": [
    {
     "data": {
      "text/plain": [
       "<matplotlib.text.Text at 0x7f2666368e80>"
      ]
     },
     "execution_count": 107,
     "metadata": {},
     "output_type": "execute_result"
    },
    {
     "data": {
      "image/png": "[encoded data removed]",
      "text/plain": [
       "<matplotlib.figure.Figure at 0x7f26662f6518>"
      ]
     },
     "metadata": {},
     "output_type": "display_data"
    }
   ],
   "source": [
    "plt.hist(sp.stats.mstats.zscore(num_reviews_raw_label_values_Arma_3))\n",
    "plt.title(\"z-score num_reviews Histogram\")\n",
    "plt.xlabel(\"Value\")\n",
    "plt.ylabel(\"Frequency\")"
   ]
  },
  {
   "cell_type": "code",
   "execution_count": 109,
   "metadata": {
    "collapsed": false
   },
   "outputs": [
    {
     "data": {
      "text/plain": [
       "<matplotlib.text.Text at 0x7f26662a3518>"
      ]
     },
     "execution_count": 109,
     "metadata": {},
     "output_type": "execute_result"
    },
    {
     "data": {
      "image/png": "[encoded data removed]",
      "text/plain": [
       "<matplotlib.figure.Figure at 0x7f266654b908>"
      ]
     },
     "metadata": {},
     "output_type": "display_data"
    }
   ],
   "source": [
    "plt.hist([math.sqrt(x) for x in num_reviews_raw_label_values_Arma_3])\n",
    "plt.title(\"sqrt(x) Arma_3 num_reviews Histogram\")\n",
    "plt.xlabel(\"Value\")\n",
    "plt.ylabel(\"Frequency\")"
   ]
  },
  {
   "cell_type": "code",
   "execution_count": 110,
   "metadata": {
    "collapsed": false
   },
   "outputs": [
    {
     "data": {
      "text/plain": [
       "<matplotlib.text.Text at 0x7f26661b9908>"
      ]
     },
     "execution_count": 110,
     "metadata": {},
     "output_type": "execute_result"
    },
    {
     "data": {
      "image/png": "[encoded data removed]",
      "text/plain": [
       "<matplotlib.figure.Figure at 0x7f2666248780>"
      ]
     },
     "metadata": {},
     "output_type": "display_data"
    }
   ],
   "source": [
    "plt.hist([x**2 for x in num_reviews_raw_label_values_Arma_3])\n",
    "plt.title(\"x^2 Arma_3 num_reviews Histogram\")\n",
    "plt.xlabel(\"Value\")\n",
    "plt.ylabel(\"Frequency\")"
   ]
  },
  {
   "cell_type": "markdown",
   "metadata": {},
   "source": [
    "### total_game_hours_bin"
   ]
  },
  {
   "cell_type": "code",
   "execution_count": 21,
   "metadata": {
    "collapsed": false
   },
   "outputs": [
    {
     "data": {
      "text/plain": [
       "Counter({1: 426, 2: 140, 3: 33})"
      ]
     },
     "execution_count": 21,
     "metadata": {},
     "output_type": "execute_result"
    }
   ],
   "source": [
    "dist_info_dict_Arma_3['total_game_hours_bin']['labels_counter']"
   ]
  },
  {
   "cell_type": "markdown",
   "metadata": {},
   "source": [
    "### total_game_hours"
   ]
  },
  {
   "cell_type": "code",
   "execution_count": 22,
   "metadata": {
    "collapsed": false
   },
   "outputs": [
    {
     "data": {
      "text/plain": [
       "Counter({0.0: 1,\n",
       "         0.1: 1,\n",
       "         0.2: 1,\n",
       "         0.3: 2,\n",
       "         0.4: 2,\n",
       "         0.6: 3,\n",
       "         0.7: 1,\n",
       "         0.8: 1,\n",
       "         0.9: 1,\n",
       "         1.1: 1,\n",
       "         1.2: 3,\n",
       "         1.4: 2,\n",
       "         1.5: 2,\n",
       "         1.6: 1,\n",
       "         1.8: 1,\n",
       "         2.0: 1,\n",
       "         2.1: 1,\n",
       "         2.2: 1,\n",
       "         2.4: 1,\n",
       "         2.8: 2,\n",
       "         2.9: 1,\n",
       "         3.1: 2,\n",
       "         3.2: 1,\n",
       "         3.6: 1,\n",
       "         3.7: 1,\n",
       "         3.8: 1,\n",
       "         4.0: 1,\n",
       "         4.1: 1,\n",
       "         4.2: 1,\n",
       "         4.3: 1,\n",
       "         4.4: 1,\n",
       "         4.5: 2,\n",
       "         4.8: 3,\n",
       "         4.9: 1,\n",
       "         5.6: 2,\n",
       "         5.7: 1,\n",
       "         6.0: 2,\n",
       "         6.2: 1,\n",
       "         6.5: 1,\n",
       "         6.7: 1,\n",
       "         7.1: 1,\n",
       "         7.4: 3,\n",
       "         7.7: 1,\n",
       "         7.8: 1,\n",
       "         7.9: 1,\n",
       "         8.1: 1,\n",
       "         8.3: 1,\n",
       "         9.3: 2,\n",
       "         9.7: 2,\n",
       "         9.9: 1,\n",
       "         10.0: 1,\n",
       "         11.2: 1,\n",
       "         11.3: 1,\n",
       "         11.6: 1,\n",
       "         11.8: 1,\n",
       "         12.3: 1,\n",
       "         12.6: 1,\n",
       "         12.7: 1,\n",
       "         13.0: 1,\n",
       "         13.2: 1,\n",
       "         13.3: 1,\n",
       "         14.1: 1,\n",
       "         14.2: 2,\n",
       "         14.5: 1,\n",
       "         15.0: 1,\n",
       "         15.5: 1,\n",
       "         15.8: 3,\n",
       "         16.4: 1,\n",
       "         16.9: 1,\n",
       "         17.1: 2,\n",
       "         17.3: 2,\n",
       "         19.3: 1,\n",
       "         19.4: 1,\n",
       "         19.6: 1,\n",
       "         20.5: 1,\n",
       "         20.7: 1,\n",
       "         21.1: 1,\n",
       "         21.5: 1,\n",
       "         21.8: 1,\n",
       "         22.3: 1,\n",
       "         23.0: 1,\n",
       "         24.2: 1,\n",
       "         24.4: 2,\n",
       "         24.9: 1,\n",
       "         25.3: 2,\n",
       "         25.9: 1,\n",
       "         26.0: 1,\n",
       "         26.5: 1,\n",
       "         27.4: 1,\n",
       "         27.9: 4,\n",
       "         28.1: 1,\n",
       "         28.5: 1,\n",
       "         29.1: 1,\n",
       "         29.3: 2,\n",
       "         30.3: 1,\n",
       "         30.4: 1,\n",
       "         30.7: 1,\n",
       "         31.1: 1,\n",
       "         31.5: 1,\n",
       "         32.4: 1,\n",
       "         32.9: 1,\n",
       "         34.3: 1,\n",
       "         35.0: 1,\n",
       "         35.2: 1,\n",
       "         35.5: 1,\n",
       "         36.7: 1,\n",
       "         37.4: 2,\n",
       "         37.6: 1,\n",
       "         38.8: 2,\n",
       "         39.2: 1,\n",
       "         39.3: 2,\n",
       "         40.5: 1,\n",
       "         40.8: 1,\n",
       "         41.6: 1,\n",
       "         41.9: 1,\n",
       "         42.5: 2,\n",
       "         43.2: 1,\n",
       "         43.7: 1,\n",
       "         47.0: 1,\n",
       "         47.1: 1,\n",
       "         47.5: 1,\n",
       "         48.5: 2,\n",
       "         48.6: 2,\n",
       "         48.7: 1,\n",
       "         48.9: 1,\n",
       "         49.3: 1,\n",
       "         49.5: 1,\n",
       "         50.0: 1,\n",
       "         50.1: 1,\n",
       "         50.3: 2,\n",
       "         50.4: 1,\n",
       "         50.9: 1,\n",
       "         51.1: 1,\n",
       "         52.3: 1,\n",
       "         53.0: 2,\n",
       "         53.5: 1,\n",
       "         53.6: 1,\n",
       "         54.3: 1,\n",
       "         54.4: 1,\n",
       "         56.1: 1,\n",
       "         57.1: 1,\n",
       "         57.5: 2,\n",
       "         58.1: 1,\n",
       "         58.9: 1,\n",
       "         59.0: 1,\n",
       "         60.1: 1,\n",
       "         60.5: 1,\n",
       "         61.3: 1,\n",
       "         62.1: 1,\n",
       "         62.9: 1,\n",
       "         63.2: 2,\n",
       "         65.4: 1,\n",
       "         65.5: 1,\n",
       "         66.3: 1,\n",
       "         66.7: 2,\n",
       "         67.1: 1,\n",
       "         67.3: 1,\n",
       "         67.6: 1,\n",
       "         67.8: 1,\n",
       "         68.4: 1,\n",
       "         68.8: 1,\n",
       "         68.9: 1,\n",
       "         70.2: 1,\n",
       "         70.5: 1,\n",
       "         70.7: 1,\n",
       "         71.1: 1,\n",
       "         71.6: 1,\n",
       "         71.7: 1,\n",
       "         72.0: 1,\n",
       "         72.3: 1,\n",
       "         72.7: 1,\n",
       "         73.9: 1,\n",
       "         74.0: 1,\n",
       "         74.3: 1,\n",
       "         75.2: 1,\n",
       "         75.3: 1,\n",
       "         75.6: 1,\n",
       "         75.7: 1,\n",
       "         76.7: 2,\n",
       "         77.4: 1,\n",
       "         80.6: 1,\n",
       "         82.2: 1,\n",
       "         82.9: 1,\n",
       "         83.0: 2,\n",
       "         83.9: 2,\n",
       "         84.4: 1,\n",
       "         84.9: 1,\n",
       "         85.2: 1,\n",
       "         85.4: 1,\n",
       "         85.5: 2,\n",
       "         85.9: 1,\n",
       "         87.7: 1,\n",
       "         87.8: 1,\n",
       "         88.7: 1,\n",
       "         89.4: 1,\n",
       "         89.9: 1,\n",
       "         90.0: 1,\n",
       "         90.8: 1,\n",
       "         91.4: 1,\n",
       "         92.0: 1,\n",
       "         92.1: 1,\n",
       "         94.4: 1,\n",
       "         95.0: 1,\n",
       "         95.1: 1,\n",
       "         95.5: 1,\n",
       "         96.1: 1,\n",
       "         98.3: 1,\n",
       "         98.9: 1,\n",
       "         101.2: 1,\n",
       "         101.8: 1,\n",
       "         101.9: 1,\n",
       "         103.1: 1,\n",
       "         103.2: 1,\n",
       "         103.6: 1,\n",
       "         103.9: 1,\n",
       "         104.3: 1,\n",
       "         107.5: 1,\n",
       "         108.2: 1,\n",
       "         108.4: 1,\n",
       "         110.9: 1,\n",
       "         115.5: 1,\n",
       "         117.1: 1,\n",
       "         117.4: 1,\n",
       "         117.6: 1,\n",
       "         118.0: 1,\n",
       "         118.4: 1,\n",
       "         119.6: 1,\n",
       "         121.0: 1,\n",
       "         121.8: 1,\n",
       "         123.2: 1,\n",
       "         123.3: 2,\n",
       "         123.8: 1,\n",
       "         124.5: 1,\n",
       "         124.6: 1,\n",
       "         125.3: 1,\n",
       "         126.2: 1,\n",
       "         126.5: 1,\n",
       "         127.7: 1,\n",
       "         128.3: 1,\n",
       "         130.1: 1,\n",
       "         130.6: 1,\n",
       "         132.0: 1,\n",
       "         132.5: 1,\n",
       "         132.8: 1,\n",
       "         134.3: 1,\n",
       "         134.6: 1,\n",
       "         134.8: 2,\n",
       "         136.1: 1,\n",
       "         136.9: 1,\n",
       "         137.1: 1,\n",
       "         137.7: 1,\n",
       "         138.7: 1,\n",
       "         139.7: 1,\n",
       "         141.0: 1,\n",
       "         142.0: 1,\n",
       "         142.6: 1,\n",
       "         143.1: 1,\n",
       "         143.8: 1,\n",
       "         146.5: 1,\n",
       "         147.1: 1,\n",
       "         149.0: 1,\n",
       "         151.3: 1,\n",
       "         151.4: 1,\n",
       "         152.4: 1,\n",
       "         153.0: 1,\n",
       "         153.1: 1,\n",
       "         153.2: 1,\n",
       "         154.6: 1,\n",
       "         156.0: 1,\n",
       "         156.3: 1,\n",
       "         156.4: 1,\n",
       "         157.2: 1,\n",
       "         157.5: 1,\n",
       "         158.5: 1,\n",
       "         160.4: 1,\n",
       "         160.6: 1,\n",
       "         161.7: 1,\n",
       "         161.9: 1,\n",
       "         165.8: 1,\n",
       "         166.7: 1,\n",
       "         167.4: 1,\n",
       "         167.8: 1,\n",
       "         176.8: 1,\n",
       "         178.4: 1,\n",
       "         178.9: 1,\n",
       "         179.6: 1,\n",
       "         180.6: 1,\n",
       "         181.4: 1,\n",
       "         182.5: 1,\n",
       "         185.8: 1,\n",
       "         187.3: 1,\n",
       "         187.4: 1,\n",
       "         189.6: 1,\n",
       "         197.5: 1,\n",
       "         198.6: 1,\n",
       "         199.8: 1,\n",
       "         199.9: 1,\n",
       "         200.4: 2,\n",
       "         200.7: 1,\n",
       "         201.8: 1,\n",
       "         201.9: 1,\n",
       "         206.7: 1,\n",
       "         210.1: 1,\n",
       "         213.0: 1,\n",
       "         215.5: 1,\n",
       "         215.9: 1,\n",
       "         216.8: 1,\n",
       "         217.6: 1,\n",
       "         218.6: 1,\n",
       "         220.1: 1,\n",
       "         223.1: 1,\n",
       "         224.9: 1,\n",
       "         225.7: 1,\n",
       "         226.1: 1,\n",
       "         228.4: 1,\n",
       "         229.6: 1,\n",
       "         233.7: 1,\n",
       "         235.1: 1,\n",
       "         235.3: 1,\n",
       "         235.7: 2,\n",
       "         236.1: 1,\n",
       "         236.8: 1,\n",
       "         238.0: 1,\n",
       "         242.6: 1,\n",
       "         243.0: 1,\n",
       "         244.6: 1,\n",
       "         244.8: 1,\n",
       "         246.4: 1,\n",
       "         246.5: 2,\n",
       "         250.1: 1,\n",
       "         252.9: 1,\n",
       "         253.8: 1,\n",
       "         253.9: 1,\n",
       "         254.1: 1,\n",
       "         255.2: 1,\n",
       "         259.1: 1,\n",
       "         261.2: 2,\n",
       "         271.0: 1,\n",
       "         272.9: 1,\n",
       "         273.9: 1,\n",
       "         277.2: 1,\n",
       "         278.0: 1,\n",
       "         282.5: 1,\n",
       "         283.7: 1,\n",
       "         285.2: 1,\n",
       "         285.9: 1,\n",
       "         286.8: 1,\n",
       "         287.0: 1,\n",
       "         288.0: 2,\n",
       "         291.8: 1,\n",
       "         292.9: 2,\n",
       "         294.2: 1,\n",
       "         295.1: 1,\n",
       "         300.7: 1,\n",
       "         302.4: 1,\n",
       "         303.6: 1,\n",
       "         303.9: 1,\n",
       "         310.2: 1,\n",
       "         312.5: 1,\n",
       "         315.6: 1,\n",
       "         315.9: 1,\n",
       "         316.2: 1,\n",
       "         317.6: 1,\n",
       "         318.2: 1,\n",
       "         319.7: 1,\n",
       "         320.2: 1,\n",
       "         322.7: 1,\n",
       "         328.8: 1,\n",
       "         329.2: 1,\n",
       "         330.7: 1,\n",
       "         330.9: 1,\n",
       "         332.3: 1,\n",
       "         336.3: 1,\n",
       "         339.8: 1,\n",
       "         339.9: 1,\n",
       "         341.7: 1,\n",
       "         349.7: 1,\n",
       "         350.8: 1,\n",
       "         351.0: 1,\n",
       "         357.2: 1,\n",
       "         361.7: 2,\n",
       "         364.4: 1,\n",
       "         367.1: 1,\n",
       "         368.3: 1,\n",
       "         368.4: 1,\n",
       "         371.1: 1,\n",
       "         372.3: 1,\n",
       "         373.5: 1,\n",
       "         375.7: 1,\n",
       "         378.0: 1,\n",
       "         379.1: 1,\n",
       "         379.5: 1,\n",
       "         383.2: 1,\n",
       "         405.8: 1,\n",
       "         405.9: 1,\n",
       "         408.1: 1,\n",
       "         414.7: 1,\n",
       "         420.2: 1,\n",
       "         421.3: 1,\n",
       "         431.1: 1,\n",
       "         434.0: 1,\n",
       "         435.6: 1,\n",
       "         439.3: 1,\n",
       "         441.0: 1,\n",
       "         441.5: 1,\n",
       "         442.6: 1,\n",
       "         444.5: 2,\n",
       "         445.2: 1,\n",
       "         451.9: 1,\n",
       "         454.3: 1,\n",
       "         457.7: 2,\n",
       "         457.8: 1,\n",
       "         459.0: 1,\n",
       "         460.2: 1,\n",
       "         461.4: 1,\n",
       "         462.7: 1,\n",
       "         464.0: 1,\n",
       "         469.5: 1,\n",
       "         469.7: 1,\n",
       "         475.2: 1,\n",
       "         478.2: 1,\n",
       "         479.3: 1,\n",
       "         479.8: 1,\n",
       "         492.1: 1,\n",
       "         497.0: 1,\n",
       "         498.0: 1,\n",
       "         510.2: 1,\n",
       "         514.1: 1,\n",
       "         523.5: 1,\n",
       "         525.0: 1,\n",
       "         527.2: 1,\n",
       "         538.1: 1,\n",
       "         553.0: 1,\n",
       "         569.0: 1,\n",
       "         576.3: 1,\n",
       "         580.0: 1,\n",
       "         580.3: 1,\n",
       "         583.2: 1,\n",
       "         599.0: 1,\n",
       "         617.8: 1,\n",
       "         620.4: 1,\n",
       "         625.6: 1,\n",
       "         626.3: 1,\n",
       "         633.6: 1,\n",
       "         646.5: 1,\n",
       "         648.0: 1,\n",
       "         648.8: 1,\n",
       "         650.1: 1,\n",
       "         652.5: 2,\n",
       "         654.2: 1,\n",
       "         655.6: 1,\n",
       "         657.0: 1,\n",
       "         663.0: 1,\n",
       "         668.5: 1,\n",
       "         672.1: 1,\n",
       "         673.4: 1,\n",
       "         679.0: 1,\n",
       "         683.5: 1,\n",
       "         688.5: 1,\n",
       "         699.0: 1,\n",
       "         702.6: 1,\n",
       "         706.5: 1,\n",
       "         712.0: 1,\n",
       "         716.5: 1,\n",
       "         719.5: 1,\n",
       "         735.2: 1,\n",
       "         736.3: 1,\n",
       "         755.9: 1,\n",
       "         758.9: 1,\n",
       "         770.1: 1,\n",
       "         776.4: 1,\n",
       "         777.1: 1,\n",
       "         780.6: 1,\n",
       "         790.6: 1,\n",
       "         802.0: 2,\n",
       "         802.9: 1,\n",
       "         803.3: 1,\n",
       "         805.0: 1,\n",
       "         805.3: 1,\n",
       "         805.6: 1,\n",
       "         808.2: 1,\n",
       "         821.2: 1,\n",
       "         835.9: 1,\n",
       "         838.6: 1,\n",
       "         844.6: 1,\n",
       "         846.0: 1,\n",
       "         847.1: 1,\n",
       "         870.5: 1,\n",
       "         887.1: 1,\n",
       "         890.9: 1,\n",
       "         891.4: 1,\n",
       "         893.7: 1,\n",
       "         894.5: 1,\n",
       "         902.4: 1,\n",
       "         911.2: 1,\n",
       "         911.9: 1,\n",
       "         919.2: 1,\n",
       "         923.3: 1,\n",
       "         924.5: 1,\n",
       "         930.6: 1,\n",
       "         936.3: 1,\n",
       "         941.7: 1,\n",
       "         947.0: 1,\n",
       "         951.7: 1,\n",
       "         952.3: 1,\n",
       "         965.4: 1,\n",
       "         967.3: 1,\n",
       "         988.3: 1,\n",
       "         1026.5: 1,\n",
       "         1028.3: 1,\n",
       "         1046.0: 1,\n",
       "         1063.7: 1,\n",
       "         1078.4: 1,\n",
       "         1084.3: 1,\n",
       "         1084.5: 1,\n",
       "         1087.0: 1,\n",
       "         1111.9: 1,\n",
       "         1125.5: 1,\n",
       "         1201.4: 1,\n",
       "         1203.2: 1,\n",
       "         1216.3: 1,\n",
       "         1224.2: 1,\n",
       "         1254.7: 1,\n",
       "         1265.1: 1,\n",
       "         1270.7: 1,\n",
       "         1283.2: 1,\n",
       "         1299.8: 1,\n",
       "         1376.2: 1,\n",
       "         1428.7: 1,\n",
       "         1430.5: 1,\n",
       "         1483.9: 1,\n",
       "         1494.4: 1,\n",
       "         1538.2: 1,\n",
       "         1544.8: 1,\n",
       "         1593.8: 1,\n",
       "         1602.9: 1,\n",
       "         1673.0: 1,\n",
       "         1946.6: 1,\n",
       "         1979.9: 1,\n",
       "         2289.2: 1,\n",
       "         2348.8: 1})"
      ]
     },
     "execution_count": 22,
     "metadata": {},
     "output_type": "execute_result"
    }
   ],
   "source": [
    "dist_info_dict_Arma_3['total_game_hours']['labels_counter']"
   ]
  },
  {
   "cell_type": "markdown",
   "metadata": {},
   "source": [
    "### total_game_hours_last_two_weeks"
   ]
  },
  {
   "cell_type": "code",
   "execution_count": 32,
   "metadata": {
    "collapsed": false
   },
   "outputs": [
    {
     "data": {
      "text/plain": [
       "Counter({0.0: 373,\n",
       "         0.1: 12,\n",
       "         0.2: 6,\n",
       "         0.3: 8,\n",
       "         0.4: 4,\n",
       "         0.5: 5,\n",
       "         0.6: 6,\n",
       "         0.7: 6,\n",
       "         0.8: 1,\n",
       "         0.9: 1,\n",
       "         1.0: 1,\n",
       "         1.1: 3,\n",
       "         1.2: 2,\n",
       "         1.3: 2,\n",
       "         1.4: 1,\n",
       "         1.5: 2,\n",
       "         1.6: 3,\n",
       "         1.7: 1,\n",
       "         1.8: 2,\n",
       "         2.0: 2,\n",
       "         2.1: 1,\n",
       "         2.2: 2,\n",
       "         2.3: 1,\n",
       "         2.4: 2,\n",
       "         2.5: 1,\n",
       "         2.8: 1,\n",
       "         2.9: 1,\n",
       "         3.0: 1,\n",
       "         3.1: 1,\n",
       "         3.2: 2,\n",
       "         3.3: 1,\n",
       "         3.6: 2,\n",
       "         3.8: 2,\n",
       "         3.9: 2,\n",
       "         4.0: 1,\n",
       "         4.1: 2,\n",
       "         4.2: 1,\n",
       "         4.4: 2,\n",
       "         4.5: 2,\n",
       "         4.6: 1,\n",
       "         4.8: 1,\n",
       "         5.0: 2,\n",
       "         5.1: 1,\n",
       "         5.2: 2,\n",
       "         5.4: 2,\n",
       "         5.5: 1,\n",
       "         5.6: 1,\n",
       "         5.7: 4,\n",
       "         5.9: 2,\n",
       "         6.3: 1,\n",
       "         7.0: 1,\n",
       "         7.4: 2,\n",
       "         7.7: 2,\n",
       "         7.8: 1,\n",
       "         8.1: 1,\n",
       "         8.2: 2,\n",
       "         8.3: 2,\n",
       "         8.5: 3,\n",
       "         8.7: 1,\n",
       "         8.8: 1,\n",
       "         8.9: 1,\n",
       "         9.1: 1,\n",
       "         9.2: 1,\n",
       "         9.3: 2,\n",
       "         10.4: 2,\n",
       "         10.6: 1,\n",
       "         10.7: 1,\n",
       "         10.8: 1,\n",
       "         11.4: 2,\n",
       "         11.7: 1,\n",
       "         12.0: 1,\n",
       "         12.4: 1,\n",
       "         13.4: 1,\n",
       "         14.0: 1,\n",
       "         14.1: 1,\n",
       "         14.3: 1,\n",
       "         14.7: 1,\n",
       "         15.4: 1,\n",
       "         15.5: 1,\n",
       "         15.6: 1,\n",
       "         15.9: 1,\n",
       "         16.5: 1,\n",
       "         16.8: 1,\n",
       "         17.2: 2,\n",
       "         17.8: 3,\n",
       "         20.2: 1,\n",
       "         20.6: 1,\n",
       "         20.8: 1,\n",
       "         21.2: 1,\n",
       "         21.3: 1,\n",
       "         21.7: 1,\n",
       "         22.0: 1,\n",
       "         22.2: 1,\n",
       "         22.3: 2,\n",
       "         22.4: 1,\n",
       "         22.7: 1,\n",
       "         23.7: 1,\n",
       "         24.5: 1,\n",
       "         24.7: 2,\n",
       "         25.2: 1,\n",
       "         25.3: 1,\n",
       "         25.8: 1,\n",
       "         25.9: 2,\n",
       "         26.5: 1,\n",
       "         26.8: 2,\n",
       "         28.3: 1,\n",
       "         29.8: 1,\n",
       "         30.1: 1,\n",
       "         30.3: 1,\n",
       "         31.9: 1,\n",
       "         32.0: 1,\n",
       "         33.4: 1,\n",
       "         35.5: 1,\n",
       "         36.4: 1,\n",
       "         36.7: 1,\n",
       "         36.9: 1,\n",
       "         37.6: 1,\n",
       "         39.1: 1,\n",
       "         42.8: 1,\n",
       "         43.1: 2,\n",
       "         45.5: 1,\n",
       "         45.6: 1,\n",
       "         46.4: 1,\n",
       "         46.9: 2,\n",
       "         48.9: 1,\n",
       "         54.0: 1,\n",
       "         54.7: 1,\n",
       "         58.7: 1,\n",
       "         60.1: 1,\n",
       "         62.6: 1,\n",
       "         67.1: 2,\n",
       "         78.5: 1,\n",
       "         81.9: 1,\n",
       "         85.9: 1,\n",
       "         89.7: 1,\n",
       "         92.4: 1,\n",
       "         97.5: 1,\n",
       "         101.9: 1,\n",
       "         105.3: 1,\n",
       "         111.7: 1,\n",
       "         135.4: 1,\n",
       "         145.6: 1,\n",
       "         148.2: 1})"
      ]
     },
     "execution_count": 32,
     "metadata": {},
     "output_type": "execute_result"
    }
   ],
   "source": [
    "dist_info_dict_Arma_3['total_game_hours_last_two_weeks']['labels_counter']"
   ]
  },
  {
   "cell_type": "markdown",
   "metadata": {},
   "source": [
    "### num_found_helpful"
   ]
  },
  {
   "cell_type": "code",
   "execution_count": 33,
   "metadata": {
    "collapsed": false
   },
   "outputs": [
    {
     "data": {
      "text/plain": [
       "Counter({0: 301,\n",
       "         1: 90,\n",
       "         2: 102,\n",
       "         3: 39,\n",
       "         4: 18,\n",
       "         5: 13,\n",
       "         6: 9,\n",
       "         7: 3,\n",
       "         8: 2,\n",
       "         9: 1,\n",
       "         10: 1,\n",
       "         11: 1,\n",
       "         12: 1,\n",
       "         15: 1,\n",
       "         16: 2,\n",
       "         18: 2,\n",
       "         21: 1,\n",
       "         23: 1,\n",
       "         24: 1,\n",
       "         49: 1,\n",
       "         55: 1,\n",
       "         75: 1,\n",
       "         227: 1,\n",
       "         286: 1,\n",
       "         297: 1,\n",
       "         460: 1,\n",
       "         1292: 1,\n",
       "         2107: 1,\n",
       "         4622: 1})"
      ]
     },
     "execution_count": 33,
     "metadata": {},
     "output_type": "execute_result"
    }
   ],
   "source": [
    "dist_info_dict_Arma_3['num_found_helpful']['labels_counter']"
   ]
  },
  {
   "cell_type": "markdown",
   "metadata": {},
   "source": [
    "### num_found_unhelpful"
   ]
  },
  {
   "cell_type": "code",
   "execution_count": 40,
   "metadata": {
    "collapsed": false
   },
   "outputs": [
    {
     "data": {
      "text/plain": [
       "Counter({0: 259,\n",
       "         1: 206,\n",
       "         2: 63,\n",
       "         3: 24,\n",
       "         4: 13,\n",
       "         5: 5,\n",
       "         6: 2,\n",
       "         7: 6,\n",
       "         8: 4,\n",
       "         10: 1,\n",
       "         12: 1,\n",
       "         13: 1,\n",
       "         14: 1,\n",
       "         15: 1,\n",
       "         16: 1,\n",
       "         18: 1,\n",
       "         22: 1,\n",
       "         37: 1,\n",
       "         46: 1,\n",
       "         68: 1,\n",
       "         76: 1,\n",
       "         95: 1,\n",
       "         99: 1,\n",
       "         145: 1,\n",
       "         253: 1,\n",
       "         278: 1})"
      ]
     },
     "execution_count": 40,
     "metadata": {},
     "output_type": "execute_result"
    }
   ],
   "source": [
    "dist_info_dict_Arma_3['num_found_unhelpful']['labels_counter']"
   ]
  },
  {
   "cell_type": "markdown",
   "metadata": {},
   "source": [
    "### found_helpful_percentage"
   ]
  },
  {
   "cell_type": "code",
   "execution_count": 23,
   "metadata": {
    "collapsed": false
   },
   "outputs": [
    {
     "data": {
      "text/plain": [
       "Counter({0.0: 106,\n",
       "         0.1111111111111111: 1,\n",
       "         0.2: 1,\n",
       "         0.25: 6,\n",
       "         0.2727272727272727: 1,\n",
       "         0.3333333333333333: 24,\n",
       "         0.375: 1,\n",
       "         0.4: 4,\n",
       "         0.42857142857142855: 3,\n",
       "         0.4444444444444444: 2,\n",
       "         0.45454545454545453: 1,\n",
       "         0.46153846153846156: 2,\n",
       "         0.4666666666666667: 1,\n",
       "         0.48: 1,\n",
       "         0.4883720930232558: 1,\n",
       "         0.5: 79,\n",
       "         0.5161290322580645: 1,\n",
       "         0.5294117647058824: 1,\n",
       "         0.5445544554455446: 1,\n",
       "         0.5555555555555556: 1,\n",
       "         0.5625: 1,\n",
       "         0.5714285714285714: 7,\n",
       "         0.6: 7,\n",
       "         0.6111111111111112: 1,\n",
       "         0.6153846153846154: 1,\n",
       "         0.6216216216216216: 1,\n",
       "         0.625: 3,\n",
       "         0.6363636363636364: 1,\n",
       "         0.6666666666666666: 40,\n",
       "         0.6696428571428571: 1,\n",
       "         0.6923076923076923: 1,\n",
       "         0.7142857142857143: 2,\n",
       "         0.75: 17,\n",
       "         0.7506561679790026: 1,\n",
       "         0.7603305785123967: 1,\n",
       "         0.7692307692307693: 1,\n",
       "         0.7694915254237288: 1,\n",
       "         0.7962466487935657: 1,\n",
       "         0.8: 3,\n",
       "         0.8333333333333334: 5,\n",
       "         0.8571428571428571: 1,\n",
       "         0.875: 1,\n",
       "         0.8834381551362683: 1,\n",
       "         0.8888888888888888: 1,\n",
       "         0.9288281811646297: 1,\n",
       "         0.9481025641025641: 1,\n",
       "         1.0: 64})"
      ]
     },
     "execution_count": 23,
     "metadata": {},
     "output_type": "execute_result"
    }
   ],
   "source": [
    "dist_info_dict_Arma_3['found_helpful_percentage']['labels_counter']"
   ]
  },
  {
   "cell_type": "markdown",
   "metadata": {},
   "source": [
    "### num_voted_helpfulness"
   ]
  },
  {
   "cell_type": "code",
   "execution_count": 36,
   "metadata": {
    "collapsed": false
   },
   "outputs": [
    {
     "data": {
      "text/plain": [
       "Counter({0: 195,\n",
       "         1: 86,\n",
       "         2: 129,\n",
       "         3: 67,\n",
       "         4: 34,\n",
       "         5: 12,\n",
       "         6: 20,\n",
       "         7: 11,\n",
       "         8: 6,\n",
       "         9: 5,\n",
       "         10: 3,\n",
       "         11: 3,\n",
       "         12: 1,\n",
       "         13: 4,\n",
       "         14: 1,\n",
       "         15: 1,\n",
       "         16: 1,\n",
       "         18: 1,\n",
       "         25: 2,\n",
       "         26: 1,\n",
       "         28: 1,\n",
       "         31: 1,\n",
       "         34: 1,\n",
       "         37: 1,\n",
       "         42: 1,\n",
       "         43: 1,\n",
       "         56: 1,\n",
       "         101: 1,\n",
       "         112: 1,\n",
       "         295: 1,\n",
       "         373: 1,\n",
       "         381: 1,\n",
       "         605: 1,\n",
       "         1391: 1,\n",
       "         2385: 1,\n",
       "         4875: 1})"
      ]
     },
     "execution_count": 36,
     "metadata": {},
     "output_type": "execute_result"
    }
   ],
   "source": [
    "dist_info_dict_Arma_3['num_voted_helpfulness']['labels_counter']"
   ]
  },
  {
   "cell_type": "markdown",
   "metadata": {},
   "source": [
    "### num_achievements_attained"
   ]
  },
  {
   "cell_type": "code",
   "execution_count": 34,
   "metadata": {
    "collapsed": false
   },
   "outputs": [
    {
     "data": {
      "text/plain": [
       "Counter({0: 36,\n",
       "         1: 10,\n",
       "         2: 11,\n",
       "         3: 21,\n",
       "         4: 13,\n",
       "         5: 13,\n",
       "         6: 9,\n",
       "         7: 10,\n",
       "         8: 14,\n",
       "         9: 16,\n",
       "         10: 13,\n",
       "         11: 11,\n",
       "         12: 11,\n",
       "         13: 6,\n",
       "         14: 9,\n",
       "         15: 10,\n",
       "         16: 12,\n",
       "         17: 10,\n",
       "         18: 5,\n",
       "         19: 9,\n",
       "         20: 7,\n",
       "         21: 14,\n",
       "         22: 6,\n",
       "         23: 9,\n",
       "         24: 6,\n",
       "         25: 4,\n",
       "         26: 5,\n",
       "         27: 2,\n",
       "         28: 4,\n",
       "         29: 6,\n",
       "         30: 6,\n",
       "         31: 2,\n",
       "         32: 3,\n",
       "         33: 3,\n",
       "         34: 6,\n",
       "         35: 2,\n",
       "         36: 3,\n",
       "         37: 1,\n",
       "         38: 1,\n",
       "         39: 2,\n",
       "         40: 1,\n",
       "         42: 1,\n",
       "         44: 1,\n",
       "         46: 1,\n",
       "         47: 2,\n",
       "         49: 3,\n",
       "         50: 1,\n",
       "         52: 4,\n",
       "         53: 2,\n",
       "         56: 1,\n",
       "         57: 3,\n",
       "         59: 1,\n",
       "         60: 3,\n",
       "         61: 1,\n",
       "         62: 1,\n",
       "         65: 1,\n",
       "         66: 3,\n",
       "         68: 2,\n",
       "         69: 2,\n",
       "         71: 2,\n",
       "         72: 1,\n",
       "         73: 2,\n",
       "         74: 1,\n",
       "         76: 3,\n",
       "         79: 1,\n",
       "         80: 1,\n",
       "         81: 2,\n",
       "         83: 3,\n",
       "         84: 2,\n",
       "         85: 1,\n",
       "         86: 2,\n",
       "         88: 2,\n",
       "         90: 1,\n",
       "         93: 1,\n",
       "         94: 5,\n",
       "         96: 1,\n",
       "         97: 2,\n",
       "         98: 1,\n",
       "         99: 2,\n",
       "         100: 1,\n",
       "         101: 3,\n",
       "         102: 1,\n",
       "         103: 2,\n",
       "         105: 2,\n",
       "         106: 2,\n",
       "         108: 3,\n",
       "         109: 2,\n",
       "         110: 1,\n",
       "         111: 2,\n",
       "         112: 1,\n",
       "         113: 2,\n",
       "         114: 1,\n",
       "         115: 2,\n",
       "         116: 1,\n",
       "         117: 1,\n",
       "         118: 4,\n",
       "         119: 1,\n",
       "         121: 1,\n",
       "         123: 1,\n",
       "         124: 1,\n",
       "         125: 1,\n",
       "         126: 2,\n",
       "         128: 2,\n",
       "         129: 1,\n",
       "         131: 1,\n",
       "         132: 2,\n",
       "         133: 1,\n",
       "         135: 1,\n",
       "         136: 2,\n",
       "         138: 3,\n",
       "         139: 1,\n",
       "         141: 2,\n",
       "         142: 2,\n",
       "         144: 2,\n",
       "         145: 1,\n",
       "         146: 2,\n",
       "         147: 1,\n",
       "         148: 2,\n",
       "         149: 2,\n",
       "         150: 2,\n",
       "         156: 2,\n",
       "         160: 1,\n",
       "         167: 11,\n",
       "         184: 1,\n",
       "         203: 1,\n",
       "         220: 1,\n",
       "         301: 1,\n",
       "         357: 1,\n",
       "         472: 1,\n",
       "         513: 1})"
      ]
     },
     "execution_count": 34,
     "metadata": {},
     "output_type": "execute_result"
    }
   ],
   "source": [
    "dist_info_dict_Arma_3['num_achievements_attained']['labels_counter']"
   ]
  },
  {
   "cell_type": "code",
   "execution_count": 132,
   "metadata": {
    "collapsed": true
   },
   "outputs": [],
   "source": [
    "num_achievements_attained_raw_label_values_Arma_3 = list(dist_info_dict_Arma_3['num_achievements_attained']['id_strings_labels_dict'].values())"
   ]
  },
  {
   "cell_type": "code",
   "execution_count": 136,
   "metadata": {
    "collapsed": false
   },
   "outputs": [
    {
     "data": {
      "text/plain": [
       "<matplotlib.text.Text at 0x7f2665a9eb38>"
      ]
     },
     "execution_count": 136,
     "metadata": {},
     "output_type": "execute_result"
    },
    {
     "data": {
      "image/png": "[encoded data removed]",
      "text/plain": [
       "<matplotlib.figure.Figure at 0x7f2665a3c710>"
      ]
     },
     "metadata": {},
     "output_type": "display_data"
    }
   ],
   "source": [
    "plt.hist([np.log(x) for x in num_achievements_attained_raw_label_values_Arma_3 if x != 0])\n",
    "plt.title(\"Log Arma_3 num_achievements_attained Histogram\")\n",
    "plt.xlabel(\"Value\")\n",
    "plt.ylabel(\"Frequency\")"
   ]
  },
  {
   "cell_type": "markdown",
   "metadata": {},
   "source": [
    "### num_achievements_percentage"
   ]
  },
  {
   "cell_type": "code",
   "execution_count": 24,
   "metadata": {
    "collapsed": false
   },
   "outputs": [
    {
     "data": {
      "text/plain": [
       "Counter({0.0: 36,\n",
       "         0.011363636363636364: 1,\n",
       "         0.0125: 1,\n",
       "         0.013333333333333334: 1,\n",
       "         0.017543859649122806: 1,\n",
       "         0.017857142857142856: 1,\n",
       "         0.02: 1,\n",
       "         0.022727272727272728: 1,\n",
       "         0.023166023166023165: 1,\n",
       "         0.025: 1,\n",
       "         0.02531645569620253: 1,\n",
       "         0.02666666666666667: 2,\n",
       "         0.02702702702702703: 1,\n",
       "         0.02857142857142857: 1,\n",
       "         0.03260869565217391: 1,\n",
       "         0.03508771929824561: 2,\n",
       "         0.035398230088495575: 1,\n",
       "         0.03614457831325301: 1,\n",
       "         0.037037037037037035: 1,\n",
       "         0.03773584905660377: 1,\n",
       "         0.04: 1,\n",
       "         0.04081632653061224: 1,\n",
       "         0.0444015444015444: 1,\n",
       "         0.04504504504504504: 1,\n",
       "         0.05: 1,\n",
       "         0.05263157894736842: 12,\n",
       "         0.058823529411764705: 1,\n",
       "         0.060240963855421686: 3,\n",
       "         0.0625: 1,\n",
       "         0.06306306306306306: 1,\n",
       "         0.06563706563706563: 1,\n",
       "         0.06620209059233449: 1,\n",
       "         0.06666666666666667: 1,\n",
       "         0.07017543859649122: 3,\n",
       "         0.07228915662650602: 1,\n",
       "         0.07507507507507508: 1,\n",
       "         0.07954545454545454: 1,\n",
       "         0.08: 1,\n",
       "         0.08333333333333333: 1,\n",
       "         0.08710801393728224: 1,\n",
       "         0.0875: 1,\n",
       "         0.08771929824561403: 5,\n",
       "         0.09090909090909091: 1,\n",
       "         0.09302325581395349: 1,\n",
       "         0.09375: 1,\n",
       "         0.09523809523809523: 1,\n",
       "         0.1: 2,\n",
       "         0.10144927536231885: 1,\n",
       "         0.10231660231660232: 1,\n",
       "         0.10344827586206896: 1,\n",
       "         0.10452961672473868: 1,\n",
       "         0.10526315789473684: 3,\n",
       "         0.1084070796460177: 1,\n",
       "         0.10843373493975904: 1,\n",
       "         0.109375: 1,\n",
       "         0.11061946902654868: 1,\n",
       "         0.1111111111111111: 1,\n",
       "         0.11846689895470383: 1,\n",
       "         0.12280701754385964: 1,\n",
       "         0.125: 1,\n",
       "         0.13157894736842105: 1,\n",
       "         0.13274336283185842: 1,\n",
       "         0.13333333333333333: 2,\n",
       "         0.1346153846153846: 1,\n",
       "         0.13636363636363635: 1,\n",
       "         0.1377245508982036: 1,\n",
       "         0.1388888888888889: 1,\n",
       "         0.14035087719298245: 7,\n",
       "         0.15: 1,\n",
       "         0.15333333333333332: 1,\n",
       "         0.15555555555555556: 1,\n",
       "         0.15568862275449102: 1,\n",
       "         0.15714285714285714: 1,\n",
       "         0.15789473684210525: 4,\n",
       "         0.16: 2,\n",
       "         0.1625: 1,\n",
       "         0.16666666666666666: 3,\n",
       "         0.17142857142857143: 1,\n",
       "         0.17543859649122806: 8,\n",
       "         0.17920353982300885: 1,\n",
       "         0.17964071856287425: 1,\n",
       "         0.18018018018018017: 1,\n",
       "         0.18181818181818182: 1,\n",
       "         0.18571428571428572: 1,\n",
       "         0.18584070796460178: 1,\n",
       "         0.18666666666666668: 1,\n",
       "         0.19047619047619047: 1,\n",
       "         0.19161676646706588: 1,\n",
       "         0.1927710843373494: 2,\n",
       "         0.19298245614035087: 7,\n",
       "         0.19305019305019305: 1,\n",
       "         0.19444444444444445: 1,\n",
       "         0.19811320754716982: 1,\n",
       "         0.2: 4,\n",
       "         0.20689655172413793: 2,\n",
       "         0.21052631578947367: 5,\n",
       "         0.21333333333333335: 1,\n",
       "         0.2155688622754491: 2,\n",
       "         0.2159090909090909: 1,\n",
       "         0.21666666666666667: 1,\n",
       "         0.22: 2,\n",
       "         0.22142857142857142: 1,\n",
       "         0.22807017543859648: 3,\n",
       "         0.22972972972972974: 1,\n",
       "         0.23076923076923078: 2,\n",
       "         0.2357142857142857: 1,\n",
       "         0.23728813559322035: 1,\n",
       "         0.23863636363636365: 1,\n",
       "         0.24: 1,\n",
       "         0.2413793103448276: 1,\n",
       "         0.24561403508771928: 4,\n",
       "         0.25: 5,\n",
       "         0.25333333333333335: 1,\n",
       "         0.2571428571428571: 2,\n",
       "         0.25925925925925924: 1,\n",
       "         0.26: 1,\n",
       "         0.2631578947368421: 1,\n",
       "         0.26666666666666666: 3,\n",
       "         0.2692307692307692: 1,\n",
       "         0.2714285714285714: 1,\n",
       "         0.2727272727272727: 2,\n",
       "         0.2754491017964072: 1,\n",
       "         0.27586206896551724: 2,\n",
       "         0.2807017543859649: 2,\n",
       "         0.2822822822822823: 1,\n",
       "         0.2833333333333333: 3,\n",
       "         0.2857142857142857: 1,\n",
       "         0.2875: 1,\n",
       "         0.2934131736526946: 2,\n",
       "         0.2982456140350877: 6,\n",
       "         0.3: 3,\n",
       "         0.30434782608695654: 1,\n",
       "         0.3103448275862069: 2,\n",
       "         0.31137724550898205: 1,\n",
       "         0.3157894736842105: 2,\n",
       "         0.31666666666666665: 3,\n",
       "         0.3181818181818182: 1,\n",
       "         0.32: 1,\n",
       "         0.32653061224489793: 1,\n",
       "         0.3285024154589372: 1,\n",
       "         0.32954545454545453: 1,\n",
       "         0.3333333333333333: 4,\n",
       "         0.3373493975903614: 1,\n",
       "         0.3413173652694611: 1,\n",
       "         0.3425925925925926: 1,\n",
       "         0.3466666666666667: 1,\n",
       "         0.35: 2,\n",
       "         0.3508771929824561: 4,\n",
       "         0.3552123552123552: 1,\n",
       "         0.3559322033898305: 1,\n",
       "         0.3614457831325301: 1,\n",
       "         0.3625: 1,\n",
       "         0.36363636363636365: 1,\n",
       "         0.3652694610778443: 1,\n",
       "         0.36666666666666664: 1,\n",
       "         0.3684210526315789: 1,\n",
       "         0.36923076923076925: 1,\n",
       "         0.37254901960784315: 1,\n",
       "         0.375: 1,\n",
       "         0.3793103448275862: 1,\n",
       "         0.38095238095238093: 1,\n",
       "         0.38333333333333336: 1,\n",
       "         0.38596491228070173: 1,\n",
       "         0.38666666666666666: 1,\n",
       "         0.38922155688622756: 1,\n",
       "         0.3918918918918919: 1,\n",
       "         0.39520958083832336: 3,\n",
       "         0.39759036144578314: 1,\n",
       "         0.4: 3,\n",
       "         0.40350877192982454: 2,\n",
       "         0.40718562874251496: 1,\n",
       "         0.41317365269461076: 2,\n",
       "         0.41333333333333333: 1,\n",
       "         0.41379310344827586: 2,\n",
       "         0.4166666666666667: 1,\n",
       "         0.42: 2,\n",
       "         0.42168674698795183: 1,\n",
       "         0.4251497005988024: 1,\n",
       "         0.42857142857142855: 2,\n",
       "         0.4311377245508982: 1,\n",
       "         0.4318181818181818: 1,\n",
       "         0.43478260869565216: 1,\n",
       "         0.437125748502994: 2,\n",
       "         0.4431137724550898: 1,\n",
       "         0.4482758620689655: 1,\n",
       "         0.45: 1,\n",
       "         0.4533333333333333: 1,\n",
       "         0.4550898203592814: 1,\n",
       "         0.45614035087719296: 1,\n",
       "         0.4666666666666667: 1,\n",
       "         0.46987951807228917: 1,\n",
       "         0.47305389221556887: 1,\n",
       "         0.47619047619047616: 1,\n",
       "         0.4804804804804805: 1,\n",
       "         0.4827586206896552: 1,\n",
       "         0.48502994011976047: 1,\n",
       "         0.4897959183673469: 1,\n",
       "         0.49700598802395207: 3,\n",
       "         0.5: 6,\n",
       "         0.5029940119760479: 1,\n",
       "         0.5089820359281437: 1,\n",
       "         0.5149700598802395: 2,\n",
       "         0.5172413793103449: 2,\n",
       "         0.5238095238095238: 1,\n",
       "         0.5269461077844312: 2,\n",
       "         0.5384615384615384: 1,\n",
       "         0.5389221556886228: 1,\n",
       "         0.543859649122807: 1,\n",
       "         0.5490196078431373: 1,\n",
       "         0.5531914893617021: 1,\n",
       "         0.5555555555555556: 1,\n",
       "         0.5568862275449101: 1,\n",
       "         0.5576923076923077: 1,\n",
       "         0.5595238095238095: 1,\n",
       "         0.562874251497006: 3,\n",
       "         0.5748502994011976: 1,\n",
       "         0.5808383233532934: 2,\n",
       "         0.581081081081081: 1,\n",
       "         0.5833333333333334: 1,\n",
       "         0.5862068965517241: 1,\n",
       "         0.5866666666666667: 1,\n",
       "         0.5868263473053892: 1,\n",
       "         0.5909090909090909: 1,\n",
       "         0.592814371257485: 2,\n",
       "         0.5932203389830508: 1,\n",
       "         0.5964912280701754: 1,\n",
       "         0.6047904191616766: 3,\n",
       "         0.6107784431137725: 1,\n",
       "         0.6167664670658682: 2,\n",
       "         0.6190476190476191: 1,\n",
       "         0.6287425149700598: 2,\n",
       "         0.631578947368421: 1,\n",
       "         0.6347305389221557: 2,\n",
       "         0.6388888888888888: 1,\n",
       "         0.64: 1,\n",
       "         0.6467065868263473: 2,\n",
       "         0.6526946107784432: 2,\n",
       "         0.6571428571428571: 1,\n",
       "         0.6586826347305389: 1,\n",
       "         0.6606606606606606: 1,\n",
       "         0.6646706586826348: 2,\n",
       "         0.6666666666666666: 1,\n",
       "         0.6706586826347305: 1,\n",
       "         0.6766467065868264: 2,\n",
       "         0.6818181818181818: 1,\n",
       "         0.6826347305389222: 1,\n",
       "         0.688622754491018: 2,\n",
       "         0.6891891891891891: 1,\n",
       "         0.6946107784431138: 1,\n",
       "         0.7005988023952096: 1,\n",
       "         0.7058823529411765: 1,\n",
       "         0.7065868263473054: 4,\n",
       "         0.7121212121212122: 1,\n",
       "         0.7125: 1,\n",
       "         0.723404255319149: 1,\n",
       "         0.7241379310344828: 2,\n",
       "         0.7245508982035929: 1,\n",
       "         0.7272727272727273: 1,\n",
       "         0.7365269461077845: 1,\n",
       "         0.7425149700598802: 1,\n",
       "         0.7485029940119761: 1,\n",
       "         0.75: 1,\n",
       "         0.7544910179640718: 2,\n",
       "         0.7586206896551724: 2,\n",
       "         0.76: 1,\n",
       "         0.7664670658682635: 2,\n",
       "         0.7681159420289855: 1,\n",
       "         0.7724550898203593: 1,\n",
       "         0.7727272727272727: 1,\n",
       "         0.7833333333333333: 1,\n",
       "         0.7844311377245509: 1,\n",
       "         0.7904191616766467: 2,\n",
       "         0.7964071856287425: 1,\n",
       "         0.8: 1,\n",
       "         0.8068181818181818: 1,\n",
       "         0.8083832335329342: 1,\n",
       "         0.8143712574850299: 1,\n",
       "         0.8181818181818182: 2,\n",
       "         0.8263473053892215: 3,\n",
       "         0.8323353293413174: 1,\n",
       "         0.844311377245509: 2,\n",
       "         0.8502994011976048: 2,\n",
       "         0.8620689655172413: 1,\n",
       "         0.8622754491017964: 2,\n",
       "         0.8636363636363636: 1,\n",
       "         0.8682634730538922: 1,\n",
       "         0.874251497005988: 2,\n",
       "         0.8802395209580839: 1,\n",
       "         0.8862275449101796: 2,\n",
       "         0.8888888888888888: 1,\n",
       "         0.8922155688622755: 2,\n",
       "         0.8982035928143712: 2,\n",
       "         0.9111969111969112: 1,\n",
       "         0.9341317365269461: 2,\n",
       "         0.9833333333333333: 1,\n",
       "         0.9903474903474904: 1,\n",
       "         1.0: 18})"
      ]
     },
     "execution_count": 24,
     "metadata": {},
     "output_type": "execute_result"
    }
   ],
   "source": [
    "dist_info_dict_Arma_3['num_achievements_percentage']['labels_counter']"
   ]
  },
  {
   "cell_type": "code",
   "execution_count": 125,
   "metadata": {
    "collapsed": true
   },
   "outputs": [],
   "source": [
    "num_achievements_percentage_raw_label_values_Arma_3 = list(dist_info_dict_Arma_3['num_achievements_percentage']['id_strings_labels_dict'].values())"
   ]
  },
  {
   "cell_type": "code",
   "execution_count": 134,
   "metadata": {
    "collapsed": false
   },
   "outputs": [
    {
     "data": {
      "text/plain": [
       "<matplotlib.text.Text at 0x7f266603bef0>"
      ]
     },
     "execution_count": 134,
     "metadata": {},
     "output_type": "execute_result"
    },
    {
     "data": {
      "image/png": "[encoded data removed]",
      "text/plain": [
       "<matplotlib.figure.Figure at 0x7f2665af7f98>"
      ]
     },
     "metadata": {},
     "output_type": "display_data"
    }
   ],
   "source": [
    "plt.hist(num_achievements_percentage_raw_label_values_Arma_3)\n",
    "plt.title(\"Arma_3 num_achievements_percentage Histogram\")\n",
    "plt.xlabel(\"Value\")\n",
    "plt.ylabel(\"Frequency\")"
   ]
  },
  {
   "cell_type": "markdown",
   "metadata": {},
   "source": [
    "### num_achievements_possible"
   ]
  },
  {
   "cell_type": "code",
   "execution_count": 38,
   "metadata": {
    "collapsed": false
   },
   "outputs": [
    {
     "data": {
      "text/plain": [
       "Counter({2: 14,\n",
       "         3: 1,\n",
       "         5: 2,\n",
       "         10: 4,\n",
       "         11: 4,\n",
       "         12: 1,\n",
       "         13: 1,\n",
       "         14: 1,\n",
       "         16: 1,\n",
       "         17: 1,\n",
       "         18: 1,\n",
       "         19: 1,\n",
       "         20: 1,\n",
       "         21: 9,\n",
       "         22: 2,\n",
       "         23: 1,\n",
       "         27: 1,\n",
       "         29: 20,\n",
       "         30: 1,\n",
       "         32: 1,\n",
       "         33: 4,\n",
       "         34: 1,\n",
       "         35: 4,\n",
       "         36: 13,\n",
       "         38: 2,\n",
       "         40: 1,\n",
       "         41: 2,\n",
       "         43: 1,\n",
       "         45: 3,\n",
       "         47: 3,\n",
       "         49: 5,\n",
       "         50: 10,\n",
       "         51: 4,\n",
       "         52: 4,\n",
       "         54: 1,\n",
       "         56: 1,\n",
       "         57: 87,\n",
       "         58: 2,\n",
       "         59: 3,\n",
       "         60: 31,\n",
       "         64: 1,\n",
       "         65: 5,\n",
       "         69: 2,\n",
       "         70: 3,\n",
       "         75: 14,\n",
       "         76: 1,\n",
       "         79: 1,\n",
       "         80: 14,\n",
       "         83: 13,\n",
       "         84: 2,\n",
       "         88: 16,\n",
       "         92: 1,\n",
       "         106: 2,\n",
       "         108: 1,\n",
       "         110: 1,\n",
       "         113: 2,\n",
       "         132: 2,\n",
       "         140: 5,\n",
       "         145: 3,\n",
       "         150: 5,\n",
       "         167: 124,\n",
       "         259: 1,\n",
       "         285: 1,\n",
       "         287: 4,\n",
       "         333: 8,\n",
       "         414: 3,\n",
       "         452: 4,\n",
       "         518: 11})"
      ]
     },
     "execution_count": 38,
     "metadata": {},
     "output_type": "execute_result"
    }
   ],
   "source": [
    "dist_info_dict_Arma_3['num_achievements_possible']['labels_counter']"
   ]
  },
  {
   "cell_type": "markdown",
   "metadata": {},
   "source": [
    "### num_guides"
   ]
  },
  {
   "cell_type": "code",
   "execution_count": 25,
   "metadata": {
    "collapsed": false
   },
   "outputs": [
    {
     "data": {
      "text/plain": [
       "Counter({0: 560, 1: 27, 2: 3, 3: 2, 4: 3, 5: 2, 7: 1, 17: 1})"
      ]
     },
     "execution_count": 25,
     "metadata": {},
     "output_type": "execute_result"
    }
   ],
   "source": [
    "dist_info_dict_Arma_3['num_guides']['labels_counter']"
   ]
  },
  {
   "cell_type": "markdown",
   "metadata": {},
   "source": [
    "### num_workshop_items"
   ]
  },
  {
   "cell_type": "code",
   "execution_count": 26,
   "metadata": {
    "collapsed": false
   },
   "outputs": [
    {
     "data": {
      "text/plain": [
       "Counter({0: 494,\n",
       "         1: 44,\n",
       "         2: 15,\n",
       "         3: 13,\n",
       "         4: 6,\n",
       "         5: 4,\n",
       "         6: 7,\n",
       "         7: 3,\n",
       "         8: 1,\n",
       "         11: 3,\n",
       "         12: 3,\n",
       "         13: 1,\n",
       "         19: 2,\n",
       "         23: 1,\n",
       "         25: 1,\n",
       "         30: 1})"
      ]
     },
     "execution_count": 26,
     "metadata": {},
     "output_type": "execute_result"
    }
   ],
   "source": [
    "dist_info_dict_Arma_3['num_workshop_items']['labels_counter']"
   ]
  },
  {
   "cell_type": "markdown",
   "metadata": {},
   "source": [
    "### num_friends"
   ]
  },
  {
   "cell_type": "code",
   "execution_count": 123,
   "metadata": {
    "collapsed": false
   },
   "outputs": [],
   "source": [
    "num_friends_raw_label_values_Arma_3 = list(dist_info_dict_Arma_3['num_friends']['id_strings_labels_dict'].values())"
   ]
  },
  {
   "cell_type": "code",
   "execution_count": 126,
   "metadata": {
    "collapsed": false
   },
   "outputs": [
    {
     "data": {
      "text/plain": [
       "<matplotlib.text.Text at 0x7f2665e354a8>"
      ]
     },
     "execution_count": 126,
     "metadata": {},
     "output_type": "execute_result"
    },
    {
     "data": {
      "image/png": "[encoded data removed]",
      "text/plain": [
       "<matplotlib.figure.Figure at 0x7f2665fbad68>"
      ]
     },
     "metadata": {},
     "output_type": "display_data"
    }
   ],
   "source": [
    "plt.hist([np.log(x) for x in num_friends_raw_label_values_Arma_3 if x != 0])\n",
    "plt.title(\"Log Arma_3 num_friends Histogram\")\n",
    "plt.xlabel(\"Value\")\n",
    "plt.ylabel(\"Frequency\")"
   ]
  },
  {
   "cell_type": "markdown",
   "metadata": {},
   "source": [
    "### num_games_owned"
   ]
  },
  {
   "cell_type": "code",
   "execution_count": 28,
   "metadata": {
    "collapsed": false
   },
   "outputs": [
    {
     "data": {
      "text/plain": [
       "Counter({0: 88,\n",
       "         1: 1,\n",
       "         2: 3,\n",
       "         3: 1,\n",
       "         5: 1,\n",
       "         6: 1,\n",
       "         7: 2,\n",
       "         8: 2,\n",
       "         9: 4,\n",
       "         10: 3,\n",
       "         11: 6,\n",
       "         12: 5,\n",
       "         13: 3,\n",
       "         14: 6,\n",
       "         15: 6,\n",
       "         16: 3,\n",
       "         17: 4,\n",
       "         18: 10,\n",
       "         19: 2,\n",
       "         20: 4,\n",
       "         21: 4,\n",
       "         22: 6,\n",
       "         23: 8,\n",
       "         24: 5,\n",
       "         25: 2,\n",
       "         26: 5,\n",
       "         27: 4,\n",
       "         28: 3,\n",
       "         29: 6,\n",
       "         31: 6,\n",
       "         32: 3,\n",
       "         33: 5,\n",
       "         34: 4,\n",
       "         35: 1,\n",
       "         36: 1,\n",
       "         37: 5,\n",
       "         38: 8,\n",
       "         39: 3,\n",
       "         40: 5,\n",
       "         41: 4,\n",
       "         42: 5,\n",
       "         43: 2,\n",
       "         44: 7,\n",
       "         46: 5,\n",
       "         47: 8,\n",
       "         48: 2,\n",
       "         49: 8,\n",
       "         50: 4,\n",
       "         51: 5,\n",
       "         52: 5,\n",
       "         53: 3,\n",
       "         55: 3,\n",
       "         56: 3,\n",
       "         57: 4,\n",
       "         58: 4,\n",
       "         59: 6,\n",
       "         60: 6,\n",
       "         61: 2,\n",
       "         62: 4,\n",
       "         63: 1,\n",
       "         65: 4,\n",
       "         66: 2,\n",
       "         67: 2,\n",
       "         68: 5,\n",
       "         69: 5,\n",
       "         70: 1,\n",
       "         71: 5,\n",
       "         72: 1,\n",
       "         73: 6,\n",
       "         74: 2,\n",
       "         75: 2,\n",
       "         76: 4,\n",
       "         77: 3,\n",
       "         78: 1,\n",
       "         79: 1,\n",
       "         80: 3,\n",
       "         81: 1,\n",
       "         82: 2,\n",
       "         83: 2,\n",
       "         84: 3,\n",
       "         85: 3,\n",
       "         86: 3,\n",
       "         87: 4,\n",
       "         88: 1,\n",
       "         89: 7,\n",
       "         90: 1,\n",
       "         91: 3,\n",
       "         92: 2,\n",
       "         93: 4,\n",
       "         94: 1,\n",
       "         95: 1,\n",
       "         96: 3,\n",
       "         97: 1,\n",
       "         98: 3,\n",
       "         99: 1,\n",
       "         100: 3,\n",
       "         102: 2,\n",
       "         103: 2,\n",
       "         104: 1,\n",
       "         105: 1,\n",
       "         106: 1,\n",
       "         107: 2,\n",
       "         108: 1,\n",
       "         110: 3,\n",
       "         111: 1,\n",
       "         112: 1,\n",
       "         113: 1,\n",
       "         115: 2,\n",
       "         116: 3,\n",
       "         117: 1,\n",
       "         119: 1,\n",
       "         120: 5,\n",
       "         122: 2,\n",
       "         123: 5,\n",
       "         124: 1,\n",
       "         125: 1,\n",
       "         127: 2,\n",
       "         128: 5,\n",
       "         129: 2,\n",
       "         131: 1,\n",
       "         132: 1,\n",
       "         133: 1,\n",
       "         134: 3,\n",
       "         135: 2,\n",
       "         136: 4,\n",
       "         138: 2,\n",
       "         139: 1,\n",
       "         140: 1,\n",
       "         141: 2,\n",
       "         145: 3,\n",
       "         150: 2,\n",
       "         151: 1,\n",
       "         154: 1,\n",
       "         155: 1,\n",
       "         156: 1,\n",
       "         159: 1,\n",
       "         160: 1,\n",
       "         161: 1,\n",
       "         162: 1,\n",
       "         163: 1,\n",
       "         165: 2,\n",
       "         167: 2,\n",
       "         168: 2,\n",
       "         170: 1,\n",
       "         171: 3,\n",
       "         172: 2,\n",
       "         173: 2,\n",
       "         174: 2,\n",
       "         176: 2,\n",
       "         178: 1,\n",
       "         180: 2,\n",
       "         181: 2,\n",
       "         182: 4,\n",
       "         185: 1,\n",
       "         186: 2,\n",
       "         189: 2,\n",
       "         190: 1,\n",
       "         191: 1,\n",
       "         192: 1,\n",
       "         194: 1,\n",
       "         195: 1,\n",
       "         196: 1,\n",
       "         202: 1,\n",
       "         207: 1,\n",
       "         208: 1,\n",
       "         212: 1,\n",
       "         213: 1,\n",
       "         214: 1,\n",
       "         217: 1,\n",
       "         220: 2,\n",
       "         224: 1,\n",
       "         227: 1,\n",
       "         228: 1,\n",
       "         230: 1,\n",
       "         235: 1,\n",
       "         236: 1,\n",
       "         244: 1,\n",
       "         245: 1,\n",
       "         247: 1,\n",
       "         250: 1,\n",
       "         251: 1,\n",
       "         254: 1,\n",
       "         257: 3,\n",
       "         263: 1,\n",
       "         269: 1,\n",
       "         276: 1,\n",
       "         277: 1,\n",
       "         280: 2,\n",
       "         292: 1,\n",
       "         293: 1,\n",
       "         305: 1,\n",
       "         307: 1,\n",
       "         314: 1,\n",
       "         315: 1,\n",
       "         326: 1,\n",
       "         337: 1,\n",
       "         348: 1,\n",
       "         382: 1,\n",
       "         389: 1,\n",
       "         396: 1,\n",
       "         397: 1,\n",
       "         401: 1,\n",
       "         416: 1,\n",
       "         432: 1,\n",
       "         436: 1,\n",
       "         440: 2,\n",
       "         448: 1,\n",
       "         523: 1,\n",
       "         537: 1,\n",
       "         545: 1,\n",
       "         672: 1,\n",
       "         703: 1,\n",
       "         853: 1,\n",
       "         1044: 1})"
      ]
     },
     "execution_count": 28,
     "metadata": {},
     "output_type": "execute_result"
    }
   ],
   "source": [
    "dist_info_dict_Arma_3['num_games_owned']['labels_counter']"
   ]
  },
  {
   "cell_type": "markdown",
   "metadata": {},
   "source": [
    "### num_comments"
   ]
  },
  {
   "cell_type": "code",
   "execution_count": 29,
   "metadata": {
    "collapsed": false
   },
   "outputs": [
    {
     "data": {
      "text/plain": [
       "Counter({0: 532,\n",
       "         1: 37,\n",
       "         2: 12,\n",
       "         3: 2,\n",
       "         4: 4,\n",
       "         6: 2,\n",
       "         7: 4,\n",
       "         9: 1,\n",
       "         10: 1,\n",
       "         16: 1,\n",
       "         27: 1,\n",
       "         70: 2})"
      ]
     },
     "execution_count": 29,
     "metadata": {},
     "output_type": "execute_result"
    }
   ],
   "source": [
    "dist_info_dict_Arma_3['num_comments']['labels_counter']"
   ]
  },
  {
   "cell_type": "markdown",
   "metadata": {},
   "source": [
    "### friend_player_level"
   ]
  },
  {
   "cell_type": "code",
   "execution_count": 30,
   "metadata": {
    "collapsed": false
   },
   "outputs": [
    {
     "data": {
      "text/plain": [
       "Counter({0: 1,\n",
       "         1: 5,\n",
       "         2: 10,\n",
       "         3: 27,\n",
       "         4: 18,\n",
       "         5: 27,\n",
       "         6: 34,\n",
       "         7: 28,\n",
       "         8: 20,\n",
       "         9: 19,\n",
       "         10: 20,\n",
       "         11: 42,\n",
       "         12: 23,\n",
       "         13: 38,\n",
       "         14: 15,\n",
       "         15: 15,\n",
       "         16: 20,\n",
       "         17: 10,\n",
       "         18: 10,\n",
       "         19: 13,\n",
       "         20: 13,\n",
       "         21: 14,\n",
       "         22: 11,\n",
       "         23: 4,\n",
       "         24: 8,\n",
       "         25: 4,\n",
       "         26: 11,\n",
       "         27: 3,\n",
       "         28: 2,\n",
       "         29: 2,\n",
       "         30: 8,\n",
       "         31: 5,\n",
       "         32: 8,\n",
       "         33: 5,\n",
       "         35: 1,\n",
       "         36: 1,\n",
       "         38: 1,\n",
       "         39: 3,\n",
       "         40: 2,\n",
       "         41: 2,\n",
       "         44: 1,\n",
       "         47: 1,\n",
       "         49: 1,\n",
       "         57: 1,\n",
       "         64: 2,\n",
       "         66: 1,\n",
       "         73: 1,\n",
       "         81: 1})"
      ]
     },
     "execution_count": 30,
     "metadata": {},
     "output_type": "execute_result"
    }
   ],
   "source": [
    "dist_info_dict_Arma_3['friend_player_level']['labels_counter']"
   ]
  },
  {
   "cell_type": "markdown",
   "metadata": {},
   "source": [
    "### num_groups"
   ]
  },
  {
   "cell_type": "code",
   "execution_count": 31,
   "metadata": {
    "collapsed": false
   },
   "outputs": [
    {
     "data": {
      "text/plain": [
       "Counter({1: 41,\n",
       "         2: 35,\n",
       "         3: 43,\n",
       "         4: 43,\n",
       "         5: 39,\n",
       "         6: 15,\n",
       "         7: 18,\n",
       "         8: 21,\n",
       "         9: 19,\n",
       "         10: 19,\n",
       "         11: 15,\n",
       "         12: 12,\n",
       "         13: 12,\n",
       "         14: 12,\n",
       "         15: 11,\n",
       "         16: 8,\n",
       "         17: 7,\n",
       "         18: 11,\n",
       "         19: 7,\n",
       "         20: 3,\n",
       "         21: 5,\n",
       "         22: 2,\n",
       "         23: 6,\n",
       "         24: 4,\n",
       "         25: 5,\n",
       "         26: 3,\n",
       "         27: 4,\n",
       "         28: 5,\n",
       "         30: 3,\n",
       "         31: 1,\n",
       "         32: 1,\n",
       "         33: 7,\n",
       "         34: 2,\n",
       "         35: 2,\n",
       "         37: 1,\n",
       "         39: 3,\n",
       "         41: 1,\n",
       "         44: 1,\n",
       "         45: 2,\n",
       "         46: 2,\n",
       "         47: 1,\n",
       "         48: 1,\n",
       "         49: 1,\n",
       "         50: 1,\n",
       "         51: 1,\n",
       "         55: 1,\n",
       "         56: 1,\n",
       "         57: 2,\n",
       "         59: 1,\n",
       "         64: 2,\n",
       "         65: 1,\n",
       "         66: 2,\n",
       "         71: 1,\n",
       "         73: 1,\n",
       "         76: 1,\n",
       "         84: 1,\n",
       "         93: 1,\n",
       "         95: 1,\n",
       "         110: 1,\n",
       "         115: 1,\n",
       "         116: 1,\n",
       "         123: 1,\n",
       "         126: 1,\n",
       "         128: 1,\n",
       "         131: 1,\n",
       "         136: 1,\n",
       "         139: 1,\n",
       "         179: 1,\n",
       "         193: 1,\n",
       "         225: 1,\n",
       "         273: 1,\n",
       "         326: 1})"
      ]
     },
     "execution_count": 31,
     "metadata": {},
     "output_type": "execute_result"
    }
   ],
   "source": [
    "dist_info_dict_Arma_3['num_groups']['labels_counter']"
   ]
  },
  {
   "cell_type": "markdown",
   "metadata": {},
   "source": [
    "### num_screenshots"
   ]
  },
  {
   "cell_type": "code",
   "execution_count": 35,
   "metadata": {
    "collapsed": false
   },
   "outputs": [
    {
     "data": {
      "text/plain": [
       "Counter({0: 138,\n",
       "         1: 22,\n",
       "         2: 16,\n",
       "         3: 15,\n",
       "         4: 14,\n",
       "         5: 9,\n",
       "         6: 9,\n",
       "         7: 8,\n",
       "         8: 5,\n",
       "         9: 10,\n",
       "         10: 5,\n",
       "         11: 5,\n",
       "         12: 6,\n",
       "         13: 4,\n",
       "         14: 7,\n",
       "         15: 2,\n",
       "         16: 2,\n",
       "         17: 4,\n",
       "         18: 3,\n",
       "         19: 1,\n",
       "         20: 4,\n",
       "         21: 2,\n",
       "         22: 3,\n",
       "         23: 1,\n",
       "         24: 8,\n",
       "         25: 2,\n",
       "         26: 3,\n",
       "         27: 5,\n",
       "         28: 7,\n",
       "         29: 1,\n",
       "         30: 2,\n",
       "         31: 4,\n",
       "         32: 2,\n",
       "         33: 6,\n",
       "         34: 6,\n",
       "         35: 5,\n",
       "         36: 4,\n",
       "         37: 3,\n",
       "         38: 1,\n",
       "         39: 2,\n",
       "         40: 2,\n",
       "         41: 4,\n",
       "         42: 2,\n",
       "         43: 2,\n",
       "         44: 2,\n",
       "         45: 2,\n",
       "         46: 3,\n",
       "         48: 2,\n",
       "         49: 3,\n",
       "         51: 3,\n",
       "         52: 1,\n",
       "         53: 1,\n",
       "         54: 1,\n",
       "         55: 3,\n",
       "         56: 3,\n",
       "         57: 1,\n",
       "         58: 3,\n",
       "         59: 1,\n",
       "         60: 1,\n",
       "         61: 4,\n",
       "         62: 1,\n",
       "         63: 2,\n",
       "         64: 2,\n",
       "         65: 6,\n",
       "         66: 1,\n",
       "         67: 1,\n",
       "         68: 2,\n",
       "         69: 1,\n",
       "         70: 1,\n",
       "         72: 2,\n",
       "         73: 1,\n",
       "         74: 2,\n",
       "         75: 1,\n",
       "         78: 1,\n",
       "         79: 3,\n",
       "         82: 1,\n",
       "         83: 3,\n",
       "         86: 1,\n",
       "         87: 1,\n",
       "         88: 2,\n",
       "         90: 1,\n",
       "         92: 1,\n",
       "         93: 1,\n",
       "         94: 3,\n",
       "         95: 3,\n",
       "         96: 1,\n",
       "         97: 1,\n",
       "         98: 1,\n",
       "         99: 1,\n",
       "         101: 1,\n",
       "         102: 3,\n",
       "         103: 3,\n",
       "         104: 1,\n",
       "         105: 1,\n",
       "         106: 2,\n",
       "         107: 3,\n",
       "         108: 1,\n",
       "         110: 2,\n",
       "         112: 1,\n",
       "         113: 2,\n",
       "         114: 1,\n",
       "         115: 1,\n",
       "         117: 1,\n",
       "         118: 1,\n",
       "         119: 1,\n",
       "         120: 1,\n",
       "         121: 3,\n",
       "         123: 2,\n",
       "         124: 1,\n",
       "         127: 1,\n",
       "         128: 1,\n",
       "         131: 1,\n",
       "         136: 2,\n",
       "         138: 1,\n",
       "         139: 1,\n",
       "         141: 2,\n",
       "         143: 1,\n",
       "         144: 1,\n",
       "         146: 1,\n",
       "         148: 1,\n",
       "         149: 1,\n",
       "         151: 2,\n",
       "         158: 2,\n",
       "         167: 2,\n",
       "         169: 1,\n",
       "         170: 2,\n",
       "         172: 1,\n",
       "         174: 1,\n",
       "         179: 1,\n",
       "         180: 1,\n",
       "         184: 1,\n",
       "         187: 1,\n",
       "         188: 1,\n",
       "         190: 1,\n",
       "         191: 2,\n",
       "         193: 1,\n",
       "         198: 1,\n",
       "         204: 1,\n",
       "         205: 1,\n",
       "         210: 2,\n",
       "         215: 1,\n",
       "         218: 1,\n",
       "         219: 1,\n",
       "         221: 1,\n",
       "         233: 1,\n",
       "         244: 1,\n",
       "         256: 1,\n",
       "         257: 1,\n",
       "         259: 1,\n",
       "         265: 1,\n",
       "         266: 1,\n",
       "         267: 1,\n",
       "         275: 1,\n",
       "         287: 1,\n",
       "         292: 1,\n",
       "         294: 1,\n",
       "         298: 1,\n",
       "         301: 1,\n",
       "         309: 1,\n",
       "         322: 1,\n",
       "         328: 1,\n",
       "         337: 1,\n",
       "         339: 3,\n",
       "         348: 1,\n",
       "         349: 1,\n",
       "         364: 1,\n",
       "         368: 1,\n",
       "         370: 1,\n",
       "         373: 1,\n",
       "         376: 1,\n",
       "         377: 1,\n",
       "         379: 1,\n",
       "         385: 1,\n",
       "         389: 1,\n",
       "         391: 1,\n",
       "         401: 1,\n",
       "         403: 1,\n",
       "         410: 1,\n",
       "         415: 1,\n",
       "         430: 1,\n",
       "         439: 1,\n",
       "         449: 1,\n",
       "         480: 1,\n",
       "         491: 1,\n",
       "         549: 1,\n",
       "         564: 1,\n",
       "         569: 1,\n",
       "         574: 1,\n",
       "         584: 1,\n",
       "         659: 1,\n",
       "         661: 1,\n",
       "         666: 1,\n",
       "         685: 1,\n",
       "         689: 1,\n",
       "         710: 1,\n",
       "         773: 1,\n",
       "         800: 1,\n",
       "         802: 1,\n",
       "         823: 1,\n",
       "         866: 1,\n",
       "         897: 2,\n",
       "         905: 1,\n",
       "         911: 1,\n",
       "         924: 1,\n",
       "         954: 1,\n",
       "         981: 1,\n",
       "         982: 1,\n",
       "         1048: 1,\n",
       "         1049: 1,\n",
       "         1143: 1,\n",
       "         1224: 1,\n",
       "         1487: 1,\n",
       "         2151: 1,\n",
       "         2679: 1,\n",
       "         2720: 1,\n",
       "         2974: 1,\n",
       "         8178: 1})"
      ]
     },
     "execution_count": 35,
     "metadata": {},
     "output_type": "execute_result"
    }
   ],
   "source": [
    "dist_info_dict_Arma_3['num_screenshots']['labels_counter']"
   ]
  },
  {
   "cell_type": "markdown",
   "metadata": {},
   "source": [
    "### num_badges"
   ]
  },
  {
   "cell_type": "code",
   "execution_count": 37,
   "metadata": {
    "collapsed": false
   },
   "outputs": [
    {
     "data": {
      "text/plain": [
       "Counter({1: 3,\n",
       "         2: 20,\n",
       "         3: 54,\n",
       "         4: 52,\n",
       "         5: 51,\n",
       "         6: 35,\n",
       "         7: 23,\n",
       "         8: 21,\n",
       "         9: 27,\n",
       "         10: 24,\n",
       "         11: 18,\n",
       "         12: 14,\n",
       "         13: 10,\n",
       "         14: 13,\n",
       "         15: 15,\n",
       "         16: 13,\n",
       "         17: 13,\n",
       "         18: 7,\n",
       "         19: 11,\n",
       "         20: 9,\n",
       "         21: 7,\n",
       "         22: 8,\n",
       "         23: 5,\n",
       "         24: 6,\n",
       "         25: 6,\n",
       "         26: 1,\n",
       "         27: 5,\n",
       "         28: 2,\n",
       "         29: 1,\n",
       "         30: 3,\n",
       "         32: 2,\n",
       "         33: 4,\n",
       "         34: 1,\n",
       "         35: 3,\n",
       "         36: 4,\n",
       "         37: 4,\n",
       "         38: 1,\n",
       "         43: 1,\n",
       "         44: 1,\n",
       "         45: 1,\n",
       "         48: 1,\n",
       "         50: 2,\n",
       "         51: 2,\n",
       "         57: 1,\n",
       "         58: 1,\n",
       "         59: 1,\n",
       "         74: 1,\n",
       "         88: 1,\n",
       "         92: 1,\n",
       "         95: 1,\n",
       "         109: 1})"
      ]
     },
     "execution_count": 37,
     "metadata": {},
     "output_type": "execute_result"
    }
   ],
   "source": [
    "dist_info_dict_Arma_3['num_badges']['labels_counter']"
   ]
  },
  {
   "cell_type": "markdown",
   "metadata": {},
   "source": [
    "### num_found_funny"
   ]
  },
  {
   "cell_type": "code",
   "execution_count": 39,
   "metadata": {
    "collapsed": false
   },
   "outputs": [
    {
     "data": {
      "text/plain": [
       "Counter({0: 351, 1: 247, 2: 1})"
      ]
     },
     "execution_count": 39,
     "metadata": {},
     "output_type": "execute_result"
    }
   ],
   "source": [
    "dist_info_dict_Arma_3['num_found_funny']['labels_counter']"
   ]
  },
  {
   "cell_type": "markdown",
   "metadata": {},
   "source": [
    "## Examining the Distribution of Labels for Team Fortress 2"
   ]
  },
  {
   "cell_type": "code",
   "execution_count": 41,
   "metadata": {
    "collapsed": false
   },
   "outputs": [
    {
     "name": "stdout",
     "output_type": "stream",
     "text": [
      "Label = num_reviews\n",
      "\n",
      "Counter({1: 154, 2: 74, 3: 56, 0: 44, 4: 41, 5: 31, 6: 25, 7: 23, 8: 18, 10: 16, 9: 14, 13: 11, 11: 10, 12: 9, 15: 8, 18: 7, 14: 6, 21: 6, 17: 4, 19: 4, 20: 4, 25: 4, 16: 2, 22: 2, 27: 2, 32: 2, 34: 2, 23: 1, 30: 1, 31: 1, 33: 1, 36: 1, 37: 1, 40: 1, 48: 1, 49: 1, 53: 1, 56: 1, 57: 1, 59: 1, 134: 1, 67: 1, 68: 1, 535: 1, 80: 1, 82: 1, 86: 1})\n",
      "\n",
      "Label = total_game_hours_bin\n",
      "\n",
      "Counter({1: 340, 2: 222, 3: 37})\n",
      "\n",
      "Label = found_helpful_percentage\n",
      "\n",
      "Counter({1.0: 432, 0.8: 34, 0.75: 12, 0.7142857142857143: 9, 0.8571428571428571: 9, 0.8333333333333334: 6, 0.8888888888888888: 5, 0.875: 4, 0.8831875147789076: 4, 0.6666666666666666: 3, 0.6153846153846154: 3, 0.8808750270738575: 3, 0.7: 3, 0.7777777777777778: 3, 0.6363636363636364: 3, 0.8181818181818182: 3, 0.6923076923076923: 2, 0.8666666666666667: 2, 0.8776446596992098: 2, 0.5483870967741935: 2, 0.9090909090909091: 2, 0.7692307692307693: 2, 0.9224137931034483: 1, 0.8292682926829268: 1, 0.927710843373494: 1, 0.7317073170731707: 1, 0.9466019417475728: 1, 0.8674772036474164: 1, 0.8635097493036211: 1, 0.8980392156862745: 1, 0.8964879852125693: 1, 0.7956349206349206: 1, 0.8518518518518519: 1, 0.9333333333333333: 1, 0.5882352941176471: 1, 0.78125: 1, 0.8461538461538461: 1, 0.9261168384879725: 1, 0.6129032258064516: 1, 0.8421052631578947: 1, 0.9285714285714286: 1, 0.7307692307692307: 1, 0.5569620253164557: 1, 0.7964601769911505: 1, 0.8928571428571429: 1, 0.9344660194174758: 1, 0.7894736842105263: 1, 0.9242081447963801: 1, 0.9242256637168141: 1, 0.9166666666666666: 1, 0.7063492063492064: 1, 0.6073619631901841: 1, 0.9230769230769231: 1, 0.9245742092457421: 1, 0.7619047619047619: 1, 0.5301204819277109: 1, 0.9629629629629629: 1, 0.7586206896551724: 1, 0.953125: 1, 0.9308510638297872: 1, 0.8095238095238095: 1, 0.9288833437305053: 1, 0.8955512572533849: 1, 0.925: 1, 0.7727272727272727: 1, 0.7941176470588235: 1, 0.7647058823529411: 1, 0.6: 1, 0.8675914249684742: 1, 0.5899772209567198: 1, 0.7924528301886793: 1, 0.8686440677966102: 1, 0.8974358974358975: 1})\n",
      "\n",
      "Label = num_achievements_percentage\n",
      "\n",
      "Counter({0.0: 22, 1.0: 19, 0.27586206896551724: 7, 0.4482758620689655: 7, 0.3793103448275862: 5, 0.4: 4, 0.25: 4, 0.6138996138996139: 4, 0.888030888030888: 4, 0.5: 3, 0.4491017964071856: 3, 0.20689655172413793: 3, 0.3333333333333333: 3, 0.1: 3, 0.6216216216216216: 3, 0.14285714285714285: 3, 0.6818181818181818: 3, 0.6666666666666666: 3, 0.8502994011976048: 3, 0.6351351351351351: 3, 0.3103448275862069: 3, 0.5029940119760479: 3, 0.6227544910179641: 3, 0.8143712574850299: 3, 0.9903474903474904: 3, 0.2: 3, 0.5965250965250966: 3, 0.7664670658682635: 3, 0.6718146718146718: 3, 0.7586206896551724: 3, 0.6254826254826255: 3, 0.5386100386100386: 2, 0.5791505791505791: 2, 0.7544910179640718: 2, 0.014285714285714285: 2, 0.06818181818181818: 2, 0.06896551724137931: 2, 0.5328185328185329: 2, 0.6563706563706564: 2, 0.41379310344827586: 2, 0.09090909090909091: 2, 0.3522727272727273: 2, 0.15: 2, 0.9768339768339769: 2, 0.7586872586872587: 2, 0.027777777777777776: 2, 0.23529411764705882: 2, 0.7724550898203593: 2, 0.056818181818181816: 2, 0.5057915057915058: 2, 0.6190476190476191: 2, 0.13793103448275862: 2, 0.14772727272727273: 2, 0.861003861003861: 2, 0.7162162162162162: 2, 0.5482625482625483: 2, 0.6467181467181468: 2, 0.61003861003861: 2, 0.6698841698841699: 2, 0.6706586826347305: 2, 0.7683397683397684: 2, 0.4980694980694981: 2, 0.7316602316602316: 2, 0.6776061776061776: 2, 0.6235521235521235: 2, 0.9517374517374517: 2, 0.5149700598802395: 2, 0.8383233532934131: 2, 0.696911196911197: 2, 0.5454545454545454: 2, 0.6737451737451737: 2, 0.42045454545454547: 2, 0.3448275862068966: 2, 0.6911196911196911: 2, 0.9461077844311377: 2, 0.8552123552123552: 2, 0.5681818181818182: 2, 0.6646706586826348: 2, 0.7065637065637066: 2, 0.12903225806451613: 2, 0.7258687258687259: 2, 0.9041916167664671: 2, 0.4492753623188406: 2, 0.8922155688622755: 2, 0.7200772200772201: 2, 0.49700598802395207: 2, 0.35: 2, 0.6363636363636364: 2, 0.5508982035928144: 2, 0.4498069498069498: 2, 0.08982035928143713: 2, 0.7335907335907336: 2, 0.667953667953668: 2, 0.9922779922779923: 1, 0.625: 1, 0.583011583011583: 1, 0.47876447876447875: 1, 0.4575289575289575: 1, 0.05405405405405406: 1, 0.68: 1, 0.1111111111111111: 1, 0.7567567567567568: 1, 0.747104247104247: 1, 0.8982035928143712: 1, 0.8484848484848485: 1, 0.48502994011976047: 1, 0.5568181818181818: 1, 0.6123595505617978: 1, 0.2222222222222222: 1, 0.66: 1, 0.8204633204633205: 1, 0.8378378378378378: 1, 0.75: 1, 0.7857142857142857: 1, 0.15151515151515152: 1, 0.7432432432432432: 1, 0.8862275449101796: 1, 0.5347490347490348: 1, 0.045454545454545456: 1, 0.3764705882352941: 1, 0.23166023166023167: 1, 0.47104247104247104: 1, 0.047619047619047616: 1, 0.4307692307692308: 1, 0.5212355212355212: 1, 0.28185328185328185: 1, 0.874251497005988: 1, 0.5714285714285714: 1, 0.30303030303030304: 1, 0.4420849420849421: 1, 0.9594594594594594: 1, 0.5674157303370787: 1, 0.019230769230769232: 1, 0.25301204819277107: 1, 0.3204633204633205: 1, 0.9054054054054054: 1, 0.694980694980695: 1, 0.6525096525096525: 1, 0.12912912912912913: 1, 0.425: 1, 0.693050193050193: 1, 0.7799227799227799: 1, 0.7972972972972973: 1, 0.5808383233532934: 1, 0.09523809523809523: 1, 0.2153846153846154: 1, 0.2934131736526946: 1, 0.2753623188405797: 1, 0.592814371257485: 1, 0.7084942084942085: 1, 0.8: 1, 0.6544401544401545: 1, 0.46846846846846846: 1, 0.6287425149700598: 1, 0.02857142857142857: 1, 0.6177606177606177: 1, 0.2191780821917808: 1, 0.6061776061776062: 1, 0.05333333333333334: 1, 0.19760479041916168: 1, 0.5637065637065637: 1, 0.581081081081081: 1, 0.4714285714285714: 1, 0.7752808988764045: 1, 0.45454545454545453: 1, 0.4922779922779923: 1, 0.8957528957528957: 1, 0.5333333333333333: 1, 0.7365269461077845: 1, 0.24903474903474904: 1, 0.31666666666666665: 1, 0.3230769230769231: 1, 0.6023166023166023: 1, 0.9580838323353293: 1, 0.011976047904191617: 1, 0.1254355400696864: 1, 0.10526315789473684: 1, 0.7551020408163265: 1, 0.38922155688622756: 1, 0.7760617760617761: 1, 0.24: 1, 0.5329341317365269: 1, 0.14714714714714713: 1, 0.7664092664092664: 1, 0.17964071856287425: 1, 0.2571428571428571: 1, 0.391304347826087: 1, 0.7604790419161677: 1, 0.637065637065637: 1, 0.3375: 1, 0.6312741312741312: 1, 0.7895752895752896: 1, 0.07407407407407407: 1, 0.8985507246376812: 1, 0.48841698841698844: 1, 0.47904191616766467: 1, 0.4375: 1, 0.19884169884169883: 1, 0.49101796407185627: 1, 0.8682634730538922: 1, 0.3064516129032258: 1, 0.862934362934363: 1, 0.8803088803088803: 1, 0.9266409266409267: 1, 0.12548262548262548: 1, 0.05: 1, 0.553030303030303: 1, 0.30612244897959184: 1, 0.1125: 1, 0.8295454545454546: 1, 0.7548262548262549: 1, 0.28957528957528955: 1, 0.7666666666666667: 1, 0.6571428571428571: 1, 0.5926640926640927: 1, 0.7007722007722008: 1, 0.7181467181467182: 1, 0.18562874251497005: 1, 0.6814671814671814: 1, 0.2840909090909091: 1, 0.6610169491525424: 1, 0.9161676646706587: 1, 0.39520958083832336: 1, 0.9857142857142858: 1, 0.7359550561797753: 1, 0.3: 1, 0.7123552123552124: 1, 0.6906906906906907: 1, 0.5733590733590733: 1, 0.058823529411764705: 1, 0.8135593220338984: 1, 0.2994011976047904: 1, 0.6811594202898551: 1, 0.6347305389221557: 1, 0.3838383838383838: 1, 0.7104247104247104: 1, 0.9428571428571428: 1, 0.8323353293413174: 1, 0.833976833976834: 1, 0.4772727272727273: 1, 0.9431818181818182: 1, 0.8397683397683398: 1, 0.06299212598425197: 1, 0.7305389221556886: 1, 0.5444015444015444: 1, 0.5405405405405406: 1, 0.2857142857142857: 1, 0.06666666666666667: 1, 0.749034749034749: 1, 0.22826086956521738: 1, 0.7272727272727273: 1, 0.718562874251497: 1, 0.31137724550898205: 1, 0.7451737451737451: 1, 0.1497005988023952: 1, 0.4473684210526316: 1, 0.805019305019305: 1, 0.6196911196911197: 1, 0.6296296296296297: 1, 0.5694980694980695: 1, 0.9942084942084942: 1, 0.3888888888888889: 1, 0.3474903474903475: 1, 0.8262548262548263: 1, 0.075: 1, 0.03333333333333333: 1, 0.35384615384615387: 1, 0.7837837837837838: 1, 0.5072463768115942: 1, 0.2303370786516854: 1, 0.6583011583011583: 1, 0.16428571428571428: 1, 0.0015384615384615385: 1, 0.6136363636363636: 1, 0.3181818181818182: 1, 0.24285714285714285: 1, 0.4691119691119691: 1, 0.6946107784431138: 1, 0.06060606060606061: 1, 0.40718562874251496: 1, 0.5089820359281437: 1, 0.6742424242424242: 1, 0.7105263157894737: 1, 0.584942084942085: 1, 0.37037037037037035: 1, 0.5730337078651685: 1, 0.46525096525096526: 1, 0.8933333333333333: 1, 0.444015444015444: 1, 0.02127659574468085: 1, 0.42277992277992277: 1, 0.9015444015444015: 1, 0.12244897959183673: 1, 0.25149700598802394: 1, 0.4942084942084942: 1, 0.9221556886227545: 1, 0.5833333333333334: 1, 0.0851063829787234: 1, 0.36666666666666664: 1, 0.6: 1, 0.333976833976834: 1, 0.48: 1, 0.5113636363636364: 1, 0.4189189189189189: 1, 0.5285714285714286: 1, 0.8494208494208494: 1, 0.22413793103448276: 1, 0.34534534534534533: 1, 0.7953667953667953: 1, 0.672566371681416: 1, 0.1044776119402985: 1, 0.08571428571428572: 1, 0.5476190476190477: 1, 0.5525525525525525: 1, 0.8636363636363636: 1, 0.041811846689895474: 1, 0.5984555984555985: 1, 0.6111111111111112: 1, 0.44144144144144143: 1, 0.0375: 1, 0.5752895752895753: 1, 0.8863636363636364: 1, 0.5579150579150579: 1, 0.22857142857142856: 1, 0.5909090909090909: 1, 0.1875: 1, 0.5154440154440154: 1, 0.5862068965517241: 1, 0.806949806949807: 1, 0.7722007722007722: 1, 0.7644787644787645: 1, 0.6477272727272727: 1, 0.722007722007722: 1, 0.8108108108108109: 1, 0.3253012048192771: 1, 0.5231660231660231: 1, 0.18518518518518517: 1, 0.014492753623188406: 1, 0.7741312741312741: 1, 0.4117647058823529: 1, 0.2915057915057915: 1, 0.47305389221556887: 1, 0.9285714285714286: 1, 0.7374517374517374: 1, 0.8203592814371258: 1, 0.16167664670658682: 1, 0.16666666666666666: 1, 0.8802395209580839: 1, 0.4383561643835616: 1, 0.8011583011583011: 1, 0.10666666666666667: 1, 0.5555555555555556: 1, 0.9806949806949807: 1, 0.25748502994011974: 1, 0.16304347826086957: 1, 0.9247104247104247: 1, 0.44: 1, 0.6766467065868264: 1, 0.4166666666666667: 1, 0.28: 1, 0.5066666666666667: 1, 0.013793103448275862: 1, 0.5748502994011976: 1, 0.7777777777777778: 1, 0.32432432432432434: 1, 0.8416988416988417: 1, 0.750965250965251: 1, 0.9208494208494209: 1, 0.05019305019305019: 1, 0.5961538461538461: 1, 0.7876447876447876: 1, 0.8857142857142857: 1, 0.7485029940119761: 1, 0.07894736842105263: 1, 0.7415730337078652: 1, 0.6988416988416989: 1, 0.562874251497006: 1, 0.7934362934362934: 1, 0.29333333333333333: 1})\n",
      "\n",
      "Label = num_guides\n",
      "\n",
      "Counter({0: 539, 1: 42, 2: 8, 3: 5, 5: 3, 4: 2})\n",
      "\n",
      "Label = num_workshop_items\n",
      "\n",
      "Counter({0: 483, 1: 44, 3: 18, 2: 16, 4: 10, 5: 9, 8: 3, 9: 3, 6: 2, 7: 2, 13: 2, 14: 2, 10: 1, 11: 1, 12: 1, 18: 1, 21: 1})\n",
      "\n",
      "Label = num_friends\n",
      "\n",
      "Counter({26: 10, 23: 9, 47: 9, 18: 8, 19: 8, 31: 8, 39: 8, 6: 7, 25: 7, 37: 7, 41: 7, 46: 7, 51: 7, 66: 7, 38: 6, 60: 6, 65: 6, 108: 6, 8: 5, 9: 5, 11: 5, 15: 5, 16: 5, 30: 5, 33: 5, 36: 5, 49: 5, 50: 5, 53: 5, 62: 5, 67: 5, 70: 5, 83: 5, 97: 5, 146: 5, 10: 4, 20: 4, 21: 4, 24: 4, 27: 4, 29: 4, 34: 4, 42: 4, 43: 4, 54: 4, 59: 4, 63: 4, 78: 4, 111: 4, 125: 4, 129: 4, 5: 3, 12: 3, 14: 3, 32: 3, 35: 3, 40: 3, 45: 3, 57: 3, 64: 3, 74: 3, 79: 3, 80: 3, 88: 3, 89: 3, 93: 3, 107: 3, 112: 3, 131: 3, 133: 3, 139: 3, 148: 3, 157: 3, 158: 3, 171: 3, 182: 3, 191: 3, 212: 3, 239: 3, 1: 2, 4: 2, 7: 2, 13: 2, 17: 2, 22: 2, 28: 2, 48: 2, 52: 2, 58: 2, 61: 2, 69: 2, 77: 2, 81: 2, 82: 2, 85: 2, 86: 2, 87: 2, 91: 2, 92: 2, 100: 2, 101: 2, 104: 2, 106: 2, 109: 2, 113: 2, 115: 2, 116: 2, 120: 2, 123: 2, 126: 2, 130: 2, 135: 2, 140: 2, 141: 2, 143: 2, 149: 2, 169: 2, 172: 2, 187: 2, 194: 2, 219: 2, 244: 2, 265: 2, 268: 2, 269: 2, 281: 2, 312: 2, 364: 2, 2: 1, 3: 1, 44: 1, 55: 1, 72: 1, 75: 1, 84: 1, 90: 1, 96: 1, 99: 1, 102: 1, 103: 1, 114: 1, 117: 1, 118: 1, 121: 1, 122: 1, 124: 1, 127: 1, 128: 1, 132: 1, 136: 1, 138: 1, 144: 1, 147: 1, 150: 1, 537: 1, 154: 1, 155: 1, 156: 1, 162: 1, 164: 1, 165: 1, 166: 1, 168: 1, 170: 1, 176: 1, 177: 1, 178: 1, 179: 1, 184: 1, 196: 1, 197: 1, 200: 1, 205: 1, 210: 1, 547: 1, 220: 1, 221: 1, 224: 1, 225: 1, 227: 1, 231: 1, 232: 1, 235: 1, 237: 1, 238: 1, 241: 1, 243: 1, 248: 1, 251: 1, 253: 1, 255: 1, 259: 1, 264: 1, 270: 1, 274: 1, 275: 1, 279: 1, 287: 1, 288: 1, 301: 1, 307: 1, 321: 1, 322: 1, 324: 1, 339: 1, 342: 1, 361: 1, 363: 1, 373: 1, 380: 1, 385: 1, 906: 1, 151: 1, 396: 1, 411: 1, 1093: 1, 419: 1, 446: 1, 473: 1})\n",
      "\n",
      "Label = num_games_owned\n",
      "\n",
      "Counter({0: 46, 6: 16, 5: 13, 8: 13, 4: 12, 13: 12, 25: 12, 31: 11, 19: 10, 20: 10, 7: 9, 10: 9, 14: 9, 15: 9, 21: 8, 3: 7, 12: 7, 23: 7, 29: 7, 75: 7, 9: 6, 11: 6, 16: 6, 24: 6, 28: 6, 33: 6, 45: 6, 48: 6, 70: 6, 84: 6, 2: 5, 22: 5, 26: 5, 34: 5, 49: 5, 52: 5, 54: 5, 55: 5, 86: 5, 121: 5, 147: 5, 30: 4, 37: 4, 46: 4, 57: 4, 60: 4, 62: 4, 65: 4, 66: 4, 74: 4, 85: 4, 93: 4, 17: 3, 18: 3, 27: 3, 35: 3, 38: 3, 39: 3, 40: 3, 47: 3, 51: 3, 56: 3, 73: 3, 79: 3, 82: 3, 95: 3, 105: 3, 108: 3, 129: 3, 107: 3, 159: 3, 161: 3, 211: 3, 36: 2, 42: 2, 50: 2, 53: 2, 59: 2, 64: 2, 67: 2, 68: 2, 71: 2, 72: 2, 89: 2, 92: 2, 94: 2, 103: 2, 109: 2, 111: 2, 116: 2, 119: 2, 120: 2, 132: 2, 133: 2, 136: 2, 190: 2, 209: 2, 310: 2, 1: 1, 32: 1, 41: 1, 43: 1, 58: 1, 61: 1, 77: 1, 87: 1, 88: 1, 97: 1, 98: 1, 99: 1, 102: 1, 106: 1, 1643: 1, 112: 1, 113: 1, 114: 1, 117: 1, 123: 1, 124: 1, 127: 1, 134: 1, 135: 1, 137: 1, 140: 1, 142: 1, 143: 1, 144: 1, 145: 1, 148: 1, 150: 1, 151: 1, 155: 1, 156: 1, 157: 1, 158: 1, 160: 1, 539: 1, 166: 1, 167: 1, 172: 1, 174: 1, 175: 1, 177: 1, 180: 1, 181: 1, 183: 1, 184: 1, 186: 1, 192: 1, 707: 1, 201: 1, 203: 1, 214: 1, 221: 1, 195: 1, 231: 1, 232: 1, 235: 1, 237: 1, 241: 1, 247: 1, 255: 1, 269: 1, 273: 1, 131: 1, 281: 1, 289: 1, 290: 1, 294: 1, 811: 1, 302: 1, 830: 1, 1856: 1, 328: 1, 337: 1, 338: 1, 339: 1, 341: 1, 361: 1, 391: 1, 1942: 1, 409: 1, 411: 1, 415: 1, 840: 1, 577: 1, 445: 1, 447: 1, 450: 1, 455: 1, 466: 1})\n",
      "\n",
      "Label = num_comments\n",
      "\n",
      "Counter({0: 415, 1: 87, 2: 32, 3: 16, 4: 6, 5: 5, 9: 4, 65: 4, 7: 3, 10: 3, 66: 3, 6: 2, 27: 2, 272: 2, 50: 2, 8: 1, 12: 1, 13: 1, 16: 1, 17: 1, 18: 1, 20: 1, 31: 1, 33: 1, 39: 1, 51: 1, 53: 1, 56: 1})\n",
      "\n",
      "Label = friend_player_level\n",
      "\n",
      "Counter({12: 39, 10: 34, 11: 30, 6: 27, 7: 27, 5: 24, 4: 23, 3: 22, 20: 21, 13: 19, 18: 17, 16: 16, 15: 15, 2: 13, 14: 13, 17: 13, 21: 13, 9: 12, 23: 12, 8: 11, 22: 11, 31: 11, 19: 10, 25: 10, 27: 9, 34: 7, 45: 7, 24: 6, 26: 6, 29: 5, 30: 5, 33: 4, 35: 4, 36: 4, 40: 4, 42: 4, 50: 4, 1: 3, 37: 3, 41: 3, 43: 3, 0: 2, 47: 2, 51: 2, 54: 2, 55: 2, 62: 2, 75: 2, 102: 2, 32: 1, 39: 1, 44: 1, 53: 1, 60: 1, 63: 1, 67: 1, 70: 1, 161: 1, 82: 1, 87: 1, 91: 1, 101: 1, 105: 1, 125: 1})\n",
      "\n",
      "Label = num_groups\n",
      "\n",
      "Counter({1: 24, 8: 22, 9: 18, 10: 18, 2: 17, 11: 17, 16: 16, 15: 15, 4: 14, 12: 14, 14: 14, 19: 14, 3: 13, 7: 12, 17: 12, 5: 10, 13: 10, 21: 10, 22: 10, 24: 10, 6: 9, 23: 9, 33: 9, 18: 8, 30: 7, 25: 6, 28: 6, 35: 6, 37: 6, 52: 6, 63: 6, 26: 5, 34: 5, 54: 5, 66: 5, 27: 4, 29: 4, 32: 4, 39: 4, 43: 4, 50: 4, 51: 4, 62: 4, 65: 4, 69: 4, 20: 3, 31: 3, 36: 3, 42: 3, 46: 3, 47: 3, 53: 3, 56: 3, 91: 3, 92: 3, 38: 2, 40: 2, 41: 2, 44: 2, 45: 2, 48: 2, 55: 2, 58: 2, 60: 2, 64: 2, 67: 2, 82: 2, 87: 2, 147: 2, 49: 1, 57: 1, 315: 1, 61: 1, 324: 1, 70: 1, 71: 1, 268: 1, 76: 1, 77: 1, 78: 1, 99: 1, 85: 1, 88: 1, 89: 1, 90: 1, 97: 1, 310: 1, 100: 1, 103: 1, 104: 1, 362: 1, 363: 1, 111: 1, 112: 1, 115: 1, 117: 1, 125: 1, 128: 1, 131: 1, 132: 1, 136: 1, 140: 1, 143: 1, 150: 1, 68: 1, 666: 1, 411: 1, 158: 1, 159: 1, 162: 1, 163: 1, 165: 1, 178: 1, 179: 1, 286: 1, 73: 1, 196: 1, 201: 1, 205: 1, 219: 1, 221: 1, 756: 1, 245: 1, 250: 1, 254: 1})\n",
      "\n",
      "Label = total_game_hours_last_two_weeks\n",
      "\n",
      "Counter({0.0: 222, 0.1: 11, 0.5: 8, 1.0: 8, 0.3: 8, 0.2: 7, 1.3: 6, 1.2: 5, 0.8: 5, 1.5: 5, 2.0: 4, 10.3: 4, 0.4: 4, 4.5: 4, 5.0: 4, 2.8: 4, 1.8: 3, 24.9: 3, 38.5: 3, 9.9: 3, 18.6: 3, 4.0: 3, 13.1: 3, 9.0: 3, 0.9: 3, 6.3: 3, 0.6: 3, 3.7: 3, 1.6: 3, 16.1: 3, 8.2: 3, 2.1: 2, 6.7: 2, 8.0: 2, 10.8: 2, 16.9: 2, 17.7: 2, 23.1: 2, 25.0: 2, 29.6: 2, 37.9: 2, 42.8: 2, 44.9: 2, 45.9: 2, 8.1: 2, 58.6: 2, 10.1: 2, 93.0: 2, 23.8: 2, 24.3: 2, 2.9: 2, 42.9: 2, 7.6: 2, 23.3: 2, 45.5: 2, 5.4: 2, 3.3: 2, 2.7: 2, 0.7: 2, 17.3: 2, 2.2: 2, 13.0: 2, 9.4: 2, 31.5: 2, 4.2: 2, 49.1: 2, 19.7: 2, 3.0: 2, 16.5: 2, 25.8: 2, 9.2: 2, 4.1: 2, 3.8: 1, 4.8: 1, 5.9: 1, 9.3: 1, 11.9: 1, 12.6: 1, 14.6: 1, 15.8: 1, 18.2: 1, 19.6: 1, 20.0: 1, 21.1: 1, 22.3: 1, 26.0: 1, 27.0: 1, 28.0: 1, 30.2: 1, 32.2: 1, 33.4: 1, 34.6: 1, 35.5: 1, 39.4: 1, 41.4: 1, 7.2: 1, 46.5: 1, 47.0: 1, 48.9: 1, 22.9: 1, 54.8: 1, 56.5: 1, 57.4: 1, 59.1: 1, 60.2: 1, 36.1: 1, 19.4: 1, 65.3: 1, 2.5: 1, 11.0: 1, 12.3: 1, 78.0: 1, 13.9: 1, 11.7: 1, 81.0: 1, 82.8: 1, 13.7: 1, 86.5: 1, 7.1: 1, 89.4: 1, 15.1: 1, 94.3: 1, 3.5: 1, 16.7: 1, 99.1: 1, 100.9: 1, 17.4: 1, 104.9: 1, 2.3: 1, 17.5: 1, 107.1: 1, 23.9: 1, 19.5: 1, 117.0: 1, 20.2: 1, 21.4: 1, 129.0: 1, 130.7: 1, 107.9: 1, 1.4: 1, 22.4: 1, 13.8: 1, 141.3: 1, 143.2: 1, 9.1: 1, 110.7: 1, 150.5: 1, 25.2: 1, 39.0: 1, 22.5: 1, 26.5: 1, 65.8: 1, 27.7: 1, 20.1: 1, 16.6: 1, 28.7: 1, 42.2: 1, 29.8: 1, 10.6: 1, 115.6: 1, 30.1: 1, 23.5: 1, 31.7: 1, 3.9: 1, 32.6: 1, 23.4: 1, 34.2: 1, 42.3: 1, 7.0: 1, 36.8: 1, 37.5: 1, 39.9: 1, 93.5: 1, 25.6: 1, 41.0: 1, 42.4: 1, 4.4: 1, 43.8: 1, 17.2: 1, 44.8: 1, 67.2: 1, 133.4: 1, 48.4: 1, 18.8: 1, 49.7: 1, 44.7: 1, 27.4: 1, 10.5: 1, 49.3: 1, 56.1: 1, 18.7: 1, 55.4: 1, 45.7: 1, 56.2: 1, 1.7: 1, 7.4: 1, 103.9: 1, 58.5: 1, 20.7: 1, 32.7: 1, 25.4: 1, 34.8: 1, 9.5: 1, 2.4: 1, 13.4: 1, 63.3: 1, 64.6: 1, 65.0: 1, 36.6: 1, 6.6: 1, 18.3: 1, 3.4: 1, 7.3: 1, 23.0: 1, 65.4: 1, 48.3: 1, 10.4: 1, 73.1: 1, 13.6: 1, 244.1: 1, 3.2: 1, 32.4: 1, 1.9: 1, 11.4: 1, 37.0: 1, 22.1: 1, 78.6: 1, 2.6: 1, 81.9: 1, 12.4: 1, 28.8: 1, 26.2: 1, 25.9: 1, 11.3: 1, 6.2: 1})\n",
      "\n",
      "Label = num_found_helpful\n",
      "\n",
      "Counter({2: 316, 3: 82, 4: 49, 5: 21, 6: 18, 7: 14, 8: 9, 9: 8, 10: 5, 12: 5, 17: 4, 3735: 4, 13: 3, 15: 3, 16: 3, 4067: 3, 11: 2, 26: 2, 27: 2, 44: 2, 6886: 2, 19: 2, 270: 1, 18: 1, 1427: 1, 20: 1, 401: 1, 24: 1, 25: 1, 410: 1, 30: 1, 1925: 1, 33: 1, 34: 1, 35: 1, 37: 1, 42: 1, 1671: 1, 175: 1, 176: 1, 49: 1, 50: 1, 23: 1, 688: 1, 61: 1, 63: 1, 195: 1, 68: 1, 77: 1, 463: 1, 1617: 1, 14: 1, 89: 1, 229: 1, 1634: 1, 99: 1, 485: 1, 1489: 1, 259: 1, 107: 1, 620: 1, 380: 1})\n",
      "\n",
      "Label = num_achievements_attained\n",
      "\n",
      "Counter({0: 22, 2: 15, 8: 13, 4: 11, 13: 10, 9: 9, 1: 8, 6: 8, 12: 7, 15: 7, 21: 7, 31: 7, 167: 7, 3: 6, 7: 6, 5: 5, 10: 5, 11: 5, 17: 5, 22: 5, 27: 5, 28: 5, 16: 4, 32: 4, 33: 4, 37: 4, 50: 4, 518: 4, 318: 4, 460: 4, 14: 3, 19: 3, 20: 3, 24: 3, 26: 3, 35: 3, 46: 3, 48: 3, 49: 3, 513: 3, 60: 3, 75: 3, 83: 3, 84: 3, 104: 3, 128: 3, 129: 3, 136: 3, 142: 3, 151: 3, 309: 3, 322: 3, 324: 3, 329: 3, 348: 3, 18: 2, 23: 2, 25: 2, 29: 2, 34: 2, 38: 2, 39: 2, 40: 2, 42: 2, 43: 2, 56: 2, 65: 2, 66: 2, 73: 2, 86: 2, 89: 2, 92: 2, 111: 2, 112: 2, 120: 2, 126: 2, 140: 2, 146: 2, 147: 2, 149: 2, 150: 2, 158: 2, 230: 2, 233: 2, 258: 2, 259: 2, 262: 2, 276: 2, 279: 2, 284: 2, 300: 2, 52: 2, 316: 2, 323: 2, 335: 2, 340: 2, 346: 2, 347: 2, 349: 2, 351: 2, 358: 2, 361: 2, 366: 2, 371: 2, 373: 2, 376: 2, 379: 2, 380: 2, 393: 2, 398: 2, 443: 2, 446: 2, 493: 2, 506: 2, 30: 1, 36: 1, 41: 1, 44: 1, 45: 1, 47: 1, 54: 1, 57: 1, 62: 1, 64: 1, 67: 1, 68: 1, 69: 1, 70: 1, 78: 1, 79: 1, 80: 1, 81: 1, 514: 1, 85: 1, 94: 1, 96: 1, 97: 1, 99: 1, 101: 1, 102: 1, 103: 1, 105: 1, 106: 1, 109: 1, 113: 1, 114: 1, 115: 1, 116: 1, 122: 1, 123: 1, 125: 1, 127: 1, 131: 1, 132: 1, 137: 1, 138: 1, 139: 1, 145: 1, 148: 1, 153: 1, 154: 1, 156: 1, 160: 1, 166: 1, 168: 1, 173: 1, 180: 1, 184: 1, 217: 1, 219: 1, 222: 1, 229: 1, 237: 1, 241: 1, 243: 1, 244: 1, 515: 1, 248: 1, 253: 1, 255: 1, 256: 1, 267: 1, 270: 1, 271: 1, 277: 1, 280: 1, 282: 1, 287: 1, 289: 1, 292: 1, 295: 1, 296: 1, 297: 1, 298: 1, 301: 1, 302: 1, 303: 1, 304: 1, 307: 1, 310: 1, 312: 1, 314: 1, 320: 1, 321: 1, 327: 1, 330: 1, 338: 1, 339: 1, 341: 1, 353: 1, 359: 1, 360: 1, 362: 1, 363: 1, 367: 1, 368: 1, 369: 1, 372: 1, 374: 1, 382: 1, 385: 1, 386: 1, 387: 1, 388: 1, 389: 1, 391: 1, 392: 1, 396: 1, 397: 1, 400: 1, 401: 1, 402: 1, 404: 1, 406: 1, 407: 1, 408: 1, 409: 1, 411: 1, 412: 1, 413: 1, 415: 1, 417: 1, 418: 1, 82: 1, 425: 1, 428: 1, 432: 1, 434: 1, 435: 1, 436: 1, 440: 1, 447: 1, 456: 1, 464: 1, 467: 1, 469: 1, 420: 1, 477: 1, 479: 1, 480: 1, 481: 1, 497: 1, 508: 1})\n",
      "\n",
      "Label = num_screenshots\n",
      "\n",
      "Counter({0: 73, 1: 19, 2: 15, 8: 14, 4: 12, 14: 10, 10: 9, 7: 8, 9: 8, 3: 7, 19: 7, 5: 6, 12: 6, 18: 6, 20: 6, 50: 6, 6: 5, 21: 5, 24: 5, 30: 5, 72: 5, 88: 5, 91: 5, 11: 4, 15: 4, 28: 4, 33: 4, 41: 4, 43: 4, 48: 4, 53: 4, 56: 4, 78: 4, 86: 4, 617: 4, 59: 4, 13: 3, 16: 3, 26: 3, 34: 3, 35: 3, 36: 3, 40: 3, 44: 3, 45: 3, 51: 3, 58: 3, 61: 3, 63: 3, 68: 3, 96: 3, 98: 3, 107: 3, 110: 3, 114: 3, 139: 3, 79: 3, 17: 2, 23: 2, 27: 2, 31: 2, 32: 2, 42: 2, 46: 2, 52: 2, 55: 2, 67: 2, 81: 2, 92: 2, 104: 2, 109: 2, 111: 2, 113: 2, 126: 2, 135: 2, 136: 2, 140: 2, 143: 2, 145: 2, 151: 2, 154: 2, 157: 2, 166: 2, 29: 2, 690: 2, 194: 2, 200: 2, 234: 2, 246: 2, 249: 2, 128: 2, 308: 2, 527: 2, 397: 2, 910: 2, 399: 2, 152: 2, 1555: 1, 22: 1, 2052: 1, 541: 1, 37: 1, 38: 1, 39: 1, 189: 1, 54: 1, 57: 1, 571: 1, 60: 1, 62: 1, 64: 1, 69: 1, 1606: 1, 71: 1, 74: 1, 76: 1, 565: 1, 525: 1, 80: 1, 82: 1, 84: 1, 227: 1, 89: 1, 95: 1, 97: 1, 100: 1, 103: 1, 106: 1, 620: 1, 112: 1, 116: 1, 119: 1, 120: 1, 1145: 1, 703: 1, 125: 1, 640: 1, 129: 1, 132: 1, 138: 1, 141: 1, 144: 1, 150: 1, 664: 1, 153: 1, 1180: 1, 159: 1, 161: 1, 163: 1, 164: 1, 167: 1, 9384: 1, 540: 1, 193: 1, 171: 1, 174: 1, 176: 1, 115: 1, 700: 1, 701: 1, 190: 1, 191: 1, 1729: 1, 195: 1, 196: 1, 1226: 1, 204: 1, 546: 1, 206: 1, 210: 1, 216: 1, 221: 1, 223: 1, 225: 1, 123: 1, 228: 1, 231: 1, 236: 1, 237: 1, 238: 1, 240: 1, 25: 1, 245: 1, 248: 1, 1437: 1, 252: 1, 255: 1, 263: 1, 264: 1, 267: 1, 268: 1, 270: 1, 1581: 1, 272: 1, 276: 1, 279: 1, 281: 1, 1312: 1, 801: 1, 293: 1, 49: 1, 305: 1, 306: 1, 309: 1, 319: 1, 324: 1, 837: 1, 1079: 1, 5453: 1, 334: 1, 339: 1, 398: 1, 858: 1, 348: 1, 557: 1, 352: 1, 1681: 1, 361: 1, 365: 1, 368: 1, 466: 1, 370: 1, 375: 1, 376: 1, 378: 1, 380: 1, 1004: 1, 915: 1, 407: 1, 413: 1, 420: 1, 424: 1, 943: 1, 244: 1, 444: 1, 330: 1, 446: 1, 962: 1, 1100: 1, 175: 1, 974: 1, 975: 1, 1490: 1, 979: 1, 472: 1, 5744: 1, 475: 1, 480: 1, 492: 1, 680: 1, 1213: 1, 169: 1, 1529: 1, 1022: 1})\n",
      "\n",
      "Label = num_voted_helpfulness\n",
      "\n",
      "Counter({2: 316, 3: 82, 5: 37, 4: 20, 7: 18, 8: 10, 13: 9, 9: 8, 11: 7, 6: 6, 15: 6, 10: 5, 12: 5, 4229: 4, 21: 3, 31: 3, 27: 3, 4617: 3, 14: 2, 17: 2, 18: 2, 19: 2, 22: 2, 7846: 2, 41: 2, 56: 2, 83: 2, 1808: 1, 20: 1, 793: 1, 26: 1, 411: 1, 28: 1, 541: 1, 32: 1, 33: 1, 34: 1, 36: 1, 39: 1, 40: 1, 517: 1, 53: 1, 439: 1, 58: 1, 316: 1, 64: 1, 1603: 1, 72: 1, 2060: 1, 339: 1, 718: 1, 1746: 1, 163: 1, 206: 1, 472: 1, 1768: 1, 188: 1, 1645: 1, 116: 1, 504: 1, 255: 1, 126: 1, 85: 1})\n",
      "\n",
      "Label = total_game_hours\n",
      "\n",
      "Counter({1124.8: 3, 116.9: 2, 176.5: 2, 826.8: 2, 1424.2: 2, 374.5: 2, 1.7: 2, 1540.9: 2, 943.0: 2, 2641.3: 2, 664.3: 2, 690.9: 2, 783.5: 2, 906.3: 2, 1989.0: 2, 1187.8: 2, 0.5: 1, 1.4: 1, 2.9: 1, 5123.2: 1, 4.6: 1, 6.8: 1, 7.8: 1, 2056.7: 1, 9.9: 1, 10.1: 1, 11.0: 1, 288.4: 1, 1538.9: 1, 1038.8: 1, 173.2: 1, 1603.2: 1, 2067.8: 1, 20.3: 1, 21.5: 1, 22.1: 1, 23.7: 1, 24.5: 1, 25.1: 1, 27.6: 1, 30.5: 1, 31.7: 1, 32.6: 1, 34.5: 1, 1059.7: 1, 1.0: 1, 38.8: 1, 3249.9: 1, 41.3: 1, 42.9: 1, 2055.5: 1, 45.8: 1, 3118.7: 1, 1071.8: 1, 1072.1: 1, 8.8: 1, 50.4: 1, 51.3: 1, 54.5: 1, 2057.7: 1, 180.3: 1, 58.4: 1, 1038.6: 1, 60.8: 1, 1085.0: 1, 1086.0: 1, 1717.1: 1, 64.9: 1, 65.4: 1, 3138.1: 1, 67.8: 1, 1093.0: 1, 72.0: 1, 75.3: 1, 1100.6: 1, 77.6: 1, 79.9: 1, 11.7: 1, 82.7: 1, 1109.9: 1, 1110.1: 1, 87.4: 1, 1112.1: 1, 89.3: 1, 90.1: 1, 54.6: 1, 92.5: 1, 186.2: 1, 94.7: 1, 3167.1: 1, 96.1: 1, 97.5: 1, 1122.7: 1, 2147.2: 1, 101.9: 1, 1126.6: 1, 103.1: 1, 105.2: 1, 1130.4: 1, 108.6: 1, 1552.3: 1, 1139.0: 1, 1142.3: 1, 160.8: 1, 3092.7: 1, 122.8: 1, 123.0: 1, 124.4: 1, 1386.3: 1, 126.0: 1, 1557.4: 1, 1153.4: 1, 1154.5: 1, 131.3: 1, 1157.5: 1, 1158.5: 1, 135.0: 1, 137.8: 1, 1047.4: 1, 140.0: 1, 2189.8: 1, 142.2: 1, 143.2: 1, 3217.5: 1, 1170.5: 1, 25.3: 1, 157.5: 1, 158.4: 1, 6303.2: 1, 1184.8: 1, 161.2: 1, 1676.1: 1, 163.7: 1, 164.3: 1, 166.8: 1, 1267.9: 1, 168.1: 1, 169.0: 1, 1195.2: 1, 370.6: 1, 177.5: 1, 180.5: 1, 4126.0: 1, 2233.5: 1, 186.8: 1, 187.0: 1, 189.8: 1, 2393.9: 1, 1216.0: 1, 193.0: 1, 874.5: 1, 196.0: 1, 198.1: 1, 1225.0: 1, 1399.8: 1, 1058.9: 1, 209.4: 1, 58.1: 1, 1405.2: 1, 3288.6: 1, 2084.0: 1, 3290.6: 1, 1244.4: 1, 222.0: 1, 226.3: 1, 227.9: 1, 229.0: 1, 1254.5: 1, 232.5: 1, 1201.7: 1, 2284.4: 1, 451.1: 1, 239.7: 1, 1264.3: 1, 241.1: 1, 2291.5: 1, 1148.9: 1, 245.5: 1, 247.3: 1, 1031.9: 1, 2546.4: 1, 5375.0: 1, 256.4: 1, 1283.3: 1, 262.1: 1, 385.4: 1, 145.4: 1, 265.2: 1, 269.3: 1, 271.7: 1, 272.2: 1, 11.8: 1, 274.9: 1, 275.0: 1, 276.6: 1, 716.6: 1, 1373.1: 1, 2327.1: 1, 280.3: 1, 1305.6: 1, 47.2: 1, 1242.2: 1, 286.1: 1, 288.0: 1, 2096.6: 1, 292.2: 1, 293.3: 1, 297.7: 1, 903.3: 1, 2349.9: 1, 733.4: 1, 305.4: 1, 306.0: 1, 2355.1: 1, 309.7: 1, 2358.5: 1, 1335.0: 1, 314.8: 1, 3386.8: 1, 931.0: 1, 320.5: 1, 321.3: 1, 1419.8: 1, 54.1: 1, 326.4: 1, 737.5: 1, 1352.6: 1, 396.2: 1, 3402.7: 1, 2379.6: 1, 2380.0: 1, 333.5: 1, 1358.8: 1, 335.4: 1, 1360.7: 1, 1361.5: 1, 1362.5: 1, 227.0: 1, 340.1: 1, 2389.7: 1, 345.2: 1, 911.2: 1, 2397.3: 1, 351.6: 1, 352.9: 1, 2402.4: 1, 3428.9: 1, 357.4: 1, 1382.3: 1, 1383.1: 1, 2408.0: 1, 361.6: 1, 362.7: 1, 363.3: 1, 1426.0: 1, 1256.5: 1, 1394.3: 1, 1395.2: 1, 1396.7: 1, 2130.7: 1, 1400.8: 1, 404.9: 1, 379.1: 1, 1404.0: 1, 381.4: 1, 64.3: 1, 1412.9: 1, 406.1: 1, 1415.5: 1, 395.3: 1, 396.5: 1, 354.1: 1, 1423.3: 1, 400.7: 1, 1426.7: 1, 403.8: 1, 404.3: 1, 405.7: 1, 406.3: 1, 921.2: 1, 2459.8: 1, 415.1: 1, 416.1: 1, 2465.2: 1, 418.2: 1, 419.5: 1, 82.0: 1, 421.3: 1, 423.9: 1, 426.4: 1, 2094.2: 1, 2479.3: 1, 1012.0: 1, 435.5: 1, 1460.2: 1, 437.1: 1, 2487.3: 1, 441.8: 1, 2490.6: 1, 443.1: 1, 1470.7: 1, 75.2: 1, 452.4: 1, 1244.1: 1, 1479.9: 1, 2124.4: 1, 1482.6: 1, 288.5: 1, 2028.4: 1, 2296.1: 1, 466.2: 1, 467.8: 1, 2519.1: 1, 472.9: 1, 420.8: 1, 2523.2: 1, 476.4: 1, 1091.4: 1, 2028.9: 1, 479.5: 1, 2640.7: 1, 2530.8: 1, 1507.1: 1, 484.8: 1, 1509.1: 1, 489.2: 1, 2130.6: 1, 592.8: 1, 495.7: 1, 496.7: 1, 498.6: 1, 1841.3: 1, 3572.6: 1, 1525.7: 1, 502.1: 1, 504.9: 1, 1529.4: 1, 1517.2: 1, 1533.7: 1, 510.4: 1, 85.5: 1, 1538.7: 1, 3499.8: 1, 358.2: 1, 518.8: 1, 519.3: 1, 87.1: 1, 1549.5: 1, 528.9: 1, 563.7: 1, 530.7: 1, 531.5: 1, 532.4: 1, 1211.6: 1, 534.4: 1, 536.6: 1, 540.8: 1, 1565.6: 1, 2590.8: 1, 1075.4: 1, 546.1: 1, 4178.9: 1, 1574.0: 1, 551.9: 1, 64.4: 1, 1584.8: 1, 1585.8: 1, 1928.7: 1, 1459.3: 1, 1590.0: 1, 2313.6: 1, 569.8: 1, 1595.5: 1, 733.6: 1, 1461.5: 1, 2626.5: 1, 579.6: 1, 581.4: 1, 584.3: 1, 1614.2: 1, 269.8: 1, 592.0: 1, 2036.1: 1, 1620.9: 1, 1622.5: 1, 1124.1: 1, 602.7: 1, 2661.1: 1, 609.5: 1, 611.0: 1, 1637.6: 1, 618.7: 1, 3691.9: 1, 443.5: 1, 623.0: 1, 4720.5: 1, 628.7: 1, 1982.3: 1, 1655.4: 1, 396.8: 1, 636.8: 1, 1642.3: 1, 5758.1: 1, 642.7: 1, 646.7: 1, 1671.6: 1, 651.0: 1, 1676.8: 1, 653.0: 1, 1679.6: 1, 1181.2: 1, 451.0: 1, 660.1: 1, 665.9: 1, 5788.4: 1, 669.5: 1, 670.0: 1, 1695.6: 1, 674.7: 1, 680.5: 1, 1705.9: 1, 1479.8: 1, 159.5: 1, 687.0: 1, 466.8: 1, 2737.2: 1, 1114.6: 1, 693.9: 1, 695.2: 1, 2745.1: 1, 1723.1: 1, 701.3: 1, 2753.3: 1, 710.5: 1, 715.7: 1, 716.3: 1, 407.0: 1, 975.0: 1, 1146.6: 1, 737.7: 1, 1147.1: 1, 742.4: 1, 743.7: 1, 2793.5: 1, 1771.5: 1, 1772.3: 1, 749.4: 1, 637.3: 1, 3539.3: 1, 3060.6: 1, 757.8: 1, 1782.9: 1, 809.5: 1, 980.3: 1, 127.0: 1, 3060.7: 1, 981.4: 1, 1386.9: 1, 772.9: 1, 774.5: 1, 1153.1: 1, 778.6: 1, 4875.0: 1, 780.0: 1, 782.1: 1, 4465.1: 1, 1049.5: 1, 790.7: 1, 46.5: 1, 793.4: 1, 1821.8: 1, 4766.8: 1, 133.6: 1, 800.0: 1, 802.5: 1, 803.4: 1, 2.2: 1, 2909.3: 1, 305.3: 1, 808.0: 1, 1833.1: 1, 811.9: 1, 82.6: 1, 1841.6: 1, 1502.7: 1, 823.9: 1, 5836.7: 1, 828.6: 1, 1854.4: 1, 832.8: 1, 651.1: 1, 2884.4: 1, 839.6: 1, 64.7: 1, 848.6: 1, 851.8: 1, 852.9: 1, 1877.7: 1, 854.3: 1, 856.5: 1, 949.1: 1, 858.9: 1, 861.5: 1, 485.6: 1, 2914.7: 1, 870.3: 1, 3943.6: 1, 872.4: 1, 1898.5: 1, 3947.3: 1, 876.6: 1, 2925.5: 1, 878.6: 1, 886.4: 1, 1148.8: 1, 1684.5: 1, 2940.6: 1, 1921.8: 1, 898.5: 1, 899.0: 1, 901.5: 1, 902.3: 1, 903.2: 1, 904.7: 1, 905.2: 1, 4247.6: 1, 908.5: 1, 910.7: 1, 911.8: 1, 3668.6: 1, 917.2: 1, 920.3: 1, 921.4: 1, 1946.7: 1, 928.5: 1, 1008.1: 1, 99.4: 1, 372.4: 1, 1899.6: 1, 2034.4: 1, 157.0: 1, 4123.2: 1, 945.9: 1, 158.8: 1, 950.8: 1, 1012.3: 1, 955.1: 1, 646.4: 1, 1354.0: 1, 475.9: 1, 1983.2: 1, 1984.5: 1, 2208.7: 1, 331.3: 1, 964.6: 1, 1990.8: 1, 967.5: 1, 493.3: 1, 3022.0: 1, 333.2: 1, 11.4: 1, 977.3: 1, 3028.1: 1, 2382.2: 1, 985.6: 1, 987.5: 1, 2013.4: 1, 991.1: 1, 1091.1: 1, 998.4: 1, 2028.2: 1, 446.1: 1, 1670.9: 1, 1007.3: 1, 1008.4: 1, 1010.2: 1, 2035.2: 1, 1012.6: 1, 4088.0: 1, 340.9: 1, 2045.6: 1, 1023.3: 1})\n",
      "\n",
      "Label = num_badges\n",
      "\n",
      "Counter({5: 48, 4: 46, 3: 44, 6: 33, 8: 29, 12: 26, 7: 25, 9: 23, 10: 23, 11: 23, 13: 21, 16: 16, 14: 15, 15: 11, 18: 10, 19: 10, 22: 9, 32: 8, 17: 7, 21: 7, 33: 7, 2: 6, 36: 6, 20: 5, 24: 5, 28: 5, 37: 5, 27: 4, 29: 4, 30: 4, 1: 3, 23: 3, 25: 3, 26: 3, 31: 3, 41: 3, 43: 3, 44: 3, 52: 3, 38: 2, 39: 2, 40: 2, 42: 2, 46: 2, 50: 2, 57: 2, 63: 2, 76: 2, 85: 2, 87: 2, 34: 1, 155: 1, 47: 1, 48: 1, 51: 1, 53: 1, 55: 1, 56: 1, 58: 1, 68: 1, 71: 1, 81: 1, 35: 1, 621: 1, 131: 1, 103: 1, 237: 1, 111: 1, 120: 1, 122: 1, 638: 1})\n",
      "\n",
      "Label = num_achievements_possible\n",
      "\n",
      "Counter({518: 196, 167: 92, 29: 37, 88: 34, 70: 13, 60: 11, 80: 9, 21: 8, 36: 8, 69: 8, 333: 8, 178: 7, 75: 7, 132: 5, 27: 5, 65: 5, 10: 4, 49: 4, 2: 3, 16: 3, 25: 3, 287: 3, 33: 3, 38: 3, 50: 3, 51: 3, 67: 3, 84: 3, 12: 3, 1: 2, 140: 2, 14: 2, 20: 2, 22: 2, 35: 2, 40: 2, 47: 2, 52: 2, 59: 2, 62: 2, 73: 2, 83: 2, 85: 2, 87: 2, 92: 2, 131: 1, 5: 1, 13: 1, 45: 1, 145: 1, 24: 1, 28: 1, 30: 1, 32: 1, 34: 1, 43: 1, 48: 1, 54: 1, 56: 1, 650: 1, 63: 1, 31: 1, 76: 1, 15: 1, 99: 1, 17: 1, 114: 1, 116: 1, 120: 1, 452: 1, 127: 1})\n",
      "\n",
      "Label = num_found_funny\n",
      "\n",
      "Counter({0: 449, 1: 146, 2: 1, 19: 1, 43: 1, 31: 1})\n",
      "\n",
      "Label = num_found_unhelpful\n",
      "\n",
      "Counter({0: 432, 1: 48, 2: 33, 3: 19, 4: 11, 5: 6, 7: 6, 494: 4, 6: 4, 11: 3, 14: 3, 550: 3, 9: 2, 960: 2, 134: 1, 64: 1, 140: 1, 13: 1, 17: 1, 26: 1, 218: 1, 103: 1, 37: 1, 69: 1, 31: 1, 98: 1, 39: 1, 129: 1, 105: 1, 135: 1, 12: 1, 114: 1, 180: 1, 54: 1, 137: 1, 56: 1, 62: 1})\n",
      "\n"
     ]
    }
   ],
   "source": [
    "for label in dist_info_dict_Team_Fortress_2:\n",
    "    print(\"Label = {}\\n\".format(label))\n",
    "    print(\"{}\\n\".format(dist_info_dict_Team_Fortress_2[label]['labels_counter']))"
   ]
  },
  {
   "cell_type": "markdown",
   "metadata": {},
   "source": [
    "## Examining the Distribution of Labels for Counter Strike"
   ]
  },
  {
   "cell_type": "code",
   "execution_count": 42,
   "metadata": {
    "collapsed": false
   },
   "outputs": [
    {
     "name": "stdout",
     "output_type": "stream",
     "text": [
      "Label = num_reviews\n",
      "\n",
      "Counter({1: 120, 0: 79, 2: 40, 4: 27, 3: 25, 5: 17, 7: 13, 8: 13, 11: 10, 12: 10, 6: 9, 10: 9, 23: 9, 13: 8, 9: 7, 15: 7, 14: 6, 24: 6, 18: 5, 20: 4, 21: 4, 36: 4, 38: 4, 16: 3, 17: 3, 28: 3, 55: 3, 19: 2, 22: 2, 25: 2, 33: 2, 35: 2, 39: 2, 41: 2, 44: 2, 54: 2, 57: 2, 88: 2, 26: 1, 27: 1, 30: 1, 31: 1, 32: 1, 42: 1, 45: 1, 46: 1, 47: 1, 48: 1, 53: 1, 58: 1, 59: 1, 60: 1, 61: 1, 62: 1, 65: 1, 329: 1, 74: 1, 75: 1, 82: 1, 163: 1, 86: 1, 87: 1, 356: 1, 118: 1, 120: 1})\n",
      "\n",
      "Label = total_game_hours_bin\n",
      "\n",
      "Counter({1: 405, 2: 73, 3: 19})\n",
      "\n",
      "Label = found_helpful_percentage\n",
      "\n",
      "Counter({0.0: 31, 1.0: 27, 0.5: 17, 0.8333333333333334: 5, 0.6666666666666666: 5, 0.3333333333333333: 3, 0.0625: 3, 0.918625678119349: 2, 0.75: 2, 0.7777777777777778: 2, 0.17391304347826086: 2, 0.8793532338308457: 2, 0.1111111111111111: 2, 0.15: 2, 0.3392857142857143: 1, 0.2: 1, 0.8828451882845189: 1, 0.25: 1, 0.18518518518518517: 1, 0.875: 1, 0.10526315789473684: 1, 0.2857142857142857: 1, 0.3076923076923077: 1, 0.8095238095238095: 1, 0.9: 1, 0.9230769230769231: 1, 0.8: 1, 0.058823529411764705: 1, 0.82: 1, 0.7142857142857143: 1, 0.9331619537275064: 1, 0.6153846153846154: 1, 0.23333333333333334: 1, 0.8888888888888888: 1, 0.13636363636363635: 1, 0.8571428571428571: 1, 0.41721854304635764: 1, 0.2894736842105263: 1, 0.20833333333333334: 1, 0.9294605809128631: 1, 0.935: 1, 0.23529411764705882: 1, 0.40804597701149425: 1})\n",
      "\n",
      "Label = num_achievements_percentage\n",
      "\n",
      "Counter({0.0: 41, 1.0: 23, 0.9221556886227545: 6, 0.7245508982035929: 6, 0.4: 5, 0.9281437125748503: 4, 0.6107784431137725: 4, 0.718562874251497: 3, 0.7724550898203593: 3, 0.7125748502994012: 3, 0.6586826347305389: 3, 0.46107784431137727: 3, 0.7904191616766467: 3, 0.7544910179640718: 3, 0.05555555555555555: 2, 0.07142857142857142: 2, 0.4827586206896552: 2, 0.2: 2, 0.4431137724550898: 2, 0.23809523809523808: 2, 0.20689655172413793: 2, 0.8083832335329342: 2, 0.8143712574850299: 2, 0.15568862275449102: 2, 0.8383233532934131: 2, 0.55: 2, 0.5209580838323353: 2, 0.874251497005988: 2, 0.8622754491017964: 2, 0.6706586826347305: 2, 0.23353293413173654: 2, 0.9401197604790419: 2, 0.5688622754491018: 2, 0.25149700598802394: 2, 0.6287425149700598: 2, 0.8263473053892215: 2, 0.7386363636363636: 2, 0.24550898203592814: 2, 0.6766467065868264: 2, 0.1: 2, 0.9580838323353293: 2, 0.3103448275862069: 2, 0.013333333333333334: 2, 0.27586206896551724: 2, 0.18666666666666668: 2, 0.638996138996139: 2, 0.45454545454545453: 2, 0.963855421686747: 2, 0.7964071856287425: 2, 0.46706586826347307: 2, 0.49700598802395207: 2, 0.688622754491018: 2, 0.19760479041916168: 2, 0.562874251497006: 2, 0.9161676646706587: 2, 0.05714285714285714: 2, 0.40069686411149824: 2, 0.7425149700598802: 2, 0.6347305389221557: 2, 0.8323353293413174: 2, 0.805019305019305: 1, 0.5625: 1, 0.9101796407185628: 1, 0.24561403508771928: 1, 0.7305389221556886: 1, 0.6551724137931034: 1, 0.07692307692307693: 1, 0.6946107784431138: 1, 0.1875: 1, 0.06382978723404255: 1, 0.7065868263473054: 1, 0.32653061224489793: 1, 0.47058823529411764: 1, 0.1523809523809524: 1, 0.13793103448275862: 1, 0.7272727272727273: 1, 0.8769230769230769: 1, 0.2153846153846154: 1, 0.16981132075471697: 1, 0.07722007722007722: 1, 0.24615384615384617: 1, 0.34555984555984554: 1, 0.5166666666666667: 1, 0.12612612612612611: 1, 0.437125748502994: 1, 0.29411764705882354: 1, 0.12312312312312312: 1, 0.3614457831325301: 1, 0.3333333333333333: 1, 0.8862275449101796: 1, 0.4491017964071856: 1, 0.10778443113772455: 1, 0.35384615384615387: 1, 0.5269461077844312: 1, 0.38095238095238093: 1, 0.0125: 1, 0.7844311377245509: 1, 0.272108843537415: 1, 0.014285714285714285: 1, 0.05314009661835749: 1, 0.45: 1, 0.04247104247104247: 1, 0.14285714285714285: 1, 0.2275449101796407: 1, 0.06060606060606061: 1, 0.22666666666666666: 1, 0.6138996138996139: 1, 0.7784431137724551: 1, 0.09580838323353294: 1, 0.25868725868725867: 1, 0.5329341317365269: 1, 0.09333333333333334: 1, 0.6047904191616766: 1, 0.9166666666666666: 1, 0.28846153846153844: 1, 0.22727272727272727: 1, 0.8982035928143712: 1, 0.3: 1, 0.6666666666666666: 1, 0.21428571428571427: 1, 0.23333333333333334: 1, 0.09523809523809523: 1, 0.2714285714285714: 1, 0.42084942084942084: 1, 0.060240963855421686: 1, 0.23076923076923078: 1, 0.8620689655172413: 1, 0.028985507246376812: 1, 0.47904191616766467: 1, 0.5833333333333334: 1, 0.09059233449477352: 1, 0.36666666666666664: 1, 0.20454545454545456: 1, 0.02857142857142857: 1, 0.2631578947368421: 1, 0.04790419161676647: 1, 0.5568862275449101: 1, 0.15476190476190477: 1, 0.06906906906906907: 1, 0.5285714285714286: 1, 0.3772455089820359: 1, 0.32: 1, 0.1437125748502994: 1, 0.10204081632653061: 1, 0.5340909090909091: 1, 0.3473053892215569: 1, 0.14714714714714713: 1, 0.33532934131736525: 1, 0.9208494208494209: 1, 0.8502994011976048: 1, 0.7365269461077845: 1, 0.5449101796407185: 1, 0.7: 1, 0.8269230769230769: 1, 0.11235955056179775: 1, 0.6136363636363636: 1, 0.42857142857142855: 1, 0.08450704225352113: 1, 0.38323353293413176: 1, 0.17142857142857143: 1, 0.13636363636363635: 1, 0.6833976833976834: 1, 0.48333333333333334: 1, 0.3469387755102041: 1, 0.7387387387387387: 1, 0.6826347305389222: 1, 0.2215568862275449: 1, 0.057692307692307696: 1, 0.7485029940119761: 1, 0.030303030303030304: 1, 0.8023952095808383: 1, 0.7604790419161677: 1, 0.058823529411764705: 1, 0.8314606741573034: 1, 0.8922155688622755: 1, 0.06606606606606606: 1, 0.3413173652694611: 1, 0.22388059701492538: 1, 0.11003861003861004: 1, 0.03592814371257485: 1, 0.18333333333333332: 1, 0.7586206896551724: 1, 0.5510204081632653: 1, 0.8048048048048048: 1, 0.16: 1, 0.8203592814371258: 1, 0.2923076923076923: 1, 0.16666666666666666: 1, 0.8802395209580839: 1, 0.5029940119760479: 1, 0.6938775510204082: 1, 0.5909090909090909: 1, 0.5149700598802395: 1, 0.30612244897959184: 1, 0.3841698841698842: 1, 0.8833333333333333: 1, 0.19161676646706588: 1, 0.5394736842105263: 1, 0.5868263473053892: 1, 0.6363636363636364: 1, 0.289198606271777: 1, 0.7548262548262549: 1, 0.7992277992277992: 1, 0.6590909090909091: 1, 0.13333333333333333: 1, 0.8562874251497006: 1, 0.9887640449438202: 1, 0.5508982035928144: 1, 0.04: 1, 0.4791666666666667: 1, 0.7181467181467182: 1, 0.8133333333333334: 1, 0.4166666666666667: 1, 0.0449438202247191: 1, 0.9700598802395209: 1, 0.5089820359281437: 1, 0.1543859649122807: 1, 0.15789473684210525: 1, 0.5748502994011976: 1, 0.39520958083832336: 1, 0.4482758620689655: 1, 0.06153846153846154: 1, 0.09090909090909091: 1, 0.20481927710843373: 1, 0.2696629213483146: 1, 0.2634730538922156: 1, 0.844311377245509: 1, 0.2727272727272727: 1, 0.02: 1, 0.9520958083832335: 1, 0.41379310344827586: 1, 0.10227272727272728: 1, 0.017374517374517374: 1, 0.4557823129251701: 1, 0.9341317365269461: 1, 0.8359073359073359: 1, 0.3888888888888889: 1, 0.3448275862068966: 1, 0.5666666666666667: 1, 0.9880239520958084: 1})\n",
      "\n",
      "Label = num_guides\n",
      "\n",
      "Counter({0: 460, 1: 21, 3: 6, 2: 3, 4: 2, 5: 2, 6: 2, 12: 1})\n",
      "\n",
      "Label = num_workshop_items\n",
      "\n",
      "Counter({0: 434, 1: 25, 2: 10, 4: 7, 3: 6, 5: 5, 6: 2, 7: 2, 8: 2, 9: 1, 11: 1, 47: 1, 27: 1})\n",
      "\n",
      "Label = num_friends\n",
      "\n",
      "Counter({27: 9, 17: 8, 19: 7, 22: 7, 7: 6, 16: 6, 46: 6, 64: 6, 4: 5, 10: 5, 20: 5, 23: 5, 39: 5, 42: 5, 49: 5, 56: 5, 58: 5, 59: 5, 65: 5, 2: 4, 3: 4, 6: 4, 12: 4, 13: 4, 26: 4, 36: 4, 37: 4, 41: 4, 43: 4, 45: 4, 51: 4, 53: 4, 94: 4, 140: 4, 11: 3, 15: 3, 18: 3, 24: 3, 28: 3, 29: 3, 33: 3, 34: 3, 47: 3, 50: 3, 54: 3, 78: 3, 85: 3, 89: 3, 96: 3, 97: 3, 99: 3, 100: 3, 104: 3, 127: 3, 144: 3, 156: 3, 1: 2, 9: 2, 14: 2, 21: 2, 25: 2, 30: 2, 31: 2, 32: 2, 38: 2, 40: 2, 44: 2, 55: 2, 57: 2, 66: 2, 67: 2, 68: 2, 77: 2, 80: 2, 84: 2, 87: 2, 88: 2, 91: 2, 95: 2, 98: 2, 102: 2, 106: 2, 110: 2, 112: 2, 124: 2, 125: 2, 130: 2, 132: 2, 138: 2, 141: 2, 146: 2, 147: 2, 174: 2, 175: 2, 188: 2, 202: 2, 204: 2, 226: 2, 229: 2, 245: 2, 251: 2, 287: 2, 288: 2, 8: 1, 35: 1, 48: 1, 52: 1, 62: 1, 63: 1, 71: 1, 73: 1, 74: 1, 75: 1, 76: 1, 81: 1, 83: 1, 86: 1, 90: 1, 92: 1, 107: 1, 109: 1, 111: 1, 115: 1, 120: 1, 121: 1, 123: 1, 126: 1, 129: 1, 135: 1, 142: 1, 143: 1, 149: 1, 150: 1, 537: 1, 158: 1, 159: 1, 162: 1, 163: 1, 164: 1, 165: 1, 177: 1, 178: 1, 185: 1, 189: 1, 195: 1, 197: 1, 198: 1, 199: 1, 712: 1, 207: 1, 208: 1, 210: 1, 218: 1, 219: 1, 224: 1, 234: 1, 235: 1, 236: 1, 237: 1, 239: 1, 244: 1, 248: 1, 250: 1, 253: 1, 254: 1, 258: 1, 264: 1, 271: 1, 273: 1, 278: 1, 280: 1, 286: 1, 294: 1, 295: 1, 302: 1, 305: 1, 312: 1, 321: 1, 332: 1, 341: 1, 348: 1, 360: 1, 371: 1, 382: 1, 391: 1, 395: 1, 408: 1, 421: 1, 438: 1})\n",
      "\n",
      "Label = num_games_owned\n",
      "\n",
      "Counter({0: 79, 6: 13, 9: 13, 7: 12, 8: 10, 22: 9, 3: 8, 15: 7, 17: 7, 11: 6, 13: 6, 73: 6, 14: 5, 19: 5, 20: 5, 26: 5, 27: 5, 33: 5, 45: 5, 4: 4, 10: 4, 16: 4, 23: 4, 28: 4, 30: 4, 36: 4, 48: 4, 62: 4, 67: 4, 72: 4, 74: 4, 93: 4, 166: 4, 5: 3, 12: 3, 18: 3, 24: 3, 29: 3, 32: 3, 34: 3, 44: 3, 47: 3, 50: 3, 51: 3, 52: 3, 53: 3, 61: 3, 106: 3, 116: 3, 132: 3, 133: 3, 138: 3, 158: 3, 169: 3, 21: 2, 25: 2, 40: 2, 43: 2, 49: 2, 56: 2, 57: 2, 59: 2, 60: 2, 66: 2, 71: 2, 77: 2, 78: 2, 80: 2, 81: 2, 85: 2, 89: 2, 95: 2, 98: 2, 103: 2, 105: 2, 111: 2, 115: 2, 122: 2, 126: 2, 131: 2, 141: 2, 147: 2, 150: 2, 155: 2, 167: 2, 170: 2, 173: 2, 175: 2, 182: 2, 183: 2, 184: 2, 228: 2, 38: 2, 304: 2, 329: 2, 1: 1, 31: 1, 35: 1, 37: 1, 550: 1, 41: 1, 42: 1, 54: 1, 63: 1, 64: 1, 69: 1, 70: 1, 76: 1, 83: 1, 88: 1, 90: 1, 91: 1, 608: 1, 611: 1, 109: 1, 110: 1, 112: 1, 114: 1, 119: 1, 123: 1, 127: 1, 130: 1, 134: 1, 135: 1, 139: 1, 140: 1, 143: 1, 144: 1, 149: 1, 151: 1, 152: 1, 160: 1, 162: 1, 172: 1, 177: 1, 178: 1, 186: 1, 188: 1, 189: 1, 702: 1, 195: 1, 197: 1, 200: 1, 204: 1, 206: 1, 212: 1, 215: 1, 1573: 1, 230: 1, 233: 1, 237: 1, 1276: 1, 253: 1, 605: 1, 268: 1, 269: 1, 272: 1, 280: 1, 288: 1, 1072: 1, 290: 1, 806: 1, 298: 1, 305: 1, 307: 1, 312: 1, 326: 1, 328: 1, 331: 1, 1868: 1, 333: 1, 2872: 1, 343: 1, 344: 1, 416: 1, 423: 1, 424: 1, 427: 1, 430: 1, 509: 1})\n",
      "\n",
      "Label = num_comments\n",
      "\n",
      "Counter({0: 455, 1: 17, 2: 7, 3: 5, 4: 3, 10: 3, 5: 2, 18: 2, 6: 1, 7: 1, 17: 1})\n",
      "\n",
      "Label = friend_player_level\n",
      "\n",
      "Counter({6: 30, 12: 29, 3: 22, 11: 21, 10: 20, 5: 19, 2: 18, 4: 18, 9: 18, 13: 15, 16: 15, 7: 14, 8: 13, 14: 13, 15: 13, 20: 10, 22: 10, 24: 10, 17: 9, 18: 8, 31: 8, 30: 7, 21: 6, 27: 6, 28: 6, 23: 5, 32: 5, 26: 4, 1: 3, 25: 3, 40: 3, 19: 2, 29: 2, 33: 2, 34: 2, 48: 2, 50: 2, 60: 2, 35: 1, 36: 1, 38: 1, 41: 1, 43: 1, 46: 1, 51: 1, 53: 1, 54: 1, 55: 1, 56: 1, 58: 1, 61: 1, 65: 1, 66: 1, 67: 1, 70: 1, 74: 1, 75: 1, 85: 1, 100: 1, 105: 1, 120: 1})\n",
      "\n",
      "Label = num_groups\n",
      "\n",
      "Counter({4: 24, 1: 23, 3: 19, 2: 18, 6: 17, 7: 17, 8: 17, 5: 15, 10: 13, 12: 13, 13: 11, 18: 11, 9: 10, 11: 7, 19: 7, 27: 7, 15: 6, 29: 6, 32: 6, 14: 5, 16: 5, 17: 5, 20: 5, 21: 5, 22: 5, 23: 5, 34: 5, 53: 5, 25: 4, 26: 4, 35: 4, 42: 4, 50: 4, 28: 3, 31: 3, 36: 3, 38: 3, 47: 3, 54: 3, 76: 3, 49: 3, 24: 2, 30: 2, 41: 2, 46: 2, 48: 2, 58: 2, 59: 2, 66: 2, 77: 2, 99: 2, 101: 2, 126: 2, 33: 1, 37: 1, 39: 1, 40: 1, 263: 1, 44: 1, 305: 1, 51: 1, 52: 1, 55: 1, 60: 1, 62: 1, 65: 1, 70: 1, 72: 1, 74: 1, 81: 1, 83: 1, 85: 1, 86: 1, 90: 1, 92: 1, 93: 1, 102: 1, 103: 1, 105: 1, 114: 1, 116: 1, 122: 1, 125: 1, 132: 1, 138: 1, 149: 1, 153: 1, 220: 1, 226: 1})\n",
      "\n",
      "Label = total_game_hours_last_two_weeks\n",
      "\n",
      "Counter({0.0: 379, 0.1: 16, 0.2: 10, 0.3: 7, 1.6: 6, 2.3: 3, 0.5: 3, 1.1: 3, 0.7: 3, 1.0: 2, 5.2: 2, 1.8: 2, 14.7: 2, 15.4: 2, 22.9: 2, 28.4: 2, 0.6: 2, 5.6: 2, 0.8: 2, 2.4: 2, 0.4: 2, 19.3: 2, 1.3: 2, 4.4: 1, 8.9: 1, 9.5: 1, 10.3: 1, 11.3: 1, 13.9: 1, 17.0: 1, 19.0: 1, 21.5: 1, 25.3: 1, 19.7: 1, 25.0: 1, 22.2: 1, 26.2: 1, 1.5: 1, 2.7: 1, 38.4: 1, 7.8: 1, 174.5: 1, 72.7: 1, 51.6: 1, 9.8: 1, 87.1: 1, 31.0: 1, 4.3: 1, 65.8: 1, 67.1: 1, 1.4: 1, 5.3: 1, 11.0: 1, 14.3: 1, 1.9: 1, 164.1: 1, 0.9: 1, 220.8: 1, 2.1: 1, 60.0: 1, 6.6: 1, 4.1: 1})\n",
      "\n",
      "Label = num_found_helpful\n",
      "\n",
      "Counter({0: 394, 2: 30, 1: 24, 3: 11, 5: 7, 4: 4, 8: 4, 7: 3, 12: 2, 707: 2, 1016: 2, 71: 1, 10: 1, 11: 1, 14: 1, 17: 1, 19: 1, 24: 1, 363: 1, 224: 1, 374: 1, 41: 1, 234: 1, 633: 1, 63: 1})\n",
      "\n",
      "Label = num_achievements_attained\n",
      "\n",
      "Counter({0: 41, 167: 17, 2: 12, 1: 9, 14: 9, 5: 7, 8: 7, 9: 7, 3: 6, 15: 6, 121: 6, 154: 6, 6: 5, 18: 5, 102: 5, 22: 4, 26: 4, 40: 4, 41: 4, 115: 4, 155: 4, 4: 3, 10: 3, 11: 3, 13: 3, 16: 3, 19: 3, 23: 3, 42: 3, 44: 3, 57: 3, 77: 3, 80: 3, 83: 3, 110: 3, 119: 3, 120: 3, 126: 3, 129: 3, 132: 3, 12: 3, 7: 2, 17: 2, 20: 2, 24: 2, 27: 2, 28: 2, 30: 2, 33: 2, 37: 2, 39: 2, 48: 2, 50: 2, 52: 2, 56: 2, 58: 2, 65: 2, 74: 2, 78: 2, 87: 2, 94: 2, 95: 2, 96: 2, 105: 2, 106: 2, 112: 2, 113: 2, 124: 2, 133: 2, 134: 2, 136: 2, 138: 2, 139: 2, 140: 2, 144: 2, 146: 2, 148: 2, 153: 2, 157: 2, 160: 2, 331: 2, 135: 2, 268: 1, 29: 1, 31: 1, 32: 1, 34: 1, 35: 1, 38: 1, 43: 1, 45: 1, 47: 1, 49: 1, 51: 1, 53: 1, 54: 1, 55: 1, 61: 1, 318: 1, 63: 1, 64: 1, 66: 1, 67: 1, 73: 1, 75: 1, 98: 1, 84: 1, 85: 1, 86: 1, 88: 1, 89: 1, 91: 1, 92: 1, 93: 1, 354: 1, 101: 1, 114: 1, 116: 1, 118: 1, 122: 1, 123: 1, 125: 1, 127: 1, 130: 1, 131: 1, 391: 1, 137: 1, 141: 1, 142: 1, 143: 1, 147: 1, 149: 1, 150: 1, 152: 1, 156: 1, 414: 1, 159: 1, 417: 1, 162: 1, 165: 1, 176: 1, 433: 1, 179: 1, 372: 1, 199: 1, 518: 1, 218: 1, 477: 1, 222: 1, 246: 1})\n",
      "\n",
      "Label = num_screenshots\n",
      "\n",
      "Counter({0: 154, 1: 34, 3: 17, 2: 15, 6: 11, 5: 10, 8: 10, 10: 10, 4: 9, 9: 8, 14: 8, 15: 7, 11: 6, 21: 6, 53: 5, 12: 4, 20: 4, 33: 4, 13: 3, 23: 3, 45: 3, 65: 3, 103: 3, 7: 2, 16: 2, 17: 2, 18: 2, 26: 2, 27: 2, 28: 2, 38: 2, 44: 2, 1117: 2, 50: 2, 56: 2, 63: 2, 75: 2, 93: 2, 102: 2, 240: 2, 112: 2, 118: 2, 133: 2, 152: 2, 157: 2, 179: 2, 31: 2, 191: 2, 37: 2, 486: 2, 19: 1, 22: 1, 25: 1, 285: 1, 1029: 1, 342: 1, 549: 1, 305: 1, 296: 1, 41: 1, 42: 1, 1070: 1, 49: 1, 51: 1, 566: 1, 692: 1, 59: 1, 1290: 1, 62: 1, 320: 1, 66: 1, 67: 1, 54: 1, 327: 1, 72: 1, 1353: 1, 77: 1, 83: 1, 340: 1, 86: 1, 267: 1, 527: 1, 2652: 1, 272: 1, 98: 1, 867: 1, 256: 1, 358: 1, 364: 1, 109: 1, 878: 1, 367: 1, 370: 1, 116: 1, 121: 1, 541: 1, 893: 1, 126: 1, 130: 1, 814: 1, 132: 1, 646: 1, 140: 1, 1036: 1, 1169: 1, 427: 1, 148: 1, 151: 1, 153: 1, 155: 1, 158: 1, 415: 1, 161: 1, 99: 1, 966: 1, 166: 1, 424: 1, 171: 1, 173: 1, 29: 1, 1716: 1, 73: 1, 185: 1, 193: 1, 3778: 1, 195: 1, 532: 1, 453: 1, 1734: 1, 199: 1, 968: 1, 716: 1, 1996: 1, 145: 1, 92: 1, 209: 1, 1490: 1, 3539: 1, 1749: 1, 728: 1, 222: 1, 481: 1, 1250: 1, 114: 1, 233: 1, 39: 1, 237: 1, 1008: 1, 168: 1, 595: 1, 1784: 1, 249: 1, 1530: 1, 554: 1, 264: 1, 455: 1})\n",
      "\n",
      "Label = num_voted_helpfulness\n",
      "\n",
      "Counter({0: 363, 2: 38, 1: 24, 3: 16, 4: 6, 6: 4, 16: 3, 18: 3, 5: 2, 9: 2, 23: 2, 13: 2, 20: 2, 804: 2, 1106: 2, 260: 1, 7: 1, 8: 1, 12: 1, 14: 1, 15: 1, 17: 1, 19: 1, 21: 1, 22: 1, 151: 1, 24: 1, 26: 1, 27: 1, 28: 1, 30: 1, 389: 1, 400: 1, 717: 1, 38: 1, 42: 1, 174: 1, 34: 1, 241: 1, 50: 1, 56: 1})\n",
      "\n",
      "Label = total_game_hours\n",
      "\n",
      "Counter({0.1: 10, 2.7: 7, 1.5: 6, 0.2: 6, 0.4: 5, 0.5: 4, 1.4: 4, 2.4: 4, 1.8: 3, 0.9: 3, 6.3: 3, 0.6: 3, 2.9: 2, 3.2: 2, 5.3: 2, 10.6: 2, 11.7: 2, 2.2: 2, 15.7: 2, 3.1: 2, 23.5: 2, 25.3: 2, 33.7: 2, 18.9: 2, 54.1: 2, 9.2: 2, 10.0: 2, 19.4: 2, 65.7: 2, 2.5: 2, 83.1: 2, 3.0: 2, 101.6: 2, 1387.1: 2, 2192.7: 2, 31.8: 2, 206.6: 2, 3.3: 2, 10.5: 2, 3.5: 2, 8.8: 2, 0.7: 2, 1.3: 2, 86.8: 2, 524.1: 2, 7.2: 2, 109.6: 2, 3.4: 2, 732.7: 2, 93.7: 2, 765.6: 2, 61.8: 2, 1.7: 2, 7.9: 2, 5.1: 2, 2939.3: 2, 5.2: 2, 4.2: 1, 6.1: 1, 8.3: 1, 9.4: 1, 1036.4: 1, 14.0: 1, 16.7: 1, 17.0: 1, 18.1: 1, 20.5: 1, 21.7: 1, 22.5: 1, 24.0: 1, 26.3: 1, 28.0: 1, 29.8: 1, 30.3: 1, 5.0: 1, 32.2: 1, 1060.2: 1, 6.0: 1, 38.1: 1, 177.4: 1, 1064.0: 1, 41.4: 1, 7.5: 1, 44.1: 1, 45.6: 1, 46.6: 1, 47.5: 1, 48.2: 1, 49.1: 1, 51.7: 1, 52.4: 1, 53.9: 1, 58.7: 1, 59.5: 1, 60.8: 1, 63.2: 1, 11.0: 1, 68.9: 1, 69.2: 1, 12.4: 1, 74.2: 1, 75.1: 1, 76.7: 1, 13.6: 1, 80.2: 1, 81.3: 1, 84.6: 1, 85.5: 1, 86.4: 1, 89.3: 1, 90.0: 1, 15.4: 1, 92.4: 1, 37.7: 1, 95.9: 1, 1121.1: 1, 2146.5: 1, 1124.9: 1, 102.8: 1, 107.5: 1, 108.4: 1, 18.5: 1, 110.6: 1, 111.7: 1, 112.7: 1, 2162.2: 1, 19.3: 1, 190.4: 1, 1142.4: 1, 120.2: 1, 20.7: 1, 4.5: 1, 21.2: 1, 129.4: 1, 132.7: 1, 22.7: 1, 135.9: 1, 23.3: 1, 13.7: 1, 146.9: 1, 148.9: 1, 25.4: 1, 152.5: 1, 154.0: 1, 26.5: 1, 14.1: 1, 163.1: 1, 165.2: 1, 2217.2: 1, 170.0: 1, 1195.0: 1, 173.2: 1, 3246.5: 1, 29.0: 1, 176.5: 1, 177.2: 1, 178.0: 1, 180.3: 1, 182.7: 1, 40.0: 1, 6.5: 1, 190.1: 1, 32.8: 1, 194.8: 1, 33.6: 1, 200.1: 1, 15.8: 1, 1226.9: 1, 204.8: 1, 205.8: 1, 2254.8: 1, 0.8: 1, 36.3: 1, 719.4: 1, 222.5: 1, 37.8: 1, 227.5: 1, 229.5: 1, 178.7: 1, 39.0: 1, 381.7: 1, 76.6: 1, 40.3: 1, 242.0: 1, 245.4: 1, 8.5: 1, 247.4: 1, 251.4: 1, 2.3: 1, 43.6: 1, 261.5: 1, 262.3: 1, 1289.5: 1, 45.1: 1, 1297.1: 1, 26.9: 1, 275.2: 1, 46.8: 1, 280.9: 1, 2330.8: 1, 283.5: 1, 286.7: 1, 48.6: 1, 1316.3: 1, 49.9: 1, 296.1: 1, 298.9: 1, 299.5: 1, 1325.2: 1, 307.0: 1, 308.3: 1, 309.3: 1, 311.2: 1, 1336.2: 1, 1337.5: 1, 315.2: 1, 317.8: 1, 318.2: 1, 1344.5: 1, 2116.2: 1, 324.1: 1, 54.9: 1, 79.5: 1, 331.0: 1, 381.1: 1, 1364.1: 1, 3.6: 1, 343.7: 1, 1574.3: 1, 5.8: 1, 349.7: 1, 1374.7: 1, 354.6: 1, 356.4: 1, 114.2: 1, 572.6: 1, 363.0: 1, 364.8: 1, 366.4: 1, 61.9: 1, 372.8: 1, 1398.9: 1, 377.6: 1, 1404.0: 1, 381.3: 1, 383.9: 1, 391.9: 1, 402.4: 1, 1427.3: 1, 405.2: 1, 406.9: 1, 1431.4: 1, 7.8: 1, 68.6: 1, 1435.3: 1, 412.0: 1, 1443.2: 1, 426.7: 1, 10.9: 1, 433.9: 1, 434.5: 1, 437.7: 1, 550.9: 1, 526.8: 1, 74.1: 1, 75.3: 1, 1.1: 1, 32.6: 1, 15.0: 1, 76.9: 1, 3319.8: 1, 1487.4: 1, 465.5: 1, 2467.0: 1, 1496.8: 1, 79.6: 1, 476.6: 1, 2525.8: 1, 2.1: 1, 33.9: 1, 487.0: 1, 764.7: 1, 491.2: 1, 1518.3: 1, 1530.2: 1, 507.0: 1, 1532.9: 1, 9.7: 1, 4.1: 1, 85.1: 1, 514.2: 1, 2568.6: 1, 521.2: 1, 256.4: 1, 938.7: 1, 600.4: 1, 1556.7: 1, 5.6: 1, 541.4: 1, 52.8: 1, 357.1: 1, 550.4: 1, 558.7: 1, 559.0: 1, 2.6: 1, 6.6: 1, 572.1: 1, 1.2: 1, 1599.1: 1, 96.9: 1, 31.0: 1, 587.5: 1, 190.5: 1, 11.8: 1, 599.1: 1, 7.1: 1, 601.0: 1, 54.2: 1, 37.6: 1, 1043.6: 1, 613.7: 1, 273.9: 1, 616.5: 1, 941.6: 1, 624.0: 1, 625.0: 1, 2.0: 1, 4737.9: 1, 643.6: 1, 649.7: 1, 1674.0: 1, 658.8: 1, 22.0: 1, 111.2: 1, 1695.0: 1, 677.0: 1, 31.7: 1, 683.4: 1, 685.3: 1, 115.1: 1, 40.1: 1, 23.0: 1, 698.2: 1, 4.6: 1, 118.7: 1, 1734.8: 1, 15.3: 1, 1217.6: 1, 717.9: 1, 718.1: 1, 1743.9: 1, 2138.0: 1, 1145.0: 1, 13.4: 1, 1316.0: 1, 1280.5: 1, 1775.8: 1, 25.0: 1, 126.0: 1, 2806.9: 1, 764.2: 1, 4.4: 1, 769.9: 1, 773.5: 1, 129.5: 1, 26.0: 1, 790.8: 1, 3866.3: 1, 14.6: 1, 839.6: 1, 15.6: 1, 482.0: 1, 1336.7: 1, 3927.6: 1, 20.8: 1, 869.9: 1, 2926.3: 1, 2.8: 1, 899.8: 1, 1925.7: 1, 405.9: 1, 906.2: 1, 152.8: 1, 918.5: 1, 922.0: 1, 667.9: 1, 65.5: 1, 1959.3: 1, 31.5: 1, 2985.2: 1, 938.3: 1, 5037.1: 1, 10.4: 1, 1979.0: 1, 74.6: 1, 1986.3: 1, 11.9: 1, 2006.0: 1, 18.4: 1, 67.2: 1, 1000.0: 1, 12.9: 1, 2034.8: 1, 169.1: 1, 170.4: 1, 6.8: 1})\n",
      "\n",
      "Label = num_badges\n",
      "\n",
      "Counter({3: 63, 4: 42, 5: 27, 2: 23, 6: 22, 10: 20, 7: 19, 8: 19, 12: 17, 11: 15, 16: 11, 9: 9, 13: 8, 15: 8, 14: 7, 20: 6, 37: 6, 39: 6, 17: 5, 24: 5, 1: 4, 22: 4, 25: 4, 26: 4, 40: 4, 18: 3, 19: 3, 21: 3, 23: 3, 30: 3, 33: 3, 34: 3, 27: 2, 29: 2, 31: 2, 35: 2, 36: 2, 43: 2, 56: 2, 32: 1, 38: 1, 41: 1, 42: 1, 45: 1, 46: 1, 47: 1, 50: 1, 53: 1, 57: 1, 58: 1, 61: 1, 64: 1, 68: 1, 583: 1, 73: 1, 74: 1, 141: 1, 85: 1, 95: 1, 100: 1, 105: 1, 110: 1, 380: 1, 125: 1})\n",
      "\n",
      "Label = num_achievements_possible\n",
      "\n",
      "Counter({167: 168, 518: 20, 29: 14, 88: 12, 60: 11, 65: 11, 70: 9, 75: 9, 147: 7, 333: 7, 35: 6, 178: 6, 21: 5, 83: 5, 287: 4, 33: 4, 36: 4, 52: 4, 56: 4, 57: 4, 50: 4, 2: 3, 5: 3, 10: 3, 20: 3, 48: 3, 80: 3, 132: 2, 13: 2, 17: 2, 25: 2, 47: 2, 49: 2, 30: 2, 58: 2, 84: 2, 1: 1, 3: 1, 8: 1, 11: 1, 12: 1, 14: 1, 15: 1, 22: 1, 24: 1, 27: 1, 414: 1, 32: 1, 38: 1, 42: 1, 45: 1, 51: 1, 54: 1, 67: 1, 69: 1, 71: 1, 76: 1, 77: 1, 87: 1, 259: 1, 105: 1, 106: 1, 285: 1, 251: 1})\n",
      "\n",
      "Label = num_found_funny\n",
      "\n",
      "Counter({0: 400, 1: 94, 4: 1, 33: 1, 23: 1})\n",
      "\n",
      "Label = num_found_unhelpful\n",
      "\n",
      "Counter({0: 390, 1: 54, 2: 11, 4: 4, 15: 4, 17: 4, 19: 4, 26: 4, 3: 3, 16: 3, 90: 2, 97: 2, 5: 1, 9: 1, 14: 1, 18: 1, 84: 1, 22: 1, 23: 1, 88: 1, 27: 1, 30: 1, 37: 1, 103: 1})\n",
      "\n"
     ]
    }
   ],
   "source": [
    "for label in dist_info_dict_Counter_Strike:\n",
    "    print(\"Label = {}\\n\".format(label))\n",
    "    print(\"{}\\n\".format(dist_info_dict_Counter_Strike[label]['labels_counter']))"
   ]
  }
 ],
 "metadata": {
  "kernelspec": {
   "display_name": "Python 3",
   "language": "python",
   "name": "python3"
  },
  "language_info": {
   "codemirror_mode": {
    "name": "ipython",
    "version": 3
   },
   "file_extension": ".py",
   "mimetype": "text/x-python",
   "name": "python",
   "nbconvert_exporter": "python",
   "pygments_lexer": "ipython3",
   "version": "3.4.3"
  }
 },
 "nbformat": 4,
 "nbformat_minor": 0
}
