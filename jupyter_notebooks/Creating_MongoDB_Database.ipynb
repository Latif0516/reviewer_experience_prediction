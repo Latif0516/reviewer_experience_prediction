{
 "cells": [
  {
   "cell_type": "markdown",
   "metadata": {},
   "source": [
    "# Creating a MongoDB Database\n",
    "- attempt to create a MongoBD database from review data"
   ]
  },
  {
   "cell_type": "code",
   "execution_count": 1,
   "metadata": {
    "collapsed": false
   },
   "outputs": [],
   "source": [
    "import pymongo"
   ]
  },
  {
   "cell_type": "code",
   "execution_count": 2,
   "metadata": {
    "collapsed": false
   },
   "outputs": [],
   "source": [
    "connection = pymongo.MongoClient('mongodb://localhost:27017')"
   ]
  },
  {
   "cell_type": "code",
   "execution_count": 19,
   "metadata": {
    "collapsed": true
   },
   "outputs": [],
   "source": [
    "# Make a new database for reviews and then a collection called reviews\n",
    "db = connection['reviews_project']\n",
    "reviews = db['reviews']"
   ]
  },
  {
   "cell_type": "code",
   "execution_count": 13,
   "metadata": {
    "collapsed": true
   },
   "outputs": [],
   "source": [
    "# Here's the function that we use to collect reviews\n",
    "import re\n",
    "from os.path import abspath\n",
    "from langdetect import detect\n",
    "from langdetect.lang_detect_exception import LangDetectException\n",
    "\n",
    "def get_reviews_for_game(file_path):\n",
    "    '''\n",
    "    Get list of reviews in a single game file.\n",
    "\n",
    "    :param file_path: path to reviews file\n",
    "    :type file_path: str\n",
    "    :returns: list of dicts\n",
    "    '''\n",
    "\n",
    "    reviews = []\n",
    "    lines = open(abspath(file_path)).readlines()\n",
    "    i = 0\n",
    "    while i + 1 < len(lines): # We need to get every 2-line couplet\n",
    "        # Extract the hours value and the review text from each 2-line\n",
    "        # sequence\n",
    "        try:\n",
    "            h = float(lines[i].split()[1].strip())\n",
    "            r = lines[i + 1].split(' ', 1)[1].strip()\n",
    "        except (ValueError, IndexError) as e:\n",
    "            i += 2\n",
    "            continue\n",
    "        # Skip reviews that don't have any characters\n",
    "        if not len(r):\n",
    "            i += 2\n",
    "            continue\n",
    "        # Skip reviews if they cannot be recognized as English\n",
    "        try:\n",
    "            if not detect(r) == 'en':\n",
    "                i += 2\n",
    "                continue\n",
    "        except LangDetectException:\n",
    "            i += 2\n",
    "            continue\n",
    "        # Now we append the 2-key dict to the end of reviews\n",
    "        reviews.append(dict(hours=h,\n",
    "                            review=r))\n",
    "        i += 2 # Increment i by 2 since we need to go to the next\n",
    "            # 2-line couplet\n",
    "    return reviews"
   ]
  },
  {
   "cell_type": "code",
   "execution_count": 5,
   "metadata": {
    "collapsed": false
   },
   "outputs": [
    {
     "name": "stdout",
     "output_type": "stream",
     "text": [
      "/home/mulhollandm2/reviews_project/reviewer_experience_prediction/util\r\n"
     ]
    }
   ],
   "source": [
    "import os\n",
    "!pwd"
   ]
  },
  {
   "cell_type": "code",
   "execution_count": 6,
   "metadata": {
    "collapsed": true
   },
   "outputs": [],
   "source": [
    "os.chdir('../data')"
   ]
  },
  {
   "cell_type": "code",
   "execution_count": 7,
   "metadata": {
    "collapsed": false
   },
   "outputs": [
    {
     "name": "stdout",
     "output_type": "stream",
     "text": [
      "/home/mulhollandm2/reviews_project/reviewer_experience_prediction/data\r\n"
     ]
    }
   ],
   "source": [
    "!pwd"
   ]
  },
  {
   "cell_type": "code",
   "execution_count": 8,
   "metadata": {
    "collapsed": false
   },
   "outputs": [
    {
     "name": "stdout",
     "output_type": "stream",
     "text": [
      "\u001b[00m\u001b[00mArma_3.txt\u001b[00m                           \u001b[00mGrand_Theft_Auto_V.txt\u001b[00m\r\n",
      "\u001b[00mCounter_Strike_Global_Offensive.txt\u001b[00m  \u001b[01;32m__init__.py\u001b[00m*\r\n",
      "\u001b[00mCounter_Strike.txt\u001b[00m                   \u001b[01;34m__pycache__\u001b[00m/\r\n",
      "\u001b[00mDota_2.txt\u001b[00m                           \u001b[00mSid_Meiers_Civilization_5.txt\u001b[00m\r\n",
      "\u001b[00mFootball_Manager_2015.txt\u001b[00m            \u001b[00mTeam_Fortress_2.txt\u001b[00m\r\n",
      "\u001b[00mGarrys_Mod.txt\u001b[00m                       \u001b[00mThe_Elder_Scrolls_V.txt\u001b[00m\r\n",
      "\u001b[00mget_review_data_271590.txt\u001b[00m           \u001b[00mWarframe.txt\u001b[00m\r\n",
      "\u001b[m"
     ]
    }
   ],
   "source": [
    "ls"
   ]
  },
  {
   "cell_type": "code",
   "execution_count": 14,
   "metadata": {
    "collapsed": true
   },
   "outputs": [],
   "source": [
    "# Let's get reviews from a game that has only a little bit of data\n",
    "rs = get_reviews_for_game('Football_Manager_2015.txt')"
   ]
  },
  {
   "cell_type": "code",
   "execution_count": 15,
   "metadata": {
    "collapsed": false
   },
   "outputs": [
    {
     "data": {
      "text/plain": [
       "[{'hours': 237.9,\n",
       "  'review': \"ive bought this game for many years and think this might be my last. firstly im not keen on spending 30 a year on something that could be released as an update. the lack of competition in the manager genre has made SI very lazy, to the point where they make one or two small changes and market it as a new game. here are some of the points where my problems lie -ridiculous injurys, in my first season there was not one point where i didnt have at least six players injured -how many times in real football does a team make all its subs then a player gets injured and they finish the game with 10 men? well in FM about one in three games but amazingly never to the computer opponent -its almost impossible to generate any momentum anymore in FM, you will be playing well then suddenly lose for no reason -football has always been in the headlines for footballers astronomical wages, thank god its not like FM, youth players who have never made a first team appearance asking for 40k! agents of average players asking for 5mill in fees! -instead of improving things like the ability to see how your players have performed in training during the week to help your decisions on who to play SI add 'tunnel interviews'?!? i can imagine the meeting at SI 'so what have the fans on the forums been asking for' 'well their all desperate for more press interviews in the game, they just dont feel theres enough' as fans of the series we should treat SI like an alchoholic relative and not hand over money to them to continue their bad habits, in this case their bad habits being treating fans like cash-cows that they can just make sub-standard games for and rely on fan loyalty\"},\n",
       " {'hours': 113.0,\n",
       "  'review': 'I have played every iteration of the Football Manager series, long before I even used Steam and I have to say that Football Manager 2015 has some of the most glaring issues I have seen within the series. Manager customization has been inserted and is a step in the right direction, but not entirely. So, you will get to \"customize\" the stats of your manager. Are you more laid back or more technical? The option to customize and edit stats as such as adaptability and understand of things like attacking, defensive, etc are there. However, i don\\'t entirely know what impact they have on the game as In my 9 hours of playing I haven\\'t really noticed it or came across them again. I also do not know if these stats improve or worsen over time, depending on what you do - as the game does not tell you, even in the very brief tutorials. The new user interface layout is amazing and is long overdue. I actually found that I stopped playing Football Manager 2014 because of the UI. It was clunky, it was a mess and I had no idea where anything was. It was all just text and drop down menu\\'s. Now there is a nice sidebar which provides links that take you to the most important and most used parts of the game as such as tactics, scouting, team, etc. Purchasing players is odd this year. Sometimes it is extremely easy to buy a player and others extremely difficult, for no reason - even if you are trying to purchase an already transfer listed player or a reserve player getting no games at his current club. The old \"Let me pay 100m on a 48 month deal\" STILL works. You can buy any player that wants to come to your club if you use this method and it totally breaks the entire game. My biggest gripe and the sole reason why I need to give a bad recommendation to this game: The AI and the match engine. The AI in Football Manager 2015 is the worst I have ever seen in the series. If you actually sit and watch the match unfold you will see some of the following: - Players running for a ball and stopping for no reason - The goalkeeper saving the ball, standing back and staring at the ball, which is touching his feet - A Player will chase the ball down the wing at full speed, slow down and allow a opposing team player to catch up and take the ball. - Opposing team player has the ball and stands still. All of your players are polite enough to let him stand still. - Outrages tackles: Ball is moving out of your box, opposing striker is running out of your box. There is no threat. Defender will slide tackle him as he is leaving the box and give away a penalty. - CB\\'s that seem to play as strikers, leaving entire gaps in your defence. Red cards, injuries and own goals - EVERYWHERE. I have not went through a game yet where there has not been at least one own goal either by my team or the opposing team. They are everywhere. Red cards and injuries happen in abundance - I have had 10 players injured within the first month of a season even though I had average training and not too many games in quick succession. Tactics do not work as they are intended. If you sit down and take the time to read and learn how to create tactics, you will be so frustrated. The game gives you descriptions of what each position and instruction does, in depth. This is great. However, they do not work as they say. Short passing, retaining position and not punting the ball up the park? Team constantly just fires the ball all over the park with next to no short passing. Push higher up the park? Team sits deep. Because of these issues, scorelines can be ridiculous. In my first 5 games of the season there was a combined number of 30 goals between me and the other team. My first game finished 5-4 and my second was 6-3. This all leads to a very frustrating experience overall. Every year SI always say \"we are improving the match engine\". Where are these improvements? I have not seen any improvements, just more bugs and terrible AI. I love this series and I am a huge football fan, but I feel obliged to tell fellow consumers not to purchase this product until it vastly improves.'},\n",
       " {'hours': 1138.7,\n",
       "  'review': \"I've been a huge fan of FM going way back before the big split that led to Championship Manager and Football Manager. Since I started this game, I've won the league once and the treble in another season. I'm in my fourth season. So it's not like I'm whinging because I can't win. But there is clearly something wrong with the matchday engine. The most succinct way I can put it is that it's like they've decided Brazil vs Germany from the last WC is commonplace. I'll keep 8 straight clean sheets (or something like that) then get beaten by a promoted side 6-0, or 7-5! What's more, I've noticed other games in the league finishing 8-6, and stuff like that. Since I started counting, in three seasons I've seen goalkeepers chipped from the touchline or from inside the defending half 27 TIMES!!! The game needs a lot of work. It's a winning franchise; so, all they need to do is fix it. But don't spend your money on it until they do. They have released a very dodgy product. I've never seen an FM release like it. Just makes the game seem ridiculous, even when you're winning. And that's not why people play this game, right?\"}]"
      ]
     },
     "execution_count": 15,
     "metadata": {},
     "output_type": "execute_result"
    }
   ],
   "source": [
    "# Here's the first few reviews\n",
    "rs[:3]"
   ]
  },
  {
   "cell_type": "code",
   "execution_count": 21,
   "metadata": {
    "collapsed": false
   },
   "outputs": [],
   "source": [
    "# Now, let's try to insert a review into the collection\n",
    "r = rs[0]\n",
    "result = reviews.insert(r)"
   ]
  },
  {
   "cell_type": "code",
   "execution_count": 24,
   "metadata": {
    "collapsed": false
   },
   "outputs": [],
   "source": [
    "# Success! It worked! I confirmed as much by actually checking in the mongo shell"
   ]
  },
  {
   "cell_type": "code",
   "execution_count": 25,
   "metadata": {
    "collapsed": true
   },
   "outputs": [],
   "source": [
    "# Now, let's take that review out of the collection and do this 4rell\n",
    "reviews.drop()"
   ]
  },
  {
   "cell_type": "code",
   "execution_count": 26,
   "metadata": {
    "collapsed": false
   },
   "outputs": [
    {
     "data": {
      "text/plain": [
       "[]"
      ]
     },
     "execution_count": 26,
     "metadata": {},
     "output_type": "execute_result"
    }
   ],
   "source": [
    "list(reviews.find())"
   ]
  },
  {
   "cell_type": "code",
   "execution_count": 27,
   "metadata": {
    "collapsed": true
   },
   "outputs": [],
   "source": [
    "# Let's add all the reviews this time, but also we'll add another key for the game name\n",
    "# and another one for the appid\n",
    "r = None\n",
    "for r in rs:\n",
    "    r['name'] = 'Football_Manager_2015.txt'\n",
    "    r['appid'] = '295270'\n",
    "    reviews.insert(r)"
   ]
  },
  {
   "cell_type": "code",
   "execution_count": 28,
   "metadata": {
    "collapsed": false
   },
   "outputs": [
    {
     "data": {
      "text/plain": [
       "[{'_id': ObjectId('5538a86fc134cf71c3fffdf7'),\n",
       "  'appid': '295270',\n",
       "  'hours': 237.9,\n",
       "  'name': 'Football_Manager_2015.txt',\n",
       "  'review': \"ive bought this game for many years and think this might be my last. firstly im not keen on spending 30 a year on something that could be released as an update. the lack of competition in the manager genre has made SI very lazy, to the point where they make one or two small changes and market it as a new game. here are some of the points where my problems lie -ridiculous injurys, in my first season there was not one point where i didnt have at least six players injured -how many times in real football does a team make all its subs then a player gets injured and they finish the game with 10 men? well in FM about one in three games but amazingly never to the computer opponent -its almost impossible to generate any momentum anymore in FM, you will be playing well then suddenly lose for no reason -football has always been in the headlines for footballers astronomical wages, thank god its not like FM, youth players who have never made a first team appearance asking for 40k! agents of average players asking for 5mill in fees! -instead of improving things like the ability to see how your players have performed in training during the week to help your decisions on who to play SI add 'tunnel interviews'?!? i can imagine the meeting at SI 'so what have the fans on the forums been asking for' 'well their all desperate for more press interviews in the game, they just dont feel theres enough' as fans of the series we should treat SI like an alchoholic relative and not hand over money to them to continue their bad habits, in this case their bad habits being treating fans like cash-cows that they can just make sub-standard games for and rely on fan loyalty\"},\n",
       " {'_id': ObjectId('5538a963c134cf71c3fffdf9'),\n",
       "  'appid': '295270',\n",
       "  'hours': 1138.7,\n",
       "  'name': 'Football_Manager_2015.txt',\n",
       "  'review': \"I've been a huge fan of FM going way back before the big split that led to Championship Manager and Football Manager. Since I started this game, I've won the league once and the treble in another season. I'm in my fourth season. So it's not like I'm whinging because I can't win. But there is clearly something wrong with the matchday engine. The most succinct way I can put it is that it's like they've decided Brazil vs Germany from the last WC is commonplace. I'll keep 8 straight clean sheets (or something like that) then get beaten by a promoted side 6-0, or 7-5! What's more, I've noticed other games in the league finishing 8-6, and stuff like that. Since I started counting, in three seasons I've seen goalkeepers chipped from the touchline or from inside the defending half 27 TIMES!!! The game needs a lot of work. It's a winning franchise; so, all they need to do is fix it. But don't spend your money on it until they do. They have released a very dodgy product. I've never seen an FM release like it. Just makes the game seem ridiculous, even when you're winning. And that's not why people play this game, right?\"},\n",
       " {'_id': ObjectId('5538a963c134cf71c3fffdfb'),\n",
       "  'appid': '295270',\n",
       "  'hours': 372.3,\n",
       "  'name': 'Football_Manager_2015.txt',\n",
       "  'review': 'Too realistic. My arsenal team is getting too many injuries.'}]"
      ]
     },
     "execution_count": 28,
     "metadata": {},
     "output_type": "execute_result"
    }
   ],
   "source": [
    "# Now, there should be a lot of stuff in the collection, so let's check it out\n",
    "list(reviews.find())[:3]"
   ]
  },
  {
   "cell_type": "code",
   "execution_count": 30,
   "metadata": {
    "collapsed": false
   },
   "outputs": [
    {
     "data": {
      "text/plain": [
       "[{'_id': ObjectId('5538a963c134cf71c3fffe04'),\n",
       "  'appid': '295270',\n",
       "  'hours': 37.8,\n",
       "  'name': 'Football_Manager_2015.txt',\n",
       "  'review': 'Well this is it, the last FM game I\\'ll ever buy for full price. It\\'s not a bad game on it\\'s own, but charging AAA price for this yearly database update, and on top of that shamelessly charging 4.5 euros for the ingame editor is the last straw for me. At least give the pre-order buyers a ~40% discount and a free ingame editor, because your yearly rehash is highly overpriced right now, SI/SEGA. Honestly I don\\'t know what I was expecting out of this year\\'s game, it has been exactly the same for what, 5-6 years now? and that\\'s only if you count the annoying interviews and the 3D engine, take those away, and it\\'s the same exact game I played 12 years ago. That would not necessarily be a bad thing if they didn\\'t ask for so much money. The things the game gets wrong, as SI would put it, include (but are not limited to): The economy is screwed up still. The poor, low reputation clubs still ask that you pay more than the player\\'s market value, yet they set your club with their real world budget and debts! They really don\\'t give a damn, it\\'s all about rich clubs and England as usual (because the Premier League is the only important one. Out of 100+ leagues, 100% of people play in the Premier League, right?). The 3D match engine still looks and acts janky as all hell, defenders will just stand next to the loose ball while the opposition striker is charging in at full speed. The amount of goals scored is \"currently\" too high to be remotely realistic. I never had a game without scoring, only 3 without conceding, I beat one team 10-3, played 15 competitive matches, scored 51, and conceded 24 goals, so 75 goals in 15 matches, if I count the 4 friendlies it gets even more ridiculous. The game still has the cheating match engine, you lose to a weaker team, you know it was set up, so you reload the game to test it, you lose again, maybe 10 reloads later you get a draw, but you won\\'t win until you give up the 3D engine and switch to text mode, or til you... that\\'s right folks, until you buy the ingame editor and fix the game. :) - call me a noob and I\\'ll just delete your comment (and assassinate you when you aren\\'t looking), I\\'ve been playing the game for 12 years, and I know my tactics and training setups. Wouldn\\'t be fair if I didn\\'t say anything positive about this years changes, would it now? - I like the new interface. As for the recommendation, If you own the last years game, or 2013, 2012... 2004 don\\'t buy this game, the semi updated 3D engine has nothing good to offer, and the rest of the game is totally the same, the database update is not worth the money until the game goes 75% off. If you don\\'t own any FM games, but would like to buy one, get it at 50% off. If you\\'re like me and pre-ordered it, go to the steam store and look at games you could have bought instead, and cry. Or keep playing this, they\\'re bound to patch the stupid out of it at some point, right... right? Finally, here are my scores for the game: Full price score - 5/10 - Absolutely not worth 50 of any world famous currency (except Rubles maybe). 50% off - 7/10 - If you\\'re shaking and FIFA 15 doesn\\'t help, you might want to give FM 15 a shot. 75% off - 8/10 - Get it and enjoy it. By the time it goes down to 75% off, the patches should soften the rough edges, you\\'ll be getting the best version of this years game at a reasonable price.'},\n",
       " {'_id': ObjectId('5538a963c134cf71c3fffe05'),\n",
       "  'appid': '295270',\n",
       "  'hours': 38.8,\n",
       "  'name': 'Football_Manager_2015.txt',\n",
       "  'review': \"I love the football manager series ,this game has potential but it has some serious teething issues and needs updated. The high score lines and players getting injured every game is very unrealistic and not up to usual standard. I've been playing FM since the start and was put off by the mix reviews on here but decided to try it for myself . I dont understand how people can honestly enjoy or reccommend this game in its current state? Pros- Looks good and performance is fast. New interface is good and easy to use once you get used to it. Scouting has been improved. Cons- Far too many injuries ,at least one per game leading to a selection crisis. No matter what team or league I pick. Far too many high score lines, 4-4, 6-4, 7-5 , 4-3 , even against lower league teams. Goal keepers are slow to get up after a save. Defending is poor/non existent no matter what team or tactics you deploy , I have yet to keep a clean sheet. Far too many goals from long range against you. Far too many goals conceded from crosses. One game with Everton vs New England Revelation I had 30 shots on target and scored 2 goals. They had 6 and they beat me 6-2! Its not very realistic and what I expect from a Football manager game . I can put up with the high scorelines, but the constant injuries is infuriating. No matter what team or league or the set up in training etc , even the reserves seem to pick up injuries . You shouldnt have a selection headache due to injury a few games into the season. It has potential but Im only a few hours in and these issues have put me off. I expected to be lost in the game and have 20 plus hours gameplay by now! I simply cannot reccomend this until they address the issues.\"},\n",
       " {'_id': ObjectId('5538a963c134cf71c3fffe07'),\n",
       "  'appid': '295270',\n",
       "  'hours': 37.4,\n",
       "  'name': 'Football_Manager_2015.txt',\n",
       "  'review': 'AN IMPORTANT PUBLIC SERVICE ANNOUNCEMENT: Do NOT, I repeat do NOT, buy this ing piece of utter horse , under ANY, I repeat ANY, circumstances. The match engine is ed beyond all recognition. It WILL drive you insane thinking that the game is scripted, but it honestly is not. It is just so ineptly designed that even now, after years of releasing these games, defenders will still trap the ball, then run away from it, allowing the opposition free goals. Why is this happening? Laziness and complacency on the part of the developers. DO NOT spend your money on this ing shithouse unless you feel justified in feeding their evil empire. I found out the hard way. You have been warned.'},\n",
       " {'_id': ObjectId('5538a963c134cf71c3fffe15'),\n",
       "  'appid': '295270',\n",
       "  'hours': 36.5,\n",
       "  'name': 'Football_Manager_2015.txt',\n",
       "  'review': \"Do not buy this game!! Check my games list, you will see that I once loved FM games, not anymore and never again will I buy one. This is the type of unfinished game that Steam need to ban from being sold. Certain key components don't even work at all, a small example is that there are no penalties from handballs right now. The game fails in every way it could, the ME is a poor imitation of a crossing and set pieces simulator not a football simulator. It is worse than the last three years versions upon release and I can assure you that they all had bugs and issues, not this many or this bad. If you really need more just go to the forums and read, not many that will claim this game is anywhere near in a playable state, maybe in 7-8 months from the time I write this SI will have released a patch that makes it something like a game. Oh if that wasn't enough beware, SI and Sega are not co-operating and are in fact sending customers with issues back and forth between them. (not me, but check forum if you care) Also be aware that SI are deleting the vast majority of 'negative' posts, claiming 'it will affect the way our customers play the game.' Which is of course true, they wouldn't play it because they would know whats wrong with it.\"},\n",
       " {'_id': ObjectId('5538a963c134cf71c3fffe20'),\n",
       "  'appid': '295270',\n",
       "  'hours': 18.1,\n",
       "  'name': 'Football_Manager_2015.txt',\n",
       "  'review': \"it's not improving itself for 3 years.\"}]"
      ]
     },
     "execution_count": 30,
     "metadata": {},
     "output_type": "execute_result"
    }
   ],
   "source": [
    "# This is exciting!\n",
    "# Let's see if we can find review entries with hours less than 50\n",
    "list(reviews.find({'hours': {'$lt': 50}}))[:5]"
   ]
  },
  {
   "cell_type": "code",
   "execution_count": 31,
   "metadata": {
    "collapsed": true
   },
   "outputs": [],
   "source": [
    "# Next: let's add in reviews from other games"
   ]
  }
 ],
 "metadata": {
  "kernelspec": {
   "display_name": "Python 3",
   "language": "python",
   "name": "python3"
  },
  "language_info": {
   "codemirror_mode": {
    "name": "ipython",
    "version": 3
   },
   "file_extension": ".py",
   "mimetype": "text/x-python",
   "name": "python",
   "nbconvert_exporter": "python",
   "pygments_lexer": "ipython3",
   "version": "3.4.3"
  }
 },
 "nbformat": 4,
 "nbformat_minor": 0
}
